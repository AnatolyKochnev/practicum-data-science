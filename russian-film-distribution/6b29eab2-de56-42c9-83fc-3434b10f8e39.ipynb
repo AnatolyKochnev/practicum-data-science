{
 "cells": [
  {
   "cell_type": "markdown",
   "metadata": {
    "id": "sIfNaMOxgFyK"
   },
   "source": [
    "## Исследование данных о российском кинопрокате\n",
    "\n"
   ]
  },
  {
   "cell_type": "markdown",
   "metadata": {},
   "source": [
    "<b>Цель исследования:</b>\n",
    "<br/>\n",
    "Заказчик исследования — Министерство культуры Российской Федерации. \n",
    "Необходимо изучить рынок российского кинопроката и выявить текущие тренды. Также, требуется ответить на вопрос: интересны ли зрителю фильмы, получившие господдержку.\n",
    "<br/>\n",
    "<br/>\n",
    "<b>Ход исследования:</b>\n",
    "<br/>\n",
    "Информация для анализа получена с портала открытых данных Министерства культуры. Набор данных содержит информацию о прокатных удостоверениях, сборах и государственной поддержке фильмов, а также информацию с сайта КиноПоиск. Исходные данные состоят из нескольких таблиц, которые потребуется объединить. Также, для анализа потребуется вычислить дополнительную информацию: год проката, имя и фамиля главного режиссёра, основной жанр фильма, доля господдержки в бюджете фильма.\n",
    "<br/>\n",
    "<br/>\n",
    "Этапы исследования:\n",
    "* Объединение данных.\n",
    "* Обзор данных.\n",
    "* Предобработка данных.\n",
    "* Дополнение данных информацией, необходимой для дальнейшего анализа.\n",
    "* Анализ динамики кинопроката.\n",
    "* Анализ влияния возрастных ограничений на сборы.\n",
    "* Анализ успешности фильмов с господдержкой.\n",
    "* Общий вывод."
   ]
  },
  {
   "cell_type": "markdown",
   "metadata": {
    "id": "3bSlkCsbgFyL"
   },
   "source": [
    "### Шаг 1. Откройте файлы с данными и объедините их в один датафрейм. \n",
    "\n",
    "Объедините данные таким образом, чтобы все объекты из датасета `mkrf_movies` обязательно вошли в получившийся датафрейм. \n",
    "\n",
    "<div id=\"accordion\">\n",
    "    <div class=\"card\">\n",
    "        <div class=\"card-header\" id=\"headingThree\">\n",
    "            <button class=\"btn btn-link collapsed\" data-toggle=\"collapse\" data-target=\"#collapseHint_0\" aria-expanded=\"false\" aria-controls=\"collapseHint_0\">Подсказка</button>\n",
    "        </div>\n",
    "        <div id=\"collapseHint_0\" class=\"collapse\" aria-labelledby=\"headingThree\" data-parent=\"#accordion\">\n",
    "            <div class=\"card-body\">\n",
    "Обратите внимание на тип данных столбца, по которому будете соединять датафреймы. Тип данных этих столбцов должен быть одинаковым в обоих датафреймах.\n",
    "            </div>\n",
    "        </div>\n",
    "    </div>\n",
    "</div>"
   ]
  },
  {
   "cell_type": "code",
   "execution_count": 1,
   "metadata": {
    "id": "dw87FlzMgFyM"
   },
   "outputs": [
    {
     "name": "stdout",
     "output_type": "stream",
     "text": [
      "movies: type: object , количество: 7486 , пустые: 0\n",
      "shows: type: int64 , количество: 3158 , пустые: 0\n"
     ]
    }
   ],
   "source": [
    "import pandas as pd\n",
    "import numpy as np\n",
    "\n",
    "movies = pd.read_csv('/datasets/mkrf_movies.csv')\n",
    "shows = pd.read_csv('/datasets/mkrf_shows.csv')\n",
    "\n",
    "#Необходимо проверить колонки, по которым будет объединение:\n",
    "print('movies: type:', movies['puNumber'].dtype.name, ', количество:', movies['puNumber'].count(), ', пустые:', movies['puNumber'].isna().sum())\n",
    "print('shows: type:', shows['puNumber'].dtype.name, ', количество:', shows['puNumber'].count(), ', пустые:', shows['puNumber'].isna().sum())"
   ]
  },
  {
   "cell_type": "code",
   "execution_count": 2,
   "metadata": {
    "scrolled": false
   },
   "outputs": [
    {
     "data": {
      "text/plain": [
       "array([' 111004112', '111000110', '111000111', ..., '231001012',\n",
       "       '231001111', 'нет'], dtype=object)"
      ]
     },
     "execution_count": 2,
     "metadata": {},
     "output_type": "execute_result"
    }
   ],
   "source": [
    "#С пустотами в shows проблем нет\n",
    "#Но в movies тип puNumber - object. Необходимо выяснить, почему не int\n",
    "movies.sort_values('puNumber')['puNumber'].unique()"
   ]
  },
  {
   "cell_type": "code",
   "execution_count": 3,
   "metadata": {},
   "outputs": [
    {
     "name": "stdout",
     "output_type": "stream",
     "text": [
      "0\n"
     ]
    },
    {
     "data": {
      "text/plain": [
       "1"
      ]
     },
     "execution_count": 3,
     "metadata": {},
     "output_type": "execute_result"
    }
   ],
   "source": [
    "#'Нет' можно конвертировать в '0', но нужно убедиться, что в shows нет такого номера \n",
    "print(shows.query('puNumber == 0')['puNumber'].count())\n",
    "#и что \"Нет\" в одном экземпляре:\n",
    "movies.query('puNumber == \"нет\"')['puNumber'].count()"
   ]
  },
  {
   "cell_type": "code",
   "execution_count": 4,
   "metadata": {},
   "outputs": [],
   "source": [
    "#'Нет' конвертировать в '0'. \n",
    "#Убрать пробелы в значениях.\n",
    "#После этого можно конвертировать в int.\n",
    "def fix_pu_number(pu_number):\n",
    "    if (pu_number == 'нет'):\n",
    "        return 0;\n",
    "    return pu_number.strip();\n",
    "\n",
    "movies['puNumber'] = movies['puNumber'].apply(fix_pu_number).astype('int');"
   ]
  },
  {
   "cell_type": "code",
   "execution_count": 5,
   "metadata": {},
   "outputs": [],
   "source": [
    "#В shows точно есть данные не по всем фильмам. \n",
    "#Поэтому, после объединения, часть данных по сборам будет пустой.\n",
    "#Данные по сборам фильмов, которые не вошли в movies, можно отбросить.\n",
    "data = movies.merge(shows, how='left', on='puNumber')"
   ]
  },
  {
   "cell_type": "code",
   "execution_count": 6,
   "metadata": {
    "scrolled": true
   },
   "outputs": [
    {
     "name": "stdout",
     "output_type": "stream",
     "text": [
      "Изменения в исходных данных movies: \n",
      "Всего значений box_office:  3158\n",
      "Перенесено значений box_office: 3158\n"
     ]
    }
   ],
   "source": [
    "#Проверка того, что данные из movies не были повреждены при слиянии:\n",
    "print('Изменения в исходных данных movies: ')\n",
    "data.drop('box_office', axis=1).compare(movies)\n",
    "\n",
    "#Проверка того, что все данные из shows перенеслись в data:\n",
    "shows_numbers = shows['puNumber']\n",
    "print('Всего значений box_office: ', shows_numbers.count())\n",
    "print('Перенесено значений box_office:', data.query('puNumber in @shows_numbers')['box_office'].notna().sum())"
   ]
  },
  {
   "cell_type": "code",
   "execution_count": 7,
   "metadata": {},
   "outputs": [],
   "source": [
    "data = data.rename(columns={ 'puNumber': 'pu_number' })"
   ]
  },
  {
   "cell_type": "markdown",
   "metadata": {
    "id": "KLDGpPG0gFyM"
   },
   "source": [
    "### Шаг 2. Предобработка данных"
   ]
  },
  {
   "cell_type": "markdown",
   "metadata": {
    "id": "ssWwKXsxgFyO"
   },
   "source": [
    "#### Шаг 2.1. Проверьте типы данных\n",
    "\n",
    "- Проверьте типы данных в датафрейме и преобразуйте их там, где это необходимо."
   ]
  },
  {
   "cell_type": "code",
   "execution_count": 8,
   "metadata": {
    "id": "kVGSplJOgFyO",
    "scrolled": false
   },
   "outputs": [
    {
     "name": "stdout",
     "output_type": "stream",
     "text": [
      "<class 'pandas.core.frame.DataFrame'>\n",
      "Int64Index: 7486 entries, 0 to 7485\n",
      "Data columns (total 16 columns):\n",
      " #   Column                 Non-Null Count  Dtype  \n",
      "---  ------                 --------------  -----  \n",
      " 0   title                  7486 non-null   object \n",
      " 1   pu_number              7486 non-null   int64  \n",
      " 2   show_start_date        7486 non-null   object \n",
      " 3   type                   7486 non-null   object \n",
      " 4   film_studio            7468 non-null   object \n",
      " 5   production_country     7484 non-null   object \n",
      " 6   director               7477 non-null   object \n",
      " 7   producer               6918 non-null   object \n",
      " 8   age_restriction        7486 non-null   object \n",
      " 9   refundable_support     332 non-null    float64\n",
      " 10  nonrefundable_support  332 non-null    float64\n",
      " 11  budget                 332 non-null    float64\n",
      " 12  financing_source       332 non-null    object \n",
      " 13  ratings                6519 non-null   object \n",
      " 14  genres                 6510 non-null   object \n",
      " 15  box_office             3158 non-null   float64\n",
      "dtypes: float64(4), int64(1), object(11)\n",
      "memory usage: 994.2+ KB\n"
     ]
    },
    {
     "data": {
      "text/html": [
       "<div>\n",
       "<style scoped>\n",
       "    .dataframe tbody tr th:only-of-type {\n",
       "        vertical-align: middle;\n",
       "    }\n",
       "\n",
       "    .dataframe tbody tr th {\n",
       "        vertical-align: top;\n",
       "    }\n",
       "\n",
       "    .dataframe thead th {\n",
       "        text-align: right;\n",
       "    }\n",
       "</style>\n",
       "<table border=\"1\" class=\"dataframe\">\n",
       "  <thead>\n",
       "    <tr style=\"text-align: right;\">\n",
       "      <th></th>\n",
       "      <th>title</th>\n",
       "      <th>pu_number</th>\n",
       "      <th>show_start_date</th>\n",
       "      <th>type</th>\n",
       "      <th>film_studio</th>\n",
       "      <th>production_country</th>\n",
       "      <th>director</th>\n",
       "      <th>producer</th>\n",
       "      <th>age_restriction</th>\n",
       "      <th>refundable_support</th>\n",
       "      <th>nonrefundable_support</th>\n",
       "      <th>budget</th>\n",
       "      <th>financing_source</th>\n",
       "      <th>ratings</th>\n",
       "      <th>genres</th>\n",
       "      <th>box_office</th>\n",
       "    </tr>\n",
       "  </thead>\n",
       "  <tbody>\n",
       "    <tr>\n",
       "      <th>0</th>\n",
       "      <td>Открытый простор</td>\n",
       "      <td>221048915</td>\n",
       "      <td>2015-11-27T12:00:00.000Z</td>\n",
       "      <td>Художественный</td>\n",
       "      <td>Тачстоун Пикчерз, Кобальт Пикчерз, Бикон Пикче...</td>\n",
       "      <td>США</td>\n",
       "      <td>Кевин Костнер</td>\n",
       "      <td>Дэвид Валдес, Кевин Костнер, Джейк Эбертс</td>\n",
       "      <td>«18+» - запрещено для детей</td>\n",
       "      <td>NaN</td>\n",
       "      <td>NaN</td>\n",
       "      <td>NaN</td>\n",
       "      <td>NaN</td>\n",
       "      <td>7.2</td>\n",
       "      <td>боевик,драма,мелодрама</td>\n",
       "      <td>NaN</td>\n",
       "    </tr>\n",
       "    <tr>\n",
       "      <th>1</th>\n",
       "      <td>Особо важное задание</td>\n",
       "      <td>111013716</td>\n",
       "      <td>2016-09-13T12:00:00.000Z</td>\n",
       "      <td>Художественный</td>\n",
       "      <td>Киностудия \"Мосфильм\"</td>\n",
       "      <td>СССР</td>\n",
       "      <td>Е.Матвеев</td>\n",
       "      <td>NaN</td>\n",
       "      <td>«6+» - для детей старше 6 лет</td>\n",
       "      <td>NaN</td>\n",
       "      <td>NaN</td>\n",
       "      <td>NaN</td>\n",
       "      <td>NaN</td>\n",
       "      <td>6.6</td>\n",
       "      <td>драма,военный</td>\n",
       "      <td>NaN</td>\n",
       "    </tr>\n",
       "    <tr>\n",
       "      <th>2</th>\n",
       "      <td>Особо опасен</td>\n",
       "      <td>221038416</td>\n",
       "      <td>2016-10-10T12:00:00.000Z</td>\n",
       "      <td>Художественный</td>\n",
       "      <td>Юниверсал Пикчерз, Кикстарт Продакшнз, Марк Пл...</td>\n",
       "      <td>США</td>\n",
       "      <td>Тимур Бекмамбетов</td>\n",
       "      <td>Джим Лемли, Джейсон Нетер, Марк Е.Платт, Яйн Смит</td>\n",
       "      <td>«18+» - запрещено для детей</td>\n",
       "      <td>NaN</td>\n",
       "      <td>NaN</td>\n",
       "      <td>NaN</td>\n",
       "      <td>NaN</td>\n",
       "      <td>6.8</td>\n",
       "      <td>фантастика,боевик,триллер</td>\n",
       "      <td>NaN</td>\n",
       "    </tr>\n",
       "    <tr>\n",
       "      <th>3</th>\n",
       "      <td>Особо опасен</td>\n",
       "      <td>221026916</td>\n",
       "      <td>2016-06-10T12:00:00.000Z</td>\n",
       "      <td>Художественный</td>\n",
       "      <td>Юниверсал Пикчерз, Кикстарт Продакшнз, Марк Пл...</td>\n",
       "      <td>США</td>\n",
       "      <td>Тимур Бекмамбетов</td>\n",
       "      <td>Джим Лемли, Джейсон Нетер, Марк Е.Платт, Яйн Смит</td>\n",
       "      <td>«18+» - запрещено для детей</td>\n",
       "      <td>NaN</td>\n",
       "      <td>NaN</td>\n",
       "      <td>NaN</td>\n",
       "      <td>NaN</td>\n",
       "      <td>6.8</td>\n",
       "      <td>фантастика,боевик,триллер</td>\n",
       "      <td>NaN</td>\n",
       "    </tr>\n",
       "    <tr>\n",
       "      <th>4</th>\n",
       "      <td>Особо опасен</td>\n",
       "      <td>221030815</td>\n",
       "      <td>2015-07-29T12:00:00.000Z</td>\n",
       "      <td>Художественный</td>\n",
       "      <td>Юниверсал Пикчерз, Кикстарт Продакшнз, Марк Пл...</td>\n",
       "      <td>США</td>\n",
       "      <td>Тимур Бекмамбетов</td>\n",
       "      <td>Джим Лемли, Джейсон Нетер, Марк Е.Платт, Яйн Смит</td>\n",
       "      <td>«18+» - запрещено для детей</td>\n",
       "      <td>NaN</td>\n",
       "      <td>NaN</td>\n",
       "      <td>NaN</td>\n",
       "      <td>NaN</td>\n",
       "      <td>6.8</td>\n",
       "      <td>фантастика,боевик,триллер</td>\n",
       "      <td>NaN</td>\n",
       "    </tr>\n",
       "  </tbody>\n",
       "</table>\n",
       "</div>"
      ],
      "text/plain": [
       "                  title  pu_number           show_start_date            type  \\\n",
       "0      Открытый простор  221048915  2015-11-27T12:00:00.000Z  Художественный   \n",
       "1  Особо важное задание  111013716  2016-09-13T12:00:00.000Z  Художественный   \n",
       "2          Особо опасен  221038416  2016-10-10T12:00:00.000Z  Художественный   \n",
       "3          Особо опасен  221026916  2016-06-10T12:00:00.000Z  Художественный   \n",
       "4          Особо опасен  221030815  2015-07-29T12:00:00.000Z  Художественный   \n",
       "\n",
       "                                         film_studio production_country  \\\n",
       "0  Тачстоун Пикчерз, Кобальт Пикчерз, Бикон Пикче...                США   \n",
       "1                              Киностудия \"Мосфильм\"               СССР   \n",
       "2  Юниверсал Пикчерз, Кикстарт Продакшнз, Марк Пл...                США   \n",
       "3  Юниверсал Пикчерз, Кикстарт Продакшнз, Марк Пл...                США   \n",
       "4  Юниверсал Пикчерз, Кикстарт Продакшнз, Марк Пл...                США   \n",
       "\n",
       "            director                                           producer  \\\n",
       "0      Кевин Костнер          Дэвид Валдес, Кевин Костнер, Джейк Эбертс   \n",
       "1          Е.Матвеев                                                NaN   \n",
       "2  Тимур Бекмамбетов  Джим Лемли, Джейсон Нетер, Марк Е.Платт, Яйн Смит   \n",
       "3  Тимур Бекмамбетов  Джим Лемли, Джейсон Нетер, Марк Е.Платт, Яйн Смит   \n",
       "4  Тимур Бекмамбетов  Джим Лемли, Джейсон Нетер, Марк Е.Платт, Яйн Смит   \n",
       "\n",
       "                 age_restriction  refundable_support  nonrefundable_support  \\\n",
       "0    «18+» - запрещено для детей                 NaN                    NaN   \n",
       "1  «6+» - для детей старше 6 лет                 NaN                    NaN   \n",
       "2    «18+» - запрещено для детей                 NaN                    NaN   \n",
       "3    «18+» - запрещено для детей                 NaN                    NaN   \n",
       "4    «18+» - запрещено для детей                 NaN                    NaN   \n",
       "\n",
       "   budget financing_source ratings                     genres  box_office  \n",
       "0     NaN              NaN     7.2     боевик,драма,мелодрама         NaN  \n",
       "1     NaN              NaN     6.6              драма,военный         NaN  \n",
       "2     NaN              NaN     6.8  фантастика,боевик,триллер         NaN  \n",
       "3     NaN              NaN     6.8  фантастика,боевик,триллер         NaN  \n",
       "4     NaN              NaN     6.8  фантастика,боевик,триллер         NaN  "
      ]
     },
     "execution_count": 8,
     "metadata": {},
     "output_type": "execute_result"
    }
   ],
   "source": [
    "data.info()\n",
    "data.head()"
   ]
  },
  {
   "cell_type": "code",
   "execution_count": 9,
   "metadata": {
    "scrolled": true
   },
   "outputs": [],
   "source": [
    "#Почти все 'object' поля - категориальные и изменять их тип нет необходимости.\n",
    "#А вот поле 'show_start_date' стоит конвертировать в дату для облегчения дальнейшей работы с ним\n",
    "data['show_start_date'] = pd.to_datetime(data['show_start_date'], format='%Y-%m-%dT%H:%M:%S.%fZ')"
   ]
  },
  {
   "cell_type": "markdown",
   "metadata": {
    "id": "i0MOLbF-gFyP"
   },
   "source": [
    "#### Шаг 2.2. Изучите пропуски в датафрейме\n",
    "\n",
    "- Объясните, почему заполнили пропуски определённым образом или почему не стали этого делать."
   ]
  },
  {
   "cell_type": "code",
   "execution_count": 10,
   "metadata": {
    "id": "8MJD_lkngFyP"
   },
   "outputs": [
    {
     "name": "stdout",
     "output_type": "stream",
     "text": [
      "<class 'pandas.core.frame.DataFrame'>\n",
      "Int64Index: 7486 entries, 0 to 7485\n",
      "Data columns (total 16 columns):\n",
      " #   Column                 Non-Null Count  Dtype         \n",
      "---  ------                 --------------  -----         \n",
      " 0   title                  7486 non-null   object        \n",
      " 1   pu_number              7486 non-null   int64         \n",
      " 2   show_start_date        7486 non-null   datetime64[ns]\n",
      " 3   type                   7486 non-null   object        \n",
      " 4   film_studio            7486 non-null   object        \n",
      " 5   production_country     7486 non-null   object        \n",
      " 6   director               7486 non-null   object        \n",
      " 7   producer               7486 non-null   object        \n",
      " 8   age_restriction        7486 non-null   object        \n",
      " 9   refundable_support     332 non-null    float64       \n",
      " 10  nonrefundable_support  332 non-null    float64       \n",
      " 11  budget                 332 non-null    float64       \n",
      " 12  financing_source       332 non-null    object        \n",
      " 13  ratings                6519 non-null   object        \n",
      " 14  genres                 7486 non-null   object        \n",
      " 15  box_office             3158 non-null   float64       \n",
      "dtypes: datetime64[ns](1), float64(4), int64(1), object(10)\n",
      "memory usage: 994.2+ KB\n"
     ]
    }
   ],
   "source": [
    "#Есть много пропусков в категориальных строковых данных. \n",
    "#Такие пропуски можно заполнить значением 'Неизвестно': \n",
    "#таким образом, данные не потеряются при анализе и попадут в отдельную категорию\n",
    "data = data.fillna({\n",
    "    'director': 'Неизвестно',\n",
    "    'producer': 'Неизвестно',\n",
    "    'film_studio': 'Неизвестно',\n",
    "    'genres': 'Неизвестно',\n",
    "    'production_country': 'Неизвестно'\n",
    "})\n",
    "data.info()"
   ]
  },
  {
   "cell_type": "markdown",
   "metadata": {},
   "source": [
    "Также, есть пустоты в колонках 'refundable_support', 'nonrefundable_support', 'budget', 'financing_source': это данные по госфинансированию. Такие пустоты заполнять не следует, чтобы в анализ по господдержке не попали фильмы без господдержки.\n",
    "\n",
    "Пустоты в 'box_office' и 'ratings' могут иметь физический смысл (например, фильм не показывался в театрах, а вышел только в цифре), поэтому их заполнять не стоит."
   ]
  },
  {
   "cell_type": "markdown",
   "metadata": {
    "id": "4c6k1t9ygFyQ"
   },
   "source": [
    "#### Шаг 2.3. Изучите дубликаты в датафрейме\n",
    "- Проверьте, есть ли в данных дубликаты. Опишите причины, которые могли повлиять на появление дублей."
   ]
  },
  {
   "cell_type": "code",
   "execution_count": 11,
   "metadata": {
    "id": "aKck8RIdgFyQ"
   },
   "outputs": [
    {
     "name": "stdout",
     "output_type": "stream",
     "text": [
      "Явные дубликаты: 0\n"
     ]
    }
   ],
   "source": [
    "print('Явные дубликаты:', data.duplicated().sum())\n",
    "data = data.drop_duplicates()"
   ]
  },
  {
   "cell_type": "code",
   "execution_count": 12,
   "metadata": {
    "scrolled": true
   },
   "outputs": [
    {
     "name": "stdout",
     "output_type": "stream",
     "text": [
      "Дубликаты идентификаторов: 2\n"
     ]
    }
   ],
   "source": [
    "#Дубликаты по названиям искать нет смысла - потому что по одному фильму может быть несколько \n",
    "#номеров прокатных удостоверений.\n",
    "#Зато можно проверить дубли в номерах ПУ:\n",
    "duplicated_pu_numbers = data[data['pu_number'].duplicated()]['pu_number']\n",
    "print('Дубликаты идентификаторов:', duplicated_pu_numbers.count())"
   ]
  },
  {
   "cell_type": "code",
   "execution_count": 13,
   "metadata": {
    "scrolled": false
   },
   "outputs": [
    {
     "data": {
      "text/html": [
       "<div>\n",
       "<style scoped>\n",
       "    .dataframe tbody tr th:only-of-type {\n",
       "        vertical-align: middle;\n",
       "    }\n",
       "\n",
       "    .dataframe tbody tr th {\n",
       "        vertical-align: top;\n",
       "    }\n",
       "\n",
       "    .dataframe thead th {\n",
       "        text-align: right;\n",
       "    }\n",
       "</style>\n",
       "<table border=\"1\" class=\"dataframe\">\n",
       "  <thead>\n",
       "    <tr style=\"text-align: right;\">\n",
       "      <th></th>\n",
       "      <th>title</th>\n",
       "      <th>pu_number</th>\n",
       "      <th>show_start_date</th>\n",
       "      <th>type</th>\n",
       "      <th>film_studio</th>\n",
       "      <th>production_country</th>\n",
       "      <th>director</th>\n",
       "      <th>producer</th>\n",
       "      <th>age_restriction</th>\n",
       "      <th>refundable_support</th>\n",
       "      <th>nonrefundable_support</th>\n",
       "      <th>budget</th>\n",
       "      <th>financing_source</th>\n",
       "      <th>ratings</th>\n",
       "      <th>genres</th>\n",
       "      <th>box_office</th>\n",
       "    </tr>\n",
       "  </thead>\n",
       "  <tbody>\n",
       "    <tr>\n",
       "      <th>4638</th>\n",
       "      <td>Как жениться и остаться холостым</td>\n",
       "      <td>221154310</td>\n",
       "      <td>2010-12-17 12:00:00</td>\n",
       "      <td>Художественный</td>\n",
       "      <td>Ше Вам, Скрипт Ассосье, Тэ Фэ 1 Фильм Продюксь...</td>\n",
       "      <td>Франция</td>\n",
       "      <td>Эрик Лартиго</td>\n",
       "      <td>Амандин Било, Алан Шаба</td>\n",
       "      <td>«16+» - для детей старше 16 лет</td>\n",
       "      <td>NaN</td>\n",
       "      <td>NaN</td>\n",
       "      <td>NaN</td>\n",
       "      <td>NaN</td>\n",
       "      <td>7.0</td>\n",
       "      <td>мелодрама,комедия</td>\n",
       "      <td>NaN</td>\n",
       "    </tr>\n",
       "    <tr>\n",
       "      <th>4639</th>\n",
       "      <td>Иоанна - женщина на папском престоле /По роман...</td>\n",
       "      <td>221154310</td>\n",
       "      <td>2010-12-17 12:00:00</td>\n",
       "      <td>Художественный</td>\n",
       "      <td>Константин Фильм, А Эр Ди Дегето Фильм, Дюне ...</td>\n",
       "      <td>Германия - Великобритания - Италия - Испания</td>\n",
       "      <td>Зенке Вортманн</td>\n",
       "      <td>Оливер Бербен, Дорис Д.Хайнце, Фарук Элтан</td>\n",
       "      <td>«16+» - для детей старше 16 лет</td>\n",
       "      <td>NaN</td>\n",
       "      <td>NaN</td>\n",
       "      <td>NaN</td>\n",
       "      <td>NaN</td>\n",
       "      <td>7.6</td>\n",
       "      <td>драма,мелодрама,история</td>\n",
       "      <td>NaN</td>\n",
       "    </tr>\n",
       "    <tr>\n",
       "      <th>5067</th>\n",
       "      <td>Анализируй это!</td>\n",
       "      <td>221054410</td>\n",
       "      <td>2010-05-25 12:00:00</td>\n",
       "      <td>Художественный</td>\n",
       "      <td>Уорнер Бразерс, Вилладж Роудшоу Филмз ЛТД</td>\n",
       "      <td>США-Австралия</td>\n",
       "      <td>ХЭрольд Рэмис</td>\n",
       "      <td>Джейн Розенталь, Пола Уейнстейн</td>\n",
       "      <td>«16+» - для детей старше 16 лет</td>\n",
       "      <td>NaN</td>\n",
       "      <td>NaN</td>\n",
       "      <td>NaN</td>\n",
       "      <td>NaN</td>\n",
       "      <td>7.4</td>\n",
       "      <td>комедия,криминал</td>\n",
       "      <td>NaN</td>\n",
       "    </tr>\n",
       "    <tr>\n",
       "      <th>5068</th>\n",
       "      <td>Анализируй то!</td>\n",
       "      <td>221054410</td>\n",
       "      <td>2010-05-25 12:00:00</td>\n",
       "      <td>Художественный</td>\n",
       "      <td>Уорнер Бразерс, Виллидж Роадшоу Пикчерз, Эн-Пи...</td>\n",
       "      <td>США</td>\n",
       "      <td>Гарольд Реймис</td>\n",
       "      <td>Джейн Розенталь, Паул Уэйнстейн</td>\n",
       "      <td>«12+» - для детей старше 12 лет</td>\n",
       "      <td>NaN</td>\n",
       "      <td>NaN</td>\n",
       "      <td>NaN</td>\n",
       "      <td>NaN</td>\n",
       "      <td>6.8</td>\n",
       "      <td>комедия,криминал</td>\n",
       "      <td>NaN</td>\n",
       "    </tr>\n",
       "  </tbody>\n",
       "</table>\n",
       "</div>"
      ],
      "text/plain": [
       "                                                  title  pu_number  \\\n",
       "4638                   Как жениться и остаться холостым  221154310   \n",
       "4639  Иоанна - женщина на папском престоле /По роман...  221154310   \n",
       "5067                                    Анализируй это!  221054410   \n",
       "5068                                     Анализируй то!  221054410   \n",
       "\n",
       "         show_start_date            type  \\\n",
       "4638 2010-12-17 12:00:00  Художественный   \n",
       "4639 2010-12-17 12:00:00  Художественный   \n",
       "5067 2010-05-25 12:00:00  Художественный   \n",
       "5068 2010-05-25 12:00:00  Художественный   \n",
       "\n",
       "                                            film_studio  \\\n",
       "4638  Ше Вам, Скрипт Ассосье, Тэ Фэ 1 Фильм Продюксь...   \n",
       "4639   Константин Фильм, А Эр Ди Дегето Фильм, Дюне ...   \n",
       "5067          Уорнер Бразерс, Вилладж Роудшоу Филмз ЛТД   \n",
       "5068  Уорнер Бразерс, Виллидж Роадшоу Пикчерз, Эн-Пи...   \n",
       "\n",
       "                                production_country        director  \\\n",
       "4638                                       Франция    Эрик Лартиго   \n",
       "4639  Германия - Великобритания - Италия - Испания  Зенке Вортманн   \n",
       "5067                                 США-Австралия   ХЭрольд Рэмис   \n",
       "5068                                           США  Гарольд Реймис   \n",
       "\n",
       "                                        producer  \\\n",
       "4638                     Амандин Било, Алан Шаба   \n",
       "4639  Оливер Бербен, Дорис Д.Хайнце, Фарук Элтан   \n",
       "5067             Джейн Розенталь, Пола Уейнстейн   \n",
       "5068             Джейн Розенталь, Паул Уэйнстейн   \n",
       "\n",
       "                      age_restriction  refundable_support  \\\n",
       "4638  «16+» - для детей старше 16 лет                 NaN   \n",
       "4639  «16+» - для детей старше 16 лет                 NaN   \n",
       "5067  «16+» - для детей старше 16 лет                 NaN   \n",
       "5068  «12+» - для детей старше 12 лет                 NaN   \n",
       "\n",
       "      nonrefundable_support  budget financing_source ratings  \\\n",
       "4638                    NaN     NaN              NaN     7.0   \n",
       "4639                    NaN     NaN              NaN     7.6   \n",
       "5067                    NaN     NaN              NaN     7.4   \n",
       "5068                    NaN     NaN              NaN     6.8   \n",
       "\n",
       "                       genres  box_office  \n",
       "4638        мелодрама,комедия         NaN  \n",
       "4639  драма,мелодрама,история         NaN  \n",
       "5067         комедия,криминал         NaN  \n",
       "5068         комедия,криминал         NaN  "
      ]
     },
     "execution_count": 13,
     "metadata": {},
     "output_type": "execute_result"
    }
   ],
   "source": [
    "data.query('pu_number in @duplicated_pu_numbers')"
   ]
  },
  {
   "cell_type": "code",
   "execution_count": 14,
   "metadata": {
    "scrolled": false
   },
   "outputs": [
    {
     "data": {
      "text/html": [
       "<div>\n",
       "<style scoped>\n",
       "    .dataframe tbody tr th:only-of-type {\n",
       "        vertical-align: middle;\n",
       "    }\n",
       "\n",
       "    .dataframe tbody tr th {\n",
       "        vertical-align: top;\n",
       "    }\n",
       "\n",
       "    .dataframe thead th {\n",
       "        text-align: right;\n",
       "    }\n",
       "</style>\n",
       "<table border=\"1\" class=\"dataframe\">\n",
       "  <thead>\n",
       "    <tr style=\"text-align: right;\">\n",
       "      <th></th>\n",
       "      <th>title</th>\n",
       "      <th>pu_number</th>\n",
       "      <th>show_start_date</th>\n",
       "      <th>type</th>\n",
       "      <th>film_studio</th>\n",
       "      <th>production_country</th>\n",
       "      <th>director</th>\n",
       "      <th>producer</th>\n",
       "      <th>age_restriction</th>\n",
       "      <th>refundable_support</th>\n",
       "      <th>nonrefundable_support</th>\n",
       "      <th>budget</th>\n",
       "      <th>financing_source</th>\n",
       "      <th>ratings</th>\n",
       "      <th>genres</th>\n",
       "      <th>box_office</th>\n",
       "    </tr>\n",
       "  </thead>\n",
       "  <tbody>\n",
       "    <tr>\n",
       "      <th>5068</th>\n",
       "      <td>Анализируй то!</td>\n",
       "      <td>221054410</td>\n",
       "      <td>2010-05-25 12:00:00</td>\n",
       "      <td>Художественный</td>\n",
       "      <td>Уорнер Бразерс, Виллидж Роадшоу Пикчерз, Эн-Пи...</td>\n",
       "      <td>США</td>\n",
       "      <td>Гарольд Реймис</td>\n",
       "      <td>Джейн Розенталь, Паул Уэйнстейн</td>\n",
       "      <td>«12+» - для детей старше 12 лет</td>\n",
       "      <td>NaN</td>\n",
       "      <td>NaN</td>\n",
       "      <td>NaN</td>\n",
       "      <td>NaN</td>\n",
       "      <td>6.8</td>\n",
       "      <td>комедия,криминал</td>\n",
       "      <td>NaN</td>\n",
       "    </tr>\n",
       "    <tr>\n",
       "      <th>4553</th>\n",
       "      <td>Анализируй это!</td>\n",
       "      <td>221147310</td>\n",
       "      <td>2010-12-15 12:00:00</td>\n",
       "      <td>Художественный</td>\n",
       "      <td>Уорнер Бразерс, Вилладж Роудшоу Филмз ЛТД</td>\n",
       "      <td>США-Австралия</td>\n",
       "      <td>ХЭрольд Рэмис</td>\n",
       "      <td>Джейн Розенталь, Пола Уейнстейн</td>\n",
       "      <td>«16+» - для детей старше 16 лет</td>\n",
       "      <td>NaN</td>\n",
       "      <td>NaN</td>\n",
       "      <td>NaN</td>\n",
       "      <td>NaN</td>\n",
       "      <td>7.4</td>\n",
       "      <td>комедия,криминал</td>\n",
       "      <td>NaN</td>\n",
       "    </tr>\n",
       "    <tr>\n",
       "      <th>5067</th>\n",
       "      <td>Анализируй это!</td>\n",
       "      <td>221054410</td>\n",
       "      <td>2010-05-25 12:00:00</td>\n",
       "      <td>Художественный</td>\n",
       "      <td>Уорнер Бразерс, Вилладж Роудшоу Филмз ЛТД</td>\n",
       "      <td>США-Австралия</td>\n",
       "      <td>ХЭрольд Рэмис</td>\n",
       "      <td>Джейн Розенталь, Пола Уейнстейн</td>\n",
       "      <td>«16+» - для детей старше 16 лет</td>\n",
       "      <td>NaN</td>\n",
       "      <td>NaN</td>\n",
       "      <td>NaN</td>\n",
       "      <td>NaN</td>\n",
       "      <td>7.4</td>\n",
       "      <td>комедия,криминал</td>\n",
       "      <td>NaN</td>\n",
       "    </tr>\n",
       "    <tr>\n",
       "      <th>4050</th>\n",
       "      <td>Иоанна - женщина на папском престоле /По роман...</td>\n",
       "      <td>121005410</td>\n",
       "      <td>2010-03-25 12:00:00</td>\n",
       "      <td>Художественный</td>\n",
       "      <td>Константин Фильм, А Эр Ди Дегето Фильм, Дюне ...</td>\n",
       "      <td>Германия - Великобритания - Италия - Испания</td>\n",
       "      <td>Зенке Вортманн</td>\n",
       "      <td>Оливер Бербен, Дорис Д.Хайнце, Фарук Элтан</td>\n",
       "      <td>«16+» - для детей старше 16 лет</td>\n",
       "      <td>NaN</td>\n",
       "      <td>NaN</td>\n",
       "      <td>NaN</td>\n",
       "      <td>NaN</td>\n",
       "      <td>7.6</td>\n",
       "      <td>драма,мелодрама,история</td>\n",
       "      <td>NaN</td>\n",
       "    </tr>\n",
       "    <tr>\n",
       "      <th>4513</th>\n",
       "      <td>Иоанна - женщина на папском престоле /По роман...</td>\n",
       "      <td>221141710</td>\n",
       "      <td>2010-12-03 12:00:00</td>\n",
       "      <td>Художественный</td>\n",
       "      <td>Константин Фильм, А Эр Ди Дегето Фильм, Дюне ...</td>\n",
       "      <td>Германия - Великобритания - Италия - Испания</td>\n",
       "      <td>Зенке Вортманн</td>\n",
       "      <td>Оливер Бербен, Дорис Д.Хайнце, Фарук Элтан</td>\n",
       "      <td>«16+» - для детей старше 16 лет</td>\n",
       "      <td>NaN</td>\n",
       "      <td>NaN</td>\n",
       "      <td>NaN</td>\n",
       "      <td>NaN</td>\n",
       "      <td>7.6</td>\n",
       "      <td>драма,мелодрама,история</td>\n",
       "      <td>NaN</td>\n",
       "    </tr>\n",
       "    <tr>\n",
       "      <th>4639</th>\n",
       "      <td>Иоанна - женщина на папском престоле /По роман...</td>\n",
       "      <td>221154310</td>\n",
       "      <td>2010-12-17 12:00:00</td>\n",
       "      <td>Художественный</td>\n",
       "      <td>Константин Фильм, А Эр Ди Дегето Фильм, Дюне ...</td>\n",
       "      <td>Германия - Великобритания - Италия - Испания</td>\n",
       "      <td>Зенке Вортманн</td>\n",
       "      <td>Оливер Бербен, Дорис Д.Хайнце, Фарук Элтан</td>\n",
       "      <td>«16+» - для детей старше 16 лет</td>\n",
       "      <td>NaN</td>\n",
       "      <td>NaN</td>\n",
       "      <td>NaN</td>\n",
       "      <td>NaN</td>\n",
       "      <td>7.6</td>\n",
       "      <td>драма,мелодрама,история</td>\n",
       "      <td>NaN</td>\n",
       "    </tr>\n",
       "    <tr>\n",
       "      <th>4520</th>\n",
       "      <td>Как жениться и остаться холостым</td>\n",
       "      <td>221142510</td>\n",
       "      <td>2010-12-03 12:00:00</td>\n",
       "      <td>Художественный</td>\n",
       "      <td>Ше Вам, Скрипт Ассосье, Тэ Фэ 1 Фильм Продюксь...</td>\n",
       "      <td>Франция</td>\n",
       "      <td>Эрик Лартиго</td>\n",
       "      <td>Амандин Било, Алан Шаба</td>\n",
       "      <td>«16+» - для детей старше 16 лет</td>\n",
       "      <td>NaN</td>\n",
       "      <td>NaN</td>\n",
       "      <td>NaN</td>\n",
       "      <td>NaN</td>\n",
       "      <td>7.0</td>\n",
       "      <td>мелодрама,комедия</td>\n",
       "      <td>NaN</td>\n",
       "    </tr>\n",
       "    <tr>\n",
       "      <th>4638</th>\n",
       "      <td>Как жениться и остаться холостым</td>\n",
       "      <td>221154310</td>\n",
       "      <td>2010-12-17 12:00:00</td>\n",
       "      <td>Художественный</td>\n",
       "      <td>Ше Вам, Скрипт Ассосье, Тэ Фэ 1 Фильм Продюксь...</td>\n",
       "      <td>Франция</td>\n",
       "      <td>Эрик Лартиго</td>\n",
       "      <td>Амандин Било, Алан Шаба</td>\n",
       "      <td>«16+» - для детей старше 16 лет</td>\n",
       "      <td>NaN</td>\n",
       "      <td>NaN</td>\n",
       "      <td>NaN</td>\n",
       "      <td>NaN</td>\n",
       "      <td>7.0</td>\n",
       "      <td>мелодрама,комедия</td>\n",
       "      <td>NaN</td>\n",
       "    </tr>\n",
       "  </tbody>\n",
       "</table>\n",
       "</div>"
      ],
      "text/plain": [
       "                                                  title  pu_number  \\\n",
       "5068                                     Анализируй то!  221054410   \n",
       "4553                                    Анализируй это!  221147310   \n",
       "5067                                    Анализируй это!  221054410   \n",
       "4050  Иоанна - женщина на папском престоле /По роман...  121005410   \n",
       "4513  Иоанна - женщина на папском престоле /По роман...  221141710   \n",
       "4639  Иоанна - женщина на папском престоле /По роман...  221154310   \n",
       "4520                   Как жениться и остаться холостым  221142510   \n",
       "4638                   Как жениться и остаться холостым  221154310   \n",
       "\n",
       "         show_start_date            type  \\\n",
       "5068 2010-05-25 12:00:00  Художественный   \n",
       "4553 2010-12-15 12:00:00  Художественный   \n",
       "5067 2010-05-25 12:00:00  Художественный   \n",
       "4050 2010-03-25 12:00:00  Художественный   \n",
       "4513 2010-12-03 12:00:00  Художественный   \n",
       "4639 2010-12-17 12:00:00  Художественный   \n",
       "4520 2010-12-03 12:00:00  Художественный   \n",
       "4638 2010-12-17 12:00:00  Художественный   \n",
       "\n",
       "                                            film_studio  \\\n",
       "5068  Уорнер Бразерс, Виллидж Роадшоу Пикчерз, Эн-Пи...   \n",
       "4553          Уорнер Бразерс, Вилладж Роудшоу Филмз ЛТД   \n",
       "5067          Уорнер Бразерс, Вилладж Роудшоу Филмз ЛТД   \n",
       "4050   Константин Фильм, А Эр Ди Дегето Фильм, Дюне ...   \n",
       "4513   Константин Фильм, А Эр Ди Дегето Фильм, Дюне ...   \n",
       "4639   Константин Фильм, А Эр Ди Дегето Фильм, Дюне ...   \n",
       "4520  Ше Вам, Скрипт Ассосье, Тэ Фэ 1 Фильм Продюксь...   \n",
       "4638  Ше Вам, Скрипт Ассосье, Тэ Фэ 1 Фильм Продюксь...   \n",
       "\n",
       "                                production_country        director  \\\n",
       "5068                                           США  Гарольд Реймис   \n",
       "4553                                 США-Австралия   ХЭрольд Рэмис   \n",
       "5067                                 США-Австралия   ХЭрольд Рэмис   \n",
       "4050  Германия - Великобритания - Италия - Испания  Зенке Вортманн   \n",
       "4513  Германия - Великобритания - Италия - Испания  Зенке Вортманн   \n",
       "4639  Германия - Великобритания - Италия - Испания  Зенке Вортманн   \n",
       "4520                                       Франция    Эрик Лартиго   \n",
       "4638                                       Франция    Эрик Лартиго   \n",
       "\n",
       "                                        producer  \\\n",
       "5068             Джейн Розенталь, Паул Уэйнстейн   \n",
       "4553             Джейн Розенталь, Пола Уейнстейн   \n",
       "5067             Джейн Розенталь, Пола Уейнстейн   \n",
       "4050  Оливер Бербен, Дорис Д.Хайнце, Фарук Элтан   \n",
       "4513  Оливер Бербен, Дорис Д.Хайнце, Фарук Элтан   \n",
       "4639  Оливер Бербен, Дорис Д.Хайнце, Фарук Элтан   \n",
       "4520                     Амандин Било, Алан Шаба   \n",
       "4638                     Амандин Било, Алан Шаба   \n",
       "\n",
       "                      age_restriction  refundable_support  \\\n",
       "5068  «12+» - для детей старше 12 лет                 NaN   \n",
       "4553  «16+» - для детей старше 16 лет                 NaN   \n",
       "5067  «16+» - для детей старше 16 лет                 NaN   \n",
       "4050  «16+» - для детей старше 16 лет                 NaN   \n",
       "4513  «16+» - для детей старше 16 лет                 NaN   \n",
       "4639  «16+» - для детей старше 16 лет                 NaN   \n",
       "4520  «16+» - для детей старше 16 лет                 NaN   \n",
       "4638  «16+» - для детей старше 16 лет                 NaN   \n",
       "\n",
       "      nonrefundable_support  budget financing_source ratings  \\\n",
       "5068                    NaN     NaN              NaN     6.8   \n",
       "4553                    NaN     NaN              NaN     7.4   \n",
       "5067                    NaN     NaN              NaN     7.4   \n",
       "4050                    NaN     NaN              NaN     7.6   \n",
       "4513                    NaN     NaN              NaN     7.6   \n",
       "4639                    NaN     NaN              NaN     7.6   \n",
       "4520                    NaN     NaN              NaN     7.0   \n",
       "4638                    NaN     NaN              NaN     7.0   \n",
       "\n",
       "                       genres  box_office  \n",
       "5068         комедия,криминал         NaN  \n",
       "4553         комедия,криминал         NaN  \n",
       "5067         комедия,криминал         NaN  \n",
       "4050  драма,мелодрама,история         NaN  \n",
       "4513  драма,мелодрама,история         NaN  \n",
       "4639  драма,мелодрама,история         NaN  \n",
       "4520        мелодрама,комедия         NaN  \n",
       "4638        мелодрама,комедия         NaN  "
      ]
     },
     "execution_count": 14,
     "metadata": {},
     "output_type": "execute_result"
    }
   ],
   "source": [
    "titles = data.query('pu_number in @duplicated_pu_numbers')['title'].unique()\n",
    "data.query('title in @titles').sort_values('title')"
   ]
  },
  {
   "cell_type": "code",
   "execution_count": 15,
   "metadata": {},
   "outputs": [],
   "source": [
    "#'Анализируй то!' встречается один раз, поэтому можно удалить 'Анализируй это!' с номером 221054410.\n",
    "#'Иоанна - женщина' встречается трижды, поэтому ее и стоит удалить\n",
    "data = data.drop([5067, 4639])"
   ]
  },
  {
   "cell_type": "code",
   "execution_count": 16,
   "metadata": {},
   "outputs": [],
   "source": [
    "#ну и теперь можно номера использовать в качестве индексов\n",
    "data = data.set_index('pu_number')"
   ]
  },
  {
   "cell_type": "markdown",
   "metadata": {
    "id": "52fOPrEBgFyQ"
   },
   "source": [
    "#### Шаг 2.4. Изучите категориальные значения\n",
    "\n",
    "- Посмотрите, какая общая проблема встречается почти во всех категориальных столбцах;\n",
    "- Исправьте проблемные значения в поле `type`.\n",
    "\n",
    "<div id=\"accordion\">\n",
    "    <div class=\"card\">\n",
    "        <div class=\"card-header\" id=\"headingThree\">\n",
    "            <button class=\"btn btn-link collapsed\" data-toggle=\"collapse\" data-target=\"#collapseHint_1\" aria-expanded=\"false\" aria-controls=\"collapseHint_1\">Подсказка</button>\n",
    "        </div>\n",
    "        <div id=\"collapseHint_1\" class=\"collapse\" aria-labelledby=\"headingThree\" data-parent=\"#accordion\">\n",
    "            <div class=\"card-body\">\n",
    "В поле <code>type</code> есть несколько значений, у которых появился пробел в начале строки. Самый простой способ их «починить» -- использовать метод <a href=\"https://pandas.pydata.org/docs/reference/api/pandas.Series.str.strip.html#pandas.Series.str.strip\">.str.strip</a>. Этот метод удаляет все пробелы, которые встречаются в начале и в конце строки. Применяют его таким образом:<br>\n",
    "<code>df['type'].str.strip()</code>\n",
    "            </div>\n",
    "        </div>\n",
    "    </div>\n",
    "</div>"
   ]
  },
  {
   "cell_type": "code",
   "execution_count": 17,
   "metadata": {
    "id": "PnXKIVdFgFyR",
    "scrolled": false
   },
   "outputs": [
    {
     "name": "stdout",
     "output_type": "stream",
     "text": [
      "type ['Художественный' 'Анимационный' 'Прочие' 'Документальный'\n",
      " 'Научно-популярный' ' Художественный' ' Анимационный'\n",
      " 'Музыкально-развлекательный']\n",
      "film_studio ['Тачстоун Пикчерз, Кобальт Пикчерз, Бикон Пикчерз, Тиг Продакшнз'\n",
      " 'Киностудия \"Мосфильм\"'\n",
      " 'Юниверсал Пикчерз, Кикстарт Продакшнз, Марк Платт Продакшнз, Рилейтивити Медиа, Спайгласс Интертейнмент, Стилкин Филмз, Топ Кау Продакшнз'\n",
      " 'Юнайтед Артистс, Грин Стрит Филмз, Айкон Интертейнмент Интернэшнл'\n",
      " 'Пульсар Продюксьон, ТФ1 Фильм ' 'Киностудия \"Мосфильм\", Телевидение ВНР'\n",
      " 'Кеннеди/Маршал Компани, Юниверсал Пикчерз, Гипнотик, Калима Продакшнз, Лудлум Интертейнмент'\n",
      " 'Уорнер Бразерс, Лейкшор Интертейнмент, Малпасо Продакшнз, Альберт С.Рудди Продакшнз'\n",
      " 'Потбойлер Продакшнз, Эпсилон Моушн Пикчерз, Скайон Филмз Лимитед, ЮК Филм Каунсил'\n",
      " 'Кэтлей, Отель Продакшнс, Мунстоун Интертейнмент, Рэд Маллет Продакшнс']\n",
      "production_country ['США' 'СССР' 'Франция' 'СССР, Венгрия' 'Германия-Великобритания'\n",
      " 'Великобритания - Италия' 'Чехословакия' 'США - Франция - Турция'\n",
      " 'Новая Зеландия' 'Канада - Франция - Испания']\n",
      "director ['Кевин Костнер' 'Е.Матвеев' 'Тимур Бекмамбетов' 'В.Абдрашитов'\n",
      " 'В.Меньшов' 'Джон Туртурро' 'Эрик Беснард' 'В.Титов' 'Пол Грингросс'\n",
      " 'М.Туманишвили']\n",
      "producer ['Дэвид Валдес, Кевин Костнер, Джейк Эбертс' 'Неизвестно'\n",
      " 'Джим Лемли, Джейсон Нетер, Марк Е.Платт, Яйн Смит'\n",
      " 'Джон Пенотти, Джон Туртурро' 'Патрис Леду'\n",
      " 'Патрик Кроули, Фрэнк Маршалл, Пол Сэндберг'\n",
      " 'Клинт Иствуд, Том Розенберг, Альберт С.Рудди, Пол Хаггис'\n",
      " 'Саймон Чэннинг Уильямс' 'Этчи Стро, Анни Стюарт, Майк Фиггис'\n",
      " 'Лесли Холлеран, Алан Лэдд мл., Келлиан Лэдд, Харви Вайнстайн']\n",
      "age_restriction ['«18+» - запрещено для детей' '«6+» - для детей старше 6 лет'\n",
      " '«12+» - для детей старше 12 лет' '«16+» - для детей старше 16 лет'\n",
      " '«0+» - для любой зрительской аудитории']\n",
      "genres ['боевик,драма,мелодрама' 'драма,военный' 'фантастика,боевик,триллер'\n",
      " 'драма' 'мелодрама,комедия' 'мюзикл,мелодрама,комедия' 'комедия,криминал'\n",
      " 'боевик,триллер,детектив' 'боевик,драма,приключения' 'драма,спорт']\n"
     ]
    }
   ],
   "source": [
    "categorial_columns = [\n",
    "    'type', \n",
    "    'film_studio',\n",
    "    'production_country', \n",
    "    'director',\n",
    "    'producer',\n",
    "    'age_restriction',\n",
    "    'genres'\n",
    "]\n",
    "\n",
    "for column in data.columns:    \n",
    "    if column in categorial_columns:\n",
    "        print(column, data[column].unique()[:10])"
   ]
  },
  {
   "cell_type": "code",
   "execution_count": 18,
   "metadata": {},
   "outputs": [],
   "source": [
    "data['type'] = data['type'].str.strip()"
   ]
  },
  {
   "cell_type": "markdown",
   "metadata": {},
   "source": [
    "Проблема имеющихся категориальных данных - в том, что это списки, а не одиночные значения. Например, для одного фильма может быть сразу несколько жанров или режиссеров. На самом деле, для текущей работы это не имеет существенного значения - большая часть этих данных никак не будет учавствовать в дальнейшем анализе. Поэтому, нет смысла как то их проверять и обрабатывать."
   ]
  },
  {
   "cell_type": "markdown",
   "metadata": {
    "id": "XFSN5lrEgFyR"
   },
   "source": [
    "#### Шаг 2.5. Проверьте количественные значения\n",
    "\n",
    "- Проверьте, обнаружились ли в таких столбцах подозрительные данные. Как с такими данными лучше поступить?\n",
    "\n",
    "<div id=\"accordion\">\n",
    "    <div class=\"card\">\n",
    "        <div class=\"card-header\" id=\"headingThree\">\n",
    "            <button class=\"btn btn-link collapsed\" data-toggle=\"collapse\" data-target=\"#collapseHint_budget\" aria-expanded=\"false\" aria-controls=\"collapseHint_budget\">Подсказка</button>\n",
    "        </div>\n",
    "        <div id=\"collapseHint_budget\" class=\"collapse\" aria-labelledby=\"headingThree\" data-parent=\"#accordion\">\n",
    "            <div class=\"card-body\">\n",
    "Обратите внимание на описание столбца <code>budget</code>. Как этот столбец соотносится с двумя другими: <code>refundable_support</code> и <code>nonrefundable_support</code>?\n",
    "            </div>\n",
    "        </div>\n",
    "    </div>\n",
    "</div>"
   ]
  },
  {
   "cell_type": "markdown",
   "metadata": {},
   "source": [
    "##### Рейтинг фильма"
   ]
  },
  {
   "cell_type": "code",
   "execution_count": 19,
   "metadata": {
    "scrolled": true
   },
   "outputs": [
    {
     "data": {
      "text/plain": [
       "array(['7.2', '6.6', '6.8', '7.7', '8.3', '8.0', '7.8', '8.1', '7.1',\n",
       "       '6.0', '7.4', '5.8', '8.7', '6.3', '6.9', '5.0', '4.3', '7.3',\n",
       "       '7.0', '6.4', nan, '8.2', '7.5', '6.7', '7.9', '5.9', '6.2', '5.6',\n",
       "       '6.5', '2.4', '7.6', '6.1', '8.6', '8.5', '8.8', '5.5', '5.1',\n",
       "       '5.7', '5.4', '99%', '4.4', '4.5', '5.3', '4.1', '8.4', '2.6',\n",
       "       '3.8', '4.6', '4.8', '4.0', '3.0', '1.6', '4.2', '5.2', '4.7',\n",
       "       '4.9', '3.9', '2.7', '3.3', '2.9', '28%', '3.7', '1.4', '3.1',\n",
       "       '97%', '3.5', '3.2', '2.8', '1.5', '2.1', '2.5', '9.2', '3.4',\n",
       "       '1.1', '3.6', '83%', '64%', '91%', '94%', '62%', '79%', '90%',\n",
       "       '19%', '88%', '1.0', '89%', '1.3', '1.9', '1.8', '1.2', '1.7',\n",
       "       '9.0', '98%', '8.9', '9.1'], dtype=object)"
      ]
     },
     "execution_count": 19,
     "metadata": {},
     "output_type": "execute_result"
    }
   ],
   "source": [
    "data['ratings'].unique()"
   ]
  },
  {
   "cell_type": "code",
   "execution_count": 20,
   "metadata": {},
   "outputs": [],
   "source": [
    "#С рейтингами очевидна проблема - они в разных \"единицах измерений\".\n",
    "#Эти данные потребуются в анализе, поэтому их следует привести к общему виду - десятибалльной шкале.\n",
    "def unify_ratings(value):\n",
    "    if(type(value) is str):\n",
    "        if(value.endswith('%')):\n",
    "            return float(value.replace('%', ''))/10\n",
    "        else:\n",
    "            return float(value)\n",
    "    return value\n",
    "    \n",
    "data['ratings'] = data['ratings'].apply(unify_ratings)"
   ]
  },
  {
   "cell_type": "markdown",
   "metadata": {},
   "source": [
    "##### Кассовые сборы"
   ]
  },
  {
   "cell_type": "code",
   "execution_count": 21,
   "metadata": {
    "scrolled": false
   },
   "outputs": [
    {
     "name": "stdout",
     "output_type": "stream",
     "text": [
      "count    3.158000e+03\n",
      "mean     7.647870e+07\n",
      "std      2.403531e+08\n",
      "min      0.000000e+00\n",
      "25%      8.623900e+04\n",
      "50%      2.327988e+06\n",
      "75%      2.397967e+07\n",
      "max      3.073569e+09\n",
      "Name: box_office, dtype: float64\n"
     ]
    },
    {
     "data": {
      "image/png": "[encoded data removed]",
      "text/plain": [
       "<Figure size 720x216 with 1 Axes>"
      ]
     },
     "metadata": {
      "needs_background": "light"
     },
     "output_type": "display_data"
    }
   ],
   "source": [
    "print(data['box_office'].describe())\n",
    "data['box_office'].hist(bins=50, figsize=(10,3));"
   ]
  },
  {
   "cell_type": "code",
   "execution_count": 22,
   "metadata": {},
   "outputs": [],
   "source": [
    "#Фильмы с нулевой кассой кажутся ошибкой.\n",
    "#Возможно, данные о сборах не обновили после создания записи о фильме.\n",
    "#Стоит от них избавиться (конвертировать нулевой сбор в null)\n",
    "data.loc[data['box_office'] == 0, ['box_office']] = np.nan"
   ]
  },
  {
   "cell_type": "markdown",
   "metadata": {},
   "source": [
    "Гистограмма сборов выглядит как одна сплошная аномалия"
   ]
  },
  {
   "cell_type": "code",
   "execution_count": 23,
   "metadata": {
    "scrolled": false
   },
   "outputs": [
    {
     "data": {
      "image/png": "[encoded data removed]",
      "text/plain": [
       "<Figure size 432x288 with 1 Axes>"
      ]
     },
     "metadata": {
      "needs_background": "light"
     },
     "output_type": "display_data"
    }
   ],
   "source": [
    "from matplotlib import pyplot as plt\n",
    "data.boxplot('box_office');\n",
    "plt.ylim(0, 100000000)\n",
    "plt.show()"
   ]
  },
  {
   "cell_type": "markdown",
   "metadata": {},
   "source": [
    "И тут ничего не сделать. Похоже, что большинство картин приносят копейки (или по ним толком не заводят информацию о сборах) и из-за этого блокбастеры выглядят аномалиями. От таких аномалий избавиться не получится - они окажут большое влияние на анализ. Возможно, в анализе придется использовать среднее или сумму, а не медиану."
   ]
  },
  {
   "cell_type": "code",
   "execution_count": 24,
   "metadata": {
    "scrolled": false
   },
   "outputs": [
    {
     "data": {
      "text/html": [
       "<div>\n",
       "<style scoped>\n",
       "    .dataframe tbody tr th:only-of-type {\n",
       "        vertical-align: middle;\n",
       "    }\n",
       "\n",
       "    .dataframe tbody tr th {\n",
       "        vertical-align: top;\n",
       "    }\n",
       "\n",
       "    .dataframe thead th {\n",
       "        text-align: right;\n",
       "    }\n",
       "</style>\n",
       "<table border=\"1\" class=\"dataframe\">\n",
       "  <thead>\n",
       "    <tr style=\"text-align: right;\">\n",
       "      <th></th>\n",
       "      <th>title</th>\n",
       "      <th>show_start_date</th>\n",
       "      <th>type</th>\n",
       "      <th>film_studio</th>\n",
       "      <th>production_country</th>\n",
       "      <th>director</th>\n",
       "      <th>producer</th>\n",
       "      <th>age_restriction</th>\n",
       "      <th>refundable_support</th>\n",
       "      <th>nonrefundable_support</th>\n",
       "      <th>budget</th>\n",
       "      <th>financing_source</th>\n",
       "      <th>ratings</th>\n",
       "      <th>genres</th>\n",
       "      <th>box_office</th>\n",
       "    </tr>\n",
       "    <tr>\n",
       "      <th>pu_number</th>\n",
       "      <th></th>\n",
       "      <th></th>\n",
       "      <th></th>\n",
       "      <th></th>\n",
       "      <th></th>\n",
       "      <th></th>\n",
       "      <th></th>\n",
       "      <th></th>\n",
       "      <th></th>\n",
       "      <th></th>\n",
       "      <th></th>\n",
       "      <th></th>\n",
       "      <th></th>\n",
       "      <th></th>\n",
       "      <th></th>\n",
       "    </tr>\n",
       "  </thead>\n",
       "  <tbody>\n",
       "    <tr>\n",
       "      <th>111021719</th>\n",
       "      <td>Холоп</td>\n",
       "      <td>2019-12-19 12:00:00</td>\n",
       "      <td>Художественный</td>\n",
       "      <td>ООО \"МЕМ-МЕДИА\" по заказу АО \"ВБД Груп\"</td>\n",
       "      <td>Россия</td>\n",
       "      <td>К.Шипенко</td>\n",
       "      <td>Э.Илоян, Д.Жалинский, В.Дусмухаметов, Т.Бадзие...</td>\n",
       "      <td>«12+» - для детей старше 12 лет</td>\n",
       "      <td>25000000.0</td>\n",
       "      <td>35000000.0</td>\n",
       "      <td>160000000.0</td>\n",
       "      <td>Фонд кино</td>\n",
       "      <td>6.8</td>\n",
       "      <td>комедия</td>\n",
       "      <td>3.073569e+09</td>\n",
       "    </tr>\n",
       "    <tr>\n",
       "      <th>111011817</th>\n",
       "      <td>Движение вверх</td>\n",
       "      <td>2017-12-21 12:00:00</td>\n",
       "      <td>Художественный</td>\n",
       "      <td>ООО \"Студия \"ТРИТЭ\" Никиты Михалкова\"</td>\n",
       "      <td>Россия</td>\n",
       "      <td>А.Мегердичев</td>\n",
       "      <td>Л.Верещагин, А.Златопольский, Н.Михалков, ООО ...</td>\n",
       "      <td>«6+» - для детей старше 6 лет</td>\n",
       "      <td>0.0</td>\n",
       "      <td>400000000.0</td>\n",
       "      <td>590192191.0</td>\n",
       "      <td>Фонд кино</td>\n",
       "      <td>7.5</td>\n",
       "      <td>спорт,драма</td>\n",
       "      <td>2.779686e+09</td>\n",
       "    </tr>\n",
       "    <tr>\n",
       "      <th>121005519</th>\n",
       "      <td>Мстители: Финал</td>\n",
       "      <td>2019-04-29 12:00:00</td>\n",
       "      <td>Художественный</td>\n",
       "      <td>Марвел Студиос</td>\n",
       "      <td>США</td>\n",
       "      <td>Джо Руссо, Энтони Руссо</td>\n",
       "      <td>Кевин Фейги</td>\n",
       "      <td>«16+» - для детей старше 16 лет</td>\n",
       "      <td>NaN</td>\n",
       "      <td>NaN</td>\n",
       "      <td>NaN</td>\n",
       "      <td>NaN</td>\n",
       "      <td>7.6</td>\n",
       "      <td>фантастика,боевик,драма</td>\n",
       "      <td>2.576614e+09</td>\n",
       "    </tr>\n",
       "    <tr>\n",
       "      <th>111024918</th>\n",
       "      <td>Т-34</td>\n",
       "      <td>2018-12-21 12:00:00</td>\n",
       "      <td>Художественный</td>\n",
       "      <td>ООО \"Кинокомпания МАРС-фильм\" по заказу ООО \"М...</td>\n",
       "      <td>Россия</td>\n",
       "      <td>А.Сидоров</td>\n",
       "      <td>А.Златопольский, Р.Дишдишян, Л.Блаватник, Н.Яр...</td>\n",
       "      <td>«12+» - для детей старше 12 лет</td>\n",
       "      <td>60000000.0</td>\n",
       "      <td>120000000.0</td>\n",
       "      <td>563784717.0</td>\n",
       "      <td>Фонд кино</td>\n",
       "      <td>6.5</td>\n",
       "      <td>драма,военный,боевик</td>\n",
       "      <td>2.271754e+09</td>\n",
       "    </tr>\n",
       "    <tr>\n",
       "      <th>121009217</th>\n",
       "      <td>Пираты Карибского моря: Мертвецы не рассказыва...</td>\n",
       "      <td>2017-05-17 12:00:00</td>\n",
       "      <td>Художественный</td>\n",
       "      <td>Джерри Брукхаймер Филмз, Уолт Дисней Пикчерз, ...</td>\n",
       "      <td>США</td>\n",
       "      <td>Йоаким Реннинг, Эспен Сандберг</td>\n",
       "      <td>Джерри Брукхаймер</td>\n",
       "      <td>«16+» - для детей старше 16 лет</td>\n",
       "      <td>NaN</td>\n",
       "      <td>NaN</td>\n",
       "      <td>NaN</td>\n",
       "      <td>NaN</td>\n",
       "      <td>6.6</td>\n",
       "      <td>фэнтези,боевик,комедия</td>\n",
       "      <td>2.118396e+09</td>\n",
       "    </tr>\n",
       "  </tbody>\n",
       "</table>\n",
       "</div>"
      ],
      "text/plain": [
       "                                                       title  \\\n",
       "pu_number                                                      \n",
       "111021719                                              Холоп   \n",
       "111011817                                     Движение вверх   \n",
       "121005519                                    Мстители: Финал   \n",
       "111024918                                               Т-34   \n",
       "121009217  Пираты Карибского моря: Мертвецы не рассказыва...   \n",
       "\n",
       "              show_start_date            type  \\\n",
       "pu_number                                       \n",
       "111021719 2019-12-19 12:00:00  Художественный   \n",
       "111011817 2017-12-21 12:00:00  Художественный   \n",
       "121005519 2019-04-29 12:00:00  Художественный   \n",
       "111024918 2018-12-21 12:00:00  Художественный   \n",
       "121009217 2017-05-17 12:00:00  Художественный   \n",
       "\n",
       "                                                 film_studio  \\\n",
       "pu_number                                                      \n",
       "111021719            ООО \"МЕМ-МЕДИА\" по заказу АО \"ВБД Груп\"   \n",
       "111011817              ООО \"Студия \"ТРИТЭ\" Никиты Михалкова\"   \n",
       "121005519                                     Марвел Студиос   \n",
       "111024918  ООО \"Кинокомпания МАРС-фильм\" по заказу ООО \"М...   \n",
       "121009217  Джерри Брукхаймер Филмз, Уолт Дисней Пикчерз, ...   \n",
       "\n",
       "          production_country                        director  \\\n",
       "pu_number                                                      \n",
       "111021719             Россия                       К.Шипенко   \n",
       "111011817             Россия                    А.Мегердичев   \n",
       "121005519                США         Джо Руссо, Энтони Руссо   \n",
       "111024918             Россия                       А.Сидоров   \n",
       "121009217                США  Йоаким Реннинг, Эспен Сандберг   \n",
       "\n",
       "                                                    producer  \\\n",
       "pu_number                                                      \n",
       "111021719  Э.Илоян, Д.Жалинский, В.Дусмухаметов, Т.Бадзие...   \n",
       "111011817  Л.Верещагин, А.Златопольский, Н.Михалков, ООО ...   \n",
       "121005519                                        Кевин Фейги   \n",
       "111024918  А.Златопольский, Р.Дишдишян, Л.Блаватник, Н.Яр...   \n",
       "121009217                                  Джерри Брукхаймер   \n",
       "\n",
       "                           age_restriction  refundable_support  \\\n",
       "pu_number                                                        \n",
       "111021719  «12+» - для детей старше 12 лет          25000000.0   \n",
       "111011817    «6+» - для детей старше 6 лет                 0.0   \n",
       "121005519  «16+» - для детей старше 16 лет                 NaN   \n",
       "111024918  «12+» - для детей старше 12 лет          60000000.0   \n",
       "121009217  «16+» - для детей старше 16 лет                 NaN   \n",
       "\n",
       "           nonrefundable_support       budget financing_source  ratings  \\\n",
       "pu_number                                                                 \n",
       "111021719             35000000.0  160000000.0        Фонд кино      6.8   \n",
       "111011817            400000000.0  590192191.0        Фонд кино      7.5   \n",
       "121005519                    NaN          NaN              NaN      7.6   \n",
       "111024918            120000000.0  563784717.0        Фонд кино      6.5   \n",
       "121009217                    NaN          NaN              NaN      6.6   \n",
       "\n",
       "                            genres    box_office  \n",
       "pu_number                                         \n",
       "111021719                  комедия  3.073569e+09  \n",
       "111011817              спорт,драма  2.779686e+09  \n",
       "121005519  фантастика,боевик,драма  2.576614e+09  \n",
       "111024918     драма,военный,боевик  2.271754e+09  \n",
       "121009217   фэнтези,боевик,комедия  2.118396e+09  "
      ]
     },
     "metadata": {},
     "output_type": "display_data"
    },
    {
     "data": {
      "text/html": [
       "<div>\n",
       "<style scoped>\n",
       "    .dataframe tbody tr th:only-of-type {\n",
       "        vertical-align: middle;\n",
       "    }\n",
       "\n",
       "    .dataframe tbody tr th {\n",
       "        vertical-align: top;\n",
       "    }\n",
       "\n",
       "    .dataframe thead th {\n",
       "        text-align: right;\n",
       "    }\n",
       "</style>\n",
       "<table border=\"1\" class=\"dataframe\">\n",
       "  <thead>\n",
       "    <tr style=\"text-align: right;\">\n",
       "      <th></th>\n",
       "      <th>title</th>\n",
       "      <th>show_start_date</th>\n",
       "      <th>type</th>\n",
       "      <th>film_studio</th>\n",
       "      <th>production_country</th>\n",
       "      <th>director</th>\n",
       "      <th>producer</th>\n",
       "      <th>age_restriction</th>\n",
       "      <th>refundable_support</th>\n",
       "      <th>nonrefundable_support</th>\n",
       "      <th>budget</th>\n",
       "      <th>financing_source</th>\n",
       "      <th>ratings</th>\n",
       "      <th>genres</th>\n",
       "      <th>box_office</th>\n",
       "    </tr>\n",
       "    <tr>\n",
       "      <th>pu_number</th>\n",
       "      <th></th>\n",
       "      <th></th>\n",
       "      <th></th>\n",
       "      <th></th>\n",
       "      <th></th>\n",
       "      <th></th>\n",
       "      <th></th>\n",
       "      <th></th>\n",
       "      <th></th>\n",
       "      <th></th>\n",
       "      <th></th>\n",
       "      <th></th>\n",
       "      <th></th>\n",
       "      <th></th>\n",
       "      <th></th>\n",
       "    </tr>\n",
       "  </thead>\n",
       "  <tbody>\n",
       "    <tr>\n",
       "      <th>111006013</th>\n",
       "      <td>Жестокий романс</td>\n",
       "      <td>2013-10-18 12:00:00</td>\n",
       "      <td>Художественный</td>\n",
       "      <td>Киностудия \"Мосфильм\"</td>\n",
       "      <td>СССР</td>\n",
       "      <td>Э.Рязанов</td>\n",
       "      <td>Неизвестно</td>\n",
       "      <td>«12+» - для детей старше 12 лет</td>\n",
       "      <td>NaN</td>\n",
       "      <td>NaN</td>\n",
       "      <td>NaN</td>\n",
       "      <td>NaN</td>\n",
       "      <td>8.1</td>\n",
       "      <td>драма,мелодрама,история</td>\n",
       "      <td>40.0</td>\n",
       "    </tr>\n",
       "    <tr>\n",
       "      <th>111016714</th>\n",
       "      <td>Каменный цветок.</td>\n",
       "      <td>2014-12-01 12:00:00</td>\n",
       "      <td>Художественный</td>\n",
       "      <td>Киностудия \"Мосфильм\"</td>\n",
       "      <td>СССР</td>\n",
       "      <td>А.Птушко</td>\n",
       "      <td>Неизвестно</td>\n",
       "      <td>«0+» - для любой зрительской аудитории</td>\n",
       "      <td>NaN</td>\n",
       "      <td>NaN</td>\n",
       "      <td>NaN</td>\n",
       "      <td>NaN</td>\n",
       "      <td>7.1</td>\n",
       "      <td>фэнтези,драма,мелодрама</td>\n",
       "      <td>50.0</td>\n",
       "    </tr>\n",
       "    <tr>\n",
       "      <th>121006410</th>\n",
       "      <td>22 пули: Бессмертный</td>\n",
       "      <td>2010-04-01 12:00:00</td>\n",
       "      <td>Художественный</td>\n",
       "      <td>Еуроп Корпорейшн</td>\n",
       "      <td>Франция</td>\n",
       "      <td>Ришар Бери</td>\n",
       "      <td>Люк Бессон, Дидье Хорау, Пьер-Анж Ле Погам</td>\n",
       "      <td>«16+» - для детей старше 16 лет</td>\n",
       "      <td>NaN</td>\n",
       "      <td>NaN</td>\n",
       "      <td>NaN</td>\n",
       "      <td>NaN</td>\n",
       "      <td>7.1</td>\n",
       "      <td>боевик,драма,криминал</td>\n",
       "      <td>75.0</td>\n",
       "    </tr>\n",
       "    <tr>\n",
       "      <th>121025012</th>\n",
       "      <td>Астерикс и Обеликс в Британии 3D</td>\n",
       "      <td>2012-10-05 12:00:00</td>\n",
       "      <td>Художественный</td>\n",
       "      <td>Уайлд Банч, Фиделите Фильм, Филм Кайрос, Синет...</td>\n",
       "      <td>Франция-Италия-Испания-Венгрия</td>\n",
       "      <td>Лоран Тирар</td>\n",
       "      <td>Оливье Делбоск, Марк Миссонье</td>\n",
       "      <td>«6+» - для детей старше 6 лет</td>\n",
       "      <td>NaN</td>\n",
       "      <td>NaN</td>\n",
       "      <td>NaN</td>\n",
       "      <td>NaN</td>\n",
       "      <td>5.6</td>\n",
       "      <td>комедия,приключения,семейный</td>\n",
       "      <td>80.0</td>\n",
       "    </tr>\n",
       "    <tr>\n",
       "      <th>111006113</th>\n",
       "      <td>За спичками</td>\n",
       "      <td>2013-10-18 12:00:00</td>\n",
       "      <td>Художественный</td>\n",
       "      <td>Киностудия \"Мосфильм\", \"СУОМИ-ФИЛЬМ\"</td>\n",
       "      <td>СССР, Финляндия</td>\n",
       "      <td>Л.Гайдай, Р.Орко</td>\n",
       "      <td>Неизвестно</td>\n",
       "      <td>«12+» - для детей старше 12 лет</td>\n",
       "      <td>NaN</td>\n",
       "      <td>NaN</td>\n",
       "      <td>NaN</td>\n",
       "      <td>NaN</td>\n",
       "      <td>7.5</td>\n",
       "      <td>комедия,приключения,история</td>\n",
       "      <td>100.0</td>\n",
       "    </tr>\n",
       "  </tbody>\n",
       "</table>\n",
       "</div>"
      ],
      "text/plain": [
       "                                      title     show_start_date  \\\n",
       "pu_number                                                         \n",
       "111006013                   Жестокий романс 2013-10-18 12:00:00   \n",
       "111016714                  Каменный цветок. 2014-12-01 12:00:00   \n",
       "121006410              22 пули: Бессмертный 2010-04-01 12:00:00   \n",
       "121025012  Астерикс и Обеликс в Британии 3D 2012-10-05 12:00:00   \n",
       "111006113                       За спичками 2013-10-18 12:00:00   \n",
       "\n",
       "                     type                                        film_studio  \\\n",
       "pu_number                                                                      \n",
       "111006013  Художественный                              Киностудия \"Мосфильм\"   \n",
       "111016714  Художественный                              Киностудия \"Мосфильм\"   \n",
       "121006410  Художественный                                   Еуроп Корпорейшн   \n",
       "121025012  Художественный  Уайлд Банч, Фиделите Фильм, Филм Кайрос, Синет...   \n",
       "111006113  Художественный              Киностудия \"Мосфильм\", \"СУОМИ-ФИЛЬМ\"    \n",
       "\n",
       "                       production_country          director  \\\n",
       "pu_number                                                     \n",
       "111006013                            СССР         Э.Рязанов   \n",
       "111016714                            СССР          А.Птушко   \n",
       "121006410                         Франция        Ришар Бери   \n",
       "121025012  Франция-Италия-Испания-Венгрия       Лоран Тирар   \n",
       "111006113                 СССР, Финляндия  Л.Гайдай, Р.Орко   \n",
       "\n",
       "                                             producer  \\\n",
       "pu_number                                               \n",
       "111006013                                  Неизвестно   \n",
       "111016714                                  Неизвестно   \n",
       "121006410  Люк Бессон, Дидье Хорау, Пьер-Анж Ле Погам   \n",
       "121025012               Оливье Делбоск, Марк Миссонье   \n",
       "111006113                                  Неизвестно   \n",
       "\n",
       "                                  age_restriction  refundable_support  \\\n",
       "pu_number                                                               \n",
       "111006013         «12+» - для детей старше 12 лет                 NaN   \n",
       "111016714  «0+» - для любой зрительской аудитории                 NaN   \n",
       "121006410         «16+» - для детей старше 16 лет                 NaN   \n",
       "121025012           «6+» - для детей старше 6 лет                 NaN   \n",
       "111006113         «12+» - для детей старше 12 лет                 NaN   \n",
       "\n",
       "           nonrefundable_support  budget financing_source  ratings  \\\n",
       "pu_number                                                            \n",
       "111006013                    NaN     NaN              NaN      8.1   \n",
       "111016714                    NaN     NaN              NaN      7.1   \n",
       "121006410                    NaN     NaN              NaN      7.1   \n",
       "121025012                    NaN     NaN              NaN      5.6   \n",
       "111006113                    NaN     NaN              NaN      7.5   \n",
       "\n",
       "                                 genres  box_office  \n",
       "pu_number                                            \n",
       "111006013       драма,мелодрама,история        40.0  \n",
       "111016714       фэнтези,драма,мелодрама        50.0  \n",
       "121006410         боевик,драма,криминал        75.0  \n",
       "121025012  комедия,приключения,семейный        80.0  \n",
       "111006113   комедия,приключения,история       100.0  "
      ]
     },
     "execution_count": 24,
     "metadata": {},
     "output_type": "execute_result"
    }
   ],
   "source": [
    "#но на всякий случай можно проверить фильмы с максимальной и минимальной кассой:\n",
    "display(data.sort_values('box_office', ascending=False).head())\n",
    "data.sort_values('box_office').head()"
   ]
  },
  {
   "cell_type": "markdown",
   "metadata": {},
   "source": [
    "По максимумам все понятно: \"Холоп\", \"Движение вверх\" и \"Мстители\" были хитами.\n",
    "А с минимумами странно: 'Жестокий романс' собрал 40 рублей. Возможно, для старых фильмов сборы заведены некорректно."
   ]
  },
  {
   "cell_type": "markdown",
   "metadata": {},
   "source": [
    "##### Господдержка"
   ]
  },
  {
   "cell_type": "code",
   "execution_count": 25,
   "metadata": {
    "id": "YbzClBxagFyS",
    "scrolled": false
   },
   "outputs": [
    {
     "data": {
      "text/html": [
       "<div>\n",
       "<style scoped>\n",
       "    .dataframe tbody tr th:only-of-type {\n",
       "        vertical-align: middle;\n",
       "    }\n",
       "\n",
       "    .dataframe tbody tr th {\n",
       "        vertical-align: top;\n",
       "    }\n",
       "\n",
       "    .dataframe thead th {\n",
       "        text-align: right;\n",
       "    }\n",
       "</style>\n",
       "<table border=\"1\" class=\"dataframe\">\n",
       "  <thead>\n",
       "    <tr style=\"text-align: right;\">\n",
       "      <th></th>\n",
       "      <th>budget</th>\n",
       "      <th>refundable_support</th>\n",
       "      <th>nonrefundable_support</th>\n",
       "    </tr>\n",
       "  </thead>\n",
       "  <tbody>\n",
       "    <tr>\n",
       "      <th>count</th>\n",
       "      <td>3.320000e+02</td>\n",
       "      <td>3.320000e+02</td>\n",
       "      <td>3.320000e+02</td>\n",
       "    </tr>\n",
       "    <tr>\n",
       "      <th>mean</th>\n",
       "      <td>1.272297e+08</td>\n",
       "      <td>1.186446e+07</td>\n",
       "      <td>4.898099e+07</td>\n",
       "    </tr>\n",
       "    <tr>\n",
       "      <th>std</th>\n",
       "      <td>1.885883e+08</td>\n",
       "      <td>2.491656e+07</td>\n",
       "      <td>5.998012e+07</td>\n",
       "    </tr>\n",
       "    <tr>\n",
       "      <th>min</th>\n",
       "      <td>0.000000e+00</td>\n",
       "      <td>0.000000e+00</td>\n",
       "      <td>0.000000e+00</td>\n",
       "    </tr>\n",
       "    <tr>\n",
       "      <th>25%</th>\n",
       "      <td>4.200000e+07</td>\n",
       "      <td>0.000000e+00</td>\n",
       "      <td>2.500000e+07</td>\n",
       "    </tr>\n",
       "    <tr>\n",
       "      <th>50%</th>\n",
       "      <td>6.864992e+07</td>\n",
       "      <td>0.000000e+00</td>\n",
       "      <td>3.000000e+07</td>\n",
       "    </tr>\n",
       "    <tr>\n",
       "      <th>75%</th>\n",
       "      <td>1.419853e+08</td>\n",
       "      <td>1.500000e+07</td>\n",
       "      <td>4.037500e+07</td>\n",
       "    </tr>\n",
       "    <tr>\n",
       "      <th>max</th>\n",
       "      <td>2.305074e+09</td>\n",
       "      <td>1.800000e+08</td>\n",
       "      <td>4.000000e+08</td>\n",
       "    </tr>\n",
       "  </tbody>\n",
       "</table>\n",
       "</div>"
      ],
      "text/plain": [
       "             budget  refundable_support  nonrefundable_support\n",
       "count  3.320000e+02        3.320000e+02           3.320000e+02\n",
       "mean   1.272297e+08        1.186446e+07           4.898099e+07\n",
       "std    1.885883e+08        2.491656e+07           5.998012e+07\n",
       "min    0.000000e+00        0.000000e+00           0.000000e+00\n",
       "25%    4.200000e+07        0.000000e+00           2.500000e+07\n",
       "50%    6.864992e+07        0.000000e+00           3.000000e+07\n",
       "75%    1.419853e+08        1.500000e+07           4.037500e+07\n",
       "max    2.305074e+09        1.800000e+08           4.000000e+08"
      ]
     },
     "metadata": {},
     "output_type": "display_data"
    },
    {
     "data": {
      "image/png": "[encoded data removed]",
      "text/plain": [
       "<Figure size 720x432 with 4 Axes>"
      ]
     },
     "metadata": {
      "needs_background": "light"
     },
     "output_type": "display_data"
    }
   ],
   "source": [
    "has_support = data['nonrefundable_support'].notna()\n",
    "display(data[has_support][['budget', 'refundable_support', 'nonrefundable_support']].describe())\n",
    "data[has_support][['budget', 'refundable_support', 'nonrefundable_support']].hist(bins=20, figsize=(10,6));"
   ]
  },
  {
   "cell_type": "code",
   "execution_count": 26,
   "metadata": {
    "scrolled": false
   },
   "outputs": [
    {
     "name": "stdout",
     "output_type": "stream",
     "text": [
      "Дубликаты среди фильмом с нулевым бюджетом: 0\n"
     ]
    },
    {
     "data": {
      "text/html": [
       "<div>\n",
       "<style scoped>\n",
       "    .dataframe tbody tr th:only-of-type {\n",
       "        vertical-align: middle;\n",
       "    }\n",
       "\n",
       "    .dataframe tbody tr th {\n",
       "        vertical-align: top;\n",
       "    }\n",
       "\n",
       "    .dataframe thead th {\n",
       "        text-align: right;\n",
       "    }\n",
       "</style>\n",
       "<table border=\"1\" class=\"dataframe\">\n",
       "  <thead>\n",
       "    <tr style=\"text-align: right;\">\n",
       "      <th></th>\n",
       "      <th>title</th>\n",
       "      <th>show_start_date</th>\n",
       "      <th>type</th>\n",
       "      <th>film_studio</th>\n",
       "      <th>production_country</th>\n",
       "      <th>director</th>\n",
       "      <th>producer</th>\n",
       "      <th>age_restriction</th>\n",
       "      <th>refundable_support</th>\n",
       "      <th>nonrefundable_support</th>\n",
       "      <th>budget</th>\n",
       "      <th>financing_source</th>\n",
       "      <th>ratings</th>\n",
       "      <th>genres</th>\n",
       "      <th>box_office</th>\n",
       "    </tr>\n",
       "    <tr>\n",
       "      <th>pu_number</th>\n",
       "      <th></th>\n",
       "      <th></th>\n",
       "      <th></th>\n",
       "      <th></th>\n",
       "      <th></th>\n",
       "      <th></th>\n",
       "      <th></th>\n",
       "      <th></th>\n",
       "      <th></th>\n",
       "      <th></th>\n",
       "      <th></th>\n",
       "      <th></th>\n",
       "      <th></th>\n",
       "      <th></th>\n",
       "      <th></th>\n",
       "    </tr>\n",
       "  </thead>\n",
       "  <tbody>\n",
       "    <tr>\n",
       "      <th>111023614</th>\n",
       "      <td>14+</td>\n",
       "      <td>2014-12-19 12:00:00</td>\n",
       "      <td>Художественный</td>\n",
       "      <td>ООО Киностудия  \"Сентябрь\"</td>\n",
       "      <td>Россия</td>\n",
       "      <td>А.Зайцев</td>\n",
       "      <td>О.Гранина, А.Зайцев</td>\n",
       "      <td>«16+» - для детей старше 16 лет</td>\n",
       "      <td>0.0</td>\n",
       "      <td>23000000.0</td>\n",
       "      <td>0.0</td>\n",
       "      <td>Министерство культуры, Фонд кино</td>\n",
       "      <td>6.6</td>\n",
       "      <td>мелодрама</td>\n",
       "      <td>1.023402e+07</td>\n",
       "    </tr>\n",
       "    <tr>\n",
       "      <th>111000415</th>\n",
       "      <td>Дуxless 2</td>\n",
       "      <td>2015-01-26 12:00:00</td>\n",
       "      <td>Художественный</td>\n",
       "      <td>ООО \"Киностудия \"Слово\", ООО \"Арт Пикчерс Студия\"</td>\n",
       "      <td>Россия</td>\n",
       "      <td>Р.Прыгунов</td>\n",
       "      <td>П.Ануров, Ф.Бондарчук, Д.Рудовский</td>\n",
       "      <td>«16+» - для детей старше 16 лет</td>\n",
       "      <td>0.0</td>\n",
       "      <td>75000000.0</td>\n",
       "      <td>0.0</td>\n",
       "      <td>Фонд кино</td>\n",
       "      <td>6.6</td>\n",
       "      <td>драма</td>\n",
       "      <td>4.461635e+08</td>\n",
       "    </tr>\n",
       "    <tr>\n",
       "      <th>111017315</th>\n",
       "      <td>Воин (2015)</td>\n",
       "      <td>2015-09-28 12:00:00</td>\n",
       "      <td>Художественный</td>\n",
       "      <td>ООО \"Форпост Продакшн\", ООО \"Арт Пикчерс Студия\"</td>\n",
       "      <td>Россия</td>\n",
       "      <td>А.Андрианов</td>\n",
       "      <td>ООО \"Арт Пикчерс Студия\"</td>\n",
       "      <td>«12+» - для детей старше 12 лет</td>\n",
       "      <td>10000000.0</td>\n",
       "      <td>70000000.0</td>\n",
       "      <td>0.0</td>\n",
       "      <td>Фонд кино</td>\n",
       "      <td>7.8</td>\n",
       "      <td>боевик,драма,криминал</td>\n",
       "      <td>1.965724e+08</td>\n",
       "    </tr>\n",
       "    <tr>\n",
       "      <th>111009615</th>\n",
       "      <td>Бармен.</td>\n",
       "      <td>2015-05-26 12:00:00</td>\n",
       "      <td>Художественный</td>\n",
       "      <td>АО \"ВайТ Медиа\", ООО \"Арт Пикчерс Студия\"</td>\n",
       "      <td>Россия</td>\n",
       "      <td>Д.Штурманова</td>\n",
       "      <td>Т.Вайнштейн</td>\n",
       "      <td>«16+» - для детей старше 16 лет</td>\n",
       "      <td>20000000.0</td>\n",
       "      <td>0.0</td>\n",
       "      <td>0.0</td>\n",
       "      <td>Фонд кино</td>\n",
       "      <td>6.2</td>\n",
       "      <td>комедия,фэнтези</td>\n",
       "      <td>6.741897e+07</td>\n",
       "    </tr>\n",
       "    <tr>\n",
       "      <th>114001715</th>\n",
       "      <td>Савва. Сердце воина</td>\n",
       "      <td>2015-07-21 12:00:00</td>\n",
       "      <td>Анимационный</td>\n",
       "      <td>ООО \"Глюкоза Продакшн\", ООО \"Арт Пикчерс Студия\"</td>\n",
       "      <td>Россия</td>\n",
       "      <td>М.Фадеев</td>\n",
       "      <td>А.Чистяков</td>\n",
       "      <td>«6+» - для детей старше 6 лет</td>\n",
       "      <td>60000000.0</td>\n",
       "      <td>100000000.0</td>\n",
       "      <td>0.0</td>\n",
       "      <td>Фонд кино</td>\n",
       "      <td>4.6</td>\n",
       "      <td>мультфильм,приключения,фэнтези</td>\n",
       "      <td>1.844876e+08</td>\n",
       "    </tr>\n",
       "    <tr>\n",
       "      <th>111010215</th>\n",
       "      <td>Тряпичный союз</td>\n",
       "      <td>2015-06-08 12:00:00</td>\n",
       "      <td>Художественный</td>\n",
       "      <td>ООО \"Кинокомпания \"КОКТЕБЕЛЬ\"</td>\n",
       "      <td>Россия</td>\n",
       "      <td>М.Местецкий</td>\n",
       "      <td>Р.Борисевич, А.Кушаев</td>\n",
       "      <td>«18+» - запрещено для детей</td>\n",
       "      <td>0.0</td>\n",
       "      <td>59000000.0</td>\n",
       "      <td>0.0</td>\n",
       "      <td>Фонд кино</td>\n",
       "      <td>6.3</td>\n",
       "      <td>комедия,драма</td>\n",
       "      <td>1.957739e+06</td>\n",
       "    </tr>\n",
       "    <tr>\n",
       "      <th>111017115</th>\n",
       "      <td>Срочно выйду замуж</td>\n",
       "      <td>2015-09-30 12:00:00</td>\n",
       "      <td>Художественный</td>\n",
       "      <td>АО \"ВайТ Медиа\", ООО \"Арт Пикчерс Студия\"</td>\n",
       "      <td>Россия</td>\n",
       "      <td>С Чекалов</td>\n",
       "      <td>Ф.Бондарчук, Т.Вайнштейн, Д.Рудовский</td>\n",
       "      <td>«16+» - для детей старше 16 лет</td>\n",
       "      <td>0.0</td>\n",
       "      <td>35000000.0</td>\n",
       "      <td>0.0</td>\n",
       "      <td>Фонд кино</td>\n",
       "      <td>5.1</td>\n",
       "      <td>комедия,мелодрама</td>\n",
       "      <td>7.293778e+07</td>\n",
       "    </tr>\n",
       "    <tr>\n",
       "      <th>111004916</th>\n",
       "      <td>Помню - не помню!</td>\n",
       "      <td>2016-03-01 12:00:00</td>\n",
       "      <td>Художественный</td>\n",
       "      <td>ООО \"КиноФирма\"</td>\n",
       "      <td>Россия</td>\n",
       "      <td>В.Ровенский</td>\n",
       "      <td>ООО \"КиноФирма\"</td>\n",
       "      <td>«12+» - для детей старше 12 лет</td>\n",
       "      <td>0.0</td>\n",
       "      <td>6000000.0</td>\n",
       "      <td>0.0</td>\n",
       "      <td>Министерство культуры</td>\n",
       "      <td>4.3</td>\n",
       "      <td>комедия</td>\n",
       "      <td>1.536293e+07</td>\n",
       "    </tr>\n",
       "    <tr>\n",
       "      <th>111008216</th>\n",
       "      <td>Любовь с ограничениями</td>\n",
       "      <td>2016-04-29 12:00:00</td>\n",
       "      <td>Художественный</td>\n",
       "      <td>АО \"ВайТ Медиа\", ООО \"Арт Пикчерс Студия\"</td>\n",
       "      <td>Россия</td>\n",
       "      <td>Д.Тюрин</td>\n",
       "      <td>Ф.Бондарчук, Т.Вайнштейн, Д.Рудовский</td>\n",
       "      <td>«16+» - для детей старше 16 лет</td>\n",
       "      <td>19000000.0</td>\n",
       "      <td>51000000.0</td>\n",
       "      <td>0.0</td>\n",
       "      <td>Фонд кино</td>\n",
       "      <td>6.3</td>\n",
       "      <td>комедия,мелодрама</td>\n",
       "      <td>7.029905e+07</td>\n",
       "    </tr>\n",
       "    <tr>\n",
       "      <th>111018116</th>\n",
       "      <td>Притяжение (2016)</td>\n",
       "      <td>2016-12-16 12:00:00</td>\n",
       "      <td>Художественный</td>\n",
       "      <td>ООО \"Водород 2011\",  ООО \"Арт Пикчерс Студия\"</td>\n",
       "      <td>Россия</td>\n",
       "      <td>Ф.Бондарчук</td>\n",
       "      <td>ООО \"Арт Пикчерс Студия\"</td>\n",
       "      <td>«12+» - для детей старше 12 лет</td>\n",
       "      <td>0.0</td>\n",
       "      <td>250000000.0</td>\n",
       "      <td>0.0</td>\n",
       "      <td>Фонд кино</td>\n",
       "      <td>5.6</td>\n",
       "      <td>фантастика</td>\n",
       "      <td>1.038321e+09</td>\n",
       "    </tr>\n",
       "    <tr>\n",
       "      <th>114001817</th>\n",
       "      <td>Чудо-юдо</td>\n",
       "      <td>2017-06-27 12:00:00</td>\n",
       "      <td>Анимационный</td>\n",
       "      <td>ООО \"КиноФирма\"</td>\n",
       "      <td>Россия</td>\n",
       "      <td>А.Лукичев</td>\n",
       "      <td>ООО \"КиноФирма\"</td>\n",
       "      <td>«6+» - для детей старше 6 лет</td>\n",
       "      <td>20000000.0</td>\n",
       "      <td>20000000.0</td>\n",
       "      <td>0.0</td>\n",
       "      <td>Фонд кино</td>\n",
       "      <td>5.2</td>\n",
       "      <td>мультфильм,фэнтези,семейный</td>\n",
       "      <td>5.510801e+07</td>\n",
       "    </tr>\n",
       "    <tr>\n",
       "      <th>111004317</th>\n",
       "      <td>Мифы</td>\n",
       "      <td>2017-06-07 12:00:00</td>\n",
       "      <td>Художественный</td>\n",
       "      <td>ООО \"ХАЙПФИЛМ\", ООО \"Арт Пикчерс Студия\"</td>\n",
       "      <td>Россия</td>\n",
       "      <td>А.Молочников</td>\n",
       "      <td>Ф.Бондарчук, Д.Рудовский, И.Стюарт, М.Османн, ...</td>\n",
       "      <td>«16+» - для детей старше 16 лет</td>\n",
       "      <td>25000000.0</td>\n",
       "      <td>20000000.0</td>\n",
       "      <td>0.0</td>\n",
       "      <td>Фонд кино</td>\n",
       "      <td>4.8</td>\n",
       "      <td>комедия</td>\n",
       "      <td>5.045195e+07</td>\n",
       "    </tr>\n",
       "    <tr>\n",
       "      <th>111012117</th>\n",
       "      <td>Селфи</td>\n",
       "      <td>2018-02-01 12:00:00</td>\n",
       "      <td>Художественный</td>\n",
       "      <td>ООО \"Киностудия \"Слово\", ООО \"Арт Пикчерс Студия\"</td>\n",
       "      <td>Россия</td>\n",
       "      <td>Н.Хомерики</td>\n",
       "      <td>П.Ануров, Ф.Бондарчук, Д.Рудовский</td>\n",
       "      <td>«16+» - для детей старше 16 лет</td>\n",
       "      <td>20000000.0</td>\n",
       "      <td>40000000.0</td>\n",
       "      <td>0.0</td>\n",
       "      <td>Фонд кино</td>\n",
       "      <td>5.8</td>\n",
       "      <td>триллер,драма</td>\n",
       "      <td>2.251964e+08</td>\n",
       "    </tr>\n",
       "    <tr>\n",
       "      <th>114001018</th>\n",
       "      <td>Два хвоста</td>\n",
       "      <td>2018-05-31 12:00:00</td>\n",
       "      <td>Анимационный</td>\n",
       "      <td>ООО \"ЛИЦЕНЗИОННЫЕ БРЕНДЫ\"</td>\n",
       "      <td>Россия</td>\n",
       "      <td>В.Ровенский, Н.Лопато, В.Азеев</td>\n",
       "      <td>ООО \"ЛИЦЕНЗИОННЫЕ БРЕНДЫ\"</td>\n",
       "      <td>«6+» - для детей старше 6 лет</td>\n",
       "      <td>10000000.0</td>\n",
       "      <td>60000000.0</td>\n",
       "      <td>0.0</td>\n",
       "      <td>Фонд кино</td>\n",
       "      <td>5.0</td>\n",
       "      <td>мультфильм,детский</td>\n",
       "      <td>1.065143e+08</td>\n",
       "    </tr>\n",
       "    <tr>\n",
       "      <th>114003018</th>\n",
       "      <td>Принцесса и дракон</td>\n",
       "      <td>2018-08-23 12:00:00</td>\n",
       "      <td>Анимационный</td>\n",
       "      <td>ООО \"ЛИЦЕНЗИОННЫЕ БРЕНДЫ\"</td>\n",
       "      <td>Россия</td>\n",
       "      <td>М.Нефедова</td>\n",
       "      <td>ООО \"ЛИЦЕНЗИОННЫЕ БРЕНДЫ\"</td>\n",
       "      <td>«6+» - для детей старше 6 лет</td>\n",
       "      <td>40000000.0</td>\n",
       "      <td>40000000.0</td>\n",
       "      <td>0.0</td>\n",
       "      <td>Фонд кино</td>\n",
       "      <td>5.2</td>\n",
       "      <td>мультфильм,фэнтези,детский</td>\n",
       "      <td>8.336633e+07</td>\n",
       "    </tr>\n",
       "    <tr>\n",
       "      <th>114006518</th>\n",
       "      <td>Баба Яга</td>\n",
       "      <td>2018-11-08 12:00:00</td>\n",
       "      <td>Анимационный</td>\n",
       "      <td>ООО \"Арт Пикчерс Студия\"</td>\n",
       "      <td>Россия</td>\n",
       "      <td>В.Саков</td>\n",
       "      <td>ООО \"Арт Пикчерс Студия\", ООО \"КРИЭЙТИВ АНИМЭЙ...</td>\n",
       "      <td>«6+» - для детей старше 6 лет</td>\n",
       "      <td>0.0</td>\n",
       "      <td>138969465.0</td>\n",
       "      <td>0.0</td>\n",
       "      <td>Фонд кино</td>\n",
       "      <td>NaN</td>\n",
       "      <td>Неизвестно</td>\n",
       "      <td>1.334699e+06</td>\n",
       "    </tr>\n",
       "    <tr>\n",
       "      <th>114002419</th>\n",
       "      <td>Большое путешествие</td>\n",
       "      <td>2019-04-20 12:00:00</td>\n",
       "      <td>Анимационный</td>\n",
       "      <td>ООО \"ЛИЦЕНЗИОННЫЕ БРЕНДЫ\"</td>\n",
       "      <td>Россия</td>\n",
       "      <td>Н.Лопато, В.Ровенский</td>\n",
       "      <td>ООО \"ЛИЦЕНЗИОННЫЕ БРЕНДЫ\"</td>\n",
       "      <td>«6+» - для детей старше 6 лет</td>\n",
       "      <td>60000000.0</td>\n",
       "      <td>120000000.0</td>\n",
       "      <td>0.0</td>\n",
       "      <td>Фонд кино</td>\n",
       "      <td>6.2</td>\n",
       "      <td>мультфильм,комедия,приключения</td>\n",
       "      <td>1.476068e+08</td>\n",
       "    </tr>\n",
       "  </tbody>\n",
       "</table>\n",
       "</div>"
      ],
      "text/plain": [
       "                            title     show_start_date            type  \\\n",
       "pu_number                                                               \n",
       "111023614                     14+ 2014-12-19 12:00:00  Художественный   \n",
       "111000415               Дуxless 2 2015-01-26 12:00:00  Художественный   \n",
       "111017315             Воин (2015) 2015-09-28 12:00:00  Художественный   \n",
       "111009615                 Бармен. 2015-05-26 12:00:00  Художественный   \n",
       "114001715     Савва. Сердце воина 2015-07-21 12:00:00    Анимационный   \n",
       "111010215          Тряпичный союз 2015-06-08 12:00:00  Художественный   \n",
       "111017115      Срочно выйду замуж 2015-09-30 12:00:00  Художественный   \n",
       "111004916       Помню - не помню! 2016-03-01 12:00:00  Художественный   \n",
       "111008216  Любовь с ограничениями 2016-04-29 12:00:00  Художественный   \n",
       "111018116       Притяжение (2016) 2016-12-16 12:00:00  Художественный   \n",
       "114001817                Чудо-юдо 2017-06-27 12:00:00    Анимационный   \n",
       "111004317                    Мифы 2017-06-07 12:00:00  Художественный   \n",
       "111012117                   Селфи 2018-02-01 12:00:00  Художественный   \n",
       "114001018              Два хвоста 2018-05-31 12:00:00    Анимационный   \n",
       "114003018      Принцесса и дракон 2018-08-23 12:00:00    Анимационный   \n",
       "114006518                Баба Яга 2018-11-08 12:00:00    Анимационный   \n",
       "114002419     Большое путешествие 2019-04-20 12:00:00    Анимационный   \n",
       "\n",
       "                                                 film_studio  \\\n",
       "pu_number                                                      \n",
       "111023614                         ООО Киностудия  \"Сентябрь\"   \n",
       "111000415  ООО \"Киностудия \"Слово\", ООО \"Арт Пикчерс Студия\"   \n",
       "111017315   ООО \"Форпост Продакшн\", ООО \"Арт Пикчерс Студия\"   \n",
       "111009615          АО \"ВайТ Медиа\", ООО \"Арт Пикчерс Студия\"   \n",
       "114001715   ООО \"Глюкоза Продакшн\", ООО \"Арт Пикчерс Студия\"   \n",
       "111010215                      ООО \"Кинокомпания \"КОКТЕБЕЛЬ\"   \n",
       "111017115          АО \"ВайТ Медиа\", ООО \"Арт Пикчерс Студия\"   \n",
       "111004916                                    ООО \"КиноФирма\"   \n",
       "111008216          АО \"ВайТ Медиа\", ООО \"Арт Пикчерс Студия\"   \n",
       "111018116      ООО \"Водород 2011\",  ООО \"Арт Пикчерс Студия\"   \n",
       "114001817                                    ООО \"КиноФирма\"   \n",
       "111004317           ООО \"ХАЙПФИЛМ\", ООО \"Арт Пикчерс Студия\"   \n",
       "111012117  ООО \"Киностудия \"Слово\", ООО \"Арт Пикчерс Студия\"   \n",
       "114001018                          ООО \"ЛИЦЕНЗИОННЫЕ БРЕНДЫ\"   \n",
       "114003018                          ООО \"ЛИЦЕНЗИОННЫЕ БРЕНДЫ\"   \n",
       "114006518                           ООО \"Арт Пикчерс Студия\"   \n",
       "114002419                          ООО \"ЛИЦЕНЗИОННЫЕ БРЕНДЫ\"   \n",
       "\n",
       "          production_country                        director  \\\n",
       "pu_number                                                      \n",
       "111023614             Россия                        А.Зайцев   \n",
       "111000415             Россия                      Р.Прыгунов   \n",
       "111017315             Россия                     А.Андрианов   \n",
       "111009615             Россия                    Д.Штурманова   \n",
       "114001715             Россия                        М.Фадеев   \n",
       "111010215             Россия                     М.Местецкий   \n",
       "111017115             Россия                       С Чекалов   \n",
       "111004916             Россия                     В.Ровенский   \n",
       "111008216             Россия                         Д.Тюрин   \n",
       "111018116             Россия                     Ф.Бондарчук   \n",
       "114001817             Россия                       А.Лукичев   \n",
       "111004317             Россия                    А.Молочников   \n",
       "111012117             Россия                      Н.Хомерики   \n",
       "114001018             Россия  В.Ровенский, Н.Лопато, В.Азеев   \n",
       "114003018             Россия                      М.Нефедова   \n",
       "114006518             Россия                         В.Саков   \n",
       "114002419             Россия           Н.Лопато, В.Ровенский   \n",
       "\n",
       "                                                    producer  \\\n",
       "pu_number                                                      \n",
       "111023614                                О.Гранина, А.Зайцев   \n",
       "111000415                 П.Ануров, Ф.Бондарчук, Д.Рудовский   \n",
       "111017315                           ООО \"Арт Пикчерс Студия\"   \n",
       "111009615                                        Т.Вайнштейн   \n",
       "114001715                                         А.Чистяков   \n",
       "111010215                              Р.Борисевич, А.Кушаев   \n",
       "111017115              Ф.Бондарчук, Т.Вайнштейн, Д.Рудовский   \n",
       "111004916                                    ООО \"КиноФирма\"   \n",
       "111008216              Ф.Бондарчук, Т.Вайнштейн, Д.Рудовский   \n",
       "111018116                           ООО \"Арт Пикчерс Студия\"   \n",
       "114001817                                    ООО \"КиноФирма\"   \n",
       "111004317  Ф.Бондарчук, Д.Рудовский, И.Стюарт, М.Османн, ...   \n",
       "111012117                 П.Ануров, Ф.Бондарчук, Д.Рудовский   \n",
       "114001018                          ООО \"ЛИЦЕНЗИОННЫЕ БРЕНДЫ\"   \n",
       "114003018                          ООО \"ЛИЦЕНЗИОННЫЕ БРЕНДЫ\"   \n",
       "114006518  ООО \"Арт Пикчерс Студия\", ООО \"КРИЭЙТИВ АНИМЭЙ...   \n",
       "114002419                          ООО \"ЛИЦЕНЗИОННЫЕ БРЕНДЫ\"   \n",
       "\n",
       "                           age_restriction  refundable_support  \\\n",
       "pu_number                                                        \n",
       "111023614  «16+» - для детей старше 16 лет                 0.0   \n",
       "111000415  «16+» - для детей старше 16 лет                 0.0   \n",
       "111017315  «12+» - для детей старше 12 лет          10000000.0   \n",
       "111009615  «16+» - для детей старше 16 лет          20000000.0   \n",
       "114001715    «6+» - для детей старше 6 лет          60000000.0   \n",
       "111010215      «18+» - запрещено для детей                 0.0   \n",
       "111017115  «16+» - для детей старше 16 лет                 0.0   \n",
       "111004916  «12+» - для детей старше 12 лет                 0.0   \n",
       "111008216  «16+» - для детей старше 16 лет          19000000.0   \n",
       "111018116  «12+» - для детей старше 12 лет                 0.0   \n",
       "114001817    «6+» - для детей старше 6 лет          20000000.0   \n",
       "111004317  «16+» - для детей старше 16 лет          25000000.0   \n",
       "111012117  «16+» - для детей старше 16 лет          20000000.0   \n",
       "114001018    «6+» - для детей старше 6 лет          10000000.0   \n",
       "114003018    «6+» - для детей старше 6 лет          40000000.0   \n",
       "114006518    «6+» - для детей старше 6 лет                 0.0   \n",
       "114002419    «6+» - для детей старше 6 лет          60000000.0   \n",
       "\n",
       "           nonrefundable_support  budget                  financing_source  \\\n",
       "pu_number                                                                    \n",
       "111023614             23000000.0     0.0  Министерство культуры, Фонд кино   \n",
       "111000415             75000000.0     0.0                         Фонд кино   \n",
       "111017315             70000000.0     0.0                         Фонд кино   \n",
       "111009615                    0.0     0.0                         Фонд кино   \n",
       "114001715            100000000.0     0.0                         Фонд кино   \n",
       "111010215             59000000.0     0.0                         Фонд кино   \n",
       "111017115             35000000.0     0.0                         Фонд кино   \n",
       "111004916              6000000.0     0.0             Министерство культуры   \n",
       "111008216             51000000.0     0.0                         Фонд кино   \n",
       "111018116            250000000.0     0.0                         Фонд кино   \n",
       "114001817             20000000.0     0.0                         Фонд кино   \n",
       "111004317             20000000.0     0.0                         Фонд кино   \n",
       "111012117             40000000.0     0.0                         Фонд кино   \n",
       "114001018             60000000.0     0.0                         Фонд кино   \n",
       "114003018             40000000.0     0.0                         Фонд кино   \n",
       "114006518            138969465.0     0.0                         Фонд кино   \n",
       "114002419            120000000.0     0.0                         Фонд кино   \n",
       "\n",
       "           ratings                          genres    box_office  \n",
       "pu_number                                                         \n",
       "111023614      6.6                       мелодрама  1.023402e+07  \n",
       "111000415      6.6                           драма  4.461635e+08  \n",
       "111017315      7.8           боевик,драма,криминал  1.965724e+08  \n",
       "111009615      6.2                 комедия,фэнтези  6.741897e+07  \n",
       "114001715      4.6  мультфильм,приключения,фэнтези  1.844876e+08  \n",
       "111010215      6.3                   комедия,драма  1.957739e+06  \n",
       "111017115      5.1               комедия,мелодрама  7.293778e+07  \n",
       "111004916      4.3                         комедия  1.536293e+07  \n",
       "111008216      6.3               комедия,мелодрама  7.029905e+07  \n",
       "111018116      5.6                      фантастика  1.038321e+09  \n",
       "114001817      5.2     мультфильм,фэнтези,семейный  5.510801e+07  \n",
       "111004317      4.8                         комедия  5.045195e+07  \n",
       "111012117      5.8                   триллер,драма  2.251964e+08  \n",
       "114001018      5.0              мультфильм,детский  1.065143e+08  \n",
       "114003018      5.2      мультфильм,фэнтези,детский  8.336633e+07  \n",
       "114006518      NaN                      Неизвестно  1.334699e+06  \n",
       "114002419      6.2  мультфильм,комедия,приключения  1.476068e+08  "
      ]
     },
     "execution_count": 26,
     "metadata": {},
     "output_type": "execute_result"
    }
   ],
   "source": [
    "#Видно, что встречается нулевой бюджет. Также, следует проверить, что поддержка не превышает бюджет\n",
    "def bad_budget_filter():\n",
    "    return (has_support) & (data['budget'] <= (data['refundable_support'] + data['nonrefundable_support']));\n",
    "\n",
    "titles_with_zero_budget = data[bad_budget_filter()]['title'].unique()\n",
    "print('Дубликаты среди фильмом с нулевым бюджетом:', data.query('title in @titles_with_zero_budget').duplicated().sum())\n",
    "data[bad_budget_filter()]"
   ]
  },
  {
   "cell_type": "code",
   "execution_count": 27,
   "metadata": {},
   "outputs": [
    {
     "data": {
      "text/plain": [
       "0"
      ]
     },
     "execution_count": 27,
     "metadata": {},
     "output_type": "execute_result"
    }
   ],
   "source": [
    "#Всего 17 уникальных строк с нулевым бюджетом. \n",
    "#Если найти для них бюджет, то с join'ом проблем не будет\n",
    "budget_fix_data = { \n",
    "    'pu_number': [\n",
    "        111023614, \n",
    "        111000415, \n",
    "        111017315, \n",
    "        111009615, \n",
    "        114001715, \n",
    "        111010215, \n",
    "        111017115, \n",
    "        111004916, \n",
    "        111008216, \n",
    "        111018116, \n",
    "        114001817, \n",
    "        111004317, \n",
    "        111012117, \n",
    "        114001018, \n",
    "        114003018, \n",
    "        114006518, \n",
    "        114002419\n",
    "    ],\n",
    "    'title_2': [\n",
    "        '14+', \n",
    "        'Дуxless 2', \n",
    "        'Воин (2015)', \n",
    "        'Бармен.', \n",
    "        'Савва. Сердце воина', \n",
    "        'Тряпичный союз', \n",
    "        'Срочно выйду замуж', \n",
    "        'Помню - не помню!', \n",
    "        'Любовь с ограничениями', \n",
    "        'Притяжение (2016)', \n",
    "        'Чудо-юдо', \n",
    "        'Мифы', \n",
    "        'Селфи', \n",
    "        'Два хвоста', \n",
    "        'Принцесса и дракон', \n",
    "        'Баба Яга', \n",
    "        'Большое путешествие'\n",
    "    ],\n",
    "    'budget_manual': [\n",
    "        30500000,\n",
    "        140000000,\n",
    "        91500000,\n",
    "        60000000,\n",
    "        1000000000,\n",
    "        np.NaN,\n",
    "        85400000,\n",
    "        87100000,\n",
    "        110000000,\n",
    "        380000000,\n",
    "        105500000,\n",
    "        50000000,\n",
    "        140000000,\n",
    "        110000000,\n",
    "        116000000,\n",
    "        220000000,\n",
    "        188500000\n",
    "    ]\n",
    "}\n",
    "budget_fix = pd.DataFrame(budget_fix_data).set_index('pu_number')\n",
    "data.loc[bad_budget_filter(), 'budget'] = data.join(budget_fix)['budget_manual']\n",
    "data[bad_budget_filter()]['budget'].count()"
   ]
  },
  {
   "cell_type": "markdown",
   "metadata": {},
   "source": [
    "Невалидный бюджет удалось исправить через ручной поиск в интернете. Не лучшее решение, но таких проблемных данных было не много.\n",
    "\n",
    "Кроме того, не удалось найти бюджет одной из картин (Тряпичный союз) - для нее бюджет был конвертирован в пустоту, чтобы не попадал в анализ как ноль. Потому что нулевой бюджет невозможен."
   ]
  },
  {
   "cell_type": "code",
   "execution_count": 28,
   "metadata": {
    "scrolled": false
   },
   "outputs": [
    {
     "data": {
      "text/html": [
       "<div>\n",
       "<style scoped>\n",
       "    .dataframe tbody tr th:only-of-type {\n",
       "        vertical-align: middle;\n",
       "    }\n",
       "\n",
       "    .dataframe tbody tr th {\n",
       "        vertical-align: top;\n",
       "    }\n",
       "\n",
       "    .dataframe thead th {\n",
       "        text-align: right;\n",
       "    }\n",
       "</style>\n",
       "<table border=\"1\" class=\"dataframe\">\n",
       "  <thead>\n",
       "    <tr style=\"text-align: right;\">\n",
       "      <th></th>\n",
       "      <th>title</th>\n",
       "    </tr>\n",
       "    <tr>\n",
       "      <th>pu_number</th>\n",
       "      <th></th>\n",
       "    </tr>\n",
       "  </thead>\n",
       "  <tbody>\n",
       "    <tr>\n",
       "      <th>111018715</th>\n",
       "      <td>Золотая рыбка (2015)</td>\n",
       "    </tr>\n",
       "    <tr>\n",
       "      <th>111001217</th>\n",
       "      <td>Любовь и Сакс</td>\n",
       "    </tr>\n",
       "    <tr>\n",
       "      <th>214010116</th>\n",
       "      <td>Колобанга. Только для пользователей Интернета ...</td>\n",
       "    </tr>\n",
       "    <tr>\n",
       "      <th>111011917</th>\n",
       "      <td>Детский юмористический киножурнал \"ЕРАЛАШ\", вы...</td>\n",
       "    </tr>\n",
       "    <tr>\n",
       "      <th>111023518</th>\n",
       "      <td>Зима</td>\n",
       "    </tr>\n",
       "    <tr>\n",
       "      <th>111002619</th>\n",
       "      <td>Мальчик русский</td>\n",
       "    </tr>\n",
       "    <tr>\n",
       "      <th>111008619</th>\n",
       "      <td>Танец с саблями</td>\n",
       "    </tr>\n",
       "    <tr>\n",
       "      <th>111010019</th>\n",
       "      <td>Куратор</td>\n",
       "    </tr>\n",
       "    <tr>\n",
       "      <th>112004619</th>\n",
       "      <td>Байкал - Сердце мира 3D</td>\n",
       "    </tr>\n",
       "    <tr>\n",
       "      <th>111015519</th>\n",
       "      <td>На Луне</td>\n",
       "    </tr>\n",
       "    <tr>\n",
       "      <th>111018919</th>\n",
       "      <td>Кроличья лапа</td>\n",
       "    </tr>\n",
       "    <tr>\n",
       "      <th>111022519</th>\n",
       "      <td>Вторжение</td>\n",
       "    </tr>\n",
       "    <tr>\n",
       "      <th>111023019</th>\n",
       "      <td>Я свободен</td>\n",
       "    </tr>\n",
       "    <tr>\n",
       "      <th>111023119</th>\n",
       "      <td>(Не)идеальный мужчина</td>\n",
       "    </tr>\n",
       "  </tbody>\n",
       "</table>\n",
       "</div>"
      ],
      "text/plain": [
       "                                                       title\n",
       "pu_number                                                   \n",
       "111018715                               Золотая рыбка (2015)\n",
       "111001217                                      Любовь и Сакс\n",
       "214010116  Колобанга. Только для пользователей Интернета ...\n",
       "111011917  Детский юмористический киножурнал \"ЕРАЛАШ\", вы...\n",
       "111023518                                               Зима\n",
       "111002619                                    Мальчик русский\n",
       "111008619                                    Танец с саблями\n",
       "111010019                                            Куратор\n",
       "112004619                            Байкал - Сердце мира 3D\n",
       "111015519                                            На Луне\n",
       "111018919                                      Кроличья лапа\n",
       "111022519                                          Вторжение\n",
       "111023019                                         Я свободен\n",
       "111023119                              (Не)идеальный мужчина"
      ]
     },
     "execution_count": 28,
     "metadata": {},
     "output_type": "execute_result"
    }
   ],
   "source": [
    "#Можно еще проверить фильмы с поддержкой, но с пустыми сборами:\n",
    "data[(has_support) & (data['box_office'].isna())][['title']]"
   ]
  },
  {
   "cell_type": "code",
   "execution_count": 29,
   "metadata": {},
   "outputs": [],
   "source": [
    "box_office_fix_data = {\n",
    "    'pu_number': [\n",
    "        111018715\n",
    "        , 111001217\n",
    "        , 214010116\n",
    "        , 111011917\n",
    "        , 111023518\n",
    "        , 111002619\n",
    "        , 111008619\n",
    "        , 111010019\n",
    "        , 112004619\n",
    "        , 111015519\n",
    "        , 111018919\n",
    "        , 111022519\n",
    "        , 111023019\n",
    "        , 111023119\n",
    "    ],\n",
    "    'title_2': [\n",
    "        'Золотая рыбка (2015)'\n",
    "        , 'Любовь и Сакс'\n",
    "        , 'Колобанга. Только для пользователей Интернета (26 серий)'\n",
    "        , 'Детский юмористический киножурнал \"ЕРАЛАШ\", выпуски 312-323'\n",
    "        , 'Зима'\n",
    "        , 'Мальчик русский'\n",
    "        , 'Танец с саблями'\n",
    "        , 'Куратор'\n",
    "        , 'Байкал - Сердце мира 3D'\n",
    "        , 'На Луне'\n",
    "        , 'Кроличья лапа'\n",
    "        , 'Вторжение'\n",
    "        , 'Я свободен'\n",
    "        , '(Не)идеальный мужчина'\n",
    "    ],\n",
    "    'box_office_manual': [\n",
    "        np.NaN\n",
    "        , np.NaN\n",
    "        , np.NaN\n",
    "        , np.NaN\n",
    "        , 1413295\n",
    "        , 1002885\n",
    "        , 1400974\n",
    "        , 154830\n",
    "        , np.NaN\n",
    "        , 907075\n",
    "        , 974025\n",
    "        , 2122228680\n",
    "        , np.NaN\n",
    "        , 1024917790\n",
    "    ]\n",
    "}\n",
    "\n",
    "box_office_fix = pd.DataFrame(box_office_fix_data).set_index('pu_number')\n",
    "data.loc[(has_support) & (data['box_office'].isna()), 'box_office'] = data.join(box_office_fix)['box_office_manual']"
   ]
  },
  {
   "cell_type": "markdown",
   "metadata": {},
   "source": [
    "Часть недостававших кассовых сборов удалось найти в интернете, но часть так и осталась без сборов - документалистика и цифровые релизы."
   ]
  },
  {
   "cell_type": "markdown",
   "metadata": {
    "id": "Eu6oWp2CgFyS"
   },
   "source": [
    "#### Шаг 2.6. Добавьте новые столбцы"
   ]
  },
  {
   "cell_type": "markdown",
   "metadata": {
    "id": "7GgW-UpAgFyS"
   },
   "source": [
    "- Создайте столбец с информацией о годе проката. Выделите год из даты премьеры фильма."
   ]
  },
  {
   "cell_type": "code",
   "execution_count": 30,
   "metadata": {
    "id": "I-yd1DkWgFyT"
   },
   "outputs": [],
   "source": [
    "data['show_start_year'] = data['show_start_date'].dt.year"
   ]
  },
  {
   "cell_type": "markdown",
   "metadata": {
    "id": "nFTDLDYOgFyT"
   },
   "source": [
    "- Создайте два столбца: с именем и фамилией главного режиссёра и основным жанром фильма. В столбцы войдут первые значения из списка режиссёров и жанров соответственно.\n",
    "\n",
    "<div id=\"accordion\">\n",
    "    <div class=\"card\">\n",
    "        <div class=\"card-header\" id=\"headingThree\">\n",
    "            <button class=\"btn btn-link collapsed\" data-toggle=\"collapse\" data-target=\"#collapseHint_2\" aria-expanded=\"false\" aria-controls=\"collapseHint_2\">Подсказка</button>\n",
    "        </div>\n",
    "        <div id=\"collapseHint_2\" class=\"collapse\" aria-labelledby=\"headingThree\" data-parent=\"#accordion\">\n",
    "            <div class=\"card-body\">\n",
    "Чтобы создать такие столбцы, лучше всего использовать собственную функцию. Эту функцию можно применить к двум столбцам сразу. \n",
    "            </div>\n",
    "        </div>\n",
    "    </div>\n",
    "</div>"
   ]
  },
  {
   "cell_type": "code",
   "execution_count": 31,
   "metadata": {
    "id": "LSbRZKbMgFyU"
   },
   "outputs": [],
   "source": [
    "data['genre_primary'] = data['genres'].str.split(',').str[0].str.strip()\n",
    "data['director_primary'] = data['director'].str.split(',').str[0].str.strip()"
   ]
  },
  {
   "cell_type": "markdown",
   "metadata": {
    "id": "1FsCXHwdgFyU"
   },
   "source": [
    "- Посчитайте, какую долю от общего бюджета фильма составляет государственная поддержка."
   ]
  },
  {
   "cell_type": "code",
   "execution_count": 32,
   "metadata": {
    "id": "LV6qFuZLgFyV"
   },
   "outputs": [],
   "source": [
    "data.loc[has_support, 'budget_share'] = (data['nonrefundable_support'] + data['refundable_support']) / data['budget']\n",
    "data['support'] = data['nonrefundable_support'] + data['refundable_support']"
   ]
  },
  {
   "cell_type": "markdown",
   "metadata": {},
   "source": [
    "#### Заключение по предобработке\n",
    "* Было обнаружено и удалено две строки - дубликата по номеру прокатного удостоверения. В теории, их не должно было быть.\n",
    "* Большой объем данных с очень маленькими кассовыми сборами. Предобработка не проводилась из-за необъяснимости такого явления.\n",
    "* Часть категориальных данных была пуста. Пустоты были заполнены строкой \"Неизвестно\".\n",
    "* В поле 'Type' были значения с пробелами. Исправлено с помощью простого strip().\n",
    "* Рейтинги картин были предствлены строками в двух форматах - десятичном и процентном. Они были приведены к десятичному формату и конвертированы во float.\n",
    "* Часть строк содержала нули в качестве бюджета - для таких картин бюджет был вручную найден и заполнен из других источников."
   ]
  },
  {
   "cell_type": "markdown",
   "metadata": {
    "id": "6t4EukPLgFyV"
   },
   "source": [
    "### Шаг 3. Проведите исследовательский анализ данных\n"
   ]
  },
  {
   "cell_type": "markdown",
   "metadata": {
    "id": "vAH8WCzugFyV"
   },
   "source": [
    "- Посмотрите, сколько фильмов выходило в прокат каждый год. Обратите внимание, что данные о прокате в кинотеатрах известны не для всех фильмов. Посчитайте, какую долю составляют фильмы с указанной информацией о прокате в кинотеатрах."
   ]
  },
  {
   "cell_type": "code",
   "execution_count": 33,
   "metadata": {
    "id": "ABeV47y7gFyW"
   },
   "outputs": [
    {
     "data": {
      "image/png": "[encoded data removed]",
      "text/plain": [
       "<Figure size 864x360 with 1 Axes>"
      ]
     },
     "metadata": {
      "needs_background": "light"
     },
     "output_type": "display_data"
    }
   ],
   "source": [
    "data['show_start_year'].hist(figsize=(12,5), bins=19).minorticks_on();\n",
    "data[data['box_office'].notna()]['show_start_year'].hist(figsize=(12,5), bins=19).minorticks_on();"
   ]
  },
  {
   "cell_type": "markdown",
   "metadata": {},
   "source": [
    "В среднем, выход фильмов равномерен по годам (иногда меньше, иногда - больше). А вот доля фильмов в прокате постепенно росла с 2010 и достигла среднего плато в 2015. "
   ]
  },
  {
   "cell_type": "markdown",
   "metadata": {
    "id": "BEOdcIrIgFyW"
   },
   "source": [
    "- Изучите, как менялась динамика проката по годам. В каком году сумма сборов была минимальной? А максимальной?"
   ]
  },
  {
   "cell_type": "code",
   "execution_count": 34,
   "metadata": {
    "id": "tfEhofYvgFyX"
   },
   "outputs": [
    {
     "data": {
      "image/png": "[encoded data removed]",
      "text/plain": [
       "<Figure size 432x288 with 1 Axes>"
      ]
     },
     "metadata": {
      "needs_background": "light"
     },
     "output_type": "display_data"
    }
   ],
   "source": [
    "data.pivot_table(index='show_start_year', values='box_office', aggfunc=['sum']).plot(kind='bar');"
   ]
  },
  {
   "cell_type": "markdown",
   "metadata": {},
   "source": [
    "Минимальная касса - в 2010, максимальная - в 2019. До 2014 касса подозрительно маленькая - возможно, данные до этого не собирались, либо собирались плохо. После 2016 кассовые сборы вышли на плато в 50 млрд. рублей. Маловероятно, что это повторилось в 2020."
   ]
  },
  {
   "cell_type": "markdown",
   "metadata": {
    "id": "G-7qS-N-gFyY"
   },
   "source": [
    "- С помощью сводной таблицы посчитайте среднюю и медианную сумму сборов для каждого года."
   ]
  },
  {
   "cell_type": "code",
   "execution_count": 35,
   "metadata": {
    "id": "jmp-rgg9gFyY",
    "scrolled": false
   },
   "outputs": [
    {
     "data": {
      "text/html": [
       "<div>\n",
       "<style scoped>\n",
       "    .dataframe tbody tr th:only-of-type {\n",
       "        vertical-align: middle;\n",
       "    }\n",
       "\n",
       "    .dataframe tbody tr th {\n",
       "        vertical-align: top;\n",
       "    }\n",
       "\n",
       "    .dataframe thead tr th {\n",
       "        text-align: left;\n",
       "    }\n",
       "\n",
       "    .dataframe thead tr:last-of-type th {\n",
       "        text-align: right;\n",
       "    }\n",
       "</style>\n",
       "<table border=\"1\" class=\"dataframe\">\n",
       "  <thead>\n",
       "    <tr>\n",
       "      <th></th>\n",
       "      <th>mean</th>\n",
       "      <th>median</th>\n",
       "    </tr>\n",
       "    <tr>\n",
       "      <th></th>\n",
       "      <th>box_office</th>\n",
       "      <th>box_office</th>\n",
       "    </tr>\n",
       "    <tr>\n",
       "      <th>show_start_year</th>\n",
       "      <th></th>\n",
       "      <th></th>\n",
       "    </tr>\n",
       "  </thead>\n",
       "  <tbody>\n",
       "    <tr>\n",
       "      <th>2010</th>\n",
       "      <td>2.404608e+04</td>\n",
       "      <td>1710.000</td>\n",
       "    </tr>\n",
       "    <tr>\n",
       "      <th>2011</th>\n",
       "      <td>1.293832e+05</td>\n",
       "      <td>3000.000</td>\n",
       "    </tr>\n",
       "    <tr>\n",
       "      <th>2012</th>\n",
       "      <td>5.654815e+04</td>\n",
       "      <td>6220.000</td>\n",
       "    </tr>\n",
       "    <tr>\n",
       "      <th>2013</th>\n",
       "      <td>1.664788e+05</td>\n",
       "      <td>3580.000</td>\n",
       "    </tr>\n",
       "    <tr>\n",
       "      <th>2014</th>\n",
       "      <td>2.727089e+07</td>\n",
       "      <td>20400.000</td>\n",
       "    </tr>\n",
       "    <tr>\n",
       "      <th>2015</th>\n",
       "      <td>8.549213e+07</td>\n",
       "      <td>5003450.150</td>\n",
       "    </tr>\n",
       "    <tr>\n",
       "      <th>2016</th>\n",
       "      <td>9.117390e+07</td>\n",
       "      <td>3915041.020</td>\n",
       "    </tr>\n",
       "    <tr>\n",
       "      <th>2017</th>\n",
       "      <td>1.360328e+08</td>\n",
       "      <td>9968340.000</td>\n",
       "    </tr>\n",
       "    <tr>\n",
       "      <th>2018</th>\n",
       "      <td>1.045651e+08</td>\n",
       "      <td>8891102.210</td>\n",
       "    </tr>\n",
       "    <tr>\n",
       "      <th>2019</th>\n",
       "      <td>9.587121e+07</td>\n",
       "      <td>4547560.365</td>\n",
       "    </tr>\n",
       "  </tbody>\n",
       "</table>\n",
       "</div>"
      ],
      "text/plain": [
       "                         mean       median\n",
       "                   box_office   box_office\n",
       "show_start_year                           \n",
       "2010             2.404608e+04     1710.000\n",
       "2011             1.293832e+05     3000.000\n",
       "2012             5.654815e+04     6220.000\n",
       "2013             1.664788e+05     3580.000\n",
       "2014             2.727089e+07    20400.000\n",
       "2015             8.549213e+07  5003450.150\n",
       "2016             9.117390e+07  3915041.020\n",
       "2017             1.360328e+08  9968340.000\n",
       "2018             1.045651e+08  8891102.210\n",
       "2019             9.587121e+07  4547560.365"
      ]
     },
     "execution_count": 35,
     "metadata": {},
     "output_type": "execute_result"
    }
   ],
   "source": [
    "data.pivot_table(index='show_start_year', values='box_office', aggfunc=['mean', 'median'])"
   ]
  },
  {
   "cell_type": "markdown",
   "metadata": {},
   "source": [
    "Интересно, что разница между средним и медианой даже не в разы, а на порядки (вплоть до трех порядков). Это говорит о том, что большая часть кинематографа не пользуется популярностью, а всю кассу собирают отдельные блокбастеры."
   ]
  },
  {
   "cell_type": "markdown",
   "metadata": {
    "id": "Ok89WFwJgFyZ"
   },
   "source": [
    "- Определите, влияет ли возрастное ограничение аудитории («6+», «12+», «16+», «18+» и т. д.) на сборы фильма в прокате в период с 2015 по 2019 год? Фильмы с каким возрастным ограничением собрали больше всего денег в прокате? Меняется ли картина в зависимости от года? Если да, предположите, с чем это может быть связано."
   ]
  },
  {
   "cell_type": "code",
   "execution_count": 36,
   "metadata": {
    "id": "jsSbEqfjgFya",
    "scrolled": false
   },
   "outputs": [
    {
     "data": {
      "image/png": "[encoded data removed]",
      "text/plain": [
       "<Figure size 864x576 with 1 Axes>"
      ]
     },
     "metadata": {
      "needs_background": "light"
     },
     "output_type": "display_data"
    }
   ],
   "source": [
    "(\n",
    "    data\n",
    "    .query('(show_start_year >= 2015) and (show_start_year <= 2019)')\n",
    "    .pivot_table(index='show_start_year', columns='age_restriction', values='box_office', aggfunc=['sum'])\n",
    "    .plot(grid=True, figsize=(12, 8), kind='bar')\n",
    ");"
   ]
  },
  {
   "cell_type": "markdown",
   "metadata": {},
   "source": [
    "Наибольшую прибыль приносят картины для категорий 16+ и 12+. Наименьшую - 0+. Также, есть проблемы у 18+. По годам соотношение остается примерно одинаковым. Разве что 16+ и 12+ соревнуются за лидерство, а в 2017 у категории 12+ было аномальное падение относительно других категорий.\n",
    "\n",
    "Объясняется такое распределение просто: подростки - это основные посетители кинотеатров и целевая аудитория современного популярного кинематографа. К тому же современные фильмы 16+ по содержанию очень близки к 18+."
   ]
  },
  {
   "cell_type": "markdown",
   "metadata": {
    "id": "l_Kg6Ku4gFya"
   },
   "source": [
    "### Шаг 4. Исследуйте фильмы, которые получили государственную поддержку\n",
    "\n",
    "На этом этапе нет конкретных инструкций и заданий — поищите интересные закономерности в данных. Посмотрите, сколько выделяют средств на поддержку кино. Проверьте, хорошо ли окупаются такие фильмы, какой у них рейтинг."
   ]
  },
  {
   "cell_type": "markdown",
   "metadata": {},
   "source": [
    "#### Динамика поддержки"
   ]
  },
  {
   "cell_type": "code",
   "execution_count": 37,
   "metadata": {},
   "outputs": [
    {
     "data": {
      "image/png": "[encoded data removed]",
      "text/plain": [
       "<Figure size 864x216 with 1 Axes>"
      ]
     },
     "metadata": {
      "needs_background": "light"
     },
     "output_type": "display_data"
    }
   ],
   "source": [
    "(\n",
    "    data[has_support]\n",
    "    .pivot_table(index='show_start_year', values='ratings', aggfunc=['count'])\n",
    "    .plot(grid=True, figsize=(12, 3), kind='bar')\n",
    ");"
   ]
  },
  {
   "cell_type": "markdown",
   "metadata": {},
   "source": [
    "В 2013 поддержку получили единицы. А в 2014 - уже под 20 картин финансировались госудраством. После 2015 поддержка выравнялась примерно на уровне 60 фильмов."
   ]
  },
  {
   "cell_type": "markdown",
   "metadata": {},
   "source": [
    "#### Динамика рейтинга"
   ]
  },
  {
   "cell_type": "code",
   "execution_count": 38,
   "metadata": {
    "scrolled": true
   },
   "outputs": [
    {
     "data": {
      "image/png": "[encoded data removed]",
      "text/plain": [
       "<Figure size 864x216 with 1 Axes>"
      ]
     },
     "metadata": {
      "needs_background": "light"
     },
     "output_type": "display_data"
    }
   ],
   "source": [
    "(\n",
    "    data[has_support]\n",
    "    .pivot_table(index='show_start_year', values='ratings', aggfunc=['mean', 'median'])\n",
    "    .plot(grid=True, figsize=(12, 3), kind='bar')\n",
    ");"
   ]
  },
  {
   "cell_type": "markdown",
   "metadata": {},
   "source": [
    "В среднем, рейтинг для поддерживаемых фильмов никак не меняется - держится в районе 6 баллов. Много это или мало - можно определеить, сравнив со общим средним рейтингом."
   ]
  },
  {
   "cell_type": "code",
   "execution_count": 39,
   "metadata": {
    "scrolled": true
   },
   "outputs": [
    {
     "data": {
      "text/plain": [
       "6.487862513426424"
      ]
     },
     "execution_count": 39,
     "metadata": {},
     "output_type": "execute_result"
    }
   ],
   "source": [
    "data['ratings'].mean()"
   ]
  },
  {
   "cell_type": "markdown",
   "metadata": {},
   "source": [
    "В среднем для фильмов рейтинг находится в районе 6,5. Это не намного больше поддерживаемых."
   ]
  },
  {
   "cell_type": "markdown",
   "metadata": {},
   "source": [
    "#### Динамика окупаемости"
   ]
  },
  {
   "cell_type": "code",
   "execution_count": 40,
   "metadata": {},
   "outputs": [
    {
     "data": {
      "image/png": "[encoded data removed]",
      "text/plain": [
       "<Figure size 864x360 with 1 Axes>"
      ]
     },
     "metadata": {
      "needs_background": "light"
     },
     "output_type": "display_data"
    }
   ],
   "source": [
    "(\n",
    "    data[has_support]\n",
    "    .pivot_table(index='show_start_year', values=['box_office', 'support', 'budget'], aggfunc=['median'])\n",
    "    .plot(grid=True, figsize=(12, 5), kind='bar')\n",
    ");"
   ]
  },
  {
   "cell_type": "markdown",
   "metadata": {},
   "source": [
    "Если судить по медиане, то поддерживаемые фильмы никак не окупаются и не могут отбить даже государственные деньги. Также, по графику видно, что обычно государство выделяет до половины бюджета картины."
   ]
  },
  {
   "cell_type": "code",
   "execution_count": 41,
   "metadata": {
    "scrolled": false
   },
   "outputs": [
    {
     "data": {
      "image/png": "[encoded data removed]",
      "text/plain": [
       "<Figure size 864x360 with 1 Axes>"
      ]
     },
     "metadata": {
      "needs_background": "light"
     },
     "output_type": "display_data"
    }
   ],
   "source": [
    "(\n",
    "    data[has_support]\n",
    "    .pivot_table(index='show_start_year', values=['box_office', 'support', 'budget'], aggfunc=['sum'])\n",
    "    .plot(grid=True, figsize=(12, 5), kind='bar')\n",
    ");"
   ]
  },
  {
   "cell_type": "markdown",
   "metadata": {},
   "source": [
    "А вот если сравнивать суммарные значения, то ситуация кажется гораздо лучше - из кассы можно было бы даже вернуть государственные деньги. В 2017 и 2018 картины смогли окупить и свой бюджет. Это при том, что господдержка остается примерно на одном уровне.\n",
    "\n",
    "По этим двум графикам можно сказать, что большинство картин не окупаются (видно по медианам). Но \"работа по площадям\" все равно дает свои плоды и рано или поздно появляются хиты, приносящие прибыль."
   ]
  },
  {
   "cell_type": "markdown",
   "metadata": {},
   "source": [
    "#### Динамика окупаемости по возрастам"
   ]
  },
  {
   "cell_type": "code",
   "execution_count": 42,
   "metadata": {
    "scrolled": true
   },
   "outputs": [],
   "source": [
    "def draw_for_age(age):\n",
    "    (\n",
    "        data[(has_support) & (data['age_restriction'] == age)]\n",
    "        .pivot_table(index='show_start_year', values=['box_office', 'budget'], aggfunc=['sum'])\n",
    "        .plot(grid=True, figsize=(12, 3), kind='bar', title=age)\n",
    "    );"
   ]
  },
  {
   "cell_type": "code",
   "execution_count": 43,
   "metadata": {
    "scrolled": false
   },
   "outputs": [
    {
     "data": {
      "image/png": "[encoded data removed]",
      "text/plain": [
       "<Figure size 864x216 with 1 Axes>"
      ]
     },
     "metadata": {
      "needs_background": "light"
     },
     "output_type": "display_data"
    }
   ],
   "source": [
    "draw_for_age('«18+» - запрещено для детей')"
   ]
  },
  {
   "cell_type": "markdown",
   "metadata": {},
   "source": [
    "Фильмы 18+ стабильно не отбиваются. И зарабатывают копейки. Не наша возрастная категория."
   ]
  },
  {
   "cell_type": "code",
   "execution_count": 44,
   "metadata": {
    "scrolled": false
   },
   "outputs": [
    {
     "data": {
      "image/png": "[encoded data removed]",
      "text/plain": [
       "<Figure size 864x216 with 1 Axes>"
      ]
     },
     "metadata": {
      "needs_background": "light"
     },
     "output_type": "display_data"
    }
   ],
   "source": [
    "draw_for_age('«16+» - для детей старше 16 лет')"
   ]
  },
  {
   "cell_type": "markdown",
   "metadata": {},
   "source": [
    "Уже лучше. Стабильные кассовые сборы начиная с 2015. Хотя суммарный бюджет отбился только в 2018."
   ]
  },
  {
   "cell_type": "code",
   "execution_count": 45,
   "metadata": {
    "scrolled": true
   },
   "outputs": [
    {
     "data": {
      "image/png": "[encoded data removed]",
      "text/plain": [
       "<Figure size 864x216 with 1 Axes>"
      ]
     },
     "metadata": {
      "needs_background": "light"
     },
     "output_type": "display_data"
    }
   ],
   "source": [
    "draw_for_age('«12+» - для детей старше 12 лет')"
   ]
  },
  {
   "cell_type": "markdown",
   "metadata": {},
   "source": [
    "Эта категория показывала стабильный рост по сборам при сохранении затрат. И суммарные затраты."
   ]
  },
  {
   "cell_type": "code",
   "execution_count": 46,
   "metadata": {
    "scrolled": true
   },
   "outputs": [
    {
     "data": {
      "image/png": "[encoded data removed]",
      "text/plain": [
       "<Figure size 864x216 with 1 Axes>"
      ]
     },
     "metadata": {
      "needs_background": "light"
     },
     "output_type": "display_data"
    }
   ],
   "source": [
    "draw_for_age('«6+» - для детей старше 6 лет')"
   ]
  },
  {
   "cell_type": "markdown",
   "metadata": {},
   "source": [
    "В категории 6+ тоже стабильная касса, хотя общий бюджет отбился только в 2017."
   ]
  },
  {
   "cell_type": "code",
   "execution_count": 47,
   "metadata": {
    "scrolled": true
   },
   "outputs": [
    {
     "data": {
      "image/png": "[encoded data removed]",
      "text/plain": [
       "<Figure size 864x216 with 1 Axes>"
      ]
     },
     "metadata": {
      "needs_background": "light"
     },
     "output_type": "display_data"
    }
   ],
   "source": [
    " draw_for_age('«0+» - для любой зрительской аудитории')"
   ]
  },
  {
   "cell_type": "markdown",
   "metadata": {},
   "source": [
    "В категории 0+ суммарный бюджет отбивается через раз."
   ]
  },
  {
   "cell_type": "markdown",
   "metadata": {},
   "source": [
    "#### Динамика выхода по возрастам"
   ]
  },
  {
   "cell_type": "code",
   "execution_count": 48,
   "metadata": {
    "scrolled": false
   },
   "outputs": [
    {
     "data": {
      "image/png": "[encoded data removed]",
      "text/plain": [
       "<Figure size 864x432 with 1 Axes>"
      ]
     },
     "metadata": {
      "needs_background": "light"
     },
     "output_type": "display_data"
    }
   ],
   "source": [
    "(\n",
    "    data[(has_support) ]\n",
    "        .pivot_table(index='show_start_year', columns='age_restriction', values=['box_office'], aggfunc=['count'])\n",
    "        .plot(grid=True, figsize=(12, 6), kind='bar')\n",
    ");"
   ]
  },
  {
   "cell_type": "markdown",
   "metadata": {},
   "source": [
    "Не смотря на постоянные неудачи в категории 16+, они все еще составляют основную массу продукции."
   ]
  },
  {
   "cell_type": "markdown",
   "metadata": {
    "id": "V2gYwMcPgFyd"
   },
   "source": [
    "### Шаг 5. Напишите общий вывод"
   ]
  },
  {
   "cell_type": "markdown",
   "metadata": {
    "id": "AYRg3dzXgFye"
   },
   "source": [
    "#### Проблемы при предобработке:\n",
    "* Было обнаружено и удалено два дубликата по номеру прокатного удостоверения. В теории, их не должно было быть - похоже на ошибку в данных системы.\n",
    "* Большой объем данных с очень маленькими кассовыми сборами - тоже похоже на некорректные данные.\n",
    "* Часть категориальных данных была пуста. Но не может быть фильма без режиссера или жанра - явные ошибки в исходных данных, требующие исправления в системе.\n",
    "* В поле 'Type' были значения с пробелами - это значит, что для заполения этого поля не используется справочник, либо в справочнике есть дубликаты.\n",
    "* Потребовалось привести рейтинги к одной форме.\n",
    "* Часть строк содержала нули в качестве бюджета - явная ошибка в исходных данных.\n"
   ]
  },
  {
   "cell_type": "markdown",
   "metadata": {},
   "source": [
    "#### Вывод по анализу"
   ]
  },
  {
   "cell_type": "markdown",
   "metadata": {},
   "source": [
    "* Большинство картин приносит относительно небольшую кассу, а основную массу денег собирают блокбастеры.\n",
    "* Наибольшую кассу приносят картины в категориях 6+, 12+, 16+.\n",
    "* Средний рейтинг картин - 6.5 баллов. Для поддерживаемых фильмов этот рейтинг равен 6 баллам.\n",
    "\n",
    "Эти выводы нашли отражение и в фильмах с господдержкой:\n",
    "* Средняя поддерживаемая картина не может отбить свой бюджет. Эта ситуация с годами никак не меняется. \n",
    "* В динамике виден общий рост кассовых сборов поддерживаемых фильмов при сохранении объема поддержки. Это говорит об увеличении частоты появления хитов, способных не только отбить бюджет, но и принести прибыль (это никак не относиться к большинству картин).\n",
    "* Поддержка фильмов 18+ не показывает никакой положительной динамики. Скорее наоборот.\n",
    "* Наибольшую эффективность показывает поддержка картин для подростков 12+. Также, относительно не плохо показывают себя фильмы для детей 0+ и 6+."
   ]
  }
 ],
 "metadata": {
  "ExecuteTimeLog": [
   {
    "duration": 537,
    "start_time": "2021-07-07T10:12:08.634Z"
   },
   {
    "duration": 206,
    "start_time": "2021-07-07T10:12:30.191Z"
   },
   {
    "duration": 227,
    "start_time": "2021-07-07T10:12:33.078Z"
   },
   {
    "duration": 153,
    "start_time": "2021-07-07T10:13:42.146Z"
   },
   {
    "duration": 233,
    "start_time": "2021-07-07T10:30:09.252Z"
   },
   {
    "duration": 19,
    "start_time": "2021-07-07T10:30:15.577Z"
   },
   {
    "duration": 18,
    "start_time": "2021-07-07T10:30:57.348Z"
   },
   {
    "duration": 19,
    "start_time": "2021-07-07T10:31:17.452Z"
   },
   {
    "duration": 21,
    "start_time": "2021-07-07T10:31:32.227Z"
   },
   {
    "duration": 27,
    "start_time": "2021-07-07T10:32:06.588Z"
   },
   {
    "duration": 23,
    "start_time": "2021-07-07T10:32:43.645Z"
   },
   {
    "duration": 24,
    "start_time": "2021-07-07T10:33:06.948Z"
   },
   {
    "duration": 7,
    "start_time": "2021-07-07T10:33:28.558Z"
   },
   {
    "duration": 23,
    "start_time": "2021-07-07T10:33:43.761Z"
   },
   {
    "duration": 28,
    "start_time": "2021-07-07T10:34:13.466Z"
   },
   {
    "duration": 23,
    "start_time": "2021-07-07T10:35:56.187Z"
   },
   {
    "duration": 6,
    "start_time": "2021-07-07T10:36:48.182Z"
   },
   {
    "duration": 14,
    "start_time": "2021-07-07T10:37:49.641Z"
   },
   {
    "duration": 6,
    "start_time": "2021-07-07T10:38:06.694Z"
   },
   {
    "duration": 6,
    "start_time": "2021-07-07T10:38:13.493Z"
   },
   {
    "duration": 19,
    "start_time": "2021-07-07T10:38:44.056Z"
   },
   {
    "duration": 186,
    "start_time": "2021-07-07T10:48:35.618Z"
   },
   {
    "duration": 24,
    "start_time": "2021-07-07T10:48:51.498Z"
   },
   {
    "duration": 20,
    "start_time": "2021-07-07T10:48:59.415Z"
   },
   {
    "duration": 20,
    "start_time": "2021-07-07T10:53:02.195Z"
   },
   {
    "duration": 188,
    "start_time": "2021-07-07T10:54:40.486Z"
   },
   {
    "duration": 115,
    "start_time": "2021-07-07T10:54:52.552Z"
   },
   {
    "duration": 214,
    "start_time": "2021-07-07T10:54:56.354Z"
   },
   {
    "duration": 47,
    "start_time": "2021-07-07T10:54:58.282Z"
   },
   {
    "duration": 217,
    "start_time": "2021-07-07T10:59:16.075Z"
   },
   {
    "duration": 51,
    "start_time": "2021-07-07T10:59:16.243Z"
   },
   {
    "duration": 578,
    "start_time": "2021-07-07T10:59:18.774Z"
   },
   {
    "duration": 161,
    "start_time": "2021-07-07T10:59:21.238Z"
   },
   {
    "duration": 59,
    "start_time": "2021-07-07T10:59:21.453Z"
   },
   {
    "duration": 3,
    "start_time": "2021-07-07T11:02:10.786Z"
   },
   {
    "duration": 13,
    "start_time": "2021-07-07T11:07:07.722Z"
   },
   {
    "duration": 26,
    "start_time": "2021-07-07T11:07:17.958Z"
   },
   {
    "duration": 22,
    "start_time": "2021-07-07T11:08:17.939Z"
   },
   {
    "duration": 212,
    "start_time": "2021-07-07T11:08:19.665Z"
   },
   {
    "duration": 21,
    "start_time": "2021-07-07T11:08:29.945Z"
   },
   {
    "duration": 31,
    "start_time": "2021-07-07T11:08:38.899Z"
   },
   {
    "duration": 23,
    "start_time": "2021-07-07T11:08:54.527Z"
   },
   {
    "duration": 8,
    "start_time": "2021-07-07T11:18:55.974Z"
   },
   {
    "duration": 7,
    "start_time": "2021-07-07T11:19:03.639Z"
   },
   {
    "duration": 7,
    "start_time": "2021-07-07T11:19:06.444Z"
   },
   {
    "duration": 578,
    "start_time": "2021-07-07T12:09:59.576Z"
   },
   {
    "duration": 195,
    "start_time": "2021-07-07T12:10:00.156Z"
   },
   {
    "duration": 115,
    "start_time": "2021-07-07T12:10:00.353Z"
   },
   {
    "duration": 3,
    "start_time": "2021-07-07T12:10:00.470Z"
   },
   {
    "duration": 32,
    "start_time": "2021-07-07T12:10:00.474Z"
   },
   {
    "duration": 23,
    "start_time": "2021-07-07T12:10:00.508Z"
   },
   {
    "duration": 19,
    "start_time": "2021-07-07T12:10:00.533Z"
   },
   {
    "duration": 44,
    "start_time": "2021-07-07T12:10:00.553Z"
   },
   {
    "duration": 7,
    "start_time": "2021-07-07T12:10:00.600Z"
   },
   {
    "duration": 7,
    "start_time": "2021-07-07T12:19:45.761Z"
   },
   {
    "duration": 21,
    "start_time": "2021-07-07T12:21:35.482Z"
   },
   {
    "duration": 21,
    "start_time": "2021-07-07T12:29:23.569Z"
   },
   {
    "duration": 525,
    "start_time": "2021-07-07T12:29:44.542Z"
   },
   {
    "duration": 214,
    "start_time": "2021-07-07T12:29:45.069Z"
   },
   {
    "duration": 92,
    "start_time": "2021-07-07T12:29:45.285Z"
   },
   {
    "duration": 3,
    "start_time": "2021-07-07T12:29:45.379Z"
   },
   {
    "duration": 28,
    "start_time": "2021-07-07T12:29:45.384Z"
   },
   {
    "duration": 23,
    "start_time": "2021-07-07T12:29:45.413Z"
   },
   {
    "duration": 21,
    "start_time": "2021-07-07T12:29:45.437Z"
   },
   {
    "duration": 41,
    "start_time": "2021-07-07T12:29:45.460Z"
   },
   {
    "duration": 7,
    "start_time": "2021-07-07T12:29:45.502Z"
   },
   {
    "duration": 20,
    "start_time": "2021-07-07T12:29:45.511Z"
   },
   {
    "duration": 12,
    "start_time": "2021-07-07T12:34:02.800Z"
   },
   {
    "duration": 7,
    "start_time": "2021-07-07T12:35:10.479Z"
   },
   {
    "duration": 8,
    "start_time": "2021-07-07T12:35:22.440Z"
   },
   {
    "duration": 6,
    "start_time": "2021-07-07T12:35:35.649Z"
   },
   {
    "duration": 6,
    "start_time": "2021-07-07T12:35:43.107Z"
   },
   {
    "duration": 22,
    "start_time": "2021-07-07T12:38:03.029Z"
   },
   {
    "duration": 10,
    "start_time": "2021-07-07T12:38:06.592Z"
   },
   {
    "duration": 563,
    "start_time": "2021-07-07T12:38:46.493Z"
   },
   {
    "duration": 265,
    "start_time": "2021-07-07T12:38:47.058Z"
   },
   {
    "duration": 94,
    "start_time": "2021-07-07T12:38:47.325Z"
   },
   {
    "duration": 3,
    "start_time": "2021-07-07T12:38:47.422Z"
   },
   {
    "duration": 30,
    "start_time": "2021-07-07T12:38:47.427Z"
   },
   {
    "duration": 16,
    "start_time": "2021-07-07T12:38:53.305Z"
   },
   {
    "duration": 10,
    "start_time": "2021-07-07T12:38:53.499Z"
   },
   {
    "duration": 8,
    "start_time": "2021-07-07T12:39:48.161Z"
   },
   {
    "duration": 27,
    "start_time": "2021-07-07T12:41:17.629Z"
   },
   {
    "duration": 17,
    "start_time": "2021-07-07T12:41:17.867Z"
   },
   {
    "duration": 21,
    "start_time": "2021-07-07T12:41:19.310Z"
   },
   {
    "duration": 7,
    "start_time": "2021-07-07T12:41:19.544Z"
   },
   {
    "duration": 20,
    "start_time": "2021-07-07T12:41:20.504Z"
   },
   {
    "duration": 554,
    "start_time": "2021-07-07T12:56:23.696Z"
   },
   {
    "duration": 200,
    "start_time": "2021-07-07T12:56:25.234Z"
   },
   {
    "duration": 119,
    "start_time": "2021-07-07T12:56:25.480Z"
   },
   {
    "duration": 4,
    "start_time": "2021-07-07T12:56:25.762Z"
   },
   {
    "duration": 26,
    "start_time": "2021-07-07T12:56:27.172Z"
   },
   {
    "duration": 12,
    "start_time": "2021-07-07T12:56:29.051Z"
   },
   {
    "duration": 10,
    "start_time": "2021-07-07T12:56:29.291Z"
   },
   {
    "duration": 8,
    "start_time": "2021-07-07T12:56:29.623Z"
   },
   {
    "duration": 28,
    "start_time": "2021-07-07T12:56:32.137Z"
   },
   {
    "duration": 19,
    "start_time": "2021-07-07T12:56:39.785Z"
   },
   {
    "duration": 20,
    "start_time": "2021-07-07T12:56:44.297Z"
   },
   {
    "duration": 7,
    "start_time": "2021-07-07T12:56:45.392Z"
   },
   {
    "duration": 23,
    "start_time": "2021-07-07T12:56:46.615Z"
   },
   {
    "duration": 4,
    "start_time": "2021-07-07T12:57:06.625Z"
   },
   {
    "duration": 32,
    "start_time": "2021-07-07T12:57:36.690Z"
   },
   {
    "duration": 18,
    "start_time": "2021-07-07T12:58:00.149Z"
   },
   {
    "duration": 15,
    "start_time": "2021-07-07T12:59:16.793Z"
   },
   {
    "duration": 7,
    "start_time": "2021-07-07T13:19:22.624Z"
   },
   {
    "duration": 6,
    "start_time": "2021-07-07T14:17:33.527Z"
   },
   {
    "duration": 9,
    "start_time": "2021-07-07T14:17:48.409Z"
   },
   {
    "duration": 8,
    "start_time": "2021-07-07T14:20:13.060Z"
   },
   {
    "duration": 8,
    "start_time": "2021-07-07T14:20:37.957Z"
   },
   {
    "duration": 8,
    "start_time": "2021-07-07T14:20:47.470Z"
   },
   {
    "duration": 9,
    "start_time": "2021-07-07T14:20:54.503Z"
   },
   {
    "duration": 10,
    "start_time": "2021-07-07T14:28:57.763Z"
   },
   {
    "duration": 3,
    "start_time": "2021-07-07T14:30:23.377Z"
   },
   {
    "duration": 3,
    "start_time": "2021-07-07T14:30:36.489Z"
   },
   {
    "duration": 103,
    "start_time": "2021-07-07T14:30:52.351Z"
   },
   {
    "duration": 8,
    "start_time": "2021-07-07T14:30:54.763Z"
   },
   {
    "duration": 8,
    "start_time": "2021-07-07T14:31:29.301Z"
   },
   {
    "duration": 13,
    "start_time": "2021-07-07T14:31:44.516Z"
   },
   {
    "duration": 7,
    "start_time": "2021-07-07T14:33:10.972Z"
   },
   {
    "duration": 11,
    "start_time": "2021-07-07T14:33:27.780Z"
   },
   {
    "duration": 8,
    "start_time": "2021-07-07T14:34:44.588Z"
   },
   {
    "duration": 57,
    "start_time": "2021-07-07T14:35:59.042Z"
   },
   {
    "duration": 3,
    "start_time": "2021-07-07T14:36:28.168Z"
   },
   {
    "duration": 5,
    "start_time": "2021-07-07T14:36:46.254Z"
   },
   {
    "duration": 4,
    "start_time": "2021-07-07T14:36:52.714Z"
   },
   {
    "duration": 3,
    "start_time": "2021-07-07T14:36:56.612Z"
   },
   {
    "duration": 4,
    "start_time": "2021-07-07T14:36:57.049Z"
   },
   {
    "duration": 3,
    "start_time": "2021-07-07T14:39:21.214Z"
   },
   {
    "duration": 7,
    "start_time": "2021-07-07T14:39:52.406Z"
   },
   {
    "duration": 11,
    "start_time": "2021-07-07T14:39:58.576Z"
   },
   {
    "duration": 9,
    "start_time": "2021-07-07T14:40:26.301Z"
   },
   {
    "duration": 10,
    "start_time": "2021-07-07T14:40:31.704Z"
   },
   {
    "duration": 11,
    "start_time": "2021-07-07T14:40:36.249Z"
   },
   {
    "duration": 10,
    "start_time": "2021-07-07T14:40:39.783Z"
   },
   {
    "duration": 9,
    "start_time": "2021-07-07T14:40:48.558Z"
   },
   {
    "duration": 10,
    "start_time": "2021-07-07T14:40:57.143Z"
   },
   {
    "duration": 9,
    "start_time": "2021-07-07T14:41:06.074Z"
   },
   {
    "duration": 4324,
    "start_time": "2021-07-07T14:41:22.004Z"
   },
   {
    "duration": 11,
    "start_time": "2021-07-07T14:41:33.392Z"
   },
   {
    "duration": 9,
    "start_time": "2021-07-07T14:41:39.288Z"
   },
   {
    "duration": 569,
    "start_time": "2021-07-07T14:42:14.387Z"
   },
   {
    "duration": 197,
    "start_time": "2021-07-07T14:42:14.959Z"
   },
   {
    "duration": 84,
    "start_time": "2021-07-07T14:42:16.052Z"
   },
   {
    "duration": 4,
    "start_time": "2021-07-07T14:42:16.900Z"
   },
   {
    "duration": 27,
    "start_time": "2021-07-07T14:42:19.898Z"
   },
   {
    "duration": 12,
    "start_time": "2021-07-07T14:42:21.577Z"
   },
   {
    "duration": 9,
    "start_time": "2021-07-07T14:42:21.813Z"
   },
   {
    "duration": 9,
    "start_time": "2021-07-07T14:42:22.569Z"
   },
   {
    "duration": 29,
    "start_time": "2021-07-07T14:42:25.837Z"
   },
   {
    "duration": 20,
    "start_time": "2021-07-07T14:42:27.003Z"
   },
   {
    "duration": 21,
    "start_time": "2021-07-07T14:42:28.767Z"
   },
   {
    "duration": 7,
    "start_time": "2021-07-07T14:42:29.838Z"
   },
   {
    "duration": 4,
    "start_time": "2021-07-07T14:43:25.493Z"
   },
   {
    "duration": 7,
    "start_time": "2021-07-07T14:43:26.573Z"
   },
   {
    "duration": 10,
    "start_time": "2021-07-07T14:43:31.639Z"
   },
   {
    "duration": 9,
    "start_time": "2021-07-07T14:43:32.046Z"
   },
   {
    "duration": 10,
    "start_time": "2021-07-07T14:43:33.301Z"
   },
   {
    "duration": 12,
    "start_time": "2021-07-07T14:43:33.658Z"
   },
   {
    "duration": 8,
    "start_time": "2021-07-07T14:43:34.552Z"
   },
   {
    "duration": 9,
    "start_time": "2021-07-07T14:43:35.058Z"
   },
   {
    "duration": 12,
    "start_time": "2021-07-07T14:43:35.914Z"
   },
   {
    "duration": 17,
    "start_time": "2021-07-07T14:45:34.368Z"
   },
   {
    "duration": 512,
    "start_time": "2021-07-07T14:51:58.236Z"
   },
   {
    "duration": 223,
    "start_time": "2021-07-07T14:51:58.750Z"
   },
   {
    "duration": 93,
    "start_time": "2021-07-07T14:51:58.977Z"
   },
   {
    "duration": 4,
    "start_time": "2021-07-07T14:51:59.071Z"
   },
   {
    "duration": 37,
    "start_time": "2021-07-07T14:51:59.077Z"
   },
   {
    "duration": 18,
    "start_time": "2021-07-07T14:51:59.116Z"
   },
   {
    "duration": 10,
    "start_time": "2021-07-07T14:51:59.137Z"
   },
   {
    "duration": 8,
    "start_time": "2021-07-07T14:51:59.149Z"
   },
   {
    "duration": 54,
    "start_time": "2021-07-07T14:51:59.158Z"
   },
   {
    "duration": 18,
    "start_time": "2021-07-07T14:51:59.213Z"
   },
   {
    "duration": 22,
    "start_time": "2021-07-07T14:51:59.232Z"
   },
   {
    "duration": 36,
    "start_time": "2021-07-07T14:51:59.255Z"
   },
   {
    "duration": 7,
    "start_time": "2021-07-07T14:51:59.293Z"
   },
   {
    "duration": 10,
    "start_time": "2021-07-07T14:51:59.302Z"
   },
   {
    "duration": 9,
    "start_time": "2021-07-07T14:51:59.313Z"
   },
   {
    "duration": 11,
    "start_time": "2021-07-07T14:51:59.324Z"
   },
   {
    "duration": 8,
    "start_time": "2021-07-07T14:51:59.337Z"
   },
   {
    "duration": 46,
    "start_time": "2021-07-07T14:51:59.347Z"
   },
   {
    "duration": 22,
    "start_time": "2021-07-07T14:51:59.395Z"
   },
   {
    "duration": 24,
    "start_time": "2021-07-07T14:57:32.911Z"
   },
   {
    "duration": 7,
    "start_time": "2021-07-07T14:58:22.070Z"
   },
   {
    "duration": 4,
    "start_time": "2021-07-07T14:59:11.239Z"
   },
   {
    "duration": 25,
    "start_time": "2021-07-07T15:07:22.208Z"
   },
   {
    "duration": 16,
    "start_time": "2021-07-07T15:08:25.560Z"
   },
   {
    "duration": 15,
    "start_time": "2021-07-07T15:08:40.647Z"
   },
   {
    "duration": 14,
    "start_time": "2021-07-07T15:08:46.669Z"
   },
   {
    "duration": 533,
    "start_time": "2021-07-07T15:18:07.440Z"
   },
   {
    "duration": 173,
    "start_time": "2021-07-07T15:18:07.974Z"
   },
   {
    "duration": 84,
    "start_time": "2021-07-07T15:18:08.149Z"
   },
   {
    "duration": 3,
    "start_time": "2021-07-07T15:18:08.235Z"
   },
   {
    "duration": 30,
    "start_time": "2021-07-07T15:18:08.240Z"
   },
   {
    "duration": 22,
    "start_time": "2021-07-07T15:18:08.272Z"
   },
   {
    "duration": 11,
    "start_time": "2021-07-07T15:18:08.295Z"
   },
   {
    "duration": 11,
    "start_time": "2021-07-07T15:18:08.309Z"
   },
   {
    "duration": 40,
    "start_time": "2021-07-07T15:18:08.322Z"
   },
   {
    "duration": 42,
    "start_time": "2021-07-07T15:18:08.364Z"
   },
   {
    "duration": 22,
    "start_time": "2021-07-07T15:18:08.408Z"
   },
   {
    "duration": 5,
    "start_time": "2021-07-07T15:18:08.432Z"
   },
   {
    "duration": 13,
    "start_time": "2021-07-07T15:18:08.439Z"
   },
   {
    "duration": 9,
    "start_time": "2021-07-07T15:18:08.454Z"
   },
   {
    "duration": 32,
    "start_time": "2021-07-07T15:18:08.465Z"
   },
   {
    "duration": 10,
    "start_time": "2021-07-07T15:18:08.501Z"
   },
   {
    "duration": 7,
    "start_time": "2021-07-07T15:18:08.513Z"
   },
   {
    "duration": 11,
    "start_time": "2021-07-07T15:18:08.521Z"
   },
   {
    "duration": 17,
    "start_time": "2021-07-07T15:18:08.534Z"
   },
   {
    "duration": 44,
    "start_time": "2021-07-07T15:18:08.553Z"
   },
   {
    "duration": 22,
    "start_time": "2021-07-07T15:18:08.599Z"
   },
   {
    "duration": 61,
    "start_time": "2021-07-07T15:18:08.622Z"
   },
   {
    "duration": 7,
    "start_time": "2021-07-07T15:18:39.457Z"
   },
   {
    "duration": 5,
    "start_time": "2021-07-07T16:05:17.020Z"
   },
   {
    "duration": 5,
    "start_time": "2021-07-07T16:51:28.794Z"
   },
   {
    "duration": 546,
    "start_time": "2021-07-07T16:52:26.306Z"
   },
   {
    "duration": 203,
    "start_time": "2021-07-07T16:52:27.523Z"
   },
   {
    "duration": 85,
    "start_time": "2021-07-07T16:52:27.736Z"
   },
   {
    "duration": 4,
    "start_time": "2021-07-07T16:52:27.899Z"
   },
   {
    "duration": 25,
    "start_time": "2021-07-07T16:52:28.674Z"
   },
   {
    "duration": 8,
    "start_time": "2021-07-07T16:52:32.956Z"
   },
   {
    "duration": 18,
    "start_time": "2021-07-07T16:52:35.616Z"
   },
   {
    "duration": 6,
    "start_time": "2021-07-07T16:52:36.913Z"
   },
   {
    "duration": 11,
    "start_time": "2021-07-07T16:52:40.258Z"
   },
   {
    "duration": 10,
    "start_time": "2021-07-07T16:52:46.251Z"
   },
   {
    "duration": 8,
    "start_time": "2021-07-07T16:52:47.182Z"
   },
   {
    "duration": 27,
    "start_time": "2021-07-07T16:53:20.391Z"
   },
   {
    "duration": 20,
    "start_time": "2021-07-07T16:53:22.022Z"
   },
   {
    "duration": 23,
    "start_time": "2021-07-07T16:53:23.690Z"
   },
   {
    "duration": 8,
    "start_time": "2021-07-07T16:53:24.261Z"
   },
   {
    "duration": 4,
    "start_time": "2021-07-07T16:53:38.733Z"
   },
   {
    "duration": 7,
    "start_time": "2021-07-07T16:53:40.445Z"
   },
   {
    "duration": 11,
    "start_time": "2021-07-07T16:53:41.348Z"
   },
   {
    "duration": 13,
    "start_time": "2021-07-07T16:53:45.250Z"
   },
   {
    "duration": 12,
    "start_time": "2021-07-07T16:53:45.467Z"
   },
   {
    "duration": 4,
    "start_time": "2021-07-07T16:55:32.704Z"
   },
   {
    "duration": 12,
    "start_time": "2021-07-07T16:55:49.012Z"
   },
   {
    "duration": 18,
    "start_time": "2021-07-07T16:55:49.547Z"
   },
   {
    "duration": 611,
    "start_time": "2021-07-07T16:58:35.156Z"
   },
   {
    "duration": 200,
    "start_time": "2021-07-07T16:58:35.770Z"
   },
   {
    "duration": 86,
    "start_time": "2021-07-07T16:58:35.972Z"
   },
   {
    "duration": 3,
    "start_time": "2021-07-07T16:58:36.060Z"
   },
   {
    "duration": 27,
    "start_time": "2021-07-07T16:58:36.065Z"
   },
   {
    "duration": 8,
    "start_time": "2021-07-07T16:58:36.094Z"
   },
   {
    "duration": 17,
    "start_time": "2021-07-07T16:58:36.103Z"
   },
   {
    "duration": 5,
    "start_time": "2021-07-07T16:58:36.123Z"
   },
   {
    "duration": 11,
    "start_time": "2021-07-07T16:58:36.130Z"
   },
   {
    "duration": 7,
    "start_time": "2021-07-07T16:58:36.143Z"
   },
   {
    "duration": 37,
    "start_time": "2021-07-07T16:58:36.152Z"
   },
   {
    "duration": 27,
    "start_time": "2021-07-07T16:58:36.191Z"
   },
   {
    "duration": 19,
    "start_time": "2021-07-07T16:58:36.219Z"
   },
   {
    "duration": 49,
    "start_time": "2021-07-07T16:58:36.240Z"
   },
   {
    "duration": 6,
    "start_time": "2021-07-07T16:58:36.291Z"
   },
   {
    "duration": 3,
    "start_time": "2021-07-07T16:58:36.299Z"
   },
   {
    "duration": 13,
    "start_time": "2021-07-07T16:58:36.304Z"
   },
   {
    "duration": 10,
    "start_time": "2021-07-07T16:58:36.319Z"
   },
   {
    "duration": 10,
    "start_time": "2021-07-07T16:58:36.331Z"
   },
   {
    "duration": 44,
    "start_time": "2021-07-07T16:58:36.343Z"
   },
   {
    "duration": 4,
    "start_time": "2021-07-07T16:58:36.388Z"
   },
   {
    "duration": 13,
    "start_time": "2021-07-07T16:58:36.394Z"
   },
   {
    "duration": 16,
    "start_time": "2021-07-07T16:58:36.410Z"
   },
   {
    "duration": 8,
    "start_time": "2021-07-07T17:02:31.629Z"
   },
   {
    "duration": 8,
    "start_time": "2021-07-07T17:02:34.308Z"
   },
   {
    "duration": 6,
    "start_time": "2021-07-07T17:05:13.483Z"
   },
   {
    "duration": 17,
    "start_time": "2021-07-07T17:05:20.606Z"
   },
   {
    "duration": 7,
    "start_time": "2021-07-07T17:05:34.638Z"
   },
   {
    "duration": 3,
    "start_time": "2021-07-07T17:06:31.883Z"
   },
   {
    "duration": 570,
    "start_time": "2021-07-07T17:06:37.165Z"
   },
   {
    "duration": 174,
    "start_time": "2021-07-07T17:06:37.737Z"
   },
   {
    "duration": 47,
    "start_time": "2021-07-07T17:06:37.913Z"
   },
   {
    "duration": 3,
    "start_time": "2021-07-07T17:06:37.962Z"
   },
   {
    "duration": 27,
    "start_time": "2021-07-07T17:06:37.967Z"
   },
   {
    "duration": 7,
    "start_time": "2021-07-07T17:06:37.996Z"
   },
   {
    "duration": 16,
    "start_time": "2021-07-07T17:06:38.005Z"
   },
   {
    "duration": 6,
    "start_time": "2021-07-07T17:06:38.024Z"
   },
   {
    "duration": 12,
    "start_time": "2021-07-07T17:06:38.031Z"
   },
   {
    "duration": 41,
    "start_time": "2021-07-07T17:06:38.045Z"
   },
   {
    "duration": 8,
    "start_time": "2021-07-07T17:06:38.088Z"
   },
   {
    "duration": 26,
    "start_time": "2021-07-07T17:06:38.098Z"
   },
   {
    "duration": 17,
    "start_time": "2021-07-07T17:06:38.126Z"
   },
   {
    "duration": 43,
    "start_time": "2021-07-07T17:06:38.144Z"
   },
   {
    "duration": 6,
    "start_time": "2021-07-07T17:06:38.188Z"
   },
   {
    "duration": 5,
    "start_time": "2021-07-07T17:06:38.195Z"
   },
   {
    "duration": 9,
    "start_time": "2021-07-07T17:06:38.201Z"
   },
   {
    "duration": 12,
    "start_time": "2021-07-07T17:06:38.212Z"
   },
   {
    "duration": 11,
    "start_time": "2021-07-07T17:06:38.226Z"
   },
   {
    "duration": 47,
    "start_time": "2021-07-07T17:06:38.239Z"
   },
   {
    "duration": 4,
    "start_time": "2021-07-07T17:06:38.288Z"
   },
   {
    "duration": 13,
    "start_time": "2021-07-07T17:06:38.293Z"
   },
   {
    "duration": 5,
    "start_time": "2021-07-07T17:06:38.309Z"
   },
   {
    "duration": 18,
    "start_time": "2021-07-07T17:06:38.325Z"
   },
   {
    "duration": 20,
    "start_time": "2021-07-07T17:07:02.805Z"
   },
   {
    "duration": 19,
    "start_time": "2021-07-07T17:07:08.527Z"
   },
   {
    "duration": 19,
    "start_time": "2021-07-07T17:07:12.758Z"
   },
   {
    "duration": 22,
    "start_time": "2021-07-07T17:07:17.497Z"
   },
   {
    "duration": 19,
    "start_time": "2021-07-07T17:07:19.645Z"
   },
   {
    "duration": 10,
    "start_time": "2021-07-07T17:07:34.239Z"
   },
   {
    "duration": 17,
    "start_time": "2021-07-07T17:07:54.144Z"
   },
   {
    "duration": 14,
    "start_time": "2021-07-07T17:08:14.357Z"
   },
   {
    "duration": 616,
    "start_time": "2021-07-07T17:08:45.254Z"
   },
   {
    "duration": 178,
    "start_time": "2021-07-07T17:08:45.872Z"
   },
   {
    "duration": 60,
    "start_time": "2021-07-07T17:08:46.054Z"
   },
   {
    "duration": 3,
    "start_time": "2021-07-07T17:08:46.116Z"
   },
   {
    "duration": 26,
    "start_time": "2021-07-07T17:08:46.121Z"
   },
   {
    "duration": 7,
    "start_time": "2021-07-07T17:08:46.149Z"
   },
   {
    "duration": 17,
    "start_time": "2021-07-07T17:08:46.158Z"
   },
   {
    "duration": 14,
    "start_time": "2021-07-07T17:08:46.176Z"
   },
   {
    "duration": 17,
    "start_time": "2021-07-07T17:08:46.193Z"
   },
   {
    "duration": 9,
    "start_time": "2021-07-07T17:08:46.211Z"
   },
   {
    "duration": 21,
    "start_time": "2021-07-07T17:08:46.221Z"
   },
   {
    "duration": 49,
    "start_time": "2021-07-07T17:08:46.244Z"
   },
   {
    "duration": 24,
    "start_time": "2021-07-07T17:08:46.295Z"
   },
   {
    "duration": 22,
    "start_time": "2021-07-07T17:08:46.321Z"
   },
   {
    "duration": 6,
    "start_time": "2021-07-07T17:08:46.345Z"
   },
   {
    "duration": 5,
    "start_time": "2021-07-07T17:08:46.353Z"
   },
   {
    "duration": 13,
    "start_time": "2021-07-07T17:08:46.386Z"
   },
   {
    "duration": 12,
    "start_time": "2021-07-07T17:08:46.402Z"
   },
   {
    "duration": 10,
    "start_time": "2021-07-07T17:08:46.415Z"
   },
   {
    "duration": 7,
    "start_time": "2021-07-07T17:08:46.427Z"
   },
   {
    "duration": 8,
    "start_time": "2021-07-07T17:08:46.435Z"
   },
   {
    "duration": 68,
    "start_time": "2021-07-07T17:08:46.446Z"
   },
   {
    "duration": 13,
    "start_time": "2021-07-07T17:08:46.516Z"
   },
   {
    "duration": 78,
    "start_time": "2021-07-07T17:08:46.530Z"
   },
   {
    "duration": 40,
    "start_time": "2021-07-07T17:09:08.185Z"
   },
   {
    "duration": 16,
    "start_time": "2021-07-07T17:09:19.324Z"
   },
   {
    "duration": 21,
    "start_time": "2021-07-07T17:09:23.290Z"
   },
   {
    "duration": 13,
    "start_time": "2021-07-07T17:09:54.812Z"
   },
   {
    "duration": 13,
    "start_time": "2021-07-07T17:10:02.039Z"
   },
   {
    "duration": 10,
    "start_time": "2021-07-07T17:10:29.632Z"
   },
   {
    "duration": 13,
    "start_time": "2021-07-07T17:10:52.372Z"
   },
   {
    "duration": 13,
    "start_time": "2021-07-07T17:11:17.270Z"
   },
   {
    "duration": 13,
    "start_time": "2021-07-07T17:14:59.284Z"
   },
   {
    "duration": 547,
    "start_time": "2021-07-07T17:18:52.403Z"
   },
   {
    "duration": 163,
    "start_time": "2021-07-07T17:18:52.952Z"
   },
   {
    "duration": 44,
    "start_time": "2021-07-07T17:18:53.117Z"
   },
   {
    "duration": 3,
    "start_time": "2021-07-07T17:18:53.162Z"
   },
   {
    "duration": 26,
    "start_time": "2021-07-07T17:18:53.167Z"
   },
   {
    "duration": 6,
    "start_time": "2021-07-07T17:18:53.195Z"
   },
   {
    "duration": 15,
    "start_time": "2021-07-07T17:18:53.203Z"
   },
   {
    "duration": 5,
    "start_time": "2021-07-07T17:18:53.220Z"
   },
   {
    "duration": 11,
    "start_time": "2021-07-07T17:18:53.228Z"
   },
   {
    "duration": 9,
    "start_time": "2021-07-07T17:18:53.241Z"
   },
   {
    "duration": 41,
    "start_time": "2021-07-07T17:18:53.252Z"
   },
   {
    "duration": 33,
    "start_time": "2021-07-07T17:18:53.295Z"
   },
   {
    "duration": 19,
    "start_time": "2021-07-07T17:18:53.330Z"
   },
   {
    "duration": 49,
    "start_time": "2021-07-07T17:18:53.350Z"
   },
   {
    "duration": 5,
    "start_time": "2021-07-07T17:18:53.401Z"
   },
   {
    "duration": 5,
    "start_time": "2021-07-07T17:18:53.408Z"
   },
   {
    "duration": 11,
    "start_time": "2021-07-07T17:18:53.414Z"
   },
   {
    "duration": 9,
    "start_time": "2021-07-07T17:18:53.427Z"
   },
   {
    "duration": 10,
    "start_time": "2021-07-07T17:18:53.437Z"
   },
   {
    "duration": 39,
    "start_time": "2021-07-07T17:18:53.448Z"
   },
   {
    "duration": 26,
    "start_time": "2021-07-07T17:18:55.799Z"
   },
   {
    "duration": 598,
    "start_time": "2021-07-07T17:20:17.862Z"
   },
   {
    "duration": 161,
    "start_time": "2021-07-07T17:20:18.462Z"
   },
   {
    "duration": 45,
    "start_time": "2021-07-07T17:20:18.626Z"
   },
   {
    "duration": 4,
    "start_time": "2021-07-07T17:20:18.673Z"
   },
   {
    "duration": 38,
    "start_time": "2021-07-07T17:20:26.877Z"
   },
   {
    "duration": 7,
    "start_time": "2021-07-07T17:20:37.405Z"
   },
   {
    "duration": 19,
    "start_time": "2021-07-07T17:20:51.534Z"
   },
   {
    "duration": 5,
    "start_time": "2021-07-07T17:20:57.228Z"
   },
   {
    "duration": 7,
    "start_time": "2021-07-07T17:21:08.235Z"
   },
   {
    "duration": 19,
    "start_time": "2021-07-07T17:21:42.158Z"
   },
   {
    "duration": 14,
    "start_time": "2021-07-07T17:21:50.225Z"
   },
   {
    "duration": 22,
    "start_time": "2021-07-07T17:22:54.104Z"
   },
   {
    "duration": 5,
    "start_time": "2021-07-07T17:22:56.371Z"
   },
   {
    "duration": 14,
    "start_time": "2021-07-07T17:22:58.316Z"
   },
   {
    "duration": 5,
    "start_time": "2021-07-07T17:22:58.493Z"
   },
   {
    "duration": 35,
    "start_time": "2021-07-07T17:22:59.666Z"
   },
   {
    "duration": 6,
    "start_time": "2021-07-07T17:23:02.410Z"
   },
   {
    "duration": 611,
    "start_time": "2021-07-07T17:24:59.664Z"
   },
   {
    "duration": 178,
    "start_time": "2021-07-07T17:25:01.945Z"
   },
   {
    "duration": 47,
    "start_time": "2021-07-07T17:25:02.125Z"
   },
   {
    "duration": 2,
    "start_time": "2021-07-07T17:25:07.903Z"
   },
   {
    "duration": 254,
    "start_time": "2021-07-07T17:25:08.232Z"
   },
   {
    "duration": 182,
    "start_time": "2021-07-07T17:25:08.671Z"
   },
   {
    "duration": 6,
    "start_time": "2021-07-07T17:25:13.104Z"
   },
   {
    "duration": 36,
    "start_time": "2021-07-07T17:25:13.662Z"
   },
   {
    "duration": 7,
    "start_time": "2021-07-07T17:25:14.528Z"
   },
   {
    "duration": 24,
    "start_time": "2021-07-07T17:25:27.982Z"
   },
   {
    "duration": 3,
    "start_time": "2021-07-07T17:25:48.982Z"
   },
   {
    "duration": 165,
    "start_time": "2021-07-07T17:25:48.987Z"
   },
   {
    "duration": 50,
    "start_time": "2021-07-07T17:25:49.154Z"
   },
   {
    "duration": 4,
    "start_time": "2021-07-07T17:25:49.206Z"
   },
   {
    "duration": 26,
    "start_time": "2021-07-07T17:25:49.212Z"
   },
   {
    "duration": 7,
    "start_time": "2021-07-07T17:25:49.240Z"
   },
   {
    "duration": 16,
    "start_time": "2021-07-07T17:25:49.249Z"
   },
   {
    "duration": 22,
    "start_time": "2021-07-07T17:25:49.266Z"
   },
   {
    "duration": 16,
    "start_time": "2021-07-07T17:25:49.291Z"
   },
   {
    "duration": 9,
    "start_time": "2021-07-07T17:25:49.309Z"
   },
   {
    "duration": 7,
    "start_time": "2021-07-07T17:25:49.319Z"
   },
   {
    "duration": 28,
    "start_time": "2021-07-07T17:25:49.328Z"
   },
   {
    "duration": 44,
    "start_time": "2021-07-07T17:25:49.357Z"
   },
   {
    "duration": 22,
    "start_time": "2021-07-07T17:25:49.403Z"
   },
   {
    "duration": 7,
    "start_time": "2021-07-07T17:25:49.427Z"
   },
   {
    "duration": 3,
    "start_time": "2021-07-07T17:25:49.436Z"
   },
   {
    "duration": 44,
    "start_time": "2021-07-07T17:25:49.441Z"
   },
   {
    "duration": 12,
    "start_time": "2021-07-07T17:25:49.488Z"
   },
   {
    "duration": 13,
    "start_time": "2021-07-07T17:25:49.502Z"
   },
   {
    "duration": 10,
    "start_time": "2021-07-07T17:25:49.516Z"
   },
   {
    "duration": 62,
    "start_time": "2021-07-07T17:25:49.527Z"
   },
   {
    "duration": 26,
    "start_time": "2021-07-07T17:26:51.809Z"
   },
   {
    "duration": 26,
    "start_time": "2021-07-07T17:26:55.759Z"
   },
   {
    "duration": 26,
    "start_time": "2021-07-07T17:27:04.501Z"
   },
   {
    "duration": 25,
    "start_time": "2021-07-07T17:28:24.859Z"
   },
   {
    "duration": 21,
    "start_time": "2021-07-07T17:28:55.250Z"
   },
   {
    "duration": 21,
    "start_time": "2021-07-07T17:28:58.885Z"
   },
   {
    "duration": 7,
    "start_time": "2021-07-07T17:45:40.972Z"
   },
   {
    "duration": 13,
    "start_time": "2021-07-07T17:45:42.529Z"
   },
   {
    "duration": 27,
    "start_time": "2021-07-07T17:45:51.026Z"
   },
   {
    "duration": 518,
    "start_time": "2021-07-07T17:46:15.532Z"
   },
   {
    "duration": 235,
    "start_time": "2021-07-07T17:46:16.053Z"
   },
   {
    "duration": 80,
    "start_time": "2021-07-07T17:46:16.292Z"
   },
   {
    "duration": 5,
    "start_time": "2021-07-07T17:46:16.373Z"
   },
   {
    "duration": 26,
    "start_time": "2021-07-07T17:46:16.380Z"
   },
   {
    "duration": 7,
    "start_time": "2021-07-07T17:46:16.408Z"
   },
   {
    "duration": 16,
    "start_time": "2021-07-07T17:46:16.418Z"
   },
   {
    "duration": 5,
    "start_time": "2021-07-07T17:46:16.436Z"
   },
   {
    "duration": 13,
    "start_time": "2021-07-07T17:46:16.442Z"
   },
   {
    "duration": 35,
    "start_time": "2021-07-07T17:46:16.456Z"
   },
   {
    "duration": 8,
    "start_time": "2021-07-07T17:46:16.493Z"
   },
   {
    "duration": 28,
    "start_time": "2021-07-07T17:46:16.502Z"
   },
   {
    "duration": 17,
    "start_time": "2021-07-07T17:46:16.532Z"
   },
   {
    "duration": 44,
    "start_time": "2021-07-07T17:46:16.551Z"
   },
   {
    "duration": 6,
    "start_time": "2021-07-07T17:46:16.597Z"
   },
   {
    "duration": 4,
    "start_time": "2021-07-07T17:46:16.605Z"
   },
   {
    "duration": 9,
    "start_time": "2021-07-07T17:46:16.610Z"
   },
   {
    "duration": 9,
    "start_time": "2021-07-07T17:46:16.621Z"
   },
   {
    "duration": 10,
    "start_time": "2021-07-07T17:46:16.632Z"
   },
   {
    "duration": 43,
    "start_time": "2021-07-07T17:46:16.644Z"
   },
   {
    "duration": 26,
    "start_time": "2021-07-07T17:46:16.689Z"
   },
   {
    "duration": 19,
    "start_time": "2021-07-07T17:46:16.718Z"
   },
   {
    "duration": 8,
    "start_time": "2021-07-07T17:46:16.738Z"
   },
   {
    "duration": 43,
    "start_time": "2021-07-07T17:46:16.747Z"
   },
   {
    "duration": 19,
    "start_time": "2021-07-07T17:46:16.791Z"
   },
   {
    "duration": 9,
    "start_time": "2021-07-07T17:46:16.812Z"
   },
   {
    "duration": 60,
    "start_time": "2021-07-07T17:46:16.822Z"
   },
   {
    "duration": -8,
    "start_time": "2021-07-07T17:46:16.892Z"
   },
   {
    "duration": 12,
    "start_time": "2021-07-07T17:48:47.707Z"
   },
   {
    "duration": 553,
    "start_time": "2021-07-07T18:10:09.350Z"
   },
   {
    "duration": 230,
    "start_time": "2021-07-07T18:10:09.905Z"
   },
   {
    "duration": 97,
    "start_time": "2021-07-07T18:10:10.137Z"
   },
   {
    "duration": 5,
    "start_time": "2021-07-07T18:10:10.236Z"
   },
   {
    "duration": 29,
    "start_time": "2021-07-07T18:10:10.242Z"
   },
   {
    "duration": 7,
    "start_time": "2021-07-07T18:10:10.272Z"
   },
   {
    "duration": 15,
    "start_time": "2021-07-07T18:10:10.281Z"
   },
   {
    "duration": 4,
    "start_time": "2021-07-07T18:10:10.299Z"
   },
   {
    "duration": 14,
    "start_time": "2021-07-07T18:10:10.305Z"
   },
   {
    "duration": 8,
    "start_time": "2021-07-07T18:10:10.321Z"
   },
   {
    "duration": 8,
    "start_time": "2021-07-07T18:10:10.331Z"
   },
   {
    "duration": 56,
    "start_time": "2021-07-07T18:10:10.341Z"
   },
   {
    "duration": 19,
    "start_time": "2021-07-07T18:10:10.399Z"
   },
   {
    "duration": 23,
    "start_time": "2021-07-07T18:10:10.419Z"
   },
   {
    "duration": 6,
    "start_time": "2021-07-07T18:10:10.444Z"
   },
   {
    "duration": 9,
    "start_time": "2021-07-07T18:10:10.451Z"
   },
   {
    "duration": 30,
    "start_time": "2021-07-07T18:10:10.462Z"
   },
   {
    "duration": 9,
    "start_time": "2021-07-07T18:10:10.494Z"
   },
   {
    "duration": 14,
    "start_time": "2021-07-07T18:10:10.505Z"
   },
   {
    "duration": 7,
    "start_time": "2021-07-07T18:10:10.521Z"
   },
   {
    "duration": 26,
    "start_time": "2021-07-07T18:10:10.530Z"
   },
   {
    "duration": 44,
    "start_time": "2021-07-07T18:10:10.558Z"
   },
   {
    "duration": 7,
    "start_time": "2021-07-07T18:10:10.605Z"
   },
   {
    "duration": 11,
    "start_time": "2021-07-07T18:10:10.614Z"
   },
   {
    "duration": 19,
    "start_time": "2021-07-07T18:10:10.626Z"
   },
   {
    "duration": 44,
    "start_time": "2021-07-07T18:10:10.646Z"
   },
   {
    "duration": 516,
    "start_time": "2021-07-07T18:14:00.826Z"
   },
   {
    "duration": 230,
    "start_time": "2021-07-07T18:14:01.344Z"
   },
   {
    "duration": 105,
    "start_time": "2021-07-07T18:14:01.576Z"
   },
   {
    "duration": 5,
    "start_time": "2021-07-07T18:14:01.683Z"
   },
   {
    "duration": 46,
    "start_time": "2021-07-07T18:14:01.690Z"
   },
   {
    "duration": 7,
    "start_time": "2021-07-07T18:14:01.738Z"
   },
   {
    "duration": 20,
    "start_time": "2021-07-07T18:14:01.747Z"
   },
   {
    "duration": 16,
    "start_time": "2021-07-07T18:14:01.769Z"
   },
   {
    "duration": 14,
    "start_time": "2021-07-07T18:14:01.787Z"
   },
   {
    "duration": 15,
    "start_time": "2021-07-07T18:14:01.803Z"
   },
   {
    "duration": 12,
    "start_time": "2021-07-07T18:14:01.820Z"
   },
   {
    "duration": 35,
    "start_time": "2021-07-07T18:14:01.833Z"
   },
   {
    "duration": 31,
    "start_time": "2021-07-07T18:14:01.869Z"
   },
   {
    "duration": 37,
    "start_time": "2021-07-07T18:14:01.902Z"
   },
   {
    "duration": 8,
    "start_time": "2021-07-07T18:14:01.942Z"
   },
   {
    "duration": 16,
    "start_time": "2021-07-07T18:14:01.952Z"
   },
   {
    "duration": 13,
    "start_time": "2021-07-07T18:14:01.970Z"
   },
   {
    "duration": 32,
    "start_time": "2021-07-07T18:14:01.985Z"
   },
   {
    "duration": 11,
    "start_time": "2021-07-07T18:14:02.019Z"
   },
   {
    "duration": 22,
    "start_time": "2021-07-07T18:14:02.031Z"
   },
   {
    "duration": 27,
    "start_time": "2021-07-07T18:14:02.055Z"
   },
   {
    "duration": 18,
    "start_time": "2021-07-07T18:14:02.084Z"
   },
   {
    "duration": 18,
    "start_time": "2021-07-07T18:14:02.106Z"
   },
   {
    "duration": 11,
    "start_time": "2021-07-07T18:14:02.126Z"
   },
   {
    "duration": 21,
    "start_time": "2021-07-07T18:14:02.138Z"
   },
   {
    "duration": 32,
    "start_time": "2021-07-07T18:14:02.161Z"
   },
   {
    "duration": 28,
    "start_time": "2021-07-07T18:14:44.295Z"
   },
   {
    "duration": 6,
    "start_time": "2021-07-07T18:15:05.834Z"
   },
   {
    "duration": 511,
    "start_time": "2021-07-07T18:15:41.541Z"
   },
   {
    "duration": 183,
    "start_time": "2021-07-07T18:15:42.054Z"
   },
   {
    "duration": 50,
    "start_time": "2021-07-07T18:15:42.239Z"
   },
   {
    "duration": 5,
    "start_time": "2021-07-07T18:15:42.291Z"
   },
   {
    "duration": 48,
    "start_time": "2021-07-07T18:15:42.297Z"
   },
   {
    "duration": 8,
    "start_time": "2021-07-07T18:15:42.346Z"
   },
   {
    "duration": 17,
    "start_time": "2021-07-07T18:15:42.356Z"
   },
   {
    "duration": 15,
    "start_time": "2021-07-07T18:15:42.375Z"
   },
   {
    "duration": 12,
    "start_time": "2021-07-07T18:15:42.392Z"
   },
   {
    "duration": 7,
    "start_time": "2021-07-07T18:15:42.406Z"
   },
   {
    "duration": 7,
    "start_time": "2021-07-07T18:15:42.415Z"
   },
   {
    "duration": 29,
    "start_time": "2021-07-07T18:15:42.423Z"
   },
   {
    "duration": 43,
    "start_time": "2021-07-07T18:15:42.453Z"
   },
   {
    "duration": 18,
    "start_time": "2021-07-07T18:15:42.497Z"
   },
   {
    "duration": 6,
    "start_time": "2021-07-07T18:15:42.516Z"
   },
   {
    "duration": 3,
    "start_time": "2021-07-07T18:15:42.523Z"
   },
   {
    "duration": 18,
    "start_time": "2021-07-07T18:15:42.528Z"
   },
   {
    "duration": 10,
    "start_time": "2021-07-07T18:15:42.547Z"
   },
   {
    "duration": 36,
    "start_time": "2021-07-07T18:15:42.559Z"
   },
   {
    "duration": 8,
    "start_time": "2021-07-07T18:15:42.597Z"
   },
   {
    "duration": 28,
    "start_time": "2021-07-07T18:15:42.606Z"
   },
   {
    "duration": 52,
    "start_time": "2021-07-07T18:15:42.635Z"
   },
   {
    "duration": 7,
    "start_time": "2021-07-07T18:15:42.690Z"
   },
   {
    "duration": 10,
    "start_time": "2021-07-07T18:15:42.699Z"
   },
   {
    "duration": 19,
    "start_time": "2021-07-07T18:15:42.711Z"
   },
   {
    "duration": 9,
    "start_time": "2021-07-07T18:15:42.732Z"
   },
   {
    "duration": 5,
    "start_time": "2021-07-07T18:15:42.743Z"
   },
   {
    "duration": 1450,
    "start_time": "2021-07-07T18:15:51.984Z"
   },
   {
    "duration": 161,
    "start_time": "2021-07-07T18:15:53.435Z"
   },
   {
    "duration": 124,
    "start_time": "2021-07-07T18:15:53.598Z"
   },
   {
    "duration": 5,
    "start_time": "2021-07-07T18:15:53.724Z"
   },
   {
    "duration": 34,
    "start_time": "2021-07-07T18:15:53.730Z"
   },
   {
    "duration": 7,
    "start_time": "2021-07-07T18:15:53.765Z"
   },
   {
    "duration": 15,
    "start_time": "2021-07-07T18:15:53.773Z"
   },
   {
    "duration": 5,
    "start_time": "2021-07-07T18:15:53.791Z"
   },
   {
    "duration": 19,
    "start_time": "2021-07-07T18:15:53.798Z"
   },
   {
    "duration": 9,
    "start_time": "2021-07-07T18:15:53.818Z"
   },
   {
    "duration": 19,
    "start_time": "2021-07-07T18:15:53.828Z"
   },
   {
    "duration": 27,
    "start_time": "2021-07-07T18:15:53.848Z"
   },
   {
    "duration": 16,
    "start_time": "2021-07-07T18:15:53.884Z"
   },
   {
    "duration": 29,
    "start_time": "2021-07-07T18:15:53.901Z"
   },
   {
    "duration": 5,
    "start_time": "2021-07-07T18:15:53.932Z"
   },
   {
    "duration": 15,
    "start_time": "2021-07-07T18:15:53.939Z"
   },
   {
    "duration": 13,
    "start_time": "2021-07-07T18:15:53.956Z"
   },
   {
    "duration": 20,
    "start_time": "2021-07-07T18:15:53.971Z"
   },
   {
    "duration": 14,
    "start_time": "2021-07-07T18:15:53.992Z"
   },
   {
    "duration": 9,
    "start_time": "2021-07-07T18:15:54.009Z"
   },
   {
    "duration": 28,
    "start_time": "2021-07-07T18:15:54.020Z"
   },
   {
    "duration": 50,
    "start_time": "2021-07-07T18:15:54.051Z"
   },
   {
    "duration": 8,
    "start_time": "2021-07-07T18:15:54.105Z"
   },
   {
    "duration": 11,
    "start_time": "2021-07-07T18:15:54.115Z"
   },
   {
    "duration": 20,
    "start_time": "2021-07-07T18:15:54.128Z"
   },
   {
    "duration": 13,
    "start_time": "2021-07-07T18:15:54.184Z"
   },
   {
    "duration": 7,
    "start_time": "2021-07-07T18:15:54.199Z"
   },
   {
    "duration": 7,
    "start_time": "2021-07-07T18:17:08.042Z"
   },
   {
    "duration": 8,
    "start_time": "2021-07-07T18:17:21.008Z"
   },
   {
    "duration": 7,
    "start_time": "2021-07-07T18:17:29.003Z"
   },
   {
    "duration": 8,
    "start_time": "2021-07-07T18:17:32.492Z"
   },
   {
    "duration": 9,
    "start_time": "2021-07-07T18:17:41.758Z"
   },
   {
    "duration": 255,
    "start_time": "2021-07-07T18:20:20.897Z"
   },
   {
    "duration": 173,
    "start_time": "2021-07-07T18:20:26.636Z"
   },
   {
    "duration": 7,
    "start_time": "2021-07-07T18:21:47.164Z"
   },
   {
    "duration": 254,
    "start_time": "2021-07-07T18:23:08.703Z"
   },
   {
    "duration": 21,
    "start_time": "2021-07-07T18:23:22.506Z"
   },
   {
    "duration": 315,
    "start_time": "2021-07-07T18:25:54.801Z"
   },
   {
    "duration": 34,
    "start_time": "2021-07-07T18:26:51.817Z"
   },
   {
    "duration": 327,
    "start_time": "2021-07-07T18:26:56.147Z"
   },
   {
    "duration": 342,
    "start_time": "2021-07-07T18:27:15.887Z"
   },
   {
    "duration": 302,
    "start_time": "2021-07-07T18:28:18.569Z"
   },
   {
    "duration": 226,
    "start_time": "2021-07-07T18:29:20.879Z"
   },
   {
    "duration": 207,
    "start_time": "2021-07-07T18:29:58.114Z"
   },
   {
    "duration": 140,
    "start_time": "2021-07-07T18:32:04.372Z"
   },
   {
    "duration": 158,
    "start_time": "2021-07-07T18:32:32.508Z"
   },
   {
    "duration": 145,
    "start_time": "2021-07-07T18:32:41.365Z"
   },
   {
    "duration": 132,
    "start_time": "2021-07-07T18:32:45.199Z"
   },
   {
    "duration": 11,
    "start_time": "2021-07-07T18:35:24.679Z"
   },
   {
    "duration": 268,
    "start_time": "2021-07-07T18:36:16.145Z"
   },
   {
    "duration": 227,
    "start_time": "2021-07-07T18:37:04.918Z"
   },
   {
    "duration": 3,
    "start_time": "2021-07-07T18:37:33.012Z"
   },
   {
    "duration": 671,
    "start_time": "2021-07-07T18:37:38.295Z"
   },
   {
    "duration": 54,
    "start_time": "2021-07-07T18:37:53.406Z"
   },
   {
    "duration": 631,
    "start_time": "2021-07-07T18:37:56.463Z"
   },
   {
    "duration": 19,
    "start_time": "2021-07-07T18:39:40.535Z"
   },
   {
    "duration": 20,
    "start_time": "2021-07-07T18:40:12.236Z"
   },
   {
    "duration": 633,
    "start_time": "2021-07-07T18:42:00.398Z"
   },
   {
    "duration": 218,
    "start_time": "2021-07-07T18:42:01.033Z"
   },
   {
    "duration": 49,
    "start_time": "2021-07-07T18:42:01.253Z"
   },
   {
    "duration": 5,
    "start_time": "2021-07-07T18:42:01.303Z"
   },
   {
    "duration": 27,
    "start_time": "2021-07-07T18:42:01.310Z"
   },
   {
    "duration": 8,
    "start_time": "2021-07-07T18:42:01.339Z"
   },
   {
    "duration": 20,
    "start_time": "2021-07-07T18:42:01.348Z"
   },
   {
    "duration": 6,
    "start_time": "2021-07-07T18:42:01.386Z"
   },
   {
    "duration": 16,
    "start_time": "2021-07-07T18:42:01.394Z"
   },
   {
    "duration": 9,
    "start_time": "2021-07-07T18:42:01.411Z"
   },
   {
    "duration": 11,
    "start_time": "2021-07-07T18:42:01.421Z"
   },
   {
    "duration": 31,
    "start_time": "2021-07-07T18:42:01.434Z"
   },
   {
    "duration": 18,
    "start_time": "2021-07-07T18:42:01.485Z"
   },
   {
    "duration": 23,
    "start_time": "2021-07-07T18:42:01.505Z"
   },
   {
    "duration": 6,
    "start_time": "2021-07-07T18:42:01.530Z"
   },
   {
    "duration": 10,
    "start_time": "2021-07-07T18:42:01.538Z"
   },
   {
    "duration": 13,
    "start_time": "2021-07-07T18:42:01.550Z"
   },
   {
    "duration": 24,
    "start_time": "2021-07-07T18:42:01.564Z"
   },
   {
    "duration": 20,
    "start_time": "2021-07-07T18:42:01.590Z"
   },
   {
    "duration": 8,
    "start_time": "2021-07-07T18:42:01.611Z"
   },
   {
    "duration": 31,
    "start_time": "2021-07-07T18:42:01.620Z"
   },
   {
    "duration": 39,
    "start_time": "2021-07-07T18:42:01.653Z"
   },
   {
    "duration": 8,
    "start_time": "2021-07-07T18:42:01.696Z"
   },
   {
    "duration": 13,
    "start_time": "2021-07-07T18:42:01.705Z"
   },
   {
    "duration": 20,
    "start_time": "2021-07-07T18:42:01.720Z"
   },
   {
    "duration": 12,
    "start_time": "2021-07-07T18:42:01.741Z"
   },
   {
    "duration": 35,
    "start_time": "2021-07-07T18:42:01.755Z"
   },
   {
    "duration": 14,
    "start_time": "2021-07-07T18:42:01.792Z"
   },
   {
    "duration": 188,
    "start_time": "2021-07-07T18:42:01.808Z"
   },
   {
    "duration": 19,
    "start_time": "2021-07-07T18:42:01.998Z"
   },
   {
    "duration": 175,
    "start_time": "2021-07-07T18:42:02.019Z"
   },
   {
    "duration": 134,
    "start_time": "2021-07-07T18:42:02.196Z"
   },
   {
    "duration": 10,
    "start_time": "2021-07-07T18:42:02.331Z"
   },
   {
    "duration": 19,
    "start_time": "2021-07-07T18:42:02.343Z"
   },
   {
    "duration": 628,
    "start_time": "2021-07-07T18:46:30.701Z"
   },
   {
    "duration": 183,
    "start_time": "2021-07-07T18:46:31.331Z"
   },
   {
    "duration": 48,
    "start_time": "2021-07-07T18:46:31.516Z"
   },
   {
    "duration": 5,
    "start_time": "2021-07-07T18:46:31.566Z"
   },
   {
    "duration": 28,
    "start_time": "2021-07-07T18:46:31.572Z"
   },
   {
    "duration": 8,
    "start_time": "2021-07-07T18:46:31.602Z"
   },
   {
    "duration": 19,
    "start_time": "2021-07-07T18:46:31.611Z"
   },
   {
    "duration": 6,
    "start_time": "2021-07-07T18:46:31.633Z"
   },
   {
    "duration": 17,
    "start_time": "2021-07-07T18:46:31.642Z"
   },
   {
    "duration": 10,
    "start_time": "2021-07-07T18:46:31.684Z"
   },
   {
    "duration": 9,
    "start_time": "2021-07-07T18:46:31.695Z"
   },
   {
    "duration": 28,
    "start_time": "2021-07-07T18:46:31.705Z"
   },
   {
    "duration": 18,
    "start_time": "2021-07-07T18:46:31.735Z"
   },
   {
    "duration": 48,
    "start_time": "2021-07-07T18:46:31.755Z"
   },
   {
    "duration": 6,
    "start_time": "2021-07-07T18:46:31.804Z"
   },
   {
    "duration": 4,
    "start_time": "2021-07-07T18:46:31.812Z"
   },
   {
    "duration": 9,
    "start_time": "2021-07-07T18:46:31.817Z"
   },
   {
    "duration": 10,
    "start_time": "2021-07-07T18:46:31.827Z"
   },
   {
    "duration": 12,
    "start_time": "2021-07-07T18:46:31.838Z"
   },
   {
    "duration": 39,
    "start_time": "2021-07-07T18:46:31.851Z"
   },
   {
    "duration": 24,
    "start_time": "2021-07-07T18:46:31.892Z"
   },
   {
    "duration": 15,
    "start_time": "2021-07-07T18:46:31.918Z"
   },
   {
    "duration": 7,
    "start_time": "2021-07-07T18:46:31.936Z"
   },
   {
    "duration": 8,
    "start_time": "2021-07-07T18:46:31.944Z"
   },
   {
    "duration": 19,
    "start_time": "2021-07-07T18:46:31.984Z"
   },
   {
    "duration": 10,
    "start_time": "2021-07-07T18:46:32.004Z"
   },
   {
    "duration": 5,
    "start_time": "2021-07-07T18:46:32.016Z"
   },
   {
    "duration": 9,
    "start_time": "2021-07-07T18:46:32.023Z"
   },
   {
    "duration": 199,
    "start_time": "2021-07-07T18:46:32.033Z"
   },
   {
    "duration": 19,
    "start_time": "2021-07-07T18:46:32.234Z"
   },
   {
    "duration": 159,
    "start_time": "2021-07-07T18:46:32.255Z"
   },
   {
    "duration": 134,
    "start_time": "2021-07-07T18:46:32.416Z"
   },
   {
    "duration": 10,
    "start_time": "2021-07-07T18:46:32.552Z"
   },
   {
    "duration": 34,
    "start_time": "2021-07-07T18:46:32.563Z"
   },
   {
    "duration": 1039,
    "start_time": "2021-07-08T08:41:09.419Z"
   },
   {
    "duration": 333,
    "start_time": "2021-07-08T08:41:10.459Z"
   },
   {
    "duration": 173,
    "start_time": "2021-07-08T08:41:10.794Z"
   },
   {
    "duration": 5,
    "start_time": "2021-07-08T08:41:10.968Z"
   },
   {
    "duration": 25,
    "start_time": "2021-07-08T08:41:10.975Z"
   },
   {
    "duration": 9,
    "start_time": "2021-07-08T08:41:11.002Z"
   },
   {
    "duration": 18,
    "start_time": "2021-07-08T08:41:11.013Z"
   },
   {
    "duration": 6,
    "start_time": "2021-07-08T08:41:11.033Z"
   },
   {
    "duration": 44,
    "start_time": "2021-07-08T08:41:11.042Z"
   },
   {
    "duration": 10,
    "start_time": "2021-07-08T08:41:11.088Z"
   },
   {
    "duration": 9,
    "start_time": "2021-07-08T08:41:11.100Z"
   },
   {
    "duration": 27,
    "start_time": "2021-07-08T08:41:11.111Z"
   },
   {
    "duration": 46,
    "start_time": "2021-07-08T08:41:11.140Z"
   },
   {
    "duration": 17,
    "start_time": "2021-07-08T08:41:11.187Z"
   },
   {
    "duration": 6,
    "start_time": "2021-07-08T08:41:11.206Z"
   },
   {
    "duration": 5,
    "start_time": "2021-07-08T08:41:11.213Z"
   },
   {
    "duration": 10,
    "start_time": "2021-07-08T08:41:11.219Z"
   },
   {
    "duration": 9,
    "start_time": "2021-07-08T08:41:11.230Z"
   },
   {
    "duration": 45,
    "start_time": "2021-07-08T08:41:11.241Z"
   },
   {
    "duration": 7,
    "start_time": "2021-07-08T08:41:11.287Z"
   },
   {
    "duration": 24,
    "start_time": "2021-07-08T08:41:11.296Z"
   },
   {
    "duration": 16,
    "start_time": "2021-07-08T08:41:11.322Z"
   },
   {
    "duration": 7,
    "start_time": "2021-07-08T08:41:11.341Z"
   },
   {
    "duration": 41,
    "start_time": "2021-07-08T08:41:11.349Z"
   },
   {
    "duration": 17,
    "start_time": "2021-07-08T08:41:11.391Z"
   },
   {
    "duration": 9,
    "start_time": "2021-07-08T08:41:11.410Z"
   },
   {
    "duration": 5,
    "start_time": "2021-07-08T08:41:11.421Z"
   },
   {
    "duration": 6,
    "start_time": "2021-07-08T08:41:11.428Z"
   },
   {
    "duration": 198,
    "start_time": "2021-07-08T08:41:11.435Z"
   },
   {
    "duration": 18,
    "start_time": "2021-07-08T08:41:11.635Z"
   },
   {
    "duration": 155,
    "start_time": "2021-07-08T08:41:11.655Z"
   },
   {
    "duration": 138,
    "start_time": "2021-07-08T08:41:11.811Z"
   },
   {
    "duration": 10,
    "start_time": "2021-07-08T08:41:11.950Z"
   },
   {
    "duration": 29,
    "start_time": "2021-07-08T08:41:11.961Z"
   },
   {
    "duration": 171,
    "start_time": "2021-07-08T08:47:44.522Z"
   },
   {
    "duration": 124,
    "start_time": "2021-07-08T08:47:46.872Z"
   },
   {
    "duration": 191,
    "start_time": "2021-07-08T08:47:58.148Z"
   },
   {
    "duration": 191,
    "start_time": "2021-07-08T08:48:07.412Z"
   },
   {
    "duration": 261,
    "start_time": "2021-07-08T08:48:10.385Z"
   },
   {
    "duration": 255,
    "start_time": "2021-07-08T08:48:14.494Z"
   },
   {
    "duration": 219,
    "start_time": "2021-07-08T08:48:22.752Z"
   },
   {
    "duration": 173,
    "start_time": "2021-07-08T08:49:06.395Z"
   },
   {
    "duration": 180,
    "start_time": "2021-07-08T08:49:21.011Z"
   },
   {
    "duration": 6,
    "start_time": "2021-07-08T08:50:31.697Z"
   },
   {
    "duration": 10,
    "start_time": "2021-07-08T08:50:47.394Z"
   },
   {
    "duration": 11,
    "start_time": "2021-07-08T08:53:49.332Z"
   },
   {
    "duration": 171,
    "start_time": "2021-07-08T08:54:28.408Z"
   },
   {
    "duration": 636,
    "start_time": "2021-07-08T09:02:48.385Z"
   },
   {
    "duration": 227,
    "start_time": "2021-07-08T09:02:49.023Z"
   },
   {
    "duration": 104,
    "start_time": "2021-07-08T09:02:49.252Z"
   },
   {
    "duration": 5,
    "start_time": "2021-07-08T09:02:49.358Z"
   },
   {
    "duration": 27,
    "start_time": "2021-07-08T09:02:49.365Z"
   },
   {
    "duration": 8,
    "start_time": "2021-07-08T09:02:49.394Z"
   },
   {
    "duration": 18,
    "start_time": "2021-07-08T09:02:49.404Z"
   },
   {
    "duration": 6,
    "start_time": "2021-07-08T09:02:49.424Z"
   },
   {
    "duration": 11,
    "start_time": "2021-07-08T09:02:49.433Z"
   },
   {
    "duration": 13,
    "start_time": "2021-07-08T09:02:49.485Z"
   },
   {
    "duration": 9,
    "start_time": "2021-07-08T09:02:49.500Z"
   },
   {
    "duration": 38,
    "start_time": "2021-07-08T09:02:49.511Z"
   },
   {
    "duration": 42,
    "start_time": "2021-07-08T09:02:49.551Z"
   },
   {
    "duration": 21,
    "start_time": "2021-07-08T09:02:49.594Z"
   },
   {
    "duration": 6,
    "start_time": "2021-07-08T09:02:49.616Z"
   },
   {
    "duration": 3,
    "start_time": "2021-07-08T09:02:49.623Z"
   },
   {
    "duration": 9,
    "start_time": "2021-07-08T09:02:49.628Z"
   },
   {
    "duration": 52,
    "start_time": "2021-07-08T09:02:49.638Z"
   },
   {
    "duration": 11,
    "start_time": "2021-07-08T09:02:49.692Z"
   },
   {
    "duration": 8,
    "start_time": "2021-07-08T09:02:49.704Z"
   },
   {
    "duration": 27,
    "start_time": "2021-07-08T09:02:49.713Z"
   },
   {
    "duration": 59,
    "start_time": "2021-07-08T09:02:49.741Z"
   },
   {
    "duration": 8,
    "start_time": "2021-07-08T09:02:49.803Z"
   },
   {
    "duration": 14,
    "start_time": "2021-07-08T09:02:49.813Z"
   },
   {
    "duration": 20,
    "start_time": "2021-07-08T09:02:49.829Z"
   },
   {
    "duration": 44,
    "start_time": "2021-07-08T09:02:49.851Z"
   },
   {
    "duration": 14,
    "start_time": "2021-07-08T09:02:49.896Z"
   },
   {
    "duration": 221,
    "start_time": "2021-07-08T09:02:49.912Z"
   },
   {
    "duration": 6,
    "start_time": "2021-07-08T09:02:50.134Z"
   },
   {
    "duration": 206,
    "start_time": "2021-07-08T09:02:50.142Z"
   },
   {
    "duration": 19,
    "start_time": "2021-07-08T09:02:50.350Z"
   },
   {
    "duration": 21,
    "start_time": "2021-07-08T09:02:50.370Z"
   },
   {
    "duration": 20,
    "start_time": "2021-07-08T09:02:50.393Z"
   },
   {
    "duration": 5,
    "start_time": "2021-07-08T09:02:50.414Z"
   },
   {
    "duration": 5,
    "start_time": "2021-07-08T09:03:34.173Z"
   },
   {
    "duration": 6,
    "start_time": "2021-07-08T09:04:49.062Z"
   },
   {
    "duration": 9,
    "start_time": "2021-07-08T09:04:50.118Z"
   },
   {
    "duration": 14,
    "start_time": "2021-07-08T09:04:58.512Z"
   },
   {
    "duration": 9,
    "start_time": "2021-07-08T09:05:10.988Z"
   },
   {
    "duration": 11,
    "start_time": "2021-07-08T09:05:11.743Z"
   },
   {
    "duration": 7,
    "start_time": "2021-07-08T09:05:25.677Z"
   },
   {
    "duration": 13,
    "start_time": "2021-07-08T09:05:47.189Z"
   },
   {
    "duration": 13,
    "start_time": "2021-07-08T09:05:54.755Z"
   },
   {
    "duration": 4,
    "start_time": "2021-07-08T09:06:29.189Z"
   },
   {
    "duration": 244,
    "start_time": "2021-07-08T09:06:29.195Z"
   },
   {
    "duration": 91,
    "start_time": "2021-07-08T09:06:29.441Z"
   },
   {
    "duration": 4,
    "start_time": "2021-07-08T09:06:29.534Z"
   },
   {
    "duration": 28,
    "start_time": "2021-07-08T09:06:29.540Z"
   },
   {
    "duration": 6,
    "start_time": "2021-07-08T09:06:29.570Z"
   },
   {
    "duration": 18,
    "start_time": "2021-07-08T09:06:29.578Z"
   },
   {
    "duration": 5,
    "start_time": "2021-07-08T09:06:29.597Z"
   },
   {
    "duration": 13,
    "start_time": "2021-07-08T09:06:29.605Z"
   },
   {
    "duration": 8,
    "start_time": "2021-07-08T09:06:29.620Z"
   },
   {
    "duration": 7,
    "start_time": "2021-07-08T09:06:29.630Z"
   },
   {
    "duration": 63,
    "start_time": "2021-07-08T09:06:29.639Z"
   },
   {
    "duration": 17,
    "start_time": "2021-07-08T09:06:29.704Z"
   },
   {
    "duration": 20,
    "start_time": "2021-07-08T09:06:29.723Z"
   },
   {
    "duration": 6,
    "start_time": "2021-07-08T09:06:29.745Z"
   },
   {
    "duration": 3,
    "start_time": "2021-07-08T09:06:29.752Z"
   },
   {
    "duration": 7,
    "start_time": "2021-07-08T09:06:29.785Z"
   },
   {
    "duration": 11,
    "start_time": "2021-07-08T09:06:29.794Z"
   },
   {
    "duration": 15,
    "start_time": "2021-07-08T09:06:29.807Z"
   },
   {
    "duration": 8,
    "start_time": "2021-07-08T09:06:29.823Z"
   },
   {
    "duration": 70,
    "start_time": "2021-07-08T09:06:29.832Z"
   },
   {
    "duration": 17,
    "start_time": "2021-07-08T09:06:29.903Z"
   },
   {
    "duration": 9,
    "start_time": "2021-07-08T09:06:29.921Z"
   },
   {
    "duration": 9,
    "start_time": "2021-07-08T09:06:29.932Z"
   },
   {
    "duration": 57,
    "start_time": "2021-07-08T09:06:29.942Z"
   },
   {
    "duration": 11,
    "start_time": "2021-07-08T09:06:30.001Z"
   },
   {
    "duration": 19,
    "start_time": "2021-07-08T09:06:30.016Z"
   },
   {
    "duration": 217,
    "start_time": "2021-07-08T09:06:30.037Z"
   },
   {
    "duration": 6,
    "start_time": "2021-07-08T09:06:30.255Z"
   },
   {
    "duration": 205,
    "start_time": "2021-07-08T09:06:30.263Z"
   },
   {
    "duration": 27,
    "start_time": "2021-07-08T09:06:30.470Z"
   },
   {
    "duration": 11,
    "start_time": "2021-07-08T09:06:30.500Z"
   },
   {
    "duration": 31,
    "start_time": "2021-07-08T09:06:30.513Z"
   },
   {
    "duration": 18,
    "start_time": "2021-07-08T09:06:30.546Z"
   },
   {
    "duration": 11,
    "start_time": "2021-07-08T09:06:30.566Z"
   },
   {
    "duration": 19,
    "start_time": "2021-07-08T09:06:30.579Z"
   },
   {
    "duration": 20,
    "start_time": "2021-07-08T09:06:49.466Z"
   },
   {
    "duration": 9,
    "start_time": "2021-07-08T09:06:51.994Z"
   },
   {
    "duration": 20,
    "start_time": "2021-07-08T09:06:52.273Z"
   },
   {
    "duration": 246,
    "start_time": "2021-07-08T09:10:21.272Z"
   },
   {
    "duration": 84,
    "start_time": "2021-07-08T09:10:21.436Z"
   },
   {
    "duration": 7,
    "start_time": "2021-07-08T09:10:37.608Z"
   },
   {
    "duration": 189,
    "start_time": "2021-07-08T09:10:38.573Z"
   },
   {
    "duration": 185,
    "start_time": "2021-07-08T09:10:53.181Z"
   },
   {
    "duration": 11,
    "start_time": "2021-07-08T09:10:59.549Z"
   },
   {
    "duration": 42,
    "start_time": "2021-07-08T09:10:59.709Z"
   },
   {
    "duration": 12,
    "start_time": "2021-07-08T09:11:02.857Z"
   },
   {
    "duration": 28,
    "start_time": "2021-07-08T09:11:10.062Z"
   },
   {
    "duration": 249,
    "start_time": "2021-07-08T09:11:37.388Z"
   },
   {
    "duration": 232,
    "start_time": "2021-07-08T09:11:49.485Z"
   },
   {
    "duration": 453,
    "start_time": "2021-07-08T09:12:01.546Z"
   },
   {
    "duration": 440,
    "start_time": "2021-07-08T09:12:12.347Z"
   },
   {
    "duration": 213,
    "start_time": "2021-07-08T09:13:32.196Z"
   },
   {
    "duration": 172,
    "start_time": "2021-07-08T09:14:07.400Z"
   },
   {
    "duration": 185,
    "start_time": "2021-07-08T09:14:14.905Z"
   },
   {
    "duration": 209,
    "start_time": "2021-07-08T09:14:40.109Z"
   },
   {
    "duration": 201,
    "start_time": "2021-07-08T09:14:54.506Z"
   },
   {
    "duration": 622,
    "start_time": "2021-07-08T09:18:14.497Z"
   },
   {
    "duration": 220,
    "start_time": "2021-07-08T09:18:15.121Z"
   },
   {
    "duration": 79,
    "start_time": "2021-07-08T09:18:15.343Z"
   },
   {
    "duration": 4,
    "start_time": "2021-07-08T09:18:15.425Z"
   },
   {
    "duration": 24,
    "start_time": "2021-07-08T09:18:15.431Z"
   },
   {
    "duration": 8,
    "start_time": "2021-07-08T09:18:15.457Z"
   },
   {
    "duration": 16,
    "start_time": "2021-07-08T09:18:15.466Z"
   },
   {
    "duration": 5,
    "start_time": "2021-07-08T09:18:15.484Z"
   },
   {
    "duration": 10,
    "start_time": "2021-07-08T09:18:15.493Z"
   },
   {
    "duration": 8,
    "start_time": "2021-07-08T09:18:15.504Z"
   },
   {
    "duration": 7,
    "start_time": "2021-07-08T09:18:15.513Z"
   },
   {
    "duration": 26,
    "start_time": "2021-07-08T09:18:15.522Z"
   },
   {
    "duration": 49,
    "start_time": "2021-07-08T09:18:15.550Z"
   },
   {
    "duration": 21,
    "start_time": "2021-07-08T09:18:15.601Z"
   },
   {
    "duration": 8,
    "start_time": "2021-07-08T09:18:15.624Z"
   },
   {
    "duration": 3,
    "start_time": "2021-07-08T09:18:15.634Z"
   },
   {
    "duration": 8,
    "start_time": "2021-07-08T09:18:15.639Z"
   },
   {
    "duration": 45,
    "start_time": "2021-07-08T09:18:15.649Z"
   },
   {
    "duration": 13,
    "start_time": "2021-07-08T09:18:15.696Z"
   },
   {
    "duration": 10,
    "start_time": "2021-07-08T09:18:15.711Z"
   },
   {
    "duration": 64,
    "start_time": "2021-07-08T09:18:15.722Z"
   },
   {
    "duration": 19,
    "start_time": "2021-07-08T09:18:15.788Z"
   },
   {
    "duration": 9,
    "start_time": "2021-07-08T09:18:15.809Z"
   },
   {
    "duration": 9,
    "start_time": "2021-07-08T09:18:15.820Z"
   },
   {
    "duration": 18,
    "start_time": "2021-07-08T09:18:15.831Z"
   },
   {
    "duration": 43,
    "start_time": "2021-07-08T09:18:15.851Z"
   },
   {
    "duration": 12,
    "start_time": "2021-07-08T09:18:15.897Z"
   },
   {
    "duration": 219,
    "start_time": "2021-07-08T09:18:15.911Z"
   },
   {
    "duration": 8,
    "start_time": "2021-07-08T09:18:16.132Z"
   },
   {
    "duration": 199,
    "start_time": "2021-07-08T09:18:16.141Z"
   },
   {
    "duration": 18,
    "start_time": "2021-07-08T09:18:16.341Z"
   },
   {
    "duration": 24,
    "start_time": "2021-07-08T09:18:16.361Z"
   },
   {
    "duration": 24,
    "start_time": "2021-07-08T09:18:16.387Z"
   },
   {
    "duration": 211,
    "start_time": "2021-07-08T09:18:16.413Z"
   },
   {
    "duration": 18,
    "start_time": "2021-07-08T09:18:16.626Z"
   },
   {
    "duration": 596,
    "start_time": "2021-07-08T10:06:33.623Z"
   },
   {
    "duration": 181,
    "start_time": "2021-07-08T10:06:34.221Z"
   },
   {
    "duration": 176,
    "start_time": "2021-07-08T10:06:34.635Z"
   },
   {
    "duration": 239,
    "start_time": "2021-07-08T10:06:55.572Z"
   },
   {
    "duration": 6,
    "start_time": "2021-07-08T10:06:57.687Z"
   },
   {
    "duration": 4,
    "start_time": "2021-07-08T10:07:03.956Z"
   },
   {
    "duration": 4,
    "start_time": "2021-07-08T10:07:10.376Z"
   },
   {
    "duration": 4,
    "start_time": "2021-07-08T10:17:19.889Z"
   },
   {
    "duration": 3,
    "start_time": "2021-07-08T10:19:19.407Z"
   },
   {
    "duration": 197,
    "start_time": "2021-07-08T10:19:19.412Z"
   },
   {
    "duration": 127,
    "start_time": "2021-07-08T10:19:19.611Z"
   },
   {
    "duration": 4,
    "start_time": "2021-07-08T10:19:19.740Z"
   },
   {
    "duration": 27,
    "start_time": "2021-07-08T10:19:19.746Z"
   },
   {
    "duration": 7,
    "start_time": "2021-07-08T10:19:19.775Z"
   },
   {
    "duration": 30,
    "start_time": "2021-07-08T10:19:19.784Z"
   },
   {
    "duration": 7,
    "start_time": "2021-07-08T10:19:19.817Z"
   },
   {
    "duration": 26,
    "start_time": "2021-07-08T10:19:19.826Z"
   },
   {
    "duration": 18,
    "start_time": "2021-07-08T10:19:19.854Z"
   },
   {
    "duration": 14,
    "start_time": "2021-07-08T10:19:19.874Z"
   },
   {
    "duration": 48,
    "start_time": "2021-07-08T10:19:19.890Z"
   },
   {
    "duration": 17,
    "start_time": "2021-07-08T10:19:19.940Z"
   },
   {
    "duration": 38,
    "start_time": "2021-07-08T10:19:19.959Z"
   },
   {
    "duration": 8,
    "start_time": "2021-07-08T10:19:19.999Z"
   },
   {
    "duration": 15,
    "start_time": "2021-07-08T10:19:20.009Z"
   },
   {
    "duration": 22,
    "start_time": "2021-07-08T10:19:20.026Z"
   },
   {
    "duration": 10,
    "start_time": "2021-07-08T10:19:20.050Z"
   },
   {
    "duration": 10,
    "start_time": "2021-07-08T10:19:20.062Z"
   },
   {
    "duration": 20,
    "start_time": "2021-07-08T10:19:20.073Z"
   },
   {
    "duration": 29,
    "start_time": "2021-07-08T10:19:20.095Z"
   },
   {
    "duration": 17,
    "start_time": "2021-07-08T10:19:20.126Z"
   },
   {
    "duration": 40,
    "start_time": "2021-07-08T10:19:20.146Z"
   },
   {
    "duration": 15,
    "start_time": "2021-07-08T10:19:20.189Z"
   },
   {
    "duration": 19,
    "start_time": "2021-07-08T10:19:20.206Z"
   },
   {
    "duration": 10,
    "start_time": "2021-07-08T10:19:20.226Z"
   },
   {
    "duration": 11,
    "start_time": "2021-07-08T10:19:20.238Z"
   },
   {
    "duration": 297,
    "start_time": "2021-07-08T10:19:20.250Z"
   },
   {
    "duration": 6,
    "start_time": "2021-07-08T10:19:20.549Z"
   },
   {
    "duration": 191,
    "start_time": "2021-07-08T10:19:20.557Z"
   },
   {
    "duration": 19,
    "start_time": "2021-07-08T10:19:20.750Z"
   },
   {
    "duration": 20,
    "start_time": "2021-07-08T10:19:20.771Z"
   },
   {
    "duration": 15,
    "start_time": "2021-07-08T10:19:20.793Z"
   },
   {
    "duration": 222,
    "start_time": "2021-07-08T10:19:20.809Z"
   },
   {
    "duration": 20,
    "start_time": "2021-07-08T10:19:21.033Z"
   },
   {
    "duration": 27,
    "start_time": "2021-07-08T10:45:04.055Z"
   },
   {
    "duration": 8,
    "start_time": "2021-07-08T10:45:08.478Z"
   },
   {
    "duration": 8,
    "start_time": "2021-07-08T10:45:31.982Z"
   },
   {
    "duration": 10,
    "start_time": "2021-07-08T10:46:01.221Z"
   },
   {
    "duration": 17,
    "start_time": "2021-07-08T10:46:40.011Z"
   },
   {
    "duration": 193,
    "start_time": "2021-07-08T10:48:19.471Z"
   },
   {
    "duration": 225,
    "start_time": "2021-07-08T10:49:26.480Z"
   },
   {
    "duration": 204,
    "start_time": "2021-07-08T10:49:59.992Z"
   },
   {
    "duration": 435,
    "start_time": "2021-07-08T10:50:06.779Z"
   },
   {
    "duration": 199,
    "start_time": "2021-07-08T10:50:14.891Z"
   },
   {
    "duration": 204,
    "start_time": "2021-07-08T10:50:18.501Z"
   },
   {
    "duration": 244,
    "start_time": "2021-07-08T10:50:23.359Z"
   },
   {
    "duration": 192,
    "start_time": "2021-07-08T10:50:29.135Z"
   },
   {
    "duration": 218,
    "start_time": "2021-07-08T10:50:33.092Z"
   },
   {
    "duration": 207,
    "start_time": "2021-07-08T10:52:45.381Z"
   },
   {
    "duration": 5,
    "start_time": "2021-07-08T10:53:34.641Z"
   },
   {
    "duration": 196,
    "start_time": "2021-07-08T10:53:41.478Z"
   },
   {
    "duration": 43,
    "start_time": "2021-07-08T10:53:50.335Z"
   },
   {
    "duration": 32,
    "start_time": "2021-07-08T10:53:55.294Z"
   },
   {
    "duration": 55,
    "start_time": "2021-07-08T10:54:09.675Z"
   },
   {
    "duration": 16,
    "start_time": "2021-07-08T10:54:12.260Z"
   },
   {
    "duration": 15,
    "start_time": "2021-07-08T10:54:49.150Z"
   },
   {
    "duration": 20,
    "start_time": "2021-07-08T10:56:07.596Z"
   },
   {
    "duration": 16,
    "start_time": "2021-07-08T10:58:26.276Z"
   },
   {
    "duration": 22,
    "start_time": "2021-07-08T10:59:00.486Z"
   },
   {
    "duration": 18,
    "start_time": "2021-07-08T11:02:09.653Z"
   },
   {
    "duration": 10,
    "start_time": "2021-07-08T11:03:44.331Z"
   },
   {
    "duration": 10,
    "start_time": "2021-07-08T11:03:54.055Z"
   },
   {
    "duration": 12,
    "start_time": "2021-07-08T11:04:41.967Z"
   },
   {
    "duration": 24,
    "start_time": "2021-07-08T11:07:30.732Z"
   },
   {
    "duration": 6,
    "start_time": "2021-07-08T11:07:37.364Z"
   },
   {
    "duration": 16,
    "start_time": "2021-07-08T11:08:01.819Z"
   },
   {
    "duration": 17,
    "start_time": "2021-07-08T11:09:47.488Z"
   },
   {
    "duration": 246,
    "start_time": "2021-07-08T11:10:00.830Z"
   },
   {
    "duration": 18,
    "start_time": "2021-07-08T11:13:55.195Z"
   },
   {
    "duration": 204,
    "start_time": "2021-07-08T11:14:04.951Z"
   },
   {
    "duration": 19,
    "start_time": "2021-07-08T11:15:10.613Z"
   },
   {
    "duration": 680,
    "start_time": "2021-07-08T11:16:25.793Z"
   },
   {
    "duration": 451,
    "start_time": "2021-07-08T11:16:40.313Z"
   },
   {
    "duration": 469,
    "start_time": "2021-07-08T11:17:21.286Z"
   },
   {
    "duration": 20,
    "start_time": "2021-07-08T11:19:12.554Z"
   },
   {
    "duration": 35,
    "start_time": "2021-07-08T11:20:05.484Z"
   },
   {
    "duration": 53,
    "start_time": "2021-07-08T11:21:40.050Z"
   },
   {
    "duration": 13,
    "start_time": "2021-07-08T11:22:26.059Z"
   },
   {
    "duration": 19,
    "start_time": "2021-07-08T11:22:47.419Z"
   },
   {
    "duration": 25,
    "start_time": "2021-07-08T11:23:19.958Z"
   },
   {
    "duration": 29,
    "start_time": "2021-07-08T11:23:25.415Z"
   },
   {
    "duration": 10,
    "start_time": "2021-07-08T11:24:45.138Z"
   },
   {
    "duration": 19,
    "start_time": "2021-07-08T11:24:54.498Z"
   },
   {
    "duration": 12,
    "start_time": "2021-07-08T11:25:32.225Z"
   },
   {
    "duration": 19,
    "start_time": "2021-07-08T11:25:37.092Z"
   },
   {
    "duration": 17,
    "start_time": "2021-07-08T11:25:58.116Z"
   },
   {
    "duration": 15,
    "start_time": "2021-07-08T11:26:02.258Z"
   },
   {
    "duration": 8,
    "start_time": "2021-07-08T11:26:59.682Z"
   },
   {
    "duration": 184,
    "start_time": "2021-07-08T11:27:21.894Z"
   },
   {
    "duration": 8,
    "start_time": "2021-07-08T11:27:23.824Z"
   },
   {
    "duration": 202,
    "start_time": "2021-07-08T11:27:23.962Z"
   },
   {
    "duration": 360,
    "start_time": "2021-07-08T11:28:33.215Z"
   },
   {
    "duration": 231,
    "start_time": "2021-07-08T11:32:05.542Z"
   },
   {
    "duration": 607,
    "start_time": "2021-07-08T11:36:27.854Z"
   },
   {
    "duration": 241,
    "start_time": "2021-07-08T11:36:28.463Z"
   },
   {
    "duration": 67,
    "start_time": "2021-07-08T11:36:28.709Z"
   },
   {
    "duration": 5,
    "start_time": "2021-07-08T11:36:28.778Z"
   },
   {
    "duration": 32,
    "start_time": "2021-07-08T11:36:28.784Z"
   },
   {
    "duration": 11,
    "start_time": "2021-07-08T11:36:28.819Z"
   },
   {
    "duration": 20,
    "start_time": "2021-07-08T11:36:28.834Z"
   },
   {
    "duration": 36,
    "start_time": "2021-07-08T11:36:28.857Z"
   },
   {
    "duration": 16,
    "start_time": "2021-07-08T11:36:28.895Z"
   },
   {
    "duration": 14,
    "start_time": "2021-07-08T11:36:28.913Z"
   },
   {
    "duration": 9,
    "start_time": "2021-07-08T11:36:28.930Z"
   },
   {
    "duration": 55,
    "start_time": "2021-07-08T11:36:28.941Z"
   },
   {
    "duration": 27,
    "start_time": "2021-07-08T11:36:28.999Z"
   },
   {
    "duration": 30,
    "start_time": "2021-07-08T11:36:29.028Z"
   },
   {
    "duration": 31,
    "start_time": "2021-07-08T11:36:29.060Z"
   },
   {
    "duration": 3,
    "start_time": "2021-07-08T11:36:29.093Z"
   },
   {
    "duration": 12,
    "start_time": "2021-07-08T11:36:29.099Z"
   },
   {
    "duration": 11,
    "start_time": "2021-07-08T11:36:29.112Z"
   },
   {
    "duration": 12,
    "start_time": "2021-07-08T11:36:29.125Z"
   },
   {
    "duration": 9,
    "start_time": "2021-07-08T11:36:29.139Z"
   },
   {
    "duration": 31,
    "start_time": "2021-07-08T11:36:29.191Z"
   },
   {
    "duration": 17,
    "start_time": "2021-07-08T11:36:29.226Z"
   },
   {
    "duration": 7,
    "start_time": "2021-07-08T11:36:29.245Z"
   },
   {
    "duration": 10,
    "start_time": "2021-07-08T11:36:29.254Z"
   },
   {
    "duration": 30,
    "start_time": "2021-07-08T11:36:29.292Z"
   },
   {
    "duration": 11,
    "start_time": "2021-07-08T11:36:29.324Z"
   },
   {
    "duration": 11,
    "start_time": "2021-07-08T11:36:29.337Z"
   },
   {
    "duration": 230,
    "start_time": "2021-07-08T11:36:29.349Z"
   },
   {
    "duration": 13,
    "start_time": "2021-07-08T11:36:29.588Z"
   },
   {
    "duration": 205,
    "start_time": "2021-07-08T11:36:29.603Z"
   },
   {
    "duration": 20,
    "start_time": "2021-07-08T11:36:29.810Z"
   },
   {
    "duration": 9,
    "start_time": "2021-07-08T11:36:29.832Z"
   },
   {
    "duration": 16,
    "start_time": "2021-07-08T11:36:29.843Z"
   },
   {
    "duration": 283,
    "start_time": "2021-07-08T11:36:29.861Z"
   },
   {
    "duration": 50,
    "start_time": "2021-07-08T11:36:30.146Z"
   },
   {
    "duration": 14,
    "start_time": "2021-07-08T11:36:30.198Z"
   },
   {
    "duration": 11,
    "start_time": "2021-07-08T11:36:30.214Z"
   },
   {
    "duration": 245,
    "start_time": "2021-07-08T11:36:30.227Z"
   },
   {
    "duration": 439,
    "start_time": "2021-07-08T11:36:30.474Z"
   },
   {
    "duration": 210,
    "start_time": "2021-07-08T11:36:30.915Z"
   },
   {
    "duration": 15,
    "start_time": "2021-07-08T11:36:31.127Z"
   },
   {
    "duration": 17,
    "start_time": "2021-07-08T11:38:20.451Z"
   },
   {
    "duration": 642,
    "start_time": "2021-07-08T11:46:17.881Z"
   },
   {
    "duration": 210,
    "start_time": "2021-07-08T11:46:18.525Z"
   },
   {
    "duration": 104,
    "start_time": "2021-07-08T11:46:18.741Z"
   },
   {
    "duration": 8,
    "start_time": "2021-07-08T11:46:18.847Z"
   },
   {
    "duration": 25,
    "start_time": "2021-07-08T11:46:18.857Z"
   },
   {
    "duration": 14,
    "start_time": "2021-07-08T11:46:18.884Z"
   },
   {
    "duration": 22,
    "start_time": "2021-07-08T11:46:18.900Z"
   },
   {
    "duration": 5,
    "start_time": "2021-07-08T11:46:18.924Z"
   },
   {
    "duration": 13,
    "start_time": "2021-07-08T11:46:18.931Z"
   },
   {
    "duration": 45,
    "start_time": "2021-07-08T11:46:18.946Z"
   },
   {
    "duration": 12,
    "start_time": "2021-07-08T11:46:18.993Z"
   },
   {
    "duration": 38,
    "start_time": "2021-07-08T11:46:19.006Z"
   },
   {
    "duration": 50,
    "start_time": "2021-07-08T11:46:19.046Z"
   },
   {
    "duration": 29,
    "start_time": "2021-07-08T11:46:19.099Z"
   },
   {
    "duration": 7,
    "start_time": "2021-07-08T11:46:19.130Z"
   },
   {
    "duration": 3,
    "start_time": "2021-07-08T11:46:19.139Z"
   },
   {
    "duration": 11,
    "start_time": "2021-07-08T11:46:19.144Z"
   },
   {
    "duration": 40,
    "start_time": "2021-07-08T11:46:19.157Z"
   },
   {
    "duration": 15,
    "start_time": "2021-07-08T11:46:19.199Z"
   },
   {
    "duration": 10,
    "start_time": "2021-07-08T11:46:19.217Z"
   },
   {
    "duration": 68,
    "start_time": "2021-07-08T11:46:19.230Z"
   },
   {
    "duration": 17,
    "start_time": "2021-07-08T11:46:19.301Z"
   },
   {
    "duration": 7,
    "start_time": "2021-07-08T11:46:19.321Z"
   },
   {
    "duration": 11,
    "start_time": "2021-07-08T11:46:19.330Z"
   },
   {
    "duration": 59,
    "start_time": "2021-07-08T11:46:19.343Z"
   },
   {
    "duration": 17,
    "start_time": "2021-07-08T11:46:19.405Z"
   },
   {
    "duration": 16,
    "start_time": "2021-07-08T11:46:19.424Z"
   },
   {
    "duration": 252,
    "start_time": "2021-07-08T11:46:19.443Z"
   },
   {
    "duration": 9,
    "start_time": "2021-07-08T11:46:19.697Z"
   },
   {
    "duration": 224,
    "start_time": "2021-07-08T11:46:19.708Z"
   },
   {
    "duration": 21,
    "start_time": "2021-07-08T11:46:19.934Z"
   },
   {
    "duration": 9,
    "start_time": "2021-07-08T11:46:19.956Z"
   },
   {
    "duration": 32,
    "start_time": "2021-07-08T11:46:19.967Z"
   },
   {
    "duration": 288,
    "start_time": "2021-07-08T11:46:20.004Z"
   },
   {
    "duration": 23,
    "start_time": "2021-07-08T11:46:20.300Z"
   },
   {
    "duration": 11,
    "start_time": "2021-07-08T11:46:20.325Z"
   },
   {
    "duration": 11,
    "start_time": "2021-07-08T11:46:20.339Z"
   },
   {
    "duration": 259,
    "start_time": "2021-07-08T11:46:20.352Z"
   },
   {
    "duration": 438,
    "start_time": "2021-07-08T11:46:20.613Z"
   },
   {
    "duration": 207,
    "start_time": "2021-07-08T11:46:21.054Z"
   },
   {
    "duration": 27,
    "start_time": "2021-07-08T11:46:21.262Z"
   },
   {
    "duration": 19,
    "start_time": "2021-07-08T11:46:21.291Z"
   },
   {
    "duration": 820,
    "start_time": "2021-07-08T11:49:01.655Z"
   },
   {
    "duration": 372,
    "start_time": "2021-07-08T11:49:02.478Z"
   },
   {
    "duration": 98,
    "start_time": "2021-07-08T11:49:02.853Z"
   },
   {
    "duration": 6,
    "start_time": "2021-07-08T11:49:02.953Z"
   },
   {
    "duration": 39,
    "start_time": "2021-07-08T11:49:02.960Z"
   },
   {
    "duration": 9,
    "start_time": "2021-07-08T11:49:03.003Z"
   },
   {
    "duration": 23,
    "start_time": "2021-07-08T11:49:03.014Z"
   },
   {
    "duration": 6,
    "start_time": "2021-07-08T11:49:03.041Z"
   },
   {
    "duration": 20,
    "start_time": "2021-07-08T11:49:03.049Z"
   },
   {
    "duration": 18,
    "start_time": "2021-07-08T11:49:03.084Z"
   },
   {
    "duration": 14,
    "start_time": "2021-07-08T11:49:03.104Z"
   },
   {
    "duration": 39,
    "start_time": "2021-07-08T11:49:03.119Z"
   },
   {
    "duration": 38,
    "start_time": "2021-07-08T11:49:03.160Z"
   },
   {
    "duration": 26,
    "start_time": "2021-07-08T11:49:03.200Z"
   },
   {
    "duration": 7,
    "start_time": "2021-07-08T11:49:03.227Z"
   },
   {
    "duration": 4,
    "start_time": "2021-07-08T11:49:03.236Z"
   },
   {
    "duration": 15,
    "start_time": "2021-07-08T11:49:03.243Z"
   },
   {
    "duration": 21,
    "start_time": "2021-07-08T11:49:03.285Z"
   },
   {
    "duration": 17,
    "start_time": "2021-07-08T11:49:03.309Z"
   },
   {
    "duration": 10,
    "start_time": "2021-07-08T11:49:03.328Z"
   },
   {
    "duration": 65,
    "start_time": "2021-07-08T11:49:03.340Z"
   },
   {
    "duration": 18,
    "start_time": "2021-07-08T11:49:03.407Z"
   },
   {
    "duration": 8,
    "start_time": "2021-07-08T11:49:03.428Z"
   },
   {
    "duration": 15,
    "start_time": "2021-07-08T11:49:03.438Z"
   },
   {
    "duration": 40,
    "start_time": "2021-07-08T11:49:03.455Z"
   },
   {
    "duration": 12,
    "start_time": "2021-07-08T11:49:03.497Z"
   },
   {
    "duration": 29,
    "start_time": "2021-07-08T11:49:03.511Z"
   },
   {
    "duration": 285,
    "start_time": "2021-07-08T11:49:03.542Z"
   },
   {
    "duration": 8,
    "start_time": "2021-07-08T11:49:03.829Z"
   },
   {
    "duration": 227,
    "start_time": "2021-07-08T11:49:03.838Z"
   },
   {
    "duration": 40,
    "start_time": "2021-07-08T11:49:04.066Z"
   },
   {
    "duration": 10,
    "start_time": "2021-07-08T11:49:04.108Z"
   },
   {
    "duration": 26,
    "start_time": "2021-07-08T11:49:04.121Z"
   },
   {
    "duration": 290,
    "start_time": "2021-07-08T11:49:04.149Z"
   },
   {
    "duration": 26,
    "start_time": "2021-07-08T11:49:04.441Z"
   },
   {
    "duration": 31,
    "start_time": "2021-07-08T11:49:04.470Z"
   },
   {
    "duration": 14,
    "start_time": "2021-07-08T11:49:04.503Z"
   },
   {
    "duration": 259,
    "start_time": "2021-07-08T11:49:04.521Z"
   },
   {
    "duration": 480,
    "start_time": "2021-07-08T11:49:04.782Z"
   },
   {
    "duration": 225,
    "start_time": "2021-07-08T11:49:05.264Z"
   },
   {
    "duration": 22,
    "start_time": "2021-07-08T11:49:05.491Z"
   },
   {
    "duration": 24,
    "start_time": "2021-07-08T11:49:05.515Z"
   },
   {
    "duration": 634,
    "start_time": "2021-07-08T11:52:24.960Z"
   },
   {
    "duration": 199,
    "start_time": "2021-07-08T11:52:25.599Z"
   },
   {
    "duration": 106,
    "start_time": "2021-07-08T11:52:25.803Z"
   },
   {
    "duration": 7,
    "start_time": "2021-07-08T11:52:25.911Z"
   },
   {
    "duration": 29,
    "start_time": "2021-07-08T11:52:25.920Z"
   },
   {
    "duration": 7,
    "start_time": "2021-07-08T11:52:25.951Z"
   },
   {
    "duration": 26,
    "start_time": "2021-07-08T11:52:25.961Z"
   },
   {
    "duration": 11,
    "start_time": "2021-07-08T11:52:25.990Z"
   },
   {
    "duration": 29,
    "start_time": "2021-07-08T11:52:26.005Z"
   },
   {
    "duration": 9,
    "start_time": "2021-07-08T11:52:26.036Z"
   },
   {
    "duration": 8,
    "start_time": "2021-07-08T11:52:26.047Z"
   },
   {
    "duration": 63,
    "start_time": "2021-07-08T11:52:26.057Z"
   },
   {
    "duration": 17,
    "start_time": "2021-07-08T11:52:26.122Z"
   },
   {
    "duration": 43,
    "start_time": "2021-07-08T11:52:26.142Z"
   },
   {
    "duration": 17,
    "start_time": "2021-07-08T11:52:26.187Z"
   },
   {
    "duration": 5,
    "start_time": "2021-07-08T11:52:26.206Z"
   },
   {
    "duration": 12,
    "start_time": "2021-07-08T11:52:26.212Z"
   },
   {
    "duration": 11,
    "start_time": "2021-07-08T11:52:26.226Z"
   },
   {
    "duration": 12,
    "start_time": "2021-07-08T11:52:26.238Z"
   },
   {
    "duration": 38,
    "start_time": "2021-07-08T11:52:26.252Z"
   },
   {
    "duration": 40,
    "start_time": "2021-07-08T11:52:26.292Z"
   },
   {
    "duration": 17,
    "start_time": "2021-07-08T11:52:26.336Z"
   },
   {
    "duration": 39,
    "start_time": "2021-07-08T11:52:26.355Z"
   },
   {
    "duration": 11,
    "start_time": "2021-07-08T11:52:26.395Z"
   },
   {
    "duration": 23,
    "start_time": "2021-07-08T11:52:26.408Z"
   },
   {
    "duration": 12,
    "start_time": "2021-07-08T11:52:26.432Z"
   },
   {
    "duration": 41,
    "start_time": "2021-07-08T11:52:26.446Z"
   },
   {
    "duration": 215,
    "start_time": "2021-07-08T11:52:26.493Z"
   },
   {
    "duration": 8,
    "start_time": "2021-07-08T11:52:26.710Z"
   },
   {
    "duration": 228,
    "start_time": "2021-07-08T11:52:26.720Z"
   },
   {
    "duration": 18,
    "start_time": "2021-07-08T11:52:26.950Z"
   },
   {
    "duration": 35,
    "start_time": "2021-07-08T11:52:26.969Z"
   },
   {
    "duration": 23,
    "start_time": "2021-07-08T11:52:27.006Z"
   },
   {
    "duration": 258,
    "start_time": "2021-07-08T11:52:27.030Z"
   },
   {
    "duration": 24,
    "start_time": "2021-07-08T11:52:27.290Z"
   },
   {
    "duration": 12,
    "start_time": "2021-07-08T11:52:27.316Z"
   },
   {
    "duration": 10,
    "start_time": "2021-07-08T11:52:27.329Z"
   },
   {
    "duration": 298,
    "start_time": "2021-07-08T11:52:27.341Z"
   },
   {
    "duration": 436,
    "start_time": "2021-07-08T11:52:27.641Z"
   },
   {
    "duration": 216,
    "start_time": "2021-07-08T11:52:28.079Z"
   },
   {
    "duration": 20,
    "start_time": "2021-07-08T11:52:28.297Z"
   },
   {
    "duration": 17,
    "start_time": "2021-07-08T11:52:28.319Z"
   },
   {
    "duration": 608,
    "start_time": "2023-02-24T02:38:07.256Z"
   },
   {
    "duration": 98,
    "start_time": "2023-02-24T02:38:15.904Z"
   },
   {
    "duration": 191,
    "start_time": "2023-02-24T02:38:47.134Z"
   },
   {
    "duration": 128,
    "start_time": "2023-02-24T02:38:54.800Z"
   },
   {
    "duration": 132,
    "start_time": "2023-02-24T02:39:03.942Z"
   },
   {
    "duration": 119,
    "start_time": "2023-02-24T02:40:31.004Z"
   },
   {
    "duration": 137,
    "start_time": "2023-02-24T02:40:42.774Z"
   },
   {
    "duration": 131,
    "start_time": "2023-02-24T02:40:47.197Z"
   },
   {
    "duration": 142,
    "start_time": "2023-02-24T02:41:01.354Z"
   },
   {
    "duration": 124,
    "start_time": "2023-02-24T02:41:25.587Z"
   },
   {
    "duration": 128,
    "start_time": "2023-02-24T02:41:31.284Z"
   },
   {
    "duration": 125,
    "start_time": "2023-02-24T02:44:05.871Z"
   },
   {
    "duration": 954,
    "start_time": "2023-02-24T02:44:28.508Z"
   },
   {
    "duration": 766,
    "start_time": "2023-02-24T02:44:59.107Z"
   },
   {
    "duration": 1233,
    "start_time": "2023-02-24T02:45:15.067Z"
   },
   {
    "duration": 127,
    "start_time": "2023-02-24T02:45:28.243Z"
   },
   {
    "duration": 130,
    "start_time": "2023-02-24T02:45:35.333Z"
   },
   {
    "duration": 136,
    "start_time": "2023-02-24T02:46:09.330Z"
   },
   {
    "duration": 135,
    "start_time": "2023-02-24T02:46:15.371Z"
   },
   {
    "duration": 126,
    "start_time": "2023-02-24T02:46:19.781Z"
   },
   {
    "duration": 128,
    "start_time": "2023-02-24T02:47:31.518Z"
   },
   {
    "duration": 10,
    "start_time": "2023-02-24T02:49:49.642Z"
   },
   {
    "duration": 196,
    "start_time": "2023-02-24T02:59:05.091Z"
   },
   {
    "duration": 8,
    "start_time": "2023-02-24T03:00:27.978Z"
   },
   {
    "duration": 5,
    "start_time": "2023-02-24T03:00:38.235Z"
   },
   {
    "duration": 12,
    "start_time": "2023-02-24T03:01:23.590Z"
   },
   {
    "duration": 8,
    "start_time": "2023-02-24T03:01:27.315Z"
   },
   {
    "duration": 9,
    "start_time": "2023-02-24T03:01:40.261Z"
   },
   {
    "duration": 6,
    "start_time": "2023-02-24T03:01:45.372Z"
   },
   {
    "duration": 9,
    "start_time": "2023-02-24T03:02:42.676Z"
   },
   {
    "duration": 13,
    "start_time": "2023-02-24T03:03:14.501Z"
   },
   {
    "duration": 10,
    "start_time": "2023-02-24T03:06:54.884Z"
   },
   {
    "duration": 30,
    "start_time": "2023-02-24T03:09:58.075Z"
   },
   {
    "duration": 187,
    "start_time": "2023-02-24T03:11:42.332Z"
   },
   {
    "duration": 23,
    "start_time": "2023-02-24T03:12:02.971Z"
   },
   {
    "duration": 23,
    "start_time": "2023-02-24T03:13:03.811Z"
   },
   {
    "duration": 498,
    "start_time": "2023-02-24T03:13:25.707Z"
   },
   {
    "duration": 24,
    "start_time": "2023-02-24T03:13:26.208Z"
   },
   {
    "duration": 11,
    "start_time": "2023-02-24T03:13:26.234Z"
   },
   {
    "duration": 10,
    "start_time": "2023-02-24T03:13:26.247Z"
   },
   {
    "duration": 18,
    "start_time": "2023-02-24T03:13:26.261Z"
   },
   {
    "duration": 4,
    "start_time": "2023-02-24T03:13:50.279Z"
   },
   {
    "duration": 141,
    "start_time": "2023-02-24T03:14:04.533Z"
   },
   {
    "duration": 42,
    "start_time": "2023-02-24T03:15:09.705Z"
   },
   {
    "duration": 15,
    "start_time": "2023-02-24T03:15:32.216Z"
   },
   {
    "duration": 31,
    "start_time": "2023-02-24T03:16:42.772Z"
   },
   {
    "duration": 6,
    "start_time": "2023-02-24T03:20:46.954Z"
   },
   {
    "duration": 5,
    "start_time": "2023-02-24T03:21:03.233Z"
   },
   {
    "duration": 5,
    "start_time": "2023-02-24T03:21:19.650Z"
   },
   {
    "duration": 74,
    "start_time": "2023-02-24T03:26:31.644Z"
   },
   {
    "duration": 135,
    "start_time": "2023-02-24T03:26:43.420Z"
   },
   {
    "duration": 13,
    "start_time": "2023-02-24T03:26:45.281Z"
   },
   {
    "duration": 7,
    "start_time": "2023-02-24T03:26:47.130Z"
   },
   {
    "duration": 7,
    "start_time": "2023-02-24T03:26:49.091Z"
   },
   {
    "duration": 12,
    "start_time": "2023-02-24T03:26:50.909Z"
   },
   {
    "duration": 410,
    "start_time": "2023-02-24T03:28:25.632Z"
   },
   {
    "duration": 26,
    "start_time": "2023-02-24T03:29:23.054Z"
   },
   {
    "duration": 14,
    "start_time": "2023-02-24T03:29:31.410Z"
   },
   {
    "duration": 5,
    "start_time": "2023-02-24T03:33:24.351Z"
   },
   {
    "duration": 6,
    "start_time": "2023-02-24T03:34:57.688Z"
   },
   {
    "duration": 525,
    "start_time": "2023-02-24T03:35:16.798Z"
   },
   {
    "duration": 12,
    "start_time": "2023-02-24T03:41:51.133Z"
   },
   {
    "duration": 22,
    "start_time": "2023-02-24T03:42:01.580Z"
   },
   {
    "duration": 25,
    "start_time": "2023-02-24T03:43:14.023Z"
   },
   {
    "duration": 18,
    "start_time": "2023-02-24T03:43:19.361Z"
   },
   {
    "duration": 52,
    "start_time": "2023-02-24T03:44:03.047Z"
   },
   {
    "duration": 35,
    "start_time": "2023-02-24T03:44:08.212Z"
   },
   {
    "duration": 1627,
    "start_time": "2023-02-24T03:45:01.612Z"
   },
   {
    "duration": 10,
    "start_time": "2023-02-24T03:45:19.724Z"
   },
   {
    "duration": 9,
    "start_time": "2023-02-24T03:45:26.089Z"
   },
   {
    "duration": 7,
    "start_time": "2023-02-24T03:45:31.817Z"
   },
   {
    "duration": 6,
    "start_time": "2023-02-24T03:45:50.954Z"
   },
   {
    "duration": 6,
    "start_time": "2023-02-24T03:46:48.251Z"
   },
   {
    "duration": 2,
    "start_time": "2023-02-24T03:47:37.309Z"
   },
   {
    "duration": 5,
    "start_time": "2023-02-24T04:19:32.129Z"
   },
   {
    "duration": 4,
    "start_time": "2023-02-24T04:19:38.533Z"
   },
   {
    "duration": 1961,
    "start_time": "2023-02-24T04:20:02.603Z"
   },
   {
    "duration": 12,
    "start_time": "2023-02-24T04:20:32.235Z"
   },
   {
    "duration": 25,
    "start_time": "2023-02-24T04:20:34.600Z"
   },
   {
    "duration": 12,
    "start_time": "2023-02-24T04:20:39.588Z"
   },
   {
    "duration": 1618,
    "start_time": "2023-02-24T04:20:43.075Z"
   },
   {
    "duration": 23,
    "start_time": "2023-02-24T04:20:46.905Z"
   },
   {
    "duration": 23,
    "start_time": "2023-02-24T04:21:16.988Z"
   },
   {
    "duration": 717,
    "start_time": "2023-02-24T04:21:27.245Z"
   },
   {
    "duration": 18,
    "start_time": "2023-02-24T04:21:32.450Z"
   },
   {
    "duration": 11,
    "start_time": "2023-02-24T04:22:05.265Z"
   },
   {
    "duration": 6,
    "start_time": "2023-02-24T04:22:26.560Z"
   },
   {
    "duration": 9,
    "start_time": "2023-02-24T04:23:38.741Z"
   },
   {
    "duration": 7,
    "start_time": "2023-02-24T04:24:00.208Z"
   },
   {
    "duration": 22,
    "start_time": "2023-02-24T04:24:19.633Z"
   },
   {
    "duration": 19,
    "start_time": "2023-02-24T04:25:01.295Z"
   },
   {
    "duration": 25,
    "start_time": "2023-02-24T04:25:07.458Z"
   },
   {
    "duration": 719,
    "start_time": "2023-02-24T04:26:35.077Z"
   },
   {
    "duration": 11,
    "start_time": "2023-02-24T04:26:49.047Z"
   },
   {
    "duration": 19,
    "start_time": "2023-02-24T04:27:09.891Z"
   },
   {
    "duration": 32,
    "start_time": "2023-02-24T04:28:35.693Z"
   },
   {
    "duration": 25,
    "start_time": "2023-02-24T04:29:07.045Z"
   },
   {
    "duration": 12,
    "start_time": "2023-02-24T04:30:01.380Z"
   },
   {
    "duration": 9,
    "start_time": "2023-02-24T04:30:14.317Z"
   },
   {
    "duration": 28,
    "start_time": "2023-02-24T04:30:41.118Z"
   },
   {
    "duration": 28,
    "start_time": "2023-02-24T04:31:35.290Z"
   },
   {
    "duration": 14,
    "start_time": "2023-02-24T04:33:13.480Z"
   },
   {
    "duration": 14,
    "start_time": "2023-02-24T04:33:21.020Z"
   },
   {
    "duration": 18,
    "start_time": "2023-02-24T04:33:52.060Z"
   },
   {
    "duration": 8,
    "start_time": "2023-02-24T04:36:01.563Z"
   },
   {
    "duration": 18,
    "start_time": "2023-02-24T04:36:51.427Z"
   },
   {
    "duration": 2,
    "start_time": "2023-02-24T04:39:11.983Z"
   },
   {
    "duration": 798,
    "start_time": "2023-02-24T04:40:19.664Z"
   },
   {
    "duration": 6,
    "start_time": "2023-02-24T04:40:31.472Z"
   },
   {
    "duration": 4,
    "start_time": "2023-02-24T04:43:48.980Z"
   },
   {
    "duration": 7,
    "start_time": "2023-02-24T04:44:49.865Z"
   },
   {
    "duration": 20,
    "start_time": "2023-02-24T04:45:12.508Z"
   },
   {
    "duration": 507,
    "start_time": "2023-02-24T04:46:37.199Z"
   },
   {
    "duration": 19,
    "start_time": "2023-02-24T04:46:37.708Z"
   },
   {
    "duration": 8,
    "start_time": "2023-02-24T04:46:37.728Z"
   },
   {
    "duration": 7,
    "start_time": "2023-02-24T04:46:37.738Z"
   },
   {
    "duration": 35,
    "start_time": "2023-02-24T04:46:37.746Z"
   },
   {
    "duration": 35,
    "start_time": "2023-02-24T04:46:37.783Z"
   },
   {
    "duration": 16,
    "start_time": "2023-02-24T04:46:37.820Z"
   },
   {
    "duration": 33,
    "start_time": "2023-02-24T04:46:37.837Z"
   },
   {
    "duration": 61,
    "start_time": "2023-02-24T04:46:37.871Z"
   },
   {
    "duration": 8,
    "start_time": "2023-02-24T04:46:37.934Z"
   },
   {
    "duration": 22,
    "start_time": "2023-02-24T04:46:37.944Z"
   },
   {
    "duration": 10,
    "start_time": "2023-02-24T04:46:37.968Z"
   },
   {
    "duration": 787,
    "start_time": "2023-02-24T04:46:57.926Z"
   },
   {
    "duration": 763,
    "start_time": "2023-02-24T04:47:16.208Z"
   },
   {
    "duration": 7,
    "start_time": "2023-02-24T04:48:41.500Z"
   },
   {
    "duration": 5,
    "start_time": "2023-02-24T04:48:49.341Z"
   },
   {
    "duration": 8,
    "start_time": "2023-02-24T04:51:13.376Z"
   },
   {
    "duration": 28,
    "start_time": "2023-02-24T04:51:22.699Z"
   },
   {
    "duration": 26,
    "start_time": "2023-02-24T04:51:40.051Z"
   },
   {
    "duration": 850,
    "start_time": "2023-02-24T08:46:42.767Z"
   },
   {
    "duration": 18,
    "start_time": "2023-02-24T08:46:43.619Z"
   },
   {
    "duration": 10,
    "start_time": "2023-02-24T08:46:43.639Z"
   },
   {
    "duration": 7,
    "start_time": "2023-02-24T08:46:43.651Z"
   },
   {
    "duration": 15,
    "start_time": "2023-02-24T08:46:43.659Z"
   },
   {
    "duration": 31,
    "start_time": "2023-02-24T08:46:43.675Z"
   },
   {
    "duration": 12,
    "start_time": "2023-02-24T08:46:43.708Z"
   },
   {
    "duration": 45,
    "start_time": "2023-02-24T08:46:43.721Z"
   },
   {
    "duration": 37,
    "start_time": "2023-02-24T08:46:43.768Z"
   },
   {
    "duration": 7,
    "start_time": "2023-02-24T08:46:43.808Z"
   },
   {
    "duration": 42,
    "start_time": "2023-02-24T08:46:43.817Z"
   },
   {
    "duration": 28,
    "start_time": "2023-02-24T08:46:43.861Z"
   },
   {
    "duration": 16,
    "start_time": "2023-02-24T08:47:06.065Z"
   },
   {
    "duration": 27,
    "start_time": "2023-02-24T08:47:34.023Z"
   },
   {
    "duration": 582,
    "start_time": "2023-02-24T08:48:05.098Z"
   },
   {
    "duration": 18,
    "start_time": "2023-02-24T08:48:05.682Z"
   },
   {
    "duration": 11,
    "start_time": "2023-02-24T08:48:05.702Z"
   },
   {
    "duration": 10,
    "start_time": "2023-02-24T08:48:05.715Z"
   },
   {
    "duration": 27,
    "start_time": "2023-02-24T08:48:05.727Z"
   },
   {
    "duration": 31,
    "start_time": "2023-02-24T08:48:05.755Z"
   },
   {
    "duration": 13,
    "start_time": "2023-02-24T08:48:05.788Z"
   },
   {
    "duration": 56,
    "start_time": "2023-02-24T08:48:05.803Z"
   },
   {
    "duration": 45,
    "start_time": "2023-02-24T08:48:05.861Z"
   },
   {
    "duration": 11,
    "start_time": "2023-02-24T08:48:05.909Z"
   },
   {
    "duration": 51,
    "start_time": "2023-02-24T08:48:05.922Z"
   },
   {
    "duration": 3,
    "start_time": "2023-02-24T08:48:05.975Z"
   },
   {
    "duration": 12,
    "start_time": "2023-02-24T08:48:28.693Z"
   },
   {
    "duration": 16,
    "start_time": "2023-02-24T08:48:35.845Z"
   },
   {
    "duration": 8,
    "start_time": "2023-02-24T08:50:19.197Z"
   },
   {
    "duration": 7,
    "start_time": "2023-02-24T08:50:26.747Z"
   },
   {
    "duration": 23,
    "start_time": "2023-02-24T08:51:24.349Z"
   },
   {
    "duration": 36,
    "start_time": "2023-02-24T08:51:45.367Z"
   },
   {
    "duration": 37,
    "start_time": "2023-02-24T08:54:10.123Z"
   },
   {
    "duration": 22,
    "start_time": "2023-02-24T08:54:27.150Z"
   },
   {
    "duration": 9,
    "start_time": "2023-02-24T09:03:12.078Z"
   },
   {
    "duration": 12,
    "start_time": "2023-02-24T09:03:40.201Z"
   },
   {
    "duration": 17,
    "start_time": "2023-02-24T09:03:45.769Z"
   },
   {
    "duration": 12,
    "start_time": "2023-02-24T09:04:00.080Z"
   },
   {
    "duration": 9,
    "start_time": "2023-02-24T09:05:11.781Z"
   },
   {
    "duration": 70,
    "start_time": "2023-02-24T09:05:20.981Z"
   },
   {
    "duration": 15,
    "start_time": "2023-02-24T09:05:43.554Z"
   },
   {
    "duration": 21,
    "start_time": "2023-02-24T09:05:50.022Z"
   },
   {
    "duration": 27,
    "start_time": "2023-02-24T09:06:26.843Z"
   },
   {
    "duration": 26,
    "start_time": "2023-02-24T09:06:31.801Z"
   },
   {
    "duration": 16,
    "start_time": "2023-02-24T09:06:39.258Z"
   },
   {
    "duration": 2809,
    "start_time": "2023-02-24T09:15:31.043Z"
   },
   {
    "duration": 4269,
    "start_time": "2023-02-24T09:15:35.910Z"
   },
   {
    "duration": 2681,
    "start_time": "2023-02-24T09:15:55.297Z"
   },
   {
    "duration": 7969,
    "start_time": "2023-02-24T09:16:04.232Z"
   },
   {
    "duration": 129,
    "start_time": "2023-02-24T09:16:46.464Z"
   },
   {
    "duration": 35,
    "start_time": "2023-02-24T09:17:28.171Z"
   },
   {
    "duration": 23,
    "start_time": "2023-02-24T09:24:49.330Z"
   },
   {
    "duration": 27,
    "start_time": "2023-02-24T09:25:14.018Z"
   },
   {
    "duration": 25,
    "start_time": "2023-02-24T09:25:29.086Z"
   },
   {
    "duration": 33,
    "start_time": "2023-02-24T09:25:43.891Z"
   },
   {
    "duration": 25,
    "start_time": "2023-02-24T09:26:14.996Z"
   },
   {
    "duration": 24,
    "start_time": "2023-02-24T09:26:32.625Z"
   },
   {
    "duration": 13,
    "start_time": "2023-02-24T09:27:57.635Z"
   },
   {
    "duration": 8,
    "start_time": "2023-02-24T09:28:10.065Z"
   },
   {
    "duration": 14,
    "start_time": "2023-02-24T09:28:14.752Z"
   },
   {
    "duration": 15,
    "start_time": "2023-02-24T09:28:21.619Z"
   },
   {
    "duration": 33,
    "start_time": "2023-02-24T09:28:31.932Z"
   },
   {
    "duration": 34,
    "start_time": "2023-02-24T09:28:51.163Z"
   },
   {
    "duration": 20,
    "start_time": "2023-02-24T09:29:32.866Z"
   },
   {
    "duration": 17,
    "start_time": "2023-02-24T09:30:10.058Z"
   },
   {
    "duration": 17,
    "start_time": "2023-02-24T09:31:47.830Z"
   },
   {
    "duration": 14,
    "start_time": "2023-02-24T09:33:09.793Z"
   },
   {
    "duration": 16,
    "start_time": "2023-02-24T09:35:44.794Z"
   },
   {
    "duration": 12,
    "start_time": "2023-02-24T09:36:28.227Z"
   },
   {
    "duration": 5,
    "start_time": "2023-02-24T09:44:09.051Z"
   },
   {
    "duration": 6,
    "start_time": "2023-02-24T09:44:17.373Z"
   },
   {
    "duration": 6,
    "start_time": "2023-02-24T09:44:22.049Z"
   },
   {
    "duration": 5,
    "start_time": "2023-02-24T09:44:35.432Z"
   },
   {
    "duration": 13,
    "start_time": "2023-02-24T09:44:43.179Z"
   },
   {
    "duration": 697,
    "start_time": "2023-02-24T09:49:02.171Z"
   },
   {
    "duration": 842,
    "start_time": "2023-02-24T09:49:35.066Z"
   },
   {
    "duration": 29,
    "start_time": "2023-02-24T09:49:46.833Z"
   },
   {
    "duration": 12,
    "start_time": "2023-02-24T09:49:59.268Z"
   },
   {
    "duration": 4,
    "start_time": "2023-02-24T09:50:13.090Z"
   },
   {
    "duration": 44,
    "start_time": "2023-02-24T12:03:06.393Z"
   },
   {
    "duration": 646,
    "start_time": "2023-02-24T12:03:20.338Z"
   },
   {
    "duration": 15,
    "start_time": "2023-02-24T12:03:20.986Z"
   },
   {
    "duration": 11,
    "start_time": "2023-02-24T12:03:21.002Z"
   },
   {
    "duration": 12,
    "start_time": "2023-02-24T12:03:21.014Z"
   },
   {
    "duration": 22,
    "start_time": "2023-02-24T12:03:21.027Z"
   },
   {
    "duration": 28,
    "start_time": "2023-02-24T12:03:21.051Z"
   },
   {
    "duration": 11,
    "start_time": "2023-02-24T12:03:21.085Z"
   },
   {
    "duration": 30,
    "start_time": "2023-02-24T12:03:21.098Z"
   },
   {
    "duration": 32,
    "start_time": "2023-02-24T12:03:21.129Z"
   },
   {
    "duration": 7,
    "start_time": "2023-02-24T12:03:21.164Z"
   },
   {
    "duration": 30,
    "start_time": "2023-02-24T12:03:21.173Z"
   },
   {
    "duration": 16,
    "start_time": "2023-02-24T12:03:21.204Z"
   },
   {
    "duration": 12,
    "start_time": "2023-02-24T12:03:21.222Z"
   },
   {
    "duration": 11,
    "start_time": "2023-02-24T12:03:21.236Z"
   },
   {
    "duration": 37,
    "start_time": "2023-02-24T12:03:21.249Z"
   },
   {
    "duration": 5,
    "start_time": "2023-02-24T12:03:21.287Z"
   },
   {
    "duration": 331,
    "start_time": "2023-02-24T12:03:21.294Z"
   },
   {
    "duration": 0,
    "start_time": "2023-02-24T12:03:21.627Z"
   },
   {
    "duration": 278,
    "start_time": "2023-02-24T12:05:51.735Z"
   },
   {
    "duration": 9,
    "start_time": "2023-02-24T12:07:09.889Z"
   },
   {
    "duration": 9,
    "start_time": "2023-02-24T12:07:29.418Z"
   },
   {
    "duration": 6,
    "start_time": "2023-02-24T12:07:58.557Z"
   },
   {
    "duration": 6,
    "start_time": "2023-02-24T12:09:10.018Z"
   },
   {
    "duration": 11,
    "start_time": "2023-02-24T12:09:14.242Z"
   },
   {
    "duration": 7,
    "start_time": "2023-02-24T12:09:20.238Z"
   },
   {
    "duration": 14,
    "start_time": "2023-02-24T12:09:44.111Z"
   },
   {
    "duration": 12,
    "start_time": "2023-02-24T12:10:46.176Z"
   },
   {
    "duration": 17,
    "start_time": "2023-02-24T12:10:49.476Z"
   },
   {
    "duration": 7,
    "start_time": "2023-02-24T12:10:59.315Z"
   },
   {
    "duration": 5,
    "start_time": "2023-02-24T12:11:18.969Z"
   },
   {
    "duration": 27,
    "start_time": "2023-02-24T12:11:48.461Z"
   },
   {
    "duration": 8,
    "start_time": "2023-02-24T12:11:56.330Z"
   },
   {
    "duration": 500,
    "start_time": "2023-02-24T12:12:01.941Z"
   },
   {
    "duration": 141,
    "start_time": "2023-02-24T12:12:55.456Z"
   },
   {
    "duration": 220,
    "start_time": "2023-02-24T12:13:33.151Z"
   },
   {
    "duration": 270,
    "start_time": "2023-02-24T12:14:01.189Z"
   },
   {
    "duration": 108,
    "start_time": "2023-02-24T12:14:05.180Z"
   },
   {
    "duration": 108,
    "start_time": "2023-02-24T12:14:36.659Z"
   },
   {
    "duration": 112,
    "start_time": "2023-02-24T12:14:52.073Z"
   },
   {
    "duration": 148,
    "start_time": "2023-02-24T12:15:13.345Z"
   },
   {
    "duration": 169,
    "start_time": "2023-02-24T12:15:18.723Z"
   },
   {
    "duration": 180,
    "start_time": "2023-02-24T12:15:53.104Z"
   },
   {
    "duration": 162,
    "start_time": "2023-02-24T12:16:42.387Z"
   },
   {
    "duration": 190,
    "start_time": "2023-02-24T12:16:59.206Z"
   },
   {
    "duration": 169,
    "start_time": "2023-02-24T12:17:06.304Z"
   },
   {
    "duration": 239,
    "start_time": "2023-02-24T12:17:11.959Z"
   },
   {
    "duration": 168,
    "start_time": "2023-02-24T12:17:19.540Z"
   },
   {
    "duration": 184,
    "start_time": "2023-02-24T12:17:35.305Z"
   },
   {
    "duration": 207,
    "start_time": "2023-02-24T12:18:07.274Z"
   },
   {
    "duration": 221,
    "start_time": "2023-02-24T12:33:01.279Z"
   },
   {
    "duration": 241,
    "start_time": "2023-02-24T12:33:16.392Z"
   },
   {
    "duration": 226,
    "start_time": "2023-02-24T12:33:27.165Z"
   },
   {
    "duration": 208,
    "start_time": "2023-02-24T12:33:44.048Z"
   },
   {
    "duration": 234,
    "start_time": "2023-02-24T12:34:51.317Z"
   },
   {
    "duration": 290,
    "start_time": "2023-02-24T12:37:54.123Z"
   },
   {
    "duration": 197,
    "start_time": "2023-02-24T12:38:13.390Z"
   },
   {
    "duration": 171,
    "start_time": "2023-02-24T12:38:41.436Z"
   },
   {
    "duration": 194,
    "start_time": "2023-02-24T12:38:44.854Z"
   },
   {
    "duration": 160,
    "start_time": "2023-02-24T12:39:00.171Z"
   },
   {
    "duration": 170,
    "start_time": "2023-02-24T12:39:30.716Z"
   },
   {
    "duration": 152,
    "start_time": "2023-02-24T12:39:36.747Z"
   },
   {
    "duration": 199,
    "start_time": "2023-02-24T12:39:39.768Z"
   },
   {
    "duration": 36,
    "start_time": "2023-02-24T12:42:27.027Z"
   },
   {
    "duration": 11,
    "start_time": "2023-02-24T12:42:40.493Z"
   },
   {
    "duration": 10,
    "start_time": "2023-02-24T12:42:42.812Z"
   },
   {
    "duration": 31,
    "start_time": "2023-02-24T12:42:52.888Z"
   },
   {
    "duration": 10,
    "start_time": "2023-02-24T12:44:26.686Z"
   },
   {
    "duration": 9,
    "start_time": "2023-02-24T12:45:03.750Z"
   },
   {
    "duration": 11,
    "start_time": "2023-02-24T12:45:25.641Z"
   },
   {
    "duration": 5,
    "start_time": "2023-02-24T12:45:36.892Z"
   },
   {
    "duration": 9,
    "start_time": "2023-02-24T12:45:42.759Z"
   },
   {
    "duration": 167,
    "start_time": "2023-02-24T12:45:49.268Z"
   },
   {
    "duration": 10,
    "start_time": "2023-02-24T12:46:29.751Z"
   },
   {
    "duration": 24,
    "start_time": "2023-02-24T12:46:34.293Z"
   },
   {
    "duration": 8,
    "start_time": "2023-02-24T12:47:29.727Z"
   },
   {
    "duration": 100,
    "start_time": "2023-02-24T12:47:37.327Z"
   },
   {
    "duration": 109,
    "start_time": "2023-02-24T12:47:49.153Z"
   },
   {
    "duration": 235,
    "start_time": "2023-02-24T12:48:53.969Z"
   },
   {
    "duration": 92,
    "start_time": "2023-02-24T12:49:01.391Z"
   },
   {
    "duration": 100,
    "start_time": "2023-02-24T12:49:07.414Z"
   },
   {
    "duration": 88,
    "start_time": "2023-02-24T12:49:13.644Z"
   },
   {
    "duration": 94,
    "start_time": "2023-02-24T12:49:16.457Z"
   },
   {
    "duration": 89,
    "start_time": "2023-02-24T12:49:44.585Z"
   },
   {
    "duration": 111,
    "start_time": "2023-02-24T12:49:50.450Z"
   },
   {
    "duration": 105,
    "start_time": "2023-02-24T12:49:56.559Z"
   },
   {
    "duration": 140,
    "start_time": "2023-02-24T12:50:55.726Z"
   },
   {
    "duration": 6,
    "start_time": "2023-02-24T13:10:26.156Z"
   },
   {
    "duration": 698,
    "start_time": "2023-02-24T13:12:49.579Z"
   },
   {
    "duration": 249,
    "start_time": "2023-02-24T13:12:57.496Z"
   },
   {
    "duration": 232,
    "start_time": "2023-02-24T13:14:46.179Z"
   },
   {
    "duration": 135,
    "start_time": "2023-02-24T13:14:51.470Z"
   },
   {
    "duration": 139,
    "start_time": "2023-02-24T13:15:02.722Z"
   },
   {
    "duration": 173,
    "start_time": "2023-02-24T13:15:08.546Z"
   },
   {
    "duration": 12,
    "start_time": "2023-02-24T13:22:36.848Z"
   },
   {
    "duration": 21,
    "start_time": "2023-02-24T13:23:58.628Z"
   },
   {
    "duration": 24,
    "start_time": "2023-02-24T13:24:32.999Z"
   },
   {
    "duration": 24,
    "start_time": "2023-02-24T13:25:18.590Z"
   },
   {
    "duration": 30,
    "start_time": "2023-02-24T13:25:30.877Z"
   },
   {
    "duration": 46,
    "start_time": "2023-02-24T13:25:37.495Z"
   },
   {
    "duration": 342,
    "start_time": "2023-02-24T13:26:03.985Z"
   },
   {
    "duration": 608,
    "start_time": "2023-02-24T13:26:26.114Z"
   },
   {
    "duration": 623,
    "start_time": "2023-02-24T13:26:39.882Z"
   },
   {
    "duration": 24,
    "start_time": "2023-02-24T13:29:55.985Z"
   },
   {
    "duration": 17,
    "start_time": "2023-02-24T13:30:30.493Z"
   },
   {
    "duration": 14,
    "start_time": "2023-02-24T13:30:37.835Z"
   },
   {
    "duration": 23,
    "start_time": "2023-02-24T13:30:42.807Z"
   },
   {
    "duration": 755,
    "start_time": "2023-02-24T13:31:06.231Z"
   },
   {
    "duration": 29,
    "start_time": "2023-02-24T13:31:09.883Z"
   },
   {
    "duration": 507,
    "start_time": "2023-02-24T13:35:14.221Z"
   },
   {
    "duration": 28,
    "start_time": "2023-02-24T13:35:22.881Z"
   },
   {
    "duration": 4,
    "start_time": "2023-02-24T13:45:36.411Z"
   },
   {
    "duration": 51,
    "start_time": "2023-02-24T13:45:40.187Z"
   },
   {
    "duration": 4,
    "start_time": "2023-02-24T13:45:46.364Z"
   },
   {
    "duration": 1450,
    "start_time": "2023-02-24T13:48:49.536Z"
   },
   {
    "duration": 24,
    "start_time": "2023-02-24T13:49:10.103Z"
   },
   {
    "duration": 13,
    "start_time": "2023-02-24T13:50:17.679Z"
   },
   {
    "duration": 25,
    "start_time": "2023-02-24T13:50:34.881Z"
   },
   {
    "duration": 220,
    "start_time": "2023-02-24T13:50:41.871Z"
   },
   {
    "duration": 18,
    "start_time": "2023-02-24T13:51:07.883Z"
   },
   {
    "duration": 22,
    "start_time": "2023-02-24T13:52:18.027Z"
   },
   {
    "duration": 23,
    "start_time": "2023-02-24T13:52:24.370Z"
   },
   {
    "duration": 20,
    "start_time": "2023-02-24T13:52:47.702Z"
   },
   {
    "duration": 18,
    "start_time": "2023-02-24T13:52:51.220Z"
   },
   {
    "duration": 17,
    "start_time": "2023-02-24T13:53:00.914Z"
   },
   {
    "duration": 21,
    "start_time": "2023-02-24T13:53:03.906Z"
   },
   {
    "duration": 6,
    "start_time": "2023-02-24T13:53:13.924Z"
   },
   {
    "duration": 7,
    "start_time": "2023-02-24T13:53:23.434Z"
   },
   {
    "duration": 14,
    "start_time": "2023-02-24T13:53:27.941Z"
   },
   {
    "duration": 6,
    "start_time": "2023-02-24T13:53:36.444Z"
   },
   {
    "duration": 20,
    "start_time": "2023-02-24T13:53:43.136Z"
   },
   {
    "duration": 15,
    "start_time": "2023-02-24T13:53:49.875Z"
   },
   {
    "duration": 13,
    "start_time": "2023-02-24T13:54:42.332Z"
   },
   {
    "duration": 28,
    "start_time": "2023-02-24T13:54:45.815Z"
   },
   {
    "duration": 26,
    "start_time": "2023-02-24T13:55:13.678Z"
   },
   {
    "duration": 22,
    "start_time": "2023-02-24T13:55:18.427Z"
   },
   {
    "duration": 20,
    "start_time": "2023-02-24T13:55:23.110Z"
   },
   {
    "duration": 42,
    "start_time": "2023-02-24T13:55:40.069Z"
   },
   {
    "duration": 167,
    "start_time": "2023-02-24T13:55:52.169Z"
   },
   {
    "duration": 47,
    "start_time": "2023-02-24T13:55:58.208Z"
   },
   {
    "duration": 30,
    "start_time": "2023-02-24T13:56:33.739Z"
   },
   {
    "duration": 40,
    "start_time": "2023-02-24T13:56:52.038Z"
   },
   {
    "duration": 128,
    "start_time": "2023-02-24T13:56:56.069Z"
   },
   {
    "duration": 97,
    "start_time": "2023-02-24T13:56:56.565Z"
   },
   {
    "duration": 34,
    "start_time": "2023-02-24T13:57:15.970Z"
   },
   {
    "duration": 58,
    "start_time": "2023-02-24T13:59:35.700Z"
   },
   {
    "duration": 16,
    "start_time": "2023-02-24T14:00:00.821Z"
   },
   {
    "duration": 8,
    "start_time": "2023-02-24T14:00:37.573Z"
   },
   {
    "duration": 57,
    "start_time": "2023-02-24T14:00:56.069Z"
   },
   {
    "duration": 60,
    "start_time": "2023-02-24T14:01:10.921Z"
   },
   {
    "duration": 45,
    "start_time": "2023-02-24T14:01:42.069Z"
   },
   {
    "duration": 7,
    "start_time": "2023-02-24T14:01:57.436Z"
   },
   {
    "duration": 9,
    "start_time": "2023-02-24T14:09:18.534Z"
   },
   {
    "duration": 40,
    "start_time": "2023-02-24T14:09:36.400Z"
   },
   {
    "duration": 54,
    "start_time": "2023-02-24T14:09:56.402Z"
   },
   {
    "duration": 18,
    "start_time": "2023-02-24T14:12:49.668Z"
   },
   {
    "duration": 22,
    "start_time": "2023-02-24T14:13:02.346Z"
   },
   {
    "duration": 22,
    "start_time": "2023-02-24T14:13:16.169Z"
   },
   {
    "duration": 215,
    "start_time": "2023-02-24T14:13:53.021Z"
   },
   {
    "duration": 21,
    "start_time": "2023-02-24T14:14:02.204Z"
   },
   {
    "duration": 108,
    "start_time": "2023-02-24T14:17:05.138Z"
   },
   {
    "duration": 8,
    "start_time": "2023-02-24T14:17:50.008Z"
   },
   {
    "duration": 186,
    "start_time": "2023-02-24T14:17:53.824Z"
   },
   {
    "duration": 152,
    "start_time": "2023-02-24T14:18:15.416Z"
   },
   {
    "duration": 193,
    "start_time": "2023-02-24T14:18:52.138Z"
   },
   {
    "duration": 217,
    "start_time": "2023-02-24T14:18:59.260Z"
   },
   {
    "duration": 409,
    "start_time": "2023-02-24T14:19:35.313Z"
   },
   {
    "duration": 363,
    "start_time": "2023-02-24T14:19:55.015Z"
   },
   {
    "duration": 383,
    "start_time": "2023-02-24T14:20:02.462Z"
   },
   {
    "duration": 550,
    "start_time": "2023-02-24T14:20:06.394Z"
   },
   {
    "duration": 389,
    "start_time": "2023-02-24T14:20:09.948Z"
   },
   {
    "duration": 375,
    "start_time": "2023-02-24T14:20:18.967Z"
   },
   {
    "duration": 252,
    "start_time": "2023-02-24T14:20:32.014Z"
   },
   {
    "duration": 359,
    "start_time": "2023-02-24T14:20:38.437Z"
   },
   {
    "duration": 78,
    "start_time": "2023-02-24T14:22:08.862Z"
   },
   {
    "duration": 76,
    "start_time": "2023-02-24T14:22:14.925Z"
   },
   {
    "duration": 14,
    "start_time": "2023-02-24T14:22:43.440Z"
   },
   {
    "duration": 23,
    "start_time": "2023-02-24T14:23:06.004Z"
   },
   {
    "duration": 14,
    "start_time": "2023-02-24T14:23:36.733Z"
   },
   {
    "duration": 29,
    "start_time": "2023-02-24T14:23:40.776Z"
   },
   {
    "duration": 384,
    "start_time": "2023-02-24T14:23:59.826Z"
   },
   {
    "duration": 1545,
    "start_time": "2023-02-24T14:24:08.171Z"
   },
   {
    "duration": 377,
    "start_time": "2023-02-24T14:24:14.146Z"
   },
   {
    "duration": 148,
    "start_time": "2023-02-24T14:24:52.112Z"
   },
   {
    "duration": 235,
    "start_time": "2023-02-24T14:25:19.306Z"
   },
   {
    "duration": 13,
    "start_time": "2023-02-24T14:34:49.063Z"
   },
   {
    "duration": 33,
    "start_time": "2023-02-24T14:35:02.661Z"
   },
   {
    "duration": 206,
    "start_time": "2023-02-24T14:35:14.262Z"
   },
   {
    "duration": 157,
    "start_time": "2023-02-24T14:35:34.744Z"
   },
   {
    "duration": 29,
    "start_time": "2023-02-24T14:35:50.797Z"
   },
   {
    "duration": 168,
    "start_time": "2023-02-24T14:36:30.952Z"
   },
   {
    "duration": 297,
    "start_time": "2023-02-24T14:37:00.439Z"
   },
   {
    "duration": 329,
    "start_time": "2023-02-24T14:37:08.412Z"
   },
   {
    "duration": 33,
    "start_time": "2023-02-24T14:37:28.012Z"
   },
   {
    "duration": 236,
    "start_time": "2023-02-24T14:42:55.619Z"
   },
   {
    "duration": 189,
    "start_time": "2023-02-24T14:43:16.550Z"
   },
   {
    "duration": 209,
    "start_time": "2023-02-24T14:43:20.359Z"
   },
   {
    "duration": 247,
    "start_time": "2023-02-24T14:43:34.899Z"
   },
   {
    "duration": 202,
    "start_time": "2023-02-24T14:44:03.643Z"
   },
   {
    "duration": 206,
    "start_time": "2023-02-24T14:44:30.982Z"
   },
   {
    "duration": 197,
    "start_time": "2023-02-24T14:44:44.125Z"
   },
   {
    "duration": 209,
    "start_time": "2023-02-24T14:44:53.235Z"
   },
   {
    "duration": 234,
    "start_time": "2023-02-24T14:45:09.717Z"
   },
   {
    "duration": 191,
    "start_time": "2023-02-24T14:46:12.551Z"
   },
   {
    "duration": 284,
    "start_time": "2023-02-24T14:46:58.472Z"
   },
   {
    "duration": 253,
    "start_time": "2023-02-24T14:47:26.631Z"
   },
   {
    "duration": 230,
    "start_time": "2023-02-24T14:47:56.452Z"
   },
   {
    "duration": 244,
    "start_time": "2023-02-24T14:48:21.905Z"
   },
   {
    "duration": 239,
    "start_time": "2023-02-24T14:48:29.073Z"
   },
   {
    "duration": 229,
    "start_time": "2023-02-24T14:48:34.135Z"
   },
   {
    "duration": 9,
    "start_time": "2023-02-24T15:00:54.535Z"
   },
   {
    "duration": 3363,
    "start_time": "2023-02-24T15:01:10.314Z"
   },
   {
    "duration": 277,
    "start_time": "2023-02-24T15:01:37.375Z"
   },
   {
    "duration": 297,
    "start_time": "2023-02-24T15:02:16.974Z"
   },
   {
    "duration": 431,
    "start_time": "2023-02-24T15:02:30.147Z"
   },
   {
    "duration": 261,
    "start_time": "2023-02-24T15:03:16.423Z"
   },
   {
    "duration": 481,
    "start_time": "2023-02-24T15:03:24.298Z"
   },
   {
    "duration": 258,
    "start_time": "2023-02-24T15:03:43.072Z"
   },
   {
    "duration": 246,
    "start_time": "2023-02-24T15:04:15.228Z"
   },
   {
    "duration": 19,
    "start_time": "2023-02-24T15:04:19.611Z"
   },
   {
    "duration": 15,
    "start_time": "2023-02-24T15:04:46.906Z"
   },
   {
    "duration": 209,
    "start_time": "2023-02-24T15:04:58.233Z"
   },
   {
    "duration": 217,
    "start_time": "2023-02-24T15:05:09.824Z"
   },
   {
    "duration": 208,
    "start_time": "2023-02-24T15:05:17.255Z"
   },
   {
    "duration": 319,
    "start_time": "2023-02-24T15:05:28.820Z"
   },
   {
    "duration": 222,
    "start_time": "2023-02-24T15:05:43.208Z"
   },
   {
    "duration": 218,
    "start_time": "2023-02-24T15:06:05.312Z"
   },
   {
    "duration": 349,
    "start_time": "2023-02-24T15:07:32.841Z"
   },
   {
    "duration": 278,
    "start_time": "2023-02-24T15:08:42.903Z"
   },
   {
    "duration": 242,
    "start_time": "2023-02-24T15:09:00.427Z"
   },
   {
    "duration": 234,
    "start_time": "2023-02-24T15:09:24.518Z"
   },
   {
    "duration": 233,
    "start_time": "2023-02-24T15:09:37.423Z"
   },
   {
    "duration": 18,
    "start_time": "2023-02-24T15:19:01.875Z"
   },
   {
    "duration": 13,
    "start_time": "2023-02-24T15:19:07.252Z"
   },
   {
    "duration": 13,
    "start_time": "2023-02-24T15:19:52.613Z"
   },
   {
    "duration": 10,
    "start_time": "2023-02-24T15:20:12.684Z"
   },
   {
    "duration": 6,
    "start_time": "2023-02-24T15:20:19.713Z"
   },
   {
    "duration": 193,
    "start_time": "2023-02-24T15:20:21.760Z"
   },
   {
    "duration": 224,
    "start_time": "2023-02-24T15:20:35.847Z"
   },
   {
    "duration": 190,
    "start_time": "2023-02-24T15:20:47.854Z"
   },
   {
    "duration": 233,
    "start_time": "2023-02-24T15:20:54.530Z"
   },
   {
    "duration": 13,
    "start_time": "2023-02-24T15:22:30.877Z"
   },
   {
    "duration": 17,
    "start_time": "2023-02-24T15:23:00.437Z"
   },
   {
    "duration": 19,
    "start_time": "2023-02-24T15:23:43.426Z"
   },
   {
    "duration": 56,
    "start_time": "2023-02-24T15:24:26.380Z"
   },
   {
    "duration": 50,
    "start_time": "2023-02-24T15:24:54.421Z"
   },
   {
    "duration": 227,
    "start_time": "2023-02-24T15:25:32.678Z"
   },
   {
    "duration": 218,
    "start_time": "2023-02-24T15:29:12.062Z"
   },
   {
    "duration": 14,
    "start_time": "2023-02-24T15:29:24.153Z"
   },
   {
    "duration": 16,
    "start_time": "2023-02-24T15:29:41.512Z"
   },
   {
    "duration": 13,
    "start_time": "2023-02-24T15:29:46.885Z"
   },
   {
    "duration": 7,
    "start_time": "2023-02-24T15:29:51.338Z"
   },
   {
    "duration": 15,
    "start_time": "2023-02-24T15:29:59.334Z"
   },
   {
    "duration": 13,
    "start_time": "2023-02-24T15:30:20.280Z"
   },
   {
    "duration": 8,
    "start_time": "2023-02-24T15:30:37.477Z"
   },
   {
    "duration": 8,
    "start_time": "2023-02-24T15:30:50.880Z"
   },
   {
    "duration": 158,
    "start_time": "2023-02-24T15:38:54.200Z"
   },
   {
    "duration": 10,
    "start_time": "2023-02-24T16:41:02.972Z"
   },
   {
    "duration": 135,
    "start_time": "2023-02-24T16:41:19.111Z"
   },
   {
    "duration": 11,
    "start_time": "2023-02-24T16:41:21.663Z"
   },
   {
    "duration": 16,
    "start_time": "2023-02-24T16:42:36.151Z"
   },
   {
    "duration": 8,
    "start_time": "2023-02-24T16:43:11.497Z"
   },
   {
    "duration": 13,
    "start_time": "2023-02-24T16:43:46.958Z"
   },
   {
    "duration": 13,
    "start_time": "2023-02-24T16:43:52.236Z"
   },
   {
    "duration": 7,
    "start_time": "2023-02-24T16:44:00.829Z"
   },
   {
    "duration": 7,
    "start_time": "2023-02-24T16:44:02.603Z"
   },
   {
    "duration": 312,
    "start_time": "2023-02-24T16:44:05.931Z"
   },
   {
    "duration": 13,
    "start_time": "2023-02-24T16:44:15.029Z"
   },
   {
    "duration": 26,
    "start_time": "2023-02-24T16:46:06.948Z"
   },
   {
    "duration": 11,
    "start_time": "2023-02-24T16:46:47.479Z"
   },
   {
    "duration": 18,
    "start_time": "2023-02-24T16:47:13.816Z"
   },
   {
    "duration": 5,
    "start_time": "2023-02-24T16:53:13.222Z"
   },
   {
    "duration": 26,
    "start_time": "2023-02-24T16:54:23.523Z"
   },
   {
    "duration": 5,
    "start_time": "2023-02-24T16:57:23.615Z"
   },
   {
    "duration": 5,
    "start_time": "2023-02-24T17:03:28.368Z"
   },
   {
    "duration": 25,
    "start_time": "2023-02-24T17:03:44.599Z"
   },
   {
    "duration": 21,
    "start_time": "2023-02-24T17:03:58.907Z"
   },
   {
    "duration": 24,
    "start_time": "2023-02-24T17:12:27.848Z"
   },
   {
    "duration": 7,
    "start_time": "2023-02-24T17:12:39.028Z"
   },
   {
    "duration": 77,
    "start_time": "2023-02-24T17:20:24.090Z"
   },
   {
    "duration": 86,
    "start_time": "2023-02-24T17:20:30.965Z"
   },
   {
    "duration": 729,
    "start_time": "2023-02-24T17:20:53.231Z"
   },
   {
    "duration": 94,
    "start_time": "2023-02-24T17:20:57.744Z"
   },
   {
    "duration": 699,
    "start_time": "2023-02-24T17:21:42.813Z"
   },
   {
    "duration": 410,
    "start_time": "2023-02-24T17:21:53.127Z"
   },
   {
    "duration": 109,
    "start_time": "2023-02-24T17:22:08.875Z"
   },
   {
    "duration": 3,
    "start_time": "2023-02-24T17:22:17.270Z"
   },
   {
    "duration": 35,
    "start_time": "2023-02-24T17:22:21.247Z"
   },
   {
    "duration": 29,
    "start_time": "2023-02-24T17:22:26.024Z"
   },
   {
    "duration": 1156,
    "start_time": "2023-02-24T17:26:27.422Z"
   },
   {
    "duration": 37,
    "start_time": "2023-02-24T17:26:43.273Z"
   },
   {
    "duration": 11,
    "start_time": "2023-02-24T17:26:54.245Z"
   },
   {
    "duration": 1317,
    "start_time": "2023-02-24T17:27:09.605Z"
   },
   {
    "duration": 15,
    "start_time": "2023-02-24T17:27:30.220Z"
   },
   {
    "duration": 20,
    "start_time": "2023-02-24T17:27:43.377Z"
   },
   {
    "duration": 7,
    "start_time": "2023-02-24T17:33:38.812Z"
   },
   {
    "duration": 3,
    "start_time": "2023-02-24T17:35:11.153Z"
   },
   {
    "duration": 4,
    "start_time": "2023-02-24T17:35:33.119Z"
   },
   {
    "duration": 8,
    "start_time": "2023-02-24T17:36:03.228Z"
   },
   {
    "duration": 25,
    "start_time": "2023-02-24T17:40:55.944Z"
   },
   {
    "duration": 15,
    "start_time": "2023-02-24T18:04:20.609Z"
   },
   {
    "duration": 9,
    "start_time": "2023-02-24T18:30:45.025Z"
   },
   {
    "duration": 28,
    "start_time": "2023-02-24T18:31:05.317Z"
   },
   {
    "duration": 9,
    "start_time": "2023-02-24T18:31:15.265Z"
   },
   {
    "duration": 16,
    "start_time": "2023-02-24T18:31:30.101Z"
   },
   {
    "duration": 12,
    "start_time": "2023-02-24T18:31:36.861Z"
   },
   {
    "duration": 31,
    "start_time": "2023-02-24T18:34:30.612Z"
   },
   {
    "duration": 39,
    "start_time": "2023-02-24T18:35:10.941Z"
   },
   {
    "duration": 65,
    "start_time": "2023-02-24T18:39:50.369Z"
   },
   {
    "duration": 21,
    "start_time": "2023-02-24T18:40:02.988Z"
   },
   {
    "duration": 34,
    "start_time": "2023-02-24T18:40:17.511Z"
   },
   {
    "duration": 27,
    "start_time": "2023-02-24T18:40:49.615Z"
   },
   {
    "duration": 42,
    "start_time": "2023-02-24T18:41:11.680Z"
   },
   {
    "duration": 108,
    "start_time": "2023-02-24T18:41:52.718Z"
   },
   {
    "duration": 15,
    "start_time": "2023-02-24T18:41:54.569Z"
   },
   {
    "duration": 7,
    "start_time": "2023-02-24T18:41:56.425Z"
   },
   {
    "duration": 7,
    "start_time": "2023-02-24T18:41:58.383Z"
   },
   {
    "duration": 12,
    "start_time": "2023-02-24T18:42:00.506Z"
   },
   {
    "duration": 30,
    "start_time": "2023-02-24T18:42:02.926Z"
   },
   {
    "duration": 12,
    "start_time": "2023-02-24T18:42:06.947Z"
   },
   {
    "duration": 21,
    "start_time": "2023-02-24T18:42:09.087Z"
   },
   {
    "duration": 34,
    "start_time": "2023-02-24T18:42:12.354Z"
   },
   {
    "duration": 5,
    "start_time": "2023-02-24T18:42:14.860Z"
   },
   {
    "duration": 24,
    "start_time": "2023-02-24T18:42:17.781Z"
   },
   {
    "duration": 5,
    "start_time": "2023-02-24T18:42:20.623Z"
   },
   {
    "duration": 15,
    "start_time": "2023-02-24T18:42:23.718Z"
   },
   {
    "duration": 6,
    "start_time": "2023-02-24T18:42:26.670Z"
   },
   {
    "duration": 5,
    "start_time": "2023-02-24T18:42:30.658Z"
   },
   {
    "duration": 10,
    "start_time": "2023-02-24T18:42:32.878Z"
   },
   {
    "duration": 222,
    "start_time": "2023-02-24T18:42:35.593Z"
   },
   {
    "duration": 398,
    "start_time": "2023-02-24T18:42:49.438Z"
   },
   {
    "duration": 34,
    "start_time": "2023-02-24T18:43:01.241Z"
   },
   {
    "duration": 18,
    "start_time": "2023-02-24T18:43:18.772Z"
   },
   {
    "duration": 33,
    "start_time": "2023-02-24T18:43:31.585Z"
   },
   {
    "duration": 40,
    "start_time": "2023-02-24T18:43:47.348Z"
   },
   {
    "duration": 370,
    "start_time": "2023-02-24T18:45:10.282Z"
   },
   {
    "duration": 30,
    "start_time": "2023-02-24T18:48:19.323Z"
   },
   {
    "duration": 40,
    "start_time": "2023-02-24T18:48:37.724Z"
   },
   {
    "duration": 874,
    "start_time": "2023-02-24T18:49:06.449Z"
   },
   {
    "duration": 64,
    "start_time": "2023-02-24T18:49:10.980Z"
   },
   {
    "duration": 23,
    "start_time": "2023-02-24T18:49:14.608Z"
   },
   {
    "duration": 34,
    "start_time": "2023-02-24T18:50:30.681Z"
   },
   {
    "duration": 36,
    "start_time": "2023-02-24T18:50:49.119Z"
   },
   {
    "duration": 38,
    "start_time": "2023-02-24T18:51:02.877Z"
   },
   {
    "duration": 35,
    "start_time": "2023-02-24T18:51:25.377Z"
   },
   {
    "duration": 16,
    "start_time": "2023-02-24T18:52:41.470Z"
   },
   {
    "duration": 16,
    "start_time": "2023-02-24T18:53:25.272Z"
   },
   {
    "duration": 14,
    "start_time": "2023-02-24T18:53:49.650Z"
   },
   {
    "duration": 37,
    "start_time": "2023-02-24T18:54:50.783Z"
   },
   {
    "duration": 23,
    "start_time": "2023-02-24T18:55:18.618Z"
   },
   {
    "duration": 123,
    "start_time": "2023-02-24T19:03:25.382Z"
   },
   {
    "duration": 12,
    "start_time": "2023-02-24T19:03:27.363Z"
   },
   {
    "duration": 19,
    "start_time": "2023-02-24T19:03:48.915Z"
   },
   {
    "duration": 8,
    "start_time": "2023-02-24T19:05:05.758Z"
   },
   {
    "duration": 7,
    "start_time": "2023-02-24T19:05:29.774Z"
   },
   {
    "duration": 11,
    "start_time": "2023-02-24T19:05:31.428Z"
   },
   {
    "duration": 25,
    "start_time": "2023-02-24T19:05:34.980Z"
   },
   {
    "duration": 11,
    "start_time": "2023-02-24T19:05:39.717Z"
   },
   {
    "duration": 19,
    "start_time": "2023-02-24T19:05:41.703Z"
   },
   {
    "duration": 35,
    "start_time": "2023-02-24T19:05:50.366Z"
   },
   {
    "duration": 5,
    "start_time": "2023-02-24T19:05:52.693Z"
   },
   {
    "duration": 17,
    "start_time": "2023-02-24T19:05:55.200Z"
   },
   {
    "duration": 21,
    "start_time": "2023-02-24T19:05:57.641Z"
   },
   {
    "duration": 6,
    "start_time": "2023-02-24T19:06:00.851Z"
   },
   {
    "duration": 12,
    "start_time": "2023-02-24T19:06:25.457Z"
   },
   {
    "duration": 22,
    "start_time": "2023-02-24T19:07:10.107Z"
   },
   {
    "duration": 5,
    "start_time": "2023-02-24T19:07:15.434Z"
   },
   {
    "duration": 9,
    "start_time": "2023-02-24T19:07:19.634Z"
   },
   {
    "duration": 18,
    "start_time": "2023-02-24T19:07:36.244Z"
   },
   {
    "duration": 8,
    "start_time": "2023-02-24T19:07:39.194Z"
   },
   {
    "duration": 36,
    "start_time": "2023-02-24T19:07:42.294Z"
   },
   {
    "duration": 5,
    "start_time": "2023-02-24T19:07:58.913Z"
   },
   {
    "duration": 9,
    "start_time": "2023-02-24T19:08:00.834Z"
   },
   {
    "duration": 370,
    "start_time": "2023-02-24T19:08:03.651Z"
   },
   {
    "duration": 377,
    "start_time": "2023-02-24T19:08:08.092Z"
   },
   {
    "duration": 35,
    "start_time": "2023-02-24T19:08:11.533Z"
   },
   {
    "duration": 33,
    "start_time": "2023-02-24T19:08:20.534Z"
   },
   {
    "duration": 23,
    "start_time": "2023-02-24T19:09:13.233Z"
   },
   {
    "duration": 35,
    "start_time": "2023-02-24T19:09:39.181Z"
   },
   {
    "duration": 19,
    "start_time": "2023-02-24T19:12:45.648Z"
   },
   {
    "duration": 6,
    "start_time": "2023-02-24T19:13:09.232Z"
   },
   {
    "duration": 13,
    "start_time": "2023-02-24T19:13:13.127Z"
   },
   {
    "duration": 32,
    "start_time": "2023-02-24T19:13:37.179Z"
   },
   {
    "duration": 36,
    "start_time": "2023-02-24T19:14:10.625Z"
   },
   {
    "duration": 36,
    "start_time": "2023-02-24T19:15:13.776Z"
   },
   {
    "duration": 15,
    "start_time": "2023-02-24T19:16:45.302Z"
   },
   {
    "duration": 115,
    "start_time": "2023-02-24T19:17:38.740Z"
   },
   {
    "duration": 19,
    "start_time": "2023-02-24T19:17:44.806Z"
   },
   {
    "duration": 17,
    "start_time": "2023-02-24T19:18:30.958Z"
   },
   {
    "duration": 15,
    "start_time": "2023-02-24T19:18:48.497Z"
   },
   {
    "duration": 106,
    "start_time": "2023-02-24T19:28:52.831Z"
   },
   {
    "duration": 99,
    "start_time": "2023-02-24T19:28:59.499Z"
   },
   {
    "duration": 97,
    "start_time": "2023-02-24T19:30:11.467Z"
   },
   {
    "duration": 81,
    "start_time": "2023-02-24T19:30:17.975Z"
   },
   {
    "duration": 103,
    "start_time": "2023-02-24T19:30:22.899Z"
   },
   {
    "duration": 85,
    "start_time": "2023-02-24T19:30:31.615Z"
   },
   {
    "duration": 90,
    "start_time": "2023-02-24T19:30:35.098Z"
   },
   {
    "duration": 82,
    "start_time": "2023-02-24T19:31:18.677Z"
   },
   {
    "duration": 90,
    "start_time": "2023-02-24T19:31:23.620Z"
   },
   {
    "duration": 91,
    "start_time": "2023-02-24T19:31:26.550Z"
   },
   {
    "duration": 95,
    "start_time": "2023-02-24T19:31:40.049Z"
   },
   {
    "duration": 90,
    "start_time": "2023-02-24T19:31:44.916Z"
   },
   {
    "duration": 99,
    "start_time": "2023-02-24T19:31:51.459Z"
   },
   {
    "duration": 103,
    "start_time": "2023-02-24T19:31:54.697Z"
   },
   {
    "duration": 94,
    "start_time": "2023-02-24T19:32:00.818Z"
   },
   {
    "duration": 84,
    "start_time": "2023-02-24T19:32:13.586Z"
   },
   {
    "duration": 111,
    "start_time": "2023-02-24T19:37:25.933Z"
   },
   {
    "duration": 87,
    "start_time": "2023-02-24T19:37:35.294Z"
   },
   {
    "duration": 19,
    "start_time": "2023-02-24T19:39:00.092Z"
   },
   {
    "duration": 37,
    "start_time": "2023-02-24T19:39:28.073Z"
   },
   {
    "duration": 5,
    "start_time": "2023-02-24T19:39:45.273Z"
   },
   {
    "duration": 84,
    "start_time": "2023-02-24T19:39:47.517Z"
   },
   {
    "duration": 35,
    "start_time": "2023-02-24T19:39:51.857Z"
   },
   {
    "duration": 25,
    "start_time": "2023-02-24T19:44:14.494Z"
   },
   {
    "duration": 512,
    "start_time": "2023-02-24T19:48:24.801Z"
   },
   {
    "duration": 16,
    "start_time": "2023-02-24T19:48:25.315Z"
   },
   {
    "duration": 11,
    "start_time": "2023-02-24T19:48:25.333Z"
   },
   {
    "duration": 7,
    "start_time": "2023-02-24T19:48:25.345Z"
   },
   {
    "duration": 16,
    "start_time": "2023-02-24T19:48:25.353Z"
   },
   {
    "duration": 32,
    "start_time": "2023-02-24T19:48:25.370Z"
   },
   {
    "duration": 13,
    "start_time": "2023-02-24T19:48:25.403Z"
   },
   {
    "duration": 18,
    "start_time": "2023-02-24T19:48:25.418Z"
   },
   {
    "duration": 55,
    "start_time": "2023-02-24T19:48:25.438Z"
   },
   {
    "duration": 5,
    "start_time": "2023-02-24T19:48:25.495Z"
   },
   {
    "duration": 24,
    "start_time": "2023-02-24T19:48:25.502Z"
   },
   {
    "duration": 22,
    "start_time": "2023-02-24T19:48:25.527Z"
   },
   {
    "duration": 9,
    "start_time": "2023-02-24T19:48:25.550Z"
   },
   {
    "duration": 26,
    "start_time": "2023-02-24T19:48:25.560Z"
   },
   {
    "duration": 16,
    "start_time": "2023-02-24T19:48:25.588Z"
   },
   {
    "duration": 13,
    "start_time": "2023-02-24T19:48:25.605Z"
   },
   {
    "duration": 34,
    "start_time": "2023-02-24T19:48:25.620Z"
   },
   {
    "duration": 32,
    "start_time": "2023-02-24T19:48:25.658Z"
   },
   {
    "duration": 492,
    "start_time": "2023-02-24T19:48:25.692Z"
   },
   {
    "duration": 5,
    "start_time": "2023-02-24T19:48:26.186Z"
   },
   {
    "duration": 107,
    "start_time": "2023-02-24T19:48:26.192Z"
   },
   {
    "duration": 34,
    "start_time": "2023-02-24T19:48:26.301Z"
   },
   {
    "duration": 452,
    "start_time": "2023-02-24T19:48:26.337Z"
   },
   {
    "duration": 32,
    "start_time": "2023-02-24T19:48:26.790Z"
   },
   {
    "duration": 16,
    "start_time": "2023-02-24T19:48:26.824Z"
   },
   {
    "duration": 6,
    "start_time": "2023-02-24T19:48:26.841Z"
   },
   {
    "duration": 46,
    "start_time": "2023-02-24T19:48:26.848Z"
   },
   {
    "duration": 6,
    "start_time": "2023-02-24T19:48:26.897Z"
   },
   {
    "duration": 225,
    "start_time": "2023-02-24T19:48:26.904Z"
   },
   {
    "duration": 152,
    "start_time": "2023-02-24T19:48:27.130Z"
   },
   {
    "duration": 24,
    "start_time": "2023-02-24T19:48:27.286Z"
   },
   {
    "duration": 237,
    "start_time": "2023-02-24T19:48:27.312Z"
   },
   {
    "duration": 3,
    "start_time": "2023-02-24T19:48:27.551Z"
   },
   {
    "duration": 149,
    "start_time": "2023-02-24T19:48:27.555Z"
   },
   {
    "duration": 181,
    "start_time": "2023-02-24T19:48:27.705Z"
   },
   {
    "duration": 7,
    "start_time": "2023-02-24T19:48:27.887Z"
   },
   {
    "duration": 204,
    "start_time": "2023-02-24T19:48:27.896Z"
   },
   {
    "duration": 206,
    "start_time": "2023-02-24T19:48:28.102Z"
   },
   {
    "duration": 16,
    "start_time": "2023-02-24T20:08:17.785Z"
   },
   {
    "duration": 43,
    "start_time": "2023-02-24T20:08:25.495Z"
   },
   {
    "duration": 194,
    "start_time": "2023-02-24T20:11:06.674Z"
   },
   {
    "duration": 288,
    "start_time": "2023-02-24T20:11:17.947Z"
   },
   {
    "duration": 168,
    "start_time": "2023-02-24T20:13:26.430Z"
   },
   {
    "duration": 68,
    "start_time": "2023-02-24T20:13:36.861Z"
   },
   {
    "duration": 126,
    "start_time": "2023-02-24T20:13:39.736Z"
   },
   {
    "duration": 254,
    "start_time": "2023-02-24T20:14:14.057Z"
   },
   {
    "duration": 148,
    "start_time": "2023-02-24T20:14:40.028Z"
   },
   {
    "duration": 163,
    "start_time": "2023-02-24T20:15:01.204Z"
   },
   {
    "duration": 175,
    "start_time": "2023-02-24T20:15:09.633Z"
   },
   {
    "duration": 185,
    "start_time": "2023-02-24T20:15:26.282Z"
   },
   {
    "duration": 225,
    "start_time": "2023-02-24T20:34:43.791Z"
   },
   {
    "duration": 230,
    "start_time": "2023-02-24T20:35:09.125Z"
   },
   {
    "duration": 200,
    "start_time": "2023-02-24T20:35:14.781Z"
   },
   {
    "duration": 310,
    "start_time": "2023-02-24T20:35:26.619Z"
   },
   {
    "duration": 594,
    "start_time": "2023-02-24T20:36:05.575Z"
   },
   {
    "duration": 486,
    "start_time": "2023-02-24T20:36:24.430Z"
   },
   {
    "duration": 71,
    "start_time": "2023-02-24T20:37:43.233Z"
   },
   {
    "duration": 502,
    "start_time": "2023-02-24T20:37:47.841Z"
   },
   {
    "duration": 77,
    "start_time": "2023-02-24T20:39:38.394Z"
   },
   {
    "duration": 831,
    "start_time": "2023-02-24T20:40:03.245Z"
   },
   {
    "duration": 259,
    "start_time": "2023-02-24T20:41:15.457Z"
   },
   {
    "duration": 323,
    "start_time": "2023-02-24T20:41:23.837Z"
   },
   {
    "duration": 840,
    "start_time": "2023-02-24T20:44:06.183Z"
   },
   {
    "duration": 5,
    "start_time": "2023-02-24T20:45:32.336Z"
   },
   {
    "duration": 5,
    "start_time": "2023-02-24T20:45:37.226Z"
   },
   {
    "duration": 190,
    "start_time": "2023-02-24T20:46:13.388Z"
   },
   {
    "duration": 183,
    "start_time": "2023-02-24T20:46:33.920Z"
   },
   {
    "duration": 177,
    "start_time": "2023-02-24T20:46:55.822Z"
   },
   {
    "duration": 173,
    "start_time": "2023-02-24T20:47:11.217Z"
   },
   {
    "duration": 156,
    "start_time": "2023-02-24T20:48:17.263Z"
   },
   {
    "duration": 6,
    "start_time": "2023-02-24T20:50:27.730Z"
   },
   {
    "duration": 5,
    "start_time": "2023-02-24T20:51:20.229Z"
   },
   {
    "duration": 120,
    "start_time": "2023-02-24T20:51:22.637Z"
   },
   {
    "duration": 5,
    "start_time": "2023-02-24T20:51:43.141Z"
   },
   {
    "duration": 175,
    "start_time": "2023-02-24T20:51:45.805Z"
   },
   {
    "duration": 266,
    "start_time": "2023-02-24T20:51:52.335Z"
   },
   {
    "duration": 195,
    "start_time": "2023-02-24T20:51:56.321Z"
   },
   {
    "duration": 164,
    "start_time": "2023-02-24T20:52:01.413Z"
   },
   {
    "duration": 174,
    "start_time": "2023-02-24T20:52:05.523Z"
   },
   {
    "duration": 5,
    "start_time": "2023-02-24T20:52:25.350Z"
   },
   {
    "duration": 177,
    "start_time": "2023-02-24T20:52:27.215Z"
   },
   {
    "duration": 185,
    "start_time": "2023-02-24T20:52:30.260Z"
   },
   {
    "duration": 180,
    "start_time": "2023-02-24T20:52:33.663Z"
   },
   {
    "duration": 155,
    "start_time": "2023-02-24T20:52:37.589Z"
   },
   {
    "duration": 156,
    "start_time": "2023-02-24T20:52:40.258Z"
   },
   {
    "duration": 33,
    "start_time": "2023-02-24T20:53:20.958Z"
   },
   {
    "duration": 35,
    "start_time": "2023-02-24T20:53:32.063Z"
   },
   {
    "duration": 49,
    "start_time": "2023-02-24T20:55:22.298Z"
   },
   {
    "duration": 41,
    "start_time": "2023-02-24T20:57:20.171Z"
   },
   {
    "duration": 17,
    "start_time": "2023-02-24T20:58:22.936Z"
   },
   {
    "duration": 10,
    "start_time": "2023-02-24T20:58:32.388Z"
   },
   {
    "duration": 6,
    "start_time": "2023-02-24T20:58:38.627Z"
   },
   {
    "duration": 29,
    "start_time": "2023-02-24T20:59:00.286Z"
   },
   {
    "duration": 13,
    "start_time": "2023-02-24T20:59:06.786Z"
   },
   {
    "duration": 8,
    "start_time": "2023-02-24T20:59:18.667Z"
   },
   {
    "duration": 10,
    "start_time": "2023-02-24T20:59:28.743Z"
   },
   {
    "duration": 78,
    "start_time": "2023-02-24T20:59:38.806Z"
   },
   {
    "duration": 11,
    "start_time": "2023-02-24T20:59:41.506Z"
   },
   {
    "duration": 13,
    "start_time": "2023-02-24T21:00:01.638Z"
   },
   {
    "duration": 18,
    "start_time": "2023-02-24T21:00:07.547Z"
   },
   {
    "duration": 22,
    "start_time": "2023-02-24T21:00:28.205Z"
   },
   {
    "duration": 16,
    "start_time": "2023-02-24T21:00:40.480Z"
   },
   {
    "duration": 12,
    "start_time": "2023-02-24T21:00:54.046Z"
   },
   {
    "duration": 32,
    "start_time": "2023-02-24T21:01:19.447Z"
   },
   {
    "duration": 5,
    "start_time": "2023-02-24T21:02:28.539Z"
   },
   {
    "duration": 11,
    "start_time": "2023-02-24T21:03:04.749Z"
   },
   {
    "duration": 17,
    "start_time": "2023-02-24T21:03:36.177Z"
   },
   {
    "duration": 17,
    "start_time": "2023-02-24T21:03:49.685Z"
   },
   {
    "duration": 14,
    "start_time": "2023-02-24T21:14:33.287Z"
   },
   {
    "duration": 13,
    "start_time": "2023-02-24T21:36:23.880Z"
   },
   {
    "duration": 9,
    "start_time": "2023-02-24T21:36:34.857Z"
   },
   {
    "duration": 11,
    "start_time": "2023-02-24T21:37:51.146Z"
   },
   {
    "duration": 13,
    "start_time": "2023-02-24T21:38:47.763Z"
   },
   {
    "duration": 8,
    "start_time": "2023-02-24T21:38:55.912Z"
   },
   {
    "duration": 538,
    "start_time": "2023-02-24T21:43:33.157Z"
   },
   {
    "duration": 16,
    "start_time": "2023-02-24T21:43:33.697Z"
   },
   {
    "duration": 22,
    "start_time": "2023-02-24T21:43:33.715Z"
   },
   {
    "duration": 29,
    "start_time": "2023-02-24T21:43:33.739Z"
   },
   {
    "duration": 47,
    "start_time": "2023-02-24T21:43:33.769Z"
   },
   {
    "duration": 35,
    "start_time": "2023-02-24T21:43:33.818Z"
   },
   {
    "duration": 22,
    "start_time": "2023-02-24T21:43:33.855Z"
   },
   {
    "duration": 45,
    "start_time": "2023-02-24T21:43:33.879Z"
   },
   {
    "duration": 44,
    "start_time": "2023-02-24T21:43:33.926Z"
   },
   {
    "duration": 5,
    "start_time": "2023-02-24T21:43:33.973Z"
   },
   {
    "duration": 42,
    "start_time": "2023-02-24T21:43:33.979Z"
   },
   {
    "duration": 38,
    "start_time": "2023-02-24T21:43:34.022Z"
   },
   {
    "duration": 13,
    "start_time": "2023-02-24T21:43:34.061Z"
   },
   {
    "duration": 21,
    "start_time": "2023-02-24T21:43:34.075Z"
   },
   {
    "duration": 37,
    "start_time": "2023-02-24T21:43:34.098Z"
   },
   {
    "duration": 5,
    "start_time": "2023-02-24T21:43:34.136Z"
   },
   {
    "duration": 17,
    "start_time": "2023-02-24T21:43:34.143Z"
   },
   {
    "duration": 11,
    "start_time": "2023-02-24T21:43:34.161Z"
   },
   {
    "duration": 423,
    "start_time": "2023-02-24T21:43:34.174Z"
   },
   {
    "duration": 6,
    "start_time": "2023-02-24T21:43:34.599Z"
   },
   {
    "duration": 108,
    "start_time": "2023-02-24T21:43:34.606Z"
   },
   {
    "duration": 36,
    "start_time": "2023-02-24T21:43:34.716Z"
   },
   {
    "duration": 509,
    "start_time": "2023-02-24T21:43:34.753Z"
   },
   {
    "duration": 61,
    "start_time": "2023-02-24T21:43:35.264Z"
   },
   {
    "duration": 18,
    "start_time": "2023-02-24T21:43:35.327Z"
   },
   {
    "duration": 15,
    "start_time": "2023-02-24T21:43:35.347Z"
   },
   {
    "duration": 31,
    "start_time": "2023-02-24T21:43:35.363Z"
   },
   {
    "duration": 22,
    "start_time": "2023-02-24T21:43:35.398Z"
   },
   {
    "duration": 48,
    "start_time": "2023-02-24T21:43:35.422Z"
   },
   {
    "duration": 7,
    "start_time": "2023-02-24T21:43:35.472Z"
   },
   {
    "duration": 311,
    "start_time": "2023-02-24T21:43:35.481Z"
   },
   {
    "duration": 176,
    "start_time": "2023-02-24T21:43:35.793Z"
   },
   {
    "duration": 30,
    "start_time": "2023-02-24T21:43:35.970Z"
   },
   {
    "duration": 263,
    "start_time": "2023-02-24T21:43:36.001Z"
   },
   {
    "duration": 157,
    "start_time": "2023-02-24T21:43:36.266Z"
   },
   {
    "duration": 202,
    "start_time": "2023-02-24T21:43:36.425Z"
   },
   {
    "duration": 8,
    "start_time": "2023-02-24T21:43:36.629Z"
   },
   {
    "duration": 224,
    "start_time": "2023-02-24T21:43:36.638Z"
   },
   {
    "duration": 217,
    "start_time": "2023-02-24T21:43:36.864Z"
   },
   {
    "duration": 38,
    "start_time": "2023-02-24T21:43:37.086Z"
   },
   {
    "duration": 5,
    "start_time": "2023-02-24T21:43:37.125Z"
   },
   {
    "duration": 304,
    "start_time": "2023-02-24T21:43:37.132Z"
   },
   {
    "duration": 195,
    "start_time": "2023-02-24T21:43:37.438Z"
   },
   {
    "duration": 205,
    "start_time": "2023-02-24T21:43:37.634Z"
   },
   {
    "duration": 183,
    "start_time": "2023-02-24T21:43:37.840Z"
   },
   {
    "duration": 178,
    "start_time": "2023-02-24T21:43:38.025Z"
   },
   {
    "duration": 987,
    "start_time": "2023-02-24T21:49:24.688Z"
   },
   {
    "duration": 5,
    "start_time": "2023-02-24T21:49:40.834Z"
   },
   {
    "duration": 204,
    "start_time": "2023-02-24T21:49:59.772Z"
   },
   {
    "duration": 219,
    "start_time": "2023-02-24T21:50:05.270Z"
   },
   {
    "duration": 215,
    "start_time": "2023-02-24T21:50:45.957Z"
   },
   {
    "duration": 287,
    "start_time": "2023-02-24T21:50:57.616Z"
   },
   {
    "duration": 216,
    "start_time": "2023-02-24T21:51:06.391Z"
   },
   {
    "duration": 190,
    "start_time": "2023-02-24T21:53:39.655Z"
   },
   {
    "duration": 290,
    "start_time": "2023-02-24T21:53:42.350Z"
   },
   {
    "duration": 198,
    "start_time": "2023-02-24T21:53:45.202Z"
   },
   {
    "duration": 183,
    "start_time": "2023-02-24T21:53:47.418Z"
   },
   {
    "duration": 6,
    "start_time": "2023-02-24T21:54:11.880Z"
   },
   {
    "duration": 189,
    "start_time": "2023-02-24T21:54:14.501Z"
   },
   {
    "duration": 189,
    "start_time": "2023-02-24T21:54:17.075Z"
   },
   {
    "duration": 186,
    "start_time": "2023-02-24T21:54:20.292Z"
   },
   {
    "duration": 195,
    "start_time": "2023-02-24T21:54:26.807Z"
   },
   {
    "duration": 177,
    "start_time": "2023-02-24T21:54:29.948Z"
   },
   {
    "duration": 5,
    "start_time": "2023-02-24T21:55:46.092Z"
   },
   {
    "duration": 194,
    "start_time": "2023-02-24T21:55:53.102Z"
   },
   {
    "duration": 212,
    "start_time": "2023-02-24T21:55:55.189Z"
   },
   {
    "duration": 181,
    "start_time": "2023-02-24T21:55:57.712Z"
   },
   {
    "duration": 301,
    "start_time": "2023-02-24T21:56:00.817Z"
   },
   {
    "duration": 165,
    "start_time": "2023-02-24T21:56:04.369Z"
   },
   {
    "duration": 6,
    "start_time": "2023-02-24T21:56:17.053Z"
   },
   {
    "duration": 238,
    "start_time": "2023-02-24T21:56:21.160Z"
   },
   {
    "duration": 5,
    "start_time": "2023-02-24T21:56:31.321Z"
   },
   {
    "duration": 196,
    "start_time": "2023-02-24T21:56:35.862Z"
   },
   {
    "duration": 191,
    "start_time": "2023-02-24T21:56:38.229Z"
   },
   {
    "duration": 5,
    "start_time": "2023-02-24T21:56:49.114Z"
   },
   {
    "duration": 195,
    "start_time": "2023-02-24T21:56:57.551Z"
   },
   {
    "duration": 194,
    "start_time": "2023-02-24T21:57:00.229Z"
   },
   {
    "duration": 182,
    "start_time": "2023-02-24T21:57:09.368Z"
   },
   {
    "duration": 184,
    "start_time": "2023-02-24T21:57:13.948Z"
   },
   {
    "duration": 161,
    "start_time": "2023-02-24T21:57:17.314Z"
   },
   {
    "duration": 4,
    "start_time": "2023-02-24T21:57:52.269Z"
   },
   {
    "duration": 196,
    "start_time": "2023-02-24T21:57:54.354Z"
   },
   {
    "duration": 282,
    "start_time": "2023-02-24T21:57:56.906Z"
   },
   {
    "duration": 192,
    "start_time": "2023-02-24T21:57:59.632Z"
   },
   {
    "duration": 165,
    "start_time": "2023-02-24T21:58:02.445Z"
   },
   {
    "duration": 183,
    "start_time": "2023-02-24T21:58:15.589Z"
   },
   {
    "duration": 4,
    "start_time": "2023-02-24T21:58:44.725Z"
   },
   {
    "duration": 4,
    "start_time": "2023-02-24T21:58:45.641Z"
   },
   {
    "duration": 4,
    "start_time": "2023-02-24T21:58:47.736Z"
   },
   {
    "duration": 188,
    "start_time": "2023-02-24T21:58:49.931Z"
   },
   {
    "duration": 197,
    "start_time": "2023-02-24T21:58:52.728Z"
   },
   {
    "duration": 4,
    "start_time": "2023-02-24T22:00:40.410Z"
   },
   {
    "duration": 195,
    "start_time": "2023-02-24T22:00:44.165Z"
   },
   {
    "duration": 5,
    "start_time": "2023-02-24T22:00:55.570Z"
   },
   {
    "duration": 181,
    "start_time": "2023-02-24T22:00:57.424Z"
   },
   {
    "duration": 195,
    "start_time": "2023-02-24T22:01:00.093Z"
   },
   {
    "duration": 179,
    "start_time": "2023-02-24T22:01:17.935Z"
   },
   {
    "duration": 182,
    "start_time": "2023-02-24T22:04:33.052Z"
   },
   {
    "duration": 355,
    "start_time": "2023-02-24T22:06:56.056Z"
   },
   {
    "duration": 250,
    "start_time": "2023-02-24T22:07:09.266Z"
   },
   {
    "duration": 192,
    "start_time": "2023-02-24T22:18:17.182Z"
   },
   {
    "duration": 192,
    "start_time": "2023-02-24T22:18:20.198Z"
   },
   {
    "duration": 201,
    "start_time": "2023-02-24T22:18:26.158Z"
   },
   {
    "duration": 188,
    "start_time": "2023-02-24T22:18:51.109Z"
   },
   {
    "duration": 144,
    "start_time": "2023-02-24T22:33:58.283Z"
   },
   {
    "duration": 183,
    "start_time": "2023-02-24T22:34:15.489Z"
   },
   {
    "duration": 156,
    "start_time": "2023-02-24T22:35:14.061Z"
   },
   {
    "duration": 145,
    "start_time": "2023-02-24T22:35:45.968Z"
   },
   {
    "duration": 174,
    "start_time": "2023-02-24T22:35:51.676Z"
   },
   {
    "duration": 247,
    "start_time": "2023-02-24T22:36:17.813Z"
   },
   {
    "duration": 158,
    "start_time": "2023-02-24T22:36:22.161Z"
   },
   {
    "duration": 158,
    "start_time": "2023-02-24T22:37:19.787Z"
   },
   {
    "duration": 164,
    "start_time": "2023-02-24T22:40:10.553Z"
   },
   {
    "duration": 157,
    "start_time": "2023-02-24T22:40:19.986Z"
   },
   {
    "duration": 267,
    "start_time": "2023-02-24T22:40:47.628Z"
   },
   {
    "duration": 286,
    "start_time": "2023-02-24T22:40:56.393Z"
   },
   {
    "duration": 292,
    "start_time": "2023-02-24T22:41:08.980Z"
   },
   {
    "duration": 3,
    "start_time": "2023-02-24T22:44:21.260Z"
   },
   {
    "duration": 3,
    "start_time": "2023-02-24T22:44:23.161Z"
   },
   {
    "duration": 197,
    "start_time": "2023-02-24T22:44:25.169Z"
   },
   {
    "duration": 179,
    "start_time": "2023-02-24T22:44:31.415Z"
   },
   {
    "duration": 198,
    "start_time": "2023-02-24T22:44:36.432Z"
   },
   {
    "duration": 185,
    "start_time": "2023-02-24T22:44:42.068Z"
   },
   {
    "duration": 257,
    "start_time": "2023-02-24T22:44:46.189Z"
   },
   {
    "duration": 4,
    "start_time": "2023-02-24T22:45:16.486Z"
   },
   {
    "duration": 4,
    "start_time": "2023-02-24T22:45:18.312Z"
   },
   {
    "duration": 539,
    "start_time": "2023-02-24T22:45:25.019Z"
   },
   {
    "duration": 21,
    "start_time": "2023-02-24T22:45:25.560Z"
   },
   {
    "duration": 19,
    "start_time": "2023-02-24T22:45:25.583Z"
   },
   {
    "duration": 20,
    "start_time": "2023-02-24T22:45:25.605Z"
   },
   {
    "duration": 22,
    "start_time": "2023-02-24T22:45:25.628Z"
   },
   {
    "duration": 62,
    "start_time": "2023-02-24T22:45:25.652Z"
   },
   {
    "duration": 13,
    "start_time": "2023-02-24T22:45:25.715Z"
   },
   {
    "duration": 27,
    "start_time": "2023-02-24T22:45:25.730Z"
   },
   {
    "duration": 55,
    "start_time": "2023-02-24T22:45:25.758Z"
   },
   {
    "duration": 6,
    "start_time": "2023-02-24T22:45:25.816Z"
   },
   {
    "duration": 30,
    "start_time": "2023-02-24T22:45:25.824Z"
   },
   {
    "duration": 32,
    "start_time": "2023-02-24T22:45:25.856Z"
   },
   {
    "duration": 20,
    "start_time": "2023-02-24T22:45:25.890Z"
   },
   {
    "duration": 12,
    "start_time": "2023-02-24T22:45:25.912Z"
   },
   {
    "duration": 25,
    "start_time": "2023-02-24T22:45:25.926Z"
   },
   {
    "duration": 6,
    "start_time": "2023-02-24T22:45:25.953Z"
   },
   {
    "duration": 15,
    "start_time": "2023-02-24T22:45:25.961Z"
   },
   {
    "duration": 14,
    "start_time": "2023-02-24T22:45:25.978Z"
   },
   {
    "duration": 454,
    "start_time": "2023-02-24T22:45:25.994Z"
   },
   {
    "duration": 5,
    "start_time": "2023-02-24T22:45:26.450Z"
   },
   {
    "duration": 110,
    "start_time": "2023-02-24T22:45:26.457Z"
   },
   {
    "duration": 45,
    "start_time": "2023-02-24T22:45:26.569Z"
   },
   {
    "duration": 502,
    "start_time": "2023-02-24T22:45:26.616Z"
   },
   {
    "duration": 33,
    "start_time": "2023-02-24T22:45:27.119Z"
   },
   {
    "duration": 36,
    "start_time": "2023-02-24T22:45:27.154Z"
   },
   {
    "duration": 12,
    "start_time": "2023-02-24T22:45:27.191Z"
   },
   {
    "duration": 17,
    "start_time": "2023-02-24T22:45:27.205Z"
   },
   {
    "duration": 13,
    "start_time": "2023-02-24T22:45:27.225Z"
   },
   {
    "duration": 26,
    "start_time": "2023-02-24T22:45:27.240Z"
   },
   {
    "duration": 21,
    "start_time": "2023-02-24T22:45:27.268Z"
   },
   {
    "duration": 250,
    "start_time": "2023-02-24T22:45:27.291Z"
   },
   {
    "duration": 175,
    "start_time": "2023-02-24T22:45:27.542Z"
   },
   {
    "duration": 20,
    "start_time": "2023-02-24T22:45:27.718Z"
   },
   {
    "duration": 280,
    "start_time": "2023-02-24T22:45:27.739Z"
   },
   {
    "duration": 156,
    "start_time": "2023-02-24T22:45:28.020Z"
   },
   {
    "duration": 208,
    "start_time": "2023-02-24T22:45:28.178Z"
   },
   {
    "duration": 5,
    "start_time": "2023-02-24T22:45:28.387Z"
   },
   {
    "duration": 234,
    "start_time": "2023-02-24T22:45:28.393Z"
   },
   {
    "duration": 216,
    "start_time": "2023-02-24T22:45:28.629Z"
   },
   {
    "duration": 3,
    "start_time": "2023-02-24T22:45:28.847Z"
   },
   {
    "duration": 278,
    "start_time": "2023-02-24T22:45:28.852Z"
   },
   {
    "duration": 219,
    "start_time": "2023-02-24T22:45:29.132Z"
   },
   {
    "duration": 191,
    "start_time": "2023-02-24T22:45:29.352Z"
   },
   {
    "duration": 189,
    "start_time": "2023-02-24T22:45:29.545Z"
   },
   {
    "duration": 180,
    "start_time": "2023-02-24T22:45:29.735Z"
   },
   {
    "duration": 297,
    "start_time": "2023-02-24T22:45:29.917Z"
   },
   {
    "duration": 54,
    "start_time": "2023-02-25T13:35:14.100Z"
   },
   {
    "duration": 559,
    "start_time": "2023-02-25T13:35:19.576Z"
   },
   {
    "duration": 18,
    "start_time": "2023-02-25T13:35:20.137Z"
   },
   {
    "duration": 13,
    "start_time": "2023-02-25T13:35:20.157Z"
   },
   {
    "duration": 7,
    "start_time": "2023-02-25T13:35:20.172Z"
   },
   {
    "duration": 22,
    "start_time": "2023-02-25T13:35:20.182Z"
   },
   {
    "duration": 35,
    "start_time": "2023-02-25T13:35:20.206Z"
   },
   {
    "duration": 12,
    "start_time": "2023-02-25T13:35:20.243Z"
   },
   {
    "duration": 42,
    "start_time": "2023-02-25T13:35:20.257Z"
   },
   {
    "duration": 38,
    "start_time": "2023-02-25T13:35:20.301Z"
   },
   {
    "duration": 6,
    "start_time": "2023-02-25T13:35:20.341Z"
   },
   {
    "duration": 29,
    "start_time": "2023-02-25T13:35:20.349Z"
   },
   {
    "duration": 23,
    "start_time": "2023-02-25T13:35:20.399Z"
   },
   {
    "duration": 6,
    "start_time": "2023-02-25T13:35:20.424Z"
   },
   {
    "duration": 22,
    "start_time": "2023-02-25T13:35:20.434Z"
   },
   {
    "duration": 16,
    "start_time": "2023-02-25T13:35:20.458Z"
   },
   {
    "duration": 6,
    "start_time": "2023-02-25T13:35:20.476Z"
   },
   {
    "duration": 6,
    "start_time": "2023-02-25T13:35:20.499Z"
   },
   {
    "duration": 8,
    "start_time": "2023-02-25T13:35:20.506Z"
   },
   {
    "duration": 15,
    "start_time": "2023-02-25T13:35:20.516Z"
   },
   {
    "duration": 472,
    "start_time": "2023-02-25T13:35:20.533Z"
   },
   {
    "duration": 5,
    "start_time": "2023-02-25T13:35:21.007Z"
   },
   {
    "duration": 113,
    "start_time": "2023-02-25T13:35:21.014Z"
   },
   {
    "duration": 38,
    "start_time": "2023-02-25T13:35:21.129Z"
   },
   {
    "duration": 513,
    "start_time": "2023-02-25T13:35:21.169Z"
   },
   {
    "duration": 36,
    "start_time": "2023-02-25T13:35:21.683Z"
   },
   {
    "duration": 16,
    "start_time": "2023-02-25T13:35:21.721Z"
   },
   {
    "duration": 13,
    "start_time": "2023-02-25T13:35:21.738Z"
   },
   {
    "duration": 14,
    "start_time": "2023-02-25T13:35:21.753Z"
   },
   {
    "duration": 5,
    "start_time": "2023-02-25T13:35:21.768Z"
   },
   {
    "duration": 25,
    "start_time": "2023-02-25T13:35:21.800Z"
   },
   {
    "duration": 7,
    "start_time": "2023-02-25T13:35:21.827Z"
   },
   {
    "duration": 257,
    "start_time": "2023-02-25T13:35:21.835Z"
   },
   {
    "duration": 179,
    "start_time": "2023-02-25T13:35:22.094Z"
   },
   {
    "duration": 30,
    "start_time": "2023-02-25T13:35:22.275Z"
   },
   {
    "duration": 295,
    "start_time": "2023-02-25T13:35:22.307Z"
   },
   {
    "duration": 170,
    "start_time": "2023-02-25T13:35:22.604Z"
   },
   {
    "duration": 217,
    "start_time": "2023-02-25T13:35:22.776Z"
   },
   {
    "duration": 5,
    "start_time": "2023-02-25T13:35:22.998Z"
   },
   {
    "duration": 278,
    "start_time": "2023-02-25T13:35:23.005Z"
   },
   {
    "duration": 262,
    "start_time": "2023-02-25T13:35:23.285Z"
   },
   {
    "duration": 4,
    "start_time": "2023-02-25T13:35:23.551Z"
   },
   {
    "duration": 339,
    "start_time": "2023-02-25T13:35:23.557Z"
   },
   {
    "duration": 314,
    "start_time": "2023-02-25T13:35:23.898Z"
   },
   {
    "duration": 262,
    "start_time": "2023-02-25T13:35:24.214Z"
   },
   {
    "duration": 262,
    "start_time": "2023-02-25T13:35:24.479Z"
   },
   {
    "duration": 231,
    "start_time": "2023-02-25T13:35:24.743Z"
   },
   {
    "duration": 403,
    "start_time": "2023-02-25T13:35:24.977Z"
   },
   {
    "duration": 45,
    "start_time": "2023-02-25T14:25:02.246Z"
   },
   {
    "duration": 550,
    "start_time": "2023-02-25T14:26:52.288Z"
   },
   {
    "duration": 15,
    "start_time": "2023-02-25T14:26:52.840Z"
   },
   {
    "duration": 11,
    "start_time": "2023-02-25T14:26:52.857Z"
   },
   {
    "duration": 7,
    "start_time": "2023-02-25T14:26:52.870Z"
   },
   {
    "duration": 15,
    "start_time": "2023-02-25T14:26:52.878Z"
   },
   {
    "duration": 15,
    "start_time": "2023-02-25T14:26:52.894Z"
   },
   {
    "duration": 27,
    "start_time": "2023-02-25T14:26:52.910Z"
   },
   {
    "duration": 12,
    "start_time": "2023-02-25T14:26:52.939Z"
   },
   {
    "duration": 24,
    "start_time": "2023-02-25T14:26:52.953Z"
   },
   {
    "duration": 53,
    "start_time": "2023-02-25T14:26:52.979Z"
   },
   {
    "duration": 5,
    "start_time": "2023-02-25T14:26:53.033Z"
   },
   {
    "duration": 19,
    "start_time": "2023-02-25T14:26:53.040Z"
   },
   {
    "duration": 43,
    "start_time": "2023-02-25T14:26:53.061Z"
   },
   {
    "duration": 5,
    "start_time": "2023-02-25T14:26:53.106Z"
   },
   {
    "duration": 8,
    "start_time": "2023-02-25T14:26:53.113Z"
   },
   {
    "duration": 16,
    "start_time": "2023-02-25T14:26:53.122Z"
   },
   {
    "duration": 6,
    "start_time": "2023-02-25T14:26:53.139Z"
   },
   {
    "duration": 7,
    "start_time": "2023-02-25T14:26:53.146Z"
   },
   {
    "duration": 10,
    "start_time": "2023-02-25T14:26:53.154Z"
   },
   {
    "duration": 412,
    "start_time": "2023-02-25T14:26:53.166Z"
   },
   {
    "duration": 4,
    "start_time": "2023-02-25T14:26:53.579Z"
   },
   {
    "duration": 99,
    "start_time": "2023-02-25T14:26:53.585Z"
   },
   {
    "duration": 43,
    "start_time": "2023-02-25T14:26:53.686Z"
   },
   {
    "duration": 442,
    "start_time": "2023-02-25T14:26:53.731Z"
   },
   {
    "duration": 40,
    "start_time": "2023-02-25T14:26:54.175Z"
   },
   {
    "duration": 15,
    "start_time": "2023-02-25T14:26:54.217Z"
   },
   {
    "duration": 7,
    "start_time": "2023-02-25T14:26:54.234Z"
   },
   {
    "duration": 10,
    "start_time": "2023-02-25T14:26:54.244Z"
   },
   {
    "duration": 6,
    "start_time": "2023-02-25T14:26:54.255Z"
   },
   {
    "duration": 50,
    "start_time": "2023-02-25T14:26:54.263Z"
   },
   {
    "duration": 5,
    "start_time": "2023-02-25T14:26:54.315Z"
   },
   {
    "duration": 225,
    "start_time": "2023-02-25T14:26:54.321Z"
   },
   {
    "duration": 169,
    "start_time": "2023-02-25T14:26:54.548Z"
   },
   {
    "duration": 20,
    "start_time": "2023-02-25T14:26:54.718Z"
   },
   {
    "duration": 268,
    "start_time": "2023-02-25T14:26:54.739Z"
   },
   {
    "duration": 168,
    "start_time": "2023-02-25T14:26:55.009Z"
   },
   {
    "duration": 201,
    "start_time": "2023-02-25T14:26:55.179Z"
   },
   {
    "duration": 5,
    "start_time": "2023-02-25T14:26:55.382Z"
   },
   {
    "duration": 238,
    "start_time": "2023-02-25T14:26:55.388Z"
   },
   {
    "duration": 216,
    "start_time": "2023-02-25T14:26:55.628Z"
   },
   {
    "duration": 3,
    "start_time": "2023-02-25T14:26:55.847Z"
   },
   {
    "duration": 249,
    "start_time": "2023-02-25T14:26:55.852Z"
   },
   {
    "duration": 191,
    "start_time": "2023-02-25T14:26:56.102Z"
   },
   {
    "duration": 169,
    "start_time": "2023-02-25T14:26:56.294Z"
   },
   {
    "duration": 210,
    "start_time": "2023-02-25T14:26:56.464Z"
   },
   {
    "duration": 218,
    "start_time": "2023-02-25T14:26:56.677Z"
   },
   {
    "duration": 277,
    "start_time": "2023-02-25T14:26:56.897Z"
   },
   {
    "duration": 76,
    "start_time": "2023-02-25T14:28:30.893Z"
   },
   {
    "duration": 48,
    "start_time": "2023-02-25T14:29:41.252Z"
   },
   {
    "duration": 10,
    "start_time": "2023-02-25T14:29:45.806Z"
   },
   {
    "duration": 10,
    "start_time": "2023-02-25T14:30:05.752Z"
   },
   {
    "duration": 10,
    "start_time": "2023-02-25T14:30:09.824Z"
   },
   {
    "duration": 9,
    "start_time": "2023-02-25T14:30:30.828Z"
   },
   {
    "duration": 10,
    "start_time": "2023-02-25T14:30:48.426Z"
   },
   {
    "duration": 13,
    "start_time": "2023-02-25T14:31:04.844Z"
   },
   {
    "duration": 12,
    "start_time": "2023-02-25T14:32:29.098Z"
   },
   {
    "duration": 16,
    "start_time": "2023-02-25T14:32:47.772Z"
   },
   {
    "duration": 14,
    "start_time": "2023-02-25T14:33:06.510Z"
   },
   {
    "duration": 13,
    "start_time": "2023-02-25T14:33:17.396Z"
   },
   {
    "duration": 15,
    "start_time": "2023-02-25T14:33:42.025Z"
   },
   {
    "duration": 31,
    "start_time": "2023-02-25T14:33:51.710Z"
   },
   {
    "duration": 119,
    "start_time": "2023-02-25T14:34:34.179Z"
   },
   {
    "duration": 13,
    "start_time": "2023-02-25T14:34:35.951Z"
   },
   {
    "duration": 11,
    "start_time": "2023-02-25T14:34:37.934Z"
   },
   {
    "duration": 9,
    "start_time": "2023-02-25T14:34:39.466Z"
   },
   {
    "duration": 12,
    "start_time": "2023-02-25T14:34:41.274Z"
   },
   {
    "duration": 16,
    "start_time": "2023-02-25T14:34:51.071Z"
   },
   {
    "duration": 15,
    "start_time": "2023-02-25T14:35:15.139Z"
   },
   {
    "duration": 15,
    "start_time": "2023-02-25T14:35:25.116Z"
   },
   {
    "duration": 14,
    "start_time": "2023-02-25T14:35:29.247Z"
   },
   {
    "duration": 22,
    "start_time": "2023-02-25T14:35:54.547Z"
   },
   {
    "duration": 15,
    "start_time": "2023-02-25T14:36:09.511Z"
   },
   {
    "duration": 7,
    "start_time": "2023-02-25T14:37:31.999Z"
   },
   {
    "duration": 17,
    "start_time": "2023-02-25T14:37:39.097Z"
   },
   {
    "duration": 12,
    "start_time": "2023-02-25T14:37:56.663Z"
   },
   {
    "duration": 9,
    "start_time": "2023-02-25T14:38:00.899Z"
   },
   {
    "duration": 9,
    "start_time": "2023-02-25T14:38:40.220Z"
   },
   {
    "duration": 4,
    "start_time": "2023-02-25T14:38:43.625Z"
   },
   {
    "duration": 14,
    "start_time": "2023-02-25T14:38:48.330Z"
   },
   {
    "duration": 44,
    "start_time": "2023-02-25T14:39:29.079Z"
   },
   {
    "duration": 28,
    "start_time": "2023-02-25T14:39:40.546Z"
   },
   {
    "duration": 123,
    "start_time": "2023-02-25T14:39:54.455Z"
   },
   {
    "duration": 12,
    "start_time": "2023-02-25T14:39:56.381Z"
   },
   {
    "duration": 9,
    "start_time": "2023-02-25T14:39:58.229Z"
   },
   {
    "duration": 7,
    "start_time": "2023-02-25T14:40:00.046Z"
   },
   {
    "duration": 12,
    "start_time": "2023-02-25T14:40:01.717Z"
   },
   {
    "duration": 36,
    "start_time": "2023-02-25T14:40:05.100Z"
   },
   {
    "duration": 15,
    "start_time": "2023-02-25T14:40:14.456Z"
   },
   {
    "duration": 14,
    "start_time": "2023-02-25T14:40:25.679Z"
   },
   {
    "duration": 26,
    "start_time": "2023-02-25T14:40:39.861Z"
   },
   {
    "duration": 28,
    "start_time": "2023-02-25T14:41:08.654Z"
   },
   {
    "duration": 15,
    "start_time": "2023-02-25T14:42:20.377Z"
   },
   {
    "duration": 17,
    "start_time": "2023-02-25T14:43:11.670Z"
   },
   {
    "duration": 15,
    "start_time": "2023-02-25T14:43:18.359Z"
   },
   {
    "duration": 26,
    "start_time": "2023-02-25T14:43:50.373Z"
   },
   {
    "duration": 16,
    "start_time": "2023-02-25T14:44:24.513Z"
   },
   {
    "duration": 21,
    "start_time": "2023-02-25T14:44:51.069Z"
   },
   {
    "duration": 14,
    "start_time": "2023-02-25T14:45:15.178Z"
   },
   {
    "duration": 133,
    "start_time": "2023-02-25T14:45:28.874Z"
   },
   {
    "duration": 13,
    "start_time": "2023-02-25T14:45:31.230Z"
   },
   {
    "duration": 11,
    "start_time": "2023-02-25T14:45:33.057Z"
   },
   {
    "duration": 8,
    "start_time": "2023-02-25T14:45:35.654Z"
   },
   {
    "duration": 12,
    "start_time": "2023-02-25T14:45:48.617Z"
   },
   {
    "duration": 20,
    "start_time": "2023-02-25T14:46:02.362Z"
   },
   {
    "duration": 26,
    "start_time": "2023-02-25T14:46:14.007Z"
   },
   {
    "duration": 25,
    "start_time": "2023-02-25T14:46:27.030Z"
   },
   {
    "duration": 28,
    "start_time": "2023-02-25T14:46:35.118Z"
   },
   {
    "duration": 33,
    "start_time": "2023-02-25T14:46:39.006Z"
   },
   {
    "duration": 11,
    "start_time": "2023-02-25T14:46:49.270Z"
   },
   {
    "duration": 53,
    "start_time": "2023-02-25T14:46:57.109Z"
   },
   {
    "duration": 20,
    "start_time": "2023-02-25T14:47:04.397Z"
   },
   {
    "duration": 31,
    "start_time": "2023-02-25T14:47:09.396Z"
   },
   {
    "duration": 42,
    "start_time": "2023-02-25T14:47:43.095Z"
   },
   {
    "duration": 14,
    "start_time": "2023-02-25T14:48:04.064Z"
   },
   {
    "duration": 13,
    "start_time": "2023-02-25T14:48:22.062Z"
   },
   {
    "duration": 14,
    "start_time": "2023-02-25T14:48:33.963Z"
   },
   {
    "duration": 15,
    "start_time": "2023-02-25T14:49:01.804Z"
   },
   {
    "duration": 14,
    "start_time": "2023-02-25T14:49:09.964Z"
   },
   {
    "duration": 12,
    "start_time": "2023-02-25T14:53:01.258Z"
   },
   {
    "duration": 6,
    "start_time": "2023-02-25T14:53:28.958Z"
   },
   {
    "duration": 38,
    "start_time": "2023-02-25T14:57:39.370Z"
   },
   {
    "duration": 36,
    "start_time": "2023-02-25T14:57:58.965Z"
   },
   {
    "duration": 21,
    "start_time": "2023-02-25T14:58:57.965Z"
   },
   {
    "duration": 487,
    "start_time": "2023-02-25T14:59:11.358Z"
   },
   {
    "duration": 17,
    "start_time": "2023-02-25T14:59:11.846Z"
   },
   {
    "duration": 12,
    "start_time": "2023-02-25T14:59:11.865Z"
   },
   {
    "duration": 7,
    "start_time": "2023-02-25T14:59:11.878Z"
   },
   {
    "duration": 15,
    "start_time": "2023-02-25T14:59:11.886Z"
   },
   {
    "duration": 4,
    "start_time": "2023-02-25T14:59:11.903Z"
   },
   {
    "duration": 43,
    "start_time": "2023-02-25T14:59:11.909Z"
   },
   {
    "duration": 4,
    "start_time": "2023-02-25T14:59:11.954Z"
   },
   {
    "duration": 45,
    "start_time": "2023-02-25T14:59:11.960Z"
   },
   {
    "duration": 13,
    "start_time": "2023-02-25T14:59:12.008Z"
   },
   {
    "duration": 28,
    "start_time": "2023-02-25T14:59:12.023Z"
   },
   {
    "duration": 54,
    "start_time": "2023-02-25T14:59:12.053Z"
   },
   {
    "duration": 5,
    "start_time": "2023-02-25T14:59:12.110Z"
   },
   {
    "duration": 19,
    "start_time": "2023-02-25T14:59:12.117Z"
   },
   {
    "duration": 21,
    "start_time": "2023-02-25T14:59:12.138Z"
   },
   {
    "duration": 5,
    "start_time": "2023-02-25T14:59:12.161Z"
   },
   {
    "duration": 38,
    "start_time": "2023-02-25T14:59:12.168Z"
   },
   {
    "duration": 15,
    "start_time": "2023-02-25T14:59:12.207Z"
   },
   {
    "duration": 7,
    "start_time": "2023-02-25T14:59:12.223Z"
   },
   {
    "duration": 9,
    "start_time": "2023-02-25T14:59:12.232Z"
   },
   {
    "duration": 11,
    "start_time": "2023-02-25T14:59:12.243Z"
   },
   {
    "duration": 441,
    "start_time": "2023-02-25T14:59:12.255Z"
   },
   {
    "duration": 6,
    "start_time": "2023-02-25T14:59:12.697Z"
   },
   {
    "duration": 103,
    "start_time": "2023-02-25T14:59:12.705Z"
   },
   {
    "duration": 33,
    "start_time": "2023-02-25T14:59:12.810Z"
   },
   {
    "duration": 489,
    "start_time": "2023-02-25T14:59:12.845Z"
   },
   {
    "duration": 35,
    "start_time": "2023-02-25T14:59:13.335Z"
   },
   {
    "duration": 33,
    "start_time": "2023-02-25T14:59:13.374Z"
   },
   {
    "duration": 8,
    "start_time": "2023-02-25T14:59:13.409Z"
   },
   {
    "duration": 12,
    "start_time": "2023-02-25T14:59:13.419Z"
   },
   {
    "duration": 12,
    "start_time": "2023-02-25T14:59:13.433Z"
   },
   {
    "duration": 25,
    "start_time": "2023-02-25T14:59:13.446Z"
   },
   {
    "duration": 6,
    "start_time": "2023-02-25T14:59:13.472Z"
   },
   {
    "duration": 240,
    "start_time": "2023-02-25T14:59:13.479Z"
   },
   {
    "duration": 166,
    "start_time": "2023-02-25T14:59:13.721Z"
   },
   {
    "duration": 24,
    "start_time": "2023-02-25T14:59:13.889Z"
   },
   {
    "duration": 262,
    "start_time": "2023-02-25T14:59:13.915Z"
   },
   {
    "duration": 156,
    "start_time": "2023-02-25T14:59:14.179Z"
   },
   {
    "duration": 191,
    "start_time": "2023-02-25T14:59:14.337Z"
   },
   {
    "duration": 5,
    "start_time": "2023-02-25T14:59:14.529Z"
   },
   {
    "duration": 219,
    "start_time": "2023-02-25T14:59:14.536Z"
   },
   {
    "duration": 282,
    "start_time": "2023-02-25T14:59:14.757Z"
   },
   {
    "duration": 3,
    "start_time": "2023-02-25T14:59:15.041Z"
   },
   {
    "duration": 215,
    "start_time": "2023-02-25T14:59:15.046Z"
   },
   {
    "duration": 213,
    "start_time": "2023-02-25T14:59:15.263Z"
   },
   {
    "duration": 180,
    "start_time": "2023-02-25T14:59:15.478Z"
   },
   {
    "duration": 189,
    "start_time": "2023-02-25T14:59:15.660Z"
   },
   {
    "duration": 172,
    "start_time": "2023-02-25T14:59:15.851Z"
   },
   {
    "duration": 295,
    "start_time": "2023-02-25T14:59:16.024Z"
   },
   {
    "duration": 546,
    "start_time": "2023-02-25T15:07:45.018Z"
   },
   {
    "duration": 16,
    "start_time": "2023-02-25T15:07:45.566Z"
   },
   {
    "duration": 15,
    "start_time": "2023-02-25T15:07:45.584Z"
   },
   {
    "duration": 7,
    "start_time": "2023-02-25T15:07:45.601Z"
   },
   {
    "duration": 19,
    "start_time": "2023-02-25T15:07:45.610Z"
   },
   {
    "duration": 47,
    "start_time": "2023-02-25T15:07:45.631Z"
   },
   {
    "duration": 4,
    "start_time": "2023-02-25T15:07:45.680Z"
   },
   {
    "duration": 39,
    "start_time": "2023-02-25T15:07:45.686Z"
   },
   {
    "duration": 12,
    "start_time": "2023-02-25T15:07:45.727Z"
   },
   {
    "duration": 23,
    "start_time": "2023-02-25T15:07:45.741Z"
   },
   {
    "duration": 60,
    "start_time": "2023-02-25T15:07:45.766Z"
   },
   {
    "duration": 5,
    "start_time": "2023-02-25T15:07:45.828Z"
   },
   {
    "duration": 20,
    "start_time": "2023-02-25T15:07:45.835Z"
   },
   {
    "duration": 20,
    "start_time": "2023-02-25T15:07:45.859Z"
   },
   {
    "duration": 27,
    "start_time": "2023-02-25T15:07:45.881Z"
   },
   {
    "duration": 6,
    "start_time": "2023-02-25T15:07:45.910Z"
   },
   {
    "duration": 15,
    "start_time": "2023-02-25T15:07:45.918Z"
   },
   {
    "duration": 5,
    "start_time": "2023-02-25T15:07:45.935Z"
   },
   {
    "duration": 7,
    "start_time": "2023-02-25T15:07:45.942Z"
   },
   {
    "duration": 12,
    "start_time": "2023-02-25T15:07:45.951Z"
   },
   {
    "duration": 434,
    "start_time": "2023-02-25T15:07:45.964Z"
   },
   {
    "duration": 7,
    "start_time": "2023-02-25T15:07:46.399Z"
   },
   {
    "duration": 107,
    "start_time": "2023-02-25T15:07:46.407Z"
   },
   {
    "duration": 33,
    "start_time": "2023-02-25T15:07:46.516Z"
   },
   {
    "duration": 522,
    "start_time": "2023-02-25T15:07:46.551Z"
   },
   {
    "duration": 47,
    "start_time": "2023-02-25T15:07:47.075Z"
   },
   {
    "duration": 18,
    "start_time": "2023-02-25T15:07:47.124Z"
   },
   {
    "duration": 10,
    "start_time": "2023-02-25T15:07:47.144Z"
   },
   {
    "duration": 14,
    "start_time": "2023-02-25T15:07:47.156Z"
   },
   {
    "duration": 32,
    "start_time": "2023-02-25T15:07:47.171Z"
   },
   {
    "duration": 27,
    "start_time": "2023-02-25T15:07:47.205Z"
   },
   {
    "duration": 7,
    "start_time": "2023-02-25T15:07:47.234Z"
   },
   {
    "duration": 275,
    "start_time": "2023-02-25T15:07:47.243Z"
   },
   {
    "duration": 165,
    "start_time": "2023-02-25T15:07:47.520Z"
   },
   {
    "duration": 31,
    "start_time": "2023-02-25T15:07:47.686Z"
   },
   {
    "duration": 267,
    "start_time": "2023-02-25T15:07:47.719Z"
   },
   {
    "duration": 162,
    "start_time": "2023-02-25T15:07:47.988Z"
   },
   {
    "duration": 198,
    "start_time": "2023-02-25T15:07:48.151Z"
   },
   {
    "duration": 5,
    "start_time": "2023-02-25T15:07:48.350Z"
   },
   {
    "duration": 238,
    "start_time": "2023-02-25T15:07:48.356Z"
   },
   {
    "duration": 285,
    "start_time": "2023-02-25T15:07:48.598Z"
   },
   {
    "duration": 3,
    "start_time": "2023-02-25T15:07:48.885Z"
   },
   {
    "duration": 200,
    "start_time": "2023-02-25T15:07:48.890Z"
   },
   {
    "duration": 202,
    "start_time": "2023-02-25T15:07:49.092Z"
   },
   {
    "duration": 188,
    "start_time": "2023-02-25T15:07:49.296Z"
   },
   {
    "duration": 192,
    "start_time": "2023-02-25T15:07:49.486Z"
   },
   {
    "duration": 170,
    "start_time": "2023-02-25T15:07:49.680Z"
   },
   {
    "duration": 281,
    "start_time": "2023-02-25T15:07:49.851Z"
   }
  ],
  "colab": {
   "name": "DA+. Сборный проект 1. Шаблон (1).ipynb",
   "provenance": []
  },
  "kernelspec": {
   "display_name": "Python 3 (ipykernel)",
   "language": "python",
   "name": "python3"
  },
  "language_info": {
   "codemirror_mode": {
    "name": "ipython",
    "version": 3
   },
   "file_extension": ".py",
   "mimetype": "text/x-python",
   "name": "python",
   "nbconvert_exporter": "python",
   "pygments_lexer": "ipython3",
   "version": "3.9.18"
  },
  "toc": {
   "base_numbering": 1,
   "nav_menu": {},
   "number_sections": true,
   "sideBar": true,
   "skip_h1_title": true,
   "title_cell": "Table of Contents",
   "title_sidebar": "Contents",
   "toc_cell": false,
   "toc_position": {
    "height": "calc(100% - 180px)",
    "left": "10px",
    "top": "150px",
    "width": "168.391px"
   },
   "toc_section_display": true,
   "toc_window_display": true
  }
 },
 "nbformat": 4,
 "nbformat_minor": 1
}
