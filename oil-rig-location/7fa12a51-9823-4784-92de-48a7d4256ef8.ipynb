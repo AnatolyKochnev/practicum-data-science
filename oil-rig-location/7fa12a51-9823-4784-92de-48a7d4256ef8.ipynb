{
 "cells": [
  {
   "cell_type": "markdown",
   "metadata": {},
   "source": [
    "# Выбор локации для скважины"
   ]
  },
  {
   "cell_type": "markdown",
   "metadata": {},
   "source": [
    "Допустим, вы работаете в добывающей компании «ГлавРосГосНефть». Нужно решить, где бурить новую скважину.\n",
    "\n",
    "Вам предоставлены пробы нефти в трёх регионах: в каждом 10 000 месторождений, где измерили качество нефти и объём её запасов. Постройте модель машинного обучения, которая поможет определить регион, где добыча принесёт наибольшую прибыль. Проанализируйте возможную прибыль и риски техникой *Bootstrap.*\n",
    "\n",
    "Шаги для выбора локации:\n",
    "\n",
    "- В избранном регионе ищут месторождения, для каждого определяют значения признаков;\n",
    "- Строят модель и оценивают объём запасов;\n",
    "- Выбирают месторождения с самым высокими оценками значений. Количество месторождений зависит от бюджета компании и стоимости разработки одной скважины;\n",
    "- Прибыль равна суммарной прибыли отобранных месторождений."
   ]
  },
  {
   "cell_type": "code",
   "execution_count": 1,
   "metadata": {},
   "outputs": [],
   "source": [
    "from sklearn.linear_model import LogisticRegression\n",
    "from sklearn.linear_model import LinearRegression\n",
    "from sklearn.metrics import f1_score\n",
    "from sklearn.metrics import roc_auc_score\n",
    "from sklearn.metrics import roc_curve\n",
    "from sklearn.metrics import confusion_matrix\n",
    "from sklearn.metrics import mean_squared_error\n",
    "from sklearn.model_selection import train_test_split\n",
    "from sklearn.model_selection import GridSearchCV\n",
    "from sklearn.model_selection import PredefinedSplit\n",
    "from sklearn.preprocessing import StandardScaler\n",
    "from sklearn.utils import shuffle\n",
    "import pandas as pd\n",
    "import numpy as np\n",
    "import pylab as pl\n",
    "import scipy.stats as st\n",
    "from numpy.random import RandomState\n",
    "import math\n",
    "\n",
    "random_state = 54321"
   ]
  },
  {
   "cell_type": "markdown",
   "metadata": {},
   "source": [
    "## Загрузка и подготовка данных"
   ]
  },
  {
   "cell_type": "markdown",
   "metadata": {},
   "source": [
    "### Анализ данных"
   ]
  },
  {
   "cell_type": "code",
   "execution_count": 2,
   "metadata": {
    "scrolled": true
   },
   "outputs": [],
   "source": [
    "data = [\n",
    "    {\n",
    "        \"raw\": pd.read_csv('/datasets/geo_data_0.csv'),\n",
    "        \"name\": \"Первый регион\"\n",
    "    },\n",
    "    {\n",
    "        \"raw\": pd.read_csv('/datasets/geo_data_1.csv'),\n",
    "        \"name\": \"Второй регион\"\n",
    "    },\n",
    "    {\n",
    "        \"raw\": pd.read_csv('/datasets/geo_data_2.csv'),\n",
    "        \"name\": \"Третий регион\"\n",
    "    }\n",
    "]"
   ]
  },
  {
   "cell_type": "code",
   "execution_count": 3,
   "metadata": {
    "scrolled": false
   },
   "outputs": [
    {
     "name": "stdout",
     "output_type": "stream",
     "text": [
      "Первый регион:\n",
      "<class 'pandas.core.frame.DataFrame'>\n",
      "RangeIndex: 100000 entries, 0 to 99999\n",
      "Data columns (total 5 columns):\n",
      " #   Column   Non-Null Count   Dtype  \n",
      "---  ------   --------------   -----  \n",
      " 0   id       100000 non-null  object \n",
      " 1   f0       100000 non-null  float64\n",
      " 2   f1       100000 non-null  float64\n",
      " 3   f2       100000 non-null  float64\n",
      " 4   product  100000 non-null  float64\n",
      "dtypes: float64(4), object(1)\n",
      "memory usage: 3.8+ MB\n",
      "\n",
      "      id        f0        f1        f2     product\n",
      "0  txEyH  0.705745 -0.497823  1.221170  105.280062\n",
      "1  2acmU  1.334711 -0.340164  4.365080   73.037750\n",
      "2  409Wp  1.022732  0.151990  1.419926   85.265647\n",
      "3  iJLyR -0.032172  0.139033  2.978566  168.620776\n",
      "4  Xdl7t  1.988431  0.155413  4.751769  154.036647\n",
      "\n",
      "\n",
      "Второй регион:\n",
      "<class 'pandas.core.frame.DataFrame'>\n",
      "RangeIndex: 100000 entries, 0 to 99999\n",
      "Data columns (total 5 columns):\n",
      " #   Column   Non-Null Count   Dtype  \n",
      "---  ------   --------------   -----  \n",
      " 0   id       100000 non-null  object \n",
      " 1   f0       100000 non-null  float64\n",
      " 2   f1       100000 non-null  float64\n",
      " 3   f2       100000 non-null  float64\n",
      " 4   product  100000 non-null  float64\n",
      "dtypes: float64(4), object(1)\n",
      "memory usage: 3.8+ MB\n",
      "\n",
      "      id         f0         f1        f2     product\n",
      "0  kBEdx -15.001348  -8.276000 -0.005876    3.179103\n",
      "1  62mP7  14.272088  -3.475083  0.999183   26.953261\n",
      "2  vyE1P   6.263187  -5.948386  5.001160  134.766305\n",
      "3  KcrkZ -13.081196 -11.506057  4.999415  137.945408\n",
      "4  AHL4O  12.702195  -8.147433  5.004363  134.766305\n",
      "\n",
      "\n",
      "Третий регион:\n",
      "<class 'pandas.core.frame.DataFrame'>\n",
      "RangeIndex: 100000 entries, 0 to 99999\n",
      "Data columns (total 5 columns):\n",
      " #   Column   Non-Null Count   Dtype  \n",
      "---  ------   --------------   -----  \n",
      " 0   id       100000 non-null  object \n",
      " 1   f0       100000 non-null  float64\n",
      " 2   f1       100000 non-null  float64\n",
      " 3   f2       100000 non-null  float64\n",
      " 4   product  100000 non-null  float64\n",
      "dtypes: float64(4), object(1)\n",
      "memory usage: 3.8+ MB\n",
      "\n",
      "      id        f0        f1        f2     product\n",
      "0  fwXo0 -1.146987  0.963328 -0.828965   27.758673\n",
      "1  WJtFt  0.262778  0.269839 -2.530187   56.069697\n",
      "2  ovLUW  0.194587  0.289035 -5.586433   62.871910\n",
      "3  q6cA6  2.236060 -0.553760  0.930038  114.572842\n",
      "4  WPMUX -0.515993  1.716266  5.899011  149.600746\n",
      "\n",
      "\n"
     ]
    }
   ],
   "source": [
    "for item in data:\n",
    "    df = item[\"raw\"]\n",
    "    print(item['name'] + \":\")\n",
    "    df.info()    \n",
    "    print()\n",
    "    print(df.head())\n",
    "    print()\n",
    "    print()"
   ]
  },
  {
   "cell_type": "markdown",
   "metadata": {},
   "source": [
    "* Колонка id идентифицирует скважину - для построения модели она не нужна и требует удаления из данных\n",
    "* В данных нет пропусков\n",
    "* Данные не требуют приведения типов\n",
    "* Все признаки числовые и не требуют кодирования\n",
    "* Заголовки колонок не требуют нормализации"
   ]
  },
  {
   "cell_type": "markdown",
   "metadata": {},
   "source": [
    "### Предобработка данных"
   ]
  },
  {
   "cell_type": "markdown",
   "metadata": {},
   "source": [
    "#### Удаление лишней колонки"
   ]
  },
  {
   "cell_type": "code",
   "execution_count": 4,
   "metadata": {},
   "outputs": [],
   "source": [
    "for item in data:\n",
    "    item[\"raw\"] = item[\"raw\"].drop(\"id\", axis=1)"
   ]
  },
  {
   "cell_type": "markdown",
   "metadata": {},
   "source": [
    "#### Обработка выбросов"
   ]
  },
  {
   "cell_type": "code",
   "execution_count": 5,
   "metadata": {},
   "outputs": [],
   "source": [
    "numeric_columns = [\n",
    "    'f0', \n",
    "    'f1', \n",
    "    'f2'  \n",
    "]"
   ]
  },
  {
   "cell_type": "code",
   "execution_count": 6,
   "metadata": {},
   "outputs": [],
   "source": [
    "hist_per_row = 3\n",
    "height_per_row = 3\n",
    "\n",
    "def check_emissions(df, numeric_columns):\n",
    "    columns_count = len(numeric_columns)\n",
    "    rows = int(columns_count / 3) + (1 if (columns_count % 3 > 0) else 0)\n",
    "    display(df[numeric_columns].describe())\n",
    "    \n",
    "    axis = df[numeric_columns].hist(bins=50, figsize=(20,height_per_row * rows), layout=(rows, hist_per_row));    \n",
    "    pl.suptitle(\"Гистограммы признаков\", y=1.05)\n",
    "    for ax in axis.flatten():\n",
    "        ax.set_xlabel(\"Значение признака\")\n",
    "        ax.set_ylabel(\"Количество скважин\")       "
   ]
  },
  {
   "cell_type": "markdown",
   "metadata": {},
   "source": [
    "##### Первый регион"
   ]
  },
  {
   "cell_type": "code",
   "execution_count": 7,
   "metadata": {
    "scrolled": false
   },
   "outputs": [
    {
     "data": {
      "text/html": [
       "<div>\n",
       "<style scoped>\n",
       "    .dataframe tbody tr th:only-of-type {\n",
       "        vertical-align: middle;\n",
       "    }\n",
       "\n",
       "    .dataframe tbody tr th {\n",
       "        vertical-align: top;\n",
       "    }\n",
       "\n",
       "    .dataframe thead th {\n",
       "        text-align: right;\n",
       "    }\n",
       "</style>\n",
       "<table border=\"1\" class=\"dataframe\">\n",
       "  <thead>\n",
       "    <tr style=\"text-align: right;\">\n",
       "      <th></th>\n",
       "      <th>f0</th>\n",
       "      <th>f1</th>\n",
       "      <th>f2</th>\n",
       "    </tr>\n",
       "  </thead>\n",
       "  <tbody>\n",
       "    <tr>\n",
       "      <th>count</th>\n",
       "      <td>100000.000000</td>\n",
       "      <td>100000.000000</td>\n",
       "      <td>100000.000000</td>\n",
       "    </tr>\n",
       "    <tr>\n",
       "      <th>mean</th>\n",
       "      <td>0.500419</td>\n",
       "      <td>0.250143</td>\n",
       "      <td>2.502647</td>\n",
       "    </tr>\n",
       "    <tr>\n",
       "      <th>std</th>\n",
       "      <td>0.871832</td>\n",
       "      <td>0.504433</td>\n",
       "      <td>3.248248</td>\n",
       "    </tr>\n",
       "    <tr>\n",
       "      <th>min</th>\n",
       "      <td>-1.408605</td>\n",
       "      <td>-0.848218</td>\n",
       "      <td>-12.088328</td>\n",
       "    </tr>\n",
       "    <tr>\n",
       "      <th>25%</th>\n",
       "      <td>-0.072580</td>\n",
       "      <td>-0.200881</td>\n",
       "      <td>0.287748</td>\n",
       "    </tr>\n",
       "    <tr>\n",
       "      <th>50%</th>\n",
       "      <td>0.502360</td>\n",
       "      <td>0.250252</td>\n",
       "      <td>2.515969</td>\n",
       "    </tr>\n",
       "    <tr>\n",
       "      <th>75%</th>\n",
       "      <td>1.073581</td>\n",
       "      <td>0.700646</td>\n",
       "      <td>4.715088</td>\n",
       "    </tr>\n",
       "    <tr>\n",
       "      <th>max</th>\n",
       "      <td>2.362331</td>\n",
       "      <td>1.343769</td>\n",
       "      <td>16.003790</td>\n",
       "    </tr>\n",
       "  </tbody>\n",
       "</table>\n",
       "</div>"
      ],
      "text/plain": [
       "                  f0             f1             f2\n",
       "count  100000.000000  100000.000000  100000.000000\n",
       "mean        0.500419       0.250143       2.502647\n",
       "std         0.871832       0.504433       3.248248\n",
       "min        -1.408605      -0.848218     -12.088328\n",
       "25%        -0.072580      -0.200881       0.287748\n",
       "50%         0.502360       0.250252       2.515969\n",
       "75%         1.073581       0.700646       4.715088\n",
       "max         2.362331       1.343769      16.003790"
      ]
     },
     "metadata": {},
     "output_type": "display_data"
    },
    {
     "data": {
      "image/png": "[encoded data removed]",
      "text/plain": [
       "<Figure size 1440x216 with 3 Axes>"
      ]
     },
     "metadata": {
      "needs_background": "light"
     },
     "output_type": "display_data"
    }
   ],
   "source": [
    "check_emissions(data[0]['raw'], numeric_columns)"
   ]
  },
  {
   "cell_type": "markdown",
   "metadata": {},
   "source": [
    "Нет явных выбросов, которые требовалось бы устранять."
   ]
  },
  {
   "cell_type": "markdown",
   "metadata": {},
   "source": [
    "##### Второй регион"
   ]
  },
  {
   "cell_type": "code",
   "execution_count": 8,
   "metadata": {
    "scrolled": false
   },
   "outputs": [
    {
     "data": {
      "text/html": [
       "<div>\n",
       "<style scoped>\n",
       "    .dataframe tbody tr th:only-of-type {\n",
       "        vertical-align: middle;\n",
       "    }\n",
       "\n",
       "    .dataframe tbody tr th {\n",
       "        vertical-align: top;\n",
       "    }\n",
       "\n",
       "    .dataframe thead th {\n",
       "        text-align: right;\n",
       "    }\n",
       "</style>\n",
       "<table border=\"1\" class=\"dataframe\">\n",
       "  <thead>\n",
       "    <tr style=\"text-align: right;\">\n",
       "      <th></th>\n",
       "      <th>f0</th>\n",
       "      <th>f1</th>\n",
       "      <th>f2</th>\n",
       "    </tr>\n",
       "  </thead>\n",
       "  <tbody>\n",
       "    <tr>\n",
       "      <th>count</th>\n",
       "      <td>100000.000000</td>\n",
       "      <td>100000.000000</td>\n",
       "      <td>100000.000000</td>\n",
       "    </tr>\n",
       "    <tr>\n",
       "      <th>mean</th>\n",
       "      <td>1.141296</td>\n",
       "      <td>-4.796579</td>\n",
       "      <td>2.494541</td>\n",
       "    </tr>\n",
       "    <tr>\n",
       "      <th>std</th>\n",
       "      <td>8.965932</td>\n",
       "      <td>5.119872</td>\n",
       "      <td>1.703572</td>\n",
       "    </tr>\n",
       "    <tr>\n",
       "      <th>min</th>\n",
       "      <td>-31.609576</td>\n",
       "      <td>-26.358598</td>\n",
       "      <td>-0.018144</td>\n",
       "    </tr>\n",
       "    <tr>\n",
       "      <th>25%</th>\n",
       "      <td>-6.298551</td>\n",
       "      <td>-8.267985</td>\n",
       "      <td>1.000021</td>\n",
       "    </tr>\n",
       "    <tr>\n",
       "      <th>50%</th>\n",
       "      <td>1.153055</td>\n",
       "      <td>-4.813172</td>\n",
       "      <td>2.011479</td>\n",
       "    </tr>\n",
       "    <tr>\n",
       "      <th>75%</th>\n",
       "      <td>8.621015</td>\n",
       "      <td>-1.332816</td>\n",
       "      <td>3.999904</td>\n",
       "    </tr>\n",
       "    <tr>\n",
       "      <th>max</th>\n",
       "      <td>29.421755</td>\n",
       "      <td>18.734063</td>\n",
       "      <td>5.019721</td>\n",
       "    </tr>\n",
       "  </tbody>\n",
       "</table>\n",
       "</div>"
      ],
      "text/plain": [
       "                  f0             f1             f2\n",
       "count  100000.000000  100000.000000  100000.000000\n",
       "mean        1.141296      -4.796579       2.494541\n",
       "std         8.965932       5.119872       1.703572\n",
       "min       -31.609576     -26.358598      -0.018144\n",
       "25%        -6.298551      -8.267985       1.000021\n",
       "50%         1.153055      -4.813172       2.011479\n",
       "75%         8.621015      -1.332816       3.999904\n",
       "max        29.421755      18.734063       5.019721"
      ]
     },
     "metadata": {},
     "output_type": "display_data"
    },
    {
     "data": {
      "image/png": "[encoded data removed]",
      "text/plain": [
       "<Figure size 1440x216 with 3 Axes>"
      ]
     },
     "metadata": {
      "needs_background": "light"
     },
     "output_type": "display_data"
    }
   ],
   "source": [
    "check_emissions(data[1]['raw'], numeric_columns)"
   ]
  },
  {
   "cell_type": "markdown",
   "metadata": {},
   "source": [
    "Выбросов нет, хотя f2 вызывает некоторое беспокойство."
   ]
  },
  {
   "cell_type": "markdown",
   "metadata": {},
   "source": [
    "##### Третий регион"
   ]
  },
  {
   "cell_type": "code",
   "execution_count": 9,
   "metadata": {
    "scrolled": false
   },
   "outputs": [
    {
     "data": {
      "text/html": [
       "<div>\n",
       "<style scoped>\n",
       "    .dataframe tbody tr th:only-of-type {\n",
       "        vertical-align: middle;\n",
       "    }\n",
       "\n",
       "    .dataframe tbody tr th {\n",
       "        vertical-align: top;\n",
       "    }\n",
       "\n",
       "    .dataframe thead th {\n",
       "        text-align: right;\n",
       "    }\n",
       "</style>\n",
       "<table border=\"1\" class=\"dataframe\">\n",
       "  <thead>\n",
       "    <tr style=\"text-align: right;\">\n",
       "      <th></th>\n",
       "      <th>f0</th>\n",
       "      <th>f1</th>\n",
       "      <th>f2</th>\n",
       "    </tr>\n",
       "  </thead>\n",
       "  <tbody>\n",
       "    <tr>\n",
       "      <th>count</th>\n",
       "      <td>100000.000000</td>\n",
       "      <td>100000.000000</td>\n",
       "      <td>100000.000000</td>\n",
       "    </tr>\n",
       "    <tr>\n",
       "      <th>mean</th>\n",
       "      <td>0.002023</td>\n",
       "      <td>-0.002081</td>\n",
       "      <td>2.495128</td>\n",
       "    </tr>\n",
       "    <tr>\n",
       "      <th>std</th>\n",
       "      <td>1.732045</td>\n",
       "      <td>1.730417</td>\n",
       "      <td>3.473445</td>\n",
       "    </tr>\n",
       "    <tr>\n",
       "      <th>min</th>\n",
       "      <td>-8.760004</td>\n",
       "      <td>-7.084020</td>\n",
       "      <td>-11.970335</td>\n",
       "    </tr>\n",
       "    <tr>\n",
       "      <th>25%</th>\n",
       "      <td>-1.162288</td>\n",
       "      <td>-1.174820</td>\n",
       "      <td>0.130359</td>\n",
       "    </tr>\n",
       "    <tr>\n",
       "      <th>50%</th>\n",
       "      <td>0.009424</td>\n",
       "      <td>-0.009482</td>\n",
       "      <td>2.484236</td>\n",
       "    </tr>\n",
       "    <tr>\n",
       "      <th>75%</th>\n",
       "      <td>1.158535</td>\n",
       "      <td>1.163678</td>\n",
       "      <td>4.858794</td>\n",
       "    </tr>\n",
       "    <tr>\n",
       "      <th>max</th>\n",
       "      <td>7.238262</td>\n",
       "      <td>7.844801</td>\n",
       "      <td>16.739402</td>\n",
       "    </tr>\n",
       "  </tbody>\n",
       "</table>\n",
       "</div>"
      ],
      "text/plain": [
       "                  f0             f1             f2\n",
       "count  100000.000000  100000.000000  100000.000000\n",
       "mean        0.002023      -0.002081       2.495128\n",
       "std         1.732045       1.730417       3.473445\n",
       "min        -8.760004      -7.084020     -11.970335\n",
       "25%        -1.162288      -1.174820       0.130359\n",
       "50%         0.009424      -0.009482       2.484236\n",
       "75%         1.158535       1.163678       4.858794\n",
       "max         7.238262       7.844801      16.739402"
      ]
     },
     "metadata": {},
     "output_type": "display_data"
    },
    {
     "data": {
      "image/png": "[encoded data removed]",
      "text/plain": [
       "<Figure size 1440x216 with 3 Axes>"
      ]
     },
     "metadata": {
      "needs_background": "light"
     },
     "output_type": "display_data"
    }
   ],
   "source": [
    "check_emissions(data[2]['raw'], numeric_columns)"
   ]
  },
  {
   "cell_type": "markdown",
   "metadata": {},
   "source": [
    "Нет явных выбросов требующих устранения."
   ]
  },
  {
   "cell_type": "markdown",
   "metadata": {},
   "source": [
    "#### Разбивка данных"
   ]
  },
  {
   "cell_type": "code",
   "execution_count": 10,
   "metadata": {},
   "outputs": [],
   "source": [
    "for item in data:\n",
    "    df = item['raw']\n",
    "    features = df.drop('product', axis=1)\n",
    "    target = df['product']\n",
    "    \n",
    "    features_train, features_valid, target_train, target_valid = train_test_split(\n",
    "        features,\n",
    "        target,\n",
    "        test_size=0.25,\n",
    "        random_state=random_state\n",
    "    )\n",
    "    \n",
    "    item['train'] = {\n",
    "        'features': features_train,\n",
    "        'target': target_train\n",
    "    }\n",
    "    item['valid'] = {\n",
    "        'features': features_valid,\n",
    "        'target': target_valid\n",
    "    }"
   ]
  },
  {
   "cell_type": "markdown",
   "metadata": {},
   "source": [
    "##### Проверка разбивки"
   ]
  },
  {
   "cell_type": "code",
   "execution_count": 11,
   "metadata": {
    "scrolled": true
   },
   "outputs": [
    {
     "name": "stdout",
     "output_type": "stream",
     "text": [
      "Первый регион:\n",
      "features train: (75000, 3)\n",
      "target train: (75000, 3)\n",
      "features valid: (25000, 3)\n",
      "target valid: (25000,)\n",
      "\n",
      "Второй регион:\n",
      "features train: (75000, 3)\n",
      "target train: (75000, 3)\n",
      "features valid: (25000, 3)\n",
      "target valid: (25000,)\n",
      "\n",
      "Третий регион:\n",
      "features train: (75000, 3)\n",
      "target train: (75000, 3)\n",
      "features valid: (25000, 3)\n",
      "target valid: (25000,)\n",
      "\n"
     ]
    }
   ],
   "source": [
    "for item in data:\n",
    "    print(item['name'] + ':')\n",
    "    print('features train:', item['train']['features'].shape)\n",
    "    print('target train:', item['train']['features'].shape)\n",
    "    print('features valid:', item['valid']['features'].shape)\n",
    "    print('target valid:', item['valid']['target'].shape)\n",
    "    print()"
   ]
  },
  {
   "cell_type": "markdown",
   "metadata": {},
   "source": [
    "Все правильно: тренировочная выборка - 75%, валидационная - 25%"
   ]
  },
  {
   "cell_type": "markdown",
   "metadata": {},
   "source": [
    "##### Масштабирование"
   ]
  },
  {
   "cell_type": "code",
   "execution_count": 12,
   "metadata": {},
   "outputs": [],
   "source": [
    "pd.options.mode.chained_assignment = None\n",
    "for item in data:\n",
    "    scaler = StandardScaler()\n",
    "    item['train']['features'] = scaler.fit_transform(item['train']['features'])\n",
    "    item['valid']['features'] = scaler.transform(item['valid']['features'])"
   ]
  },
  {
   "cell_type": "markdown",
   "metadata": {},
   "source": [
    "## Обучение и проверка модели"
   ]
  },
  {
   "cell_type": "code",
   "execution_count": 13,
   "metadata": {
    "scrolled": true
   },
   "outputs": [
    {
     "name": "stdout",
     "output_type": "stream",
     "text": [
      "Первый регион:\n",
      "Средний запас предсказанного сырья: 92.15921155743655\n",
      "Средний запас реальный: 92.58379661728391\n",
      "rmse: 37.68341093860808\n",
      "\n",
      "Второй регион:\n",
      "Средний запас предсказанного сырья: 68.44594093153303\n",
      "Средний запас реальный: 68.44435360774597\n",
      "rmse: 0.8922819708481475\n",
      "\n",
      "Третий регион:\n",
      "Средний запас предсказанного сырья: 94.92229500787454\n",
      "Средний запас реальный: 95.07834473652275\n",
      "rmse: 40.15250541784856\n",
      "\n"
     ]
    }
   ],
   "source": [
    "for item in data:\n",
    "    model = LinearRegression()\n",
    "    model.fit(item['train']['features'], item['train']['target'])\n",
    "    predicted = model.predict(item['valid']['features'])\n",
    "    \n",
    "    item['valid']['result'] = pd.DataFrame({\n",
    "        'target': item['valid']['target'],\n",
    "        'predicted': predicted \n",
    "    })\n",
    "    \n",
    "    print(item['name'] + ':')\n",
    "    print('Средний запас предсказанного сырья:', predicted.mean())\n",
    "    print('Средний запас реальный:', item['valid']['target'].mean())\n",
    "    print('rmse:', mean_squared_error(item['valid']['target'], predicted, squared=False))\n",
    "    print()\n",
    "    "
   ]
  },
  {
   "cell_type": "markdown",
   "metadata": {},
   "source": [
    "Средний запас по региону вычисляется точно.\n",
    "\n",
    "Однако rmse оказался высоким для первого и третьего регионов - с их моделями могут быть проблемы."
   ]
  },
  {
   "cell_type": "markdown",
   "metadata": {},
   "source": [
    "## Подготовка к расчёту прибыли"
   ]
  },
  {
   "cell_type": "code",
   "execution_count": 14,
   "metadata": {},
   "outputs": [],
   "source": [
    "total_points_per_region = 500\n",
    "required_best_points = 200\n",
    "budget_per_region = 10000000000\n",
    "income_per_barrel = 450\n",
    "barrel_per_product = 1000\n",
    "income_per_product = income_per_barrel * barrel_per_product\n",
    "bootstrap_samples_count = 1000\n",
    "max_loss_probability = 0.025"
   ]
  },
  {
   "cell_type": "code",
   "execution_count": 15,
   "metadata": {
    "scrolled": true
   },
   "outputs": [
    {
     "name": "stdout",
     "output_type": "stream",
     "text": [
      "Средний бюджет на скважину: 50,000,000\n",
      "Средний требующийся объем продукта со скважины для покрытия бюджета: 111\n"
     ]
    }
   ],
   "source": [
    "budget_per_point = budget_per_region / required_best_points\n",
    "lossless_product_amount = int(budget_per_point / income_per_product)\n",
    "\n",
    "print(\"Средний бюджет на скважину: {:,.0f}\".format(budget_per_point))\n",
    "print(\"Средний требующийся объем продукта со скважины для покрытия бюджета:\", lossless_product_amount)"
   ]
  },
  {
   "cell_type": "markdown",
   "metadata": {},
   "source": [
    "Средний реальный объем со скважин ниже требующегося объема. Если геологи выберут неудачные скважины, то хороший регион может быть пропущен.\n",
    "\n",
    "На всякий случай можно проверить, что в данных по представленным регионам есть подходящие скважины."
   ]
  },
  {
   "cell_type": "code",
   "execution_count": 16,
   "metadata": {},
   "outputs": [
    {
     "name": "stdout",
     "output_type": "stream",
     "text": [
      "36676\n",
      "16537\n",
      "38278\n"
     ]
    }
   ],
   "source": [
    "for item in data:\n",
    "    print(item['raw'].query('product > ' + str(lossless_product_amount))['product'].count())"
   ]
  },
  {
   "cell_type": "markdown",
   "metadata": {},
   "source": [
    "Шанс найти подходящие скважины - не больше 38%. Но, в любом случае, для безубыточности требуется не 200 скважин по 111 \"продукта\", а 200x111 \"продукта\" на 200 скважин "
   ]
  },
  {
   "cell_type": "markdown",
   "metadata": {},
   "source": [
    "### Функция расчета прибыли"
   ]
  },
  {
   "cell_type": "code",
   "execution_count": 17,
   "metadata": {},
   "outputs": [],
   "source": [
    "def calculate_profit(target_with_prediction):\n",
    "    best_predicted_points = target_with_prediction.sort_values('predicted', ascending=False).iloc[:required_best_points]\n",
    "    total_product = best_predicted_points['target'].sum()\n",
    "    total_income = total_product * income_per_product\n",
    "    return total_income - budget_per_region"
   ]
  },
  {
   "cell_type": "code",
   "execution_count": 18,
   "metadata": {
    "scrolled": true
   },
   "outputs": [
    {
     "name": "stdout",
     "output_type": "stream",
     "text": [
      "Первый регион, доход лучших предсказанных скважин: 3,178,631,596\n",
      "Второй регион, доход лучших предсказанных скважин: 2,415,086,697\n",
      "Третий регион, доход лучших предсказанных скважин: 2,413,785,636\n"
     ]
    }
   ],
   "source": [
    "for item in data:\n",
    "    profit = calculate_profit(item['valid']['result'])\n",
    "    print(item['name'] + ',', 'доход лучших предсказанных скважин: {:,.0f}'.format(profit))"
   ]
  },
  {
   "cell_type": "markdown",
   "metadata": {},
   "source": [
    "Если бы геологи могли исследовать в регионе сразу по 25000 скважин, то прибыль с лучших 200 была бы колоссальной."
   ]
  },
  {
   "cell_type": "markdown",
   "metadata": {},
   "source": [
    "## Расчёт прибыли и рисков "
   ]
  },
  {
   "cell_type": "code",
   "execution_count": 19,
   "metadata": {},
   "outputs": [],
   "source": [
    "def test_income(points_per_region):\n",
    "    profit_per_region = pd.DataFrame()    \n",
    "    \n",
    "    for item in data:\n",
    "        profit = []\n",
    "        samples_source = item['valid']['result']\n",
    "        random = RandomState(random_state)\n",
    "\n",
    "        for i in range(0, bootstrap_samples_count):\n",
    "            sample = samples_source.sample(points_per_region, replace=True, random_state=random)\n",
    "            sample_profit = calculate_profit(sample) / 1000000\n",
    "            profit.append(sample_profit)\n",
    "\n",
    "        asSeries = pd.Series(profit, name=item['name'])\n",
    "        losses_probability = asSeries[asSeries < 0].count() / bootstrap_samples_count\n",
    "        trusted_interval = st.norm.interval(0.95, loc=asSeries.mean(), scale=asSeries.sem())\n",
    "        profit_per_region = profit_per_region.join(asSeries, how='right')\n",
    "\n",
    "        print(item['name'])\n",
    "        print('Средняя прибыль: {:,.0f} млн.'.format(asSeries.mean()))\n",
    "        print('Вероятность убытков: {:.2f}%'.format(losses_probability * 100, 2))\n",
    "        print('Доверительный интервал:', '{:,.0f} млн.'.format(trusted_interval[0]), '-', '{:,.0f} млн.'.format(trusted_interval[1]))\n",
    "        print()\n",
    "    \n",
    "    axis = profit_per_region.hist(bins=20, figsize=(20, height_per_row), layout=(1, hist_per_row), sharey=True, sharex=True)  \n",
    "    pl.suptitle(\"Гистограммы прибыли по регионам\", y=1.05)        \n",
    "    for ax in axis.flatten():\n",
    "        ax.set_xlabel(\"Прибыль, млн.\")\n",
    "        ax.set_ylabel(\"Количество скважин\")"
   ]
  },
  {
   "cell_type": "code",
   "execution_count": 20,
   "metadata": {
    "scrolled": false
   },
   "outputs": [
    {
     "name": "stdout",
     "output_type": "stream",
     "text": [
      "Первый регион\n",
      "Средняя прибыль: 378 млн.\n",
      "Вероятность убытков: 6.80%\n",
      "Доверительный интервал: 363 млн. - 394 млн.\n",
      "\n",
      "Второй регион\n",
      "Средняя прибыль: 411 млн.\n",
      "Вероятность убытков: 2.10%\n",
      "Доверительный интервал: 399 млн. - 424 млн.\n",
      "\n",
      "Третий регион\n",
      "Средняя прибыль: 397 млн.\n",
      "Вероятность убытков: 7.60%\n",
      "Доверительный интервал: 380 млн. - 413 млн.\n",
      "\n"
     ]
    },
    {
     "data": {
      "image/png": "[encoded data removed]",
      "text/plain": [
       "<Figure size 1440x216 with 3 Axes>"
      ]
     },
     "metadata": {
      "needs_background": "light"
     },
     "output_type": "display_data"
    }
   ],
   "source": [
    "test_income(total_points_per_region)"
   ]
  },
  {
   "cell_type": "markdown",
   "metadata": {},
   "source": [
    "Сокращение выборок с 25000 до 500 привело к тому, что прогнозируемая прибыль упала в 10 раз.\n",
    "\n",
    "Наибольшую прибыль принесет второй район. Также, у него и наименьшая вероятность убытков. Поэтому, второй регион можно посоветовать разрабатывать. Остальные регионы не преодолевают целевую вероятность убытков в 2,5%"
   ]
  },
  {
   "cell_type": "markdown",
   "metadata": {},
   "source": [
    "### Увеличение выборки скважин"
   ]
  },
  {
   "cell_type": "markdown",
   "metadata": {},
   "source": [
    "Вычисления показали, что потенциальная прибыль зависит от размера исследованных на старте скважин. Так, исследование 25000 скважин (что в реальности невозможно) позволяет удесетерить доход относительно исследования 500 скважин. Но, возможно, увеличить прибыль реально меньшими силами. Стоит попробовать увеличить стартовую выборку не в 10+ раз, а, например, на 50%:"
   ]
  },
  {
   "cell_type": "code",
   "execution_count": 21,
   "metadata": {
    "scrolled": false
   },
   "outputs": [
    {
     "name": "stdout",
     "output_type": "stream",
     "text": [
      "Первый регион\n",
      "Средняя прибыль: 914 млн.\n",
      "Вероятность убытков: 0.00%\n",
      "Доверительный интервал: 899 млн. - 929 млн.\n",
      "\n",
      "Второй регион\n",
      "Средняя прибыль: 1,347 млн.\n",
      "Вероятность убытков: 0.00%\n",
      "Доверительный интервал: 1,339 млн. - 1,355 млн.\n",
      "\n",
      "Третий регион\n",
      "Средняя прибыль: 871 млн.\n",
      "Вероятность убытков: 0.10%\n",
      "Доверительный интервал: 855 млн. - 887 млн.\n",
      "\n"
     ]
    },
    {
     "data": {
      "image/png": "[encoded data removed]",
      "text/plain": [
       "<Figure size 1440x216 with 3 Axes>"
      ]
     },
     "metadata": {
      "needs_background": "light"
     },
     "output_type": "display_data"
    }
   ],
   "source": [
    "test_income(750)"
   ]
  },
  {
   "cell_type": "markdown",
   "metadata": {},
   "source": [
    "Увеличение выборки всего в полтора раза позволяет найти больше хороших скважин и увеличить прибыль с лучших 200 в 2-3 раза."
   ]
  },
  {
   "cell_type": "markdown",
   "metadata": {},
   "source": [
    "## Итоги"
   ]
  },
  {
   "cell_type": "markdown",
   "metadata": {},
   "source": [
    "* Предоставленные исходные данные были высокого качества и практически не потребовали предобработки.\n",
    "* Второй регион преодолел планку в 2.5% вероятности убытков и может быть посоветован для разработки.\n",
    "* Увеличение стартовой выборки скважин с 500 до 750 может позволить увеличить стартовую прибыль в 2-3 раза."
   ]
  }
 ],
 "metadata": {
  "ExecuteTimeLog": [
   {
    "duration": 52,
    "start_time": "2023-06-01T09:51:34.214Z"
   },
   {
    "duration": 447,
    "start_time": "2023-06-01T09:51:38.049Z"
   },
   {
    "duration": 3,
    "start_time": "2023-06-01T09:51:38.851Z"
   },
   {
    "duration": 2479,
    "start_time": "2023-06-01T09:51:40.447Z"
   },
   {
    "duration": 292,
    "start_time": "2023-06-01T09:52:26.548Z"
   },
   {
    "duration": 192,
    "start_time": "2023-06-01T11:41:41.289Z"
   },
   {
    "duration": 1532,
    "start_time": "2023-06-02T03:14:47.053Z"
   },
   {
    "duration": 4,
    "start_time": "2023-06-02T03:15:03.053Z"
   },
   {
    "duration": 116,
    "start_time": "2023-06-02T03:16:30.975Z"
   },
   {
    "duration": 212,
    "start_time": "2023-06-02T03:16:40.519Z"
   },
   {
    "duration": 56,
    "start_time": "2023-06-02T03:18:01.276Z"
   },
   {
    "duration": 11,
    "start_time": "2023-06-02T03:18:45.940Z"
   },
   {
    "duration": 45,
    "start_time": "2023-06-02T03:18:52.900Z"
   },
   {
    "duration": 145,
    "start_time": "2023-06-02T03:19:07.831Z"
   },
   {
    "duration": 130,
    "start_time": "2023-06-02T03:21:35.147Z"
   },
   {
    "duration": 148,
    "start_time": "2023-06-02T03:22:44.941Z"
   },
   {
    "duration": 5,
    "start_time": "2023-06-02T03:24:50.608Z"
   },
   {
    "duration": 40,
    "start_time": "2023-06-02T03:26:36.900Z"
   },
   {
    "duration": 15,
    "start_time": "2023-06-02T03:27:47.915Z"
   },
   {
    "duration": 13,
    "start_time": "2023-06-02T03:28:15.432Z"
   },
   {
    "duration": 9,
    "start_time": "2023-06-02T03:28:34.149Z"
   },
   {
    "duration": 5,
    "start_time": "2023-06-02T03:28:44.816Z"
   },
   {
    "duration": 12,
    "start_time": "2023-06-02T03:35:39.695Z"
   },
   {
    "duration": 3,
    "start_time": "2023-06-02T03:35:45.178Z"
   },
   {
    "duration": 9,
    "start_time": "2023-06-02T03:35:54.541Z"
   },
   {
    "duration": 19,
    "start_time": "2023-06-02T03:36:15.213Z"
   },
   {
    "duration": 41,
    "start_time": "2023-06-02T03:36:34.204Z"
   },
   {
    "duration": 16,
    "start_time": "2023-06-02T03:36:37.541Z"
   },
   {
    "duration": 19,
    "start_time": "2023-06-02T03:36:49.459Z"
   },
   {
    "duration": 16,
    "start_time": "2023-06-02T03:38:35.655Z"
   },
   {
    "duration": 12,
    "start_time": "2023-06-02T03:39:01.767Z"
   },
   {
    "duration": 39,
    "start_time": "2023-06-02T03:42:49.456Z"
   },
   {
    "duration": 13,
    "start_time": "2023-06-02T03:43:55.144Z"
   },
   {
    "duration": 13,
    "start_time": "2023-06-02T03:44:02.653Z"
   },
   {
    "duration": 14,
    "start_time": "2023-06-02T03:44:37.739Z"
   },
   {
    "duration": 12,
    "start_time": "2023-06-02T03:44:47.748Z"
   },
   {
    "duration": 4,
    "start_time": "2023-06-02T03:46:02.977Z"
   },
   {
    "duration": 24,
    "start_time": "2023-06-02T03:46:21.665Z"
   },
   {
    "duration": 19,
    "start_time": "2023-06-02T03:55:17.957Z"
   },
   {
    "duration": 20,
    "start_time": "2023-06-02T03:56:29.676Z"
   },
   {
    "duration": 18,
    "start_time": "2023-06-02T03:56:44.889Z"
   },
   {
    "duration": 28,
    "start_time": "2023-06-02T03:57:29.447Z"
   },
   {
    "duration": 26,
    "start_time": "2023-06-02T03:58:05.656Z"
   },
   {
    "duration": 25,
    "start_time": "2023-06-02T03:58:21.231Z"
   },
   {
    "duration": 45,
    "start_time": "2023-06-02T03:58:32.165Z"
   },
   {
    "duration": 16,
    "start_time": "2023-06-02T03:58:46.074Z"
   },
   {
    "duration": 150,
    "start_time": "2023-06-02T03:59:22.542Z"
   },
   {
    "duration": 18,
    "start_time": "2023-06-02T03:59:27.504Z"
   },
   {
    "duration": 13,
    "start_time": "2023-06-02T03:59:51.454Z"
   },
   {
    "duration": 13,
    "start_time": "2023-06-02T03:59:57.609Z"
   },
   {
    "duration": 13,
    "start_time": "2023-06-02T04:00:06.640Z"
   },
   {
    "duration": 144,
    "start_time": "2023-06-02T06:17:22.381Z"
   },
   {
    "duration": 165,
    "start_time": "2023-06-02T06:17:32.509Z"
   },
   {
    "duration": 149,
    "start_time": "2023-06-02T06:17:46.715Z"
   },
   {
    "duration": 14,
    "start_time": "2023-06-02T06:18:31.853Z"
   },
   {
    "duration": 810,
    "start_time": "2023-06-02T06:18:52.824Z"
   },
   {
    "duration": 58,
    "start_time": "2023-06-02T06:18:58.560Z"
   },
   {
    "duration": 69,
    "start_time": "2023-06-02T06:19:15.791Z"
   },
   {
    "duration": 53,
    "start_time": "2023-06-02T06:19:25.916Z"
   },
   {
    "duration": 408,
    "start_time": "2023-06-02T06:20:00.710Z"
   },
   {
    "duration": 45,
    "start_time": "2023-06-02T06:20:02.414Z"
   },
   {
    "duration": 55,
    "start_time": "2023-06-02T06:20:47.149Z"
   },
   {
    "duration": 10,
    "start_time": "2023-06-02T06:30:31.370Z"
   },
   {
    "duration": 1411,
    "start_time": "2023-06-02T06:32:56.646Z"
   },
   {
    "duration": 1330,
    "start_time": "2023-06-02T06:33:43.451Z"
   },
   {
    "duration": 3,
    "start_time": "2023-06-02T06:37:24.522Z"
   },
   {
    "duration": 3,
    "start_time": "2023-06-02T06:38:17.474Z"
   },
   {
    "duration": 439,
    "start_time": "2023-06-02T06:39:00.727Z"
   },
   {
    "duration": 528,
    "start_time": "2023-06-02T06:39:13.332Z"
   },
   {
    "duration": 429,
    "start_time": "2023-06-02T06:39:20.664Z"
   },
   {
    "duration": 416,
    "start_time": "2023-06-02T06:39:26.273Z"
   },
   {
    "duration": 487,
    "start_time": "2023-06-02T06:41:20.019Z"
   },
   {
    "duration": 522,
    "start_time": "2023-06-02T06:41:45.059Z"
   },
   {
    "duration": 818,
    "start_time": "2023-06-02T06:41:54.653Z"
   },
   {
    "duration": 617,
    "start_time": "2023-06-02T06:42:18.109Z"
   },
   {
    "duration": 4679,
    "start_time": "2023-06-02T06:42:23.751Z"
   },
   {
    "duration": 1109,
    "start_time": "2023-06-02T06:42:33.942Z"
   },
   {
    "duration": 598,
    "start_time": "2023-06-02T06:42:40.240Z"
   },
   {
    "duration": 511,
    "start_time": "2023-06-02T06:44:28.623Z"
   },
   {
    "duration": 676,
    "start_time": "2023-06-02T06:46:19.253Z"
   },
   {
    "duration": 591,
    "start_time": "2023-06-02T06:46:22.262Z"
   },
   {
    "duration": 4,
    "start_time": "2023-06-02T06:51:37.773Z"
   },
   {
    "duration": 4,
    "start_time": "2023-06-02T06:51:39.672Z"
   },
   {
    "duration": 32,
    "start_time": "2023-06-02T06:54:37.860Z"
   },
   {
    "duration": 10,
    "start_time": "2023-06-02T06:55:08.112Z"
   },
   {
    "duration": 485,
    "start_time": "2023-06-02T06:55:08.124Z"
   },
   {
    "duration": 51,
    "start_time": "2023-06-02T06:55:08.623Z"
   },
   {
    "duration": 72,
    "start_time": "2023-06-02T06:55:08.676Z"
   },
   {
    "duration": 16,
    "start_time": "2023-06-02T06:55:08.751Z"
   },
   {
    "duration": 629,
    "start_time": "2023-06-02T06:55:08.769Z"
   },
   {
    "duration": 719,
    "start_time": "2023-06-02T06:55:09.418Z"
   },
   {
    "duration": 619,
    "start_time": "2023-06-02T06:55:10.142Z"
   },
   {
    "duration": 39,
    "start_time": "2023-06-02T06:55:16.234Z"
   },
   {
    "duration": 34,
    "start_time": "2023-06-02T06:55:35.571Z"
   },
   {
    "duration": 23,
    "start_time": "2023-06-02T07:01:07.842Z"
   },
   {
    "duration": 4,
    "start_time": "2023-06-02T07:53:42.848Z"
   },
   {
    "duration": 39,
    "start_time": "2023-06-02T07:53:49.663Z"
   },
   {
    "duration": 18,
    "start_time": "2023-06-02T07:54:03.048Z"
   },
   {
    "duration": 5,
    "start_time": "2023-06-02T07:54:11.551Z"
   },
   {
    "duration": 112,
    "start_time": "2023-06-02T07:54:17.207Z"
   },
   {
    "duration": 40,
    "start_time": "2023-06-02T07:54:25.675Z"
   },
   {
    "duration": 56,
    "start_time": "2023-06-02T09:07:49.146Z"
   },
   {
    "duration": 91,
    "start_time": "2023-06-02T09:09:29.712Z"
   },
   {
    "duration": 104,
    "start_time": "2023-06-02T09:09:39.412Z"
   },
   {
    "duration": 54,
    "start_time": "2023-06-02T09:09:44.180Z"
   },
   {
    "duration": 1336,
    "start_time": "2023-06-02T09:11:24.768Z"
   },
   {
    "duration": 480,
    "start_time": "2023-06-02T09:11:26.115Z"
   },
   {
    "duration": 52,
    "start_time": "2023-06-02T09:11:26.596Z"
   },
   {
    "duration": 12,
    "start_time": "2023-06-02T09:11:26.650Z"
   },
   {
    "duration": 16,
    "start_time": "2023-06-02T09:11:26.664Z"
   },
   {
    "duration": 654,
    "start_time": "2023-06-02T09:11:26.681Z"
   },
   {
    "duration": 626,
    "start_time": "2023-06-02T09:11:27.337Z"
   },
   {
    "duration": 554,
    "start_time": "2023-06-02T09:11:27.964Z"
   },
   {
    "duration": 36,
    "start_time": "2023-06-02T09:11:28.520Z"
   },
   {
    "duration": 2,
    "start_time": "2023-06-02T09:11:28.558Z"
   },
   {
    "duration": 342,
    "start_time": "2023-06-02T09:11:28.562Z"
   },
   {
    "duration": 143,
    "start_time": "2023-06-02T09:12:19.271Z"
   },
   {
    "duration": 110,
    "start_time": "2023-06-02T09:14:07.612Z"
   },
   {
    "duration": 3,
    "start_time": "2023-06-02T09:21:13.960Z"
   },
   {
    "duration": 3,
    "start_time": "2023-06-02T09:53:25.200Z"
   },
   {
    "duration": 3,
    "start_time": "2023-06-02T09:53:43.311Z"
   },
   {
    "duration": 4,
    "start_time": "2023-06-02T09:53:53.963Z"
   },
   {
    "duration": 4,
    "start_time": "2023-06-02T09:58:17.757Z"
   },
   {
    "duration": 3,
    "start_time": "2023-06-02T09:59:42.358Z"
   },
   {
    "duration": 4,
    "start_time": "2023-06-02T10:00:01.142Z"
   },
   {
    "duration": 25,
    "start_time": "2023-06-02T10:01:12.647Z"
   },
   {
    "duration": 4,
    "start_time": "2023-06-02T10:03:22.070Z"
   },
   {
    "duration": 113,
    "start_time": "2023-06-02T10:14:21.897Z"
   },
   {
    "duration": 13,
    "start_time": "2023-06-02T10:14:48.359Z"
   },
   {
    "duration": 13,
    "start_time": "2023-06-02T10:14:57.758Z"
   },
   {
    "duration": 12,
    "start_time": "2023-06-02T10:15:05.203Z"
   },
   {
    "duration": 9,
    "start_time": "2023-06-02T11:03:35.208Z"
   },
   {
    "duration": 9,
    "start_time": "2023-06-02T11:03:50.265Z"
   },
   {
    "duration": 5,
    "start_time": "2023-06-02T11:03:54.866Z"
   },
   {
    "duration": 4,
    "start_time": "2023-06-02T11:04:01.268Z"
   },
   {
    "duration": 5,
    "start_time": "2023-06-02T11:04:55.946Z"
   },
   {
    "duration": 9,
    "start_time": "2023-06-02T11:05:04.096Z"
   },
   {
    "duration": 4,
    "start_time": "2023-06-02T11:06:42.655Z"
   },
   {
    "duration": 7,
    "start_time": "2023-06-02T11:07:01.702Z"
   },
   {
    "duration": 9,
    "start_time": "2023-06-02T11:07:10.254Z"
   },
   {
    "duration": 4,
    "start_time": "2023-06-02T11:07:13.373Z"
   },
   {
    "duration": 4,
    "start_time": "2023-06-02T11:07:30.349Z"
   },
   {
    "duration": 3,
    "start_time": "2023-06-02T11:08:24.748Z"
   },
   {
    "duration": 3,
    "start_time": "2023-06-02T11:10:39.955Z"
   },
   {
    "duration": 6,
    "start_time": "2023-06-02T11:10:41.597Z"
   },
   {
    "duration": 4,
    "start_time": "2023-06-02T11:10:51.793Z"
   },
   {
    "duration": 3,
    "start_time": "2023-06-02T11:11:01.893Z"
   },
   {
    "duration": 4,
    "start_time": "2023-06-02T11:11:03.748Z"
   },
   {
    "duration": 18,
    "start_time": "2023-06-02T11:26:49.939Z"
   },
   {
    "duration": 11,
    "start_time": "2023-06-02T11:27:17.178Z"
   },
   {
    "duration": 940,
    "start_time": "2023-06-02T11:27:28.598Z"
   },
   {
    "duration": 14,
    "start_time": "2023-06-02T11:27:42.313Z"
   },
   {
    "duration": 14,
    "start_time": "2023-06-02T11:27:46.575Z"
   },
   {
    "duration": 7,
    "start_time": "2023-06-02T11:27:52.139Z"
   },
   {
    "duration": 3,
    "start_time": "2023-06-02T11:30:13.638Z"
   },
   {
    "duration": 13,
    "start_time": "2023-06-02T11:30:16.834Z"
   },
   {
    "duration": 3,
    "start_time": "2023-06-02T11:30:23.640Z"
   },
   {
    "duration": 12,
    "start_time": "2023-06-02T11:30:25.448Z"
   },
   {
    "duration": 3,
    "start_time": "2023-06-02T11:30:54.154Z"
   },
   {
    "duration": 10,
    "start_time": "2023-06-02T11:30:56.137Z"
   },
   {
    "duration": 7,
    "start_time": "2023-06-02T11:31:27.456Z"
   },
   {
    "duration": 9,
    "start_time": "2023-06-02T11:31:36.661Z"
   },
   {
    "duration": 8,
    "start_time": "2023-06-02T11:32:42.591Z"
   },
   {
    "duration": 27,
    "start_time": "2023-06-02T11:32:44.868Z"
   },
   {
    "duration": 1277,
    "start_time": "2023-06-02T11:34:34.269Z"
   },
   {
    "duration": 365,
    "start_time": "2023-06-02T11:34:35.548Z"
   },
   {
    "duration": 42,
    "start_time": "2023-06-02T11:34:35.915Z"
   },
   {
    "duration": 14,
    "start_time": "2023-06-02T11:34:35.959Z"
   },
   {
    "duration": 36,
    "start_time": "2023-06-02T11:34:35.975Z"
   },
   {
    "duration": 585,
    "start_time": "2023-06-02T11:34:36.013Z"
   },
   {
    "duration": 612,
    "start_time": "2023-06-02T11:34:36.601Z"
   },
   {
    "duration": 494,
    "start_time": "2023-06-02T11:34:37.214Z"
   },
   {
    "duration": 28,
    "start_time": "2023-06-02T11:34:37.709Z"
   },
   {
    "duration": 23,
    "start_time": "2023-06-02T11:34:37.739Z"
   },
   {
    "duration": 127,
    "start_time": "2023-06-02T11:34:37.763Z"
   },
   {
    "duration": 7,
    "start_time": "2023-06-02T11:34:37.891Z"
   },
   {
    "duration": 105,
    "start_time": "2023-06-02T11:34:37.899Z"
   },
   {
    "duration": 26,
    "start_time": "2023-06-02T11:34:38.005Z"
   },
   {
    "duration": 9,
    "start_time": "2023-06-02T11:34:38.032Z"
   },
   {
    "duration": 8,
    "start_time": "2023-06-02T11:34:38.042Z"
   },
   {
    "duration": 28,
    "start_time": "2023-06-02T11:34:38.051Z"
   },
   {
    "duration": 3,
    "start_time": "2023-06-02T11:36:21.300Z"
   },
   {
    "duration": 14,
    "start_time": "2023-06-02T11:36:23.142Z"
   },
   {
    "duration": 3,
    "start_time": "2023-06-02T12:00:58.818Z"
   },
   {
    "duration": 4,
    "start_time": "2023-06-02T12:01:01.477Z"
   },
   {
    "duration": 4,
    "start_time": "2023-06-02T12:08:26.013Z"
   },
   {
    "duration": 347,
    "start_time": "2023-06-02T12:08:26.019Z"
   },
   {
    "duration": 48,
    "start_time": "2023-06-02T12:08:26.367Z"
   },
   {
    "duration": 9,
    "start_time": "2023-06-02T12:08:26.417Z"
   },
   {
    "duration": 18,
    "start_time": "2023-06-02T12:08:26.428Z"
   },
   {
    "duration": 648,
    "start_time": "2023-06-02T12:08:26.447Z"
   },
   {
    "duration": 586,
    "start_time": "2023-06-02T12:08:27.096Z"
   },
   {
    "duration": 516,
    "start_time": "2023-06-02T12:08:27.685Z"
   },
   {
    "duration": 23,
    "start_time": "2023-06-02T12:08:28.203Z"
   },
   {
    "duration": 38,
    "start_time": "2023-06-02T12:08:28.228Z"
   },
   {
    "duration": 124,
    "start_time": "2023-06-02T12:08:28.267Z"
   },
   {
    "duration": 99,
    "start_time": "2023-06-02T12:08:28.393Z"
   },
   {
    "duration": 112,
    "start_time": "2023-06-02T12:08:28.497Z"
   },
   {
    "duration": 57,
    "start_time": "2023-06-02T12:08:28.610Z"
   },
   {
    "duration": 15,
    "start_time": "2023-06-02T12:08:28.668Z"
   },
   {
    "duration": 39,
    "start_time": "2023-06-02T12:08:28.685Z"
   },
   {
    "duration": 4,
    "start_time": "2023-06-02T12:10:35.616Z"
   },
   {
    "duration": 351,
    "start_time": "2023-06-02T12:10:35.627Z"
   },
   {
    "duration": 48,
    "start_time": "2023-06-02T12:10:35.980Z"
   },
   {
    "duration": 13,
    "start_time": "2023-06-02T12:10:36.030Z"
   },
   {
    "duration": 13,
    "start_time": "2023-06-02T12:10:36.045Z"
   },
   {
    "duration": 535,
    "start_time": "2023-06-02T12:10:36.061Z"
   },
   {
    "duration": 581,
    "start_time": "2023-06-02T12:10:36.598Z"
   },
   {
    "duration": 503,
    "start_time": "2023-06-02T12:10:37.180Z"
   },
   {
    "duration": 24,
    "start_time": "2023-06-02T12:10:37.685Z"
   },
   {
    "duration": 23,
    "start_time": "2023-06-02T12:10:37.711Z"
   },
   {
    "duration": 155,
    "start_time": "2023-06-02T12:10:37.735Z"
   },
   {
    "duration": 96,
    "start_time": "2023-06-02T12:10:37.891Z"
   },
   {
    "duration": 99,
    "start_time": "2023-06-02T12:10:37.988Z"
   },
   {
    "duration": 32,
    "start_time": "2023-06-02T12:10:38.088Z"
   },
   {
    "duration": 12,
    "start_time": "2023-06-02T12:10:38.122Z"
   },
   {
    "duration": 20,
    "start_time": "2023-06-02T12:10:38.136Z"
   },
   {
    "duration": 284,
    "start_time": "2023-06-02T12:54:03.701Z"
   },
   {
    "duration": 4,
    "start_time": "2023-06-02T12:54:15.861Z"
   },
   {
    "duration": 432,
    "start_time": "2023-06-02T12:54:15.874Z"
   },
   {
    "duration": 40,
    "start_time": "2023-06-02T12:54:16.308Z"
   },
   {
    "duration": 10,
    "start_time": "2023-06-02T12:54:16.350Z"
   },
   {
    "duration": 62,
    "start_time": "2023-06-02T12:54:16.362Z"
   },
   {
    "duration": 696,
    "start_time": "2023-06-02T12:54:16.427Z"
   },
   {
    "duration": 545,
    "start_time": "2023-06-02T12:54:17.125Z"
   },
   {
    "duration": 523,
    "start_time": "2023-06-02T12:54:17.672Z"
   },
   {
    "duration": 24,
    "start_time": "2023-06-02T12:54:18.197Z"
   },
   {
    "duration": 24,
    "start_time": "2023-06-02T12:54:18.223Z"
   },
   {
    "duration": 111,
    "start_time": "2023-06-02T12:54:22.375Z"
   },
   {
    "duration": 80,
    "start_time": "2023-06-02T12:56:59.612Z"
   },
   {
    "duration": 1218,
    "start_time": "2023-06-02T12:58:04.862Z"
   },
   {
    "duration": 353,
    "start_time": "2023-06-02T12:58:06.083Z"
   },
   {
    "duration": 37,
    "start_time": "2023-06-02T12:58:06.437Z"
   },
   {
    "duration": 14,
    "start_time": "2023-06-02T12:58:06.475Z"
   },
   {
    "duration": 12,
    "start_time": "2023-06-02T12:58:06.490Z"
   },
   {
    "duration": 522,
    "start_time": "2023-06-02T12:58:06.504Z"
   },
   {
    "duration": 545,
    "start_time": "2023-06-02T12:58:07.028Z"
   },
   {
    "duration": 488,
    "start_time": "2023-06-02T12:58:07.574Z"
   },
   {
    "duration": 34,
    "start_time": "2023-06-02T12:58:08.064Z"
   },
   {
    "duration": 22,
    "start_time": "2023-06-02T12:58:08.099Z"
   },
   {
    "duration": 164,
    "start_time": "2023-06-02T12:58:08.122Z"
   },
   {
    "duration": 98,
    "start_time": "2023-06-02T12:58:08.287Z"
   },
   {
    "duration": 13,
    "start_time": "2023-06-02T12:58:08.387Z"
   },
   {
    "duration": 21,
    "start_time": "2023-06-02T12:58:08.403Z"
   },
   {
    "duration": 12,
    "start_time": "2023-06-02T12:58:08.425Z"
   },
   {
    "duration": 31,
    "start_time": "2023-06-02T12:58:08.438Z"
   },
   {
    "duration": 60,
    "start_time": "2023-06-02T12:58:08.471Z"
   },
   {
    "duration": 104,
    "start_time": "2023-06-02T13:02:21.999Z"
   },
   {
    "duration": 9,
    "start_time": "2023-06-02T13:03:02.007Z"
   },
   {
    "duration": 10,
    "start_time": "2023-06-02T13:03:22.254Z"
   },
   {
    "duration": 488,
    "start_time": "2023-06-02T13:03:49.680Z"
   },
   {
    "duration": 488,
    "start_time": "2023-06-02T13:03:56.912Z"
   },
   {
    "duration": 509,
    "start_time": "2023-06-02T13:04:12.557Z"
   },
   {
    "duration": 1444,
    "start_time": "2023-06-02T13:05:19.520Z"
   },
   {
    "duration": 1437,
    "start_time": "2023-06-02T13:07:32.479Z"
   },
   {
    "duration": 1436,
    "start_time": "2023-06-02T13:07:44.076Z"
   },
   {
    "duration": 1469,
    "start_time": "2023-06-02T13:08:04.355Z"
   },
   {
    "duration": 1420,
    "start_time": "2023-06-02T13:08:07.483Z"
   },
   {
    "duration": 1422,
    "start_time": "2023-06-02T13:08:26.623Z"
   },
   {
    "duration": 1432,
    "start_time": "2023-06-02T13:14:51.208Z"
   },
   {
    "duration": 1585,
    "start_time": "2023-06-02T13:15:13.527Z"
   },
   {
    "duration": 1593,
    "start_time": "2023-06-02T14:14:46.224Z"
   },
   {
    "duration": 2026,
    "start_time": "2023-06-02T14:14:51.751Z"
   },
   {
    "duration": 2018,
    "start_time": "2023-06-02T14:15:29.451Z"
   },
   {
    "duration": 1800,
    "start_time": "2023-06-02T14:16:28.301Z"
   },
   {
    "duration": 10,
    "start_time": "2023-06-02T14:19:01.543Z"
   },
   {
    "duration": 2,
    "start_time": "2023-06-02T14:19:08.796Z"
   },
   {
    "duration": 2080,
    "start_time": "2023-06-02T14:19:11.417Z"
   },
   {
    "duration": 1814,
    "start_time": "2023-06-02T14:20:38.248Z"
   },
   {
    "duration": 1949,
    "start_time": "2023-06-02T14:20:55.054Z"
   },
   {
    "duration": 1809,
    "start_time": "2023-06-02T14:21:01.906Z"
   },
   {
    "duration": 1966,
    "start_time": "2023-06-02T14:21:11.548Z"
   },
   {
    "duration": 1937,
    "start_time": "2023-06-02T14:21:44.347Z"
   },
   {
    "duration": 1855,
    "start_time": "2023-06-02T14:21:58.166Z"
   },
   {
    "duration": 1903,
    "start_time": "2023-06-02T14:22:33.768Z"
   },
   {
    "duration": 1924,
    "start_time": "2023-06-02T14:30:43.501Z"
   },
   {
    "duration": 1848,
    "start_time": "2023-06-02T14:31:00.589Z"
   },
   {
    "duration": 1844,
    "start_time": "2023-06-02T14:31:10.745Z"
   },
   {
    "duration": 1870,
    "start_time": "2023-06-02T14:33:29.573Z"
   },
   {
    "duration": 1843,
    "start_time": "2023-06-02T14:33:36.471Z"
   },
   {
    "duration": 1949,
    "start_time": "2023-06-02T14:33:42.685Z"
   },
   {
    "duration": 1856,
    "start_time": "2023-06-02T14:35:06.653Z"
   },
   {
    "duration": 5,
    "start_time": "2023-06-02T14:46:36.399Z"
   },
   {
    "duration": 4,
    "start_time": "2023-06-02T14:46:39.560Z"
   },
   {
    "duration": 2002,
    "start_time": "2023-06-02T14:48:13.138Z"
   },
   {
    "duration": 2003,
    "start_time": "2023-06-02T14:48:32.756Z"
   },
   {
    "duration": 1824,
    "start_time": "2023-06-02T14:50:26.630Z"
   },
   {
    "duration": 1837,
    "start_time": "2023-06-02T14:50:38.328Z"
   },
   {
    "duration": 1867,
    "start_time": "2023-06-02T14:50:48.933Z"
   },
   {
    "duration": 1893,
    "start_time": "2023-06-02T14:50:59.883Z"
   },
   {
    "duration": 1993,
    "start_time": "2023-06-02T14:51:05.664Z"
   },
   {
    "duration": 1962,
    "start_time": "2023-06-02T14:51:31.397Z"
   },
   {
    "duration": 1831,
    "start_time": "2023-06-02T14:51:48.626Z"
   },
   {
    "duration": 2069,
    "start_time": "2023-06-02T14:51:54.866Z"
   },
   {
    "duration": 1973,
    "start_time": "2023-06-02T14:52:26.369Z"
   },
   {
    "duration": 1855,
    "start_time": "2023-06-02T14:53:23.318Z"
   },
   {
    "duration": 2073,
    "start_time": "2023-06-02T14:55:21.701Z"
   },
   {
    "duration": 87,
    "start_time": "2023-06-03T03:13:02.316Z"
   },
   {
    "duration": 9,
    "start_time": "2023-06-03T03:13:05.886Z"
   },
   {
    "duration": 2590,
    "start_time": "2023-06-03T03:13:11.135Z"
   },
   {
    "duration": 468,
    "start_time": "2023-06-03T03:13:15.096Z"
   },
   {
    "duration": 79,
    "start_time": "2023-06-03T03:13:16.462Z"
   },
   {
    "duration": 92,
    "start_time": "2023-06-03T03:14:39.222Z"
   },
   {
    "duration": 15,
    "start_time": "2023-06-03T03:14:46.145Z"
   },
   {
    "duration": 492,
    "start_time": "2023-06-03T03:14:46.163Z"
   },
   {
    "duration": 62,
    "start_time": "2023-06-03T03:14:46.659Z"
   },
   {
    "duration": 10,
    "start_time": "2023-06-03T03:14:46.723Z"
   },
   {
    "duration": 59,
    "start_time": "2023-06-03T03:14:46.734Z"
   },
   {
    "duration": 687,
    "start_time": "2023-06-03T03:14:50.887Z"
   },
   {
    "duration": 695,
    "start_time": "2023-06-03T03:15:38.773Z"
   },
   {
    "duration": 616,
    "start_time": "2023-06-03T03:15:43.038Z"
   },
   {
    "duration": 13,
    "start_time": "2023-06-03T03:16:00.174Z"
   },
   {
    "duration": 565,
    "start_time": "2023-06-03T03:16:00.189Z"
   },
   {
    "duration": 65,
    "start_time": "2023-06-03T03:16:00.755Z"
   },
   {
    "duration": 16,
    "start_time": "2023-06-03T03:16:00.821Z"
   },
   {
    "duration": 68,
    "start_time": "2023-06-03T03:16:00.839Z"
   },
   {
    "duration": 632,
    "start_time": "2023-06-03T03:16:00.908Z"
   },
   {
    "duration": 757,
    "start_time": "2023-06-03T03:16:01.542Z"
   },
   {
    "duration": 973,
    "start_time": "2023-06-03T03:16:02.303Z"
   },
   {
    "duration": 44,
    "start_time": "2023-06-03T03:16:03.278Z"
   },
   {
    "duration": 40,
    "start_time": "2023-06-03T03:16:03.324Z"
   },
   {
    "duration": 245,
    "start_time": "2023-06-03T03:16:03.366Z"
   },
   {
    "duration": 17,
    "start_time": "2023-06-03T03:16:03.649Z"
   },
   {
    "duration": 123,
    "start_time": "2023-06-03T03:16:03.674Z"
   },
   {
    "duration": 24,
    "start_time": "2023-06-03T03:16:03.799Z"
   },
   {
    "duration": 8,
    "start_time": "2023-06-03T03:16:03.824Z"
   },
   {
    "duration": 63,
    "start_time": "2023-06-03T03:16:03.833Z"
   },
   {
    "duration": 2984,
    "start_time": "2023-06-03T03:16:13.463Z"
   },
   {
    "duration": 3180,
    "start_time": "2023-06-03T03:16:21.198Z"
   },
   {
    "duration": 1109,
    "start_time": "2023-06-03T03:17:04.772Z"
   },
   {
    "duration": 3031,
    "start_time": "2023-06-03T03:17:15.411Z"
   },
   {
    "duration": 2931,
    "start_time": "2023-06-03T03:17:44.775Z"
   },
   {
    "duration": 3102,
    "start_time": "2023-06-03T03:18:27.541Z"
   },
   {
    "duration": 2958,
    "start_time": "2023-06-03T03:18:55.512Z"
   },
   {
    "duration": 20,
    "start_time": "2023-06-03T03:20:12.032Z"
   },
   {
    "duration": 13,
    "start_time": "2023-06-03T03:20:21.913Z"
   },
   {
    "duration": 3034,
    "start_time": "2023-06-03T03:20:44.687Z"
   },
   {
    "duration": 779,
    "start_time": "2023-06-03T03:21:41.095Z"
   },
   {
    "duration": 2998,
    "start_time": "2023-06-03T03:21:47.818Z"
   },
   {
    "duration": 3092,
    "start_time": "2023-06-03T03:22:40.156Z"
   },
   {
    "duration": 2923,
    "start_time": "2023-06-03T03:23:11.044Z"
   },
   {
    "duration": 2864,
    "start_time": "2023-06-03T03:23:23.034Z"
   },
   {
    "duration": 2699,
    "start_time": "2023-06-03T03:24:38.300Z"
   },
   {
    "duration": 2656,
    "start_time": "2023-06-03T03:24:46.773Z"
   },
   {
    "duration": 235,
    "start_time": "2023-06-03T04:04:34.374Z"
   },
   {
    "duration": 724,
    "start_time": "2023-06-03T04:04:40.040Z"
   },
   {
    "duration": 97,
    "start_time": "2023-06-03T04:04:46.806Z"
   },
   {
    "duration": 593,
    "start_time": "2023-06-03T04:04:58.807Z"
   },
   {
    "duration": 584,
    "start_time": "2023-06-03T04:05:05.046Z"
   },
   {
    "duration": 665,
    "start_time": "2023-06-03T04:05:16.305Z"
   },
   {
    "duration": 865,
    "start_time": "2023-06-03T04:05:23.217Z"
   },
   {
    "duration": 742,
    "start_time": "2023-06-03T04:05:55.393Z"
   },
   {
    "duration": 681,
    "start_time": "2023-06-03T04:06:04.047Z"
   },
   {
    "duration": 10,
    "start_time": "2023-06-03T04:08:55.807Z"
   },
   {
    "duration": 5,
    "start_time": "2023-06-03T04:08:59.172Z"
   },
   {
    "duration": 853,
    "start_time": "2023-06-03T04:09:00.731Z"
   },
   {
    "duration": 8,
    "start_time": "2023-06-03T04:09:09.974Z"
   },
   {
    "duration": 105,
    "start_time": "2023-06-03T04:09:12.243Z"
   },
   {
    "duration": 6,
    "start_time": "2023-06-03T04:13:22.796Z"
   },
   {
    "duration": 13,
    "start_time": "2023-06-03T04:13:25.587Z"
   },
   {
    "duration": 5,
    "start_time": "2023-06-03T04:14:01.176Z"
   },
   {
    "duration": 78,
    "start_time": "2023-06-03T04:14:03.346Z"
   },
   {
    "duration": 9,
    "start_time": "2023-06-03T04:14:16.180Z"
   },
   {
    "duration": 15,
    "start_time": "2023-06-03T04:14:42.774Z"
   },
   {
    "duration": 854,
    "start_time": "2023-06-03T04:14:48.029Z"
   },
   {
    "duration": 4,
    "start_time": "2023-06-03T04:15:47.041Z"
   },
   {
    "duration": 907,
    "start_time": "2023-06-03T04:15:48.627Z"
   },
   {
    "duration": 3,
    "start_time": "2023-06-03T04:16:02.236Z"
   },
   {
    "duration": 4,
    "start_time": "2023-06-03T04:16:03.891Z"
   },
   {
    "duration": 600,
    "start_time": "2023-06-03T04:16:05.688Z"
   },
   {
    "duration": 9,
    "start_time": "2023-06-03T04:16:30.875Z"
   },
   {
    "duration": 671,
    "start_time": "2023-06-03T04:16:33.902Z"
   },
   {
    "duration": 6,
    "start_time": "2023-06-03T04:16:40.877Z"
   },
   {
    "duration": 607,
    "start_time": "2023-06-03T04:16:45.196Z"
   },
   {
    "duration": 4,
    "start_time": "2023-06-03T04:16:54.641Z"
   },
   {
    "duration": 709,
    "start_time": "2023-06-03T04:16:57.600Z"
   },
   {
    "duration": 7,
    "start_time": "2023-06-03T04:17:45.665Z"
   },
   {
    "duration": 616,
    "start_time": "2023-06-03T04:17:48.385Z"
   },
   {
    "duration": 15,
    "start_time": "2023-06-03T04:18:01.267Z"
   },
   {
    "duration": 3,
    "start_time": "2023-06-03T04:18:01.788Z"
   },
   {
    "duration": 908,
    "start_time": "2023-06-03T04:18:04.498Z"
   },
   {
    "duration": 3,
    "start_time": "2023-06-03T04:18:15.624Z"
   },
   {
    "duration": 712,
    "start_time": "2023-06-03T04:18:19.999Z"
   },
   {
    "duration": 617,
    "start_time": "2023-06-03T04:18:31.796Z"
   },
   {
    "duration": 619,
    "start_time": "2023-06-03T04:18:43.779Z"
   },
   {
    "duration": 1397,
    "start_time": "2023-06-03T04:19:28.374Z"
   },
   {
    "duration": 953,
    "start_time": "2023-06-03T04:19:29.779Z"
   },
   {
    "duration": 68,
    "start_time": "2023-06-03T04:19:30.734Z"
   },
   {
    "duration": 15,
    "start_time": "2023-06-03T04:19:30.803Z"
   },
   {
    "duration": 46,
    "start_time": "2023-06-03T04:19:30.820Z"
   },
   {
    "duration": 34,
    "start_time": "2023-06-03T04:19:30.874Z"
   },
   {
    "duration": 716,
    "start_time": "2023-06-03T04:19:30.910Z"
   },
   {
    "duration": 715,
    "start_time": "2023-06-03T04:19:31.628Z"
   },
   {
    "duration": 663,
    "start_time": "2023-06-03T04:19:32.344Z"
   },
   {
    "duration": 45,
    "start_time": "2023-06-03T04:19:33.009Z"
   },
   {
    "duration": 71,
    "start_time": "2023-06-03T04:19:33.058Z"
   },
   {
    "duration": 133,
    "start_time": "2023-06-03T04:19:33.130Z"
   },
   {
    "duration": 94,
    "start_time": "2023-06-03T04:19:33.264Z"
   },
   {
    "duration": 37,
    "start_time": "2023-06-03T04:19:33.361Z"
   },
   {
    "duration": 20,
    "start_time": "2023-06-03T04:19:33.400Z"
   },
   {
    "duration": 5,
    "start_time": "2023-06-03T04:19:33.422Z"
   },
   {
    "duration": 17,
    "start_time": "2023-06-03T04:19:33.428Z"
   },
   {
    "duration": 136,
    "start_time": "2023-06-03T04:19:33.455Z"
   },
   {
    "duration": 2700,
    "start_time": "2023-06-03T04:19:46.898Z"
   },
   {
    "duration": 23,
    "start_time": "2023-06-03T04:25:41.265Z"
   },
   {
    "duration": 9,
    "start_time": "2023-06-03T04:26:09.545Z"
   },
   {
    "duration": 5,
    "start_time": "2023-06-03T04:26:16.396Z"
   },
   {
    "duration": 5,
    "start_time": "2023-06-03T04:26:19.889Z"
   },
   {
    "duration": 6,
    "start_time": "2023-06-03T04:26:47.937Z"
   },
   {
    "duration": 97,
    "start_time": "2023-06-03T04:28:01.439Z"
   },
   {
    "duration": 36,
    "start_time": "2023-06-03T04:28:06.278Z"
   },
   {
    "duration": 15,
    "start_time": "2023-06-03T04:37:59.693Z"
   },
   {
    "duration": 14,
    "start_time": "2023-06-03T04:38:03.882Z"
   },
   {
    "duration": 22,
    "start_time": "2023-06-03T04:38:07.174Z"
   },
   {
    "duration": 15,
    "start_time": "2023-06-03T04:38:15.178Z"
   },
   {
    "duration": 16,
    "start_time": "2023-06-03T04:38:20.713Z"
   },
   {
    "duration": 18,
    "start_time": "2023-06-03T04:39:22.695Z"
   },
   {
    "duration": 1714,
    "start_time": "2023-06-03T04:47:47.518Z"
   },
   {
    "duration": 1778,
    "start_time": "2023-06-03T04:47:49.236Z"
   },
   {
    "duration": 84,
    "start_time": "2023-06-03T04:47:51.017Z"
   },
   {
    "duration": 19,
    "start_time": "2023-06-03T04:47:51.103Z"
   },
   {
    "duration": 16,
    "start_time": "2023-06-03T04:47:51.125Z"
   },
   {
    "duration": 64,
    "start_time": "2023-06-03T04:47:51.144Z"
   },
   {
    "duration": 730,
    "start_time": "2023-06-03T04:47:51.210Z"
   },
   {
    "duration": 941,
    "start_time": "2023-06-03T04:47:51.948Z"
   },
   {
    "duration": 914,
    "start_time": "2023-06-03T04:47:52.901Z"
   },
   {
    "duration": 70,
    "start_time": "2023-06-03T04:47:53.817Z"
   },
   {
    "duration": 5,
    "start_time": "2023-06-03T04:47:53.889Z"
   },
   {
    "duration": 175,
    "start_time": "2023-06-03T04:47:53.899Z"
   },
   {
    "duration": 7,
    "start_time": "2023-06-03T04:47:54.086Z"
   },
   {
    "duration": 38,
    "start_time": "2023-06-03T04:47:54.169Z"
   },
   {
    "duration": 64,
    "start_time": "2023-06-03T04:47:54.209Z"
   },
   {
    "duration": 24,
    "start_time": "2023-06-03T04:47:54.276Z"
   },
   {
    "duration": 207,
    "start_time": "2023-06-03T04:47:54.303Z"
   },
   {
    "duration": 0,
    "start_time": "2023-06-03T04:47:54.512Z"
   },
   {
    "duration": 20,
    "start_time": "2023-06-03T04:48:02.603Z"
   },
   {
    "duration": 16,
    "start_time": "2023-06-03T04:48:06.324Z"
   },
   {
    "duration": 2906,
    "start_time": "2023-06-03T04:48:09.817Z"
   },
   {
    "duration": 4,
    "start_time": "2023-06-03T04:59:27.334Z"
   },
   {
    "duration": 18,
    "start_time": "2023-06-03T04:59:29.182Z"
   },
   {
    "duration": 3,
    "start_time": "2023-06-03T05:00:21.687Z"
   },
   {
    "duration": 17,
    "start_time": "2023-06-03T05:00:25.178Z"
   },
   {
    "duration": 4,
    "start_time": "2023-06-03T05:00:40.405Z"
   },
   {
    "duration": 16,
    "start_time": "2023-06-03T05:00:42.327Z"
   },
   {
    "duration": 5,
    "start_time": "2023-06-03T05:01:24.179Z"
   },
   {
    "duration": 4750,
    "start_time": "2023-06-03T05:01:29.348Z"
   },
   {
    "duration": 3,
    "start_time": "2023-06-03T05:01:44.084Z"
   },
   {
    "duration": 2973,
    "start_time": "2023-06-03T05:01:46.686Z"
   },
   {
    "duration": 16,
    "start_time": "2023-06-03T05:02:43.073Z"
   },
   {
    "duration": 2995,
    "start_time": "2023-06-03T05:02:50.698Z"
   },
   {
    "duration": 3,
    "start_time": "2023-06-03T05:03:49.826Z"
   },
   {
    "duration": 2645,
    "start_time": "2023-06-03T05:03:57.193Z"
   },
   {
    "duration": 4,
    "start_time": "2023-06-03T05:05:19.565Z"
   },
   {
    "duration": 2935,
    "start_time": "2023-06-03T05:05:26.543Z"
   },
   {
    "duration": 3,
    "start_time": "2023-06-03T05:06:48.616Z"
   },
   {
    "duration": 2954,
    "start_time": "2023-06-03T05:06:52.274Z"
   },
   {
    "duration": 5,
    "start_time": "2023-06-03T05:07:22.494Z"
   },
   {
    "duration": 2690,
    "start_time": "2023-06-03T05:07:25.688Z"
   },
   {
    "duration": 65,
    "start_time": "2023-06-03T05:08:27.009Z"
   },
   {
    "duration": 86,
    "start_time": "2023-06-03T05:08:31.013Z"
   },
   {
    "duration": 10,
    "start_time": "2023-06-03T05:08:41.178Z"
   },
   {
    "duration": 2848,
    "start_time": "2023-06-03T05:08:58.676Z"
   },
   {
    "duration": 3217,
    "start_time": "2023-06-03T05:10:08.087Z"
   },
   {
    "duration": 3013,
    "start_time": "2023-06-03T05:10:30.283Z"
   },
   {
    "duration": 3053,
    "start_time": "2023-06-03T05:12:26.289Z"
   },
   {
    "duration": 19,
    "start_time": "2023-06-03T05:16:26.863Z"
   },
   {
    "duration": 2973,
    "start_time": "2023-06-03T05:16:33.692Z"
   },
   {
    "duration": 10,
    "start_time": "2023-06-03T05:16:57.842Z"
   },
   {
    "duration": 3218,
    "start_time": "2023-06-03T05:17:01.467Z"
   },
   {
    "duration": 46,
    "start_time": "2023-06-03T05:44:11.389Z"
   },
   {
    "duration": 43,
    "start_time": "2023-06-03T05:44:27.394Z"
   },
   {
    "duration": 42,
    "start_time": "2023-06-03T05:44:35.989Z"
   },
   {
    "duration": 68,
    "start_time": "2023-06-03T05:44:49.839Z"
   },
   {
    "duration": 31,
    "start_time": "2023-06-03T05:45:03.778Z"
   },
   {
    "duration": 311,
    "start_time": "2023-06-03T05:48:44.675Z"
   },
   {
    "duration": 5,
    "start_time": "2023-06-03T05:49:36.795Z"
   },
   {
    "duration": 4,
    "start_time": "2023-06-03T05:51:14.015Z"
   },
   {
    "duration": 17,
    "start_time": "2023-06-03T05:51:15.380Z"
   },
   {
    "duration": 1762,
    "start_time": "2023-06-03T06:29:31.555Z"
   },
   {
    "duration": 1214,
    "start_time": "2023-06-03T06:29:33.319Z"
   },
   {
    "duration": 72,
    "start_time": "2023-06-03T06:29:34.535Z"
   },
   {
    "duration": 23,
    "start_time": "2023-06-03T06:29:34.609Z"
   },
   {
    "duration": 66,
    "start_time": "2023-06-03T06:29:34.635Z"
   },
   {
    "duration": 103,
    "start_time": "2023-06-03T06:29:34.703Z"
   },
   {
    "duration": 808,
    "start_time": "2023-06-03T06:29:34.808Z"
   },
   {
    "duration": 800,
    "start_time": "2023-06-03T06:29:35.621Z"
   },
   {
    "duration": 678,
    "start_time": "2023-06-03T06:29:36.423Z"
   },
   {
    "duration": 54,
    "start_time": "2023-06-03T06:29:37.103Z"
   },
   {
    "duration": 3,
    "start_time": "2023-06-03T06:29:37.159Z"
   },
   {
    "duration": 299,
    "start_time": "2023-06-03T06:29:37.164Z"
   },
   {
    "duration": 9,
    "start_time": "2023-06-03T06:29:37.472Z"
   },
   {
    "duration": 52,
    "start_time": "2023-06-03T06:29:37.547Z"
   },
   {
    "duration": 53,
    "start_time": "2023-06-03T06:29:37.602Z"
   },
   {
    "duration": 23,
    "start_time": "2023-06-03T06:29:37.657Z"
   },
   {
    "duration": 44,
    "start_time": "2023-06-03T06:29:37.682Z"
   },
   {
    "duration": 7,
    "start_time": "2023-06-03T06:29:37.728Z"
   },
   {
    "duration": 2880,
    "start_time": "2023-06-03T06:29:37.736Z"
   },
   {
    "duration": 2977,
    "start_time": "2023-06-03T06:29:40.618Z"
   },
   {
    "duration": 1487,
    "start_time": "2023-06-03T06:32:29.963Z"
   },
   {
    "duration": 579,
    "start_time": "2023-06-03T06:32:31.454Z"
   },
   {
    "duration": 82,
    "start_time": "2023-06-03T06:32:32.036Z"
   },
   {
    "duration": 33,
    "start_time": "2023-06-03T06:32:32.122Z"
   },
   {
    "duration": 122,
    "start_time": "2023-06-03T06:32:32.164Z"
   },
   {
    "duration": 18,
    "start_time": "2023-06-03T06:32:32.290Z"
   },
   {
    "duration": 753,
    "start_time": "2023-06-03T06:32:32.310Z"
   },
   {
    "duration": 728,
    "start_time": "2023-06-03T06:32:33.067Z"
   },
   {
    "duration": 672,
    "start_time": "2023-06-03T06:32:33.798Z"
   },
   {
    "duration": 41,
    "start_time": "2023-06-03T06:32:34.481Z"
   },
   {
    "duration": 37,
    "start_time": "2023-06-03T06:32:34.523Z"
   },
   {
    "duration": 186,
    "start_time": "2023-06-03T06:32:34.568Z"
   },
   {
    "duration": 16,
    "start_time": "2023-06-03T06:32:34.758Z"
   },
   {
    "duration": 32,
    "start_time": "2023-06-03T06:32:34.776Z"
   },
   {
    "duration": 34,
    "start_time": "2023-06-03T06:32:34.856Z"
   },
   {
    "duration": 27,
    "start_time": "2023-06-03T06:32:34.892Z"
   },
   {
    "duration": 29,
    "start_time": "2023-06-03T06:32:34.921Z"
   },
   {
    "duration": 11,
    "start_time": "2023-06-03T06:32:34.958Z"
   },
   {
    "duration": 2853,
    "start_time": "2023-06-03T06:32:34.970Z"
   },
   {
    "duration": 2891,
    "start_time": "2023-06-03T06:32:37.825Z"
   },
   {
    "duration": 1541,
    "start_time": "2023-06-03T06:33:28.675Z"
   },
   {
    "duration": 505,
    "start_time": "2023-06-03T06:33:30.219Z"
   },
   {
    "duration": 78,
    "start_time": "2023-06-03T06:33:30.726Z"
   },
   {
    "duration": 37,
    "start_time": "2023-06-03T06:33:30.806Z"
   },
   {
    "duration": 65,
    "start_time": "2023-06-03T06:33:30.845Z"
   },
   {
    "duration": 30,
    "start_time": "2023-06-03T06:33:30.912Z"
   },
   {
    "duration": 771,
    "start_time": "2023-06-03T06:33:30.944Z"
   },
   {
    "duration": 789,
    "start_time": "2023-06-03T06:33:31.717Z"
   },
   {
    "duration": 763,
    "start_time": "2023-06-03T06:33:32.509Z"
   },
   {
    "duration": 42,
    "start_time": "2023-06-03T06:33:33.275Z"
   },
   {
    "duration": 40,
    "start_time": "2023-06-03T06:33:33.319Z"
   },
   {
    "duration": 197,
    "start_time": "2023-06-03T06:33:33.365Z"
   },
   {
    "duration": 75,
    "start_time": "2023-06-03T06:33:33.573Z"
   },
   {
    "duration": 56,
    "start_time": "2023-06-03T06:33:33.654Z"
   },
   {
    "duration": 57,
    "start_time": "2023-06-03T06:33:33.712Z"
   },
   {
    "duration": 25,
    "start_time": "2023-06-03T06:33:33.773Z"
   },
   {
    "duration": 26,
    "start_time": "2023-06-03T06:33:33.799Z"
   },
   {
    "duration": 8,
    "start_time": "2023-06-03T06:33:33.827Z"
   },
   {
    "duration": 2842,
    "start_time": "2023-06-03T06:33:33.836Z"
   },
   {
    "duration": 2888,
    "start_time": "2023-06-03T06:33:36.680Z"
   },
   {
    "duration": 15,
    "start_time": "2023-06-03T06:38:36.173Z"
   },
   {
    "duration": 9,
    "start_time": "2023-06-03T06:38:40.412Z"
   },
   {
    "duration": 7,
    "start_time": "2023-06-03T06:38:47.937Z"
   },
   {
    "duration": 3266,
    "start_time": "2023-06-03T06:38:54.065Z"
   },
   {
    "duration": 13,
    "start_time": "2023-06-03T06:39:06.390Z"
   },
   {
    "duration": 2942,
    "start_time": "2023-06-03T06:39:09.195Z"
   },
   {
    "duration": 12,
    "start_time": "2023-06-03T06:47:38.045Z"
   },
   {
    "duration": 2805,
    "start_time": "2023-06-03T06:47:40.908Z"
   },
   {
    "duration": 3,
    "start_time": "2023-06-03T06:58:59.018Z"
   },
   {
    "duration": 3,
    "start_time": "2023-06-03T06:59:04.327Z"
   },
   {
    "duration": 4,
    "start_time": "2023-06-03T06:59:24.672Z"
   },
   {
    "duration": 7,
    "start_time": "2023-06-03T07:00:14.878Z"
   },
   {
    "duration": 12,
    "start_time": "2023-06-03T07:00:19.964Z"
   },
   {
    "duration": 7,
    "start_time": "2023-06-03T07:00:29.372Z"
   },
   {
    "duration": 147,
    "start_time": "2023-06-03T07:00:48.221Z"
   },
   {
    "duration": 69,
    "start_time": "2023-06-03T07:01:08.670Z"
   },
   {
    "duration": 13,
    "start_time": "2023-06-03T07:02:51.807Z"
   },
   {
    "duration": 34,
    "start_time": "2023-06-03T07:02:58.296Z"
   },
   {
    "duration": 34,
    "start_time": "2023-06-03T07:03:57.466Z"
   },
   {
    "duration": 1303,
    "start_time": "2023-06-03T07:04:03.371Z"
   },
   {
    "duration": 423,
    "start_time": "2023-06-03T07:04:04.681Z"
   },
   {
    "duration": 66,
    "start_time": "2023-06-03T07:04:05.106Z"
   },
   {
    "duration": 16,
    "start_time": "2023-06-03T07:04:05.175Z"
   },
   {
    "duration": 11,
    "start_time": "2023-06-03T07:04:05.194Z"
   },
   {
    "duration": 18,
    "start_time": "2023-06-03T07:04:05.207Z"
   },
   {
    "duration": 648,
    "start_time": "2023-06-03T07:04:05.227Z"
   },
   {
    "duration": 689,
    "start_time": "2023-06-03T07:04:05.880Z"
   },
   {
    "duration": 628,
    "start_time": "2023-06-03T07:04:06.571Z"
   },
   {
    "duration": 45,
    "start_time": "2023-06-03T07:04:07.201Z"
   },
   {
    "duration": 9,
    "start_time": "2023-06-03T07:04:07.247Z"
   },
   {
    "duration": 55,
    "start_time": "2023-06-03T07:04:07.257Z"
   },
   {
    "duration": 153,
    "start_time": "2023-06-03T07:04:07.313Z"
   },
   {
    "duration": 15,
    "start_time": "2023-06-03T07:04:07.547Z"
   },
   {
    "duration": 9,
    "start_time": "2023-06-03T07:04:07.645Z"
   },
   {
    "duration": 29,
    "start_time": "2023-06-03T07:04:07.660Z"
   },
   {
    "duration": 3,
    "start_time": "2023-06-03T07:04:07.691Z"
   },
   {
    "duration": 17,
    "start_time": "2023-06-03T07:04:07.695Z"
   },
   {
    "duration": 6,
    "start_time": "2023-06-03T07:04:07.713Z"
   },
   {
    "duration": 2406,
    "start_time": "2023-06-03T07:04:07.721Z"
   },
   {
    "duration": 2711,
    "start_time": "2023-06-03T07:04:10.129Z"
   },
   {
    "duration": 1398,
    "start_time": "2023-06-03T07:11:23.772Z"
   },
   {
    "duration": 446,
    "start_time": "2023-06-03T07:11:25.176Z"
   },
   {
    "duration": 66,
    "start_time": "2023-06-03T07:11:25.624Z"
   },
   {
    "duration": 16,
    "start_time": "2023-06-03T07:11:25.692Z"
   },
   {
    "duration": 14,
    "start_time": "2023-06-03T07:11:25.710Z"
   },
   {
    "duration": 6,
    "start_time": "2023-06-03T07:11:25.725Z"
   },
   {
    "duration": 632,
    "start_time": "2023-06-03T07:11:25.733Z"
   },
   {
    "duration": 706,
    "start_time": "2023-06-03T07:11:26.369Z"
   },
   {
    "duration": 601,
    "start_time": "2023-06-03T07:11:27.078Z"
   },
   {
    "duration": 38,
    "start_time": "2023-06-03T07:11:27.683Z"
   },
   {
    "duration": 6,
    "start_time": "2023-06-03T07:11:27.723Z"
   },
   {
    "duration": 56,
    "start_time": "2023-06-03T07:11:27.748Z"
   },
   {
    "duration": 164,
    "start_time": "2023-06-03T07:11:27.806Z"
   },
   {
    "duration": 5,
    "start_time": "2023-06-03T07:11:27.972Z"
   },
   {
    "duration": 72,
    "start_time": "2023-06-03T07:11:27.980Z"
   },
   {
    "duration": 104,
    "start_time": "2023-06-03T07:11:28.054Z"
   },
   {
    "duration": 11,
    "start_time": "2023-06-03T07:11:28.159Z"
   },
   {
    "duration": 28,
    "start_time": "2023-06-03T07:11:28.173Z"
   },
   {
    "duration": 25,
    "start_time": "2023-06-03T07:11:28.203Z"
   },
   {
    "duration": 2499,
    "start_time": "2023-06-03T07:11:28.230Z"
   },
   {
    "duration": 2864,
    "start_time": "2023-06-03T07:11:30.731Z"
   },
   {
    "duration": 2426,
    "start_time": "2023-06-03T07:58:35.027Z"
   },
   {
    "duration": 1273,
    "start_time": "2023-06-03T07:58:37.456Z"
   },
   {
    "duration": 39,
    "start_time": "2023-06-03T07:58:38.732Z"
   },
   {
    "duration": 16,
    "start_time": "2023-06-03T07:58:38.772Z"
   },
   {
    "duration": 37,
    "start_time": "2023-06-03T07:58:38.793Z"
   },
   {
    "duration": 8,
    "start_time": "2023-06-03T07:58:38.832Z"
   },
   {
    "duration": 507,
    "start_time": "2023-06-03T07:58:38.842Z"
   },
   {
    "duration": 571,
    "start_time": "2023-06-03T07:58:39.351Z"
   },
   {
    "duration": 502,
    "start_time": "2023-06-03T07:58:39.924Z"
   },
   {
    "duration": 38,
    "start_time": "2023-06-03T07:58:40.429Z"
   },
   {
    "duration": 7,
    "start_time": "2023-06-03T07:58:40.468Z"
   },
   {
    "duration": 46,
    "start_time": "2023-06-03T07:58:40.476Z"
   },
   {
    "duration": 92,
    "start_time": "2023-06-03T07:58:40.523Z"
   },
   {
    "duration": 18,
    "start_time": "2023-06-03T07:58:40.685Z"
   },
   {
    "duration": 43,
    "start_time": "2023-06-03T07:58:40.704Z"
   },
   {
    "duration": 54,
    "start_time": "2023-06-03T07:58:40.748Z"
   },
   {
    "duration": 3,
    "start_time": "2023-06-03T07:58:40.811Z"
   },
   {
    "duration": 43,
    "start_time": "2023-06-03T07:58:40.820Z"
   },
   {
    "duration": 8,
    "start_time": "2023-06-03T07:58:40.865Z"
   },
   {
    "duration": 1942,
    "start_time": "2023-06-03T07:58:40.875Z"
   },
   {
    "duration": 1919,
    "start_time": "2023-06-03T07:58:42.818Z"
   },
   {
    "duration": 48,
    "start_time": "2023-06-04T01:13:11.590Z"
   },
   {
    "duration": 1470,
    "start_time": "2023-06-04T01:13:18.868Z"
   },
   {
    "duration": 767,
    "start_time": "2023-06-04T01:13:20.340Z"
   },
   {
    "duration": 46,
    "start_time": "2023-06-04T01:13:21.108Z"
   },
   {
    "duration": 16,
    "start_time": "2023-06-04T01:13:21.156Z"
   },
   {
    "duration": 10,
    "start_time": "2023-06-04T01:13:21.174Z"
   },
   {
    "duration": 5,
    "start_time": "2023-06-04T01:13:21.186Z"
   },
   {
    "duration": 571,
    "start_time": "2023-06-04T01:13:21.193Z"
   },
   {
    "duration": 644,
    "start_time": "2023-06-04T01:13:21.766Z"
   },
   {
    "duration": 545,
    "start_time": "2023-06-04T01:13:22.411Z"
   },
   {
    "duration": 40,
    "start_time": "2023-06-04T01:13:22.959Z"
   },
   {
    "duration": 6,
    "start_time": "2023-06-04T01:13:23.001Z"
   },
   {
    "duration": 54,
    "start_time": "2023-06-04T01:13:23.009Z"
   },
   {
    "duration": 192,
    "start_time": "2023-06-04T01:13:23.065Z"
   },
   {
    "duration": 6,
    "start_time": "2023-06-04T01:13:23.341Z"
   },
   {
    "duration": 102,
    "start_time": "2023-06-04T01:13:23.349Z"
   },
   {
    "duration": 25,
    "start_time": "2023-06-04T01:13:23.453Z"
   },
   {
    "duration": 3,
    "start_time": "2023-06-04T01:13:23.480Z"
   },
   {
    "duration": 21,
    "start_time": "2023-06-04T01:13:23.485Z"
   },
   {
    "duration": 18,
    "start_time": "2023-06-04T01:13:23.507Z"
   },
   {
    "duration": 2651,
    "start_time": "2023-06-04T01:13:23.527Z"
   },
   {
    "duration": 2608,
    "start_time": "2023-06-04T01:13:26.179Z"
   },
   {
    "duration": 141,
    "start_time": "2023-06-04T01:22:17.502Z"
   },
   {
    "duration": 73,
    "start_time": "2023-06-04T01:22:59.305Z"
   },
   {
    "duration": 62,
    "start_time": "2023-06-04T01:23:18.691Z"
   },
   {
    "duration": 50,
    "start_time": "2023-06-04T01:23:38.265Z"
   },
   {
    "duration": 65,
    "start_time": "2023-06-04T01:24:21.385Z"
   },
   {
    "duration": 5,
    "start_time": "2023-06-04T01:26:39.085Z"
   },
   {
    "duration": 759,
    "start_time": "2023-06-04T01:26:47.322Z"
   },
   {
    "duration": 5,
    "start_time": "2023-06-04T01:28:49.169Z"
   },
   {
    "duration": 631,
    "start_time": "2023-06-04T01:28:51.427Z"
   },
   {
    "duration": 4,
    "start_time": "2023-06-04T01:29:21.370Z"
   },
   {
    "duration": 624,
    "start_time": "2023-06-04T01:29:25.272Z"
   },
   {
    "duration": 7,
    "start_time": "2023-06-04T01:44:46.753Z"
   },
   {
    "duration": 2336,
    "start_time": "2023-06-04T01:44:49.250Z"
   },
   {
    "duration": 10,
    "start_time": "2023-06-04T01:47:56.569Z"
   },
   {
    "duration": 1099,
    "start_time": "2023-06-04T01:47:59.018Z"
   },
   {
    "duration": 7,
    "start_time": "2023-06-04T01:48:19.401Z"
   },
   {
    "duration": 2329,
    "start_time": "2023-06-04T01:48:22.984Z"
   },
   {
    "duration": 73,
    "start_time": "2023-06-04T01:50:51.241Z"
   },
   {
    "duration": 55,
    "start_time": "2023-06-04T01:51:05.117Z"
   },
   {
    "duration": 51,
    "start_time": "2023-06-04T01:52:03.253Z"
   },
   {
    "duration": 78,
    "start_time": "2023-06-04T01:52:58.226Z"
   },
   {
    "duration": 2486,
    "start_time": "2023-06-04T01:53:06.793Z"
   },
   {
    "duration": 2411,
    "start_time": "2023-06-04T01:53:56.047Z"
   },
   {
    "duration": 2667,
    "start_time": "2023-06-04T01:54:18.301Z"
   },
   {
    "duration": 2426,
    "start_time": "2023-06-04T01:54:33.645Z"
   },
   {
    "duration": 2487,
    "start_time": "2023-06-04T01:54:58.372Z"
   },
   {
    "duration": 1748,
    "start_time": "2023-06-04T01:56:08.599Z"
   },
   {
    "duration": 2642,
    "start_time": "2023-06-04T01:57:08.479Z"
   },
   {
    "duration": 3100,
    "start_time": "2023-06-04T01:57:38.809Z"
   },
   {
    "duration": 2520,
    "start_time": "2023-06-04T01:58:16.810Z"
   },
   {
    "duration": 16,
    "start_time": "2023-06-04T01:59:04.497Z"
   },
   {
    "duration": 2161,
    "start_time": "2023-06-04T02:00:59.117Z"
   },
   {
    "duration": 2937,
    "start_time": "2023-06-04T02:01:24.215Z"
   },
   {
    "duration": 2745,
    "start_time": "2023-06-04T02:01:42.637Z"
   },
   {
    "duration": 2729,
    "start_time": "2023-06-04T02:02:09.216Z"
   },
   {
    "duration": 71,
    "start_time": "2023-06-04T02:02:19.966Z"
   },
   {
    "duration": 2724,
    "start_time": "2023-06-04T02:02:25.421Z"
   },
   {
    "duration": 2832,
    "start_time": "2023-06-04T02:02:33.239Z"
   },
   {
    "duration": 2648,
    "start_time": "2023-06-04T02:02:54.451Z"
   },
   {
    "duration": 7,
    "start_time": "2023-06-04T02:03:32.169Z"
   },
   {
    "duration": 2565,
    "start_time": "2023-06-04T02:03:34.247Z"
   },
   {
    "duration": 7,
    "start_time": "2023-06-04T02:03:57.528Z"
   },
   {
    "duration": 2604,
    "start_time": "2023-06-04T02:04:01.711Z"
   },
   {
    "duration": 2702,
    "start_time": "2023-06-04T02:04:20.736Z"
   },
   {
    "duration": 810,
    "start_time": "2023-06-04T02:14:14.238Z"
   },
   {
    "duration": 646,
    "start_time": "2023-06-04T02:17:06.113Z"
   },
   {
    "duration": 52,
    "start_time": "2023-06-04T02:17:39.963Z"
   },
   {
    "duration": 51,
    "start_time": "2023-06-04T02:17:46.127Z"
   },
   {
    "duration": 514,
    "start_time": "2023-06-04T02:18:07.162Z"
   },
   {
    "duration": 50,
    "start_time": "2023-06-04T02:18:20.120Z"
   },
   {
    "duration": 209,
    "start_time": "2023-06-04T02:18:35.228Z"
   },
   {
    "duration": 236,
    "start_time": "2023-06-04T02:18:48.329Z"
   },
   {
    "duration": 4,
    "start_time": "2023-06-04T02:19:02.425Z"
   },
   {
    "duration": 5,
    "start_time": "2023-06-04T02:19:16.358Z"
   },
   {
    "duration": 826,
    "start_time": "2023-06-04T02:19:24.743Z"
   },
   {
    "duration": 529,
    "start_time": "2023-06-04T02:19:32.284Z"
   },
   {
    "duration": 372,
    "start_time": "2023-06-04T02:49:02.454Z"
   },
   {
    "duration": 556,
    "start_time": "2023-06-04T02:49:21.515Z"
   },
   {
    "duration": 743,
    "start_time": "2023-06-04T02:52:44.021Z"
   },
   {
    "duration": 573,
    "start_time": "2023-06-04T02:53:08.418Z"
   },
   {
    "duration": 598,
    "start_time": "2023-06-04T02:53:18.010Z"
   },
   {
    "duration": 579,
    "start_time": "2023-06-04T02:53:41.791Z"
   },
   {
    "duration": 773,
    "start_time": "2023-06-04T02:53:53.629Z"
   },
   {
    "duration": 664,
    "start_time": "2023-06-04T02:54:14.446Z"
   },
   {
    "duration": 701,
    "start_time": "2023-06-04T02:55:02.072Z"
   },
   {
    "duration": 711,
    "start_time": "2023-06-04T02:55:13.280Z"
   },
   {
    "duration": 622,
    "start_time": "2023-06-04T02:55:18.766Z"
   },
   {
    "duration": 543,
    "start_time": "2023-06-04T02:55:27.256Z"
   },
   {
    "duration": 688,
    "start_time": "2023-06-04T02:55:54.098Z"
   },
   {
    "duration": 9,
    "start_time": "2023-06-04T02:56:33.038Z"
   },
   {
    "duration": 1719,
    "start_time": "2023-06-04T02:56:58.459Z"
   },
   {
    "duration": 487,
    "start_time": "2023-06-04T02:57:00.181Z"
   },
   {
    "duration": 54,
    "start_time": "2023-06-04T02:57:00.670Z"
   },
   {
    "duration": 154,
    "start_time": "2023-06-04T02:57:00.726Z"
   },
   {
    "duration": 288,
    "start_time": "2023-06-04T02:57:00.883Z"
   },
   {
    "duration": 1002,
    "start_time": "2023-06-04T02:57:01.174Z"
   },
   {
    "duration": 8,
    "start_time": "2023-06-04T02:57:02.178Z"
   },
   {
    "duration": 982,
    "start_time": "2023-06-04T02:57:02.188Z"
   },
   {
    "duration": 806,
    "start_time": "2023-06-04T02:57:03.173Z"
   },
   {
    "duration": 696,
    "start_time": "2023-06-04T02:57:03.981Z"
   },
   {
    "duration": 48,
    "start_time": "2023-06-04T02:57:04.679Z"
   },
   {
    "duration": 100,
    "start_time": "2023-06-04T02:57:04.729Z"
   },
   {
    "duration": 65,
    "start_time": "2023-06-04T02:57:04.832Z"
   },
   {
    "duration": 153,
    "start_time": "2023-06-04T02:57:04.900Z"
   },
   {
    "duration": 125,
    "start_time": "2023-06-04T02:57:05.060Z"
   },
   {
    "duration": 127,
    "start_time": "2023-06-04T02:57:05.186Z"
   },
   {
    "duration": 140,
    "start_time": "2023-06-04T02:57:05.315Z"
   },
   {
    "duration": 110,
    "start_time": "2023-06-04T02:57:05.457Z"
   },
   {
    "duration": 111,
    "start_time": "2023-06-04T02:57:05.570Z"
   },
   {
    "duration": 108,
    "start_time": "2023-06-04T02:57:05.683Z"
   },
   {
    "duration": 3020,
    "start_time": "2023-06-04T02:57:05.793Z"
   },
   {
    "duration": 3111,
    "start_time": "2023-06-04T02:57:08.815Z"
   },
   {
    "duration": 797,
    "start_time": "2023-06-04T02:58:11.931Z"
   },
   {
    "duration": 5,
    "start_time": "2023-06-04T02:58:16.470Z"
   },
   {
    "duration": 699,
    "start_time": "2023-06-04T02:58:18.732Z"
   },
   {
    "duration": 710,
    "start_time": "2023-06-04T02:58:26.362Z"
   },
   {
    "duration": 840,
    "start_time": "2023-06-04T02:58:35.383Z"
   },
   {
    "duration": 8,
    "start_time": "2023-06-04T02:59:25.096Z"
   },
   {
    "duration": 3041,
    "start_time": "2023-06-04T02:59:27.519Z"
   },
   {
    "duration": 9,
    "start_time": "2023-06-04T02:59:49.817Z"
   },
   {
    "duration": 2950,
    "start_time": "2023-06-04T02:59:56.524Z"
   },
   {
    "duration": 16,
    "start_time": "2023-06-04T03:00:32.042Z"
   },
   {
    "duration": 2898,
    "start_time": "2023-06-04T03:00:35.412Z"
   },
   {
    "duration": 9,
    "start_time": "2023-06-04T03:01:07.187Z"
   },
   {
    "duration": 3103,
    "start_time": "2023-06-04T03:01:11.184Z"
   },
   {
    "duration": 8,
    "start_time": "2023-06-04T03:01:22.304Z"
   },
   {
    "duration": 3566,
    "start_time": "2023-06-04T03:01:25.235Z"
   },
   {
    "duration": 8,
    "start_time": "2023-06-04T03:02:51.110Z"
   },
   {
    "duration": 2967,
    "start_time": "2023-06-04T03:02:53.971Z"
   },
   {
    "duration": 9,
    "start_time": "2023-06-04T03:03:35.669Z"
   },
   {
    "duration": 3079,
    "start_time": "2023-06-04T03:03:38.260Z"
   },
   {
    "duration": 3081,
    "start_time": "2023-06-04T03:04:01.782Z"
   },
   {
    "duration": 5,
    "start_time": "2023-06-04T03:05:53.983Z"
   },
   {
    "duration": 596,
    "start_time": "2023-06-04T03:05:56.733Z"
   },
   {
    "duration": 708,
    "start_time": "2023-06-04T03:06:01.544Z"
   },
   {
    "duration": 583,
    "start_time": "2023-06-04T03:06:15.791Z"
   },
   {
    "duration": 5,
    "start_time": "2023-06-04T03:06:42.178Z"
   },
   {
    "duration": 519,
    "start_time": "2023-06-04T03:06:44.529Z"
   },
   {
    "duration": 658,
    "start_time": "2023-06-04T03:06:47.179Z"
   },
   {
    "duration": 552,
    "start_time": "2023-06-04T03:06:50.260Z"
   },
   {
    "duration": 1290,
    "start_time": "2023-06-04T03:09:42.561Z"
   },
   {
    "duration": 392,
    "start_time": "2023-06-04T03:09:43.853Z"
   },
   {
    "duration": 46,
    "start_time": "2023-06-04T03:09:44.250Z"
   },
   {
    "duration": 15,
    "start_time": "2023-06-04T03:09:44.298Z"
   },
   {
    "duration": 7,
    "start_time": "2023-06-04T03:09:44.315Z"
   },
   {
    "duration": 20,
    "start_time": "2023-06-04T03:09:44.324Z"
   },
   {
    "duration": 585,
    "start_time": "2023-06-04T03:09:44.346Z"
   },
   {
    "duration": 557,
    "start_time": "2023-06-04T03:09:44.933Z"
   },
   {
    "duration": 697,
    "start_time": "2023-06-04T03:09:45.493Z"
   },
   {
    "duration": 50,
    "start_time": "2023-06-04T03:09:46.192Z"
   },
   {
    "duration": 8,
    "start_time": "2023-06-04T03:09:46.244Z"
   },
   {
    "duration": 27,
    "start_time": "2023-06-04T03:09:46.254Z"
   },
   {
    "duration": 260,
    "start_time": "2023-06-04T03:09:46.283Z"
   },
   {
    "duration": 3,
    "start_time": "2023-06-04T03:09:46.546Z"
   },
   {
    "duration": 100,
    "start_time": "2023-06-04T03:09:46.551Z"
   },
   {
    "duration": 28,
    "start_time": "2023-06-04T03:09:46.653Z"
   },
   {
    "duration": 4,
    "start_time": "2023-06-04T03:09:46.683Z"
   },
   {
    "duration": 21,
    "start_time": "2023-06-04T03:09:46.689Z"
   },
   {
    "duration": 7,
    "start_time": "2023-06-04T03:09:46.712Z"
   },
   {
    "duration": 2510,
    "start_time": "2023-06-04T03:09:46.721Z"
   },
   {
    "duration": 2579,
    "start_time": "2023-06-04T03:09:49.233Z"
   },
   {
    "duration": 7,
    "start_time": "2023-06-04T03:10:30.225Z"
   },
   {
    "duration": 2483,
    "start_time": "2023-06-04T03:10:32.601Z"
   },
   {
    "duration": 6,
    "start_time": "2023-06-04T03:10:42.508Z"
   },
   {
    "duration": 2824,
    "start_time": "2023-06-04T03:10:45.399Z"
   },
   {
    "duration": 1362,
    "start_time": "2023-06-04T03:13:03.650Z"
   },
   {
    "duration": 405,
    "start_time": "2023-06-04T03:13:05.014Z"
   },
   {
    "duration": 58,
    "start_time": "2023-06-04T03:13:05.421Z"
   },
   {
    "duration": 19,
    "start_time": "2023-06-04T03:13:05.481Z"
   },
   {
    "duration": 18,
    "start_time": "2023-06-04T03:13:05.502Z"
   },
   {
    "duration": 19,
    "start_time": "2023-06-04T03:13:05.522Z"
   },
   {
    "duration": 641,
    "start_time": "2023-06-04T03:13:05.544Z"
   },
   {
    "duration": 600,
    "start_time": "2023-06-04T03:13:06.187Z"
   },
   {
    "duration": 699,
    "start_time": "2023-06-04T03:13:06.789Z"
   },
   {
    "duration": 52,
    "start_time": "2023-06-04T03:13:07.492Z"
   },
   {
    "duration": 7,
    "start_time": "2023-06-04T03:13:07.546Z"
   },
   {
    "duration": 33,
    "start_time": "2023-06-04T03:13:07.555Z"
   },
   {
    "duration": 352,
    "start_time": "2023-06-04T03:13:07.590Z"
   },
   {
    "duration": 94,
    "start_time": "2023-06-04T03:13:07.948Z"
   },
   {
    "duration": 4,
    "start_time": "2023-06-04T03:13:08.044Z"
   },
   {
    "duration": 23,
    "start_time": "2023-06-04T03:13:08.050Z"
   },
   {
    "duration": 4,
    "start_time": "2023-06-04T03:13:08.075Z"
   },
   {
    "duration": 26,
    "start_time": "2023-06-04T03:13:08.082Z"
   },
   {
    "duration": 38,
    "start_time": "2023-06-04T03:13:08.110Z"
   },
   {
    "duration": 2782,
    "start_time": "2023-06-04T03:13:08.150Z"
   },
   {
    "duration": 2693,
    "start_time": "2023-06-04T03:13:10.934Z"
   },
   {
    "duration": 1379,
    "start_time": "2023-06-04T03:17:37.195Z"
   },
   {
    "duration": 368,
    "start_time": "2023-06-04T03:17:38.576Z"
   },
   {
    "duration": 44,
    "start_time": "2023-06-04T03:17:38.946Z"
   },
   {
    "duration": 15,
    "start_time": "2023-06-04T03:17:38.992Z"
   },
   {
    "duration": 7,
    "start_time": "2023-06-04T03:17:39.008Z"
   },
   {
    "duration": 17,
    "start_time": "2023-06-04T03:17:39.018Z"
   },
   {
    "duration": 573,
    "start_time": "2023-06-04T03:17:39.036Z"
   },
   {
    "duration": 562,
    "start_time": "2023-06-04T03:17:39.610Z"
   },
   {
    "duration": 634,
    "start_time": "2023-06-04T03:17:40.174Z"
   },
   {
    "duration": 42,
    "start_time": "2023-06-04T03:17:40.811Z"
   },
   {
    "duration": 9,
    "start_time": "2023-06-04T03:17:40.855Z"
   },
   {
    "duration": 34,
    "start_time": "2023-06-04T03:17:40.866Z"
   },
   {
    "duration": 142,
    "start_time": "2023-06-04T03:17:40.901Z"
   },
   {
    "duration": 97,
    "start_time": "2023-06-04T03:17:41.045Z"
   },
   {
    "duration": 4,
    "start_time": "2023-06-04T03:17:41.144Z"
   },
   {
    "duration": 24,
    "start_time": "2023-06-04T03:17:41.150Z"
   },
   {
    "duration": 3,
    "start_time": "2023-06-04T03:17:41.176Z"
   },
   {
    "duration": 29,
    "start_time": "2023-06-04T03:17:41.180Z"
   },
   {
    "duration": 6,
    "start_time": "2023-06-04T03:17:41.210Z"
   },
   {
    "duration": 2404,
    "start_time": "2023-06-04T03:17:41.218Z"
   },
   {
    "duration": 2545,
    "start_time": "2023-06-04T03:17:43.623Z"
   },
   {
    "duration": 1434,
    "start_time": "2023-06-04T03:20:35.328Z"
   },
   {
    "duration": 379,
    "start_time": "2023-06-04T03:20:36.763Z"
   },
   {
    "duration": 44,
    "start_time": "2023-06-04T03:20:37.144Z"
   },
   {
    "duration": 15,
    "start_time": "2023-06-04T03:20:37.190Z"
   },
   {
    "duration": 7,
    "start_time": "2023-06-04T03:20:37.206Z"
   },
   {
    "duration": 27,
    "start_time": "2023-06-04T03:20:37.215Z"
   },
   {
    "duration": 579,
    "start_time": "2023-06-04T03:20:37.244Z"
   },
   {
    "duration": 661,
    "start_time": "2023-06-04T03:20:37.825Z"
   },
   {
    "duration": 706,
    "start_time": "2023-06-04T03:20:38.488Z"
   },
   {
    "duration": 52,
    "start_time": "2023-06-04T03:20:39.199Z"
   },
   {
    "duration": 8,
    "start_time": "2023-06-04T03:20:39.253Z"
   },
   {
    "duration": 39,
    "start_time": "2023-06-04T03:20:39.264Z"
   },
   {
    "duration": 245,
    "start_time": "2023-06-04T03:20:39.306Z"
   },
   {
    "duration": 91,
    "start_time": "2023-06-04T03:20:39.554Z"
   },
   {
    "duration": 122,
    "start_time": "2023-06-04T03:20:39.648Z"
   },
   {
    "duration": 26,
    "start_time": "2023-06-04T03:20:39.772Z"
   },
   {
    "duration": 3,
    "start_time": "2023-06-04T03:20:39.800Z"
   },
   {
    "duration": 17,
    "start_time": "2023-06-04T03:20:39.805Z"
   },
   {
    "duration": 7,
    "start_time": "2023-06-04T03:20:39.824Z"
   },
   {
    "duration": 2559,
    "start_time": "2023-06-04T03:20:39.832Z"
   },
   {
    "duration": 2833,
    "start_time": "2023-06-04T03:20:42.392Z"
   }
  ],
  "kernelspec": {
   "display_name": "Python 3 (ipykernel)",
   "language": "python",
   "name": "python3"
  },
  "language_info": {
   "codemirror_mode": {
    "name": "ipython",
    "version": 3
   },
   "file_extension": ".py",
   "mimetype": "text/x-python",
   "name": "python",
   "nbconvert_exporter": "python",
   "pygments_lexer": "ipython3",
   "version": "3.9.18"
  },
  "toc": {
   "base_numbering": 1,
   "nav_menu": {},
   "number_sections": true,
   "sideBar": true,
   "skip_h1_title": true,
   "title_cell": "Table of Contents",
   "title_sidebar": "Contents",
   "toc_cell": false,
   "toc_position": {},
   "toc_section_display": true,
   "toc_window_display": false
  }
 },
 "nbformat": 4,
 "nbformat_minor": 2
}
