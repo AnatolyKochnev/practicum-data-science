{
 "cells": [
  {
   "cell_type": "markdown",
   "id": "7ff70fa6",
   "metadata": {
    "deletable": false,
    "editable": false,
    "id": "c81daeeb"
   },
   "source": [
    "# Исследование надежности заемщиков\n"
   ]
  },
  {
   "cell_type": "markdown",
   "id": "1b3ab473",
   "metadata": {
    "deletable": false,
    "editable": false,
    "id": "827c20bf"
   },
   "source": [
    "Во второй части проекта вы выполните шаги 3 и 4. Их вручную проверит ревьюер.\n",
    "Чтобы вам не пришлось писать код заново для шагов 1 и 2, мы добавили авторские решения в ячейки с кодом. \n",
    "\n"
   ]
  },
  {
   "cell_type": "markdown",
   "id": "98c7b2e4",
   "metadata": {
    "deletable": false,
    "editable": false,
    "id": "744d7639"
   },
   "source": [
    "## Откройте таблицу и изучите общую информацию о данных"
   ]
  },
  {
   "cell_type": "markdown",
   "id": "3f0dc854",
   "metadata": {
    "deletable": false,
    "editable": false,
    "id": "e7a14c31"
   },
   "source": [
    "**Задание 1. Импортируйте библиотеку pandas. Считайте данные из csv-файла в датафрейм и сохраните в переменную `data`. Путь к файлу:**\n",
    "\n",
    "`/datasets/data.csv`"
   ]
  },
  {
   "cell_type": "code",
   "execution_count": 1,
   "id": "adfd8fd3",
   "metadata": {
    "deletable": false,
    "id": "7bcf75c9"
   },
   "outputs": [],
   "source": [
    "import pandas as pd\n",
    "\n",
    "try:\n",
    "    data = pd.read_csv('/datasets/data.csv')\n",
    "except:\n",
    "    data = pd.read_csv('https://code.s3.yandex.net/datasets/data.csv')"
   ]
  },
  {
   "cell_type": "markdown",
   "id": "da31aaf3",
   "metadata": {
    "deletable": false,
    "editable": false,
    "id": "b8038fe3"
   },
   "source": [
    "**Задание 2. Выведите первые 20 строчек датафрейма `data` на экран.**"
   ]
  },
  {
   "cell_type": "code",
   "execution_count": 2,
   "id": "e2ffbac0",
   "metadata": {
    "deletable": false,
    "id": "2a7cab99",
    "outputId": "1a8f3ef2-d323-4ec2-ddf7-89670b5944c4"
   },
   "outputs": [
    {
     "data": {
      "text/html": [
       "<div>\n",
       "<style scoped>\n",
       "    .dataframe tbody tr th:only-of-type {\n",
       "        vertical-align: middle;\n",
       "    }\n",
       "\n",
       "    .dataframe tbody tr th {\n",
       "        vertical-align: top;\n",
       "    }\n",
       "\n",
       "    .dataframe thead th {\n",
       "        text-align: right;\n",
       "    }\n",
       "</style>\n",
       "<table border=\"1\" class=\"dataframe\">\n",
       "  <thead>\n",
       "    <tr style=\"text-align: right;\">\n",
       "      <th></th>\n",
       "      <th>children</th>\n",
       "      <th>days_employed</th>\n",
       "      <th>dob_years</th>\n",
       "      <th>education</th>\n",
       "      <th>education_id</th>\n",
       "      <th>family_status</th>\n",
       "      <th>family_status_id</th>\n",
       "      <th>gender</th>\n",
       "      <th>income_type</th>\n",
       "      <th>debt</th>\n",
       "      <th>total_income</th>\n",
       "      <th>purpose</th>\n",
       "    </tr>\n",
       "  </thead>\n",
       "  <tbody>\n",
       "    <tr>\n",
       "      <th>0</th>\n",
       "      <td>1</td>\n",
       "      <td>-8437.673028</td>\n",
       "      <td>42</td>\n",
       "      <td>высшее</td>\n",
       "      <td>0</td>\n",
       "      <td>женат / замужем</td>\n",
       "      <td>0</td>\n",
       "      <td>F</td>\n",
       "      <td>сотрудник</td>\n",
       "      <td>0</td>\n",
       "      <td>253875.639453</td>\n",
       "      <td>покупка жилья</td>\n",
       "    </tr>\n",
       "    <tr>\n",
       "      <th>1</th>\n",
       "      <td>1</td>\n",
       "      <td>-4024.803754</td>\n",
       "      <td>36</td>\n",
       "      <td>среднее</td>\n",
       "      <td>1</td>\n",
       "      <td>женат / замужем</td>\n",
       "      <td>0</td>\n",
       "      <td>F</td>\n",
       "      <td>сотрудник</td>\n",
       "      <td>0</td>\n",
       "      <td>112080.014102</td>\n",
       "      <td>приобретение автомобиля</td>\n",
       "    </tr>\n",
       "    <tr>\n",
       "      <th>2</th>\n",
       "      <td>0</td>\n",
       "      <td>-5623.422610</td>\n",
       "      <td>33</td>\n",
       "      <td>Среднее</td>\n",
       "      <td>1</td>\n",
       "      <td>женат / замужем</td>\n",
       "      <td>0</td>\n",
       "      <td>M</td>\n",
       "      <td>сотрудник</td>\n",
       "      <td>0</td>\n",
       "      <td>145885.952297</td>\n",
       "      <td>покупка жилья</td>\n",
       "    </tr>\n",
       "    <tr>\n",
       "      <th>3</th>\n",
       "      <td>3</td>\n",
       "      <td>-4124.747207</td>\n",
       "      <td>32</td>\n",
       "      <td>среднее</td>\n",
       "      <td>1</td>\n",
       "      <td>женат / замужем</td>\n",
       "      <td>0</td>\n",
       "      <td>M</td>\n",
       "      <td>сотрудник</td>\n",
       "      <td>0</td>\n",
       "      <td>267628.550329</td>\n",
       "      <td>дополнительное образование</td>\n",
       "    </tr>\n",
       "    <tr>\n",
       "      <th>4</th>\n",
       "      <td>0</td>\n",
       "      <td>340266.072047</td>\n",
       "      <td>53</td>\n",
       "      <td>среднее</td>\n",
       "      <td>1</td>\n",
       "      <td>гражданский брак</td>\n",
       "      <td>1</td>\n",
       "      <td>F</td>\n",
       "      <td>пенсионер</td>\n",
       "      <td>0</td>\n",
       "      <td>158616.077870</td>\n",
       "      <td>сыграть свадьбу</td>\n",
       "    </tr>\n",
       "    <tr>\n",
       "      <th>5</th>\n",
       "      <td>0</td>\n",
       "      <td>-926.185831</td>\n",
       "      <td>27</td>\n",
       "      <td>высшее</td>\n",
       "      <td>0</td>\n",
       "      <td>гражданский брак</td>\n",
       "      <td>1</td>\n",
       "      <td>M</td>\n",
       "      <td>компаньон</td>\n",
       "      <td>0</td>\n",
       "      <td>255763.565419</td>\n",
       "      <td>покупка жилья</td>\n",
       "    </tr>\n",
       "    <tr>\n",
       "      <th>6</th>\n",
       "      <td>0</td>\n",
       "      <td>-2879.202052</td>\n",
       "      <td>43</td>\n",
       "      <td>высшее</td>\n",
       "      <td>0</td>\n",
       "      <td>женат / замужем</td>\n",
       "      <td>0</td>\n",
       "      <td>F</td>\n",
       "      <td>компаньон</td>\n",
       "      <td>0</td>\n",
       "      <td>240525.971920</td>\n",
       "      <td>операции с жильем</td>\n",
       "    </tr>\n",
       "    <tr>\n",
       "      <th>7</th>\n",
       "      <td>0</td>\n",
       "      <td>-152.779569</td>\n",
       "      <td>50</td>\n",
       "      <td>СРЕДНЕЕ</td>\n",
       "      <td>1</td>\n",
       "      <td>женат / замужем</td>\n",
       "      <td>0</td>\n",
       "      <td>M</td>\n",
       "      <td>сотрудник</td>\n",
       "      <td>0</td>\n",
       "      <td>135823.934197</td>\n",
       "      <td>образование</td>\n",
       "    </tr>\n",
       "    <tr>\n",
       "      <th>8</th>\n",
       "      <td>2</td>\n",
       "      <td>-6929.865299</td>\n",
       "      <td>35</td>\n",
       "      <td>ВЫСШЕЕ</td>\n",
       "      <td>0</td>\n",
       "      <td>гражданский брак</td>\n",
       "      <td>1</td>\n",
       "      <td>F</td>\n",
       "      <td>сотрудник</td>\n",
       "      <td>0</td>\n",
       "      <td>95856.832424</td>\n",
       "      <td>на проведение свадьбы</td>\n",
       "    </tr>\n",
       "    <tr>\n",
       "      <th>9</th>\n",
       "      <td>0</td>\n",
       "      <td>-2188.756445</td>\n",
       "      <td>41</td>\n",
       "      <td>среднее</td>\n",
       "      <td>1</td>\n",
       "      <td>женат / замужем</td>\n",
       "      <td>0</td>\n",
       "      <td>M</td>\n",
       "      <td>сотрудник</td>\n",
       "      <td>0</td>\n",
       "      <td>144425.938277</td>\n",
       "      <td>покупка жилья для семьи</td>\n",
       "    </tr>\n",
       "    <tr>\n",
       "      <th>10</th>\n",
       "      <td>2</td>\n",
       "      <td>-4171.483647</td>\n",
       "      <td>36</td>\n",
       "      <td>высшее</td>\n",
       "      <td>0</td>\n",
       "      <td>женат / замужем</td>\n",
       "      <td>0</td>\n",
       "      <td>M</td>\n",
       "      <td>компаньон</td>\n",
       "      <td>0</td>\n",
       "      <td>113943.491460</td>\n",
       "      <td>покупка недвижимости</td>\n",
       "    </tr>\n",
       "    <tr>\n",
       "      <th>11</th>\n",
       "      <td>0</td>\n",
       "      <td>-792.701887</td>\n",
       "      <td>40</td>\n",
       "      <td>среднее</td>\n",
       "      <td>1</td>\n",
       "      <td>женат / замужем</td>\n",
       "      <td>0</td>\n",
       "      <td>F</td>\n",
       "      <td>сотрудник</td>\n",
       "      <td>0</td>\n",
       "      <td>77069.234271</td>\n",
       "      <td>покупка коммерческой недвижимости</td>\n",
       "    </tr>\n",
       "    <tr>\n",
       "      <th>12</th>\n",
       "      <td>0</td>\n",
       "      <td>NaN</td>\n",
       "      <td>65</td>\n",
       "      <td>среднее</td>\n",
       "      <td>1</td>\n",
       "      <td>гражданский брак</td>\n",
       "      <td>1</td>\n",
       "      <td>M</td>\n",
       "      <td>пенсионер</td>\n",
       "      <td>0</td>\n",
       "      <td>NaN</td>\n",
       "      <td>сыграть свадьбу</td>\n",
       "    </tr>\n",
       "    <tr>\n",
       "      <th>13</th>\n",
       "      <td>0</td>\n",
       "      <td>-1846.641941</td>\n",
       "      <td>54</td>\n",
       "      <td>неоконченное высшее</td>\n",
       "      <td>2</td>\n",
       "      <td>женат / замужем</td>\n",
       "      <td>0</td>\n",
       "      <td>F</td>\n",
       "      <td>сотрудник</td>\n",
       "      <td>0</td>\n",
       "      <td>130458.228857</td>\n",
       "      <td>приобретение автомобиля</td>\n",
       "    </tr>\n",
       "    <tr>\n",
       "      <th>14</th>\n",
       "      <td>0</td>\n",
       "      <td>-1844.956182</td>\n",
       "      <td>56</td>\n",
       "      <td>высшее</td>\n",
       "      <td>0</td>\n",
       "      <td>гражданский брак</td>\n",
       "      <td>1</td>\n",
       "      <td>F</td>\n",
       "      <td>компаньон</td>\n",
       "      <td>1</td>\n",
       "      <td>165127.911772</td>\n",
       "      <td>покупка жилой недвижимости</td>\n",
       "    </tr>\n",
       "    <tr>\n",
       "      <th>15</th>\n",
       "      <td>1</td>\n",
       "      <td>-972.364419</td>\n",
       "      <td>26</td>\n",
       "      <td>среднее</td>\n",
       "      <td>1</td>\n",
       "      <td>женат / замужем</td>\n",
       "      <td>0</td>\n",
       "      <td>F</td>\n",
       "      <td>сотрудник</td>\n",
       "      <td>0</td>\n",
       "      <td>116820.904450</td>\n",
       "      <td>строительство собственной недвижимости</td>\n",
       "    </tr>\n",
       "    <tr>\n",
       "      <th>16</th>\n",
       "      <td>0</td>\n",
       "      <td>-1719.934226</td>\n",
       "      <td>35</td>\n",
       "      <td>среднее</td>\n",
       "      <td>1</td>\n",
       "      <td>женат / замужем</td>\n",
       "      <td>0</td>\n",
       "      <td>F</td>\n",
       "      <td>сотрудник</td>\n",
       "      <td>0</td>\n",
       "      <td>289202.704229</td>\n",
       "      <td>недвижимость</td>\n",
       "    </tr>\n",
       "    <tr>\n",
       "      <th>17</th>\n",
       "      <td>0</td>\n",
       "      <td>-2369.999720</td>\n",
       "      <td>33</td>\n",
       "      <td>высшее</td>\n",
       "      <td>0</td>\n",
       "      <td>гражданский брак</td>\n",
       "      <td>1</td>\n",
       "      <td>M</td>\n",
       "      <td>сотрудник</td>\n",
       "      <td>0</td>\n",
       "      <td>90410.586745</td>\n",
       "      <td>строительство недвижимости</td>\n",
       "    </tr>\n",
       "    <tr>\n",
       "      <th>18</th>\n",
       "      <td>0</td>\n",
       "      <td>400281.136913</td>\n",
       "      <td>53</td>\n",
       "      <td>среднее</td>\n",
       "      <td>1</td>\n",
       "      <td>вдовец / вдова</td>\n",
       "      <td>2</td>\n",
       "      <td>F</td>\n",
       "      <td>пенсионер</td>\n",
       "      <td>0</td>\n",
       "      <td>56823.777243</td>\n",
       "      <td>на покупку подержанного автомобиля</td>\n",
       "    </tr>\n",
       "    <tr>\n",
       "      <th>19</th>\n",
       "      <td>0</td>\n",
       "      <td>-10038.818549</td>\n",
       "      <td>48</td>\n",
       "      <td>СРЕДНЕЕ</td>\n",
       "      <td>1</td>\n",
       "      <td>в разводе</td>\n",
       "      <td>3</td>\n",
       "      <td>F</td>\n",
       "      <td>сотрудник</td>\n",
       "      <td>0</td>\n",
       "      <td>242831.107982</td>\n",
       "      <td>на покупку своего автомобиля</td>\n",
       "    </tr>\n",
       "  </tbody>\n",
       "</table>\n",
       "</div>"
      ],
      "text/plain": [
       "    children  days_employed  dob_years            education  education_id  \\\n",
       "0          1   -8437.673028         42               высшее             0   \n",
       "1          1   -4024.803754         36              среднее             1   \n",
       "2          0   -5623.422610         33              Среднее             1   \n",
       "3          3   -4124.747207         32              среднее             1   \n",
       "4          0  340266.072047         53              среднее             1   \n",
       "5          0    -926.185831         27               высшее             0   \n",
       "6          0   -2879.202052         43               высшее             0   \n",
       "7          0    -152.779569         50              СРЕДНЕЕ             1   \n",
       "8          2   -6929.865299         35               ВЫСШЕЕ             0   \n",
       "9          0   -2188.756445         41              среднее             1   \n",
       "10         2   -4171.483647         36               высшее             0   \n",
       "11         0    -792.701887         40              среднее             1   \n",
       "12         0            NaN         65              среднее             1   \n",
       "13         0   -1846.641941         54  неоконченное высшее             2   \n",
       "14         0   -1844.956182         56               высшее             0   \n",
       "15         1    -972.364419         26              среднее             1   \n",
       "16         0   -1719.934226         35              среднее             1   \n",
       "17         0   -2369.999720         33               высшее             0   \n",
       "18         0  400281.136913         53              среднее             1   \n",
       "19         0  -10038.818549         48              СРЕДНЕЕ             1   \n",
       "\n",
       "       family_status  family_status_id gender income_type  debt  \\\n",
       "0    женат / замужем                 0      F   сотрудник     0   \n",
       "1    женат / замужем                 0      F   сотрудник     0   \n",
       "2    женат / замужем                 0      M   сотрудник     0   \n",
       "3    женат / замужем                 0      M   сотрудник     0   \n",
       "4   гражданский брак                 1      F   пенсионер     0   \n",
       "5   гражданский брак                 1      M   компаньон     0   \n",
       "6    женат / замужем                 0      F   компаньон     0   \n",
       "7    женат / замужем                 0      M   сотрудник     0   \n",
       "8   гражданский брак                 1      F   сотрудник     0   \n",
       "9    женат / замужем                 0      M   сотрудник     0   \n",
       "10   женат / замужем                 0      M   компаньон     0   \n",
       "11   женат / замужем                 0      F   сотрудник     0   \n",
       "12  гражданский брак                 1      M   пенсионер     0   \n",
       "13   женат / замужем                 0      F   сотрудник     0   \n",
       "14  гражданский брак                 1      F   компаньон     1   \n",
       "15   женат / замужем                 0      F   сотрудник     0   \n",
       "16   женат / замужем                 0      F   сотрудник     0   \n",
       "17  гражданский брак                 1      M   сотрудник     0   \n",
       "18    вдовец / вдова                 2      F   пенсионер     0   \n",
       "19         в разводе                 3      F   сотрудник     0   \n",
       "\n",
       "     total_income                                 purpose  \n",
       "0   253875.639453                           покупка жилья  \n",
       "1   112080.014102                 приобретение автомобиля  \n",
       "2   145885.952297                           покупка жилья  \n",
       "3   267628.550329              дополнительное образование  \n",
       "4   158616.077870                         сыграть свадьбу  \n",
       "5   255763.565419                           покупка жилья  \n",
       "6   240525.971920                       операции с жильем  \n",
       "7   135823.934197                             образование  \n",
       "8    95856.832424                   на проведение свадьбы  \n",
       "9   144425.938277                 покупка жилья для семьи  \n",
       "10  113943.491460                    покупка недвижимости  \n",
       "11   77069.234271       покупка коммерческой недвижимости  \n",
       "12            NaN                         сыграть свадьбу  \n",
       "13  130458.228857                 приобретение автомобиля  \n",
       "14  165127.911772              покупка жилой недвижимости  \n",
       "15  116820.904450  строительство собственной недвижимости  \n",
       "16  289202.704229                            недвижимость  \n",
       "17   90410.586745              строительство недвижимости  \n",
       "18   56823.777243      на покупку подержанного автомобиля  \n",
       "19  242831.107982            на покупку своего автомобиля  "
      ]
     },
     "execution_count": 2,
     "metadata": {},
     "output_type": "execute_result"
    }
   ],
   "source": [
    "data.head(20)"
   ]
  },
  {
   "cell_type": "markdown",
   "id": "c850ea0e",
   "metadata": {
    "deletable": false,
    "editable": false,
    "id": "1c12e233"
   },
   "source": [
    "**Задание 3. Выведите основную информацию о датафрейме с помощью метода `info()`.**"
   ]
  },
  {
   "cell_type": "code",
   "execution_count": 3,
   "id": "d3733b6d",
   "metadata": {
    "deletable": false,
    "id": "2b757bca",
    "outputId": "15376089-8dad-46c9-b520-c05248d43158"
   },
   "outputs": [
    {
     "name": "stdout",
     "output_type": "stream",
     "text": [
      "<class 'pandas.core.frame.DataFrame'>\n",
      "RangeIndex: 21525 entries, 0 to 21524\n",
      "Data columns (total 12 columns):\n",
      " #   Column            Non-Null Count  Dtype  \n",
      "---  ------            --------------  -----  \n",
      " 0   children          21525 non-null  int64  \n",
      " 1   days_employed     19351 non-null  float64\n",
      " 2   dob_years         21525 non-null  int64  \n",
      " 3   education         21525 non-null  object \n",
      " 4   education_id      21525 non-null  int64  \n",
      " 5   family_status     21525 non-null  object \n",
      " 6   family_status_id  21525 non-null  int64  \n",
      " 7   gender            21525 non-null  object \n",
      " 8   income_type       21525 non-null  object \n",
      " 9   debt              21525 non-null  int64  \n",
      " 10  total_income      19351 non-null  float64\n",
      " 11  purpose           21525 non-null  object \n",
      "dtypes: float64(2), int64(5), object(5)\n",
      "memory usage: 2.0+ MB\n"
     ]
    }
   ],
   "source": [
    "data.info()"
   ]
  },
  {
   "cell_type": "markdown",
   "id": "b208c498",
   "metadata": {
    "deletable": false,
    "editable": false,
    "id": "333ec665"
   },
   "source": [
    "## Предобработка данных"
   ]
  },
  {
   "cell_type": "markdown",
   "id": "371f5f72",
   "metadata": {
    "deletable": false,
    "editable": false,
    "id": "02d92d53"
   },
   "source": [
    "### Удаление пропусков"
   ]
  },
  {
   "cell_type": "markdown",
   "id": "918c4a7e",
   "metadata": {
    "deletable": false,
    "editable": false,
    "id": "cd84967c"
   },
   "source": [
    "**Задание 4. Выведите количество пропущенных значений для каждого столбца. Используйте комбинацию двух методов.**"
   ]
  },
  {
   "cell_type": "code",
   "execution_count": 4,
   "id": "d463d7a5",
   "metadata": {
    "deletable": false,
    "id": "7f9b2309",
    "outputId": "81f4d817-781c-465c-ed15-91ce4446810d",
    "scrolled": true
   },
   "outputs": [
    {
     "data": {
      "text/plain": [
       "children               0\n",
       "days_employed       2174\n",
       "dob_years              0\n",
       "education              0\n",
       "education_id           0\n",
       "family_status          0\n",
       "family_status_id       0\n",
       "gender                 0\n",
       "income_type            0\n",
       "debt                   0\n",
       "total_income        2174\n",
       "purpose                0\n",
       "dtype: int64"
      ]
     },
     "execution_count": 4,
     "metadata": {},
     "output_type": "execute_result"
    }
   ],
   "source": [
    "data.isna().sum()"
   ]
  },
  {
   "cell_type": "markdown",
   "id": "c6e3ffdd",
   "metadata": {},
   "source": [
    "Сохраним данные с пустотами для анализа в конце проекта:"
   ]
  },
  {
   "cell_type": "code",
   "execution_count": 5,
   "id": "d2c3d47e",
   "metadata": {},
   "outputs": [],
   "source": [
    "data_with_nulls = data[(data['days_employed'].isna()) | (data['total_income'].isna())]"
   ]
  },
  {
   "cell_type": "markdown",
   "id": "902b8674",
   "metadata": {
    "deletable": false,
    "editable": false,
    "id": "db86e27b"
   },
   "source": [
    "**Задание 5. В двух столбцах есть пропущенные значения. Один из них — `days_employed`. Пропуски в этом столбце вы обработаете на следующем этапе. Другой столбец с пропущенными значениями — `total_income` — хранит данные о доходах. На сумму дохода сильнее всего влияет тип занятости, поэтому заполнить пропуски в этом столбце нужно медианным значением по каждому типу из столбца `income_type`. Например, у человека с типом занятости `сотрудник` пропуск в столбце `total_income` должен быть заполнен медианным доходом среди всех записей с тем же типом.**"
   ]
  },
  {
   "cell_type": "code",
   "execution_count": 6,
   "id": "b84535a1",
   "metadata": {
    "deletable": false,
    "id": "42006a93"
   },
   "outputs": [],
   "source": [
    "for t in data['income_type'].unique():\n",
    "    data.loc[(data['income_type'] == t) & (data['total_income'].isna()), 'total_income'] = \\\n",
    "    data.loc[(data['income_type'] == t), 'total_income'].median()"
   ]
  },
  {
   "cell_type": "markdown",
   "id": "bb4a555b",
   "metadata": {
    "deletable": false,
    "editable": false,
    "id": "89da5ece"
   },
   "source": [
    "### Обработка аномальных значений"
   ]
  },
  {
   "cell_type": "markdown",
   "id": "8a1105b4",
   "metadata": {
    "deletable": false,
    "editable": false,
    "id": "57964554"
   },
   "source": [
    "**Задание 6. В данных могут встречаться артефакты (аномалии) — значения, которые не отражают действительность и появились по какой-то ошибке. таким артефактом будет отрицательное количество дней трудового стажа в столбце `days_employed`. Для реальных данных это нормально. Обработайте значения в этом столбце: замените все отрицательные значения положительными с помощью метода `abs()`.**"
   ]
  },
  {
   "cell_type": "code",
   "execution_count": 7,
   "id": "1a7f0646",
   "metadata": {
    "deletable": false,
    "id": "f6f055bf"
   },
   "outputs": [],
   "source": [
    "data['days_employed'] = data['days_employed'].abs()"
   ]
  },
  {
   "cell_type": "markdown",
   "id": "b4177566",
   "metadata": {
    "deletable": false,
    "editable": false,
    "id": "6107dd2f"
   },
   "source": [
    "**Задание 7. Для каждого типа занятости выведите медианное значение трудового стажа `days_employed` в днях.**"
   ]
  },
  {
   "cell_type": "code",
   "execution_count": 8,
   "id": "803e9380",
   "metadata": {
    "deletable": false,
    "id": "85a5faf6",
    "outputId": "801ef80e-522b-4668-f34e-565af7432bcf"
   },
   "outputs": [
    {
     "data": {
      "text/plain": [
       "income_type\n",
       "безработный        366413.652744\n",
       "в декрете            3296.759962\n",
       "госслужащий          2689.368353\n",
       "компаньон            1547.382223\n",
       "пенсионер          365213.306266\n",
       "предприниматель       520.848083\n",
       "сотрудник            1574.202821\n",
       "студент               578.751554\n",
       "Name: days_employed, dtype: float64"
      ]
     },
     "execution_count": 8,
     "metadata": {},
     "output_type": "execute_result"
    }
   ],
   "source": [
    "data.groupby('income_type')['days_employed'].agg('median')"
   ]
  },
  {
   "cell_type": "markdown",
   "id": "5e3fcd0b",
   "metadata": {
    "deletable": false,
    "editable": false,
    "id": "38d1a030"
   },
   "source": [
    "У двух типов (безработные и пенсионеры) получатся аномально большие значения. Исправить такие значения сложно, поэтому оставьте их как есть. Тем более этот столбец не понадобится вам для исследования."
   ]
  },
  {
   "cell_type": "markdown",
   "id": "fae4add2",
   "metadata": {
    "deletable": false,
    "editable": false,
    "id": "d8a9f147"
   },
   "source": [
    "**Задание 8. Выведите перечень уникальных значений столбца `children`.**"
   ]
  },
  {
   "cell_type": "code",
   "execution_count": 9,
   "id": "48a06694",
   "metadata": {
    "deletable": false,
    "id": "ef5056eb",
    "outputId": "6975b15c-7f95-4697-d16d-a0c79b657b03"
   },
   "outputs": [
    {
     "data": {
      "text/plain": [
       "array([ 1,  0,  3,  2, -1,  4, 20,  5])"
      ]
     },
     "execution_count": 9,
     "metadata": {},
     "output_type": "execute_result"
    }
   ],
   "source": [
    "data['children'].unique()"
   ]
  },
  {
   "cell_type": "markdown",
   "id": "0609020f",
   "metadata": {
    "deletable": false,
    "editable": false,
    "id": "40b9ebf2"
   },
   "source": [
    "**Задание 9. В столбце `children` есть два аномальных значения. Удалите строки, в которых встречаются такие аномальные значения из датафрейма `data`.**"
   ]
  },
  {
   "cell_type": "code",
   "execution_count": 10,
   "id": "f20ccee8",
   "metadata": {
    "deletable": false,
    "id": "3ff9801d"
   },
   "outputs": [],
   "source": [
    "data = data[(data['children'] != -1) & (data['children'] != 20)]"
   ]
  },
  {
   "cell_type": "markdown",
   "id": "ccbc3d3b",
   "metadata": {
    "deletable": false,
    "editable": false,
    "id": "bbc4d0ce"
   },
   "source": [
    "**Задание 10. Ещё раз выведите перечень уникальных значений столбца `children`, чтобы убедиться, что артефакты удалены.**"
   ]
  },
  {
   "cell_type": "code",
   "execution_count": 11,
   "id": "780813a8",
   "metadata": {
    "deletable": false,
    "id": "ad4fa8b7",
    "outputId": "b2097101-d49d-44d9-901b-32a65c9463d1"
   },
   "outputs": [
    {
     "data": {
      "text/plain": [
       "array([1, 0, 3, 2, 4, 5])"
      ]
     },
     "execution_count": 11,
     "metadata": {},
     "output_type": "execute_result"
    }
   ],
   "source": [
    "data['children'].unique()"
   ]
  },
  {
   "cell_type": "markdown",
   "id": "f87eb7fe",
   "metadata": {
    "deletable": false,
    "editable": false,
    "id": "75440b63"
   },
   "source": [
    "### Удаление пропусков (продолжение)"
   ]
  },
  {
   "cell_type": "markdown",
   "id": "b8db4c5f",
   "metadata": {
    "deletable": false,
    "editable": false,
    "id": "f4ea573f"
   },
   "source": [
    "**Задание 11. Заполните пропуски в столбце `days_employed` медианными значениями по каждого типа занятости `income_type`.**"
   ]
  },
  {
   "cell_type": "code",
   "execution_count": 12,
   "id": "9b97519f",
   "metadata": {
    "deletable": false,
    "id": "af6b1a7e"
   },
   "outputs": [],
   "source": [
    "for t in data['income_type'].unique():\n",
    "    data.loc[(data['income_type'] == t) & (data['days_employed'].isna()), 'days_employed'] = \\\n",
    "    data.loc[(data['income_type'] == t), 'days_employed'].median()"
   ]
  },
  {
   "cell_type": "markdown",
   "id": "05438c24",
   "metadata": {
    "deletable": false,
    "editable": false,
    "id": "2753f40d"
   },
   "source": [
    "**Задание 12. Убедитесь, что все пропуски заполнены. Проверьте себя и ещё раз выведите количество пропущенных значений для каждого столбца с помощью двух методов.**"
   ]
  },
  {
   "cell_type": "code",
   "execution_count": 13,
   "id": "9243a3c8",
   "metadata": {
    "deletable": false,
    "id": "55f78bc2",
    "outputId": "8da1e4e1-358e-4e87-98c9-f261bce0a7b2"
   },
   "outputs": [
    {
     "data": {
      "text/plain": [
       "children            0\n",
       "days_employed       0\n",
       "dob_years           0\n",
       "education           0\n",
       "education_id        0\n",
       "family_status       0\n",
       "family_status_id    0\n",
       "gender              0\n",
       "income_type         0\n",
       "debt                0\n",
       "total_income        0\n",
       "purpose             0\n",
       "dtype: int64"
      ]
     },
     "execution_count": 13,
     "metadata": {},
     "output_type": "execute_result"
    }
   ],
   "source": [
    "data.isna().sum()"
   ]
  },
  {
   "cell_type": "markdown",
   "id": "0c12c6b2",
   "metadata": {
    "deletable": false,
    "editable": false,
    "id": "ddc81e43"
   },
   "source": [
    "### Изменение типов данных"
   ]
  },
  {
   "cell_type": "markdown",
   "id": "f9678bee",
   "metadata": {
    "deletable": false,
    "editable": false,
    "id": "42d19d24"
   },
   "source": [
    "**Задание 13. Замените вещественный тип данных в столбце `total_income` на целочисленный с помощью метода `astype()`.**"
   ]
  },
  {
   "cell_type": "code",
   "execution_count": 14,
   "id": "f2b44cb1",
   "metadata": {
    "deletable": false,
    "id": "920b65ad"
   },
   "outputs": [],
   "source": [
    "data['total_income'] = data['total_income'].astype(int)"
   ]
  },
  {
   "cell_type": "markdown",
   "id": "35d3b08e",
   "metadata": {
    "deletable": false,
    "editable": false,
    "id": "80c420ba"
   },
   "source": [
    "### Обработка дубликатов"
   ]
  },
  {
   "cell_type": "markdown",
   "id": "c0272a1f",
   "metadata": {
    "deletable": false,
    "editable": false
   },
   "source": [
    "**Задание 14. Обработайте неявные дубликаты в столбце `education`. В этом столбце есть одни и те же значения, но записанные по-разному: с использованием заглавных и строчных букв. Приведите их к нижнему регистру. Проверьте остальные столбцы.**"
   ]
  },
  {
   "cell_type": "code",
   "execution_count": 15,
   "id": "6ad7ed1a",
   "metadata": {
    "deletable": false
   },
   "outputs": [],
   "source": [
    "data['education'] = data['education'].str.lower()"
   ]
  },
  {
   "cell_type": "markdown",
   "id": "638a9229",
   "metadata": {
    "deletable": false,
    "editable": false,
    "id": "dc587695"
   },
   "source": [
    "**Задание 15. Выведите на экран количество строк-дубликатов в данных. Если такие строки присутствуют, удалите их.**"
   ]
  },
  {
   "cell_type": "code",
   "execution_count": 16,
   "id": "9b81306a",
   "metadata": {
    "deletable": false,
    "id": "3ee445e4",
    "outputId": "9684deba-1934-42d1-99e1-cda61740f822"
   },
   "outputs": [
    {
     "data": {
      "text/plain": [
       "71"
      ]
     },
     "execution_count": 16,
     "metadata": {},
     "output_type": "execute_result"
    }
   ],
   "source": [
    "data.duplicated().sum()"
   ]
  },
  {
   "cell_type": "code",
   "execution_count": 17,
   "id": "e078ab7c",
   "metadata": {
    "deletable": false,
    "id": "8575fe05"
   },
   "outputs": [],
   "source": [
    "data = data.drop_duplicates()"
   ]
  },
  {
   "cell_type": "markdown",
   "id": "eb532e1e",
   "metadata": {
    "deletable": false,
    "editable": false,
    "id": "9904cf55"
   },
   "source": [
    "### Категоризация данных"
   ]
  },
  {
   "cell_type": "markdown",
   "id": "796ff018",
   "metadata": {
    "deletable": false,
    "editable": false,
    "id": "72fcc8a2"
   },
   "source": [
    "**Задание 16. На основании диапазонов, указанных ниже, создайте в датафрейме `data` столбец `total_income_category` с категориями:**\n",
    "\n",
    "- 0–30000 — `'E'`;\n",
    "- 30001–50000 — `'D'`;\n",
    "- 50001–200000 — `'C'`;\n",
    "- 200001–1000000 — `'B'`;\n",
    "- 1000001 и выше — `'A'`.\n",
    "\n",
    "\n",
    "**Например, кредитополучателю с доходом 25000 нужно назначить категорию `'E'`, а клиенту, получающему 235000, — `'B'`. Используйте собственную функцию с именем `categorize_income()` и метод `apply()`.**"
   ]
  },
  {
   "cell_type": "code",
   "execution_count": 18,
   "id": "153660a4",
   "metadata": {
    "deletable": false,
    "id": "e1771346"
   },
   "outputs": [],
   "source": [
    "def categorize_income(income):\n",
    "    try:\n",
    "        if 0 <= income <= 30000:\n",
    "            return 'E'\n",
    "        elif 30001 <= income <= 50000:\n",
    "            return 'D'\n",
    "        elif 50001 <= income <= 200000:\n",
    "            return 'C'\n",
    "        elif 200001 <= income <= 1000000:\n",
    "            return 'B'\n",
    "        elif income >= 1000001:\n",
    "            return 'A'\n",
    "    except:\n",
    "        pass"
   ]
  },
  {
   "cell_type": "code",
   "execution_count": 19,
   "id": "04cba8d1",
   "metadata": {
    "deletable": false,
    "id": "d5f3586d"
   },
   "outputs": [],
   "source": [
    "data['total_income_category'] = data['total_income'].apply(categorize_income)"
   ]
  },
  {
   "cell_type": "markdown",
   "id": "bc9f1106",
   "metadata": {
    "deletable": false,
    "editable": false,
    "id": "dde49b5c"
   },
   "source": [
    "**Задание 17. Выведите на экран перечень уникальных целей взятия кредита из столбца `purpose`.**"
   ]
  },
  {
   "cell_type": "code",
   "execution_count": 20,
   "id": "2d23ee18",
   "metadata": {
    "deletable": false,
    "id": "f67ce9b3",
    "outputId": "673c12d9-7d7e-4ae0-9812-c622c89dd244"
   },
   "outputs": [
    {
     "data": {
      "text/plain": [
       "array(['покупка жилья', 'приобретение автомобиля',\n",
       "       'дополнительное образование', 'сыграть свадьбу',\n",
       "       'операции с жильем', 'образование', 'на проведение свадьбы',\n",
       "       'покупка жилья для семьи', 'покупка недвижимости',\n",
       "       'покупка коммерческой недвижимости', 'покупка жилой недвижимости',\n",
       "       'строительство собственной недвижимости', 'недвижимость',\n",
       "       'строительство недвижимости', 'на покупку подержанного автомобиля',\n",
       "       'на покупку своего автомобиля',\n",
       "       'операции с коммерческой недвижимостью',\n",
       "       'строительство жилой недвижимости', 'жилье',\n",
       "       'операции со своей недвижимостью', 'автомобили',\n",
       "       'заняться образованием', 'сделка с подержанным автомобилем',\n",
       "       'получение образования', 'автомобиль', 'свадьба',\n",
       "       'получение дополнительного образования', 'покупка своего жилья',\n",
       "       'операции с недвижимостью', 'получение высшего образования',\n",
       "       'свой автомобиль', 'сделка с автомобилем',\n",
       "       'профильное образование', 'высшее образование',\n",
       "       'покупка жилья для сдачи', 'на покупку автомобиля', 'ремонт жилью',\n",
       "       'заняться высшим образованием'], dtype=object)"
      ]
     },
     "execution_count": 20,
     "metadata": {},
     "output_type": "execute_result"
    }
   ],
   "source": [
    "data['purpose'].unique()"
   ]
  },
  {
   "cell_type": "markdown",
   "id": "46499b9f",
   "metadata": {
    "deletable": false,
    "editable": false,
    "id": "85d0aef0"
   },
   "source": [
    "**Задание 18. Создайте функцию, которая на основании данных из столбца `purpose` сформирует новый столбец `purpose_category`, в который войдут следующие категории:**\n",
    "\n",
    "- `'операции с автомобилем'`,\n",
    "- `'операции с недвижимостью'`,\n",
    "- `'проведение свадьбы'`,\n",
    "- `'получение образования'`.\n",
    "\n",
    "**Например, если в столбце `purpose` находится подстрока `'на покупку автомобиля'`, то в столбце `purpose_category` должна появиться строка `'операции с автомобилем'`.**\n",
    "\n",
    "**Используйте собственную функцию с именем `categorize_purpose()` и метод `apply()`. Изучите данные в столбце `purpose` и определите, какие подстроки помогут вам правильно определить категорию.**"
   ]
  },
  {
   "cell_type": "code",
   "execution_count": 21,
   "id": "e71e7100",
   "metadata": {
    "deletable": false,
    "id": "e149fab4"
   },
   "outputs": [],
   "source": [
    "def categorize_purpose(row):\n",
    "    try:\n",
    "        if 'автом' in row:\n",
    "            return 'операции с автомобилем'\n",
    "        elif 'жил' in row or 'недвиж' in row:\n",
    "            return 'операции с недвижимостью'\n",
    "        elif 'свад' in row:\n",
    "            return 'проведение свадьбы'\n",
    "        elif 'образов' in row:\n",
    "            return 'получение образования'\n",
    "    except:\n",
    "        return 'нет категории'"
   ]
  },
  {
   "cell_type": "code",
   "execution_count": 22,
   "id": "6615ea76",
   "metadata": {
    "deletable": false,
    "id": "bf36e69b"
   },
   "outputs": [],
   "source": [
    "data['purpose_category'] = data['purpose'].apply(categorize_purpose)"
   ]
  },
  {
   "cell_type": "markdown",
   "id": "4a61c589",
   "metadata": {
    "deletable": false,
    "editable": false,
    "id": "09b242bf"
   },
   "source": [
    "### Шаг 3. Исследуйте данные и ответьте на вопросы"
   ]
  },
  {
   "cell_type": "code",
   "execution_count": 23,
   "id": "365d181c",
   "metadata": {},
   "outputs": [
    {
     "name": "stdout",
     "output_type": "stream",
     "text": [
      "Базовая вероятность задержки кредита: 8.12%\n"
     ]
    }
   ],
   "source": [
    "def get_debt_probability(row):\n",
    "    return round(row['sum'] / row['count'], 4) * 100\n",
    "    \n",
    "base_probability = round(data['debt'].sum() / data['debt'].count(), 4) * 100\n",
    "print(f'Базовая вероятность задержки кредита: {base_probability}%')"
   ]
  },
  {
   "cell_type": "markdown",
   "id": "d72413dd",
   "metadata": {
    "deletable": false,
    "editable": false,
    "id": "c5d66278"
   },
   "source": [
    "#### 3.1 Есть ли зависимость между количеством детей и возвратом кредита в срок?"
   ]
  },
  {
   "cell_type": "markdown",
   "id": "317c5a49",
   "metadata": {},
   "source": [
    "Для начала, следует решить: можно ли категоризировать данные по количеству детей."
   ]
  },
  {
   "cell_type": "code",
   "execution_count": 24,
   "id": "611b8bde",
   "metadata": {
    "deletable": false,
    "id": "2cacfc4a"
   },
   "outputs": [
    {
     "data": {
      "text/plain": [
       "array([1, 0, 3, 2, 4, 5])"
      ]
     },
     "execution_count": 24,
     "metadata": {},
     "output_type": "execute_result"
    }
   ],
   "source": [
    "data['children'].unique()"
   ]
  },
  {
   "cell_type": "markdown",
   "id": "a19c686c",
   "metadata": {},
   "source": [
    "Значений мало - они и так могут использоваться в качестве категорий.\n",
    "Теперь можно вычислить вероятность погашения кредита для каждой из этих шести категорий (количество непогашенных кредитов для данного количества детей / общее количество кредитов для данного количества детей)."
   ]
  },
  {
   "cell_type": "code",
   "execution_count": 25,
   "id": "98029af6",
   "metadata": {},
   "outputs": [
    {
     "data": {
      "text/html": [
       "<div>\n",
       "<style scoped>\n",
       "    .dataframe tbody tr th:only-of-type {\n",
       "        vertical-align: middle;\n",
       "    }\n",
       "\n",
       "    .dataframe tbody tr th {\n",
       "        vertical-align: top;\n",
       "    }\n",
       "\n",
       "    .dataframe thead tr th {\n",
       "        text-align: left;\n",
       "    }\n",
       "\n",
       "    .dataframe thead tr:last-of-type th {\n",
       "        text-align: right;\n",
       "    }\n",
       "</style>\n",
       "<table border=\"1\" class=\"dataframe\">\n",
       "  <thead>\n",
       "    <tr>\n",
       "      <th></th>\n",
       "      <th>sum</th>\n",
       "      <th>count</th>\n",
       "      <th>debt_probability</th>\n",
       "    </tr>\n",
       "    <tr>\n",
       "      <th></th>\n",
       "      <th>debt</th>\n",
       "      <th>debt</th>\n",
       "      <th></th>\n",
       "    </tr>\n",
       "    <tr>\n",
       "      <th>children</th>\n",
       "      <th></th>\n",
       "      <th></th>\n",
       "      <th></th>\n",
       "    </tr>\n",
       "  </thead>\n",
       "  <tbody>\n",
       "    <tr>\n",
       "      <th>0</th>\n",
       "      <td>1063</td>\n",
       "      <td>14091</td>\n",
       "      <td>7.54</td>\n",
       "    </tr>\n",
       "    <tr>\n",
       "      <th>1</th>\n",
       "      <td>444</td>\n",
       "      <td>4808</td>\n",
       "      <td>9.23</td>\n",
       "    </tr>\n",
       "    <tr>\n",
       "      <th>2</th>\n",
       "      <td>194</td>\n",
       "      <td>2052</td>\n",
       "      <td>9.45</td>\n",
       "    </tr>\n",
       "    <tr>\n",
       "      <th>3</th>\n",
       "      <td>27</td>\n",
       "      <td>330</td>\n",
       "      <td>8.18</td>\n",
       "    </tr>\n",
       "    <tr>\n",
       "      <th>4</th>\n",
       "      <td>4</td>\n",
       "      <td>41</td>\n",
       "      <td>9.76</td>\n",
       "    </tr>\n",
       "    <tr>\n",
       "      <th>5</th>\n",
       "      <td>0</td>\n",
       "      <td>9</td>\n",
       "      <td>0.00</td>\n",
       "    </tr>\n",
       "  </tbody>\n",
       "</table>\n",
       "</div>"
      ],
      "text/plain": [
       "           sum  count debt_probability\n",
       "          debt   debt                 \n",
       "children                              \n",
       "0         1063  14091             7.54\n",
       "1          444   4808             9.23\n",
       "2          194   2052             9.45\n",
       "3           27    330             8.18\n",
       "4            4     41             9.76\n",
       "5            0      9             0.00"
      ]
     },
     "execution_count": 25,
     "metadata": {},
     "output_type": "execute_result"
    }
   ],
   "source": [
    "pivot_by_children_count = data.pivot_table(index=['children'], values=['debt'], aggfunc=['sum', 'count'])\n",
    "pivot_by_children_count['debt_probability'] = get_debt_probability(pivot_by_children_count)\n",
    "pivot_by_children_count"
   ]
  },
  {
   "cell_type": "markdown",
   "id": "c1ae2352",
   "metadata": {
    "deletable": false,
    "id": "3a6b99ec"
   },
   "source": [
    "Зависимость от количества детей неравномерна (для 1,2,4 ребенка вероятность возвращения кредита на 1,5% ниже, чем для 3 детей и на 10% ниже, чем для 5 детей). Скорее всего, сказывается недостаточность данных.\n",
    "\n",
    "Но точно можно сделать два вывода: \n",
    "* Бездетные лучше оплачивают кредит (шанс на оплату выше на 0.5-2%).\n",
    "* Не похоже, что количество детей серьезно влияет на погашение кредита. Однако, сам факт их наличия оказывает негативный эффект на погашение. Исключение для семей с пятью детьми (но таких данных слишком мало - можно сказать, что тут выборка не репрезентативна).\n",
    "\n",
    "Получилось, что на кредит влияет наличие детей, а не их количество. Для точности категоризируем данные  на семьи с детьми и без."
   ]
  },
  {
   "cell_type": "code",
   "execution_count": 26,
   "id": "250ed5aa",
   "metadata": {
    "scrolled": true
   },
   "outputs": [
    {
     "data": {
      "text/html": [
       "<div>\n",
       "<style scoped>\n",
       "    .dataframe tbody tr th:only-of-type {\n",
       "        vertical-align: middle;\n",
       "    }\n",
       "\n",
       "    .dataframe tbody tr th {\n",
       "        vertical-align: top;\n",
       "    }\n",
       "\n",
       "    .dataframe thead tr th {\n",
       "        text-align: left;\n",
       "    }\n",
       "\n",
       "    .dataframe thead tr:last-of-type th {\n",
       "        text-align: right;\n",
       "    }\n",
       "</style>\n",
       "<table border=\"1\" class=\"dataframe\">\n",
       "  <thead>\n",
       "    <tr>\n",
       "      <th></th>\n",
       "      <th>sum</th>\n",
       "      <th>count</th>\n",
       "      <th>debt_probability</th>\n",
       "    </tr>\n",
       "    <tr>\n",
       "      <th></th>\n",
       "      <th>debt</th>\n",
       "      <th>debt</th>\n",
       "      <th></th>\n",
       "    </tr>\n",
       "    <tr>\n",
       "      <th>has_children</th>\n",
       "      <th></th>\n",
       "      <th></th>\n",
       "      <th></th>\n",
       "    </tr>\n",
       "  </thead>\n",
       "  <tbody>\n",
       "    <tr>\n",
       "      <th>False</th>\n",
       "      <td>1063</td>\n",
       "      <td>14091</td>\n",
       "      <td>7.54</td>\n",
       "    </tr>\n",
       "    <tr>\n",
       "      <th>True</th>\n",
       "      <td>669</td>\n",
       "      <td>7240</td>\n",
       "      <td>9.24</td>\n",
       "    </tr>\n",
       "  </tbody>\n",
       "</table>\n",
       "</div>"
      ],
      "text/plain": [
       "               sum  count debt_probability\n",
       "              debt   debt                 \n",
       "has_children                              \n",
       "False         1063  14091             7.54\n",
       "True           669   7240             9.24"
      ]
     },
     "execution_count": 26,
     "metadata": {},
     "output_type": "execute_result"
    }
   ],
   "source": [
    "data['has_children'] = data['children'] > 0\n",
    "pivot_by_children = data.pivot_table(index=['has_children'], values=['debt'], aggfunc=['sum', 'count'])\n",
    "pivot_by_children['debt_probability'] = get_debt_probability(pivot_by_children)\n",
    "pivot_by_children"
   ]
  },
  {
   "cell_type": "markdown",
   "id": "99f83e7d",
   "metadata": {},
   "source": [
    "**Вывод:**\n",
    "На возврат кредита в срок влияет наличие детей, но не влияет их количество. Бездетные клиенты возвращают кредит в срок на 1.8% чаще"
   ]
  },
  {
   "cell_type": "markdown",
   "id": "a86b67fa",
   "metadata": {
    "deletable": false,
    "editable": false,
    "id": "97be82ca"
   },
   "source": [
    "#### 3.2 Есть ли зависимость между семейным положением и возвратом кредита в срок?"
   ]
  },
  {
   "cell_type": "code",
   "execution_count": 27,
   "id": "c18d3e2f",
   "metadata": {
    "deletable": false,
    "id": "dc3f7ee8"
   },
   "outputs": [
    {
     "data": {
      "text/plain": [
       "array(['женат / замужем', 'гражданский брак', 'вдовец / вдова',\n",
       "       'в разводе', 'Не женат / не замужем'], dtype=object)"
      ]
     },
     "execution_count": 27,
     "metadata": {},
     "output_type": "execute_result"
    }
   ],
   "source": [
    "data['family_status'].unique()"
   ]
  },
  {
   "cell_type": "code",
   "execution_count": 28,
   "id": "542a8e96",
   "metadata": {
    "scrolled": true
   },
   "outputs": [
    {
     "data": {
      "text/html": [
       "<div>\n",
       "<style scoped>\n",
       "    .dataframe tbody tr th:only-of-type {\n",
       "        vertical-align: middle;\n",
       "    }\n",
       "\n",
       "    .dataframe tbody tr th {\n",
       "        vertical-align: top;\n",
       "    }\n",
       "\n",
       "    .dataframe thead tr th {\n",
       "        text-align: left;\n",
       "    }\n",
       "\n",
       "    .dataframe thead tr:last-of-type th {\n",
       "        text-align: right;\n",
       "    }\n",
       "</style>\n",
       "<table border=\"1\" class=\"dataframe\">\n",
       "  <thead>\n",
       "    <tr>\n",
       "      <th></th>\n",
       "      <th>sum</th>\n",
       "      <th>count</th>\n",
       "      <th>debt_probability</th>\n",
       "    </tr>\n",
       "    <tr>\n",
       "      <th></th>\n",
       "      <th>debt</th>\n",
       "      <th>debt</th>\n",
       "      <th></th>\n",
       "    </tr>\n",
       "    <tr>\n",
       "      <th>family_status</th>\n",
       "      <th></th>\n",
       "      <th></th>\n",
       "      <th></th>\n",
       "    </tr>\n",
       "  </thead>\n",
       "  <tbody>\n",
       "    <tr>\n",
       "      <th>Не женат / не замужем</th>\n",
       "      <td>273</td>\n",
       "      <td>2796</td>\n",
       "      <td>9.76</td>\n",
       "    </tr>\n",
       "    <tr>\n",
       "      <th>в разводе</th>\n",
       "      <td>84</td>\n",
       "      <td>1189</td>\n",
       "      <td>7.06</td>\n",
       "    </tr>\n",
       "    <tr>\n",
       "      <th>вдовец / вдова</th>\n",
       "      <td>63</td>\n",
       "      <td>951</td>\n",
       "      <td>6.62</td>\n",
       "    </tr>\n",
       "    <tr>\n",
       "      <th>гражданский брак</th>\n",
       "      <td>385</td>\n",
       "      <td>4134</td>\n",
       "      <td>9.31</td>\n",
       "    </tr>\n",
       "    <tr>\n",
       "      <th>женат / замужем</th>\n",
       "      <td>927</td>\n",
       "      <td>12261</td>\n",
       "      <td>7.56</td>\n",
       "    </tr>\n",
       "  </tbody>\n",
       "</table>\n",
       "</div>"
      ],
      "text/plain": [
       "                       sum  count debt_probability\n",
       "                      debt   debt                 \n",
       "family_status                                     \n",
       "Не женат / не замужем  273   2796             9.76\n",
       "в разводе               84   1189             7.06\n",
       "вдовец / вдова          63    951             6.62\n",
       "гражданский брак       385   4134             9.31\n",
       "женат / замужем        927  12261             7.56"
      ]
     },
     "metadata": {},
     "output_type": "display_data"
    }
   ],
   "source": [
    "pivot_by_famity_status = data.pivot_table(index=['family_status'], values=['debt'], aggfunc=['sum', 'count'])\n",
    "pivot_by_famity_status['debt_probability'] = get_debt_probability(pivot_by_famity_status)\n",
    "display(pivot_by_famity_status)"
   ]
  },
  {
   "cell_type": "markdown",
   "id": "6b3e31f5",
   "metadata": {
    "deletable": false,
    "id": "1cef7837"
   },
   "source": [
    "**Вывод:** \n",
    "\n",
    "* Люди, состоявшие/состоящие в официальных браках, выплачивают кредиты на 2-3% лучше, чем избегающие брака.\n",
    "* Люди, состоявшие ранее в браках выплачивают кредиты на 0.5-1% лучше, чем люди состоящие в браке на момент получения кредита."
   ]
  },
  {
   "cell_type": "markdown",
   "id": "43094548",
   "metadata": {
    "deletable": false,
    "editable": false,
    "id": "1e8b2fca"
   },
   "source": [
    "#### 3.3 Есть ли зависимость между уровнем дохода и возвратом кредита в срок?"
   ]
  },
  {
   "cell_type": "code",
   "execution_count": 29,
   "id": "52372552",
   "metadata": {
    "deletable": false,
    "id": "cd7e3720",
    "scrolled": false
   },
   "outputs": [
    {
     "data": {
      "text/html": [
       "<div>\n",
       "<style scoped>\n",
       "    .dataframe tbody tr th:only-of-type {\n",
       "        vertical-align: middle;\n",
       "    }\n",
       "\n",
       "    .dataframe tbody tr th {\n",
       "        vertical-align: top;\n",
       "    }\n",
       "\n",
       "    .dataframe thead tr th {\n",
       "        text-align: left;\n",
       "    }\n",
       "\n",
       "    .dataframe thead tr:last-of-type th {\n",
       "        text-align: right;\n",
       "    }\n",
       "</style>\n",
       "<table border=\"1\" class=\"dataframe\">\n",
       "  <thead>\n",
       "    <tr>\n",
       "      <th></th>\n",
       "      <th>sum</th>\n",
       "      <th>count</th>\n",
       "      <th>debt_probability</th>\n",
       "    </tr>\n",
       "    <tr>\n",
       "      <th></th>\n",
       "      <th>debt</th>\n",
       "      <th>debt</th>\n",
       "      <th></th>\n",
       "    </tr>\n",
       "    <tr>\n",
       "      <th>total_income_category</th>\n",
       "      <th></th>\n",
       "      <th></th>\n",
       "      <th></th>\n",
       "    </tr>\n",
       "  </thead>\n",
       "  <tbody>\n",
       "    <tr>\n",
       "      <th>A</th>\n",
       "      <td>2</td>\n",
       "      <td>25</td>\n",
       "      <td>8.00</td>\n",
       "    </tr>\n",
       "    <tr>\n",
       "      <th>B</th>\n",
       "      <td>354</td>\n",
       "      <td>5014</td>\n",
       "      <td>7.06</td>\n",
       "    </tr>\n",
       "    <tr>\n",
       "      <th>C</th>\n",
       "      <td>1353</td>\n",
       "      <td>15921</td>\n",
       "      <td>8.50</td>\n",
       "    </tr>\n",
       "    <tr>\n",
       "      <th>D</th>\n",
       "      <td>21</td>\n",
       "      <td>349</td>\n",
       "      <td>6.02</td>\n",
       "    </tr>\n",
       "    <tr>\n",
       "      <th>E</th>\n",
       "      <td>2</td>\n",
       "      <td>22</td>\n",
       "      <td>9.09</td>\n",
       "    </tr>\n",
       "  </tbody>\n",
       "</table>\n",
       "</div>"
      ],
      "text/plain": [
       "                        sum  count debt_probability\n",
       "                       debt   debt                 \n",
       "total_income_category                              \n",
       "A                         2     25             8.00\n",
       "B                       354   5014             7.06\n",
       "C                      1353  15921             8.50\n",
       "D                        21    349             6.02\n",
       "E                         2     22             9.09"
      ]
     },
     "execution_count": 29,
     "metadata": {},
     "output_type": "execute_result"
    }
   ],
   "source": [
    "pivot_by_income = data.pivot_table(index=['total_income_category'], values=['debt'], aggfunc=['sum', 'count'])\n",
    "pivot_by_income['debt_probability'] = get_debt_probability(pivot_by_income)\n",
    "pivot_by_income"
   ]
  },
  {
   "cell_type": "markdown",
   "id": "04fe99e7",
   "metadata": {},
   "source": [
    "Зависимость от доходов заметна. Но при выбранной категоризации она кажется неравномерной из-за малых данных по крайним категориям. Так, по данным выходит, что человек с доходом от миллиона выплачивает кредит на 2% лучше, чем человек с доходом до 30000, но на 2% хуже, чем человек с доходом 30000-50000. Возможно, стоит выбрать другие категории. Например, разбить данные по медиане:"
   ]
  },
  {
   "cell_type": "code",
   "execution_count": 30,
   "id": "3b76ea24",
   "metadata": {
    "scrolled": true
   },
   "outputs": [
    {
     "name": "stdout",
     "output_type": "stream",
     "text": [
      "Медианы доходов: 103423.0 142594.0 188755.5\n",
      "Округленные медианы доходов: 100000 140000 180000\n",
      "\n"
     ]
    },
    {
     "data": {
      "text/html": [
       "<div>\n",
       "<style scoped>\n",
       "    .dataframe tbody tr th:only-of-type {\n",
       "        vertical-align: middle;\n",
       "    }\n",
       "\n",
       "    .dataframe tbody tr th {\n",
       "        vertical-align: top;\n",
       "    }\n",
       "\n",
       "    .dataframe thead tr th {\n",
       "        text-align: left;\n",
       "    }\n",
       "\n",
       "    .dataframe thead tr:last-of-type th {\n",
       "        text-align: right;\n",
       "    }\n",
       "</style>\n",
       "<table border=\"1\" class=\"dataframe\">\n",
       "  <thead>\n",
       "    <tr>\n",
       "      <th></th>\n",
       "      <th>sum</th>\n",
       "      <th>count</th>\n",
       "      <th>debt_probability</th>\n",
       "    </tr>\n",
       "    <tr>\n",
       "      <th></th>\n",
       "      <th>debt</th>\n",
       "      <th>debt</th>\n",
       "      <th></th>\n",
       "    </tr>\n",
       "    <tr>\n",
       "      <th>income_by_median</th>\n",
       "      <th></th>\n",
       "      <th></th>\n",
       "      <th></th>\n",
       "    </tr>\n",
       "  </thead>\n",
       "  <tbody>\n",
       "    <tr>\n",
       "      <th>0-100000</th>\n",
       "      <td>354</td>\n",
       "      <td>4444</td>\n",
       "      <td>7.97</td>\n",
       "    </tr>\n",
       "    <tr>\n",
       "      <th>100000-140000</th>\n",
       "      <td>424</td>\n",
       "      <td>4992</td>\n",
       "      <td>8.49</td>\n",
       "    </tr>\n",
       "    <tr>\n",
       "      <th>140000-180000</th>\n",
       "      <td>478</td>\n",
       "      <td>5506</td>\n",
       "      <td>8.68</td>\n",
       "    </tr>\n",
       "    <tr>\n",
       "      <th>180000+</th>\n",
       "      <td>476</td>\n",
       "      <td>6389</td>\n",
       "      <td>7.45</td>\n",
       "    </tr>\n",
       "  </tbody>\n",
       "</table>\n",
       "</div>"
      ],
      "text/plain": [
       "                  sum count debt_probability\n",
       "                 debt  debt                 \n",
       "income_by_median                            \n",
       "0-100000          354  4444             7.97\n",
       "100000-140000     424  4992             8.49\n",
       "140000-180000     478  5506             8.68\n",
       "180000+           476  6389             7.45"
      ]
     },
     "metadata": {},
     "output_type": "display_data"
    }
   ],
   "source": [
    "median_income = data['total_income'].median()\n",
    "lower_median_income = data[data['total_income'] < median_income]['total_income'].median()\n",
    "higher_median_income = data[data['total_income'] >= median_income]['total_income'].median()\n",
    "print('Медианы доходов:', lower_median_income, median_income, higher_median_income)\n",
    "lower_median_income = int(lower_median_income / 10000) * 10000\n",
    "median_income = int(median_income / 10000) * 10000\n",
    "higher_median_income = int(higher_median_income / 10000) * 10000\n",
    "print('Округленные медианы доходов:', lower_median_income, median_income, higher_median_income)\n",
    "print()\n",
    "\n",
    "def categorize_income_by_median(income):\n",
    "    if income < lower_median_income: return f'0-{lower_median_income}'\n",
    "    elif income < median_income: return f'{lower_median_income}-{median_income}'\n",
    "    elif income < higher_median_income: return f'{median_income}-{higher_median_income}'\n",
    "    else: return f'{higher_median_income}+'\n",
    "\n",
    "data['income_by_median'] = data['total_income'].apply(categorize_income_by_median)\n",
    "pivot_by_median_income = data.pivot_table(index=['income_by_median'], values=['debt'], aggfunc=['sum', 'count'])\n",
    "pivot_by_median_income['debt_probability'] = get_debt_probability(pivot_by_median_income)\n",
    "display(pivot_by_median_income)"
   ]
  },
  {
   "cell_type": "markdown",
   "id": "50523435",
   "metadata": {
    "deletable": false,
    "id": "e8593def"
   },
   "source": [
    "Теперь распределение вероятности задержки выплаты кажется более равномерным.\n",
    "\n",
    "**Вывод:** \n",
    "\n",
    "Доход влияет на вероятность выплаты кредита. Лучше всего кредиты выплачивают люди с доходом от 180000 (на 0,5-1,2%), хуже всего - люди с доходом 100000 - 140000. Интересно, что люди с доходом до 100000 тоже относительно хорошо выплачивают кредит (возможно, они и берут кредиты на меньшие суммы)."
   ]
  },
  {
   "cell_type": "markdown",
   "id": "921c2c85",
   "metadata": {
    "deletable": false,
    "editable": false,
    "id": "99ecbd1f"
   },
   "source": [
    "#### 3.4 Как разные цели кредита влияют на его возврат в срок?"
   ]
  },
  {
   "cell_type": "code",
   "execution_count": 31,
   "id": "54b07aad",
   "metadata": {
    "deletable": false,
    "id": "2b687290"
   },
   "outputs": [
    {
     "data": {
      "text/html": [
       "<div>\n",
       "<style scoped>\n",
       "    .dataframe tbody tr th:only-of-type {\n",
       "        vertical-align: middle;\n",
       "    }\n",
       "\n",
       "    .dataframe tbody tr th {\n",
       "        vertical-align: top;\n",
       "    }\n",
       "\n",
       "    .dataframe thead tr th {\n",
       "        text-align: left;\n",
       "    }\n",
       "\n",
       "    .dataframe thead tr:last-of-type th {\n",
       "        text-align: right;\n",
       "    }\n",
       "</style>\n",
       "<table border=\"1\" class=\"dataframe\">\n",
       "  <thead>\n",
       "    <tr>\n",
       "      <th></th>\n",
       "      <th>sum</th>\n",
       "      <th>count</th>\n",
       "      <th>debt_probability</th>\n",
       "    </tr>\n",
       "    <tr>\n",
       "      <th></th>\n",
       "      <th>debt</th>\n",
       "      <th>debt</th>\n",
       "      <th></th>\n",
       "    </tr>\n",
       "    <tr>\n",
       "      <th>purpose_category</th>\n",
       "      <th></th>\n",
       "      <th></th>\n",
       "      <th></th>\n",
       "    </tr>\n",
       "  </thead>\n",
       "  <tbody>\n",
       "    <tr>\n",
       "      <th>операции с автомобилем</th>\n",
       "      <td>400</td>\n",
       "      <td>4279</td>\n",
       "      <td>9.35</td>\n",
       "    </tr>\n",
       "    <tr>\n",
       "      <th>операции с недвижимостью</th>\n",
       "      <td>780</td>\n",
       "      <td>10751</td>\n",
       "      <td>7.26</td>\n",
       "    </tr>\n",
       "    <tr>\n",
       "      <th>получение образования</th>\n",
       "      <td>369</td>\n",
       "      <td>3988</td>\n",
       "      <td>9.25</td>\n",
       "    </tr>\n",
       "    <tr>\n",
       "      <th>проведение свадьбы</th>\n",
       "      <td>183</td>\n",
       "      <td>2313</td>\n",
       "      <td>7.91</td>\n",
       "    </tr>\n",
       "  </tbody>\n",
       "</table>\n",
       "</div>"
      ],
      "text/plain": [
       "                          sum  count debt_probability\n",
       "                         debt   debt                 \n",
       "purpose_category                                     \n",
       "операции с автомобилем    400   4279             9.35\n",
       "операции с недвижимостью  780  10751             7.26\n",
       "получение образования     369   3988             9.25\n",
       "проведение свадьбы        183   2313             7.91"
      ]
     },
     "execution_count": 31,
     "metadata": {},
     "output_type": "execute_result"
    }
   ],
   "source": [
    "pivot_by_purpose = data.pivot_table(index=['purpose_category'], values=['debt'], aggfunc=['sum', 'count'])\n",
    "pivot_by_purpose['debt_probability'] = get_debt_probability(pivot_by_purpose)\n",
    "pivot_by_purpose"
   ]
  },
  {
   "cell_type": "markdown",
   "id": "85b944bb",
   "metadata": {
    "deletable": false,
    "id": "b4bb2ce6"
   },
   "source": [
    "**Вывод:** \n",
    "\n",
    "Возврат кредита в срок напрямую зависит от его цели. \n",
    "\n",
    "Лучше всего возвращается кредит на недвижимость. Хуже всего - кредит на автомобиль."
   ]
  },
  {
   "cell_type": "markdown",
   "id": "e693d465",
   "metadata": {
    "deletable": false,
    "editable": false,
    "id": "09c3ac4c"
   },
   "source": [
    "#### 3.5 Приведите возможные причины появления пропусков в исходных данных."
   ]
  },
  {
   "cell_type": "markdown",
   "id": "d50a592a",
   "metadata": {},
   "source": [
    "Для начала следует провести поиск закономерностей: принадлежат ли пропуски одним строкам?"
   ]
  },
  {
   "cell_type": "code",
   "execution_count": 32,
   "id": "103859e2",
   "metadata": {
    "scrolled": false
   },
   "outputs": [
    {
     "name": "stdout",
     "output_type": "stream",
     "text": [
      "Всего строк с пропусками: 2174\n"
     ]
    },
    {
     "data": {
      "text/plain": [
       "days_employed    2174\n",
       "total_income     2174\n",
       "dtype: int64"
      ]
     },
     "execution_count": 32,
     "metadata": {},
     "output_type": "execute_result"
    }
   ],
   "source": [
    "print('Всего строк с пропусками:', data_with_nulls['debt'].count())\n",
    "data_with_nulls[['days_employed','total_income']].isna().sum()"
   ]
  },
  {
   "cell_type": "markdown",
   "id": "2f5ce7ed",
   "metadata": {},
   "source": [
    "Так и есть. Похоже, что колонки связаны. Вообще, эти два значения - данные о доходах, которые берутся из справки 2-НДФЛ, получаемых от работадателя. Возможна пара причин, по которым эта справка не была предоставлена:\n",
    "- человек еще не работал или уже не работает (сейчас такую справку можно запросить и через ЛК ФНС. Раньше требовалось идти к прошлому работадателю).\n",
    "- человек берет микрокредит, который, в теории, могут выдавать и без этих данных.\n",
    "\n",
    "Вероятность микрокредита и не работавшего человека можно попробовать выяснить, если посмотреть на остальные данные в строках с пропусками:"
   ]
  },
  {
   "cell_type": "code",
   "execution_count": 33,
   "id": "ed884279",
   "metadata": {
    "scrolled": false
   },
   "outputs": [
    {
     "name": "stdout",
     "output_type": "stream",
     "text": [
      "children [ 0  1  2 -1  3  4 20  5]\n",
      "dob_years [65 41 63 50 54 21 52 32 35 34 44 47 46 29 27 39 62 55 26 30 31 23 58 60\n",
      " 40 66 33 56 69 59 57 45 53 48 51 37 43 24 28 67 64 25 49 42 61 36 70 38\n",
      " 20  0 68 19 22 71 72 73]\n",
      "education ['среднее' 'высшее' 'СРЕДНЕЕ' 'неоконченное высшее' 'Среднее'\n",
      " 'Неоконченное высшее' 'Высшее' 'НЕОКОНЧЕННОЕ ВЫСШЕЕ' 'начальное' 'ВЫСШЕЕ'\n",
      " 'Начальное' 'НАЧАЛЬНОЕ']\n",
      "education_id [1 0 2 3]\n",
      "family_status ['гражданский брак' 'женат / замужем' 'Не женат / не замужем'\n",
      " 'вдовец / вдова' 'в разводе']\n",
      "gender ['M' 'F']\n",
      "purpose ['сыграть свадьбу' 'образование' 'строительство жилой недвижимости'\n",
      " 'сделка с подержанным автомобилем'\n",
      " 'операции с коммерческой недвижимостью' 'покупка жилья для семьи' 'жилье'\n",
      " 'операции с жильем' 'на проведение свадьбы' 'покупка жилой недвижимости'\n",
      " 'профильное образование' 'высшее образование' 'автомобиль' 'свадьба'\n",
      " 'строительство недвижимости' 'свой автомобиль'\n",
      " 'на покупку подержанного автомобиля'\n",
      " 'строительство собственной недвижимости' 'покупка своего жилья'\n",
      " 'заняться высшим образованием' 'недвижимость'\n",
      " 'операции со своей недвижимостью' 'покупка жилья для сдачи'\n",
      " 'сделка с автомобилем' 'приобретение автомобиля'\n",
      " 'получение высшего образования' 'дополнительное образование'\n",
      " 'на покупку автомобиля' 'покупка недвижимости' 'автомобили'\n",
      " 'покупка коммерческой недвижимости' 'покупка жилья'\n",
      " 'получение образования' 'операции с недвижимостью' 'ремонт жилью'\n",
      " 'на покупку своего автомобиля' 'заняться образованием'\n",
      " 'получение дополнительного образования']\n"
     ]
    }
   ],
   "source": [
    "ignoredColumns = ['total_income', 'days_employed', 'family_status_id', 'family_status_id', 'income_type', 'debt']\n",
    "for column in data_with_nulls.columns:    \n",
    "    if column not in ignoredColumns:\n",
    "        print(column, data_with_nulls[column].unique())"
   ]
  },
  {
   "cell_type": "markdown",
   "id": "4192afba",
   "metadata": {},
   "source": [
    "Строки с пропусками содержат полный набор данных - сузить набор причин пропусков не получится."
   ]
  },
  {
   "cell_type": "markdown",
   "id": "bdc5c22f",
   "metadata": {
    "deletable": false,
    "id": "9da2ceda"
   },
   "source": [
    "*Ответ:* \n",
    "\n",
    "Судя по анализу, таких причин может быть несколько:\n",
    "- человек еще не работал или уже не работает и не может предоставить 2-НДФЛ.\n",
    "- человек берет микрокредит.\n",
    "- ошибка в ПО (например, в UI нет защиты от пустых данных)."
   ]
  },
  {
   "cell_type": "markdown",
   "id": "3f668d8b",
   "metadata": {
    "deletable": false,
    "editable": false,
    "id": "7b0487d6"
   },
   "source": [
    "#### 3.6 Объясните, почему заполнить пропуски медианным значением — лучшее решение для количественных переменных."
   ]
  },
  {
   "cell_type": "markdown",
   "id": "c35efb2a",
   "metadata": {
    "deletable": false,
    "id": "7ecf2b8e"
   },
   "source": [
    "*Ответ:* \n",
    "Медианные значения сгладят график вычислений. Это, конечно, скажется на объективности результатов, но, зато, не приведет к всплескам на графиках (как было бы при использовании нулей, минимумов, максимумов или, даже, средних значений)."
   ]
  },
  {
   "cell_type": "code",
   "execution_count": 43,
   "id": "1d97a537",
   "metadata": {},
   "outputs": [],
   "source": [
    "pivot_total = pd.DataFrame(columns=['category', 'debt_probability', 'relative_debt_probability'])\n",
    "\n",
    "def fill_from(source):\n",
    "    idx_name = source.index.name\n",
    "    new_row_idx = len(pivot_total.index)\n",
    "    for idx in source['debt_probability'].index:\n",
    "        debt_probability = source['debt_probability'][idx]\n",
    "        pivot_total.loc[new_row_idx] = [f'{idx_name}: {idx}', debt_probability, debt_probability - base_probability]\n",
    "        new_row_idx += 1\n",
    "        \n",
    "fill_from(pivot_by_children) \n",
    "fill_from(pivot_by_famity_status) \n",
    "fill_from(pivot_by_median_income) \n",
    "fill_from(pivot_by_purpose)\n",
    "\n",
    "result_format = { \"debt_probability\": \"{:.2f}%\", \"relative_debt_probability\": \"{:.2f}%\" }"
   ]
  },
  {
   "cell_type": "markdown",
   "id": "e4d676a7",
   "metadata": {
    "deletable": false,
    "editable": false,
    "id": "6db5255a"
   },
   "source": [
    "### Шаг 4: общий вывод."
   ]
  },
  {
   "cell_type": "markdown",
   "id": "05813e2c",
   "metadata": {
    "deletable": false,
    "id": "bad65432"
   },
   "source": [
    "В целом, гипотезы подтвердились: на вероятностность выплаты кредита влияют семейное положение, цель кредита, уровень доходов и, в каком то смысле, количество детей (но не количество как таковое, а сам факт наличия детей). \n",
    "\n",
    "Люди, ставящие перед собой долгосрочные цели (склонные к вступлению в брак или купить недвижимость), на 1.5-2% лучше выплачивают кредит.\n",
    "Однако, дети осложняют выплату кредита на те же 1.5-2%. Само собой, высокий доход на возврат кредита сказывается положительно."
   ]
  },
  {
   "cell_type": "markdown",
   "id": "a48b48d6",
   "metadata": {},
   "source": [
    "**Проблемы с исходными данными:**\n",
    "\n",
    "Перед анализом потребовалось провести большую работу по предобработке. Стоит обратить внимание на возникшие проблемы:\n",
    "- *days_employed* и *children*: присутствовали отрицательные и аномально большие значения. В системе для этих полей не хватает контроля вводимых данных.\n",
    "- *purpose* и *education*: множество категорий, потребовавших объединения и приведения к единому виду. Для этих полей стоит ввести справочники с ограниченным набором значений.\n",
    "- множество парных пропусков значений в колонках *days_employed* + *total_income*. По приведенным данным объяснить эти пропуски не возможно. В системе следует в той или иной форме хранить причины, по которым не заполняются эти поля.\n",
    "\n",
    "**Скоринг:**\n",
    "\n",
    "Для скоринга можно использовать данные из следующей таблицы. В ней приведены исследованные факторы, оказывающие наибольшее влияние на задержку кредита. В колонке **relative_debt_probability** представлено отклонение от средней задержки кредита, вносимое конкретным фактором (чем меньше - тем лучше).\n",
    "\n",
    "Так, например, люди, потерявшие супругов, задерживают выплаты на 1,5% реже, чем средний заемщик. А люди, не состоявшие в браке, наоборот - задерживают чаще на 1,64%, чем средний заемщик."
   ]
  },
  {
   "cell_type": "code",
   "execution_count": 48,
   "id": "0d15ea84",
   "metadata": {},
   "outputs": [
    {
     "name": "stdout",
     "output_type": "stream",
     "text": [
      "Средняя вероятность задержки кредита: 8.12%\n"
     ]
    },
    {
     "data": {
      "text/html": [
       "<style  type=\"text/css\" >\n",
       "</style><table id=\"T_0c9e6_\" ><thead>    <tr>        <th class=\"col_heading level0 col0\" >category</th>        <th class=\"col_heading level0 col1\" >debt_probability</th>        <th class=\"col_heading level0 col2\" >relative_debt_probability</th>    </tr></thead><tbody>\n",
       "                <tr>\n",
       "                                <td id=\"T_0c9e6_row0_col0\" class=\"data row0 col0\" >family_status: вдовец / вдова</td>\n",
       "                        <td id=\"T_0c9e6_row0_col1\" class=\"data row0 col1\" >6.62%</td>\n",
       "                        <td id=\"T_0c9e6_row0_col2\" class=\"data row0 col2\" >-1.50%</td>\n",
       "            </tr>\n",
       "            <tr>\n",
       "                                <td id=\"T_0c9e6_row1_col0\" class=\"data row1 col0\" >family_status: в разводе</td>\n",
       "                        <td id=\"T_0c9e6_row1_col1\" class=\"data row1 col1\" >7.06%</td>\n",
       "                        <td id=\"T_0c9e6_row1_col2\" class=\"data row1 col2\" >-1.06%</td>\n",
       "            </tr>\n",
       "            <tr>\n",
       "                                <td id=\"T_0c9e6_row2_col0\" class=\"data row2 col0\" >purpose_category: операции с недвижимостью</td>\n",
       "                        <td id=\"T_0c9e6_row2_col1\" class=\"data row2 col1\" >7.26%</td>\n",
       "                        <td id=\"T_0c9e6_row2_col2\" class=\"data row2 col2\" >-0.86%</td>\n",
       "            </tr>\n",
       "            <tr>\n",
       "                                <td id=\"T_0c9e6_row3_col0\" class=\"data row3 col0\" >income_by_median: 180000+</td>\n",
       "                        <td id=\"T_0c9e6_row3_col1\" class=\"data row3 col1\" >7.45%</td>\n",
       "                        <td id=\"T_0c9e6_row3_col2\" class=\"data row3 col2\" >-0.67%</td>\n",
       "            </tr>\n",
       "            <tr>\n",
       "                                <td id=\"T_0c9e6_row4_col0\" class=\"data row4 col0\" >has_children: False</td>\n",
       "                        <td id=\"T_0c9e6_row4_col1\" class=\"data row4 col1\" >7.54%</td>\n",
       "                        <td id=\"T_0c9e6_row4_col2\" class=\"data row4 col2\" >-0.58%</td>\n",
       "            </tr>\n",
       "            <tr>\n",
       "                                <td id=\"T_0c9e6_row5_col0\" class=\"data row5 col0\" >family_status: женат / замужем</td>\n",
       "                        <td id=\"T_0c9e6_row5_col1\" class=\"data row5 col1\" >7.56%</td>\n",
       "                        <td id=\"T_0c9e6_row5_col2\" class=\"data row5 col2\" >-0.56%</td>\n",
       "            </tr>\n",
       "            <tr>\n",
       "                                <td id=\"T_0c9e6_row6_col0\" class=\"data row6 col0\" >income_by_median: 140000-180000</td>\n",
       "                        <td id=\"T_0c9e6_row6_col1\" class=\"data row6 col1\" >8.68%</td>\n",
       "                        <td id=\"T_0c9e6_row6_col2\" class=\"data row6 col2\" >0.56%</td>\n",
       "            </tr>\n",
       "            <tr>\n",
       "                                <td id=\"T_0c9e6_row7_col0\" class=\"data row7 col0\" >has_children: True</td>\n",
       "                        <td id=\"T_0c9e6_row7_col1\" class=\"data row7 col1\" >9.24%</td>\n",
       "                        <td id=\"T_0c9e6_row7_col2\" class=\"data row7 col2\" >1.12%</td>\n",
       "            </tr>\n",
       "            <tr>\n",
       "                                <td id=\"T_0c9e6_row8_col0\" class=\"data row8 col0\" >purpose_category: получение образования</td>\n",
       "                        <td id=\"T_0c9e6_row8_col1\" class=\"data row8 col1\" >9.25%</td>\n",
       "                        <td id=\"T_0c9e6_row8_col2\" class=\"data row8 col2\" >1.13%</td>\n",
       "            </tr>\n",
       "            <tr>\n",
       "                                <td id=\"T_0c9e6_row9_col0\" class=\"data row9 col0\" >family_status: гражданский брак</td>\n",
       "                        <td id=\"T_0c9e6_row9_col1\" class=\"data row9 col1\" >9.31%</td>\n",
       "                        <td id=\"T_0c9e6_row9_col2\" class=\"data row9 col2\" >1.19%</td>\n",
       "            </tr>\n",
       "            <tr>\n",
       "                                <td id=\"T_0c9e6_row10_col0\" class=\"data row10 col0\" >purpose_category: операции с автомобилем</td>\n",
       "                        <td id=\"T_0c9e6_row10_col1\" class=\"data row10 col1\" >9.35%</td>\n",
       "                        <td id=\"T_0c9e6_row10_col2\" class=\"data row10 col2\" >1.23%</td>\n",
       "            </tr>\n",
       "            <tr>\n",
       "                                <td id=\"T_0c9e6_row11_col0\" class=\"data row11 col0\" >family_status: Не женат / не замужем</td>\n",
       "                        <td id=\"T_0c9e6_row11_col1\" class=\"data row11 col1\" >9.76%</td>\n",
       "                        <td id=\"T_0c9e6_row11_col2\" class=\"data row11 col2\" >1.64%</td>\n",
       "            </tr>\n",
       "    </tbody></table>"
      ],
      "text/plain": [
       "<pandas.io.formats.style.Styler at 0x7f2ba721eb20>"
      ]
     },
     "execution_count": 48,
     "metadata": {},
     "output_type": "execute_result"
    }
   ],
   "source": [
    "filter = abs(pivot_total['relative_debt_probability']) > 0.5\n",
    "print(f'Средняя вероятность задержки кредита: {base_probability}%')\n",
    "pivot_total[filter].sort_values('relative_debt_probability').style.hide_index().format(result_format)"
   ]
  }
 ],
 "metadata": {
  "ExecuteTimeLog": [
   {
    "duration": 439,
    "start_time": "2023-01-09T12:18:08.054Z"
   },
   {
    "duration": 20,
    "start_time": "2023-01-09T12:18:08.496Z"
   },
   {
    "duration": 15,
    "start_time": "2023-01-09T12:18:08.518Z"
   },
   {
    "duration": 10,
    "start_time": "2023-01-09T12:18:08.535Z"
   },
   {
    "duration": 56,
    "start_time": "2023-01-09T12:18:08.546Z"
   },
   {
    "duration": 4,
    "start_time": "2023-01-09T12:18:08.603Z"
   },
   {
    "duration": 12,
    "start_time": "2023-01-09T12:18:08.608Z"
   },
   {
    "duration": 25,
    "start_time": "2023-01-09T12:18:08.622Z"
   },
   {
    "duration": 11,
    "start_time": "2023-01-09T12:18:08.648Z"
   },
   {
    "duration": 5,
    "start_time": "2023-01-09T12:18:08.661Z"
   },
   {
    "duration": 37,
    "start_time": "2023-01-09T12:18:08.667Z"
   },
   {
    "duration": 9,
    "start_time": "2023-01-09T12:18:08.705Z"
   },
   {
    "duration": 11,
    "start_time": "2023-01-09T12:18:08.715Z"
   },
   {
    "duration": 33,
    "start_time": "2023-01-09T12:18:08.728Z"
   },
   {
    "duration": 18,
    "start_time": "2023-01-09T12:18:08.763Z"
   },
   {
    "duration": 15,
    "start_time": "2023-01-09T12:18:08.782Z"
   },
   {
    "duration": 12,
    "start_time": "2023-01-09T12:18:08.798Z"
   },
   {
    "duration": 13,
    "start_time": "2023-01-09T12:18:08.811Z"
   },
   {
    "duration": 6,
    "start_time": "2023-01-09T12:18:08.825Z"
   },
   {
    "duration": 4,
    "start_time": "2023-01-09T12:18:08.832Z"
   },
   {
    "duration": 12,
    "start_time": "2023-01-09T12:18:08.837Z"
   },
   {
    "duration": 2,
    "start_time": "2023-01-09T12:18:08.850Z"
   },
   {
    "duration": 9,
    "start_time": "2023-01-09T12:18:08.854Z"
   },
   {
    "duration": 9,
    "start_time": "2023-01-09T12:18:08.864Z"
   },
   {
    "duration": 6,
    "start_time": "2023-01-09T12:18:08.875Z"
   },
   {
    "duration": 13,
    "start_time": "2023-01-09T12:29:47.785Z"
   },
   {
    "duration": 9,
    "start_time": "2023-01-09T12:30:10.509Z"
   },
   {
    "duration": 5,
    "start_time": "2023-01-09T12:30:15.086Z"
   },
   {
    "duration": 4,
    "start_time": "2023-01-09T12:34:33.855Z"
   },
   {
    "duration": 48,
    "start_time": "2023-01-09T12:38:12.563Z"
   },
   {
    "duration": 1015,
    "start_time": "2023-01-09T12:39:52.162Z"
   },
   {
    "duration": 31,
    "start_time": "2023-01-09T12:40:18.286Z"
   },
   {
    "duration": 22,
    "start_time": "2023-01-09T12:49:54.956Z"
   },
   {
    "duration": 22,
    "start_time": "2023-01-09T12:50:03.218Z"
   },
   {
    "duration": 12,
    "start_time": "2023-01-09T12:58:08.592Z"
   },
   {
    "duration": 16,
    "start_time": "2023-01-09T12:58:52.419Z"
   },
   {
    "duration": 10,
    "start_time": "2023-01-09T12:59:29.437Z"
   },
   {
    "duration": 24,
    "start_time": "2023-01-09T12:59:59.897Z"
   },
   {
    "duration": 11,
    "start_time": "2023-01-09T13:00:27.963Z"
   },
   {
    "duration": 11,
    "start_time": "2023-01-09T13:01:50.934Z"
   },
   {
    "duration": 15,
    "start_time": "2023-01-09T13:02:44.708Z"
   },
   {
    "duration": 22,
    "start_time": "2023-01-09T13:02:52.581Z"
   },
   {
    "duration": 13,
    "start_time": "2023-01-09T13:03:14.782Z"
   },
   {
    "duration": 12,
    "start_time": "2023-01-09T13:03:27.029Z"
   },
   {
    "duration": 17,
    "start_time": "2023-01-09T13:03:56.773Z"
   },
   {
    "duration": 28,
    "start_time": "2023-01-09T13:04:54.722Z"
   },
   {
    "duration": 21,
    "start_time": "2023-01-09T13:18:17.461Z"
   },
   {
    "duration": 22,
    "start_time": "2023-01-09T13:18:24.995Z"
   },
   {
    "duration": 21,
    "start_time": "2023-01-09T13:19:04.894Z"
   },
   {
    "duration": 12,
    "start_time": "2023-01-09T14:31:25.252Z"
   },
   {
    "duration": 5,
    "start_time": "2023-01-09T14:31:51.389Z"
   },
   {
    "duration": 5,
    "start_time": "2023-01-09T14:32:52.999Z"
   },
   {
    "duration": 9,
    "start_time": "2023-01-09T14:36:56.189Z"
   },
   {
    "duration": 5,
    "start_time": "2023-01-09T14:37:02.424Z"
   },
   {
    "duration": 21,
    "start_time": "2023-01-09T14:39:39.081Z"
   },
   {
    "duration": 24,
    "start_time": "2023-01-09T14:40:26.407Z"
   },
   {
    "duration": 38,
    "start_time": "2023-01-09T14:43:31.079Z"
   },
   {
    "duration": 40,
    "start_time": "2023-01-09T14:47:13.377Z"
   },
   {
    "duration": 41,
    "start_time": "2023-01-09T14:54:11.186Z"
   },
   {
    "duration": 61,
    "start_time": "2023-01-09T14:54:36.483Z"
   },
   {
    "duration": 5,
    "start_time": "2023-01-09T14:57:50.737Z"
   },
   {
    "duration": 8,
    "start_time": "2023-01-09T14:58:14.705Z"
   },
   {
    "duration": 6,
    "start_time": "2023-01-09T14:58:24.939Z"
   },
   {
    "duration": 4,
    "start_time": "2023-01-09T14:59:13.108Z"
   },
   {
    "duration": 4,
    "start_time": "2023-01-09T14:59:17.094Z"
   },
   {
    "duration": 4,
    "start_time": "2023-01-09T14:59:20.238Z"
   },
   {
    "duration": 4,
    "start_time": "2023-01-09T14:59:27.766Z"
   },
   {
    "duration": 4,
    "start_time": "2023-01-09T15:00:20.771Z"
   },
   {
    "duration": 8,
    "start_time": "2023-01-09T15:00:57.736Z"
   },
   {
    "duration": 7,
    "start_time": "2023-01-09T15:01:14.341Z"
   },
   {
    "duration": 5,
    "start_time": "2023-01-09T15:01:18.668Z"
   },
   {
    "duration": 4,
    "start_time": "2023-01-09T15:02:51.330Z"
   },
   {
    "duration": 4,
    "start_time": "2023-01-09T15:03:04.832Z"
   },
   {
    "duration": 4,
    "start_time": "2023-01-09T15:03:15.871Z"
   },
   {
    "duration": 3,
    "start_time": "2023-01-09T15:03:21.238Z"
   },
   {
    "duration": 4,
    "start_time": "2023-01-09T15:04:27.451Z"
   },
   {
    "duration": 4,
    "start_time": "2023-01-09T15:05:19.597Z"
   },
   {
    "duration": 5,
    "start_time": "2023-01-09T15:05:24.344Z"
   },
   {
    "duration": 5,
    "start_time": "2023-01-09T15:05:29.025Z"
   },
   {
    "duration": 4,
    "start_time": "2023-01-09T15:05:40.659Z"
   },
   {
    "duration": 22,
    "start_time": "2023-01-09T15:07:22.663Z"
   },
   {
    "duration": 23,
    "start_time": "2023-01-09T15:08:55.451Z"
   },
   {
    "duration": 18,
    "start_time": "2023-01-09T15:14:37.711Z"
   },
   {
    "duration": 20,
    "start_time": "2023-01-09T15:14:56.562Z"
   },
   {
    "duration": 20,
    "start_time": "2023-01-09T15:24:02.099Z"
   },
   {
    "duration": 23,
    "start_time": "2023-01-09T15:26:08.917Z"
   },
   {
    "duration": 20,
    "start_time": "2023-01-09T15:26:18.313Z"
   },
   {
    "duration": 32,
    "start_time": "2023-01-09T15:36:16.519Z"
   },
   {
    "duration": 40,
    "start_time": "2023-01-09T15:36:23.975Z"
   },
   {
    "duration": 32,
    "start_time": "2023-01-09T15:38:45.454Z"
   },
   {
    "duration": 560,
    "start_time": "2023-01-10T13:23:55.380Z"
   },
   {
    "duration": 23,
    "start_time": "2023-01-10T13:23:55.941Z"
   },
   {
    "duration": 15,
    "start_time": "2023-01-10T13:23:55.965Z"
   },
   {
    "duration": 9,
    "start_time": "2023-01-10T13:23:55.982Z"
   },
   {
    "duration": 41,
    "start_time": "2023-01-10T13:23:55.992Z"
   },
   {
    "duration": 3,
    "start_time": "2023-01-10T13:23:56.035Z"
   },
   {
    "duration": 15,
    "start_time": "2023-01-10T13:23:56.040Z"
   },
   {
    "duration": 4,
    "start_time": "2023-01-10T13:23:56.056Z"
   },
   {
    "duration": 16,
    "start_time": "2023-01-10T13:23:56.062Z"
   },
   {
    "duration": 4,
    "start_time": "2023-01-10T13:23:56.082Z"
   },
   {
    "duration": 42,
    "start_time": "2023-01-10T13:23:56.088Z"
   },
   {
    "duration": 10,
    "start_time": "2023-01-10T13:23:56.132Z"
   },
   {
    "duration": 11,
    "start_time": "2023-01-10T13:23:56.143Z"
   },
   {
    "duration": 23,
    "start_time": "2023-01-10T13:23:56.155Z"
   },
   {
    "duration": 27,
    "start_time": "2023-01-10T13:23:56.180Z"
   },
   {
    "duration": 26,
    "start_time": "2023-01-10T13:23:56.208Z"
   },
   {
    "duration": 23,
    "start_time": "2023-01-10T13:23:56.236Z"
   },
   {
    "duration": 14,
    "start_time": "2023-01-10T13:23:56.261Z"
   },
   {
    "duration": 9,
    "start_time": "2023-01-10T13:23:56.277Z"
   },
   {
    "duration": 8,
    "start_time": "2023-01-10T13:23:56.288Z"
   },
   {
    "duration": 19,
    "start_time": "2023-01-10T13:23:56.297Z"
   },
   {
    "duration": 10,
    "start_time": "2023-01-10T13:23:56.318Z"
   },
   {
    "duration": 8,
    "start_time": "2023-01-10T13:23:56.329Z"
   },
   {
    "duration": 85,
    "start_time": "2023-01-10T13:23:56.339Z"
   },
   {
    "duration": 0,
    "start_time": "2023-01-10T13:23:56.426Z"
   },
   {
    "duration": 0,
    "start_time": "2023-01-10T13:23:56.428Z"
   },
   {
    "duration": 0,
    "start_time": "2023-01-10T13:23:56.429Z"
   },
   {
    "duration": 0,
    "start_time": "2023-01-10T13:23:56.431Z"
   },
   {
    "duration": 0,
    "start_time": "2023-01-10T13:23:56.432Z"
   },
   {
    "duration": 0,
    "start_time": "2023-01-10T13:23:56.434Z"
   },
   {
    "duration": 0,
    "start_time": "2023-01-10T13:23:56.435Z"
   },
   {
    "duration": 22,
    "start_time": "2023-01-10T13:24:25.404Z"
   },
   {
    "duration": 23,
    "start_time": "2023-01-10T13:24:46.042Z"
   },
   {
    "duration": 6,
    "start_time": "2023-01-10T13:25:07.529Z"
   },
   {
    "duration": 5,
    "start_time": "2023-01-10T13:25:09.808Z"
   },
   {
    "duration": 25,
    "start_time": "2023-01-10T13:25:14.289Z"
   },
   {
    "duration": 24,
    "start_time": "2023-01-10T13:26:02.708Z"
   },
   {
    "duration": 24,
    "start_time": "2023-01-10T13:32:42.634Z"
   },
   {
    "duration": 39,
    "start_time": "2023-01-10T13:34:21.731Z"
   },
   {
    "duration": 6,
    "start_time": "2023-01-10T13:56:17.627Z"
   },
   {
    "duration": 24,
    "start_time": "2023-01-10T13:58:29.009Z"
   },
   {
    "duration": 47,
    "start_time": "2023-01-10T14:05:55.342Z"
   },
   {
    "duration": 703,
    "start_time": "2023-01-10T14:06:09.170Z"
   },
   {
    "duration": 22,
    "start_time": "2023-01-10T14:06:09.875Z"
   },
   {
    "duration": 15,
    "start_time": "2023-01-10T14:06:09.898Z"
   },
   {
    "duration": 11,
    "start_time": "2023-01-10T14:06:09.916Z"
   },
   {
    "duration": 37,
    "start_time": "2023-01-10T14:06:09.929Z"
   },
   {
    "duration": 3,
    "start_time": "2023-01-10T14:06:09.968Z"
   },
   {
    "duration": 15,
    "start_time": "2023-01-10T14:06:09.973Z"
   },
   {
    "duration": 11,
    "start_time": "2023-01-10T14:06:09.989Z"
   },
   {
    "duration": 7,
    "start_time": "2023-01-10T14:06:10.002Z"
   },
   {
    "duration": 24,
    "start_time": "2023-01-10T14:06:10.013Z"
   },
   {
    "duration": 34,
    "start_time": "2023-01-10T14:06:10.039Z"
   },
   {
    "duration": 9,
    "start_time": "2023-01-10T14:06:10.075Z"
   },
   {
    "duration": 8,
    "start_time": "2023-01-10T14:06:10.085Z"
   },
   {
    "duration": 13,
    "start_time": "2023-01-10T14:06:10.094Z"
   },
   {
    "duration": 35,
    "start_time": "2023-01-10T14:06:10.109Z"
   },
   {
    "duration": 17,
    "start_time": "2023-01-10T14:06:10.146Z"
   },
   {
    "duration": 4,
    "start_time": "2023-01-10T14:06:10.165Z"
   },
   {
    "duration": 14,
    "start_time": "2023-01-10T14:06:10.172Z"
   },
   {
    "duration": 6,
    "start_time": "2023-01-10T14:06:10.187Z"
   },
   {
    "duration": 7,
    "start_time": "2023-01-10T14:06:10.194Z"
   },
   {
    "duration": 34,
    "start_time": "2023-01-10T14:06:10.202Z"
   },
   {
    "duration": 3,
    "start_time": "2023-01-10T14:06:10.238Z"
   },
   {
    "duration": 12,
    "start_time": "2023-01-10T14:06:10.243Z"
   },
   {
    "duration": 26,
    "start_time": "2023-01-10T14:06:10.257Z"
   },
   {
    "duration": 22,
    "start_time": "2023-01-10T14:06:10.284Z"
   },
   {
    "duration": 5,
    "start_time": "2023-01-10T14:06:10.308Z"
   },
   {
    "duration": 23,
    "start_time": "2023-01-10T14:06:10.335Z"
   },
   {
    "duration": 29,
    "start_time": "2023-01-10T14:06:10.361Z"
   },
   {
    "duration": 49,
    "start_time": "2023-01-10T14:06:10.391Z"
   },
   {
    "duration": 51,
    "start_time": "2023-01-10T14:06:10.441Z"
   },
   {
    "duration": 32,
    "start_time": "2023-01-10T14:11:55.928Z"
   },
   {
    "duration": 26,
    "start_time": "2023-01-10T14:13:52.868Z"
   },
   {
    "duration": 38,
    "start_time": "2023-01-10T14:14:05.738Z"
   },
   {
    "duration": 28,
    "start_time": "2023-01-10T14:16:47.619Z"
   },
   {
    "duration": 46,
    "start_time": "2023-01-10T14:20:00.299Z"
   },
   {
    "duration": 44,
    "start_time": "2023-01-10T14:28:07.619Z"
   },
   {
    "duration": 577,
    "start_time": "2023-01-10T14:28:16.660Z"
   },
   {
    "duration": 44,
    "start_time": "2023-01-10T14:28:21.735Z"
   },
   {
    "duration": 39,
    "start_time": "2023-01-10T14:28:30.077Z"
   },
   {
    "duration": 6,
    "start_time": "2023-01-10T14:33:48.794Z"
   },
   {
    "duration": 47,
    "start_time": "2023-01-10T14:33:55.870Z"
   },
   {
    "duration": 27,
    "start_time": "2023-01-10T14:46:01.834Z"
   },
   {
    "duration": 44,
    "start_time": "2023-01-10T14:48:14.350Z"
   },
   {
    "duration": 51,
    "start_time": "2023-01-11T15:54:25.358Z"
   },
   {
    "duration": 6,
    "start_time": "2023-01-11T15:54:37.698Z"
   },
   {
    "duration": 5,
    "start_time": "2023-01-11T15:55:09.159Z"
   },
   {
    "duration": 6,
    "start_time": "2023-01-11T15:55:23.394Z"
   },
   {
    "duration": 14,
    "start_time": "2023-01-11T15:55:27.573Z"
   },
   {
    "duration": 6,
    "start_time": "2023-01-11T15:55:43.134Z"
   },
   {
    "duration": 576,
    "start_time": "2023-01-11T15:55:56.494Z"
   },
   {
    "duration": 29,
    "start_time": "2023-01-11T15:55:57.072Z"
   },
   {
    "duration": 15,
    "start_time": "2023-01-11T15:55:57.103Z"
   },
   {
    "duration": 9,
    "start_time": "2023-01-11T15:55:57.121Z"
   },
   {
    "duration": 2,
    "start_time": "2023-01-11T15:55:57.132Z"
   },
   {
    "duration": 64,
    "start_time": "2023-01-11T15:55:57.136Z"
   },
   {
    "duration": 4,
    "start_time": "2023-01-11T15:55:57.202Z"
   },
   {
    "duration": 11,
    "start_time": "2023-01-11T15:55:57.207Z"
   },
   {
    "duration": 4,
    "start_time": "2023-01-11T15:55:57.220Z"
   },
   {
    "duration": 8,
    "start_time": "2023-01-11T15:55:57.227Z"
   },
   {
    "duration": 5,
    "start_time": "2023-01-11T15:55:57.236Z"
   },
   {
    "duration": 68,
    "start_time": "2023-01-11T15:55:57.242Z"
   },
   {
    "duration": 9,
    "start_time": "2023-01-11T15:55:57.312Z"
   },
   {
    "duration": 5,
    "start_time": "2023-01-11T15:55:57.322Z"
   },
   {
    "duration": 13,
    "start_time": "2023-01-11T15:55:57.328Z"
   },
   {
    "duration": 43,
    "start_time": "2023-01-11T15:55:57.342Z"
   },
   {
    "duration": 21,
    "start_time": "2023-01-11T15:55:57.387Z"
   },
   {
    "duration": 3,
    "start_time": "2023-01-11T15:55:57.410Z"
   },
   {
    "duration": 13,
    "start_time": "2023-01-11T15:55:57.414Z"
   },
   {
    "duration": 8,
    "start_time": "2023-01-11T15:55:57.428Z"
   },
   {
    "duration": 4,
    "start_time": "2023-01-11T15:55:57.437Z"
   },
   {
    "duration": 13,
    "start_time": "2023-01-11T15:55:57.443Z"
   },
   {
    "duration": 26,
    "start_time": "2023-01-11T15:55:57.457Z"
   },
   {
    "duration": 14,
    "start_time": "2023-01-11T15:55:57.485Z"
   },
   {
    "duration": 26,
    "start_time": "2023-01-11T15:55:57.501Z"
   },
   {
    "duration": 23,
    "start_time": "2023-01-11T15:55:57.529Z"
   },
   {
    "duration": 31,
    "start_time": "2023-01-11T15:55:57.554Z"
   },
   {
    "duration": 30,
    "start_time": "2023-01-11T15:55:57.590Z"
   },
   {
    "duration": 19,
    "start_time": "2023-01-11T15:55:57.622Z"
   },
   {
    "duration": 76,
    "start_time": "2023-01-11T15:55:57.643Z"
   },
   {
    "duration": 22,
    "start_time": "2023-01-11T15:55:57.721Z"
   },
   {
    "duration": 9,
    "start_time": "2023-01-11T15:56:22.650Z"
   },
   {
    "duration": 80,
    "start_time": "2023-01-11T15:56:35.649Z"
   },
   {
    "duration": 26,
    "start_time": "2023-01-11T15:56:43.565Z"
   },
   {
    "duration": 79,
    "start_time": "2023-01-11T15:57:02.370Z"
   },
   {
    "duration": 13,
    "start_time": "2023-01-11T15:57:13.645Z"
   },
   {
    "duration": 9,
    "start_time": "2023-01-11T15:57:42.056Z"
   },
   {
    "duration": 27,
    "start_time": "2023-01-11T15:57:58.649Z"
   },
   {
    "duration": 12,
    "start_time": "2023-01-11T15:58:04.730Z"
   },
   {
    "duration": 17,
    "start_time": "2023-01-11T15:58:11.275Z"
   },
   {
    "duration": 551,
    "start_time": "2023-01-11T15:58:23.575Z"
   },
   {
    "duration": 25,
    "start_time": "2023-01-11T15:58:24.129Z"
   },
   {
    "duration": 24,
    "start_time": "2023-01-11T15:58:24.156Z"
   },
   {
    "duration": 26,
    "start_time": "2023-01-11T15:58:24.184Z"
   },
   {
    "duration": 6,
    "start_time": "2023-01-11T15:58:24.213Z"
   },
   {
    "duration": 49,
    "start_time": "2023-01-11T15:58:24.220Z"
   },
   {
    "duration": 12,
    "start_time": "2023-01-11T15:58:24.270Z"
   },
   {
    "duration": 27,
    "start_time": "2023-01-11T15:58:24.285Z"
   },
   {
    "duration": 4,
    "start_time": "2023-01-11T15:58:24.315Z"
   },
   {
    "duration": 11,
    "start_time": "2023-01-11T15:58:24.323Z"
   },
   {
    "duration": 7,
    "start_time": "2023-01-11T15:58:24.336Z"
   },
   {
    "duration": 54,
    "start_time": "2023-01-11T15:58:24.345Z"
   },
   {
    "duration": 11,
    "start_time": "2023-01-11T15:58:24.401Z"
   },
   {
    "duration": 5,
    "start_time": "2023-01-11T15:58:24.414Z"
   },
   {
    "duration": 14,
    "start_time": "2023-01-11T15:58:24.421Z"
   },
   {
    "duration": 43,
    "start_time": "2023-01-11T15:58:24.437Z"
   },
   {
    "duration": 24,
    "start_time": "2023-01-11T15:58:24.482Z"
   },
   {
    "duration": 4,
    "start_time": "2023-01-11T15:58:24.508Z"
   },
   {
    "duration": 12,
    "start_time": "2023-01-11T15:58:24.513Z"
   },
   {
    "duration": 5,
    "start_time": "2023-01-11T15:58:24.526Z"
   },
   {
    "duration": 3,
    "start_time": "2023-01-11T15:58:24.533Z"
   },
   {
    "duration": 44,
    "start_time": "2023-01-11T15:58:24.538Z"
   },
   {
    "duration": 7,
    "start_time": "2023-01-11T15:58:24.585Z"
   },
   {
    "duration": 7,
    "start_time": "2023-01-11T15:58:24.596Z"
   },
   {
    "duration": 25,
    "start_time": "2023-01-11T15:58:24.605Z"
   },
   {
    "duration": 24,
    "start_time": "2023-01-11T15:58:24.632Z"
   },
   {
    "duration": 11,
    "start_time": "2023-01-11T15:58:24.679Z"
   },
   {
    "duration": 24,
    "start_time": "2023-01-11T15:58:24.696Z"
   },
   {
    "duration": 21,
    "start_time": "2023-01-11T15:58:24.722Z"
   },
   {
    "duration": 85,
    "start_time": "2023-01-11T15:58:24.745Z"
   },
   {
    "duration": 22,
    "start_time": "2023-01-11T15:58:24.831Z"
   },
   {
    "duration": 7,
    "start_time": "2023-01-11T15:58:51.060Z"
   },
   {
    "duration": 9,
    "start_time": "2023-01-11T15:59:09.189Z"
   },
   {
    "duration": 10,
    "start_time": "2023-01-11T15:59:16.050Z"
   },
   {
    "duration": 10,
    "start_time": "2023-01-11T15:59:46.434Z"
   },
   {
    "duration": 73,
    "start_time": "2023-01-11T16:00:31.743Z"
   },
   {
    "duration": 8,
    "start_time": "2023-01-11T16:01:00.446Z"
   },
   {
    "duration": 8,
    "start_time": "2023-01-11T16:01:35.744Z"
   },
   {
    "duration": 20,
    "start_time": "2023-01-11T16:02:21.875Z"
   },
   {
    "duration": 11,
    "start_time": "2023-01-11T16:02:28.393Z"
   },
   {
    "duration": 15,
    "start_time": "2023-01-11T16:03:43.040Z"
   },
   {
    "duration": 10,
    "start_time": "2023-01-11T16:03:46.946Z"
   },
   {
    "duration": 9,
    "start_time": "2023-01-11T16:04:35.284Z"
   },
   {
    "duration": 11,
    "start_time": "2023-01-11T16:05:09.027Z"
   },
   {
    "duration": 9,
    "start_time": "2023-01-11T16:05:19.711Z"
   },
   {
    "duration": 3,
    "start_time": "2023-01-11T16:07:32.417Z"
   },
   {
    "duration": 8,
    "start_time": "2023-01-11T16:07:48.237Z"
   },
   {
    "duration": 66,
    "start_time": "2023-01-11T16:08:18.561Z"
   },
   {
    "duration": 1267,
    "start_time": "2023-01-11T16:08:36.620Z"
   },
   {
    "duration": 8,
    "start_time": "2023-01-11T16:09:14.349Z"
   },
   {
    "duration": 10,
    "start_time": "2023-01-11T16:19:21.610Z"
   },
   {
    "duration": 5,
    "start_time": "2023-01-11T16:20:31.505Z"
   },
   {
    "duration": 9,
    "start_time": "2023-01-11T16:20:41.157Z"
   },
   {
    "duration": 7,
    "start_time": "2023-01-11T16:21:25.363Z"
   },
   {
    "duration": 9,
    "start_time": "2023-01-11T16:22:32.662Z"
   },
   {
    "duration": 4,
    "start_time": "2023-01-11T16:33:19.546Z"
   },
   {
    "duration": 10,
    "start_time": "2023-01-11T16:36:27.101Z"
   },
   {
    "duration": 7,
    "start_time": "2023-01-11T16:36:39.454Z"
   },
   {
    "duration": 847,
    "start_time": "2023-01-11T16:37:07.507Z"
   },
   {
    "duration": 4,
    "start_time": "2023-01-11T16:38:41.505Z"
   },
   {
    "duration": 932,
    "start_time": "2023-01-11T16:38:44.855Z"
   },
   {
    "duration": 4,
    "start_time": "2023-01-11T16:39:41.210Z"
   },
   {
    "duration": 859,
    "start_time": "2023-01-11T16:39:44.410Z"
   },
   {
    "duration": 26,
    "start_time": "2023-01-11T16:40:32.338Z"
   },
   {
    "duration": 845,
    "start_time": "2023-01-11T16:40:48.009Z"
   },
   {
    "duration": 21,
    "start_time": "2023-01-11T16:41:09.509Z"
   },
   {
    "duration": 33,
    "start_time": "2023-01-11T16:41:44.079Z"
   },
   {
    "duration": 22,
    "start_time": "2023-01-11T16:41:53.085Z"
   },
   {
    "duration": 22,
    "start_time": "2023-01-11T16:42:38.430Z"
   },
   {
    "duration": 540,
    "start_time": "2023-01-11T16:44:59.951Z"
   },
   {
    "duration": 21,
    "start_time": "2023-01-11T16:45:00.493Z"
   },
   {
    "duration": 15,
    "start_time": "2023-01-11T16:45:00.516Z"
   },
   {
    "duration": 19,
    "start_time": "2023-01-11T16:45:00.532Z"
   },
   {
    "duration": 7,
    "start_time": "2023-01-11T16:45:00.553Z"
   },
   {
    "duration": 48,
    "start_time": "2023-01-11T16:45:00.561Z"
   },
   {
    "duration": 3,
    "start_time": "2023-01-11T16:45:00.611Z"
   },
   {
    "duration": 17,
    "start_time": "2023-01-11T16:45:00.615Z"
   },
   {
    "duration": 8,
    "start_time": "2023-01-11T16:45:00.633Z"
   },
   {
    "duration": 26,
    "start_time": "2023-01-11T16:45:00.645Z"
   },
   {
    "duration": 20,
    "start_time": "2023-01-11T16:45:00.672Z"
   },
   {
    "duration": 51,
    "start_time": "2023-01-11T16:45:00.694Z"
   },
   {
    "duration": 9,
    "start_time": "2023-01-11T16:45:00.747Z"
   },
   {
    "duration": 13,
    "start_time": "2023-01-11T16:45:00.758Z"
   },
   {
    "duration": 38,
    "start_time": "2023-01-11T16:45:00.773Z"
   },
   {
    "duration": 42,
    "start_time": "2023-01-11T16:45:00.813Z"
   },
   {
    "duration": 19,
    "start_time": "2023-01-11T16:45:00.857Z"
   },
   {
    "duration": 18,
    "start_time": "2023-01-11T16:45:00.878Z"
   },
   {
    "duration": 18,
    "start_time": "2023-01-11T16:45:00.898Z"
   },
   {
    "duration": 18,
    "start_time": "2023-01-11T16:45:00.918Z"
   },
   {
    "duration": 5,
    "start_time": "2023-01-11T16:45:00.938Z"
   },
   {
    "duration": 10,
    "start_time": "2023-01-11T16:45:00.944Z"
   },
   {
    "duration": 15,
    "start_time": "2023-01-11T16:45:00.956Z"
   },
   {
    "duration": 11,
    "start_time": "2023-01-11T16:45:00.972Z"
   },
   {
    "duration": 37,
    "start_time": "2023-01-11T16:45:00.984Z"
   },
   {
    "duration": 28,
    "start_time": "2023-01-11T16:45:01.023Z"
   },
   {
    "duration": 6,
    "start_time": "2023-01-11T16:45:01.053Z"
   },
   {
    "duration": 34,
    "start_time": "2023-01-11T16:45:01.061Z"
   },
   {
    "duration": 29,
    "start_time": "2023-01-11T16:45:01.097Z"
   },
   {
    "duration": 53,
    "start_time": "2023-01-11T16:45:01.128Z"
   },
   {
    "duration": 21,
    "start_time": "2023-01-11T16:45:01.182Z"
   },
   {
    "duration": 9,
    "start_time": "2023-01-11T16:45:01.204Z"
   },
   {
    "duration": 21,
    "start_time": "2023-01-11T16:45:01.214Z"
   },
   {
    "duration": 483,
    "start_time": "2023-01-11T16:47:17.679Z"
   },
   {
    "duration": 22,
    "start_time": "2023-01-11T16:47:18.164Z"
   },
   {
    "duration": 16,
    "start_time": "2023-01-11T16:47:18.187Z"
   },
   {
    "duration": 9,
    "start_time": "2023-01-11T16:47:18.205Z"
   },
   {
    "duration": 6,
    "start_time": "2023-01-11T16:47:18.215Z"
   },
   {
    "duration": 33,
    "start_time": "2023-01-11T16:47:18.223Z"
   },
   {
    "duration": 3,
    "start_time": "2023-01-11T16:47:18.258Z"
   },
   {
    "duration": 25,
    "start_time": "2023-01-11T16:47:18.262Z"
   },
   {
    "duration": 6,
    "start_time": "2023-01-11T16:47:18.289Z"
   },
   {
    "duration": 6,
    "start_time": "2023-01-11T16:47:18.299Z"
   },
   {
    "duration": 4,
    "start_time": "2023-01-11T16:47:18.306Z"
   },
   {
    "duration": 32,
    "start_time": "2023-01-11T16:47:18.311Z"
   },
   {
    "duration": 9,
    "start_time": "2023-01-11T16:47:18.345Z"
   },
   {
    "duration": 4,
    "start_time": "2023-01-11T16:47:18.378Z"
   },
   {
    "duration": 22,
    "start_time": "2023-01-11T16:47:18.383Z"
   },
   {
    "duration": 22,
    "start_time": "2023-01-11T16:47:18.406Z"
   },
   {
    "duration": 17,
    "start_time": "2023-01-11T16:47:18.429Z"
   },
   {
    "duration": 3,
    "start_time": "2023-01-11T16:47:18.447Z"
   },
   {
    "duration": 30,
    "start_time": "2023-01-11T16:47:18.452Z"
   },
   {
    "duration": 5,
    "start_time": "2023-01-11T16:47:18.483Z"
   },
   {
    "duration": 4,
    "start_time": "2023-01-11T16:47:18.490Z"
   },
   {
    "duration": 12,
    "start_time": "2023-01-11T16:47:18.495Z"
   },
   {
    "duration": 3,
    "start_time": "2023-01-11T16:47:18.509Z"
   },
   {
    "duration": 6,
    "start_time": "2023-01-11T16:47:18.514Z"
   },
   {
    "duration": 26,
    "start_time": "2023-01-11T16:47:18.521Z"
   },
   {
    "duration": 49,
    "start_time": "2023-01-11T16:47:18.549Z"
   },
   {
    "duration": 5,
    "start_time": "2023-01-11T16:47:18.600Z"
   },
   {
    "duration": 24,
    "start_time": "2023-01-11T16:47:18.608Z"
   },
   {
    "duration": 45,
    "start_time": "2023-01-11T16:47:18.633Z"
   },
   {
    "duration": 51,
    "start_time": "2023-01-11T16:47:18.680Z"
   },
   {
    "duration": 21,
    "start_time": "2023-01-11T16:47:18.732Z"
   },
   {
    "duration": 28,
    "start_time": "2023-01-11T16:47:18.755Z"
   },
   {
    "duration": 7,
    "start_time": "2023-01-11T16:47:18.784Z"
   },
   {
    "duration": 51,
    "start_time": "2023-01-11T17:02:31.018Z"
   },
   {
    "duration": 48,
    "start_time": "2023-01-11T17:03:25.394Z"
   },
   {
    "duration": 49,
    "start_time": "2023-01-11T17:03:43.971Z"
   },
   {
    "duration": 42,
    "start_time": "2023-01-11T17:05:31.773Z"
   },
   {
    "duration": 35,
    "start_time": "2023-01-11T17:07:04.619Z"
   },
   {
    "duration": 40,
    "start_time": "2023-01-11T17:07:19.710Z"
   },
   {
    "duration": 50,
    "start_time": "2023-01-11T17:09:57.176Z"
   },
   {
    "duration": 48,
    "start_time": "2023-01-11T17:10:17.766Z"
   },
   {
    "duration": 554,
    "start_time": "2023-01-12T08:55:04.728Z"
   },
   {
    "duration": 23,
    "start_time": "2023-01-12T08:55:05.284Z"
   },
   {
    "duration": 17,
    "start_time": "2023-01-12T08:55:05.309Z"
   },
   {
    "duration": 11,
    "start_time": "2023-01-12T08:55:05.329Z"
   },
   {
    "duration": 10,
    "start_time": "2023-01-12T08:55:05.341Z"
   },
   {
    "duration": 53,
    "start_time": "2023-01-12T08:55:05.352Z"
   },
   {
    "duration": 3,
    "start_time": "2023-01-12T08:55:05.406Z"
   },
   {
    "duration": 12,
    "start_time": "2023-01-12T08:55:05.411Z"
   },
   {
    "duration": 4,
    "start_time": "2023-01-12T08:55:05.425Z"
   },
   {
    "duration": 14,
    "start_time": "2023-01-12T08:55:05.433Z"
   },
   {
    "duration": 5,
    "start_time": "2023-01-12T08:55:05.449Z"
   },
   {
    "duration": 55,
    "start_time": "2023-01-12T08:55:05.456Z"
   },
   {
    "duration": 11,
    "start_time": "2023-01-12T08:55:05.513Z"
   },
   {
    "duration": 4,
    "start_time": "2023-01-12T08:55:05.525Z"
   },
   {
    "duration": 23,
    "start_time": "2023-01-12T08:55:05.531Z"
   },
   {
    "duration": 24,
    "start_time": "2023-01-12T08:55:05.556Z"
   },
   {
    "duration": 31,
    "start_time": "2023-01-12T08:55:05.581Z"
   },
   {
    "duration": 4,
    "start_time": "2023-01-12T08:55:05.613Z"
   },
   {
    "duration": 16,
    "start_time": "2023-01-12T08:55:05.619Z"
   },
   {
    "duration": 7,
    "start_time": "2023-01-12T08:55:05.637Z"
   },
   {
    "duration": 8,
    "start_time": "2023-01-12T08:55:05.645Z"
   },
   {
    "duration": 14,
    "start_time": "2023-01-12T08:55:05.654Z"
   },
   {
    "duration": 9,
    "start_time": "2023-01-12T08:55:05.670Z"
   },
   {
    "duration": 11,
    "start_time": "2023-01-12T08:55:05.680Z"
   },
   {
    "duration": 25,
    "start_time": "2023-01-12T08:55:05.705Z"
   },
   {
    "duration": 23,
    "start_time": "2023-01-12T08:55:05.732Z"
   },
   {
    "duration": 11,
    "start_time": "2023-01-12T08:55:05.757Z"
   },
   {
    "duration": 40,
    "start_time": "2023-01-12T08:55:05.771Z"
   },
   {
    "duration": 25,
    "start_time": "2023-01-12T08:55:05.812Z"
   },
   {
    "duration": 46,
    "start_time": "2023-01-12T08:55:05.839Z"
   },
   {
    "duration": 45,
    "start_time": "2023-01-12T08:55:05.887Z"
   },
   {
    "duration": 9,
    "start_time": "2023-01-12T08:55:05.934Z"
   },
   {
    "duration": 20,
    "start_time": "2023-01-12T08:55:05.945Z"
   },
   {
    "duration": 575,
    "start_time": "2023-01-12T10:37:20.032Z"
   },
   {
    "duration": 26,
    "start_time": "2023-01-12T10:37:20.609Z"
   },
   {
    "duration": 24,
    "start_time": "2023-01-12T10:37:20.637Z"
   },
   {
    "duration": 11,
    "start_time": "2023-01-12T10:37:20.663Z"
   },
   {
    "duration": 17,
    "start_time": "2023-01-12T10:37:20.676Z"
   },
   {
    "duration": 47,
    "start_time": "2023-01-12T10:37:20.694Z"
   },
   {
    "duration": 4,
    "start_time": "2023-01-12T10:37:20.743Z"
   },
   {
    "duration": 23,
    "start_time": "2023-01-12T10:37:20.749Z"
   },
   {
    "duration": 9,
    "start_time": "2023-01-12T10:37:20.774Z"
   },
   {
    "duration": 8,
    "start_time": "2023-01-12T10:37:20.788Z"
   },
   {
    "duration": 12,
    "start_time": "2023-01-12T10:37:20.798Z"
   },
   {
    "duration": 39,
    "start_time": "2023-01-12T10:37:20.812Z"
   },
   {
    "duration": 10,
    "start_time": "2023-01-12T10:37:20.853Z"
   },
   {
    "duration": 8,
    "start_time": "2023-01-12T10:37:20.864Z"
   },
   {
    "duration": 19,
    "start_time": "2023-01-12T10:37:20.874Z"
   },
   {
    "duration": 34,
    "start_time": "2023-01-12T10:37:20.895Z"
   },
   {
    "duration": 17,
    "start_time": "2023-01-12T10:37:20.931Z"
   },
   {
    "duration": 3,
    "start_time": "2023-01-12T10:37:20.950Z"
   },
   {
    "duration": 14,
    "start_time": "2023-01-12T10:37:20.955Z"
   },
   {
    "duration": 9,
    "start_time": "2023-01-12T10:37:20.971Z"
   },
   {
    "duration": 7,
    "start_time": "2023-01-12T10:37:20.981Z"
   },
   {
    "duration": 54,
    "start_time": "2023-01-12T10:37:20.990Z"
   },
   {
    "duration": 14,
    "start_time": "2023-01-12T10:37:21.046Z"
   },
   {
    "duration": 10,
    "start_time": "2023-01-12T10:37:21.062Z"
   },
   {
    "duration": 33,
    "start_time": "2023-01-12T10:37:21.073Z"
   },
   {
    "duration": 35,
    "start_time": "2023-01-12T10:37:21.108Z"
   },
   {
    "duration": 13,
    "start_time": "2023-01-12T10:37:21.145Z"
   },
   {
    "duration": 38,
    "start_time": "2023-01-12T10:37:21.161Z"
   },
   {
    "duration": 34,
    "start_time": "2023-01-12T10:37:21.201Z"
   },
   {
    "duration": 49,
    "start_time": "2023-01-12T10:37:21.238Z"
   },
   {
    "duration": 42,
    "start_time": "2023-01-12T10:37:21.289Z"
   },
   {
    "duration": 8,
    "start_time": "2023-01-12T10:37:21.333Z"
   },
   {
    "duration": 22,
    "start_time": "2023-01-12T10:37:21.343Z"
   },
   {
    "duration": 60,
    "start_time": "2023-01-12T14:15:05.845Z"
   },
   {
    "duration": 699,
    "start_time": "2023-01-12T14:15:12.737Z"
   },
   {
    "duration": 22,
    "start_time": "2023-01-12T14:15:13.438Z"
   },
   {
    "duration": 27,
    "start_time": "2023-01-12T14:15:13.462Z"
   },
   {
    "duration": 21,
    "start_time": "2023-01-12T14:15:13.491Z"
   },
   {
    "duration": 29,
    "start_time": "2023-01-12T14:15:13.514Z"
   },
   {
    "duration": 42,
    "start_time": "2023-01-12T14:15:13.545Z"
   },
   {
    "duration": 6,
    "start_time": "2023-01-12T14:15:13.589Z"
   },
   {
    "duration": 30,
    "start_time": "2023-01-12T14:15:13.596Z"
   },
   {
    "duration": 32,
    "start_time": "2023-01-12T14:15:13.628Z"
   },
   {
    "duration": 20,
    "start_time": "2023-01-12T14:15:13.664Z"
   },
   {
    "duration": 22,
    "start_time": "2023-01-12T14:15:13.685Z"
   },
   {
    "duration": 46,
    "start_time": "2023-01-12T14:15:13.709Z"
   },
   {
    "duration": 9,
    "start_time": "2023-01-12T14:15:13.756Z"
   },
   {
    "duration": 39,
    "start_time": "2023-01-12T14:15:13.767Z"
   },
   {
    "duration": 29,
    "start_time": "2023-01-12T14:15:13.808Z"
   },
   {
    "duration": 42,
    "start_time": "2023-01-12T14:15:13.839Z"
   },
   {
    "duration": 43,
    "start_time": "2023-01-12T14:15:13.883Z"
   },
   {
    "duration": 9,
    "start_time": "2023-01-12T14:15:13.927Z"
   },
   {
    "duration": 30,
    "start_time": "2023-01-12T14:15:13.937Z"
   },
   {
    "duration": 28,
    "start_time": "2023-01-12T14:15:13.969Z"
   },
   {
    "duration": 15,
    "start_time": "2023-01-12T14:15:13.998Z"
   },
   {
    "duration": 49,
    "start_time": "2023-01-12T14:15:14.014Z"
   },
   {
    "duration": 17,
    "start_time": "2023-01-12T14:15:14.064Z"
   },
   {
    "duration": 22,
    "start_time": "2023-01-12T14:15:14.083Z"
   },
   {
    "duration": 53,
    "start_time": "2023-01-12T14:15:14.107Z"
   },
   {
    "duration": 23,
    "start_time": "2023-01-12T14:15:14.162Z"
   },
   {
    "duration": 12,
    "start_time": "2023-01-12T14:15:14.187Z"
   },
   {
    "duration": 56,
    "start_time": "2023-01-12T14:15:14.203Z"
   },
   {
    "duration": 28,
    "start_time": "2023-01-12T14:15:14.261Z"
   },
   {
    "duration": 49,
    "start_time": "2023-01-12T14:15:14.291Z"
   },
   {
    "duration": 40,
    "start_time": "2023-01-12T14:15:14.342Z"
   },
   {
    "duration": 7,
    "start_time": "2023-01-12T14:15:14.384Z"
   },
   {
    "duration": 42,
    "start_time": "2023-01-12T14:15:14.393Z"
   },
   {
    "duration": 29,
    "start_time": "2023-01-12T14:15:27.636Z"
   },
   {
    "duration": 46,
    "start_time": "2023-01-12T14:15:52.047Z"
   },
   {
    "duration": 27,
    "start_time": "2023-01-12T14:16:02.159Z"
   },
   {
    "duration": 63,
    "start_time": "2023-01-12T16:52:52.334Z"
   },
   {
    "duration": 4,
    "start_time": "2023-01-12T16:52:59.608Z"
   },
   {
    "duration": 8,
    "start_time": "2023-01-12T16:53:03.907Z"
   },
   {
    "duration": 5,
    "start_time": "2023-01-12T16:54:00.836Z"
   },
   {
    "duration": 12,
    "start_time": "2023-01-12T16:55:05.770Z"
   },
   {
    "duration": 11,
    "start_time": "2023-01-12T16:55:35.643Z"
   },
   {
    "duration": 11,
    "start_time": "2023-01-12T16:55:39.244Z"
   },
   {
    "duration": 12,
    "start_time": "2023-01-12T16:55:56.656Z"
   },
   {
    "duration": 11,
    "start_time": "2023-01-12T16:56:20.754Z"
   },
   {
    "duration": 15,
    "start_time": "2023-01-12T16:59:44.295Z"
   },
   {
    "duration": 25,
    "start_time": "2023-01-12T17:00:14.961Z"
   },
   {
    "duration": 11,
    "start_time": "2023-01-12T17:02:52.005Z"
   },
   {
    "duration": 15,
    "start_time": "2023-01-12T17:04:12.614Z"
   },
   {
    "duration": 12,
    "start_time": "2023-01-12T17:04:25.045Z"
   },
   {
    "duration": 12,
    "start_time": "2023-01-12T17:08:10.071Z"
   },
   {
    "duration": 8,
    "start_time": "2023-01-12T17:08:39.391Z"
   },
   {
    "duration": 8,
    "start_time": "2023-01-12T17:08:51.323Z"
   },
   {
    "duration": 11,
    "start_time": "2023-01-12T17:09:09.190Z"
   },
   {
    "duration": 6,
    "start_time": "2023-01-12T17:09:23.686Z"
   },
   {
    "duration": 14,
    "start_time": "2023-01-12T17:09:36.358Z"
   },
   {
    "duration": 782,
    "start_time": "2023-01-12T17:09:51.984Z"
   },
   {
    "duration": 14,
    "start_time": "2023-01-12T17:10:26.623Z"
   },
   {
    "duration": 10,
    "start_time": "2023-01-12T17:10:48.831Z"
   },
   {
    "duration": 6,
    "start_time": "2023-01-12T17:10:52.465Z"
   },
   {
    "duration": 1372,
    "start_time": "2023-01-12T17:11:14.513Z"
   },
   {
    "duration": 6,
    "start_time": "2023-01-12T17:11:19.303Z"
   },
   {
    "duration": 7,
    "start_time": "2023-01-12T17:11:24.111Z"
   },
   {
    "duration": 834,
    "start_time": "2023-01-12T17:13:15.490Z"
   },
   {
    "duration": 773,
    "start_time": "2023-01-12T17:13:22.197Z"
   },
   {
    "duration": 858,
    "start_time": "2023-01-12T17:14:34.031Z"
   },
   {
    "duration": 610,
    "start_time": "2023-01-16T14:39:00.732Z"
   },
   {
    "duration": 24,
    "start_time": "2023-01-16T14:39:01.344Z"
   },
   {
    "duration": 37,
    "start_time": "2023-01-16T14:39:01.369Z"
   },
   {
    "duration": 48,
    "start_time": "2023-01-16T14:39:01.408Z"
   },
   {
    "duration": 36,
    "start_time": "2023-01-16T14:39:01.457Z"
   },
   {
    "duration": 64,
    "start_time": "2023-01-16T14:39:01.495Z"
   },
   {
    "duration": 3,
    "start_time": "2023-01-16T14:39:01.561Z"
   },
   {
    "duration": 55,
    "start_time": "2023-01-16T14:39:01.566Z"
   },
   {
    "duration": 37,
    "start_time": "2023-01-16T14:39:01.623Z"
   },
   {
    "duration": 47,
    "start_time": "2023-01-16T14:39:01.664Z"
   },
   {
    "duration": 64,
    "start_time": "2023-01-16T14:39:01.713Z"
   },
   {
    "duration": 56,
    "start_time": "2023-01-16T14:39:01.779Z"
   },
   {
    "duration": 28,
    "start_time": "2023-01-16T14:39:01.836Z"
   },
   {
    "duration": 50,
    "start_time": "2023-01-16T14:39:01.866Z"
   },
   {
    "duration": 101,
    "start_time": "2023-01-16T14:39:01.918Z"
   },
   {
    "duration": 102,
    "start_time": "2023-01-16T14:39:02.021Z"
   },
   {
    "duration": 86,
    "start_time": "2023-01-16T14:39:02.125Z"
   },
   {
    "duration": 43,
    "start_time": "2023-01-16T14:39:02.213Z"
   },
   {
    "duration": 138,
    "start_time": "2023-01-16T14:39:02.258Z"
   },
   {
    "duration": 93,
    "start_time": "2023-01-16T14:39:02.398Z"
   },
   {
    "duration": 16,
    "start_time": "2023-01-16T14:39:02.493Z"
   },
   {
    "duration": 32,
    "start_time": "2023-01-16T14:39:02.511Z"
   },
   {
    "duration": 23,
    "start_time": "2023-01-16T14:39:02.545Z"
   },
   {
    "duration": 24,
    "start_time": "2023-01-16T14:39:02.570Z"
   },
   {
    "duration": 44,
    "start_time": "2023-01-16T14:39:02.596Z"
   },
   {
    "duration": 24,
    "start_time": "2023-01-16T14:39:02.642Z"
   },
   {
    "duration": 16,
    "start_time": "2023-01-16T14:39:02.668Z"
   },
   {
    "duration": 41,
    "start_time": "2023-01-16T14:39:02.687Z"
   },
   {
    "duration": 26,
    "start_time": "2023-01-16T14:39:02.730Z"
   },
   {
    "duration": 51,
    "start_time": "2023-01-16T14:39:02.758Z"
   },
   {
    "duration": 51,
    "start_time": "2023-01-16T14:39:02.811Z"
   },
   {
    "duration": 8,
    "start_time": "2023-01-16T14:39:02.864Z"
   },
   {
    "duration": 11,
    "start_time": "2023-01-16T14:39:02.874Z"
   },
   {
    "duration": 1303,
    "start_time": "2023-01-16T14:39:02.889Z"
   },
   {
    "duration": 9,
    "start_time": "2023-01-16T14:41:45.657Z"
   },
   {
    "duration": 10,
    "start_time": "2023-01-16T14:41:57.661Z"
   },
   {
    "duration": 4,
    "start_time": "2023-01-16T14:42:10.379Z"
   },
   {
    "duration": 8,
    "start_time": "2023-01-16T14:42:36.333Z"
   },
   {
    "duration": 8,
    "start_time": "2023-01-16T14:43:02.162Z"
   },
   {
    "duration": 7,
    "start_time": "2023-01-16T14:43:12.197Z"
   },
   {
    "duration": 6,
    "start_time": "2023-01-16T14:46:04.363Z"
   },
   {
    "duration": 87,
    "start_time": "2023-01-16T14:46:53.354Z"
   },
   {
    "duration": 8,
    "start_time": "2023-01-16T14:47:00.040Z"
   },
   {
    "duration": 6,
    "start_time": "2023-01-16T14:47:25.256Z"
   },
   {
    "duration": 11,
    "start_time": "2023-01-16T14:48:47.930Z"
   },
   {
    "duration": 9,
    "start_time": "2023-01-16T14:48:56.518Z"
   },
   {
    "duration": 7,
    "start_time": "2023-01-16T14:49:28.777Z"
   },
   {
    "duration": 11,
    "start_time": "2023-01-16T14:49:39.765Z"
   },
   {
    "duration": 7,
    "start_time": "2023-01-16T14:49:54.910Z"
   },
   {
    "duration": 6,
    "start_time": "2023-01-16T14:50:00.962Z"
   },
   {
    "duration": 9,
    "start_time": "2023-01-16T14:50:14.363Z"
   },
   {
    "duration": 10,
    "start_time": "2023-01-16T14:50:21.898Z"
   },
   {
    "duration": 10,
    "start_time": "2023-01-16T14:51:04.197Z"
   },
   {
    "duration": 10,
    "start_time": "2023-01-16T14:51:26.807Z"
   },
   {
    "duration": 11,
    "start_time": "2023-01-16T14:52:54.693Z"
   },
   {
    "duration": 11,
    "start_time": "2023-01-16T14:56:42.227Z"
   },
   {
    "duration": 18,
    "start_time": "2023-01-16T14:58:28.604Z"
   },
   {
    "duration": 18,
    "start_time": "2023-01-16T14:58:42.024Z"
   },
   {
    "duration": 17,
    "start_time": "2023-01-16T14:59:19.614Z"
   },
   {
    "duration": 21,
    "start_time": "2023-01-16T14:59:27.618Z"
   },
   {
    "duration": 18,
    "start_time": "2023-01-16T15:01:39.098Z"
   },
   {
    "duration": 17,
    "start_time": "2023-01-16T15:02:16.872Z"
   },
   {
    "duration": 14,
    "start_time": "2023-01-16T15:02:37.802Z"
   },
   {
    "duration": 15,
    "start_time": "2023-01-16T15:03:28.532Z"
   },
   {
    "duration": 13,
    "start_time": "2023-01-16T15:03:44.798Z"
   },
   {
    "duration": 15,
    "start_time": "2023-01-16T15:03:56.002Z"
   },
   {
    "duration": 82,
    "start_time": "2023-01-16T15:05:18.093Z"
   },
   {
    "duration": 13,
    "start_time": "2023-01-16T15:05:25.712Z"
   },
   {
    "duration": 16,
    "start_time": "2023-01-16T15:05:47.274Z"
   },
   {
    "duration": 18,
    "start_time": "2023-01-16T15:10:20.234Z"
   },
   {
    "duration": 10,
    "start_time": "2023-01-16T15:10:39.841Z"
   },
   {
    "duration": 11,
    "start_time": "2023-01-16T15:10:40.726Z"
   },
   {
    "duration": 11,
    "start_time": "2023-01-16T15:10:57.940Z"
   },
   {
    "duration": 11,
    "start_time": "2023-01-16T15:14:33.261Z"
   },
   {
    "duration": 12,
    "start_time": "2023-01-16T15:14:43.836Z"
   },
   {
    "duration": 9,
    "start_time": "2023-01-16T15:14:59.409Z"
   },
   {
    "duration": 10,
    "start_time": "2023-01-16T15:15:12.653Z"
   },
   {
    "duration": 21,
    "start_time": "2023-01-16T15:15:24.237Z"
   },
   {
    "duration": 35,
    "start_time": "2023-01-16T15:16:21.471Z"
   },
   {
    "duration": 47,
    "start_time": "2023-01-16T15:17:28.353Z"
   },
   {
    "duration": 71,
    "start_time": "2023-01-16T15:17:49.795Z"
   },
   {
    "duration": 70,
    "start_time": "2023-01-16T15:18:22.831Z"
   },
   {
    "duration": 69,
    "start_time": "2023-01-16T15:19:26.691Z"
   },
   {
    "duration": 75,
    "start_time": "2023-01-16T15:19:54.136Z"
   },
   {
    "duration": 67,
    "start_time": "2023-01-16T15:20:09.524Z"
   },
   {
    "duration": 67,
    "start_time": "2023-01-16T15:20:17.232Z"
   },
   {
    "duration": 69,
    "start_time": "2023-01-16T15:20:24.207Z"
   },
   {
    "duration": 66,
    "start_time": "2023-01-16T15:20:30.946Z"
   },
   {
    "duration": 76,
    "start_time": "2023-01-16T15:20:59.804Z"
   },
   {
    "duration": 68,
    "start_time": "2023-01-16T15:21:41.689Z"
   },
   {
    "duration": 69,
    "start_time": "2023-01-16T15:21:48.058Z"
   },
   {
    "duration": 66,
    "start_time": "2023-01-16T15:22:01.190Z"
   },
   {
    "duration": 72,
    "start_time": "2023-01-16T15:22:28.158Z"
   },
   {
    "duration": 70,
    "start_time": "2023-01-16T15:23:03.912Z"
   },
   {
    "duration": 67,
    "start_time": "2023-01-16T15:23:28.259Z"
   },
   {
    "duration": 72,
    "start_time": "2023-01-16T15:24:01.135Z"
   },
   {
    "duration": 72,
    "start_time": "2023-01-16T15:24:11.772Z"
   },
   {
    "duration": 73,
    "start_time": "2023-01-16T15:24:44.625Z"
   },
   {
    "duration": 83,
    "start_time": "2023-01-16T15:24:50.239Z"
   },
   {
    "duration": 78,
    "start_time": "2023-01-16T15:29:46.750Z"
   },
   {
    "duration": 66,
    "start_time": "2023-01-16T15:30:06.647Z"
   },
   {
    "duration": 67,
    "start_time": "2023-01-16T15:32:46.890Z"
   },
   {
    "duration": 615,
    "start_time": "2023-01-16T15:33:22.917Z"
   },
   {
    "duration": 71,
    "start_time": "2023-01-16T15:33:47.151Z"
   },
   {
    "duration": 76,
    "start_time": "2023-01-16T15:34:17.449Z"
   },
   {
    "duration": 62,
    "start_time": "2023-01-16T15:34:32.624Z"
   },
   {
    "duration": 67,
    "start_time": "2023-01-16T15:34:56.654Z"
   },
   {
    "duration": 62,
    "start_time": "2023-01-16T15:35:21.870Z"
   },
   {
    "duration": 64,
    "start_time": "2023-01-16T15:35:31.064Z"
   },
   {
    "duration": 75,
    "start_time": "2023-01-16T15:35:38.546Z"
   },
   {
    "duration": 76,
    "start_time": "2023-01-16T15:36:04.190Z"
   },
   {
    "duration": 65,
    "start_time": "2023-01-16T15:38:25.393Z"
   },
   {
    "duration": 69,
    "start_time": "2023-01-16T15:38:36.640Z"
   },
   {
    "duration": 66,
    "start_time": "2023-01-16T15:38:45.483Z"
   },
   {
    "duration": 74,
    "start_time": "2023-01-16T15:39:25.835Z"
   },
   {
    "duration": 68,
    "start_time": "2023-01-16T15:40:21.453Z"
   },
   {
    "duration": 67,
    "start_time": "2023-01-16T15:40:42.536Z"
   },
   {
    "duration": 70,
    "start_time": "2023-01-16T15:42:02.996Z"
   },
   {
    "duration": 71,
    "start_time": "2023-01-16T15:43:33.981Z"
   },
   {
    "duration": 68,
    "start_time": "2023-01-16T15:46:04.544Z"
   },
   {
    "duration": 9,
    "start_time": "2023-01-16T15:46:49.719Z"
   },
   {
    "duration": 10,
    "start_time": "2023-01-16T15:47:26.528Z"
   },
   {
    "duration": 8,
    "start_time": "2023-01-16T15:48:17.859Z"
   },
   {
    "duration": 8,
    "start_time": "2023-01-16T15:49:33.563Z"
   },
   {
    "duration": 9,
    "start_time": "2023-01-16T15:57:39.644Z"
   },
   {
    "duration": 10,
    "start_time": "2023-01-16T15:57:46.159Z"
   },
   {
    "duration": 507,
    "start_time": "2023-01-17T14:03:01.651Z"
   },
   {
    "duration": 21,
    "start_time": "2023-01-17T14:03:02.161Z"
   },
   {
    "duration": 16,
    "start_time": "2023-01-17T14:03:02.184Z"
   },
   {
    "duration": 11,
    "start_time": "2023-01-17T14:03:02.201Z"
   },
   {
    "duration": 4,
    "start_time": "2023-01-17T14:03:02.214Z"
   },
   {
    "duration": 44,
    "start_time": "2023-01-17T14:03:02.219Z"
   },
   {
    "duration": 3,
    "start_time": "2023-01-17T14:03:02.264Z"
   },
   {
    "duration": 26,
    "start_time": "2023-01-17T14:03:02.269Z"
   },
   {
    "duration": 8,
    "start_time": "2023-01-17T14:03:02.296Z"
   },
   {
    "duration": 10,
    "start_time": "2023-01-17T14:03:02.306Z"
   },
   {
    "duration": 17,
    "start_time": "2023-01-17T14:03:02.318Z"
   },
   {
    "duration": 35,
    "start_time": "2023-01-17T14:03:02.336Z"
   },
   {
    "duration": 8,
    "start_time": "2023-01-17T14:03:02.373Z"
   },
   {
    "duration": 21,
    "start_time": "2023-01-17T14:03:02.383Z"
   },
   {
    "duration": 15,
    "start_time": "2023-01-17T14:03:02.406Z"
   },
   {
    "duration": 26,
    "start_time": "2023-01-17T14:03:02.423Z"
   },
   {
    "duration": 15,
    "start_time": "2023-01-17T14:03:02.450Z"
   },
   {
    "duration": 3,
    "start_time": "2023-01-17T14:03:02.466Z"
   },
   {
    "duration": 20,
    "start_time": "2023-01-17T14:03:02.471Z"
   },
   {
    "duration": 14,
    "start_time": "2023-01-17T14:03:02.493Z"
   },
   {
    "duration": 5,
    "start_time": "2023-01-17T14:03:02.509Z"
   },
   {
    "duration": 24,
    "start_time": "2023-01-17T14:03:02.516Z"
   },
   {
    "duration": 8,
    "start_time": "2023-01-17T14:03:02.542Z"
   },
   {
    "duration": 10,
    "start_time": "2023-01-17T14:03:02.551Z"
   },
   {
    "duration": 26,
    "start_time": "2023-01-17T14:03:02.562Z"
   },
   {
    "duration": 22,
    "start_time": "2023-01-17T14:03:02.589Z"
   },
   {
    "duration": 8,
    "start_time": "2023-01-17T14:03:02.613Z"
   },
   {
    "duration": 38,
    "start_time": "2023-01-17T14:03:02.622Z"
   },
   {
    "duration": 22,
    "start_time": "2023-01-17T14:03:02.661Z"
   },
   {
    "duration": 59,
    "start_time": "2023-01-17T14:03:02.685Z"
   },
   {
    "duration": 23,
    "start_time": "2023-01-17T14:03:02.745Z"
   },
   {
    "duration": 6,
    "start_time": "2023-01-17T14:03:02.769Z"
   },
   {
    "duration": 8,
    "start_time": "2023-01-17T14:03:02.776Z"
   },
   {
    "duration": 74,
    "start_time": "2023-01-17T14:03:02.785Z"
   },
   {
    "duration": 428,
    "start_time": "2023-01-17T14:03:02.861Z"
   },
   {
    "duration": 11,
    "start_time": "2023-01-17T14:03:34.800Z"
   },
   {
    "duration": 494,
    "start_time": "2023-01-17T14:51:07.481Z"
   },
   {
    "duration": 21,
    "start_time": "2023-01-17T14:51:07.976Z"
   },
   {
    "duration": 15,
    "start_time": "2023-01-17T14:51:07.998Z"
   },
   {
    "duration": 10,
    "start_time": "2023-01-17T14:51:08.015Z"
   },
   {
    "duration": 4,
    "start_time": "2023-01-17T14:51:08.026Z"
   },
   {
    "duration": 36,
    "start_time": "2023-01-17T14:51:08.031Z"
   },
   {
    "duration": 4,
    "start_time": "2023-01-17T14:51:08.068Z"
   },
   {
    "duration": 32,
    "start_time": "2023-01-17T14:51:08.073Z"
   },
   {
    "duration": 4,
    "start_time": "2023-01-17T14:51:08.107Z"
   },
   {
    "duration": 8,
    "start_time": "2023-01-17T14:51:08.115Z"
   },
   {
    "duration": 5,
    "start_time": "2023-01-17T14:51:08.124Z"
   },
   {
    "duration": 45,
    "start_time": "2023-01-17T14:51:08.130Z"
   },
   {
    "duration": 32,
    "start_time": "2023-01-17T14:51:08.176Z"
   },
   {
    "duration": 4,
    "start_time": "2023-01-17T14:51:08.210Z"
   },
   {
    "duration": 14,
    "start_time": "2023-01-17T14:51:08.215Z"
   },
   {
    "duration": 24,
    "start_time": "2023-01-17T14:51:08.231Z"
   },
   {
    "duration": 18,
    "start_time": "2023-01-17T14:51:08.257Z"
   },
   {
    "duration": 3,
    "start_time": "2023-01-17T14:51:08.277Z"
   },
   {
    "duration": 10,
    "start_time": "2023-01-17T14:51:08.304Z"
   },
   {
    "duration": 10,
    "start_time": "2023-01-17T14:51:08.315Z"
   },
   {
    "duration": 4,
    "start_time": "2023-01-17T14:51:08.326Z"
   },
   {
    "duration": 10,
    "start_time": "2023-01-17T14:51:08.331Z"
   },
   {
    "duration": 4,
    "start_time": "2023-01-17T14:51:08.342Z"
   },
   {
    "duration": 6,
    "start_time": "2023-01-17T14:51:08.347Z"
   },
   {
    "duration": 28,
    "start_time": "2023-01-17T14:51:08.354Z"
   },
   {
    "duration": 45,
    "start_time": "2023-01-17T14:51:08.383Z"
   },
   {
    "duration": 6,
    "start_time": "2023-01-17T14:51:08.430Z"
   },
   {
    "duration": 33,
    "start_time": "2023-01-17T14:51:08.439Z"
   },
   {
    "duration": 48,
    "start_time": "2023-01-17T14:51:08.474Z"
   },
   {
    "duration": 50,
    "start_time": "2023-01-17T14:51:08.523Z"
   },
   {
    "duration": 46,
    "start_time": "2023-01-17T14:51:08.575Z"
   },
   {
    "duration": 7,
    "start_time": "2023-01-17T14:51:08.623Z"
   },
   {
    "duration": 9,
    "start_time": "2023-01-17T14:51:08.631Z"
   },
   {
    "duration": 86,
    "start_time": "2023-01-17T14:51:08.642Z"
   },
   {
    "duration": 266,
    "start_time": "2023-01-17T14:51:08.729Z"
   },
   {
    "duration": 4,
    "start_time": "2023-01-17T14:51:26.634Z"
   },
   {
    "duration": 493,
    "start_time": "2023-01-17T14:52:12.783Z"
   },
   {
    "duration": 22,
    "start_time": "2023-01-17T14:52:13.278Z"
   },
   {
    "duration": 16,
    "start_time": "2023-01-17T14:52:13.302Z"
   },
   {
    "duration": 10,
    "start_time": "2023-01-17T14:52:13.320Z"
   },
   {
    "duration": 5,
    "start_time": "2023-01-17T14:52:13.332Z"
   },
   {
    "duration": 39,
    "start_time": "2023-01-17T14:52:13.338Z"
   },
   {
    "duration": 4,
    "start_time": "2023-01-17T14:52:13.378Z"
   },
   {
    "duration": 8,
    "start_time": "2023-01-17T14:52:13.405Z"
   },
   {
    "duration": 9,
    "start_time": "2023-01-17T14:52:13.415Z"
   },
   {
    "duration": 6,
    "start_time": "2023-01-17T14:52:13.428Z"
   },
   {
    "duration": 5,
    "start_time": "2023-01-17T14:52:13.436Z"
   },
   {
    "duration": 36,
    "start_time": "2023-01-17T14:52:13.442Z"
   },
   {
    "duration": 30,
    "start_time": "2023-01-17T14:52:13.480Z"
   },
   {
    "duration": 5,
    "start_time": "2023-01-17T14:52:13.512Z"
   },
   {
    "duration": 15,
    "start_time": "2023-01-17T14:52:13.519Z"
   },
   {
    "duration": 34,
    "start_time": "2023-01-17T14:52:13.536Z"
   },
   {
    "duration": 41,
    "start_time": "2023-01-17T14:52:13.571Z"
   },
   {
    "duration": 3,
    "start_time": "2023-01-17T14:52:13.614Z"
   },
   {
    "duration": 15,
    "start_time": "2023-01-17T14:52:13.618Z"
   },
   {
    "duration": 6,
    "start_time": "2023-01-17T14:52:13.635Z"
   },
   {
    "duration": 8,
    "start_time": "2023-01-17T14:52:13.642Z"
   },
   {
    "duration": 14,
    "start_time": "2023-01-17T14:52:13.651Z"
   },
   {
    "duration": 4,
    "start_time": "2023-01-17T14:52:13.667Z"
   },
   {
    "duration": 7,
    "start_time": "2023-01-17T14:52:13.673Z"
   },
   {
    "duration": 42,
    "start_time": "2023-01-17T14:52:13.682Z"
   },
   {
    "duration": 24,
    "start_time": "2023-01-17T14:52:13.725Z"
   },
   {
    "duration": 5,
    "start_time": "2023-01-17T14:52:13.750Z"
   },
   {
    "duration": 48,
    "start_time": "2023-01-17T14:52:13.758Z"
   },
   {
    "duration": 25,
    "start_time": "2023-01-17T14:52:13.807Z"
   },
   {
    "duration": 49,
    "start_time": "2023-01-17T14:52:13.833Z"
   },
   {
    "duration": 44,
    "start_time": "2023-01-17T14:52:13.884Z"
   },
   {
    "duration": 7,
    "start_time": "2023-01-17T14:52:13.929Z"
   },
   {
    "duration": 9,
    "start_time": "2023-01-17T14:52:13.937Z"
   },
   {
    "duration": 86,
    "start_time": "2023-01-17T14:52:13.947Z"
   },
   {
    "duration": 296,
    "start_time": "2023-01-17T14:52:14.034Z"
   },
   {
    "duration": 11,
    "start_time": "2023-01-17T14:52:23.227Z"
   },
   {
    "duration": 12,
    "start_time": "2023-01-17T14:52:58.998Z"
   },
   {
    "duration": 13,
    "start_time": "2023-01-17T14:53:11.512Z"
   },
   {
    "duration": 64,
    "start_time": "2023-01-17T14:53:49.342Z"
   },
   {
    "duration": 16,
    "start_time": "2023-01-17T14:53:53.863Z"
   },
   {
    "duration": 13,
    "start_time": "2023-01-17T14:54:05.153Z"
   },
   {
    "duration": 9,
    "start_time": "2023-01-17T14:59:52.540Z"
   },
   {
    "duration": 9,
    "start_time": "2023-01-17T15:01:24.807Z"
   },
   {
    "duration": 8,
    "start_time": "2023-01-17T16:13:21.141Z"
   },
   {
    "duration": 10,
    "start_time": "2023-01-17T16:14:11.271Z"
   },
   {
    "duration": 10,
    "start_time": "2023-01-17T16:14:24.496Z"
   },
   {
    "duration": 698,
    "start_time": "2023-01-18T14:22:34.178Z"
   },
   {
    "duration": 24,
    "start_time": "2023-01-18T14:22:34.879Z"
   },
   {
    "duration": 16,
    "start_time": "2023-01-18T14:22:34.905Z"
   },
   {
    "duration": 8,
    "start_time": "2023-01-18T14:22:34.923Z"
   },
   {
    "duration": 5,
    "start_time": "2023-01-18T14:22:34.936Z"
   },
   {
    "duration": 36,
    "start_time": "2023-01-18T14:22:34.943Z"
   },
   {
    "duration": 4,
    "start_time": "2023-01-18T14:22:34.980Z"
   },
   {
    "duration": 11,
    "start_time": "2023-01-18T14:22:34.985Z"
   },
   {
    "duration": 14,
    "start_time": "2023-01-18T14:22:34.998Z"
   },
   {
    "duration": 25,
    "start_time": "2023-01-18T14:22:35.013Z"
   },
   {
    "duration": 20,
    "start_time": "2023-01-18T14:22:35.040Z"
   },
   {
    "duration": 43,
    "start_time": "2023-01-18T14:22:35.062Z"
   },
   {
    "duration": 10,
    "start_time": "2023-01-18T14:22:35.107Z"
   },
   {
    "duration": 14,
    "start_time": "2023-01-18T14:22:35.120Z"
   },
   {
    "duration": 20,
    "start_time": "2023-01-18T14:22:35.135Z"
   },
   {
    "duration": 20,
    "start_time": "2023-01-18T14:22:35.157Z"
   },
   {
    "duration": 20,
    "start_time": "2023-01-18T14:22:35.179Z"
   },
   {
    "duration": 4,
    "start_time": "2023-01-18T14:22:35.200Z"
   },
   {
    "duration": 30,
    "start_time": "2023-01-18T14:22:35.206Z"
   },
   {
    "duration": 6,
    "start_time": "2023-01-18T14:22:35.238Z"
   },
   {
    "duration": 5,
    "start_time": "2023-01-18T14:22:35.246Z"
   },
   {
    "duration": 24,
    "start_time": "2023-01-18T14:22:35.252Z"
   },
   {
    "duration": 6,
    "start_time": "2023-01-18T14:22:35.278Z"
   },
   {
    "duration": 10,
    "start_time": "2023-01-18T14:22:35.286Z"
   },
   {
    "duration": 46,
    "start_time": "2023-01-18T14:22:35.298Z"
   },
   {
    "duration": 27,
    "start_time": "2023-01-18T14:22:35.346Z"
   },
   {
    "duration": 5,
    "start_time": "2023-01-18T14:22:35.375Z"
   },
   {
    "duration": 55,
    "start_time": "2023-01-18T14:22:35.382Z"
   },
   {
    "duration": 31,
    "start_time": "2023-01-18T14:22:35.439Z"
   },
   {
    "duration": 69,
    "start_time": "2023-01-18T14:22:35.471Z"
   },
   {
    "duration": 28,
    "start_time": "2023-01-18T14:22:35.542Z"
   },
   {
    "duration": 8,
    "start_time": "2023-01-18T14:22:35.571Z"
   },
   {
    "duration": 10,
    "start_time": "2023-01-18T14:22:35.581Z"
   },
   {
    "duration": 100,
    "start_time": "2023-01-18T14:22:35.593Z"
   },
   {
    "duration": 458,
    "start_time": "2023-01-18T14:22:35.695Z"
   },
   {
    "duration": 49,
    "start_time": "2023-01-18T14:27:23.000Z"
   },
   {
    "duration": 49,
    "start_time": "2023-01-18T14:27:27.524Z"
   },
   {
    "duration": 14,
    "start_time": "2023-01-18T14:28:28.384Z"
   },
   {
    "duration": 72,
    "start_time": "2023-01-18T14:29:24.981Z"
   },
   {
    "duration": 12,
    "start_time": "2023-01-18T14:29:32.841Z"
   },
   {
    "duration": 73,
    "start_time": "2023-01-18T14:29:50.483Z"
   },
   {
    "duration": 11,
    "start_time": "2023-01-18T14:29:56.984Z"
   },
   {
    "duration": 87,
    "start_time": "2023-01-18T14:30:09.288Z"
   },
   {
    "duration": 10,
    "start_time": "2023-01-18T14:30:12.117Z"
   },
   {
    "duration": 10,
    "start_time": "2023-01-18T14:31:04.495Z"
   },
   {
    "duration": 11,
    "start_time": "2023-01-18T14:31:07.480Z"
   },
   {
    "duration": 13,
    "start_time": "2023-01-18T14:33:09.546Z"
   },
   {
    "duration": 13,
    "start_time": "2023-01-18T14:33:19.941Z"
   }
  ],
  "colab": {
   "name": "dpp_template_part2.ipynb",
   "provenance": []
  },
  "kernelspec": {
   "display_name": "Python 3 (ipykernel)",
   "language": "python",
   "name": "python3"
  },
  "language_info": {
   "codemirror_mode": {
    "name": "ipython",
    "version": 3
   },
   "file_extension": ".py",
   "mimetype": "text/x-python",
   "name": "python",
   "nbconvert_exporter": "python",
   "pygments_lexer": "ipython3",
   "version": "3.9.18"
  },
  "toc": {
   "base_numbering": 1,
   "nav_menu": {},
   "number_sections": true,
   "sideBar": true,
   "skip_h1_title": true,
   "title_cell": "Table of Contents",
   "title_sidebar": "Contents",
   "toc_cell": false,
   "toc_position": {},
   "toc_section_display": true,
   "toc_window_display": false
  }
 },
 "nbformat": 4,
 "nbformat_minor": 5
}
