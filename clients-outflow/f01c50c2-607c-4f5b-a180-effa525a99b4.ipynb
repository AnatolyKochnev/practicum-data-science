{
 "cells": [
  {
   "cell_type": "markdown",
   "metadata": {},
   "source": [
    "# Прогнозирование оттока клиентов в сети отелей «Как в гостях»"
   ]
  },
  {
   "cell_type": "code",
   "execution_count": 1,
   "metadata": {},
   "outputs": [],
   "source": [
    "import pandas as pd\n",
    "import math\n",
    "import seaborn as sns\n",
    "import pylab as pl\n",
    "\n",
    "from sklearn.utils import shuffle\n",
    "from sklearn.model_selection import GridSearchCV\n",
    "from sklearn.tree import DecisionTreeClassifier\n",
    "from sklearn.ensemble import RandomForestClassifier\n",
    "from sklearn.linear_model import LogisticRegression\n",
    "from sklearn.preprocessing import OneHotEncoder, StandardScaler\n",
    "\n",
    "random_state = 12345"
   ]
  },
  {
   "cell_type": "markdown",
   "metadata": {},
   "source": [
    "<b>Цель исследования:</b>\n",
    "<br/>\n",
    "Заказчик исследования — сеть отелей «Как в гостях». \n",
    "Необходимо обучить модель, которая сможет прогнозировать отказ клиента от брони в отеле. На основании этого прогноза заказчик сможет запрашивать у такиех клиентов депозит. Это позволит частично компенсировать затраты на отмененную бронь. Также, требуется составить портрет такого \"ненадежного\" клиента.\n",
    "<br/>\n",
    "<br/>\n",
    "<b>Ход исследования:</b>\n",
    "<br/>\n",
    "Данные для обучения модели предоставлены заказчиком. В них содержится информация о бронировании номеров в отелях за несколько месяцев. Исходные данные состоят из двух таблиц: одна для тренировки моделей и одна - для их тестирования.\n",
    "<br/>\n",
    "<br/>\n",
    "<b>Этапы исследования:</b>\n",
    "* Обзор данных.\n",
    "* Базовая предобработка данных.\n",
    "* Подготовка данных к обучению в моделях ML.\n",
    "* Анализ бизнес-задачи и формулировка на ее основе ML задачи.\n",
    "* Обучение нескольких моделей с целью поиска оптимальной.\n",
    "* Составление характеристики клиента, склонного к отмене брони.\n",
    "* Общий вывод."
   ]
  },
  {
   "cell_type": "markdown",
   "metadata": {},
   "source": [
    "### Шаг 1. Откройте файлы с данными"
   ]
  },
  {
   "cell_type": "code",
   "execution_count": 2,
   "metadata": {},
   "outputs": [],
   "source": [
    "train_df = pd.read_csv('/datasets/hotel_train.csv')\n",
    "test_df = pd.read_csv('/datasets/hotel_test.csv')"
   ]
  },
  {
   "cell_type": "markdown",
   "metadata": {},
   "source": [
    "#### Тренировочные данные"
   ]
  },
  {
   "cell_type": "code",
   "execution_count": 3,
   "metadata": {
    "scrolled": false
   },
   "outputs": [
    {
     "name": "stdout",
     "output_type": "stream",
     "text": [
      "<class 'pandas.core.frame.DataFrame'>\n",
      "RangeIndex: 65229 entries, 0 to 65228\n",
      "Data columns (total 25 columns):\n",
      " #   Column                          Non-Null Count  Dtype  \n",
      "---  ------                          --------------  -----  \n",
      " 0   id                              65229 non-null  int64  \n",
      " 1   is_canceled                     65229 non-null  int64  \n",
      " 2   lead_time                       65229 non-null  float64\n",
      " 3   arrival_date_year               65229 non-null  int64  \n",
      " 4   arrival_date_month              65229 non-null  object \n",
      " 5   arrival_date_week_number        65229 non-null  int64  \n",
      " 6   arrival_date_day_of_month       65229 non-null  int64  \n",
      " 7   stays_in_weekend_nights         65229 non-null  int64  \n",
      " 8   stays_in_week_nights            65229 non-null  int64  \n",
      " 9   adults                          65229 non-null  float64\n",
      " 10  children                        65229 non-null  float64\n",
      " 11  babies                          65229 non-null  float64\n",
      " 12  meal                            65229 non-null  object \n",
      " 13  country                         65229 non-null  object \n",
      " 14  distribution_channel            65229 non-null  object \n",
      " 15  is_repeated_guest               65229 non-null  int64  \n",
      " 16  previous_cancellations          65229 non-null  int64  \n",
      " 17  previous_bookings_not_canceled  65229 non-null  int64  \n",
      " 18  reserved_room_type              65229 non-null  object \n",
      " 19  booking_changes                 65229 non-null  int64  \n",
      " 20  days_in_waiting_list            65229 non-null  int64  \n",
      " 21  customer_type                   65229 non-null  object \n",
      " 22  required_car_parking_spaces     65229 non-null  int64  \n",
      " 23  total_of_special_requests       65229 non-null  int64  \n",
      " 24  total_nights                    65229 non-null  int64  \n",
      "dtypes: float64(4), int64(15), object(6)\n",
      "memory usage: 12.4+ MB\n"
     ]
    },
    {
     "data": {
      "text/html": [
       "<div>\n",
       "<style scoped>\n",
       "    .dataframe tbody tr th:only-of-type {\n",
       "        vertical-align: middle;\n",
       "    }\n",
       "\n",
       "    .dataframe tbody tr th {\n",
       "        vertical-align: top;\n",
       "    }\n",
       "\n",
       "    .dataframe thead th {\n",
       "        text-align: right;\n",
       "    }\n",
       "</style>\n",
       "<table border=\"1\" class=\"dataframe\">\n",
       "  <thead>\n",
       "    <tr style=\"text-align: right;\">\n",
       "      <th></th>\n",
       "      <th>id</th>\n",
       "      <th>is_canceled</th>\n",
       "      <th>lead_time</th>\n",
       "      <th>arrival_date_year</th>\n",
       "      <th>arrival_date_month</th>\n",
       "      <th>arrival_date_week_number</th>\n",
       "      <th>arrival_date_day_of_month</th>\n",
       "      <th>stays_in_weekend_nights</th>\n",
       "      <th>stays_in_week_nights</th>\n",
       "      <th>adults</th>\n",
       "      <th>children</th>\n",
       "      <th>babies</th>\n",
       "      <th>meal</th>\n",
       "      <th>country</th>\n",
       "      <th>distribution_channel</th>\n",
       "      <th>is_repeated_guest</th>\n",
       "      <th>previous_cancellations</th>\n",
       "      <th>previous_bookings_not_canceled</th>\n",
       "      <th>reserved_room_type</th>\n",
       "      <th>booking_changes</th>\n",
       "      <th>days_in_waiting_list</th>\n",
       "      <th>customer_type</th>\n",
       "      <th>required_car_parking_spaces</th>\n",
       "      <th>total_of_special_requests</th>\n",
       "      <th>total_nights</th>\n",
       "    </tr>\n",
       "  </thead>\n",
       "  <tbody>\n",
       "    <tr>\n",
       "      <th>0</th>\n",
       "      <td>0</td>\n",
       "      <td>0</td>\n",
       "      <td>7.0</td>\n",
       "      <td>2015</td>\n",
       "      <td>July</td>\n",
       "      <td>27</td>\n",
       "      <td>1</td>\n",
       "      <td>0</td>\n",
       "      <td>1</td>\n",
       "      <td>1.0</td>\n",
       "      <td>0.0</td>\n",
       "      <td>0.0</td>\n",
       "      <td>BB</td>\n",
       "      <td>GBR</td>\n",
       "      <td>Direct</td>\n",
       "      <td>0</td>\n",
       "      <td>0</td>\n",
       "      <td>0</td>\n",
       "      <td>A</td>\n",
       "      <td>0</td>\n",
       "      <td>0</td>\n",
       "      <td>Transient</td>\n",
       "      <td>0</td>\n",
       "      <td>0</td>\n",
       "      <td>1</td>\n",
       "    </tr>\n",
       "    <tr>\n",
       "      <th>1</th>\n",
       "      <td>1</td>\n",
       "      <td>0</td>\n",
       "      <td>14.0</td>\n",
       "      <td>2015</td>\n",
       "      <td>July</td>\n",
       "      <td>27</td>\n",
       "      <td>1</td>\n",
       "      <td>0</td>\n",
       "      <td>2</td>\n",
       "      <td>2.0</td>\n",
       "      <td>0.0</td>\n",
       "      <td>0.0</td>\n",
       "      <td>BB</td>\n",
       "      <td>GBR</td>\n",
       "      <td>TA/TO</td>\n",
       "      <td>0</td>\n",
       "      <td>0</td>\n",
       "      <td>0</td>\n",
       "      <td>A</td>\n",
       "      <td>0</td>\n",
       "      <td>0</td>\n",
       "      <td>Transient</td>\n",
       "      <td>0</td>\n",
       "      <td>1</td>\n",
       "      <td>2</td>\n",
       "    </tr>\n",
       "    <tr>\n",
       "      <th>2</th>\n",
       "      <td>2</td>\n",
       "      <td>0</td>\n",
       "      <td>0.0</td>\n",
       "      <td>2015</td>\n",
       "      <td>July</td>\n",
       "      <td>27</td>\n",
       "      <td>1</td>\n",
       "      <td>0</td>\n",
       "      <td>2</td>\n",
       "      <td>2.0</td>\n",
       "      <td>0.0</td>\n",
       "      <td>0.0</td>\n",
       "      <td>BB</td>\n",
       "      <td>PRT</td>\n",
       "      <td>Direct</td>\n",
       "      <td>0</td>\n",
       "      <td>0</td>\n",
       "      <td>0</td>\n",
       "      <td>C</td>\n",
       "      <td>0</td>\n",
       "      <td>0</td>\n",
       "      <td>Transient</td>\n",
       "      <td>0</td>\n",
       "      <td>0</td>\n",
       "      <td>2</td>\n",
       "    </tr>\n",
       "    <tr>\n",
       "      <th>3</th>\n",
       "      <td>3</td>\n",
       "      <td>0</td>\n",
       "      <td>9.0</td>\n",
       "      <td>2015</td>\n",
       "      <td>July</td>\n",
       "      <td>27</td>\n",
       "      <td>1</td>\n",
       "      <td>0</td>\n",
       "      <td>2</td>\n",
       "      <td>2.0</td>\n",
       "      <td>0.0</td>\n",
       "      <td>0.0</td>\n",
       "      <td>FB</td>\n",
       "      <td>PRT</td>\n",
       "      <td>Direct</td>\n",
       "      <td>0</td>\n",
       "      <td>0</td>\n",
       "      <td>0</td>\n",
       "      <td>C</td>\n",
       "      <td>0</td>\n",
       "      <td>0</td>\n",
       "      <td>Transient</td>\n",
       "      <td>0</td>\n",
       "      <td>1</td>\n",
       "      <td>2</td>\n",
       "    </tr>\n",
       "    <tr>\n",
       "      <th>4</th>\n",
       "      <td>4</td>\n",
       "      <td>1</td>\n",
       "      <td>85.0</td>\n",
       "      <td>2015</td>\n",
       "      <td>July</td>\n",
       "      <td>27</td>\n",
       "      <td>1</td>\n",
       "      <td>0</td>\n",
       "      <td>3</td>\n",
       "      <td>2.0</td>\n",
       "      <td>0.0</td>\n",
       "      <td>0.0</td>\n",
       "      <td>BB</td>\n",
       "      <td>PRT</td>\n",
       "      <td>TA/TO</td>\n",
       "      <td>0</td>\n",
       "      <td>0</td>\n",
       "      <td>0</td>\n",
       "      <td>A</td>\n",
       "      <td>0</td>\n",
       "      <td>0</td>\n",
       "      <td>Transient</td>\n",
       "      <td>0</td>\n",
       "      <td>1</td>\n",
       "      <td>3</td>\n",
       "    </tr>\n",
       "  </tbody>\n",
       "</table>\n",
       "</div>"
      ],
      "text/plain": [
       "   id  is_canceled  lead_time  arrival_date_year arrival_date_month  \\\n",
       "0   0            0        7.0               2015               July   \n",
       "1   1            0       14.0               2015               July   \n",
       "2   2            0        0.0               2015               July   \n",
       "3   3            0        9.0               2015               July   \n",
       "4   4            1       85.0               2015               July   \n",
       "\n",
       "   arrival_date_week_number  arrival_date_day_of_month  \\\n",
       "0                        27                          1   \n",
       "1                        27                          1   \n",
       "2                        27                          1   \n",
       "3                        27                          1   \n",
       "4                        27                          1   \n",
       "\n",
       "   stays_in_weekend_nights  stays_in_week_nights  adults  children  babies  \\\n",
       "0                        0                     1     1.0       0.0     0.0   \n",
       "1                        0                     2     2.0       0.0     0.0   \n",
       "2                        0                     2     2.0       0.0     0.0   \n",
       "3                        0                     2     2.0       0.0     0.0   \n",
       "4                        0                     3     2.0       0.0     0.0   \n",
       "\n",
       "        meal country distribution_channel  is_repeated_guest  \\\n",
       "0  BB            GBR               Direct                  0   \n",
       "1  BB            GBR                TA/TO                  0   \n",
       "2  BB            PRT               Direct                  0   \n",
       "3  FB            PRT               Direct                  0   \n",
       "4  BB            PRT                TA/TO                  0   \n",
       "\n",
       "   previous_cancellations  previous_bookings_not_canceled reserved_room_type  \\\n",
       "0                       0                               0   A                  \n",
       "1                       0                               0   A                  \n",
       "2                       0                               0   C                  \n",
       "3                       0                               0   C                  \n",
       "4                       0                               0   A                  \n",
       "\n",
       "   booking_changes  days_in_waiting_list customer_type  \\\n",
       "0                0                     0     Transient   \n",
       "1                0                     0     Transient   \n",
       "2                0                     0     Transient   \n",
       "3                0                     0     Transient   \n",
       "4                0                     0     Transient   \n",
       "\n",
       "   required_car_parking_spaces  total_of_special_requests  total_nights  \n",
       "0                            0                          0             1  \n",
       "1                            0                          1             2  \n",
       "2                            0                          0             2  \n",
       "3                            0                          1             2  \n",
       "4                            0                          1             3  "
      ]
     },
     "metadata": {},
     "output_type": "display_data"
    }
   ],
   "source": [
    "pd.set_option('max_columns', None)\n",
    "train_df.info();\n",
    "display(train_df.head());"
   ]
  },
  {
   "cell_type": "markdown",
   "metadata": {},
   "source": [
    "В целом, данные качественные. Но требуют предобработки перед использованием в обучении моделей:\n",
    "* Нет пропусков.\n",
    "* Колонка **is_canceled** - целевой признак, для прогнозирования которого будет использоваться модель.\n",
    "* Колонка **id** - идентификатор из БД - не нужна для обучения и должна быть удалена.\n",
    "* **arrival_date_year** - это год. Годы не повторяются, поэтому этот признак не имеет смысла при обучении. Колонку следует удалить.\n",
    "* **arrival_date_week_number** и пара **[arrival_date_month, arrival_date_day_of_month]** коррелируют друг с другом. **arrival_date_week_number** следует удалить как менее информативную колонку. Кроме того, эти колонки можно рассматривать как категориальные данные (в году ограниченное количество дней и они ежегодно повторяются). Поэтому, тут может потребоваться кодирование колонок.\n",
    "* **meal, country, distribution_channel, reserved_room_type, customer_type** - категориальные данные, требующие кодирования.\n",
    "* **total_nights** и **[stays_in_weekend_nights, stays_in_week_nights]** - коррелируют. **total_nights** следуют удалить как менее информативную колонку."
   ]
  },
  {
   "cell_type": "markdown",
   "metadata": {},
   "source": [
    "#### Тестовые данные"
   ]
  },
  {
   "cell_type": "code",
   "execution_count": 4,
   "metadata": {},
   "outputs": [
    {
     "name": "stdout",
     "output_type": "stream",
     "text": [
      "<class 'pandas.core.frame.DataFrame'>\n",
      "RangeIndex: 32412 entries, 0 to 32411\n",
      "Data columns (total 25 columns):\n",
      " #   Column                          Non-Null Count  Dtype  \n",
      "---  ------                          --------------  -----  \n",
      " 0   id                              32412 non-null  int64  \n",
      " 1   is_canceled                     32412 non-null  int64  \n",
      " 2   lead_time                       32412 non-null  float64\n",
      " 3   arrival_date_year               32412 non-null  int64  \n",
      " 4   arrival_date_month              32412 non-null  object \n",
      " 5   arrival_date_week_number        32412 non-null  int64  \n",
      " 6   arrival_date_day_of_month       32412 non-null  int64  \n",
      " 7   stays_in_weekend_nights         32412 non-null  int64  \n",
      " 8   stays_in_week_nights            32412 non-null  int64  \n",
      " 9   adults                          32412 non-null  float64\n",
      " 10  children                        32412 non-null  float64\n",
      " 11  babies                          32412 non-null  float64\n",
      " 12  meal                            32412 non-null  object \n",
      " 13  country                         32412 non-null  object \n",
      " 14  distribution_channel            32412 non-null  object \n",
      " 15  is_repeated_guest               32412 non-null  int64  \n",
      " 16  previous_cancellations          32412 non-null  int64  \n",
      " 17  previous_bookings_not_canceled  32412 non-null  int64  \n",
      " 18  reserved_room_type              32412 non-null  object \n",
      " 19  booking_changes                 32412 non-null  int64  \n",
      " 20  days_in_waiting_list            32412 non-null  int64  \n",
      " 21  customer_type                   32412 non-null  object \n",
      " 22  required_car_parking_spaces     32412 non-null  int64  \n",
      " 23  total_of_special_requests       32412 non-null  int64  \n",
      " 24  total_nights                    32412 non-null  int64  \n",
      "dtypes: float64(4), int64(15), object(6)\n",
      "memory usage: 6.2+ MB\n"
     ]
    },
    {
     "data": {
      "text/html": [
       "<div>\n",
       "<style scoped>\n",
       "    .dataframe tbody tr th:only-of-type {\n",
       "        vertical-align: middle;\n",
       "    }\n",
       "\n",
       "    .dataframe tbody tr th {\n",
       "        vertical-align: top;\n",
       "    }\n",
       "\n",
       "    .dataframe thead th {\n",
       "        text-align: right;\n",
       "    }\n",
       "</style>\n",
       "<table border=\"1\" class=\"dataframe\">\n",
       "  <thead>\n",
       "    <tr style=\"text-align: right;\">\n",
       "      <th></th>\n",
       "      <th>id</th>\n",
       "      <th>is_canceled</th>\n",
       "      <th>lead_time</th>\n",
       "      <th>arrival_date_year</th>\n",
       "      <th>arrival_date_month</th>\n",
       "      <th>arrival_date_week_number</th>\n",
       "      <th>arrival_date_day_of_month</th>\n",
       "      <th>stays_in_weekend_nights</th>\n",
       "      <th>stays_in_week_nights</th>\n",
       "      <th>adults</th>\n",
       "      <th>children</th>\n",
       "      <th>babies</th>\n",
       "      <th>meal</th>\n",
       "      <th>country</th>\n",
       "      <th>distribution_channel</th>\n",
       "      <th>is_repeated_guest</th>\n",
       "      <th>previous_cancellations</th>\n",
       "      <th>previous_bookings_not_canceled</th>\n",
       "      <th>reserved_room_type</th>\n",
       "      <th>booking_changes</th>\n",
       "      <th>days_in_waiting_list</th>\n",
       "      <th>customer_type</th>\n",
       "      <th>required_car_parking_spaces</th>\n",
       "      <th>total_of_special_requests</th>\n",
       "      <th>total_nights</th>\n",
       "    </tr>\n",
       "  </thead>\n",
       "  <tbody>\n",
       "    <tr>\n",
       "      <th>0</th>\n",
       "      <td>6086</td>\n",
       "      <td>1</td>\n",
       "      <td>74.0</td>\n",
       "      <td>2017</td>\n",
       "      <td>January</td>\n",
       "      <td>1</td>\n",
       "      <td>1</td>\n",
       "      <td>1</td>\n",
       "      <td>0</td>\n",
       "      <td>2.0</td>\n",
       "      <td>0.0</td>\n",
       "      <td>0.0</td>\n",
       "      <td>BB</td>\n",
       "      <td>PRT</td>\n",
       "      <td>TA/TO</td>\n",
       "      <td>0</td>\n",
       "      <td>0</td>\n",
       "      <td>0</td>\n",
       "      <td>A</td>\n",
       "      <td>0</td>\n",
       "      <td>0</td>\n",
       "      <td>Transient</td>\n",
       "      <td>0</td>\n",
       "      <td>0</td>\n",
       "      <td>1</td>\n",
       "    </tr>\n",
       "    <tr>\n",
       "      <th>1</th>\n",
       "      <td>6087</td>\n",
       "      <td>1</td>\n",
       "      <td>62.0</td>\n",
       "      <td>2017</td>\n",
       "      <td>January</td>\n",
       "      <td>1</td>\n",
       "      <td>1</td>\n",
       "      <td>2</td>\n",
       "      <td>2</td>\n",
       "      <td>2.0</td>\n",
       "      <td>0.0</td>\n",
       "      <td>0.0</td>\n",
       "      <td>BB</td>\n",
       "      <td>AUT</td>\n",
       "      <td>TA/TO</td>\n",
       "      <td>0</td>\n",
       "      <td>0</td>\n",
       "      <td>0</td>\n",
       "      <td>A</td>\n",
       "      <td>0</td>\n",
       "      <td>0</td>\n",
       "      <td>Transient</td>\n",
       "      <td>0</td>\n",
       "      <td>1</td>\n",
       "      <td>4</td>\n",
       "    </tr>\n",
       "    <tr>\n",
       "      <th>2</th>\n",
       "      <td>6088</td>\n",
       "      <td>1</td>\n",
       "      <td>62.0</td>\n",
       "      <td>2017</td>\n",
       "      <td>January</td>\n",
       "      <td>1</td>\n",
       "      <td>1</td>\n",
       "      <td>2</td>\n",
       "      <td>2</td>\n",
       "      <td>2.0</td>\n",
       "      <td>0.0</td>\n",
       "      <td>0.0</td>\n",
       "      <td>BB</td>\n",
       "      <td>AUT</td>\n",
       "      <td>TA/TO</td>\n",
       "      <td>0</td>\n",
       "      <td>0</td>\n",
       "      <td>0</td>\n",
       "      <td>A</td>\n",
       "      <td>0</td>\n",
       "      <td>0</td>\n",
       "      <td>Transient</td>\n",
       "      <td>0</td>\n",
       "      <td>1</td>\n",
       "      <td>4</td>\n",
       "    </tr>\n",
       "    <tr>\n",
       "      <th>3</th>\n",
       "      <td>6089</td>\n",
       "      <td>1</td>\n",
       "      <td>71.0</td>\n",
       "      <td>2017</td>\n",
       "      <td>January</td>\n",
       "      <td>1</td>\n",
       "      <td>1</td>\n",
       "      <td>2</td>\n",
       "      <td>2</td>\n",
       "      <td>1.0</td>\n",
       "      <td>0.0</td>\n",
       "      <td>0.0</td>\n",
       "      <td>BB</td>\n",
       "      <td>PRT</td>\n",
       "      <td>TA/TO</td>\n",
       "      <td>0</td>\n",
       "      <td>0</td>\n",
       "      <td>0</td>\n",
       "      <td>A</td>\n",
       "      <td>0</td>\n",
       "      <td>0</td>\n",
       "      <td>Transient</td>\n",
       "      <td>0</td>\n",
       "      <td>1</td>\n",
       "      <td>4</td>\n",
       "    </tr>\n",
       "    <tr>\n",
       "      <th>4</th>\n",
       "      <td>6090</td>\n",
       "      <td>1</td>\n",
       "      <td>172.0</td>\n",
       "      <td>2017</td>\n",
       "      <td>January</td>\n",
       "      <td>1</td>\n",
       "      <td>1</td>\n",
       "      <td>2</td>\n",
       "      <td>5</td>\n",
       "      <td>2.0</td>\n",
       "      <td>0.0</td>\n",
       "      <td>0.0</td>\n",
       "      <td>BB</td>\n",
       "      <td>BEL</td>\n",
       "      <td>TA/TO</td>\n",
       "      <td>0</td>\n",
       "      <td>0</td>\n",
       "      <td>0</td>\n",
       "      <td>A</td>\n",
       "      <td>0</td>\n",
       "      <td>0</td>\n",
       "      <td>Transient</td>\n",
       "      <td>0</td>\n",
       "      <td>0</td>\n",
       "      <td>7</td>\n",
       "    </tr>\n",
       "  </tbody>\n",
       "</table>\n",
       "</div>"
      ],
      "text/plain": [
       "     id  is_canceled  lead_time  arrival_date_year arrival_date_month  \\\n",
       "0  6086            1       74.0               2017            January   \n",
       "1  6087            1       62.0               2017            January   \n",
       "2  6088            1       62.0               2017            January   \n",
       "3  6089            1       71.0               2017            January   \n",
       "4  6090            1      172.0               2017            January   \n",
       "\n",
       "   arrival_date_week_number  arrival_date_day_of_month  \\\n",
       "0                         1                          1   \n",
       "1                         1                          1   \n",
       "2                         1                          1   \n",
       "3                         1                          1   \n",
       "4                         1                          1   \n",
       "\n",
       "   stays_in_weekend_nights  stays_in_week_nights  adults  children  babies  \\\n",
       "0                        1                     0     2.0       0.0     0.0   \n",
       "1                        2                     2     2.0       0.0     0.0   \n",
       "2                        2                     2     2.0       0.0     0.0   \n",
       "3                        2                     2     1.0       0.0     0.0   \n",
       "4                        2                     5     2.0       0.0     0.0   \n",
       "\n",
       "        meal country distribution_channel  is_repeated_guest  \\\n",
       "0  BB            PRT                TA/TO                  0   \n",
       "1  BB            AUT                TA/TO                  0   \n",
       "2  BB            AUT                TA/TO                  0   \n",
       "3  BB            PRT                TA/TO                  0   \n",
       "4  BB            BEL                TA/TO                  0   \n",
       "\n",
       "   previous_cancellations  previous_bookings_not_canceled reserved_room_type  \\\n",
       "0                       0                               0   A                  \n",
       "1                       0                               0   A                  \n",
       "2                       0                               0   A                  \n",
       "3                       0                               0   A                  \n",
       "4                       0                               0   A                  \n",
       "\n",
       "   booking_changes  days_in_waiting_list customer_type  \\\n",
       "0                0                     0     Transient   \n",
       "1                0                     0     Transient   \n",
       "2                0                     0     Transient   \n",
       "3                0                     0     Transient   \n",
       "4                0                     0     Transient   \n",
       "\n",
       "   required_car_parking_spaces  total_of_special_requests  total_nights  \n",
       "0                            0                          0             1  \n",
       "1                            0                          1             4  \n",
       "2                            0                          1             4  \n",
       "3                            0                          1             4  \n",
       "4                            0                          0             7  "
      ]
     },
     "metadata": {},
     "output_type": "display_data"
    }
   ],
   "source": [
    "test_df.info();\n",
    "display(test_df.head());"
   ]
  },
  {
   "cell_type": "code",
   "execution_count": 5,
   "metadata": {},
   "outputs": [
    {
     "data": {
      "text/plain": [
       "True"
      ]
     },
     "execution_count": 5,
     "metadata": {},
     "output_type": "execute_result"
    }
   ],
   "source": [
    "#сравнение структуры DataFrame'ов:\n",
    "(test_df.dtypes == train_df.dtypes).all()"
   ]
  },
  {
   "cell_type": "markdown",
   "metadata": {},
   "source": [
    "Структура DataFrame'ов в тренировочных и тестовых данных совпадают. Соответственно, все замечания по тренировочным данным относятся и к тестовым."
   ]
  },
  {
   "cell_type": "markdown",
   "metadata": {},
   "source": [
    "### Шаг 2. Предобработка и исследовательский анализ данных"
   ]
  },
  {
   "cell_type": "markdown",
   "metadata": {},
   "source": [
    "#### Удаление лишних колонок"
   ]
  },
  {
   "cell_type": "code",
   "execution_count": 6,
   "metadata": {},
   "outputs": [],
   "source": [
    "excessive_columns = [\n",
    "    'id',\n",
    "    'arrival_date_year',\n",
    "    'arrival_date_week_number',\n",
    "    'total_nights',\n",
    "    \n",
    "    #'stays_in_weekend_nights',\n",
    "    #'stays_in_week_nights',\n",
    "    #'adults',\n",
    "    #'children',\n",
    "    #'babies',\n",
    "    #'previous_cancellations',\n",
    "    #'previous_bookings_not_canceled',\n",
    "    #'booking_changes',\n",
    "    #'days_in_waiting_list',\n",
    "    #'required_car_parking_spaces',\n",
    "    #'total_of_special_requests',\n",
    "    \n",
    "    #'country',\n",
    "    #'arrival_date_day_of_month'\n",
    "]\n",
    "train_df = train_df.drop(excessive_columns, axis=1)\n",
    "test_df = test_df.drop(excessive_columns, axis=1)"
   ]
  },
  {
   "cell_type": "markdown",
   "metadata": {},
   "source": [
    "#### Выбросы в данных"
   ]
  },
  {
   "cell_type": "code",
   "execution_count": 7,
   "metadata": {},
   "outputs": [],
   "source": [
    "hist_per_row = 3\n",
    "height_per_row = 4\n",
    "\n",
    "def check_emissions(df, numeric_columns, is_numeric=True):\n",
    "    columns_count = len(numeric_columns)\n",
    "    rows = int(columns_count / 3) + (1 if (columns_count % 3 > 0) else 0)\n",
    "    if(is_numeric):\n",
    "        display(df[numeric_columns].describe())\n",
    "    \n",
    "    axis = df[numeric_columns].hist(figsize=(20,height_per_row * rows), layout=(rows, hist_per_row));    \n",
    "    pl.suptitle(\"Гистограммы признаков\", y=0.91)\n",
    "    for ax in axis.flatten():\n",
    "        ax.set_xlabel(\"Значение признака\")\n",
    "        ax.set_ylabel(\"Брони\")"
   ]
  },
  {
   "cell_type": "code",
   "execution_count": 8,
   "metadata": {
    "scrolled": false
   },
   "outputs": [
    {
     "data": {
      "text/html": [
       "<div>\n",
       "<style scoped>\n",
       "    .dataframe tbody tr th:only-of-type {\n",
       "        vertical-align: middle;\n",
       "    }\n",
       "\n",
       "    .dataframe tbody tr th {\n",
       "        vertical-align: top;\n",
       "    }\n",
       "\n",
       "    .dataframe thead th {\n",
       "        text-align: right;\n",
       "    }\n",
       "</style>\n",
       "<table border=\"1\" class=\"dataframe\">\n",
       "  <thead>\n",
       "    <tr style=\"text-align: right;\">\n",
       "      <th></th>\n",
       "      <th>stays_in_weekend_nights</th>\n",
       "      <th>required_car_parking_spaces</th>\n",
       "      <th>adults</th>\n",
       "      <th>stays_in_week_nights</th>\n",
       "      <th>lead_time</th>\n",
       "      <th>previous_bookings_not_canceled</th>\n",
       "      <th>total_of_special_requests</th>\n",
       "      <th>babies</th>\n",
       "      <th>days_in_waiting_list</th>\n",
       "      <th>children</th>\n",
       "      <th>previous_cancellations</th>\n",
       "      <th>booking_changes</th>\n",
       "    </tr>\n",
       "  </thead>\n",
       "  <tbody>\n",
       "    <tr>\n",
       "      <th>count</th>\n",
       "      <td>65229.000000</td>\n",
       "      <td>65229.000000</td>\n",
       "      <td>65229.000000</td>\n",
       "      <td>65229.000000</td>\n",
       "      <td>65229.000000</td>\n",
       "      <td>65229.000000</td>\n",
       "      <td>65229.000000</td>\n",
       "      <td>65229.000000</td>\n",
       "      <td>65229.000000</td>\n",
       "      <td>65229.000000</td>\n",
       "      <td>65229.000000</td>\n",
       "      <td>65229.000000</td>\n",
       "    </tr>\n",
       "    <tr>\n",
       "      <th>mean</th>\n",
       "      <td>0.825185</td>\n",
       "      <td>0.056647</td>\n",
       "      <td>1.836576</td>\n",
       "      <td>2.224793</td>\n",
       "      <td>96.337917</td>\n",
       "      <td>0.107713</td>\n",
       "      <td>0.512763</td>\n",
       "      <td>0.007236</td>\n",
       "      <td>3.334422</td>\n",
       "      <td>0.074890</td>\n",
       "      <td>0.128915</td>\n",
       "      <td>0.194269</td>\n",
       "    </tr>\n",
       "    <tr>\n",
       "      <th>std</th>\n",
       "      <td>0.853477</td>\n",
       "      <td>0.232094</td>\n",
       "      <td>0.480245</td>\n",
       "      <td>1.354992</td>\n",
       "      <td>96.127545</td>\n",
       "      <td>1.326638</td>\n",
       "      <td>0.752590</td>\n",
       "      <td>0.098790</td>\n",
       "      <td>18.239606</td>\n",
       "      <td>0.334243</td>\n",
       "      <td>0.965326</td>\n",
       "      <td>0.593838</td>\n",
       "    </tr>\n",
       "    <tr>\n",
       "      <th>min</th>\n",
       "      <td>0.000000</td>\n",
       "      <td>0.000000</td>\n",
       "      <td>0.000000</td>\n",
       "      <td>0.000000</td>\n",
       "      <td>0.000000</td>\n",
       "      <td>0.000000</td>\n",
       "      <td>0.000000</td>\n",
       "      <td>0.000000</td>\n",
       "      <td>0.000000</td>\n",
       "      <td>0.000000</td>\n",
       "      <td>0.000000</td>\n",
       "      <td>0.000000</td>\n",
       "    </tr>\n",
       "    <tr>\n",
       "      <th>25%</th>\n",
       "      <td>0.000000</td>\n",
       "      <td>0.000000</td>\n",
       "      <td>2.000000</td>\n",
       "      <td>1.000000</td>\n",
       "      <td>17.000000</td>\n",
       "      <td>0.000000</td>\n",
       "      <td>0.000000</td>\n",
       "      <td>0.000000</td>\n",
       "      <td>0.000000</td>\n",
       "      <td>0.000000</td>\n",
       "      <td>0.000000</td>\n",
       "      <td>0.000000</td>\n",
       "    </tr>\n",
       "    <tr>\n",
       "      <th>50%</th>\n",
       "      <td>1.000000</td>\n",
       "      <td>0.000000</td>\n",
       "      <td>2.000000</td>\n",
       "      <td>2.000000</td>\n",
       "      <td>64.000000</td>\n",
       "      <td>0.000000</td>\n",
       "      <td>0.000000</td>\n",
       "      <td>0.000000</td>\n",
       "      <td>0.000000</td>\n",
       "      <td>0.000000</td>\n",
       "      <td>0.000000</td>\n",
       "      <td>0.000000</td>\n",
       "    </tr>\n",
       "    <tr>\n",
       "      <th>75%</th>\n",
       "      <td>2.000000</td>\n",
       "      <td>0.000000</td>\n",
       "      <td>2.000000</td>\n",
       "      <td>3.000000</td>\n",
       "      <td>151.000000</td>\n",
       "      <td>0.000000</td>\n",
       "      <td>1.000000</td>\n",
       "      <td>0.000000</td>\n",
       "      <td>0.000000</td>\n",
       "      <td>0.000000</td>\n",
       "      <td>0.000000</td>\n",
       "      <td>0.000000</td>\n",
       "    </tr>\n",
       "    <tr>\n",
       "      <th>max</th>\n",
       "      <td>4.000000</td>\n",
       "      <td>3.000000</td>\n",
       "      <td>4.000000</td>\n",
       "      <td>6.000000</td>\n",
       "      <td>374.000000</td>\n",
       "      <td>58.000000</td>\n",
       "      <td>5.000000</td>\n",
       "      <td>10.000000</td>\n",
       "      <td>259.000000</td>\n",
       "      <td>3.000000</td>\n",
       "      <td>26.000000</td>\n",
       "      <td>17.000000</td>\n",
       "    </tr>\n",
       "  </tbody>\n",
       "</table>\n",
       "</div>"
      ],
      "text/plain": [
       "       stays_in_weekend_nights  required_car_parking_spaces        adults  \\\n",
       "count             65229.000000                 65229.000000  65229.000000   \n",
       "mean                  0.825185                     0.056647      1.836576   \n",
       "std                   0.853477                     0.232094      0.480245   \n",
       "min                   0.000000                     0.000000      0.000000   \n",
       "25%                   0.000000                     0.000000      2.000000   \n",
       "50%                   1.000000                     0.000000      2.000000   \n",
       "75%                   2.000000                     0.000000      2.000000   \n",
       "max                   4.000000                     3.000000      4.000000   \n",
       "\n",
       "       stays_in_week_nights     lead_time  previous_bookings_not_canceled  \\\n",
       "count          65229.000000  65229.000000                    65229.000000   \n",
       "mean               2.224793     96.337917                        0.107713   \n",
       "std                1.354992     96.127545                        1.326638   \n",
       "min                0.000000      0.000000                        0.000000   \n",
       "25%                1.000000     17.000000                        0.000000   \n",
       "50%                2.000000     64.000000                        0.000000   \n",
       "75%                3.000000    151.000000                        0.000000   \n",
       "max                6.000000    374.000000                       58.000000   \n",
       "\n",
       "       total_of_special_requests        babies  days_in_waiting_list  \\\n",
       "count               65229.000000  65229.000000          65229.000000   \n",
       "mean                    0.512763      0.007236              3.334422   \n",
       "std                     0.752590      0.098790             18.239606   \n",
       "min                     0.000000      0.000000              0.000000   \n",
       "25%                     0.000000      0.000000              0.000000   \n",
       "50%                     0.000000      0.000000              0.000000   \n",
       "75%                     1.000000      0.000000              0.000000   \n",
       "max                     5.000000     10.000000            259.000000   \n",
       "\n",
       "           children  previous_cancellations  booking_changes  \n",
       "count  65229.000000            65229.000000     65229.000000  \n",
       "mean       0.074890                0.128915         0.194269  \n",
       "std        0.334243                0.965326         0.593838  \n",
       "min        0.000000                0.000000         0.000000  \n",
       "25%        0.000000                0.000000         0.000000  \n",
       "50%        0.000000                0.000000         0.000000  \n",
       "75%        0.000000                0.000000         0.000000  \n",
       "max        3.000000               26.000000        17.000000  "
      ]
     },
     "metadata": {},
     "output_type": "display_data"
    },
    {
     "data": {
      "image/png": "[encoded data removed]",
      "text/plain": [
       "<Figure size 1440x1152 with 12 Axes>"
      ]
     },
     "metadata": {
      "needs_background": "light"
     },
     "output_type": "display_data"
    }
   ],
   "source": [
    "numerical_columns = list(set([    \n",
    "    'lead_time',\n",
    "    'stays_in_weekend_nights',\n",
    "    'stays_in_week_nights',\n",
    "    'adults',\n",
    "    'children',\n",
    "    'babies',\n",
    "    'previous_cancellations',\n",
    "    'previous_bookings_not_canceled',\n",
    "    'booking_changes',\n",
    "    'days_in_waiting_list',\n",
    "    'required_car_parking_spaces',\n",
    "    'total_of_special_requests'\n",
    "]) - set(excessive_columns))\n",
    "check_emissions(train_df, numerical_columns)"
   ]
  },
  {
   "cell_type": "markdown",
   "metadata": {},
   "source": [
    "Везде нормальное распределение, для некоторых данных выглядящее как константа. Явных выбросов нет."
   ]
  },
  {
   "cell_type": "markdown",
   "metadata": {},
   "source": [
    "#### Проверка категориальных признаков"
   ]
  },
  {
   "cell_type": "code",
   "execution_count": 9,
   "metadata": {
    "scrolled": false
   },
   "outputs": [
    {
     "name": "stdout",
     "output_type": "stream",
     "text": [
      "country:\n",
      "['GBR' 'PRT' 'ESP' 'IRL' 'FRA' 'ROU' 'NOR' 'USA' 'DEU' 'BEL' 'CHE' 'CN'\n",
      " 'GRC' 'NLD' 'ARG' 'RUS' 'SWE' 'POL' 'EST' 'CZE' 'ITA' 'FIN' 'DNK' 'MOZ'\n",
      " 'BWA' 'LUX' 'BRA' 'SVN' 'ALB' 'CHN' 'MEX' 'MAR' 'SMR' 'LVA' 'CHL' 'AUT'\n",
      " 'LTU' 'TUR' 'ISR' 'IND' 'CYM' 'AUS' 'CPV' 'ZWE' 'DZA' 'KOR' 'CRI' 'HUN'\n",
      " 'TUN' 'ARE' 'HRV' 'HKG' 'IRN' 'GIB' 'JEY' 'URY' 'ZAF' 'COL' 'GGY' 'KWT'\n",
      " 'CYP' 'KAZ' 'THA' 'DOM' 'NGA' 'BLR' 'VEN' 'UKR' 'ARM' 'JPN' 'LKA' 'MYS'\n",
      " 'BIH' 'MUS' 'OMN' 'SUR' 'JAM' 'BGR' 'CIV' 'SRB' 'JOR' 'SYR' 'PHL' 'PRI'\n",
      " 'SGP' 'BDI' 'LBN' 'AGO' 'VNM' 'AZE' 'PLW' 'NZL' 'EGY' 'MDV' 'CMR' 'MLT'\n",
      " 'SVK' 'MWI' 'STP' 'TWN' 'IDN' 'SEN' 'PER' 'SAU' 'KNA' 'ETH' 'ECU' 'IRQ'\n",
      " 'AND' 'HND' 'PAK' 'GEO' 'ZMB' 'QAT' 'KHM' 'MCO' 'BGD' 'ISL' 'UZB' 'IMN'\n",
      " 'TJK' 'NIC' 'BEN' 'MAC' 'VGB' 'TZA' 'GAB' 'MKD' 'TMP' 'GLP' 'KEN' 'LIE'\n",
      " 'MMR' 'PAN' 'BFA' 'LBY' 'GNB' 'MLI' 'BHR' 'NAM' 'BOL' 'SYC' 'PRY' 'BRB'\n",
      " 'ABW' 'SLV' 'DMA' 'CUB' 'PYF' 'UGA' 'GUY' 'LCA' 'ATA' 'RWA' 'MNE' 'FJI'\n",
      " 'MDG' 'CAF' 'NPL' 'BHS' 'UMI' 'MYT' 'GTM' 'GHA' 'ASM' 'TGO' 'MRT' 'NCL'\n",
      " 'KIR' 'SDN' 'ATF' 'SLE' 'LAO' 'FRO']\n",
      "\n",
      "arrival_date_day_of_month:\n",
      "[ 1  2  3  4  5  6  7  8  9 10 11 12 13 14 15 16 17 18 19 20 21 22 23 24\n",
      " 25 26 27 28 29 30 31]\n",
      "\n",
      "meal:\n",
      "['BB       ' 'FB       ' 'HB       ' 'SC       ' 'SC']\n",
      "\n",
      "customer_type:\n",
      "['Transient' 'Contract' 'Transient-Party' 'Group']\n",
      "\n",
      "distribution_channel:\n",
      "['Direct' 'TA/TO' 'Corporate' 'GDS']\n",
      "\n",
      "arrival_date_month:\n",
      "['July' 'August' 'September' 'October' 'November' 'December' 'January'\n",
      " 'February' 'March' 'April' 'May' 'June']\n",
      "\n",
      "reserved_room_type:\n",
      "['A               ' 'C               ' 'D               '\n",
      " 'E               ' 'G               ' 'F               '\n",
      " 'B               ']\n",
      "\n"
     ]
    }
   ],
   "source": [
    "categorial_columns = list(set([\n",
    "    'arrival_date_month',\n",
    "    'arrival_date_day_of_month',\n",
    "    'meal',\n",
    "    'country',\n",
    "    'distribution_channel',\n",
    "    'reserved_room_type',\n",
    "    'customer_type'\n",
    "]) - set(excessive_columns))\n",
    "for column_name in categorial_columns:\n",
    "    print(column_name + ':')\n",
    "    print(pd.concat([train_df, test_df])[column_name].unique())\n",
    "    print()"
   ]
  },
  {
   "cell_type": "markdown",
   "metadata": {},
   "source": [
    "В **meal** и **reserved_room_type** есть пробелы в значениях. В **meal** это приводит к дублированию значения 'SC'. Следует исправить:"
   ]
  },
  {
   "cell_type": "code",
   "execution_count": 10,
   "metadata": {},
   "outputs": [],
   "source": [
    "train_df['meal'] = train_df['meal'].str.strip()\n",
    "train_df['reserved_room_type'] = train_df['reserved_room_type'].str.strip()\n",
    "\n",
    "test_df['meal'] = test_df['meal'].str.strip()\n",
    "test_df['reserved_room_type'] = test_df['reserved_room_type'].str.strip()"
   ]
  },
  {
   "cell_type": "markdown",
   "metadata": {},
   "source": [
    "#### Выделение признаков\n",
    "\n",
    "Обучение моделей будет проводиться с помощью GridSearchCV. Поэтому, разделение выборки на валидационную и тренировочную не требуется"
   ]
  },
  {
   "cell_type": "code",
   "execution_count": 11,
   "metadata": {},
   "outputs": [],
   "source": [
    "target_train = train_df['is_canceled']\n",
    "features_train_raw = train_df.drop('is_canceled', axis=1)\n",
    "\n",
    "target_test = test_df['is_canceled']\n",
    "features_test_raw = test_df.drop('is_canceled', axis=1)"
   ]
  },
  {
   "cell_type": "markdown",
   "metadata": {},
   "source": [
    "#### Кодирование признаков"
   ]
  },
  {
   "cell_type": "code",
   "execution_count": 12,
   "metadata": {},
   "outputs": [],
   "source": [
    "class Encoder:\n",
    "    def __init__(self, underlying_encoder, encodable_columns):\n",
    "        self.underlying_encoder = underlying_encoder\n",
    "        self.encodable_columns = encodable_columns\n",
    "        \n",
    "    def fit(self, features):\n",
    "        self.underlying_encoder.fit(features[self.encodable_columns])\n",
    "        \n",
    "    def encode(self, features):\n",
    "        encoded_values = self.underlying_encoder.transform(features[self.encodable_columns])\n",
    "        encoded_df = pd.DataFrame(encoded_values, columns=self.underlying_encoder.get_feature_names())\n",
    "        return features.drop(self.encodable_columns, axis=1).join(encoded_df)\n",
    "        \n",
    "    def decode(self, features):            \n",
    "        decodable_columns = features[self.underlying_encoder.get_feature_names()]\n",
    "        decoded = self.underlying_encoder.inverse_transform(decodable_columns)\n",
    "        return pd.DataFrame(decoded, index=features.index, columns=self.encodable_columns).join(features)"
   ]
  },
  {
   "cell_type": "code",
   "execution_count": 13,
   "metadata": {},
   "outputs": [],
   "source": [
    "encoder = Encoder(OneHotEncoder(sparse=False, handle_unknown='ignore'), categorial_columns)\n",
    "encoder.fit(pd.concat([features_train_raw]))\n",
    "features_train = encoder.encode(features_train_raw)\n",
    "features_test = encoder.encode(features_test_raw)"
   ]
  },
  {
   "cell_type": "markdown",
   "metadata": {},
   "source": [
    "#### Масштабирование данных"
   ]
  },
  {
   "cell_type": "markdown",
   "metadata": {},
   "source": [
    "Масштабирование поможет при обучении логистической регрессии."
   ]
  },
  {
   "cell_type": "code",
   "execution_count": 14,
   "metadata": {},
   "outputs": [],
   "source": [
    "def reverse_scaling(features):\n",
    "    return pd.DataFrame(\n",
    "        scaler.inverse_transform(features[numerical_columns]), \n",
    "        columns=numerical_columns, \n",
    "        index=features.index\n",
    "    )"
   ]
  },
  {
   "cell_type": "code",
   "execution_count": 15,
   "metadata": {},
   "outputs": [],
   "source": [
    "pd.options.mode.chained_assignment = None\n",
    "scaler = StandardScaler()\n",
    "\n",
    "existing_numerical_columns = numerical_columns\n",
    "features_train[numerical_columns] = scaler.fit_transform(features_train[numerical_columns])\n",
    "features_test[numerical_columns] = scaler.transform(features_test[numerical_columns])"
   ]
  },
  {
   "cell_type": "markdown",
   "metadata": {},
   "source": [
    "#### Баланс классов"
   ]
  },
  {
   "cell_type": "code",
   "execution_count": 16,
   "metadata": {
    "scrolled": true
   },
   "outputs": [
    {
     "data": {
      "text/plain": [
       "0    41185\n",
       "1    24044\n",
       "Name: is_canceled, dtype: int64"
      ]
     },
     "execution_count": 16,
     "metadata": {},
     "output_type": "execute_result"
    }
   ],
   "source": [
    "target_train.value_counts()"
   ]
  },
  {
   "cell_type": "markdown",
   "metadata": {},
   "source": [
    "Есть дисбалланс в сторону отрицательного класса. Следует увеличить выборку. Разница маньше, чем в два раза - поэтому, для выравнивания баланса, будет взят случайный набор строк с положительным классом. "
   ]
  },
  {
   "cell_type": "code",
   "execution_count": 17,
   "metadata": {},
   "outputs": [],
   "source": [
    "def upsample(target, features):\n",
    "    negative = target[target == 0]\n",
    "    positive = target[target == 1]\n",
    "    \n",
    "    diff = negative.count() - positive.count()\n",
    "    if (diff == 0):\n",
    "        return (target, features)\n",
    "    \n",
    "    elif (diff < 0):\n",
    "        additional_targets = negative.sample(-diff, random_state=random_state)\n",
    "    else:\n",
    "        additional_targets = positive.sample(diff, random_state=random_state)\n",
    "        \n",
    "    target_scaled = pd.concat([negative, positive, additional_targets])\n",
    "    features_scaled = features.loc[target_scaled.index]\n",
    "    \n",
    "    target_scaled, features_scaled = shuffle(target_scaled, features_scaled, random_state=random_state)\n",
    "    \n",
    "    #на данном этапе есть дублирующиеся индексы, поэтому их следует перестроить:\n",
    "    target_scaled.reset_index(inplace=True, drop=True)\n",
    "    features_scaled.reset_index(inplace=True, drop=True)\n",
    "    \n",
    "    return (target_scaled, features_scaled)"
   ]
  },
  {
   "cell_type": "code",
   "execution_count": 18,
   "metadata": {},
   "outputs": [],
   "source": [
    "#target_train, features_train = upsample(target_train, features_train)\n",
    "#target_train.value_counts()"
   ]
  },
  {
   "cell_type": "markdown",
   "metadata": {},
   "source": [
    "### Шаг 3. Формулировка ML-задачи на основе бизнес-задачи"
   ]
  },
  {
   "cell_type": "markdown",
   "metadata": {},
   "source": [
    "#### Бизнес-задача"
   ]
  },
  {
   "cell_type": "markdown",
   "metadata": {},
   "source": [
    "Если модель покажет, что бронь будет отменена, то клиенту предлагается внести депозит. Размер депозита — 80% от стоимости номера за одни сутки и затрат на разовую уборку. Деньги будут списаны со счёта клиента, если он всё же отменит бронь.\n",
    "\n",
    "Основная бизнес-метрика для любой сети отелей — её прибыль. Прибыль отеля — это разница между стоимостью номера за все ночи и затраты на обслуживание: как при подготовке номера, так и при проживании постояльца. \n",
    "\n",
    "В отеле есть несколько типов номеров. В зависимости от типа номера назначается стоимость за одну ночь. Есть также затраты на уборку. Если клиент снял номер надолго, то убираются каждые два дня. \n",
    "\n",
    "Стоимость номеров отеля:\n",
    "* категория A: за ночь — 1 000, разовое обслуживание — 400;\n",
    "* категория B: за ночь — 800, разовое обслуживание — 350;\n",
    "* категория C: за ночь — 600, разовое обслуживание — 350;\n",
    "* категория D: за ночь — 550, разовое обслуживание — 150;\n",
    "* категория E: за ночь — 500, разовое обслуживание — 150;\n",
    "* категория F: за ночь — 450, разовое обслуживание — 150;\n",
    "* категория G: за ночь — 350, разовое обслуживание — 150.\n",
    "\n",
    "В ценовой политике отеля используются сезонные коэффициенты: весной и осенью цены повышаются на 20%, летом — на 40%.\n",
    "Убытки отеля в случае отмены брони номера — это стоимость одной уборки и одной ночи с учётом сезонного коэффициента.\n",
    "\n",
    "На разработку системы прогнозирования заложен бюджет — 400 000. При этом необходимо учесть, что внедрение модели должно окупиться за тестовый период. Затраты на разработку должны быть меньше той выручки, которую система принесёт компании."
   ]
  },
  {
   "cell_type": "markdown",
   "metadata": {},
   "source": [
    "#### Прибыль без депозитов"
   ]
  },
  {
   "cell_type": "code",
   "execution_count": 19,
   "metadata": {},
   "outputs": [],
   "source": [
    "prices = {\n",
    "    'A': { 'overnight': 1000, 'service': 400 },\n",
    "    'B': { 'overnight': 800, 'service': 350 },\n",
    "    'C': { 'overnight': 600, 'service': 350 },\n",
    "    'D': { 'overnight': 550, 'service': 150 },\n",
    "    'E': { 'overnight': 500, 'service': 150 },\n",
    "    'F': { 'overnight': 450, 'service': 150 },\n",
    "    'G': { 'overnight': 350, 'service': 150 }\n",
    "}\n",
    "\n",
    "seasonal_multiplier = {\n",
    "    'June': 1.4,\n",
    "    'July': 1.4,\n",
    "    'August': 1.4,\n",
    "    \n",
    "    'September': 1.2,\n",
    "    'October': 1.2,\n",
    "    'November': 1.2,\n",
    "    \n",
    "    'December': 1,\n",
    "    'January': 1, \n",
    "    'February': 1,\n",
    "    \n",
    "    'March': 1.2,\n",
    "    'April': 1.2,\n",
    "    'May': 1.2\n",
    "}\n",
    "\n",
    "development_budget = 400000\n",
    "\n",
    "deposit_multiplier = 0.8"
   ]
  },
  {
   "cell_type": "code",
   "execution_count": 20,
   "metadata": {},
   "outputs": [],
   "source": [
    "def add_profit_info(row):    \n",
    "    price = prices[row['reserved_room_type']]\n",
    "    month = row['arrival_date_month']\n",
    "    nights = row['stays_in_weekend_nights'] + row['stays_in_week_nights']#допущение: все дни съема в одном месяце\n",
    "    is_cancelled = row['expected'] == 1\n",
    "    is_cancellation_predicted = row['predicted'] == 1\n",
    "    price_per_night = price['overnight']\n",
    "    spendings = price['service']\n",
    "    multiplier = seasonal_multiplier[month]\n",
    "    \n",
    "    base_payment = (multiplier * price['overnight'] + price['service'])\n",
    "    if (is_cancelled):\n",
    "        row['is_canceled'] = True\n",
    "        profit = -(price_per_night * multiplier + spendings)\n",
    "        if (is_cancellation_predicted):\n",
    "            row['saved_profit'] = -profit * deposit_multiplier\n",
    "            profit *= (1 - deposit_multiplier) #часть потерь компенсируется депозитом\n",
    "        else:\n",
    "            row['lost_profit'] = -profit * deposit_multiplier\n",
    "    else:\n",
    "        if (is_cancellation_predicted == 1):\n",
    "            row['false_positive'] = True\n",
    "        profit = (price_per_night * nights * multiplier) - (spendings * (1 + nights//2))\n",
    "    row['profit'] = profit\n",
    "    \n",
    "    return row    "
   ]
  },
  {
   "cell_type": "code",
   "execution_count": 21,
   "metadata": {},
   "outputs": [],
   "source": [
    "profit_info_columns = [\n",
    "    'profit', \n",
    "    'saved_profit', \n",
    "    'lost_profit',    \n",
    "    'false_positive',\n",
    "    'is_canceled'\n",
    "]\n",
    "def calculate_profit(features, target, predicted):\n",
    "    predicted_series = pd.Series(predicted, index=target.index, name='predicted')\n",
    "    result = features.join(target.rename('expected')).join(predicted_series)\n",
    "    result[profit_info_columns] = None\n",
    "    return result.apply(add_profit_info, axis=1)"
   ]
  },
  {
   "cell_type": "code",
   "execution_count": 22,
   "metadata": {},
   "outputs": [],
   "source": [
    "def analize_profit(features, target, predicted):\n",
    "    features_rescaled = reverse_scaling(features)\n",
    "    decoded = encoder.decode(features)\n",
    "    decoded[numerical_columns] = features_rescaled[numerical_columns]\n",
    "    \n",
    "    profit_df = calculate_profit(decoded, target, predicted)\n",
    "    profit_df = profit_df.append({\n",
    "        'arrival_date_month': 'Итого по месяцам',\n",
    "        'profit': profit_df['profit'].sum(),\n",
    "        'lost_profit': profit_df['lost_profit'].sum(),\n",
    "        'saved_profit': profit_df['saved_profit'].sum(),\n",
    "        \n",
    "        'false_positive': profit_df['false_positive'].sum(),\n",
    "        'is_canceled': profit_df['is_canceled'].sum()\n",
    "    }, ignore_index=True)\n",
    "    \n",
    "    result = profit_df.groupby('arrival_date_month').aggregate({\n",
    "        'profit':['sum', 'count'],\n",
    "        'lost_profit':'sum',\n",
    "        'saved_profit':['sum', 'count'],\n",
    "        \n",
    "        'false_positive':'sum',\n",
    "        'is_canceled':'sum'\n",
    "    })\n",
    "    \n",
    "    result.columns = [\n",
    "        'Прибыль',\n",
    "        'Брони',\n",
    "        'Возможные депозиты, сумма',\n",
    "        'Депозиты, сумма',\n",
    "        'Депозиты, кол-во', \n",
    "        'Ошибочные депозиты, кол-во',\n",
    "        'Отмена брони'\n",
    "    ]\n",
    "    result.index.name = 'Месяц'\n",
    "    result.at['Итого по месяцам', 'Брони'] = profit_df['profit'].count()\n",
    "    result.at['Итого по месяцам', 'Депозиты, кол-во'] = profit_df['saved_profit'].count()\n",
    "    \n",
    "    return result"
   ]
  },
  {
   "cell_type": "code",
   "execution_count": 23,
   "metadata": {},
   "outputs": [
    {
     "name": "stdout",
     "output_type": "stream",
     "text": [
      "CPU times: user 4.76 s, sys: 794 ms, total: 5.56 s\n",
      "Wall time: 5.68 s\n"
     ]
    },
    {
     "data": {
      "text/html": [
       "<div>\n",
       "<style scoped>\n",
       "    .dataframe tbody tr th:only-of-type {\n",
       "        vertical-align: middle;\n",
       "    }\n",
       "\n",
       "    .dataframe tbody tr th {\n",
       "        vertical-align: top;\n",
       "    }\n",
       "\n",
       "    .dataframe thead th {\n",
       "        text-align: right;\n",
       "    }\n",
       "</style>\n",
       "<table border=\"1\" class=\"dataframe\">\n",
       "  <thead>\n",
       "    <tr style=\"text-align: right;\">\n",
       "      <th></th>\n",
       "      <th>Прибыль</th>\n",
       "      <th>Брони</th>\n",
       "      <th>Возможные депозиты, сумма</th>\n",
       "      <th>Депозиты, сумма</th>\n",
       "      <th>Депозиты, кол-во</th>\n",
       "      <th>Ошибочные депозиты, кол-во</th>\n",
       "      <th>Отмена брони</th>\n",
       "    </tr>\n",
       "    <tr>\n",
       "      <th>Месяц</th>\n",
       "      <th></th>\n",
       "      <th></th>\n",
       "      <th></th>\n",
       "      <th></th>\n",
       "      <th></th>\n",
       "      <th></th>\n",
       "      <th></th>\n",
       "    </tr>\n",
       "  </thead>\n",
       "  <tbody>\n",
       "    <tr>\n",
       "      <th>April</th>\n",
       "      <td>4148130.0</td>\n",
       "      <td>4878</td>\n",
       "      <td>2430344.0</td>\n",
       "      <td>0</td>\n",
       "      <td>0</td>\n",
       "      <td>0</td>\n",
       "      <td>2173</td>\n",
       "    </tr>\n",
       "    <tr>\n",
       "      <th>August</th>\n",
       "      <td>5010310.0</td>\n",
       "      <td>3096</td>\n",
       "      <td>1337952.0</td>\n",
       "      <td>0</td>\n",
       "      <td>0</td>\n",
       "      <td>0</td>\n",
       "      <td>1102</td>\n",
       "    </tr>\n",
       "    <tr>\n",
       "      <th>February</th>\n",
       "      <td>2918600.0</td>\n",
       "      <td>3543</td>\n",
       "      <td>1124080.0</td>\n",
       "      <td>0</td>\n",
       "      <td>0</td>\n",
       "      <td>0</td>\n",
       "      <td>1135</td>\n",
       "    </tr>\n",
       "    <tr>\n",
       "      <th>January</th>\n",
       "      <td>2176450.0</td>\n",
       "      <td>3150</td>\n",
       "      <td>1080880.0</td>\n",
       "      <td>0</td>\n",
       "      <td>0</td>\n",
       "      <td>0</td>\n",
       "      <td>1071</td>\n",
       "    </tr>\n",
       "    <tr>\n",
       "      <th>July</th>\n",
       "      <td>5035260.0</td>\n",
       "      <td>3626</td>\n",
       "      <td>1621896.0</td>\n",
       "      <td>0</td>\n",
       "      <td>0</td>\n",
       "      <td>0</td>\n",
       "      <td>1331</td>\n",
       "    </tr>\n",
       "    <tr>\n",
       "      <th>June</th>\n",
       "      <td>4376840.0</td>\n",
       "      <td>4580</td>\n",
       "      <td>2652216.0</td>\n",
       "      <td>0</td>\n",
       "      <td>0</td>\n",
       "      <td>0</td>\n",
       "      <td>2053</td>\n",
       "    </tr>\n",
       "    <tr>\n",
       "      <th>March</th>\n",
       "      <td>5059570.0</td>\n",
       "      <td>4277</td>\n",
       "      <td>1564592.0</td>\n",
       "      <td>0</td>\n",
       "      <td>0</td>\n",
       "      <td>0</td>\n",
       "      <td>1411</td>\n",
       "    </tr>\n",
       "    <tr>\n",
       "      <th>May</th>\n",
       "      <td>3857760.0</td>\n",
       "      <td>5262</td>\n",
       "      <td>2621288.0</td>\n",
       "      <td>0</td>\n",
       "      <td>0</td>\n",
       "      <td>0</td>\n",
       "      <td>2315</td>\n",
       "    </tr>\n",
       "    <tr>\n",
       "      <th>Итого по месяцам</th>\n",
       "      <td>32582920.0</td>\n",
       "      <td>32413</td>\n",
       "      <td>14433248.0</td>\n",
       "      <td>0</td>\n",
       "      <td>1</td>\n",
       "      <td>0</td>\n",
       "      <td>12591</td>\n",
       "    </tr>\n",
       "  </tbody>\n",
       "</table>\n",
       "</div>"
      ],
      "text/plain": [
       "                     Прибыль  Брони  Возможные депозиты, сумма  \\\n",
       "Месяц                                                            \n",
       "April              4148130.0   4878                  2430344.0   \n",
       "August             5010310.0   3096                  1337952.0   \n",
       "February           2918600.0   3543                  1124080.0   \n",
       "January            2176450.0   3150                  1080880.0   \n",
       "July               5035260.0   3626                  1621896.0   \n",
       "June               4376840.0   4580                  2652216.0   \n",
       "March              5059570.0   4277                  1564592.0   \n",
       "May                3857760.0   5262                  2621288.0   \n",
       "Итого по месяцам  32582920.0  32413                 14433248.0   \n",
       "\n",
       "                  Депозиты, сумма  Депозиты, кол-во  \\\n",
       "Месяц                                                 \n",
       "April                           0                 0   \n",
       "August                          0                 0   \n",
       "February                        0                 0   \n",
       "January                         0                 0   \n",
       "July                            0                 0   \n",
       "June                            0                 0   \n",
       "March                           0                 0   \n",
       "May                             0                 0   \n",
       "Итого по месяцам                0                 1   \n",
       "\n",
       "                  Ошибочные депозиты, кол-во  Отмена брони  \n",
       "Месяц                                                       \n",
       "April                                      0          2173  \n",
       "August                                     0          1102  \n",
       "February                                   0          1135  \n",
       "January                                    0          1071  \n",
       "July                                       0          1331  \n",
       "June                                       0          2053  \n",
       "March                                      0          1411  \n",
       "May                                        0          2315  \n",
       "Итого по месяцам                           0         12591  "
      ]
     },
     "execution_count": 23,
     "metadata": {},
     "output_type": "execute_result"
    }
   ],
   "source": [
    "%%time\n",
    "profit = analize_profit(features_test, target_test, target_test.replace(1, 0))\n",
    "profit"
   ]
  },
  {
   "cell_type": "markdown",
   "metadata": {},
   "source": [
    "30% броней отменяется, что приводит к существенным потерям. Так, на 35 млн. дохода приходится 14 млн., которые теоретичски можно было бы компенсировать при введении депозитов."
   ]
  },
  {
   "cell_type": "markdown",
   "metadata": {},
   "source": [
    "#### ML задача"
   ]
  },
  {
   "cell_type": "markdown",
   "metadata": {},
   "source": [
    "Если в качестве тестового периода рассматривать один месяц, то:\n",
    "* По месяцу с минимально возможной компенсацией от депозитов (добиться окупаемости труднее всего) можно взять минимальный FP прогноз.\n",
    "* Помимо бюджета следует минимизировать лишние запросы депозитов у надежных клиентов. Пусть допустимый процент таких ошибок будет 10%."
   ]
  },
  {
   "cell_type": "code",
   "execution_count": 24,
   "metadata": {},
   "outputs": [
    {
     "name": "stdout",
     "output_type": "stream",
     "text": [
      "Месяц: January, минимальная полнота: 0.37, минимальная точность:0.66\n"
     ]
    }
   ],
   "source": [
    "month_with_minimum_possible_deposit = profit['Возможные депозиты, сумма'].idxmin()\n",
    "minimal_deposit = profit['Возможные депозиты, сумма'][month_with_minimum_possible_deposit]\n",
    "cancelled = profit['Отмена брони'][month_with_minimum_possible_deposit]\n",
    "reserves = profit['Брони'][month_with_minimum_possible_deposit]\n",
    "\n",
    "target_fp_fraction = 0.1\n",
    "min_recall = development_budget / minimal_deposit\n",
    "min_tp = min_recall * cancelled\n",
    "max_fp = (reserves - cancelled) * target_fp_fraction\n",
    "min_precision = min_tp / (min_tp + max_fp)\n",
    "\n",
    "print(f'Месяц: {month_with_minimum_possible_deposit}, минимальная полнота: {min_recall:.2f}, минимальная точность:{min_precision:.2f}')"
   ]
  },
  {
   "cell_type": "markdown",
   "metadata": {},
   "source": [
    "К точности требования оказались выше, поэтому при обучении модель будет оцениваться именно по точности."
   ]
  },
  {
   "cell_type": "markdown",
   "metadata": {},
   "source": [
    "### Шаг 4. Разработка модели ML"
   ]
  },
  {
   "cell_type": "code",
   "execution_count": 25,
   "metadata": {},
   "outputs": [],
   "source": [
    "from sklearn.metrics import recall_score, precision_score, roc_auc_score\n",
    "def analize(model, features, target):\n",
    "    predicted = model.predict(features)\n",
    "    probabilities = model.predict_proba(features)\n",
    "    roc_auc = roc_auc_score(target, probabilities[:, 1])\n",
    "    print(f'Точность: {model.score(features, target):.2f}, полнота: {recall_score(target, predicted):.2f}, roc auc: {roc_auc:.2f}')\n",
    "    display(analize_profit(features, target, model.predict(features)));"
   ]
  },
  {
   "cell_type": "code",
   "execution_count": 26,
   "metadata": {},
   "outputs": [],
   "source": [
    "scoring = ['precision', 'recall', 'roc_auc']\n",
    "def model_info(search_model):\n",
    "    print('Модель с лучшими параметрами:', search_model.best_estimator_)\n",
    "    results = search_model.cv_results_\n",
    "    best_index = search_model.best_index_\n",
    "    \n",
    "    for score_name in scoring:\n",
    "        best_score = results[f'mean_test_{score_name}'][best_index]\n",
    "        print(f'{score_name}: {best_score:.2}')"
   ]
  },
  {
   "cell_type": "markdown",
   "metadata": {},
   "source": [
    "#### Дерево решений"
   ]
  },
  {
   "cell_type": "code",
   "execution_count": 27,
   "metadata": {
    "scrolled": false
   },
   "outputs": [
    {
     "name": "stdout",
     "output_type": "stream",
     "text": [
      "CPU times: user 53.9 s, sys: 4.95 s, total: 58.8 s\n",
      "Wall time: 59.1 s\n"
     ]
    }
   ],
   "source": [
    "%%time\n",
    "\n",
    "#обычно занимает 1-2 минуты\n",
    "tree = GridSearchCV(\n",
    "    DecisionTreeClassifier(random_state=random_state),\n",
    "    {\n",
    "        'max_depth': [50, 100, 150],\n",
    "        'criterion': ['gini', 'entropy'],\n",
    "        'splitter': ['best', 'random']\n",
    "    },\n",
    "    refit='precision',\n",
    "    scoring=scoring\n",
    ").fit(features_train, target_train)"
   ]
  },
  {
   "cell_type": "code",
   "execution_count": 28,
   "metadata": {
    "scrolled": false
   },
   "outputs": [
    {
     "name": "stdout",
     "output_type": "stream",
     "text": [
      "Модель с лучшими параметрами: DecisionTreeClassifier(criterion='entropy', max_depth=50, random_state=12345)\n",
      "precision: 0.49\n",
      "recall: 0.46\n",
      "roc_auc: 0.59\n"
     ]
    }
   ],
   "source": [
    "model_info(tree)"
   ]
  },
  {
   "cell_type": "markdown",
   "metadata": {},
   "source": [
    "#### Лес решений"
   ]
  },
  {
   "cell_type": "code",
   "execution_count": 29,
   "metadata": {},
   "outputs": [
    {
     "name": "stdout",
     "output_type": "stream",
     "text": [
      "CPU times: user 3min 53s, sys: 3.13 s, total: 3min 56s\n",
      "Wall time: 3min 56s\n"
     ]
    }
   ],
   "source": [
    "%%time\n",
    "\n",
    "#обычно занимает 3-4 минуты\n",
    "forest = GridSearchCV(\n",
    "    RandomForestClassifier(random_state=random_state, n_jobs=-1, n_estimators=100),\n",
    "    {\n",
    "        'criterion': ['gini', 'entropy'],\n",
    "        'max_features': ['sqrt', 'log2']\n",
    "    },\n",
    "    refit='precision',\n",
    "    scoring=scoring\n",
    ").fit(features_train, target_train)"
   ]
  },
  {
   "cell_type": "code",
   "execution_count": 30,
   "metadata": {
    "scrolled": false
   },
   "outputs": [
    {
     "name": "stdout",
     "output_type": "stream",
     "text": [
      "Модель с лучшими параметрами: RandomForestClassifier(criterion='entropy', max_features='sqrt', n_jobs=-1,\n",
      "                       random_state=12345)\n",
      "precision: 0.59\n",
      "recall: 0.45\n",
      "roc_auc: 0.65\n"
     ]
    }
   ],
   "source": [
    "model_info(forest)"
   ]
  },
  {
   "cell_type": "markdown",
   "metadata": {},
   "source": [
    "#### Логистическая регрессия"
   ]
  },
  {
   "cell_type": "code",
   "execution_count": 31,
   "metadata": {
    "scrolled": false
   },
   "outputs": [
    {
     "name": "stdout",
     "output_type": "stream",
     "text": [
      "CPU times: user 2min 23s, sys: 6.25 s, total: 2min 29s\n",
      "Wall time: 2min 30s\n"
     ]
    }
   ],
   "source": [
    "%%time\n",
    "\n",
    "#обычно занимает 2-3 минуты\n",
    "import warnings\n",
    "\n",
    "with warnings.catch_warnings():\n",
    "    warnings.simplefilter(\"ignore\") #подавление предупреждений о нехватке итераций\n",
    "    \n",
    "    regression = GridSearchCV(\n",
    "        LogisticRegression(random_state=random_state, solver='liblinear'),\n",
    "        {\n",
    "            'penalty': ['l1', 'l2'],\n",
    "            'max_iter': [25, 50, None]\n",
    "        },\n",
    "        refit='precision',\n",
    "        scoring=scoring\n",
    "    ).fit(features_train, target_train)"
   ]
  },
  {
   "cell_type": "code",
   "execution_count": 32,
   "metadata": {
    "scrolled": true
   },
   "outputs": [
    {
     "name": "stdout",
     "output_type": "stream",
     "text": [
      "Модель с лучшими параметрами: LogisticRegression(max_iter=25, penalty='l1', random_state=12345,\n",
      "                   solver='liblinear')\n",
      "precision: 0.59\n",
      "recall: 0.49\n",
      "roc_auc: 0.71\n"
     ]
    }
   ],
   "source": [
    "model_info(regression)"
   ]
  },
  {
   "cell_type": "markdown",
   "metadata": {},
   "source": [
    "#### Тестирование лучшей модели"
   ]
  },
  {
   "cell_type": "markdown",
   "metadata": {},
   "source": [
    "Из всех моделей лучше всего себя показала логистическая регрессия"
   ]
  },
  {
   "cell_type": "code",
   "execution_count": 33,
   "metadata": {
    "scrolled": false
   },
   "outputs": [
    {
     "name": "stdout",
     "output_type": "stream",
     "text": [
      "Точность: 0.79, полнота: 0.53, roc auc: 0.83\n"
     ]
    },
    {
     "data": {
      "text/html": [
       "<div>\n",
       "<style scoped>\n",
       "    .dataframe tbody tr th:only-of-type {\n",
       "        vertical-align: middle;\n",
       "    }\n",
       "\n",
       "    .dataframe tbody tr th {\n",
       "        vertical-align: top;\n",
       "    }\n",
       "\n",
       "    .dataframe thead th {\n",
       "        text-align: right;\n",
       "    }\n",
       "</style>\n",
       "<table border=\"1\" class=\"dataframe\">\n",
       "  <thead>\n",
       "    <tr style=\"text-align: right;\">\n",
       "      <th></th>\n",
       "      <th>Прибыль</th>\n",
       "      <th>Брони</th>\n",
       "      <th>Возможные депозиты, сумма</th>\n",
       "      <th>Депозиты, сумма</th>\n",
       "      <th>Депозиты, кол-во</th>\n",
       "      <th>Ошибочные депозиты, кол-во</th>\n",
       "      <th>Отмена брони</th>\n",
       "    </tr>\n",
       "    <tr>\n",
       "      <th>Месяц</th>\n",
       "      <th></th>\n",
       "      <th></th>\n",
       "      <th></th>\n",
       "      <th></th>\n",
       "      <th></th>\n",
       "      <th></th>\n",
       "      <th></th>\n",
       "    </tr>\n",
       "  </thead>\n",
       "  <tbody>\n",
       "    <tr>\n",
       "      <th>April</th>\n",
       "      <td>5712042.0</td>\n",
       "      <td>4878</td>\n",
       "      <td>866432.0</td>\n",
       "      <td>1563912.0</td>\n",
       "      <td>1338</td>\n",
       "      <td>246</td>\n",
       "      <td>2173</td>\n",
       "    </tr>\n",
       "    <tr>\n",
       "      <th>August</th>\n",
       "      <td>5621206.0</td>\n",
       "      <td>3096</td>\n",
       "      <td>727056.0</td>\n",
       "      <td>610896.0</td>\n",
       "      <td>518</td>\n",
       "      <td>354</td>\n",
       "      <td>1102</td>\n",
       "    </tr>\n",
       "    <tr>\n",
       "      <th>February</th>\n",
       "      <td>3395920.0</td>\n",
       "      <td>3543</td>\n",
       "      <td>646760.0</td>\n",
       "      <td>477320.0</td>\n",
       "      <td>463</td>\n",
       "      <td>135</td>\n",
       "      <td>1135</td>\n",
       "    </tr>\n",
       "    <tr>\n",
       "      <th>January</th>\n",
       "      <td>2584170.0</td>\n",
       "      <td>3150</td>\n",
       "      <td>673160.0</td>\n",
       "      <td>407720.0</td>\n",
       "      <td>403</td>\n",
       "      <td>75</td>\n",
       "      <td>1071</td>\n",
       "    </tr>\n",
       "    <tr>\n",
       "      <th>July</th>\n",
       "      <td>5702220.0</td>\n",
       "      <td>3626</td>\n",
       "      <td>954936.0</td>\n",
       "      <td>666960.0</td>\n",
       "      <td>534</td>\n",
       "      <td>189</td>\n",
       "      <td>1331</td>\n",
       "    </tr>\n",
       "    <tr>\n",
       "      <th>June</th>\n",
       "      <td>6160176.0</td>\n",
       "      <td>4580</td>\n",
       "      <td>868880.0</td>\n",
       "      <td>1783336.0</td>\n",
       "      <td>1344</td>\n",
       "      <td>311</td>\n",
       "      <td>2053</td>\n",
       "    </tr>\n",
       "    <tr>\n",
       "      <th>March</th>\n",
       "      <td>5929122.0</td>\n",
       "      <td>4277</td>\n",
       "      <td>695040.0</td>\n",
       "      <td>869552.0</td>\n",
       "      <td>746</td>\n",
       "      <td>228</td>\n",
       "      <td>1411</td>\n",
       "    </tr>\n",
       "    <tr>\n",
       "      <th>May</th>\n",
       "      <td>5461264.0</td>\n",
       "      <td>5262</td>\n",
       "      <td>1017784.0</td>\n",
       "      <td>1603504.0</td>\n",
       "      <td>1347</td>\n",
       "      <td>245</td>\n",
       "      <td>2315</td>\n",
       "    </tr>\n",
       "    <tr>\n",
       "      <th>Итого по месяцам</th>\n",
       "      <td>40566120.0</td>\n",
       "      <td>32413</td>\n",
       "      <td>6450048.0</td>\n",
       "      <td>7983200.0</td>\n",
       "      <td>6694</td>\n",
       "      <td>1783</td>\n",
       "      <td>12591</td>\n",
       "    </tr>\n",
       "  </tbody>\n",
       "</table>\n",
       "</div>"
      ],
      "text/plain": [
       "                     Прибыль  Брони  Возможные депозиты, сумма  \\\n",
       "Месяц                                                            \n",
       "April              5712042.0   4878                   866432.0   \n",
       "August             5621206.0   3096                   727056.0   \n",
       "February           3395920.0   3543                   646760.0   \n",
       "January            2584170.0   3150                   673160.0   \n",
       "July               5702220.0   3626                   954936.0   \n",
       "June               6160176.0   4580                   868880.0   \n",
       "March              5929122.0   4277                   695040.0   \n",
       "May                5461264.0   5262                  1017784.0   \n",
       "Итого по месяцам  40566120.0  32413                  6450048.0   \n",
       "\n",
       "                  Депозиты, сумма  Депозиты, кол-во  \\\n",
       "Месяц                                                 \n",
       "April                   1563912.0              1338   \n",
       "August                   610896.0               518   \n",
       "February                 477320.0               463   \n",
       "January                  407720.0               403   \n",
       "July                     666960.0               534   \n",
       "June                    1783336.0              1344   \n",
       "March                    869552.0               746   \n",
       "May                     1603504.0              1347   \n",
       "Итого по месяцам        7983200.0              6694   \n",
       "\n",
       "                  Ошибочные депозиты, кол-во  Отмена брони  \n",
       "Месяц                                                       \n",
       "April                                    246          2173  \n",
       "August                                   354          1102  \n",
       "February                                 135          1135  \n",
       "January                                   75          1071  \n",
       "July                                     189          1331  \n",
       "June                                     311          2053  \n",
       "March                                    228          1411  \n",
       "May                                      245          2315  \n",
       "Итого по месяцам                        1783         12591  "
      ]
     },
     "metadata": {},
     "output_type": "display_data"
    },
    {
     "name": "stdout",
     "output_type": "stream",
     "text": [
      "CPU times: user 5.05 s, sys: 1.06 s, total: 6.1 s\n",
      "Wall time: 6.09 s\n"
     ]
    }
   ],
   "source": [
    "%%time\n",
    "\n",
    "best_model = regression\n",
    "analize(best_model, features_test, target_test)"
   ]
  },
  {
   "cell_type": "markdown",
   "metadata": {},
   "source": [
    "И полнота и точность превосходят минимальные целевые значения, определенные в \"**3.3.ML задача**\"\n",
    "\n",
    "Модель без труда может отбить бюджет уже в первый месяц использования. При этом, высокая точность позволит не беспокоить лишний раз надежных клиентов."
   ]
  },
  {
   "cell_type": "markdown",
   "metadata": {},
   "source": [
    "### Шаг 5. Опишите портрет «ненадёжного» клиента"
   ]
  },
  {
   "cell_type": "markdown",
   "metadata": {},
   "source": [
    "Перебором были найдены наиболее показательные графики"
   ]
  },
  {
   "cell_type": "code",
   "execution_count": 34,
   "metadata": {
    "scrolled": false
   },
   "outputs": [],
   "source": [
    "df = pd.concat([test_df, train_df])"
   ]
  },
  {
   "cell_type": "code",
   "execution_count": 35,
   "metadata": {},
   "outputs": [],
   "source": [
    "def draw(df, column):\n",
    "    if (len(df[column].unique()) <= 50):\n",
    "        values = 'adults'\n",
    "        if(column == values):\n",
    "            values = 'required_car_parking_spaces'\n",
    "        pvt = df.pivot_table(\n",
    "            index=[column, 'is_canceled'], \n",
    "            values=values,\n",
    "            aggfunc='count').round(2).reset_index()\n",
    "\n",
    "        ax = sns.barplot(\n",
    "            x=column,\n",
    "            y=values,\n",
    "            hue='is_canceled',\n",
    "            data=pvt,\n",
    "            palette=['lightblue', 'orange']\n",
    "        )\n",
    "\n",
    "        ax.set_title(f'График признака \"{column}\" с разбивкой по факту отмены брони')\n",
    "        ax.set(xlabel='Значения признака', ylabel='Брони');\n",
    "        handles, labs = ax.get_legend_handles_labels()\n",
    "        pl.legend(handles=handles, labels=['Бронь оплачена', 'Бронь отменена'])\n",
    "    else:\n",
    "        axis = df.groupby('is_canceled')[column].hist(bins=35, alpha=0.5);\n",
    "        pl.suptitle(f'Гистограмма признака \"{column}\" с разбивкой по факту отмены брони')\n",
    "        pl.legend(['Бронь оплачена', 'Бронь отменена']);\n",
    "        for ax in axis:\n",
    "            ax.set_xlabel(\"Значения признака\")\n",
    "            ax.set_ylabel(\"Брони\")"
   ]
  },
  {
   "cell_type": "code",
   "execution_count": 36,
   "metadata": {},
   "outputs": [
    {
     "data": {
      "image/png": "[encoded data removed]",
      "text/plain": [
       "<Figure size 432x288 with 1 Axes>"
      ]
     },
     "metadata": {
      "needs_background": "light"
     },
     "output_type": "display_data"
    }
   ],
   "source": [
    "draw(df, 'lead_time')"
   ]
  },
  {
   "cell_type": "markdown",
   "metadata": {},
   "source": [
    "Самое заметное отличие \"ненадежного\" клиента - это бронирование заранее. Большинство клиентов предпочитают бронировать ближе к дате заезда."
   ]
  },
  {
   "cell_type": "code",
   "execution_count": 37,
   "metadata": {},
   "outputs": [
    {
     "data": {
      "image/png": "[encoded data removed]",
      "text/plain": [
       "<Figure size 432x288 with 1 Axes>"
      ]
     },
     "metadata": {
      "needs_background": "light"
     },
     "output_type": "display_data"
    }
   ],
   "source": [
    "draw(df, 'stays_in_week_nights')"
   ]
  },
  {
   "cell_type": "markdown",
   "metadata": {},
   "source": [
    "Такие клиенты относительно чаще остальных снимают номер на две ночи."
   ]
  },
  {
   "cell_type": "code",
   "execution_count": 38,
   "metadata": {},
   "outputs": [
    {
     "data": {
      "image/png": "[encoded data removed]",
      "text/plain": [
       "<Figure size 432x288 with 1 Axes>"
      ]
     },
     "metadata": {
      "needs_background": "light"
     },
     "output_type": "display_data"
    }
   ],
   "source": [
    "draw(df, 'distribution_channel')"
   ]
  },
  {
   "cell_type": "markdown",
   "metadata": {},
   "source": [
    "В качестве канала распространения предпочитают TA/TO."
   ]
  },
  {
   "cell_type": "code",
   "execution_count": 39,
   "metadata": {},
   "outputs": [
    {
     "data": {
      "image/png": "[encoded data removed]",
      "text/plain": [
       "<Figure size 432x288 with 1 Axes>"
      ]
     },
     "metadata": {
      "needs_background": "light"
     },
     "output_type": "display_data"
    }
   ],
   "source": [
    "draw(df, 'required_car_parking_spaces')"
   ]
  },
  {
   "cell_type": "markdown",
   "metadata": {},
   "source": [
    "Обходятся без личного автомобиля."
   ]
  },
  {
   "cell_type": "code",
   "execution_count": 40,
   "metadata": {},
   "outputs": [
    {
     "data": {
      "image/png": "[encoded data removed]",
      "text/plain": [
       "<Figure size 432x288 with 1 Axes>"
      ]
     },
     "metadata": {
      "needs_background": "light"
     },
     "output_type": "display_data"
    }
   ],
   "source": [
    "draw(df, 'total_of_special_requests')"
   ]
  },
  {
   "cell_type": "markdown",
   "metadata": {},
   "source": [
    "Не делают дополнительных особых заказов."
   ]
  },
  {
   "cell_type": "code",
   "execution_count": 41,
   "metadata": {
    "scrolled": true
   },
   "outputs": [
    {
     "data": {
      "image/png": "[encoded data removed]",
      "text/plain": [
       "<Figure size 432x288 with 1 Axes>"
      ]
     },
     "metadata": {
      "needs_background": "light"
     },
     "output_type": "display_data"
    }
   ],
   "source": [
    "draw(df, 'booking_changes')"
   ]
  },
  {
   "cell_type": "markdown",
   "metadata": {},
   "source": [
    "И редко редактируют бронь."
   ]
  },
  {
   "cell_type": "markdown",
   "metadata": {},
   "source": [
    "Итого:\n",
    "\n",
    "* В основном, \"ненадежные\" клиенты от \"надежных\" не имеют серьезных отличий.\n",
    "* Из заметного:\n",
    "** Чаще бронированируют заранее.\n",
    "** Реже редактируют бронь.\n",
    "** Реже делают особые заказы.\n",
    "** Обходятся без личного автомобиля.\n",
    "** В качестве канала распространения чаще используют TA/TO.\n",
    "** Чаще берут номер на две ночи."
   ]
  },
  {
   "cell_type": "markdown",
   "metadata": {},
   "source": [
    "### Шаг 6. Напишите общий вывод"
   ]
  },
  {
   "cell_type": "markdown",
   "metadata": {},
   "source": [
    "* Исходные данные были высокого качества и потребовали лишь стандартную обработку для использования в обучении моделей.\n",
    "* Перебором гиперпараметров и кросс-валидацией была найдена модель, которая должна удовлетворить пожеланию заказчика:\n",
    "** использование модели покроет бюджет системы уже в первый месяц использования;\n",
    "** модель обладает высокой точностью: по тестовым данным меньше 10% надежных клиентов получило бы запрос на депозит.\n",
    "* В целом, введение депозитов с получившейся моделью позволит компенсировать порядка 50% потерь от отмены броней."
   ]
  }
 ],
 "metadata": {
  "ExecuteTimeLog": [
   {
    "duration": 379,
    "start_time": "2023-06-06T14:40:39.896Z"
   },
   {
    "duration": 1163,
    "start_time": "2023-06-06T14:41:08.891Z"
   },
   {
    "duration": 48,
    "start_time": "2023-06-06T14:41:24.782Z"
   },
   {
    "duration": 24,
    "start_time": "2023-06-06T14:41:30.396Z"
   },
   {
    "duration": 40,
    "start_time": "2023-06-06T14:41:40.060Z"
   },
   {
    "duration": 37,
    "start_time": "2023-06-06T14:46:52.784Z"
   },
   {
    "duration": 54,
    "start_time": "2023-06-07T02:43:16.139Z"
   },
   {
    "duration": 343,
    "start_time": "2023-06-07T02:43:18.935Z"
   },
   {
    "duration": 3,
    "start_time": "2023-06-07T02:43:20.164Z"
   },
   {
    "duration": 437,
    "start_time": "2023-06-07T02:43:21.796Z"
   },
   {
    "duration": 44,
    "start_time": "2023-06-07T02:43:23.963Z"
   },
   {
    "duration": 42,
    "start_time": "2023-06-07T02:43:27.383Z"
   },
   {
    "duration": 43,
    "start_time": "2023-06-07T02:46:50.875Z"
   },
   {
    "duration": 61,
    "start_time": "2023-06-07T03:08:16.050Z"
   },
   {
    "duration": 48,
    "start_time": "2023-06-07T03:10:05.323Z"
   },
   {
    "duration": 15,
    "start_time": "2023-06-07T03:11:31.101Z"
   },
   {
    "duration": 150,
    "start_time": "2023-06-07T03:14:23.308Z"
   },
   {
    "duration": 12,
    "start_time": "2023-06-07T03:14:28.111Z"
   },
   {
    "duration": 13,
    "start_time": "2023-06-07T03:14:56.013Z"
   },
   {
    "duration": 13,
    "start_time": "2023-06-07T03:16:18.725Z"
   },
   {
    "duration": 5,
    "start_time": "2023-06-07T03:18:56.375Z"
   },
   {
    "duration": 4,
    "start_time": "2023-06-07T03:19:04.335Z"
   },
   {
    "duration": 5,
    "start_time": "2023-06-07T03:19:31.858Z"
   },
   {
    "duration": 7,
    "start_time": "2023-06-07T03:20:03.761Z"
   },
   {
    "duration": 6,
    "start_time": "2023-06-07T03:20:16.213Z"
   },
   {
    "duration": 5,
    "start_time": "2023-06-07T03:20:36.845Z"
   },
   {
    "duration": 5,
    "start_time": "2023-06-07T03:20:54.447Z"
   },
   {
    "duration": 6,
    "start_time": "2023-06-07T03:21:07.824Z"
   },
   {
    "duration": 4,
    "start_time": "2023-06-07T03:21:14.830Z"
   },
   {
    "duration": 61,
    "start_time": "2023-06-07T03:25:48.691Z"
   },
   {
    "duration": 9,
    "start_time": "2023-06-07T03:25:55.216Z"
   },
   {
    "duration": 18,
    "start_time": "2023-06-07T03:27:53.931Z"
   },
   {
    "duration": 2,
    "start_time": "2023-06-07T03:35:20.850Z"
   },
   {
    "duration": 32,
    "start_time": "2023-06-07T03:43:53.309Z"
   },
   {
    "duration": 31,
    "start_time": "2023-06-07T03:44:02.996Z"
   },
   {
    "duration": 29,
    "start_time": "2023-06-07T03:44:20.004Z"
   },
   {
    "duration": 25,
    "start_time": "2023-06-07T03:46:16.949Z"
   },
   {
    "duration": 3,
    "start_time": "2023-06-07T03:50:10.357Z"
   },
   {
    "duration": 16,
    "start_time": "2023-06-07T04:30:41.981Z"
   },
   {
    "duration": 7,
    "start_time": "2023-06-07T04:30:51.557Z"
   },
   {
    "duration": 8,
    "start_time": "2023-06-07T04:31:01.335Z"
   },
   {
    "duration": 7,
    "start_time": "2023-06-07T04:31:08.868Z"
   },
   {
    "duration": 5,
    "start_time": "2023-06-07T04:31:29.554Z"
   },
   {
    "duration": 5,
    "start_time": "2023-06-07T04:32:53.633Z"
   },
   {
    "duration": 9,
    "start_time": "2023-06-07T04:37:42.757Z"
   },
   {
    "duration": 10,
    "start_time": "2023-06-07T04:37:43.756Z"
   },
   {
    "duration": 5,
    "start_time": "2023-06-07T04:37:48.896Z"
   },
   {
    "duration": 4,
    "start_time": "2023-06-07T04:37:52.248Z"
   },
   {
    "duration": 5,
    "start_time": "2023-06-07T04:37:55.078Z"
   },
   {
    "duration": 28,
    "start_time": "2023-06-07T04:41:54.989Z"
   },
   {
    "duration": 10,
    "start_time": "2023-06-07T04:42:03.739Z"
   },
   {
    "duration": 10,
    "start_time": "2023-06-07T04:42:22.062Z"
   },
   {
    "duration": 16,
    "start_time": "2023-06-07T04:42:32.978Z"
   },
   {
    "duration": 14,
    "start_time": "2023-06-07T04:42:58.762Z"
   },
   {
    "duration": 14,
    "start_time": "2023-06-07T04:43:22.996Z"
   },
   {
    "duration": 18,
    "start_time": "2023-06-07T04:44:13.424Z"
   },
   {
    "duration": 26,
    "start_time": "2023-06-07T04:44:40.395Z"
   },
   {
    "duration": 64,
    "start_time": "2023-06-07T04:45:40.601Z"
   },
   {
    "duration": 387,
    "start_time": "2023-06-07T04:45:49.791Z"
   },
   {
    "duration": 575,
    "start_time": "2023-06-07T04:45:50.180Z"
   },
   {
    "duration": 49,
    "start_time": "2023-06-07T04:45:50.757Z"
   },
   {
    "duration": 34,
    "start_time": "2023-06-07T04:45:50.807Z"
   },
   {
    "duration": 5,
    "start_time": "2023-06-07T04:45:50.842Z"
   },
   {
    "duration": 30,
    "start_time": "2023-06-07T04:45:50.848Z"
   },
   {
    "duration": 38,
    "start_time": "2023-06-07T04:45:50.879Z"
   },
   {
    "duration": 26,
    "start_time": "2023-06-07T04:45:50.918Z"
   },
   {
    "duration": 18,
    "start_time": "2023-06-07T04:45:50.945Z"
   },
   {
    "duration": 19,
    "start_time": "2023-06-07T04:45:54.781Z"
   },
   {
    "duration": 40,
    "start_time": "2023-06-07T04:46:20.220Z"
   },
   {
    "duration": 13,
    "start_time": "2023-06-07T04:46:30.316Z"
   },
   {
    "duration": 10,
    "start_time": "2023-06-07T04:46:37.514Z"
   },
   {
    "duration": 23,
    "start_time": "2023-06-07T04:46:46.235Z"
   },
   {
    "duration": 57,
    "start_time": "2023-06-07T04:46:53.685Z"
   },
   {
    "duration": 16,
    "start_time": "2023-06-07T04:47:16.517Z"
   },
   {
    "duration": 16,
    "start_time": "2023-06-07T04:47:34.637Z"
   },
   {
    "duration": 2,
    "start_time": "2023-06-07T04:51:05.151Z"
   },
   {
    "duration": 21,
    "start_time": "2023-06-07T04:51:12.859Z"
   },
   {
    "duration": 608,
    "start_time": "2023-06-07T04:51:45.000Z"
   },
   {
    "duration": 40,
    "start_time": "2023-06-07T04:51:52.799Z"
   },
   {
    "duration": 1119,
    "start_time": "2023-06-07T06:59:32.521Z"
   },
   {
    "duration": 864,
    "start_time": "2023-06-07T06:59:33.642Z"
   },
   {
    "duration": 47,
    "start_time": "2023-06-07T06:59:34.508Z"
   },
   {
    "duration": 37,
    "start_time": "2023-06-07T06:59:34.565Z"
   },
   {
    "duration": 5,
    "start_time": "2023-06-07T06:59:34.603Z"
   },
   {
    "duration": 38,
    "start_time": "2023-06-07T06:59:34.610Z"
   },
   {
    "duration": 24,
    "start_time": "2023-06-07T06:59:34.649Z"
   },
   {
    "duration": 22,
    "start_time": "2023-06-07T06:59:34.675Z"
   },
   {
    "duration": 13,
    "start_time": "2023-06-07T06:59:34.699Z"
   },
   {
    "duration": 52,
    "start_time": "2023-06-07T06:59:34.715Z"
   },
   {
    "duration": 11,
    "start_time": "2023-06-07T06:59:34.770Z"
   },
   {
    "duration": 4,
    "start_time": "2023-06-07T07:07:26.672Z"
   },
   {
    "duration": 148,
    "start_time": "2023-06-07T07:19:05.428Z"
   },
   {
    "duration": 18,
    "start_time": "2023-06-07T07:19:11.785Z"
   },
   {
    "duration": 35,
    "start_time": "2023-06-07T07:19:20.503Z"
   },
   {
    "duration": 104,
    "start_time": "2023-06-07T07:20:09.407Z"
   },
   {
    "duration": 291,
    "start_time": "2023-06-07T07:20:20.521Z"
   },
   {
    "duration": 235,
    "start_time": "2023-06-07T07:21:04.682Z"
   },
   {
    "duration": 80,
    "start_time": "2023-06-07T07:21:15.255Z"
   },
   {
    "duration": 3,
    "start_time": "2023-06-07T07:21:25.818Z"
   },
   {
    "duration": 362,
    "start_time": "2023-06-07T07:21:25.824Z"
   },
   {
    "duration": 49,
    "start_time": "2023-06-07T07:21:26.190Z"
   },
   {
    "duration": 50,
    "start_time": "2023-06-07T07:21:26.241Z"
   },
   {
    "duration": 7,
    "start_time": "2023-06-07T07:21:26.293Z"
   },
   {
    "duration": 25,
    "start_time": "2023-06-07T07:21:26.302Z"
   },
   {
    "duration": 16,
    "start_time": "2023-06-07T07:21:26.329Z"
   },
   {
    "duration": 43,
    "start_time": "2023-06-07T07:21:26.346Z"
   },
   {
    "duration": 55,
    "start_time": "2023-06-07T07:21:30.702Z"
   },
   {
    "duration": 3,
    "start_time": "2023-06-07T07:22:05.021Z"
   },
   {
    "duration": 347,
    "start_time": "2023-06-07T07:22:05.028Z"
   },
   {
    "duration": 53,
    "start_time": "2023-06-07T07:22:05.383Z"
   },
   {
    "duration": 66,
    "start_time": "2023-06-07T07:22:05.438Z"
   },
   {
    "duration": 7,
    "start_time": "2023-06-07T07:22:05.507Z"
   },
   {
    "duration": 17,
    "start_time": "2023-06-07T07:22:05.516Z"
   },
   {
    "duration": 56,
    "start_time": "2023-06-07T07:22:05.535Z"
   },
   {
    "duration": 17,
    "start_time": "2023-06-07T07:22:05.599Z"
   },
   {
    "duration": 63,
    "start_time": "2023-06-07T07:22:07.286Z"
   },
   {
    "duration": 31,
    "start_time": "2023-06-07T07:22:13.312Z"
   },
   {
    "duration": 31,
    "start_time": "2023-06-07T07:22:25.313Z"
   },
   {
    "duration": 36,
    "start_time": "2023-06-07T07:22:41.604Z"
   },
   {
    "duration": 49,
    "start_time": "2023-06-07T07:23:43.592Z"
   },
   {
    "duration": 60,
    "start_time": "2023-06-07T07:23:49.275Z"
   },
   {
    "duration": 48,
    "start_time": "2023-06-07T07:24:29.286Z"
   },
   {
    "duration": 31,
    "start_time": "2023-06-07T07:25:50.701Z"
   },
   {
    "duration": 33,
    "start_time": "2023-06-07T07:26:47.454Z"
   },
   {
    "duration": 1798,
    "start_time": "2023-06-07T07:27:04.343Z"
   },
   {
    "duration": 72,
    "start_time": "2023-06-07T07:27:17.412Z"
   },
   {
    "duration": 74,
    "start_time": "2023-06-07T07:28:11.058Z"
   },
   {
    "duration": 32,
    "start_time": "2023-06-07T07:32:11.372Z"
   },
   {
    "duration": 67,
    "start_time": "2023-06-07T07:32:47.774Z"
   },
   {
    "duration": 62,
    "start_time": "2023-06-07T07:32:50.205Z"
   },
   {
    "duration": 55,
    "start_time": "2023-06-07T07:33:03.254Z"
   },
   {
    "duration": 9,
    "start_time": "2023-06-07T07:33:06.587Z"
   },
   {
    "duration": 55,
    "start_time": "2023-06-07T07:33:08.250Z"
   },
   {
    "duration": 35,
    "start_time": "2023-06-07T07:33:15.868Z"
   },
   {
    "duration": 85,
    "start_time": "2023-06-07T07:35:08.556Z"
   },
   {
    "duration": 58,
    "start_time": "2023-06-07T07:36:01.851Z"
   },
   {
    "duration": 41,
    "start_time": "2023-06-07T07:36:09.190Z"
   },
   {
    "duration": 46,
    "start_time": "2023-06-07T07:36:26.017Z"
   },
   {
    "duration": 53,
    "start_time": "2023-06-07T07:36:46.981Z"
   },
   {
    "duration": 30,
    "start_time": "2023-06-07T07:36:53.910Z"
   },
   {
    "duration": 133,
    "start_time": "2023-06-07T07:37:03.285Z"
   },
   {
    "duration": 188,
    "start_time": "2023-06-07T07:37:21.004Z"
   },
   {
    "duration": 158,
    "start_time": "2023-06-07T07:37:32.831Z"
   },
   {
    "duration": 66,
    "start_time": "2023-06-07T07:43:18.451Z"
   },
   {
    "duration": 40,
    "start_time": "2023-06-07T07:43:27.509Z"
   },
   {
    "duration": 55,
    "start_time": "2023-06-07T07:44:11.720Z"
   },
   {
    "duration": 47,
    "start_time": "2023-06-07T07:46:02.940Z"
   },
   {
    "duration": 306,
    "start_time": "2023-06-07T07:47:38.839Z"
   },
   {
    "duration": 359,
    "start_time": "2023-06-07T07:48:07.398Z"
   },
   {
    "duration": 4327,
    "start_time": "2023-06-07T07:49:07.573Z"
   },
   {
    "duration": 238,
    "start_time": "2023-06-07T07:49:39.677Z"
   },
   {
    "duration": 124,
    "start_time": "2023-06-07T07:49:56.957Z"
   },
   {
    "duration": 4450,
    "start_time": "2023-06-07T07:50:14.834Z"
   },
   {
    "duration": 143,
    "start_time": "2023-06-07T07:50:33.615Z"
   },
   {
    "duration": 4122,
    "start_time": "2023-06-07T07:50:56.732Z"
   },
   {
    "duration": 97,
    "start_time": "2023-06-07T07:52:49.933Z"
   },
   {
    "duration": 4335,
    "start_time": "2023-06-07T07:53:09.202Z"
   },
   {
    "duration": 4232,
    "start_time": "2023-06-07T07:54:12.091Z"
   },
   {
    "duration": 3668,
    "start_time": "2023-06-07T07:54:32.183Z"
   },
   {
    "duration": 4062,
    "start_time": "2023-06-07T07:54:51.929Z"
   },
   {
    "duration": 4007,
    "start_time": "2023-06-07T07:55:04.071Z"
   },
   {
    "duration": 3968,
    "start_time": "2023-06-07T07:55:34.306Z"
   },
   {
    "duration": 115,
    "start_time": "2023-06-07T07:56:06.275Z"
   },
   {
    "duration": 21,
    "start_time": "2023-06-07T07:56:53.314Z"
   },
   {
    "duration": 20,
    "start_time": "2023-06-07T07:57:29.793Z"
   },
   {
    "duration": 29,
    "start_time": "2023-06-07T07:57:43.739Z"
   },
   {
    "duration": 27,
    "start_time": "2023-06-07T07:57:58.927Z"
   },
   {
    "duration": 59,
    "start_time": "2023-06-07T07:58:05.783Z"
   },
   {
    "duration": 55,
    "start_time": "2023-06-07T07:58:14.124Z"
   },
   {
    "duration": 18694,
    "start_time": "2023-06-07T07:58:31.612Z"
   },
   {
    "duration": 16946,
    "start_time": "2023-06-07T07:58:56.093Z"
   },
   {
    "duration": 175,
    "start_time": "2023-06-07T08:00:12.380Z"
   },
   {
    "duration": 20275,
    "start_time": "2023-06-07T08:00:23.012Z"
   },
   {
    "duration": 88,
    "start_time": "2023-06-07T08:01:12.995Z"
   },
   {
    "duration": 118,
    "start_time": "2023-06-07T08:01:20.249Z"
   },
   {
    "duration": 90,
    "start_time": "2023-06-07T08:01:28.581Z"
   },
   {
    "duration": 75,
    "start_time": "2023-06-07T08:01:35.834Z"
   },
   {
    "duration": 58,
    "start_time": "2023-06-07T08:02:04.524Z"
   },
   {
    "duration": 68,
    "start_time": "2023-06-07T08:02:21.231Z"
   },
   {
    "duration": 0,
    "start_time": "2023-06-07T08:03:34.782Z"
   },
   {
    "duration": 10675,
    "start_time": "2023-06-07T08:03:57.184Z"
   },
   {
    "duration": 21704,
    "start_time": "2023-06-07T08:04:19.925Z"
   },
   {
    "duration": 72,
    "start_time": "2023-06-07T08:05:05.148Z"
   },
   {
    "duration": 0,
    "start_time": "2023-06-07T08:05:29.172Z"
   },
   {
    "duration": 1060,
    "start_time": "2023-06-07T09:42:09.555Z"
   },
   {
    "duration": 890,
    "start_time": "2023-06-07T09:42:10.617Z"
   },
   {
    "duration": 48,
    "start_time": "2023-06-07T09:42:11.509Z"
   },
   {
    "duration": 33,
    "start_time": "2023-06-07T09:42:11.559Z"
   },
   {
    "duration": 6,
    "start_time": "2023-06-07T09:42:11.595Z"
   },
   {
    "duration": 31,
    "start_time": "2023-06-07T09:42:11.603Z"
   },
   {
    "duration": 56,
    "start_time": "2023-06-07T09:42:11.635Z"
   },
   {
    "duration": 85,
    "start_time": "2023-06-07T09:42:11.693Z"
   },
   {
    "duration": 3,
    "start_time": "2023-06-07T09:42:11.781Z"
   },
   {
    "duration": 59,
    "start_time": "2023-06-07T09:42:11.786Z"
   },
   {
    "duration": 135,
    "start_time": "2023-06-07T09:42:11.847Z"
   },
   {
    "duration": 1,
    "start_time": "2023-06-07T09:42:11.983Z"
   },
   {
    "duration": 0,
    "start_time": "2023-06-07T09:42:11.985Z"
   },
   {
    "duration": 0,
    "start_time": "2023-06-07T09:42:11.986Z"
   },
   {
    "duration": 20863,
    "start_time": "2023-06-07T09:43:56.255Z"
   },
   {
    "duration": 21149,
    "start_time": "2023-06-07T09:45:46.427Z"
   },
   {
    "duration": 33,
    "start_time": "2023-06-07T09:46:14.537Z"
   },
   {
    "duration": 36,
    "start_time": "2023-06-07T09:46:50.435Z"
   },
   {
    "duration": 34,
    "start_time": "2023-06-07T09:48:25.613Z"
   },
   {
    "duration": 42,
    "start_time": "2023-06-07T09:48:34.088Z"
   },
   {
    "duration": 33,
    "start_time": "2023-06-07T09:48:43.486Z"
   },
   {
    "duration": 32,
    "start_time": "2023-06-07T09:48:48.601Z"
   },
   {
    "duration": 33,
    "start_time": "2023-06-07T09:48:56.046Z"
   },
   {
    "duration": 35,
    "start_time": "2023-06-07T09:49:05.605Z"
   },
   {
    "duration": 35,
    "start_time": "2023-06-07T09:49:24.395Z"
   },
   {
    "duration": 36,
    "start_time": "2023-06-07T09:49:30.415Z"
   },
   {
    "duration": 39,
    "start_time": "2023-06-07T09:49:38.608Z"
   },
   {
    "duration": 35,
    "start_time": "2023-06-07T09:49:59.779Z"
   },
   {
    "duration": 34,
    "start_time": "2023-06-07T09:50:10.208Z"
   },
   {
    "duration": 34,
    "start_time": "2023-06-07T09:51:48.363Z"
   },
   {
    "duration": 33,
    "start_time": "2023-06-07T09:52:00.145Z"
   },
   {
    "duration": 45,
    "start_time": "2023-06-07T09:52:04.148Z"
   },
   {
    "duration": 35,
    "start_time": "2023-06-07T09:52:08.709Z"
   },
   {
    "duration": 35,
    "start_time": "2023-06-07T09:52:12.214Z"
   },
   {
    "duration": 33,
    "start_time": "2023-06-07T09:52:42.572Z"
   },
   {
    "duration": 34,
    "start_time": "2023-06-07T09:52:49.817Z"
   },
   {
    "duration": 13,
    "start_time": "2023-06-07T09:54:08.116Z"
   },
   {
    "duration": 12,
    "start_time": "2023-06-07T09:54:28.587Z"
   },
   {
    "duration": 28,
    "start_time": "2023-06-07T09:54:38.479Z"
   },
   {
    "duration": 30,
    "start_time": "2023-06-07T09:55:00.086Z"
   },
   {
    "duration": 36,
    "start_time": "2023-06-07T09:55:14.324Z"
   },
   {
    "duration": 36,
    "start_time": "2023-06-07T09:55:35.171Z"
   },
   {
    "duration": 58,
    "start_time": "2023-06-07T09:56:20.684Z"
   },
   {
    "duration": 39,
    "start_time": "2023-06-07T09:57:34.199Z"
   },
   {
    "duration": 19,
    "start_time": "2023-06-07T10:01:07.288Z"
   },
   {
    "duration": 1102,
    "start_time": "2023-06-07T10:01:22.221Z"
   },
   {
    "duration": 216,
    "start_time": "2023-06-07T10:01:23.326Z"
   },
   {
    "duration": 47,
    "start_time": "2023-06-07T10:01:23.543Z"
   },
   {
    "duration": 32,
    "start_time": "2023-06-07T10:01:23.592Z"
   },
   {
    "duration": 26,
    "start_time": "2023-06-07T10:01:23.626Z"
   },
   {
    "duration": 16,
    "start_time": "2023-06-07T10:01:23.653Z"
   },
   {
    "duration": 43,
    "start_time": "2023-06-07T10:01:23.671Z"
   },
   {
    "duration": 93,
    "start_time": "2023-06-07T10:01:23.715Z"
   },
   {
    "duration": 3,
    "start_time": "2023-06-07T10:01:23.810Z"
   },
   {
    "duration": 22,
    "start_time": "2023-06-07T10:01:23.815Z"
   },
   {
    "duration": 44,
    "start_time": "2023-06-07T10:01:23.839Z"
   },
   {
    "duration": 5,
    "start_time": "2023-06-07T10:01:23.884Z"
   },
   {
    "duration": 67,
    "start_time": "2023-06-07T10:01:23.891Z"
   },
   {
    "duration": 3,
    "start_time": "2023-06-07T10:01:23.960Z"
   },
   {
    "duration": 31,
    "start_time": "2023-06-07T10:02:18.364Z"
   },
   {
    "duration": 119,
    "start_time": "2023-06-07T10:02:54.448Z"
   },
   {
    "duration": 112,
    "start_time": "2023-06-07T10:03:24.965Z"
   },
   {
    "duration": 102,
    "start_time": "2023-06-07T10:04:04.700Z"
   },
   {
    "duration": 4,
    "start_time": "2023-06-07T10:04:07.100Z"
   },
   {
    "duration": 96,
    "start_time": "2023-06-07T10:04:08.985Z"
   },
   {
    "duration": 1021,
    "start_time": "2023-06-07T10:04:28.190Z"
   },
   {
    "duration": 234,
    "start_time": "2023-06-07T10:04:29.213Z"
   },
   {
    "duration": 49,
    "start_time": "2023-06-07T10:04:29.449Z"
   },
   {
    "duration": 31,
    "start_time": "2023-06-07T10:04:29.500Z"
   },
   {
    "duration": 5,
    "start_time": "2023-06-07T10:04:29.551Z"
   },
   {
    "duration": 19,
    "start_time": "2023-06-07T10:04:29.558Z"
   },
   {
    "duration": 42,
    "start_time": "2023-06-07T10:04:29.579Z"
   },
   {
    "duration": 84,
    "start_time": "2023-06-07T10:04:29.622Z"
   },
   {
    "duration": 3,
    "start_time": "2023-06-07T10:04:29.708Z"
   },
   {
    "duration": 21,
    "start_time": "2023-06-07T10:04:29.713Z"
   },
   {
    "duration": 19,
    "start_time": "2023-06-07T10:04:29.736Z"
   },
   {
    "duration": 5,
    "start_time": "2023-06-07T10:04:29.757Z"
   },
   {
    "duration": 69,
    "start_time": "2023-06-07T10:04:29.764Z"
   },
   {
    "duration": 19,
    "start_time": "2023-06-07T10:04:29.834Z"
   },
   {
    "duration": 54,
    "start_time": "2023-06-07T10:04:29.855Z"
   },
   {
    "duration": 3,
    "start_time": "2023-06-07T10:04:29.911Z"
   },
   {
    "duration": 107,
    "start_time": "2023-06-07T10:04:46.524Z"
   },
   {
    "duration": 3,
    "start_time": "2023-06-07T10:04:58.651Z"
   },
   {
    "duration": 122,
    "start_time": "2023-06-07T10:05:01.132Z"
   },
   {
    "duration": 102,
    "start_time": "2023-06-07T10:05:05.381Z"
   },
   {
    "duration": 3,
    "start_time": "2023-06-07T10:05:22.549Z"
   },
   {
    "duration": 225,
    "start_time": "2023-06-07T10:05:22.554Z"
   },
   {
    "duration": 38,
    "start_time": "2023-06-07T10:05:22.781Z"
   },
   {
    "duration": 37,
    "start_time": "2023-06-07T10:05:22.822Z"
   },
   {
    "duration": 5,
    "start_time": "2023-06-07T10:05:22.860Z"
   },
   {
    "duration": 16,
    "start_time": "2023-06-07T10:05:22.866Z"
   },
   {
    "duration": 65,
    "start_time": "2023-06-07T10:05:22.884Z"
   },
   {
    "duration": 59,
    "start_time": "2023-06-07T10:05:22.951Z"
   },
   {
    "duration": 3,
    "start_time": "2023-06-07T10:05:23.012Z"
   },
   {
    "duration": 10,
    "start_time": "2023-06-07T10:05:23.017Z"
   },
   {
    "duration": 20,
    "start_time": "2023-06-07T10:05:27.295Z"
   },
   {
    "duration": 736,
    "start_time": "2023-06-07T10:05:32.135Z"
   },
   {
    "duration": 613,
    "start_time": "2023-06-07T10:06:23.442Z"
   },
   {
    "duration": 8,
    "start_time": "2023-06-07T10:06:34.091Z"
   },
   {
    "duration": 292,
    "start_time": "2023-06-07T10:06:42.482Z"
   },
   {
    "duration": 4,
    "start_time": "2023-06-07T10:12:39.339Z"
   },
   {
    "duration": 101,
    "start_time": "2023-06-07T10:28:10.322Z"
   },
   {
    "duration": 1088,
    "start_time": "2023-06-07T10:28:21.745Z"
   },
   {
    "duration": 223,
    "start_time": "2023-06-07T10:28:22.835Z"
   },
   {
    "duration": 49,
    "start_time": "2023-06-07T10:28:23.060Z"
   },
   {
    "duration": 49,
    "start_time": "2023-06-07T10:28:23.111Z"
   },
   {
    "duration": 5,
    "start_time": "2023-06-07T10:28:23.162Z"
   },
   {
    "duration": 27,
    "start_time": "2023-06-07T10:28:23.168Z"
   },
   {
    "duration": 64,
    "start_time": "2023-06-07T10:28:23.197Z"
   },
   {
    "duration": 61,
    "start_time": "2023-06-07T10:28:23.263Z"
   },
   {
    "duration": 4,
    "start_time": "2023-06-07T10:28:23.325Z"
   },
   {
    "duration": 28,
    "start_time": "2023-06-07T10:28:23.332Z"
   },
   {
    "duration": 21,
    "start_time": "2023-06-07T10:28:23.362Z"
   },
   {
    "duration": 4,
    "start_time": "2023-06-07T10:28:23.385Z"
   },
   {
    "duration": 671,
    "start_time": "2023-06-07T10:28:23.391Z"
   },
   {
    "duration": 6,
    "start_time": "2023-06-07T10:28:24.064Z"
   },
   {
    "duration": 328,
    "start_time": "2023-06-07T10:28:24.072Z"
   },
   {
    "duration": 2,
    "start_time": "2023-06-07T10:28:24.402Z"
   },
   {
    "duration": 6,
    "start_time": "2023-06-07T10:28:24.406Z"
   },
   {
    "duration": 3,
    "start_time": "2023-06-07T10:36:17.603Z"
   },
   {
    "duration": 3,
    "start_time": "2023-06-07T10:36:28.803Z"
   },
   {
    "duration": 231,
    "start_time": "2023-06-07T10:36:28.811Z"
   },
   {
    "duration": 39,
    "start_time": "2023-06-07T10:36:29.044Z"
   },
   {
    "duration": 31,
    "start_time": "2023-06-07T10:36:29.085Z"
   },
   {
    "duration": 5,
    "start_time": "2023-06-07T10:36:29.118Z"
   },
   {
    "duration": 11,
    "start_time": "2023-06-07T10:36:29.151Z"
   },
   {
    "duration": 7,
    "start_time": "2023-06-07T10:36:29.163Z"
   },
   {
    "duration": 94,
    "start_time": "2023-06-07T10:36:48.515Z"
   },
   {
    "duration": 402,
    "start_time": "2023-06-07T10:36:54.605Z"
   },
   {
    "duration": 12,
    "start_time": "2023-06-07T10:37:47.308Z"
   },
   {
    "duration": 10,
    "start_time": "2023-06-07T10:39:16.860Z"
   },
   {
    "duration": 5,
    "start_time": "2023-06-07T10:39:21.918Z"
   },
   {
    "duration": 2317,
    "start_time": "2023-06-07T10:39:23.746Z"
   },
   {
    "duration": 4,
    "start_time": "2023-06-07T10:39:49.343Z"
   },
   {
    "duration": 5,
    "start_time": "2023-06-07T10:40:14.288Z"
   },
   {
    "duration": 1689,
    "start_time": "2023-06-07T10:40:19.291Z"
   },
   {
    "duration": 5,
    "start_time": "2023-06-07T10:41:03.830Z"
   },
   {
    "duration": 4,
    "start_time": "2023-06-07T10:41:19.088Z"
   },
   {
    "duration": 1766,
    "start_time": "2023-06-07T10:41:23.990Z"
   },
   {
    "duration": 5,
    "start_time": "2023-06-07T11:49:12.199Z"
   },
   {
    "duration": 13,
    "start_time": "2023-06-07T11:49:22.373Z"
   },
   {
    "duration": 13,
    "start_time": "2023-06-07T11:49:50.996Z"
   },
   {
    "duration": 11,
    "start_time": "2023-06-07T11:50:09.411Z"
   },
   {
    "duration": 7,
    "start_time": "2023-06-07T11:50:19.209Z"
   },
   {
    "duration": 13,
    "start_time": "2023-06-07T11:50:23.684Z"
   },
   {
    "duration": 11,
    "start_time": "2023-06-07T11:51:02.888Z"
   },
   {
    "duration": 7,
    "start_time": "2023-06-07T11:51:35.546Z"
   },
   {
    "duration": 9,
    "start_time": "2023-06-07T11:51:41.197Z"
   },
   {
    "duration": 14,
    "start_time": "2023-06-07T11:52:32.107Z"
   },
   {
    "duration": 14,
    "start_time": "2023-06-07T11:52:44.682Z"
   },
   {
    "duration": 17,
    "start_time": "2023-06-07T11:52:54.772Z"
   },
   {
    "duration": 21,
    "start_time": "2023-06-07T11:52:58.790Z"
   },
   {
    "duration": 15,
    "start_time": "2023-06-07T11:53:04.973Z"
   },
   {
    "duration": 14,
    "start_time": "2023-06-07T11:53:10.308Z"
   },
   {
    "duration": 14,
    "start_time": "2023-06-07T11:53:14.245Z"
   },
   {
    "duration": 17,
    "start_time": "2023-06-07T11:53:35.120Z"
   },
   {
    "duration": 11,
    "start_time": "2023-06-07T11:53:38.877Z"
   },
   {
    "duration": 16,
    "start_time": "2023-06-07T11:53:44.735Z"
   },
   {
    "duration": 11,
    "start_time": "2023-06-07T11:53:48.655Z"
   },
   {
    "duration": 12,
    "start_time": "2023-06-07T11:54:18.421Z"
   },
   {
    "duration": 12,
    "start_time": "2023-06-07T11:54:31.121Z"
   },
   {
    "duration": 10,
    "start_time": "2023-06-07T11:55:25.150Z"
   },
   {
    "duration": 11,
    "start_time": "2023-06-07T11:55:32.111Z"
   },
   {
    "duration": 11,
    "start_time": "2023-06-07T11:55:39.848Z"
   },
   {
    "duration": 11,
    "start_time": "2023-06-07T11:55:44.562Z"
   },
   {
    "duration": 14,
    "start_time": "2023-06-07T11:55:56.272Z"
   },
   {
    "duration": 12,
    "start_time": "2023-06-07T11:56:00.872Z"
   },
   {
    "duration": 13,
    "start_time": "2023-06-07T11:56:03.770Z"
   },
   {
    "duration": 184,
    "start_time": "2023-06-07T12:04:23.557Z"
   },
   {
    "duration": 1638,
    "start_time": "2023-06-07T12:05:05.762Z"
   },
   {
    "duration": 1543,
    "start_time": "2023-06-07T12:05:14.756Z"
   },
   {
    "duration": 1638,
    "start_time": "2023-06-07T12:05:30.179Z"
   },
   {
    "duration": 14,
    "start_time": "2023-06-07T12:07:17.354Z"
   },
   {
    "duration": 226,
    "start_time": "2023-06-07T12:07:35.185Z"
   },
   {
    "duration": 4,
    "start_time": "2023-06-07T12:07:59.323Z"
   },
   {
    "duration": 262,
    "start_time": "2023-06-07T12:08:15.278Z"
   },
   {
    "duration": 16,
    "start_time": "2023-06-07T12:15:17.195Z"
   },
   {
    "duration": 17,
    "start_time": "2023-06-07T12:15:25.662Z"
   },
   {
    "duration": 3,
    "start_time": "2023-06-07T12:15:33.256Z"
   },
   {
    "duration": 241,
    "start_time": "2023-06-07T12:15:33.262Z"
   },
   {
    "duration": 39,
    "start_time": "2023-06-07T12:15:33.505Z"
   },
   {
    "duration": 36,
    "start_time": "2023-06-07T12:15:33.545Z"
   },
   {
    "duration": 6,
    "start_time": "2023-06-07T12:15:33.582Z"
   },
   {
    "duration": 24,
    "start_time": "2023-06-07T12:15:33.589Z"
   },
   {
    "duration": 2,
    "start_time": "2023-06-07T12:15:33.615Z"
   },
   {
    "duration": 7,
    "start_time": "2023-06-07T12:15:33.619Z"
   },
   {
    "duration": 1949,
    "start_time": "2023-06-07T12:15:33.628Z"
   },
   {
    "duration": 36,
    "start_time": "2023-06-07T12:15:35.579Z"
   },
   {
    "duration": 77,
    "start_time": "2023-06-07T12:15:35.616Z"
   },
   {
    "duration": 2,
    "start_time": "2023-06-07T12:15:35.695Z"
   },
   {
    "duration": 12,
    "start_time": "2023-06-07T12:15:35.699Z"
   },
   {
    "duration": 35,
    "start_time": "2023-06-07T12:15:35.712Z"
   },
   {
    "duration": 5,
    "start_time": "2023-06-07T12:15:35.748Z"
   },
   {
    "duration": 681,
    "start_time": "2023-06-07T12:15:35.754Z"
   },
   {
    "duration": 6,
    "start_time": "2023-06-07T12:15:41.468Z"
   },
   {
    "duration": 285,
    "start_time": "2023-06-07T12:15:48.814Z"
   },
   {
    "duration": 182,
    "start_time": "2023-06-07T12:16:05.606Z"
   },
   {
    "duration": 1379,
    "start_time": "2023-06-08T01:35:40.305Z"
   },
   {
    "duration": 448,
    "start_time": "2023-06-08T01:35:41.686Z"
   },
   {
    "duration": 44,
    "start_time": "2023-06-08T01:35:42.136Z"
   },
   {
    "duration": 31,
    "start_time": "2023-06-08T01:35:42.182Z"
   },
   {
    "duration": 5,
    "start_time": "2023-06-08T01:35:42.214Z"
   },
   {
    "duration": 36,
    "start_time": "2023-06-08T01:35:42.220Z"
   },
   {
    "duration": 3,
    "start_time": "2023-06-08T01:35:42.258Z"
   },
   {
    "duration": 10,
    "start_time": "2023-06-08T01:35:42.262Z"
   },
   {
    "duration": 1623,
    "start_time": "2023-06-08T01:35:42.274Z"
   },
   {
    "duration": 37,
    "start_time": "2023-06-08T01:35:43.900Z"
   },
   {
    "duration": 57,
    "start_time": "2023-06-08T01:35:43.940Z"
   },
   {
    "duration": 3,
    "start_time": "2023-06-08T01:35:43.998Z"
   },
   {
    "duration": 11,
    "start_time": "2023-06-08T01:35:44.002Z"
   },
   {
    "duration": 135,
    "start_time": "2023-06-08T01:35:44.015Z"
   },
   {
    "duration": 3,
    "start_time": "2023-06-08T01:35:44.152Z"
   },
   {
    "duration": 653,
    "start_time": "2023-06-08T01:35:44.157Z"
   },
   {
    "duration": 5,
    "start_time": "2023-06-08T01:35:44.812Z"
   },
   {
    "duration": 311,
    "start_time": "2023-06-08T01:35:44.819Z"
   },
   {
    "duration": 3,
    "start_time": "2023-06-08T01:35:45.131Z"
   },
   {
    "duration": 8,
    "start_time": "2023-06-08T01:35:45.141Z"
   },
   {
    "duration": 105,
    "start_time": "2023-06-08T01:35:45.151Z"
   },
   {
    "duration": 0,
    "start_time": "2023-06-08T01:35:45.258Z"
   },
   {
    "duration": 6,
    "start_time": "2023-06-08T01:37:18.896Z"
   },
   {
    "duration": 5,
    "start_time": "2023-06-08T01:37:21.065Z"
   },
   {
    "duration": 5,
    "start_time": "2023-06-08T01:37:23.297Z"
   },
   {
    "duration": 5,
    "start_time": "2023-06-08T01:40:20.350Z"
   },
   {
    "duration": 5,
    "start_time": "2023-06-08T01:41:00.972Z"
   },
   {
    "duration": 9,
    "start_time": "2023-06-08T01:41:20.798Z"
   },
   {
    "duration": 10,
    "start_time": "2023-06-08T01:45:25.188Z"
   },
   {
    "duration": 6,
    "start_time": "2023-06-08T01:45:57.058Z"
   },
   {
    "duration": 12,
    "start_time": "2023-06-08T01:46:24.735Z"
   },
   {
    "duration": 10,
    "start_time": "2023-06-08T01:46:37.174Z"
   },
   {
    "duration": 11,
    "start_time": "2023-06-08T01:46:41.693Z"
   },
   {
    "duration": 5,
    "start_time": "2023-06-08T01:47:03.528Z"
   },
   {
    "duration": 9,
    "start_time": "2023-06-08T01:48:06.396Z"
   },
   {
    "duration": 86,
    "start_time": "2023-06-08T01:48:23.054Z"
   },
   {
    "duration": 15,
    "start_time": "2023-06-08T01:48:32.008Z"
   },
   {
    "duration": 8,
    "start_time": "2023-06-08T01:49:33.081Z"
   },
   {
    "duration": 12,
    "start_time": "2023-06-08T01:53:20.507Z"
   },
   {
    "duration": 86,
    "start_time": "2023-06-08T01:53:51.863Z"
   },
   {
    "duration": 6,
    "start_time": "2023-06-08T01:54:31.005Z"
   },
   {
    "duration": 5,
    "start_time": "2023-06-08T01:54:42.241Z"
   },
   {
    "duration": 208,
    "start_time": "2023-06-08T01:54:51.087Z"
   },
   {
    "duration": 208,
    "start_time": "2023-06-08T01:55:09.534Z"
   },
   {
    "duration": 228,
    "start_time": "2023-06-08T01:55:18.203Z"
   },
   {
    "duration": 209,
    "start_time": "2023-06-08T01:55:22.340Z"
   },
   {
    "duration": 207,
    "start_time": "2023-06-08T01:55:26.744Z"
   },
   {
    "duration": 200,
    "start_time": "2023-06-08T01:55:36.982Z"
   },
   {
    "duration": 3,
    "start_time": "2023-06-08T01:57:02.860Z"
   },
   {
    "duration": 13,
    "start_time": "2023-06-08T01:57:15.735Z"
   },
   {
    "duration": 9,
    "start_time": "2023-06-08T01:57:39.930Z"
   },
   {
    "duration": 4,
    "start_time": "2023-06-08T01:57:50.833Z"
   },
   {
    "duration": 4,
    "start_time": "2023-06-08T01:57:52.583Z"
   },
   {
    "duration": 210,
    "start_time": "2023-06-08T01:59:18.993Z"
   },
   {
    "duration": 3,
    "start_time": "2023-06-08T01:59:25.975Z"
   },
   {
    "duration": 219,
    "start_time": "2023-06-08T01:59:27.506Z"
   },
   {
    "duration": 3,
    "start_time": "2023-06-08T01:59:35.539Z"
   },
   {
    "duration": 202,
    "start_time": "2023-06-08T01:59:37.147Z"
   },
   {
    "duration": 2,
    "start_time": "2023-06-08T01:59:46.826Z"
   },
   {
    "duration": 217,
    "start_time": "2023-06-08T01:59:48.291Z"
   },
   {
    "duration": 3,
    "start_time": "2023-06-08T02:00:01.301Z"
   },
   {
    "duration": 202,
    "start_time": "2023-06-08T02:00:03.369Z"
   },
   {
    "duration": 50,
    "start_time": "2023-06-08T02:01:54.973Z"
   },
   {
    "duration": 3,
    "start_time": "2023-06-08T02:02:01.207Z"
   },
   {
    "duration": 9,
    "start_time": "2023-06-08T02:03:26.401Z"
   },
   {
    "duration": 12,
    "start_time": "2023-06-08T02:03:35.299Z"
   },
   {
    "duration": 9,
    "start_time": "2023-06-08T02:03:39.475Z"
   },
   {
    "duration": 3,
    "start_time": "2023-06-08T02:04:20.566Z"
   },
   {
    "duration": 3,
    "start_time": "2023-06-08T02:04:22.899Z"
   },
   {
    "duration": 11,
    "start_time": "2023-06-08T02:04:27.295Z"
   },
   {
    "duration": 4,
    "start_time": "2023-06-08T02:04:39.367Z"
   },
   {
    "duration": 4,
    "start_time": "2023-06-08T02:04:41.450Z"
   },
   {
    "duration": 4,
    "start_time": "2023-06-08T02:09:46.109Z"
   },
   {
    "duration": 260,
    "start_time": "2023-06-08T02:09:46.115Z"
   },
   {
    "duration": 41,
    "start_time": "2023-06-08T02:09:46.377Z"
   },
   {
    "duration": 42,
    "start_time": "2023-06-08T02:09:46.420Z"
   },
   {
    "duration": 6,
    "start_time": "2023-06-08T02:09:46.463Z"
   },
   {
    "duration": 18,
    "start_time": "2023-06-08T02:09:46.470Z"
   },
   {
    "duration": 2,
    "start_time": "2023-06-08T02:09:46.490Z"
   },
   {
    "duration": 10,
    "start_time": "2023-06-08T02:09:46.493Z"
   },
   {
    "duration": 1688,
    "start_time": "2023-06-08T02:09:46.505Z"
   },
   {
    "duration": 52,
    "start_time": "2023-06-08T02:09:48.195Z"
   },
   {
    "duration": 74,
    "start_time": "2023-06-08T02:09:48.249Z"
   },
   {
    "duration": 3,
    "start_time": "2023-06-08T02:09:48.325Z"
   },
   {
    "duration": 17,
    "start_time": "2023-06-08T02:09:48.343Z"
   },
   {
    "duration": 10,
    "start_time": "2023-06-08T02:10:10.512Z"
   },
   {
    "duration": 10,
    "start_time": "2023-06-08T02:10:47.597Z"
   },
   {
    "duration": 4,
    "start_time": "2023-06-08T02:10:58.037Z"
   },
   {
    "duration": 3,
    "start_time": "2023-06-08T02:11:00.622Z"
   },
   {
    "duration": 3,
    "start_time": "2023-06-08T02:11:13.166Z"
   },
   {
    "duration": 13,
    "start_time": "2023-06-08T02:11:56.005Z"
   },
   {
    "duration": 4,
    "start_time": "2023-06-08T02:12:17.675Z"
   },
   {
    "duration": 622,
    "start_time": "2023-06-08T02:12:19.501Z"
   },
   {
    "duration": 711,
    "start_time": "2023-06-08T02:12:28.485Z"
   },
   {
    "duration": 530,
    "start_time": "2023-06-08T02:13:03.914Z"
   },
   {
    "duration": 812,
    "start_time": "2023-06-08T02:13:11.557Z"
   },
   {
    "duration": 110,
    "start_time": "2023-06-08T02:13:18.295Z"
   },
   {
    "duration": 5,
    "start_time": "2023-06-08T02:13:29.754Z"
   },
   {
    "duration": 4,
    "start_time": "2023-06-08T02:13:51.897Z"
   },
   {
    "duration": 5,
    "start_time": "2023-06-08T02:17:54.660Z"
   },
   {
    "duration": 5,
    "start_time": "2023-06-08T02:18:00.108Z"
   },
   {
    "duration": 5,
    "start_time": "2023-06-08T02:18:07.278Z"
   },
   {
    "duration": 5,
    "start_time": "2023-06-08T02:18:53.136Z"
   },
   {
    "duration": 486,
    "start_time": "2023-06-08T02:19:05.346Z"
   },
   {
    "duration": 120,
    "start_time": "2023-06-08T02:19:08.356Z"
   },
   {
    "duration": 26,
    "start_time": "2023-06-08T02:19:47.880Z"
   },
   {
    "duration": 5,
    "start_time": "2023-06-08T02:20:16.942Z"
   },
   {
    "duration": 513,
    "start_time": "2023-06-08T02:20:19.922Z"
   },
   {
    "duration": 29,
    "start_time": "2023-06-08T02:20:21.844Z"
   },
   {
    "duration": 273,
    "start_time": "2023-06-08T02:20:27.107Z"
   },
   {
    "duration": 6,
    "start_time": "2023-06-08T02:20:56.920Z"
   },
   {
    "duration": 4,
    "start_time": "2023-06-08T02:21:15.952Z"
   },
   {
    "duration": 1168,
    "start_time": "2023-06-08T02:21:23.052Z"
   },
   {
    "duration": 128,
    "start_time": "2023-06-08T02:21:39.647Z"
   },
   {
    "duration": 148,
    "start_time": "2023-06-08T02:21:50.055Z"
   },
   {
    "duration": 10,
    "start_time": "2023-06-08T02:22:02.218Z"
   },
   {
    "duration": 9,
    "start_time": "2023-06-08T02:22:35.266Z"
   },
   {
    "duration": 8,
    "start_time": "2023-06-08T02:22:42.173Z"
   },
   {
    "duration": 68,
    "start_time": "2023-06-08T02:22:47.005Z"
   },
   {
    "duration": 10,
    "start_time": "2023-06-08T02:22:54.546Z"
   },
   {
    "duration": 9,
    "start_time": "2023-06-08T02:23:07.039Z"
   },
   {
    "duration": 9,
    "start_time": "2023-06-08T02:25:21.074Z"
   },
   {
    "duration": 9,
    "start_time": "2023-06-08T02:25:31.878Z"
   },
   {
    "duration": 6,
    "start_time": "2023-06-08T02:25:37.393Z"
   },
   {
    "duration": 497,
    "start_time": "2023-06-08T02:25:38.650Z"
   },
   {
    "duration": 14,
    "start_time": "2023-06-08T02:25:40.100Z"
   },
   {
    "duration": 7,
    "start_time": "2023-06-08T02:26:09.345Z"
   },
   {
    "duration": 5,
    "start_time": "2023-06-08T02:26:18.603Z"
   },
   {
    "duration": 496,
    "start_time": "2023-06-08T02:26:21.716Z"
   },
   {
    "duration": 11,
    "start_time": "2023-06-08T02:26:23.431Z"
   },
   {
    "duration": 18,
    "start_time": "2023-06-08T02:26:46.983Z"
   },
   {
    "duration": 20,
    "start_time": "2023-06-08T02:26:59.686Z"
   },
   {
    "duration": 17,
    "start_time": "2023-06-08T02:27:16.715Z"
   },
   {
    "duration": 20,
    "start_time": "2023-06-08T02:27:27.521Z"
   },
   {
    "duration": 22,
    "start_time": "2023-06-08T02:27:37.733Z"
   },
   {
    "duration": 20,
    "start_time": "2023-06-08T02:28:14.464Z"
   },
   {
    "duration": 6,
    "start_time": "2023-06-08T02:28:51.071Z"
   },
   {
    "duration": 507,
    "start_time": "2023-06-08T02:28:53.055Z"
   },
   {
    "duration": 17,
    "start_time": "2023-06-08T02:28:56.670Z"
   },
   {
    "duration": 6,
    "start_time": "2023-06-08T02:29:10.639Z"
   },
   {
    "duration": 495,
    "start_time": "2023-06-08T02:29:12.341Z"
   },
   {
    "duration": 1380,
    "start_time": "2023-06-08T02:29:14.175Z"
   },
   {
    "duration": 5,
    "start_time": "2023-06-08T02:29:25.764Z"
   },
   {
    "duration": 502,
    "start_time": "2023-06-08T02:29:27.636Z"
   },
   {
    "duration": 16,
    "start_time": "2023-06-08T02:29:29.555Z"
   },
   {
    "duration": 5,
    "start_time": "2023-06-08T02:29:52.247Z"
   },
   {
    "duration": 527,
    "start_time": "2023-06-08T02:29:53.863Z"
   },
   {
    "duration": 13,
    "start_time": "2023-06-08T02:29:55.614Z"
   },
   {
    "duration": 23,
    "start_time": "2023-06-08T02:30:02.699Z"
   },
   {
    "duration": 16,
    "start_time": "2023-06-08T02:30:11.215Z"
   },
   {
    "duration": 16,
    "start_time": "2023-06-08T02:30:34.085Z"
   },
   {
    "duration": 160,
    "start_time": "2023-06-08T02:31:07.653Z"
   },
   {
    "duration": 5,
    "start_time": "2023-06-08T02:31:40.324Z"
   },
   {
    "duration": 491,
    "start_time": "2023-06-08T02:31:41.784Z"
   },
   {
    "duration": 197,
    "start_time": "2023-06-08T02:31:44.027Z"
   },
   {
    "duration": 5,
    "start_time": "2023-06-08T02:32:14.240Z"
   },
   {
    "duration": 509,
    "start_time": "2023-06-08T02:32:15.933Z"
   },
   {
    "duration": 154,
    "start_time": "2023-06-08T02:32:18.666Z"
   },
   {
    "duration": 10,
    "start_time": "2023-06-08T02:32:54.712Z"
   },
   {
    "duration": 5,
    "start_time": "2023-06-08T02:33:17.680Z"
   },
   {
    "duration": 510,
    "start_time": "2023-06-08T02:33:19.317Z"
   },
   {
    "duration": 19,
    "start_time": "2023-06-08T02:33:21.981Z"
   },
   {
    "duration": 5,
    "start_time": "2023-06-08T02:33:54.068Z"
   },
   {
    "duration": 502,
    "start_time": "2023-06-08T02:33:55.632Z"
   },
   {
    "duration": 15,
    "start_time": "2023-06-08T02:33:57.233Z"
   },
   {
    "duration": 11,
    "start_time": "2023-06-08T02:34:16.913Z"
   },
   {
    "duration": 498,
    "start_time": "2023-06-08T02:34:50.200Z"
   },
   {
    "duration": 18,
    "start_time": "2023-06-08T02:35:14.097Z"
   },
   {
    "duration": 3,
    "start_time": "2023-06-08T02:35:30.483Z"
   },
   {
    "duration": 254,
    "start_time": "2023-06-08T02:35:30.488Z"
   },
   {
    "duration": 40,
    "start_time": "2023-06-08T02:35:30.744Z"
   },
   {
    "duration": 30,
    "start_time": "2023-06-08T02:35:30.786Z"
   },
   {
    "duration": 25,
    "start_time": "2023-06-08T02:35:30.818Z"
   },
   {
    "duration": 25,
    "start_time": "2023-06-08T02:35:30.845Z"
   },
   {
    "duration": 21,
    "start_time": "2023-06-08T02:35:30.872Z"
   },
   {
    "duration": 37,
    "start_time": "2023-06-08T02:35:30.895Z"
   },
   {
    "duration": 1817,
    "start_time": "2023-06-08T02:35:30.935Z"
   },
   {
    "duration": 39,
    "start_time": "2023-06-08T02:35:32.754Z"
   },
   {
    "duration": 82,
    "start_time": "2023-06-08T02:35:32.795Z"
   },
   {
    "duration": 2,
    "start_time": "2023-06-08T02:35:32.879Z"
   },
   {
    "duration": 19,
    "start_time": "2023-06-08T02:35:32.883Z"
   },
   {
    "duration": 5,
    "start_time": "2023-06-08T02:35:32.904Z"
   },
   {
    "duration": 497,
    "start_time": "2023-06-08T02:35:37.393Z"
   },
   {
    "duration": 174,
    "start_time": "2023-06-08T02:35:47.660Z"
   },
   {
    "duration": 6,
    "start_time": "2023-06-08T02:35:59.813Z"
   },
   {
    "duration": 296,
    "start_time": "2023-06-08T02:36:03.047Z"
   },
   {
    "duration": 12,
    "start_time": "2023-06-08T02:38:28.039Z"
   },
   {
    "duration": 37,
    "start_time": "2023-06-08T02:38:59.199Z"
   },
   {
    "duration": 18,
    "start_time": "2023-06-08T02:39:03.097Z"
   },
   {
    "duration": 515,
    "start_time": "2023-06-08T02:39:22.824Z"
   },
   {
    "duration": 471,
    "start_time": "2023-06-08T02:39:48.592Z"
   },
   {
    "duration": 358,
    "start_time": "2023-06-08T02:40:38.611Z"
   },
   {
    "duration": 3,
    "start_time": "2023-06-08T02:41:29.765Z"
   },
   {
    "duration": 239,
    "start_time": "2023-06-08T02:41:29.771Z"
   },
   {
    "duration": 46,
    "start_time": "2023-06-08T02:41:30.011Z"
   },
   {
    "duration": 63,
    "start_time": "2023-06-08T02:41:30.059Z"
   },
   {
    "duration": 10,
    "start_time": "2023-06-08T02:41:30.124Z"
   },
   {
    "duration": 128,
    "start_time": "2023-06-08T02:41:30.136Z"
   },
   {
    "duration": 54,
    "start_time": "2023-06-08T02:41:30.266Z"
   },
   {
    "duration": 50,
    "start_time": "2023-06-08T02:41:30.322Z"
   },
   {
    "duration": 1969,
    "start_time": "2023-06-08T02:41:30.374Z"
   },
   {
    "duration": 40,
    "start_time": "2023-06-08T02:41:32.346Z"
   },
   {
    "duration": 96,
    "start_time": "2023-06-08T02:41:32.388Z"
   },
   {
    "duration": 3,
    "start_time": "2023-06-08T02:41:32.485Z"
   },
   {
    "duration": 27,
    "start_time": "2023-06-08T02:41:32.490Z"
   },
   {
    "duration": 10,
    "start_time": "2023-06-08T02:41:32.519Z"
   },
   {
    "duration": 46,
    "start_time": "2023-06-08T02:41:34.268Z"
   },
   {
    "duration": 95,
    "start_time": "2023-06-08T02:41:43.131Z"
   },
   {
    "duration": 793,
    "start_time": "2023-06-08T02:41:50.839Z"
   },
   {
    "duration": 395,
    "start_time": "2023-06-08T02:41:53.667Z"
   },
   {
    "duration": 5,
    "start_time": "2023-06-08T02:42:06.370Z"
   },
   {
    "duration": 7,
    "start_time": "2023-06-08T02:42:13.651Z"
   },
   {
    "duration": 349,
    "start_time": "2023-06-08T02:43:23.194Z"
   },
   {
    "duration": 6,
    "start_time": "2023-06-08T02:44:20.731Z"
   },
   {
    "duration": 6,
    "start_time": "2023-06-08T02:45:12.579Z"
   },
   {
    "duration": 7,
    "start_time": "2023-06-08T02:47:08.122Z"
   },
   {
    "duration": 3,
    "start_time": "2023-06-08T02:47:14.826Z"
   },
   {
    "duration": 13,
    "start_time": "2023-06-08T02:51:13.208Z"
   },
   {
    "duration": 10,
    "start_time": "2023-06-08T02:51:20.664Z"
   },
   {
    "duration": 13,
    "start_time": "2023-06-08T02:51:51.418Z"
   },
   {
    "duration": 936,
    "start_time": "2023-06-08T02:52:12.912Z"
   },
   {
    "duration": 9,
    "start_time": "2023-06-08T02:53:20.080Z"
   },
   {
    "duration": 6643,
    "start_time": "2023-06-08T02:53:45.745Z"
   },
   {
    "duration": 2025,
    "start_time": "2023-06-08T02:55:14.597Z"
   },
   {
    "duration": 14,
    "start_time": "2023-06-08T02:55:27.457Z"
   },
   {
    "duration": 6,
    "start_time": "2023-06-08T02:55:43.779Z"
   },
   {
    "duration": 5,
    "start_time": "2023-06-08T02:56:24.444Z"
   },
   {
    "duration": 7,
    "start_time": "2023-06-08T02:56:32.660Z"
   },
   {
    "duration": 8,
    "start_time": "2023-06-08T02:56:37.619Z"
   },
   {
    "duration": 9,
    "start_time": "2023-06-08T02:56:53.429Z"
   },
   {
    "duration": 12,
    "start_time": "2023-06-08T02:57:08.353Z"
   },
   {
    "duration": 3,
    "start_time": "2023-06-08T02:57:37.486Z"
   },
   {
    "duration": 6,
    "start_time": "2023-06-08T02:57:40.177Z"
   },
   {
    "duration": 9,
    "start_time": "2023-06-08T02:58:10.631Z"
   },
   {
    "duration": 17,
    "start_time": "2023-06-08T02:58:54.036Z"
   },
   {
    "duration": 16,
    "start_time": "2023-06-08T02:58:59.282Z"
   },
   {
    "duration": 12,
    "start_time": "2023-06-08T02:59:11.913Z"
   },
   {
    "duration": 13,
    "start_time": "2023-06-08T02:59:19.427Z"
   },
   {
    "duration": 9,
    "start_time": "2023-06-08T02:59:30.910Z"
   },
   {
    "duration": 9,
    "start_time": "2023-06-08T03:00:11.866Z"
   },
   {
    "duration": 10,
    "start_time": "2023-06-08T03:00:22.763Z"
   },
   {
    "duration": 14,
    "start_time": "2023-06-08T03:00:48.317Z"
   },
   {
    "duration": 14,
    "start_time": "2023-06-08T03:01:07.317Z"
   },
   {
    "duration": 12,
    "start_time": "2023-06-08T03:01:33.671Z"
   },
   {
    "duration": 9,
    "start_time": "2023-06-08T03:01:54.871Z"
   },
   {
    "duration": 10,
    "start_time": "2023-06-08T03:02:01.185Z"
   },
   {
    "duration": 10,
    "start_time": "2023-06-08T03:02:06.090Z"
   },
   {
    "duration": 11,
    "start_time": "2023-06-08T03:02:09.921Z"
   },
   {
    "duration": 9,
    "start_time": "2023-06-08T03:02:15.375Z"
   },
   {
    "duration": 20,
    "start_time": "2023-06-08T03:06:11.255Z"
   },
   {
    "duration": 271,
    "start_time": "2023-06-08T03:06:19.954Z"
   },
   {
    "duration": 245,
    "start_time": "2023-06-08T03:06:34.460Z"
   },
   {
    "duration": 155,
    "start_time": "2023-06-08T03:06:51.727Z"
   },
   {
    "duration": 234,
    "start_time": "2023-06-08T03:06:57.129Z"
   },
   {
    "duration": 186,
    "start_time": "2023-06-08T03:07:15.099Z"
   },
   {
    "duration": 5,
    "start_time": "2023-06-08T03:07:40.010Z"
   },
   {
    "duration": 6,
    "start_time": "2023-06-08T03:07:53.143Z"
   },
   {
    "duration": 101,
    "start_time": "2023-06-08T03:08:26.473Z"
   },
   {
    "duration": 102,
    "start_time": "2023-06-08T03:08:43.202Z"
   },
   {
    "duration": 6,
    "start_time": "2023-06-08T03:10:10.956Z"
   },
   {
    "duration": 853,
    "start_time": "2023-06-08T03:10:14.331Z"
   },
   {
    "duration": 158,
    "start_time": "2023-06-08T03:10:37.412Z"
   },
   {
    "duration": 103,
    "start_time": "2023-06-08T03:10:51.418Z"
   },
   {
    "duration": 108,
    "start_time": "2023-06-08T03:11:19.083Z"
   },
   {
    "duration": 115,
    "start_time": "2023-06-08T03:11:23.041Z"
   },
   {
    "duration": 103,
    "start_time": "2023-06-08T03:14:19.508Z"
   },
   {
    "duration": 105,
    "start_time": "2023-06-08T03:15:26.709Z"
   },
   {
    "duration": 177,
    "start_time": "2023-06-08T03:15:40.206Z"
   },
   {
    "duration": 115,
    "start_time": "2023-06-08T03:18:54.045Z"
   },
   {
    "duration": 99,
    "start_time": "2023-06-08T03:19:04.309Z"
   },
   {
    "duration": 101,
    "start_time": "2023-06-08T03:19:16.684Z"
   },
   {
    "duration": 99,
    "start_time": "2023-06-08T03:19:27.428Z"
   },
   {
    "duration": 104,
    "start_time": "2023-06-08T03:19:34.563Z"
   },
   {
    "duration": 115,
    "start_time": "2023-06-08T03:19:56.529Z"
   },
   {
    "duration": 0,
    "start_time": "2023-06-08T03:24:04.871Z"
   },
   {
    "duration": 4777,
    "start_time": "2023-06-08T03:24:20.407Z"
   },
   {
    "duration": 11,
    "start_time": "2023-06-08T03:24:58.476Z"
   },
   {
    "duration": 14,
    "start_time": "2023-06-08T03:25:12.554Z"
   },
   {
    "duration": 12,
    "start_time": "2023-06-08T03:26:12.875Z"
   },
   {
    "duration": 17,
    "start_time": "2023-06-08T03:26:28.305Z"
   },
   {
    "duration": 16,
    "start_time": "2023-06-08T03:26:42.821Z"
   },
   {
    "duration": 14,
    "start_time": "2023-06-08T03:26:55.182Z"
   },
   {
    "duration": 16,
    "start_time": "2023-06-08T03:28:20.534Z"
   },
   {
    "duration": 13,
    "start_time": "2023-06-08T03:28:25.400Z"
   },
   {
    "duration": 17,
    "start_time": "2023-06-08T03:28:36.795Z"
   },
   {
    "duration": 113,
    "start_time": "2023-06-08T03:29:39.248Z"
   },
   {
    "duration": 138,
    "start_time": "2023-06-08T03:30:28.540Z"
   },
   {
    "duration": 22105,
    "start_time": "2023-06-08T03:30:46.998Z"
   },
   {
    "duration": 124,
    "start_time": "2023-06-08T03:31:36.640Z"
   },
   {
    "duration": 105,
    "start_time": "2023-06-08T03:34:56.485Z"
   },
   {
    "duration": 105,
    "start_time": "2023-06-08T03:35:11.301Z"
   },
   {
    "duration": 104,
    "start_time": "2023-06-08T03:35:15.818Z"
   },
   {
    "duration": 104,
    "start_time": "2023-06-08T03:35:44.606Z"
   },
   {
    "duration": 2206,
    "start_time": "2023-06-08T03:38:14.354Z"
   },
   {
    "duration": 16277,
    "start_time": "2023-06-08T03:38:24.125Z"
   },
   {
    "duration": 439,
    "start_time": "2023-06-08T03:44:23.272Z"
   },
   {
    "duration": 135,
    "start_time": "2023-06-08T03:45:05.267Z"
   },
   {
    "duration": 3582,
    "start_time": "2023-06-08T03:45:49.475Z"
   },
   {
    "duration": 33,
    "start_time": "2023-06-08T03:48:02.408Z"
   },
   {
    "duration": 6,
    "start_time": "2023-06-08T03:48:16.977Z"
   },
   {
    "duration": 7,
    "start_time": "2023-06-08T03:49:19.427Z"
   },
   {
    "duration": 3380,
    "start_time": "2023-06-08T03:49:22.393Z"
   },
   {
    "duration": 6,
    "start_time": "2023-06-08T03:49:37.131Z"
   },
   {
    "duration": 6,
    "start_time": "2023-06-08T03:49:49.793Z"
   },
   {
    "duration": 4,
    "start_time": "2023-06-08T03:49:56.163Z"
   },
   {
    "duration": 3117,
    "start_time": "2023-06-08T03:50:39.806Z"
   },
   {
    "duration": 3257,
    "start_time": "2023-06-08T03:51:40.625Z"
   },
   {
    "duration": 3130,
    "start_time": "2023-06-08T03:51:52.056Z"
   },
   {
    "duration": 5,
    "start_time": "2023-06-08T03:51:59.873Z"
   },
   {
    "duration": 7,
    "start_time": "2023-06-08T03:53:59.713Z"
   },
   {
    "duration": 13,
    "start_time": "2023-06-08T03:54:22.057Z"
   },
   {
    "duration": 12,
    "start_time": "2023-06-08T03:54:29.418Z"
   },
   {
    "duration": 6,
    "start_time": "2023-06-08T03:54:32.590Z"
   },
   {
    "duration": 6,
    "start_time": "2023-06-08T03:54:37.482Z"
   },
   {
    "duration": 6,
    "start_time": "2023-06-08T03:54:41.907Z"
   },
   {
    "duration": 5,
    "start_time": "2023-06-08T03:55:06.668Z"
   },
   {
    "duration": 16,
    "start_time": "2023-06-08T03:59:22.666Z"
   },
   {
    "duration": 36,
    "start_time": "2023-06-08T03:59:57.934Z"
   },
   {
    "duration": 0,
    "start_time": "2023-06-08T04:00:26.198Z"
   },
   {
    "duration": 4177,
    "start_time": "2023-06-08T04:00:41.302Z"
   },
   {
    "duration": 2683,
    "start_time": "2023-06-08T04:00:58.877Z"
   },
   {
    "duration": 2769,
    "start_time": "2023-06-08T04:01:21.433Z"
   },
   {
    "duration": 2697,
    "start_time": "2023-06-08T04:01:26.281Z"
   },
   {
    "duration": 11,
    "start_time": "2023-06-08T04:01:32.169Z"
   },
   {
    "duration": 96,
    "start_time": "2023-06-08T04:01:44.087Z"
   },
   {
    "duration": 68,
    "start_time": "2023-06-08T04:01:57.841Z"
   },
   {
    "duration": 15,
    "start_time": "2023-06-08T04:02:18.298Z"
   },
   {
    "duration": 65,
    "start_time": "2023-06-08T04:02:27.595Z"
   },
   {
    "duration": 4,
    "start_time": "2023-06-08T04:04:41.103Z"
   },
   {
    "duration": 8,
    "start_time": "2023-06-08T04:04:57.777Z"
   },
   {
    "duration": 4,
    "start_time": "2023-06-08T04:04:58.757Z"
   },
   {
    "duration": 127,
    "start_time": "2023-06-08T04:05:00.374Z"
   },
   {
    "duration": 5,
    "start_time": "2023-06-08T04:06:36.358Z"
   },
   {
    "duration": 143,
    "start_time": "2023-06-08T04:06:39.590Z"
   },
   {
    "duration": 159,
    "start_time": "2023-06-08T04:07:07.239Z"
   },
   {
    "duration": 8,
    "start_time": "2023-06-08T04:07:11.384Z"
   },
   {
    "duration": 5,
    "start_time": "2023-06-08T04:07:13.466Z"
   },
   {
    "duration": 137,
    "start_time": "2023-06-08T04:07:15.317Z"
   },
   {
    "duration": 4,
    "start_time": "2023-06-08T04:07:46.688Z"
   },
   {
    "duration": 3715,
    "start_time": "2023-06-08T04:07:48.582Z"
   },
   {
    "duration": 5772,
    "start_time": "2023-06-08T04:08:34.438Z"
   },
   {
    "duration": 1474,
    "start_time": "2023-06-08T08:07:00.599Z"
   },
   {
    "duration": 858,
    "start_time": "2023-06-08T08:07:02.076Z"
   },
   {
    "duration": 43,
    "start_time": "2023-06-08T08:07:02.936Z"
   },
   {
    "duration": 31,
    "start_time": "2023-06-08T08:07:02.980Z"
   },
   {
    "duration": 4,
    "start_time": "2023-06-08T08:07:03.012Z"
   },
   {
    "duration": 16,
    "start_time": "2023-06-08T08:07:03.018Z"
   },
   {
    "duration": 2,
    "start_time": "2023-06-08T08:07:03.036Z"
   },
   {
    "duration": 5,
    "start_time": "2023-06-08T08:07:03.040Z"
   },
   {
    "duration": 1725,
    "start_time": "2023-06-08T08:07:03.046Z"
   },
   {
    "duration": 42,
    "start_time": "2023-06-08T08:07:04.774Z"
   },
   {
    "duration": 158,
    "start_time": "2023-06-08T08:07:04.818Z"
   },
   {
    "duration": 2,
    "start_time": "2023-06-08T08:07:04.978Z"
   },
   {
    "duration": 23,
    "start_time": "2023-06-08T08:07:04.982Z"
   },
   {
    "duration": 5,
    "start_time": "2023-06-08T08:07:05.007Z"
   },
   {
    "duration": 767,
    "start_time": "2023-06-08T08:07:05.014Z"
   },
   {
    "duration": 362,
    "start_time": "2023-06-08T08:07:05.783Z"
   },
   {
    "duration": 5,
    "start_time": "2023-06-08T08:07:06.146Z"
   },
   {
    "duration": 313,
    "start_time": "2023-06-08T08:07:06.153Z"
   },
   {
    "duration": 8,
    "start_time": "2023-06-08T08:07:06.467Z"
   },
   {
    "duration": 9,
    "start_time": "2023-06-08T08:07:06.476Z"
   },
   {
    "duration": 20,
    "start_time": "2023-06-08T08:07:06.486Z"
   },
   {
    "duration": 6,
    "start_time": "2023-06-08T08:07:06.507Z"
   },
   {
    "duration": 2879,
    "start_time": "2023-06-08T08:07:06.514Z"
   },
   {
    "duration": 5144,
    "start_time": "2023-06-08T08:07:09.395Z"
   },
   {
    "duration": 54,
    "start_time": "2023-06-08T08:07:14.541Z"
   },
   {
    "duration": 211,
    "start_time": "2023-06-08T08:08:54.848Z"
   },
   {
    "duration": 10,
    "start_time": "2023-06-08T08:09:00.375Z"
   },
   {
    "duration": 7,
    "start_time": "2023-06-08T08:09:15.154Z"
   },
   {
    "duration": 18,
    "start_time": "2023-06-08T08:09:46.629Z"
   },
   {
    "duration": 8,
    "start_time": "2023-06-08T08:09:49.190Z"
   },
   {
    "duration": 8,
    "start_time": "2023-06-08T08:09:59.214Z"
   },
   {
    "duration": 3,
    "start_time": "2023-06-08T08:11:13.547Z"
   },
   {
    "duration": 276,
    "start_time": "2023-06-08T08:12:04.019Z"
   },
   {
    "duration": 103,
    "start_time": "2023-06-08T08:13:22.376Z"
   },
   {
    "duration": 5,
    "start_time": "2023-06-08T08:13:29.521Z"
   },
   {
    "duration": 12,
    "start_time": "2023-06-08T08:14:06.437Z"
   },
   {
    "duration": 250,
    "start_time": "2023-06-08T08:14:13.045Z"
   },
   {
    "duration": 264,
    "start_time": "2023-06-08T08:14:13.836Z"
   },
   {
    "duration": 3,
    "start_time": "2023-06-08T08:14:15.391Z"
   },
   {
    "duration": 187,
    "start_time": "2023-06-08T08:14:20.795Z"
   },
   {
    "duration": 479,
    "start_time": "2023-06-08T08:15:04.226Z"
   },
   {
    "duration": 479,
    "start_time": "2023-06-08T08:15:39.726Z"
   },
   {
    "duration": 4,
    "start_time": "2023-06-08T08:16:14.012Z"
   },
   {
    "duration": 281,
    "start_time": "2023-06-08T08:16:14.018Z"
   },
   {
    "duration": 42,
    "start_time": "2023-06-08T08:16:14.301Z"
   },
   {
    "duration": 49,
    "start_time": "2023-06-08T08:16:14.344Z"
   },
   {
    "duration": 5,
    "start_time": "2023-06-08T08:16:14.395Z"
   },
   {
    "duration": 13,
    "start_time": "2023-06-08T08:16:14.401Z"
   },
   {
    "duration": 2,
    "start_time": "2023-06-08T08:16:14.415Z"
   },
   {
    "duration": 6,
    "start_time": "2023-06-08T08:16:14.418Z"
   },
   {
    "duration": 1715,
    "start_time": "2023-06-08T08:16:14.425Z"
   },
   {
    "duration": 54,
    "start_time": "2023-06-08T08:16:16.141Z"
   },
   {
    "duration": 90,
    "start_time": "2023-06-08T08:16:16.197Z"
   },
   {
    "duration": 3,
    "start_time": "2023-06-08T08:16:16.291Z"
   },
   {
    "duration": 15,
    "start_time": "2023-06-08T08:16:16.297Z"
   },
   {
    "duration": 7,
    "start_time": "2023-06-08T08:16:16.314Z"
   },
   {
    "duration": 706,
    "start_time": "2023-06-08T08:16:20.799Z"
   },
   {
    "duration": 284,
    "start_time": "2023-06-08T08:16:23.909Z"
   },
   {
    "duration": 4,
    "start_time": "2023-06-08T08:16:25.553Z"
   },
   {
    "duration": 480,
    "start_time": "2023-06-08T08:16:27.558Z"
   },
   {
    "duration": 475,
    "start_time": "2023-06-08T08:16:58.029Z"
   },
   {
    "duration": 196,
    "start_time": "2023-06-08T08:17:27.807Z"
   },
   {
    "duration": 270,
    "start_time": "2023-06-08T08:17:40.727Z"
   },
   {
    "duration": 13,
    "start_time": "2023-06-08T08:17:45.489Z"
   },
   {
    "duration": 269,
    "start_time": "2023-06-08T08:18:07.556Z"
   },
   {
    "duration": 12,
    "start_time": "2023-06-08T08:18:09.041Z"
   },
   {
    "duration": 438,
    "start_time": "2023-06-08T08:19:02.538Z"
   },
   {
    "duration": 4,
    "start_time": "2023-06-08T08:19:17.590Z"
   },
   {
    "duration": 76,
    "start_time": "2023-06-08T08:20:28.134Z"
   },
   {
    "duration": 323,
    "start_time": "2023-06-08T08:20:34.468Z"
   },
   {
    "duration": 314,
    "start_time": "2023-06-08T08:20:56.554Z"
   },
   {
    "duration": 69,
    "start_time": "2023-06-08T08:42:52.002Z"
   },
   {
    "duration": 67,
    "start_time": "2023-06-08T08:43:02.997Z"
   },
   {
    "duration": 69,
    "start_time": "2023-06-08T08:43:25.408Z"
   },
   {
    "duration": 68,
    "start_time": "2023-06-08T08:43:53.027Z"
   },
   {
    "duration": 70,
    "start_time": "2023-06-08T08:43:58.001Z"
   },
   {
    "duration": 371,
    "start_time": "2023-06-08T08:44:49.002Z"
   },
   {
    "duration": 205,
    "start_time": "2023-06-08T08:45:29.762Z"
   },
   {
    "duration": 5,
    "start_time": "2023-06-08T08:45:44.309Z"
   },
   {
    "duration": 3,
    "start_time": "2023-06-08T08:46:06.389Z"
   },
   {
    "duration": 212,
    "start_time": "2023-06-08T08:46:06.395Z"
   },
   {
    "duration": 40,
    "start_time": "2023-06-08T08:46:06.609Z"
   },
   {
    "duration": 42,
    "start_time": "2023-06-08T08:46:06.651Z"
   },
   {
    "duration": 5,
    "start_time": "2023-06-08T08:46:06.694Z"
   },
   {
    "duration": 11,
    "start_time": "2023-06-08T08:46:06.701Z"
   },
   {
    "duration": 2,
    "start_time": "2023-06-08T08:46:06.714Z"
   },
   {
    "duration": 6,
    "start_time": "2023-06-08T08:46:06.718Z"
   },
   {
    "duration": 1604,
    "start_time": "2023-06-08T08:46:06.725Z"
   },
   {
    "duration": 46,
    "start_time": "2023-06-08T08:46:08.330Z"
   },
   {
    "duration": 60,
    "start_time": "2023-06-08T08:46:08.378Z"
   },
   {
    "duration": 3,
    "start_time": "2023-06-08T08:46:08.439Z"
   },
   {
    "duration": 32,
    "start_time": "2023-06-08T08:46:08.443Z"
   },
   {
    "duration": 5,
    "start_time": "2023-06-08T08:46:08.476Z"
   },
   {
    "duration": 723,
    "start_time": "2023-06-08T08:46:08.483Z"
   },
   {
    "duration": 2,
    "start_time": "2023-06-08T08:46:09.208Z"
   },
   {
    "duration": 6,
    "start_time": "2023-06-08T08:46:09.211Z"
   },
   {
    "duration": 11,
    "start_time": "2023-06-08T08:46:09.224Z"
   },
   {
    "duration": 6,
    "start_time": "2023-06-08T08:46:09.236Z"
   },
   {
    "duration": 5,
    "start_time": "2023-06-08T08:46:09.243Z"
   },
   {
    "duration": 4,
    "start_time": "2023-06-08T08:46:09.249Z"
   },
   {
    "duration": 690,
    "start_time": "2023-06-08T08:46:09.254Z"
   },
   {
    "duration": 430,
    "start_time": "2023-06-08T08:46:09.946Z"
   },
   {
    "duration": 5,
    "start_time": "2023-06-08T08:46:10.378Z"
   },
   {
    "duration": 309,
    "start_time": "2023-06-08T08:46:15.960Z"
   },
   {
    "duration": 5,
    "start_time": "2023-06-08T08:46:21.315Z"
   },
   {
    "duration": 4,
    "start_time": "2023-06-08T08:46:23.193Z"
   },
   {
    "duration": 4,
    "start_time": "2023-06-08T08:46:25.720Z"
   },
   {
    "duration": 3112,
    "start_time": "2023-06-08T08:46:28.947Z"
   },
   {
    "duration": 10657,
    "start_time": "2023-06-08T08:47:13.479Z"
   },
   {
    "duration": 58,
    "start_time": "2023-06-08T08:49:12.980Z"
   },
   {
    "duration": 24,
    "start_time": "2023-06-08T08:51:00.902Z"
   },
   {
    "duration": 181,
    "start_time": "2023-06-08T08:51:04.518Z"
   },
   {
    "duration": 275,
    "start_time": "2023-06-08T08:51:50.294Z"
   },
   {
    "duration": 14,
    "start_time": "2023-06-08T08:52:17.237Z"
   },
   {
    "duration": 260,
    "start_time": "2023-06-08T08:53:35.208Z"
   },
   {
    "duration": 292,
    "start_time": "2023-06-08T08:53:49.484Z"
   },
   {
    "duration": 253,
    "start_time": "2023-06-08T08:53:59.764Z"
   },
   {
    "duration": 2808,
    "start_time": "2023-06-08T08:54:58.278Z"
   },
   {
    "duration": 13,
    "start_time": "2023-06-08T08:56:04.630Z"
   },
   {
    "duration": 283,
    "start_time": "2023-06-08T08:56:14.556Z"
   },
   {
    "duration": 18,
    "start_time": "2023-06-08T08:56:29.174Z"
   },
   {
    "duration": 2852,
    "start_time": "2023-06-08T08:56:44.116Z"
   },
   {
    "duration": 2855,
    "start_time": "2023-06-08T08:57:18.318Z"
   },
   {
    "duration": 4,
    "start_time": "2023-06-08T08:57:57.598Z"
   },
   {
    "duration": 2871,
    "start_time": "2023-06-08T08:58:04.036Z"
   },
   {
    "duration": 279,
    "start_time": "2023-06-08T08:58:08.495Z"
   },
   {
    "duration": 385,
    "start_time": "2023-06-08T08:58:32.031Z"
   },
   {
    "duration": 410,
    "start_time": "2023-06-08T08:58:37.589Z"
   },
   {
    "duration": 4,
    "start_time": "2023-06-08T09:01:03.251Z"
   },
   {
    "duration": 4,
    "start_time": "2023-06-08T09:01:04.630Z"
   },
   {
    "duration": 4,
    "start_time": "2023-06-08T09:01:25.030Z"
   },
   {
    "duration": 3095,
    "start_time": "2023-06-08T09:01:32.023Z"
   },
   {
    "duration": 3247,
    "start_time": "2023-06-08T09:01:55.469Z"
   },
   {
    "duration": 3237,
    "start_time": "2023-06-08T09:02:11.987Z"
   },
   {
    "duration": 371,
    "start_time": "2023-06-08T09:02:23.294Z"
   },
   {
    "duration": 358,
    "start_time": "2023-06-08T09:02:36.164Z"
   },
   {
    "duration": 305,
    "start_time": "2023-06-08T09:02:58.598Z"
   },
   {
    "duration": 452,
    "start_time": "2023-06-08T09:03:04.812Z"
   },
   {
    "duration": 463,
    "start_time": "2023-06-08T09:03:10.557Z"
   },
   {
    "duration": 325,
    "start_time": "2023-06-08T09:03:20.049Z"
   },
   {
    "duration": 356,
    "start_time": "2023-06-08T09:03:26.699Z"
   },
   {
    "duration": 6,
    "start_time": "2023-06-08T09:07:00.070Z"
   },
   {
    "duration": 4,
    "start_time": "2023-06-08T09:07:11.715Z"
   },
   {
    "duration": 3352,
    "start_time": "2023-06-08T09:07:25.619Z"
   },
   {
    "duration": 1729,
    "start_time": "2023-06-08T12:48:34.828Z"
   },
   {
    "duration": 432,
    "start_time": "2023-06-08T12:48:36.559Z"
   },
   {
    "duration": 44,
    "start_time": "2023-06-08T12:48:36.993Z"
   },
   {
    "duration": 132,
    "start_time": "2023-06-08T12:48:37.039Z"
   },
   {
    "duration": 4,
    "start_time": "2023-06-08T12:48:37.173Z"
   },
   {
    "duration": 21,
    "start_time": "2023-06-08T12:48:37.179Z"
   },
   {
    "duration": 6,
    "start_time": "2023-06-08T12:48:37.201Z"
   },
   {
    "duration": 37,
    "start_time": "2023-06-08T12:48:37.209Z"
   },
   {
    "duration": 1814,
    "start_time": "2023-06-08T12:48:37.248Z"
   },
   {
    "duration": 41,
    "start_time": "2023-06-08T12:48:39.065Z"
   },
   {
    "duration": 157,
    "start_time": "2023-06-08T12:48:39.108Z"
   },
   {
    "duration": 3,
    "start_time": "2023-06-08T12:48:39.268Z"
   },
   {
    "duration": 16,
    "start_time": "2023-06-08T12:48:39.272Z"
   },
   {
    "duration": 8,
    "start_time": "2023-06-08T12:48:39.289Z"
   },
   {
    "duration": 820,
    "start_time": "2023-06-08T12:48:39.298Z"
   },
   {
    "duration": 5,
    "start_time": "2023-06-08T12:48:40.120Z"
   },
   {
    "duration": 8,
    "start_time": "2023-06-08T12:48:40.127Z"
   },
   {
    "duration": 9,
    "start_time": "2023-06-08T12:48:40.137Z"
   },
   {
    "duration": 6,
    "start_time": "2023-06-08T12:48:40.148Z"
   },
   {
    "duration": 7,
    "start_time": "2023-06-08T12:48:40.155Z"
   },
   {
    "duration": 19,
    "start_time": "2023-06-08T12:48:40.163Z"
   },
   {
    "duration": 781,
    "start_time": "2023-06-08T12:48:40.183Z"
   },
   {
    "duration": 509,
    "start_time": "2023-06-08T12:48:40.966Z"
   },
   {
    "duration": 5,
    "start_time": "2023-06-08T12:48:41.477Z"
   },
   {
    "duration": 341,
    "start_time": "2023-06-08T12:48:41.484Z"
   },
   {
    "duration": 2,
    "start_time": "2023-06-08T12:48:41.827Z"
   },
   {
    "duration": 8,
    "start_time": "2023-06-08T12:48:41.831Z"
   },
   {
    "duration": 5,
    "start_time": "2023-06-08T12:48:41.843Z"
   },
   {
    "duration": 19,
    "start_time": "2023-06-08T12:48:41.850Z"
   },
   {
    "duration": 3550,
    "start_time": "2023-06-08T12:48:41.871Z"
   },
   {
    "duration": 8504,
    "start_time": "2023-06-08T12:48:45.424Z"
   },
   {
    "duration": 3313,
    "start_time": "2023-06-08T12:48:53.930Z"
   },
   {
    "duration": 425,
    "start_time": "2023-06-08T12:48:57.245Z"
   },
   {
    "duration": 84,
    "start_time": "2023-06-08T12:48:57.672Z"
   },
   {
    "duration": 54,
    "start_time": "2023-06-08T12:48:57.758Z"
   },
   {
    "duration": 2987,
    "start_time": "2023-06-08T12:58:51.948Z"
   },
   {
    "duration": 2993,
    "start_time": "2023-06-08T12:59:19.532Z"
   },
   {
    "duration": 14,
    "start_time": "2023-06-08T13:01:38.453Z"
   },
   {
    "duration": 15,
    "start_time": "2023-06-08T13:01:52.092Z"
   },
   {
    "duration": 4,
    "start_time": "2023-06-08T13:03:04.409Z"
   },
   {
    "duration": 347,
    "start_time": "2023-06-08T13:03:15.168Z"
   },
   {
    "duration": 3,
    "start_time": "2023-06-08T13:12:25.709Z"
   },
   {
    "duration": 209,
    "start_time": "2023-06-08T13:12:25.714Z"
   },
   {
    "duration": 34,
    "start_time": "2023-06-08T13:12:25.925Z"
   },
   {
    "duration": 29,
    "start_time": "2023-06-08T13:12:25.961Z"
   },
   {
    "duration": 5,
    "start_time": "2023-06-08T13:12:25.991Z"
   },
   {
    "duration": 34,
    "start_time": "2023-06-08T13:12:25.997Z"
   },
   {
    "duration": 7,
    "start_time": "2023-06-08T13:12:26.033Z"
   },
   {
    "duration": 4,
    "start_time": "2023-06-08T13:12:30.207Z"
   },
   {
    "duration": 1501,
    "start_time": "2023-06-08T13:12:42.763Z"
   },
   {
    "duration": 5,
    "start_time": "2023-06-08T13:12:58.700Z"
   },
   {
    "duration": 1683,
    "start_time": "2023-06-08T13:13:00.499Z"
   },
   {
    "duration": 5,
    "start_time": "2023-06-08T13:13:17.031Z"
   },
   {
    "duration": 1732,
    "start_time": "2023-06-08T13:13:22.301Z"
   },
   {
    "duration": 4,
    "start_time": "2023-06-08T13:13:32.184Z"
   },
   {
    "duration": 1660,
    "start_time": "2023-06-08T13:13:33.999Z"
   },
   {
    "duration": 4,
    "start_time": "2023-06-08T13:13:40.584Z"
   },
   {
    "duration": 1742,
    "start_time": "2023-06-08T13:13:42.652Z"
   },
   {
    "duration": 5,
    "start_time": "2023-06-08T13:13:50.878Z"
   },
   {
    "duration": 1584,
    "start_time": "2023-06-08T13:13:52.501Z"
   },
   {
    "duration": 5,
    "start_time": "2023-06-08T13:13:58.299Z"
   },
   {
    "duration": 1771,
    "start_time": "2023-06-08T13:13:59.982Z"
   },
   {
    "duration": 6,
    "start_time": "2023-06-08T13:14:24.939Z"
   },
   {
    "duration": 1608,
    "start_time": "2023-06-08T13:14:27.277Z"
   },
   {
    "duration": 38,
    "start_time": "2023-06-08T13:16:32.204Z"
   },
   {
    "duration": 116,
    "start_time": "2023-06-08T13:17:14.652Z"
   },
   {
    "duration": 137,
    "start_time": "2023-06-08T13:17:31.936Z"
   },
   {
    "duration": 6,
    "start_time": "2023-06-08T13:29:22.286Z"
   },
   {
    "duration": 820,
    "start_time": "2023-06-08T13:29:24.504Z"
   },
   {
    "duration": 6,
    "start_time": "2023-06-08T13:29:28.284Z"
   },
   {
    "duration": 3,
    "start_time": "2023-06-08T13:29:44.793Z"
   },
   {
    "duration": 220,
    "start_time": "2023-06-08T13:29:44.797Z"
   },
   {
    "duration": 39,
    "start_time": "2023-06-08T13:29:45.019Z"
   },
   {
    "duration": 38,
    "start_time": "2023-06-08T13:29:45.059Z"
   },
   {
    "duration": 5,
    "start_time": "2023-06-08T13:29:45.099Z"
   },
   {
    "duration": 42,
    "start_time": "2023-06-08T13:29:45.105Z"
   },
   {
    "duration": 28,
    "start_time": "2023-06-08T13:29:45.149Z"
   },
   {
    "duration": 47,
    "start_time": "2023-06-08T13:29:45.179Z"
   },
   {
    "duration": 1597,
    "start_time": "2023-06-08T13:29:45.229Z"
   },
   {
    "duration": 146,
    "start_time": "2023-06-08T13:29:46.827Z"
   },
   {
    "duration": 68,
    "start_time": "2023-06-08T13:29:46.976Z"
   },
   {
    "duration": 2,
    "start_time": "2023-06-08T13:29:47.045Z"
   },
   {
    "duration": 48,
    "start_time": "2023-06-08T13:29:47.049Z"
   },
   {
    "duration": 25,
    "start_time": "2023-06-08T13:29:47.099Z"
   },
   {
    "duration": 820,
    "start_time": "2023-06-08T13:29:51.216Z"
   },
   {
    "duration": 5,
    "start_time": "2023-06-08T13:29:53.401Z"
   },
   {
    "duration": 345,
    "start_time": "2023-06-08T13:29:55.603Z"
   },
   {
    "duration": 40,
    "start_time": "2023-06-08T13:30:13.025Z"
   },
   {
    "duration": 3,
    "start_time": "2023-06-08T13:30:33.429Z"
   },
   {
    "duration": 210,
    "start_time": "2023-06-08T13:30:33.433Z"
   },
   {
    "duration": 42,
    "start_time": "2023-06-08T13:30:33.645Z"
   },
   {
    "duration": 42,
    "start_time": "2023-06-08T13:30:33.688Z"
   },
   {
    "duration": 4,
    "start_time": "2023-06-08T13:30:33.732Z"
   },
   {
    "duration": 16,
    "start_time": "2023-06-08T13:30:33.738Z"
   },
   {
    "duration": 2,
    "start_time": "2023-06-08T13:30:33.755Z"
   },
   {
    "duration": 7,
    "start_time": "2023-06-08T13:30:33.758Z"
   },
   {
    "duration": 1691,
    "start_time": "2023-06-08T13:30:33.766Z"
   },
   {
    "duration": 146,
    "start_time": "2023-06-08T13:30:35.459Z"
   },
   {
    "duration": 59,
    "start_time": "2023-06-08T13:30:35.607Z"
   },
   {
    "duration": 2,
    "start_time": "2023-06-08T13:30:35.668Z"
   },
   {
    "duration": 34,
    "start_time": "2023-06-08T13:30:35.672Z"
   },
   {
    "duration": 9,
    "start_time": "2023-06-08T13:30:35.708Z"
   },
   {
    "duration": 786,
    "start_time": "2023-06-08T13:30:35.718Z"
   },
   {
    "duration": 4,
    "start_time": "2023-06-08T13:30:36.506Z"
   },
   {
    "duration": 2,
    "start_time": "2023-06-08T13:37:49.935Z"
   },
   {
    "duration": 262,
    "start_time": "2023-06-08T13:37:49.939Z"
   },
   {
    "duration": 38,
    "start_time": "2023-06-08T13:37:50.203Z"
   },
   {
    "duration": 63,
    "start_time": "2023-06-08T13:37:50.243Z"
   },
   {
    "duration": 5,
    "start_time": "2023-06-08T13:37:50.308Z"
   },
   {
    "duration": 19,
    "start_time": "2023-06-08T13:37:50.315Z"
   },
   {
    "duration": 2,
    "start_time": "2023-06-08T13:37:50.336Z"
   },
   {
    "duration": 10,
    "start_time": "2023-06-08T13:37:50.340Z"
   },
   {
    "duration": 1644,
    "start_time": "2023-06-08T13:37:50.352Z"
   },
   {
    "duration": 146,
    "start_time": "2023-06-08T13:37:51.998Z"
   },
   {
    "duration": 53,
    "start_time": "2023-06-08T13:37:52.146Z"
   },
   {
    "duration": 2,
    "start_time": "2023-06-08T13:37:52.200Z"
   },
   {
    "duration": 26,
    "start_time": "2023-06-08T13:37:52.204Z"
   },
   {
    "duration": 6,
    "start_time": "2023-06-08T13:37:52.231Z"
   },
   {
    "duration": 868,
    "start_time": "2023-06-08T13:37:52.238Z"
   },
   {
    "duration": 5,
    "start_time": "2023-06-08T13:37:53.107Z"
   },
   {
    "duration": 12,
    "start_time": "2023-06-08T13:37:53.114Z"
   },
   {
    "duration": 11,
    "start_time": "2023-06-08T13:38:40.312Z"
   },
   {
    "duration": 8,
    "start_time": "2023-06-08T13:38:47.206Z"
   },
   {
    "duration": 10,
    "start_time": "2023-06-08T13:38:52.117Z"
   },
   {
    "duration": 7,
    "start_time": "2023-06-08T13:38:59.038Z"
   },
   {
    "duration": 5,
    "start_time": "2023-06-08T13:39:03.742Z"
   },
   {
    "duration": 5,
    "start_time": "2023-06-08T13:39:08.524Z"
   },
   {
    "duration": 25,
    "start_time": "2023-06-08T13:39:12.708Z"
   },
   {
    "duration": 66,
    "start_time": "2023-06-08T13:39:53.359Z"
   },
   {
    "duration": 4,
    "start_time": "2023-06-08T13:39:58.211Z"
   },
   {
    "duration": 4,
    "start_time": "2023-06-08T13:40:24.277Z"
   },
   {
    "duration": 2408,
    "start_time": "2023-06-08T13:40:28.363Z"
   },
   {
    "duration": 6,
    "start_time": "2023-06-08T13:40:37.434Z"
   },
   {
    "duration": 1098,
    "start_time": "2023-06-08T13:40:41.216Z"
   },
   {
    "duration": 6,
    "start_time": "2023-06-08T13:40:46.195Z"
   },
   {
    "duration": 6,
    "start_time": "2023-06-08T13:40:55.933Z"
   },
   {
    "duration": 3,
    "start_time": "2023-06-08T13:41:09.713Z"
   },
   {
    "duration": 4,
    "start_time": "2023-06-08T13:42:18.628Z"
   },
   {
    "duration": 4,
    "start_time": "2023-06-08T13:42:24.394Z"
   },
   {
    "duration": 3,
    "start_time": "2023-06-08T13:42:30.153Z"
   },
   {
    "duration": 9,
    "start_time": "2023-06-08T13:42:41.310Z"
   },
   {
    "duration": 9,
    "start_time": "2023-06-08T13:42:49.207Z"
   },
   {
    "duration": 4,
    "start_time": "2023-06-08T13:42:52.831Z"
   },
   {
    "duration": 5,
    "start_time": "2023-06-08T13:43:10.850Z"
   },
   {
    "duration": 4,
    "start_time": "2023-06-08T13:43:18.460Z"
   },
   {
    "duration": 5,
    "start_time": "2023-06-08T13:43:26.193Z"
   },
   {
    "duration": 5,
    "start_time": "2023-06-08T13:43:35.222Z"
   },
   {
    "duration": 8,
    "start_time": "2023-06-08T13:43:40.126Z"
   },
   {
    "duration": 5,
    "start_time": "2023-06-08T13:43:45.006Z"
   },
   {
    "duration": 4,
    "start_time": "2023-06-08T13:44:07.342Z"
   },
   {
    "duration": 5,
    "start_time": "2023-06-08T13:44:20.098Z"
   },
   {
    "duration": 4,
    "start_time": "2023-06-08T13:44:27.148Z"
   },
   {
    "duration": 14,
    "start_time": "2023-06-08T13:44:49.593Z"
   },
   {
    "duration": 8,
    "start_time": "2023-06-08T13:44:57.960Z"
   },
   {
    "duration": 5,
    "start_time": "2023-06-08T13:45:17.650Z"
   },
   {
    "duration": 21,
    "start_time": "2023-06-08T13:45:32.273Z"
   },
   {
    "duration": 5,
    "start_time": "2023-06-08T13:45:39.387Z"
   },
   {
    "duration": 5,
    "start_time": "2023-06-08T13:45:47.682Z"
   },
   {
    "duration": 4,
    "start_time": "2023-06-08T13:46:20.101Z"
   },
   {
    "duration": 4,
    "start_time": "2023-06-08T13:46:22.607Z"
   },
   {
    "duration": 5,
    "start_time": "2023-06-08T13:46:24.697Z"
   },
   {
    "duration": 5,
    "start_time": "2023-06-08T13:46:44.960Z"
   },
   {
    "duration": 5,
    "start_time": "2023-06-08T13:46:47.136Z"
   },
   {
    "duration": 4,
    "start_time": "2023-06-08T13:46:56.645Z"
   },
   {
    "duration": 7,
    "start_time": "2023-06-08T13:47:10.730Z"
   },
   {
    "duration": 16,
    "start_time": "2023-06-08T13:47:14.035Z"
   },
   {
    "duration": 5,
    "start_time": "2023-06-08T13:47:21.611Z"
   },
   {
    "duration": 22,
    "start_time": "2023-06-08T13:47:23.987Z"
   },
   {
    "duration": 5,
    "start_time": "2023-06-08T13:49:32.898Z"
   },
   {
    "duration": 42,
    "start_time": "2023-06-08T13:49:34.787Z"
   },
   {
    "duration": 5,
    "start_time": "2023-06-08T13:49:38.413Z"
   },
   {
    "duration": 8,
    "start_time": "2023-06-08T13:49:41.109Z"
   },
   {
    "duration": 35,
    "start_time": "2023-06-08T13:50:05.454Z"
   },
   {
    "duration": 4,
    "start_time": "2023-06-08T13:50:20.910Z"
   },
   {
    "duration": 8,
    "start_time": "2023-06-08T13:50:24.697Z"
   },
   {
    "duration": 9,
    "start_time": "2023-06-08T13:50:33.600Z"
   },
   {
    "duration": 8,
    "start_time": "2023-06-08T13:50:38.037Z"
   },
   {
    "duration": 5,
    "start_time": "2023-06-08T13:50:46.108Z"
   },
   {
    "duration": 5,
    "start_time": "2023-06-08T13:50:48.909Z"
   },
   {
    "duration": 3,
    "start_time": "2023-06-08T14:30:07.905Z"
   },
   {
    "duration": 231,
    "start_time": "2023-06-08T14:30:07.909Z"
   },
   {
    "duration": 38,
    "start_time": "2023-06-08T14:30:08.142Z"
   },
   {
    "duration": 46,
    "start_time": "2023-06-08T14:30:08.181Z"
   },
   {
    "duration": 4,
    "start_time": "2023-06-08T14:30:08.229Z"
   },
   {
    "duration": 44,
    "start_time": "2023-06-08T14:30:08.234Z"
   },
   {
    "duration": 20,
    "start_time": "2023-06-08T14:30:08.280Z"
   },
   {
    "duration": 24,
    "start_time": "2023-06-08T14:30:08.302Z"
   },
   {
    "duration": 1565,
    "start_time": "2023-06-08T14:30:08.328Z"
   },
   {
    "duration": 152,
    "start_time": "2023-06-08T14:30:09.895Z"
   },
   {
    "duration": 59,
    "start_time": "2023-06-08T14:30:10.050Z"
   },
   {
    "duration": 14,
    "start_time": "2023-06-08T14:30:10.111Z"
   },
   {
    "duration": 20,
    "start_time": "2023-06-08T14:30:10.126Z"
   },
   {
    "duration": 5,
    "start_time": "2023-06-08T14:30:10.147Z"
   },
   {
    "duration": 845,
    "start_time": "2023-06-08T14:30:10.154Z"
   },
   {
    "duration": 7,
    "start_time": "2023-06-08T14:30:11.002Z"
   },
   {
    "duration": 18,
    "start_time": "2023-06-08T14:30:11.011Z"
   },
   {
    "duration": 36,
    "start_time": "2023-06-08T14:30:42.477Z"
   },
   {
    "duration": 31,
    "start_time": "2023-06-08T14:30:46.732Z"
   },
   {
    "duration": 4,
    "start_time": "2023-06-08T14:30:49.595Z"
   },
   {
    "duration": 35,
    "start_time": "2023-06-08T14:30:53.253Z"
   },
   {
    "duration": 5,
    "start_time": "2023-06-08T14:30:57.755Z"
   },
   {
    "duration": 35,
    "start_time": "2023-06-08T14:30:59.601Z"
   },
   {
    "duration": 4,
    "start_time": "2023-06-08T14:31:02.581Z"
   },
   {
    "duration": 33,
    "start_time": "2023-06-08T14:31:04.555Z"
   },
   {
    "duration": 5,
    "start_time": "2023-06-08T14:31:09.767Z"
   },
   {
    "duration": 36,
    "start_time": "2023-06-08T14:31:11.355Z"
   },
   {
    "duration": 36,
    "start_time": "2023-06-08T14:31:35.530Z"
   },
   {
    "duration": 6,
    "start_time": "2023-06-08T14:31:42.523Z"
   },
   {
    "duration": 13,
    "start_time": "2023-06-08T14:31:47.031Z"
   },
   {
    "duration": 10,
    "start_time": "2023-06-08T14:32:16.241Z"
   },
   {
    "duration": 6,
    "start_time": "2023-06-08T14:32:22.332Z"
   },
   {
    "duration": 7,
    "start_time": "2023-06-08T14:32:38.174Z"
   },
   {
    "duration": 4,
    "start_time": "2023-06-08T14:32:48.313Z"
   },
   {
    "duration": 39,
    "start_time": "2023-06-08T14:32:49.964Z"
   },
   {
    "duration": 7,
    "start_time": "2023-06-08T14:32:52.214Z"
   },
   {
    "duration": 39,
    "start_time": "2023-06-08T14:33:06.164Z"
   },
   {
    "duration": 36,
    "start_time": "2023-06-08T14:33:17.251Z"
   },
   {
    "duration": 5,
    "start_time": "2023-06-08T14:33:25.161Z"
   },
   {
    "duration": 4,
    "start_time": "2023-06-08T14:33:38.283Z"
   },
   {
    "duration": 3551,
    "start_time": "2023-06-08T14:33:49.448Z"
   },
   {
    "duration": 3131,
    "start_time": "2023-06-08T14:34:59.943Z"
   },
   {
    "duration": 94,
    "start_time": "2023-06-08T14:37:33.353Z"
   },
   {
    "duration": 5,
    "start_time": "2023-06-08T14:38:30.793Z"
   },
   {
    "duration": 5,
    "start_time": "2023-06-08T14:39:42.201Z"
   },
   {
    "duration": 3,
    "start_time": "2023-06-08T14:39:56.574Z"
   },
   {
    "duration": 5,
    "start_time": "2023-06-08T14:39:59.749Z"
   },
   {
    "duration": 11,
    "start_time": "2023-06-08T14:40:09.807Z"
   },
   {
    "duration": 108,
    "start_time": "2023-06-08T14:47:48.379Z"
   },
   {
    "duration": 2,
    "start_time": "2023-06-08T14:48:04.638Z"
   },
   {
    "duration": 367,
    "start_time": "2023-06-08T14:48:04.642Z"
   },
   {
    "duration": 43,
    "start_time": "2023-06-08T14:48:05.011Z"
   },
   {
    "duration": 35,
    "start_time": "2023-06-08T14:48:05.055Z"
   },
   {
    "duration": 9,
    "start_time": "2023-06-08T14:48:05.092Z"
   },
   {
    "duration": 20,
    "start_time": "2023-06-08T14:48:05.126Z"
   },
   {
    "duration": 41,
    "start_time": "2023-06-08T14:48:05.148Z"
   },
   {
    "duration": 34,
    "start_time": "2023-06-08T14:48:05.192Z"
   },
   {
    "duration": 1751,
    "start_time": "2023-06-08T14:48:05.228Z"
   },
   {
    "duration": 168,
    "start_time": "2023-06-08T14:48:06.982Z"
   },
   {
    "duration": 62,
    "start_time": "2023-06-08T14:48:07.152Z"
   },
   {
    "duration": 3,
    "start_time": "2023-06-08T14:48:07.225Z"
   },
   {
    "duration": 33,
    "start_time": "2023-06-08T14:48:07.230Z"
   },
   {
    "duration": 15,
    "start_time": "2023-06-08T14:48:07.266Z"
   },
   {
    "duration": 807,
    "start_time": "2023-06-08T14:48:07.283Z"
   },
   {
    "duration": 7,
    "start_time": "2023-06-08T14:48:08.092Z"
   },
   {
    "duration": 52,
    "start_time": "2023-06-08T14:48:08.102Z"
   },
   {
    "duration": 55,
    "start_time": "2023-06-08T14:48:08.155Z"
   },
   {
    "duration": 12,
    "start_time": "2023-06-08T14:48:08.212Z"
   },
   {
    "duration": 29,
    "start_time": "2023-06-08T14:48:08.226Z"
   },
   {
    "duration": 28,
    "start_time": "2023-06-08T14:48:08.257Z"
   },
   {
    "duration": 30,
    "start_time": "2023-06-08T14:48:08.287Z"
   },
   {
    "duration": 3369,
    "start_time": "2023-06-08T14:48:35.989Z"
   },
   {
    "duration": 3128,
    "start_time": "2023-06-08T14:49:26.017Z"
   },
   {
    "duration": 3400,
    "start_time": "2023-06-08T14:49:31.213Z"
   },
   {
    "duration": 25,
    "start_time": "2023-06-08T14:49:34.615Z"
   },
   {
    "duration": 17,
    "start_time": "2023-06-08T14:50:16.810Z"
   },
   {
    "duration": 3374,
    "start_time": "2023-06-08T14:50:19.650Z"
   },
   {
    "duration": 13,
    "start_time": "2023-06-08T14:50:23.415Z"
   },
   {
    "duration": 3,
    "start_time": "2023-06-08T14:50:35.645Z"
   },
   {
    "duration": 3282,
    "start_time": "2023-06-08T14:50:37.108Z"
   },
   {
    "duration": 21,
    "start_time": "2023-06-08T14:50:40.947Z"
   },
   {
    "duration": 4,
    "start_time": "2023-06-08T14:52:50.857Z"
   },
   {
    "duration": 5,
    "start_time": "2023-06-08T14:53:02.194Z"
   },
   {
    "duration": 5,
    "start_time": "2023-06-08T14:53:04.046Z"
   },
   {
    "duration": 115,
    "start_time": "2023-06-08T14:53:06.166Z"
   },
   {
    "duration": 9,
    "start_time": "2023-06-08T14:53:51.031Z"
   },
   {
    "duration": 4,
    "start_time": "2023-06-08T14:53:53.348Z"
   },
   {
    "duration": 4120,
    "start_time": "2023-06-08T14:53:54.744Z"
   },
   {
    "duration": 20,
    "start_time": "2023-06-08T14:54:06.039Z"
   },
   {
    "duration": 105,
    "start_time": "2023-06-08T14:56:57.189Z"
   },
   {
    "duration": 16,
    "start_time": "2023-06-08T14:56:59.088Z"
   },
   {
    "duration": 15,
    "start_time": "2023-06-08T14:57:09.478Z"
   },
   {
    "duration": 18,
    "start_time": "2023-06-08T15:04:02.679Z"
   },
   {
    "duration": 3597,
    "start_time": "2023-06-08T15:04:11.141Z"
   },
   {
    "duration": 567,
    "start_time": "2023-06-08T15:05:22.619Z"
   },
   {
    "duration": 25,
    "start_time": "2023-06-08T15:06:05.170Z"
   },
   {
    "duration": 804,
    "start_time": "2023-06-08T15:06:21.201Z"
   },
   {
    "duration": 181,
    "start_time": "2023-06-08T15:06:28.513Z"
   },
   {
    "duration": 9,
    "start_time": "2023-06-08T15:06:53.095Z"
   },
   {
    "duration": 166,
    "start_time": "2023-06-08T15:07:01.791Z"
   },
   {
    "duration": 43,
    "start_time": "2023-06-08T15:07:33.523Z"
   },
   {
    "duration": 3,
    "start_time": "2023-06-08T15:08:02.353Z"
   },
   {
    "duration": 209,
    "start_time": "2023-06-08T15:08:02.360Z"
   },
   {
    "duration": 41,
    "start_time": "2023-06-08T15:08:02.571Z"
   },
   {
    "duration": 32,
    "start_time": "2023-06-08T15:08:02.625Z"
   },
   {
    "duration": 5,
    "start_time": "2023-06-08T15:08:02.659Z"
   },
   {
    "duration": 20,
    "start_time": "2023-06-08T15:08:02.665Z"
   },
   {
    "duration": 3,
    "start_time": "2023-06-08T15:08:02.687Z"
   },
   {
    "duration": 20,
    "start_time": "2023-06-08T15:08:02.691Z"
   },
   {
    "duration": 1538,
    "start_time": "2023-06-08T15:08:02.713Z"
   },
   {
    "duration": 153,
    "start_time": "2023-06-08T15:08:04.252Z"
   },
   {
    "duration": 74,
    "start_time": "2023-06-08T15:08:04.408Z"
   },
   {
    "duration": 17,
    "start_time": "2023-06-08T15:08:04.484Z"
   },
   {
    "duration": 18,
    "start_time": "2023-06-08T15:08:04.502Z"
   },
   {
    "duration": 5,
    "start_time": "2023-06-08T15:08:04.521Z"
   },
   {
    "duration": 734,
    "start_time": "2023-06-08T15:08:04.528Z"
   },
   {
    "duration": 6,
    "start_time": "2023-06-08T15:08:05.265Z"
   },
   {
    "duration": 336,
    "start_time": "2023-06-08T15:08:13.611Z"
   },
   {
    "duration": 239,
    "start_time": "2023-06-08T15:08:22.601Z"
   },
   {
    "duration": 269,
    "start_time": "2023-06-08T15:08:30.987Z"
   },
   {
    "duration": 208,
    "start_time": "2023-06-08T15:08:37.632Z"
   },
   {
    "duration": 220,
    "start_time": "2023-06-08T15:08:45.895Z"
   },
   {
    "duration": 8453,
    "start_time": "2023-06-08T15:08:54.513Z"
   },
   {
    "duration": 1202,
    "start_time": "2023-06-08T15:09:20.029Z"
   },
   {
    "duration": 258,
    "start_time": "2023-06-08T15:10:10.243Z"
   },
   {
    "duration": 8,
    "start_time": "2023-06-08T15:10:23.896Z"
   },
   {
    "duration": 92,
    "start_time": "2023-06-08T15:10:29.297Z"
   },
   {
    "duration": 53,
    "start_time": "2023-06-08T15:10:51.740Z"
   },
   {
    "duration": 6,
    "start_time": "2023-06-08T15:11:17.061Z"
   },
   {
    "duration": 57,
    "start_time": "2023-06-08T15:12:13.962Z"
   },
   {
    "duration": 1199,
    "start_time": "2023-06-08T15:15:15.639Z"
   },
   {
    "duration": 3852,
    "start_time": "2023-06-08T15:15:29.235Z"
   },
   {
    "duration": 22,
    "start_time": "2023-06-08T15:15:40.110Z"
   },
   {
    "duration": 3852,
    "start_time": "2023-06-08T15:16:00.516Z"
   },
   {
    "duration": 19,
    "start_time": "2023-06-08T15:16:29.579Z"
   },
   {
    "duration": 26,
    "start_time": "2023-06-08T15:22:51.718Z"
   },
   {
    "duration": 7,
    "start_time": "2023-06-08T15:23:01.198Z"
   },
   {
    "duration": 5,
    "start_time": "2023-06-08T15:23:17.165Z"
   },
   {
    "duration": 4,
    "start_time": "2023-06-08T15:23:26.841Z"
   },
   {
    "duration": 220,
    "start_time": "2023-06-08T15:23:26.846Z"
   },
   {
    "duration": 38,
    "start_time": "2023-06-08T15:23:27.067Z"
   },
   {
    "duration": 55,
    "start_time": "2023-06-08T15:23:27.107Z"
   },
   {
    "duration": 4,
    "start_time": "2023-06-08T15:23:27.165Z"
   },
   {
    "duration": 16,
    "start_time": "2023-06-08T15:23:27.171Z"
   },
   {
    "duration": 4,
    "start_time": "2023-06-08T15:23:27.189Z"
   },
   {
    "duration": 12,
    "start_time": "2023-06-08T15:23:27.195Z"
   },
   {
    "duration": 1897,
    "start_time": "2023-06-08T15:23:27.208Z"
   },
   {
    "duration": 179,
    "start_time": "2023-06-08T15:23:29.107Z"
   },
   {
    "duration": 85,
    "start_time": "2023-06-08T15:23:29.290Z"
   },
   {
    "duration": 3,
    "start_time": "2023-06-08T15:23:29.377Z"
   },
   {
    "duration": 18,
    "start_time": "2023-06-08T15:23:29.382Z"
   },
   {
    "duration": 7,
    "start_time": "2023-06-08T15:23:29.402Z"
   },
   {
    "duration": 743,
    "start_time": "2023-06-08T15:23:29.411Z"
   },
   {
    "duration": 6,
    "start_time": "2023-06-08T15:23:30.156Z"
   },
   {
    "duration": 9,
    "start_time": "2023-06-08T15:23:30.165Z"
   },
   {
    "duration": 333,
    "start_time": "2023-06-08T15:23:33.200Z"
   },
   {
    "duration": 14,
    "start_time": "2023-06-08T15:23:50.576Z"
   },
   {
    "duration": 5,
    "start_time": "2023-06-08T15:23:59.299Z"
   },
   {
    "duration": 1763,
    "start_time": "2023-06-08T15:24:24.094Z"
   },
   {
    "duration": 239,
    "start_time": "2023-06-08T15:24:25.860Z"
   },
   {
    "duration": 60,
    "start_time": "2023-06-08T15:24:26.101Z"
   },
   {
    "duration": 33,
    "start_time": "2023-06-08T15:24:26.163Z"
   },
   {
    "duration": 27,
    "start_time": "2023-06-08T15:24:26.198Z"
   },
   {
    "duration": 23,
    "start_time": "2023-06-08T15:24:26.227Z"
   },
   {
    "duration": 10,
    "start_time": "2023-06-08T15:24:26.252Z"
   },
   {
    "duration": 16,
    "start_time": "2023-06-08T15:24:26.263Z"
   },
   {
    "duration": 1857,
    "start_time": "2023-06-08T15:24:26.281Z"
   },
   {
    "duration": 247,
    "start_time": "2023-06-08T15:24:28.142Z"
   },
   {
    "duration": 88,
    "start_time": "2023-06-08T15:24:28.391Z"
   },
   {
    "duration": 3,
    "start_time": "2023-06-08T15:24:28.481Z"
   },
   {
    "duration": 29,
    "start_time": "2023-06-08T15:24:28.485Z"
   },
   {
    "duration": 9,
    "start_time": "2023-06-08T15:24:28.516Z"
   },
   {
    "duration": 853,
    "start_time": "2023-06-08T15:24:28.527Z"
   },
   {
    "duration": 6,
    "start_time": "2023-06-08T15:24:29.382Z"
   },
   {
    "duration": 157,
    "start_time": "2023-06-08T15:24:29.389Z"
   },
   {
    "duration": 353,
    "start_time": "2023-06-08T15:24:29.548Z"
   },
   {
    "duration": 4,
    "start_time": "2023-06-08T15:24:29.903Z"
   },
   {
    "duration": 9,
    "start_time": "2023-06-08T15:24:29.924Z"
   },
   {
    "duration": 23,
    "start_time": "2023-06-08T15:24:29.935Z"
   },
   {
    "duration": 22,
    "start_time": "2023-06-08T15:24:29.960Z"
   },
   {
    "duration": 3879,
    "start_time": "2023-06-08T15:24:29.984Z"
   },
   {
    "duration": 121,
    "start_time": "2023-06-08T15:24:33.864Z"
   },
   {
    "duration": 0,
    "start_time": "2023-06-08T15:24:33.987Z"
   },
   {
    "duration": 0,
    "start_time": "2023-06-08T15:24:33.989Z"
   },
   {
    "duration": 0,
    "start_time": "2023-06-08T15:24:33.990Z"
   },
   {
    "duration": 0,
    "start_time": "2023-06-08T15:24:33.994Z"
   },
   {
    "duration": 0,
    "start_time": "2023-06-08T15:24:33.995Z"
   },
   {
    "duration": 0,
    "start_time": "2023-06-08T15:24:33.996Z"
   },
   {
    "duration": 0,
    "start_time": "2023-06-08T15:24:33.997Z"
   },
   {
    "duration": 0,
    "start_time": "2023-06-08T15:24:33.998Z"
   },
   {
    "duration": 1432,
    "start_time": "2023-06-08T16:59:07.329Z"
   },
   {
    "duration": 602,
    "start_time": "2023-06-08T16:59:08.763Z"
   },
   {
    "duration": 54,
    "start_time": "2023-06-08T16:59:09.367Z"
   },
   {
    "duration": 33,
    "start_time": "2023-06-08T16:59:09.423Z"
   },
   {
    "duration": 20,
    "start_time": "2023-06-08T16:59:09.457Z"
   },
   {
    "duration": 18,
    "start_time": "2023-06-08T16:59:09.479Z"
   },
   {
    "duration": 26,
    "start_time": "2023-06-08T16:59:09.499Z"
   },
   {
    "duration": 14,
    "start_time": "2023-06-08T16:59:09.527Z"
   },
   {
    "duration": 1639,
    "start_time": "2023-06-08T16:59:09.542Z"
   },
   {
    "duration": 224,
    "start_time": "2023-06-08T16:59:11.184Z"
   },
   {
    "duration": 77,
    "start_time": "2023-06-08T16:59:11.409Z"
   },
   {
    "duration": 3,
    "start_time": "2023-06-08T16:59:11.487Z"
   },
   {
    "duration": 16,
    "start_time": "2023-06-08T16:59:11.491Z"
   },
   {
    "duration": 6,
    "start_time": "2023-06-08T16:59:11.508Z"
   },
   {
    "duration": 771,
    "start_time": "2023-06-08T16:59:11.516Z"
   },
   {
    "duration": 6,
    "start_time": "2023-06-08T16:59:12.288Z"
   },
   {
    "duration": 7,
    "start_time": "2023-06-08T16:59:12.295Z"
   },
   {
    "duration": 327,
    "start_time": "2023-06-08T16:59:12.304Z"
   },
   {
    "duration": 3,
    "start_time": "2023-06-08T16:59:12.632Z"
   },
   {
    "duration": 7,
    "start_time": "2023-06-08T16:59:12.636Z"
   },
   {
    "duration": 5,
    "start_time": "2023-06-08T16:59:12.644Z"
   },
   {
    "duration": 8,
    "start_time": "2023-06-08T16:59:12.651Z"
   },
   {
    "duration": 3625,
    "start_time": "2023-06-08T16:59:12.661Z"
   },
   {
    "duration": 123,
    "start_time": "2023-06-08T16:59:16.288Z"
   },
   {
    "duration": 0,
    "start_time": "2023-06-08T16:59:16.413Z"
   },
   {
    "duration": 0,
    "start_time": "2023-06-08T16:59:16.414Z"
   },
   {
    "duration": 0,
    "start_time": "2023-06-08T16:59:16.415Z"
   },
   {
    "duration": 0,
    "start_time": "2023-06-08T16:59:16.417Z"
   },
   {
    "duration": 0,
    "start_time": "2023-06-08T16:59:16.419Z"
   },
   {
    "duration": 0,
    "start_time": "2023-06-08T16:59:16.420Z"
   },
   {
    "duration": 0,
    "start_time": "2023-06-08T16:59:16.422Z"
   },
   {
    "duration": 0,
    "start_time": "2023-06-08T16:59:16.423Z"
   },
   {
    "duration": 19,
    "start_time": "2023-06-08T16:59:34.116Z"
   },
   {
    "duration": 8155,
    "start_time": "2023-06-08T16:59:44.167Z"
   },
   {
    "duration": 97,
    "start_time": "2023-06-08T16:59:55.519Z"
   },
   {
    "duration": 3734,
    "start_time": "2023-06-08T17:00:05.218Z"
   },
   {
    "duration": 21,
    "start_time": "2023-06-08T17:00:11.057Z"
   },
   {
    "duration": 35,
    "start_time": "2023-06-08T17:00:55.409Z"
   },
   {
    "duration": 15,
    "start_time": "2023-06-08T17:00:57.340Z"
   },
   {
    "duration": 23,
    "start_time": "2023-06-08T17:01:11.267Z"
   },
   {
    "duration": 14,
    "start_time": "2023-06-08T17:01:22.956Z"
   },
   {
    "duration": 17,
    "start_time": "2023-06-08T17:01:34.516Z"
   },
   {
    "duration": 2,
    "start_time": "2023-06-08T17:02:38.040Z"
   },
   {
    "duration": 2,
    "start_time": "2023-06-08T17:02:41.490Z"
   },
   {
    "duration": 26,
    "start_time": "2023-06-08T17:02:44.209Z"
   },
   {
    "duration": 91,
    "start_time": "2023-06-08T17:04:15.516Z"
   },
   {
    "duration": 481,
    "start_time": "2023-06-08T17:04:50.146Z"
   },
   {
    "duration": 17,
    "start_time": "2023-06-08T17:04:52.545Z"
   },
   {
    "duration": 19,
    "start_time": "2023-06-08T17:04:58.647Z"
   },
   {
    "duration": 4026,
    "start_time": "2023-06-08T17:05:33.703Z"
   },
   {
    "duration": 20,
    "start_time": "2023-06-08T17:05:38.574Z"
   },
   {
    "duration": 444,
    "start_time": "2023-06-08T17:06:11.560Z"
   },
   {
    "duration": 5,
    "start_time": "2023-06-08T17:06:17.100Z"
   },
   {
    "duration": 125,
    "start_time": "2023-06-08T17:06:39.902Z"
   },
   {
    "duration": 141,
    "start_time": "2023-06-08T17:07:10.485Z"
   },
   {
    "duration": 13,
    "start_time": "2023-06-08T17:07:24.889Z"
   },
   {
    "duration": 7,
    "start_time": "2023-06-08T17:07:33.123Z"
   },
   {
    "duration": 6,
    "start_time": "2023-06-08T17:07:48.554Z"
   },
   {
    "duration": 548,
    "start_time": "2023-06-08T17:08:33.348Z"
   },
   {
    "duration": 16,
    "start_time": "2023-06-08T17:08:37.374Z"
   },
   {
    "duration": 5,
    "start_time": "2023-06-08T17:10:04.191Z"
   },
   {
    "duration": 437,
    "start_time": "2023-06-08T17:10:28.874Z"
   },
   {
    "duration": 7,
    "start_time": "2023-06-08T17:10:31.484Z"
   },
   {
    "duration": 14,
    "start_time": "2023-06-08T17:10:33.302Z"
   },
   {
    "duration": 4,
    "start_time": "2023-06-08T17:26:25.051Z"
   },
   {
    "duration": 5,
    "start_time": "2023-06-08T17:50:01.723Z"
   },
   {
    "duration": 4,
    "start_time": "2023-06-08T17:50:10.262Z"
   },
   {
    "duration": 5,
    "start_time": "2023-06-08T17:50:34.565Z"
   },
   {
    "duration": 5,
    "start_time": "2023-06-08T17:50:35.658Z"
   },
   {
    "duration": 4,
    "start_time": "2023-06-08T17:50:39.348Z"
   },
   {
    "duration": 1225,
    "start_time": "2023-06-08T17:50:42.764Z"
   },
   {
    "duration": 8,
    "start_time": "2023-06-08T17:51:50.027Z"
   },
   {
    "duration": 1133,
    "start_time": "2023-06-08T17:52:01.579Z"
   },
   {
    "duration": 126,
    "start_time": "2023-06-08T17:52:14.534Z"
   },
   {
    "duration": 4,
    "start_time": "2023-06-08T17:52:48.039Z"
   },
   {
    "duration": 256,
    "start_time": "2023-06-08T17:52:48.045Z"
   },
   {
    "duration": 44,
    "start_time": "2023-06-08T17:52:48.304Z"
   },
   {
    "duration": 47,
    "start_time": "2023-06-08T17:52:48.351Z"
   },
   {
    "duration": 4,
    "start_time": "2023-06-08T17:52:48.401Z"
   },
   {
    "duration": 18,
    "start_time": "2023-06-08T17:52:48.407Z"
   },
   {
    "duration": 3,
    "start_time": "2023-06-08T17:52:48.427Z"
   },
   {
    "duration": 11,
    "start_time": "2023-06-08T17:52:48.432Z"
   },
   {
    "duration": 1820,
    "start_time": "2023-06-08T17:52:48.445Z"
   },
   {
    "duration": 165,
    "start_time": "2023-06-08T17:52:50.267Z"
   },
   {
    "duration": 87,
    "start_time": "2023-06-08T17:52:50.435Z"
   },
   {
    "duration": 2,
    "start_time": "2023-06-08T17:52:50.524Z"
   },
   {
    "duration": 20,
    "start_time": "2023-06-08T17:52:50.528Z"
   },
   {
    "duration": 6,
    "start_time": "2023-06-08T17:52:50.550Z"
   },
   {
    "duration": 778,
    "start_time": "2023-06-08T17:52:50.558Z"
   },
   {
    "duration": 7,
    "start_time": "2023-06-08T17:52:51.338Z"
   },
   {
    "duration": 13,
    "start_time": "2023-06-08T17:52:51.347Z"
   },
   {
    "duration": 362,
    "start_time": "2023-06-08T17:52:51.361Z"
   },
   {
    "duration": 3,
    "start_time": "2023-06-08T17:52:51.725Z"
   },
   {
    "duration": 26,
    "start_time": "2023-06-08T17:52:51.730Z"
   },
   {
    "duration": 26,
    "start_time": "2023-06-08T17:52:51.758Z"
   },
   {
    "duration": 21,
    "start_time": "2023-06-08T17:52:51.786Z"
   },
   {
    "duration": 30,
    "start_time": "2023-06-08T17:52:51.809Z"
   },
   {
    "duration": 444,
    "start_time": "2023-06-08T17:56:24.880Z"
   },
   {
    "duration": 4947,
    "start_time": "2023-06-08T17:56:36.245Z"
   },
   {
    "duration": 19,
    "start_time": "2023-06-08T17:56:43.086Z"
   },
   {
    "duration": 683,
    "start_time": "2023-06-08T17:57:13.095Z"
   },
   {
    "duration": 7,
    "start_time": "2023-06-08T17:57:15.402Z"
   },
   {
    "duration": 16,
    "start_time": "2023-06-08T17:57:17.182Z"
   },
   {
    "duration": 4877,
    "start_time": "2023-06-08T17:57:30.541Z"
   },
   {
    "duration": 22,
    "start_time": "2023-06-08T17:57:38.913Z"
   },
   {
    "duration": 18,
    "start_time": "2023-06-08T17:58:40.773Z"
   },
   {
    "duration": 29,
    "start_time": "2023-06-08T17:59:11.784Z"
   },
   {
    "duration": 29,
    "start_time": "2023-06-08T17:59:46.799Z"
   },
   {
    "duration": 3,
    "start_time": "2023-06-08T18:05:28.945Z"
   },
   {
    "duration": 4697,
    "start_time": "2023-06-08T18:05:30.500Z"
   },
   {
    "duration": 3,
    "start_time": "2023-06-08T18:05:42.776Z"
   },
   {
    "duration": 4841,
    "start_time": "2023-06-08T18:05:45.052Z"
   },
   {
    "duration": 4734,
    "start_time": "2023-06-08T18:07:10.770Z"
   },
   {
    "duration": 52,
    "start_time": "2023-06-08T18:07:58.602Z"
   },
   {
    "duration": 53,
    "start_time": "2023-06-08T18:08:12.416Z"
   },
   {
    "duration": 4980,
    "start_time": "2023-06-08T18:08:18.587Z"
   },
   {
    "duration": 8215,
    "start_time": "2023-06-08T18:09:12.378Z"
   },
   {
    "duration": 4783,
    "start_time": "2023-06-08T18:09:21.588Z"
   },
   {
    "duration": 5246,
    "start_time": "2023-06-08T18:11:27.156Z"
   },
   {
    "duration": 4,
    "start_time": "2023-06-08T18:12:08.681Z"
   },
   {
    "duration": 4667,
    "start_time": "2023-06-08T18:12:10.871Z"
   },
   {
    "duration": 5234,
    "start_time": "2023-06-08T18:12:24.351Z"
   },
   {
    "duration": 4,
    "start_time": "2023-06-08T18:12:59.517Z"
   },
   {
    "duration": 4921,
    "start_time": "2023-06-08T18:13:06.305Z"
   },
   {
    "duration": 65,
    "start_time": "2023-06-08T18:16:10.979Z"
   },
   {
    "duration": 8073,
    "start_time": "2023-06-08T18:16:20.251Z"
   },
   {
    "duration": 5040,
    "start_time": "2023-06-08T18:16:30.525Z"
   },
   {
    "duration": 70877,
    "start_time": "2023-06-08T18:18:24.850Z"
   },
   {
    "duration": 22396,
    "start_time": "2023-06-08T18:19:50.982Z"
   },
   {
    "duration": 5037,
    "start_time": "2023-06-08T18:20:35.959Z"
   },
   {
    "duration": 103937,
    "start_time": "2023-06-08T18:25:05.249Z"
   },
   {
    "duration": 5781,
    "start_time": "2023-06-08T18:27:32.041Z"
   },
   {
    "duration": 1400,
    "start_time": "2023-06-08T18:30:20.485Z"
   },
   {
    "duration": 230,
    "start_time": "2023-06-08T18:30:21.886Z"
   },
   {
    "duration": 45,
    "start_time": "2023-06-08T18:30:22.118Z"
   },
   {
    "duration": 41,
    "start_time": "2023-06-08T18:30:22.164Z"
   },
   {
    "duration": 7,
    "start_time": "2023-06-08T18:30:22.208Z"
   },
   {
    "duration": 29,
    "start_time": "2023-06-08T18:30:22.216Z"
   },
   {
    "duration": 10,
    "start_time": "2023-06-08T18:30:22.247Z"
   },
   {
    "duration": 18,
    "start_time": "2023-06-08T18:30:22.259Z"
   },
   {
    "duration": 1770,
    "start_time": "2023-06-08T18:30:22.279Z"
   },
   {
    "duration": 103,
    "start_time": "2023-06-08T18:30:24.050Z"
   },
   {
    "duration": 65,
    "start_time": "2023-06-08T18:30:24.155Z"
   },
   {
    "duration": 2,
    "start_time": "2023-06-08T18:30:24.222Z"
   },
   {
    "duration": 17,
    "start_time": "2023-06-08T18:30:24.226Z"
   },
   {
    "duration": 5,
    "start_time": "2023-06-08T18:30:24.338Z"
   },
   {
    "duration": 255,
    "start_time": "2023-06-08T18:30:24.345Z"
   },
   {
    "duration": 5,
    "start_time": "2023-06-08T18:30:24.602Z"
   },
   {
    "duration": 8,
    "start_time": "2023-06-08T18:30:24.609Z"
   },
   {
    "duration": 86,
    "start_time": "2023-06-08T18:30:24.619Z"
   },
   {
    "duration": 3,
    "start_time": "2023-06-08T18:30:24.706Z"
   },
   {
    "duration": 10,
    "start_time": "2023-06-08T18:30:24.710Z"
   },
   {
    "duration": 12,
    "start_time": "2023-06-08T18:30:24.721Z"
   },
   {
    "duration": 23,
    "start_time": "2023-06-08T18:30:24.735Z"
   },
   {
    "duration": 11,
    "start_time": "2023-06-08T18:30:24.760Z"
   },
   {
    "duration": 8,
    "start_time": "2023-06-08T18:30:24.773Z"
   },
   {
    "duration": 3199,
    "start_time": "2023-06-08T18:30:24.783Z"
   },
   {
    "duration": 2084,
    "start_time": "2023-06-08T18:30:27.984Z"
   },
   {
    "duration": 42506,
    "start_time": "2023-06-08T18:30:30.070Z"
   },
   {
    "duration": 11902,
    "start_time": "2023-06-08T18:31:12.577Z"
   },
   {
    "duration": 3529,
    "start_time": "2023-06-08T18:31:24.482Z"
   },
   {
    "duration": 3957,
    "start_time": "2023-06-08T18:31:28.013Z"
   },
   {
    "duration": 3140,
    "start_time": "2023-06-08T18:31:31.976Z"
   },
   {
    "duration": 113,
    "start_time": "2023-06-08T18:34:08.596Z"
   },
   {
    "duration": 13,
    "start_time": "2023-06-08T18:34:11.672Z"
   },
   {
    "duration": 1331,
    "start_time": "2023-06-08T18:34:39.552Z"
   },
   {
    "duration": 251,
    "start_time": "2023-06-08T18:34:40.886Z"
   },
   {
    "duration": 51,
    "start_time": "2023-06-08T18:34:41.139Z"
   },
   {
    "duration": 34,
    "start_time": "2023-06-08T18:34:41.192Z"
   },
   {
    "duration": 5,
    "start_time": "2023-06-08T18:34:41.228Z"
   },
   {
    "duration": 42,
    "start_time": "2023-06-08T18:34:41.235Z"
   },
   {
    "duration": 12,
    "start_time": "2023-06-08T18:34:41.279Z"
   },
   {
    "duration": 9,
    "start_time": "2023-06-08T18:34:41.292Z"
   },
   {
    "duration": 1783,
    "start_time": "2023-06-08T18:34:41.302Z"
   },
   {
    "duration": 123,
    "start_time": "2023-06-08T18:34:43.087Z"
   },
   {
    "duration": 74,
    "start_time": "2023-06-08T18:34:43.212Z"
   },
   {
    "duration": 2,
    "start_time": "2023-06-08T18:34:43.288Z"
   },
   {
    "duration": 14,
    "start_time": "2023-06-08T18:34:43.292Z"
   },
   {
    "duration": 4,
    "start_time": "2023-06-08T18:34:43.406Z"
   },
   {
    "duration": 352,
    "start_time": "2023-06-08T18:34:43.412Z"
   },
   {
    "duration": 10,
    "start_time": "2023-06-08T18:34:43.766Z"
   },
   {
    "duration": 5,
    "start_time": "2023-06-08T18:34:43.778Z"
   },
   {
    "duration": 122,
    "start_time": "2023-06-08T18:34:43.784Z"
   },
   {
    "duration": 3,
    "start_time": "2023-06-08T18:34:43.907Z"
   },
   {
    "duration": 7,
    "start_time": "2023-06-08T18:34:43.911Z"
   },
   {
    "duration": 21,
    "start_time": "2023-06-08T18:34:43.920Z"
   },
   {
    "duration": 29,
    "start_time": "2023-06-08T18:34:43.942Z"
   },
   {
    "duration": 10,
    "start_time": "2023-06-08T18:34:43.973Z"
   },
   {
    "duration": 9,
    "start_time": "2023-06-08T18:34:43.984Z"
   },
   {
    "duration": 3503,
    "start_time": "2023-06-08T18:34:43.994Z"
   },
   {
    "duration": 4187,
    "start_time": "2023-06-08T18:34:47.499Z"
   },
   {
    "duration": 61757,
    "start_time": "2023-06-08T18:34:51.688Z"
   },
   {
    "duration": 14635,
    "start_time": "2023-06-08T18:35:53.447Z"
   },
   {
    "duration": 3700,
    "start_time": "2023-06-08T18:36:08.088Z"
   },
   {
    "duration": 4462,
    "start_time": "2023-06-08T18:36:11.789Z"
   },
   {
    "duration": 3839,
    "start_time": "2023-06-08T18:36:16.252Z"
   },
   {
    "duration": 1595,
    "start_time": "2023-06-08T18:42:47.210Z"
   },
   {
    "duration": 238,
    "start_time": "2023-06-08T18:42:48.807Z"
   },
   {
    "duration": 82,
    "start_time": "2023-06-08T18:42:49.047Z"
   },
   {
    "duration": 50,
    "start_time": "2023-06-08T18:42:49.132Z"
   },
   {
    "duration": 4,
    "start_time": "2023-06-08T18:42:49.184Z"
   },
   {
    "duration": 20,
    "start_time": "2023-06-08T18:42:49.190Z"
   },
   {
    "duration": 2,
    "start_time": "2023-06-08T18:42:49.212Z"
   },
   {
    "duration": 6,
    "start_time": "2023-06-08T18:42:49.215Z"
   },
   {
    "duration": 1774,
    "start_time": "2023-06-08T18:42:49.223Z"
   },
   {
    "duration": 243,
    "start_time": "2023-06-08T18:42:51.000Z"
   },
   {
    "duration": 73,
    "start_time": "2023-06-08T18:42:51.245Z"
   },
   {
    "duration": 3,
    "start_time": "2023-06-08T18:42:51.320Z"
   },
   {
    "duration": 32,
    "start_time": "2023-06-08T18:42:51.326Z"
   },
   {
    "duration": 30,
    "start_time": "2023-06-08T18:42:51.361Z"
   },
   {
    "duration": 928,
    "start_time": "2023-06-08T18:42:51.393Z"
   },
   {
    "duration": 6,
    "start_time": "2023-06-08T18:42:52.323Z"
   },
   {
    "duration": 24,
    "start_time": "2023-06-08T18:42:52.330Z"
   },
   {
    "duration": 331,
    "start_time": "2023-06-08T18:42:52.356Z"
   },
   {
    "duration": 3,
    "start_time": "2023-06-08T18:42:52.688Z"
   },
   {
    "duration": 35,
    "start_time": "2023-06-08T18:42:52.693Z"
   },
   {
    "duration": 39,
    "start_time": "2023-06-08T18:42:52.730Z"
   },
   {
    "duration": 50,
    "start_time": "2023-06-08T18:42:52.770Z"
   },
   {
    "duration": 33,
    "start_time": "2023-06-08T18:42:52.823Z"
   },
   {
    "duration": 16,
    "start_time": "2023-06-08T18:42:52.858Z"
   },
   {
    "duration": 5110,
    "start_time": "2023-06-08T18:42:52.876Z"
   },
   {
    "duration": 8554,
    "start_time": "2023-06-08T18:42:57.988Z"
   },
   {
    "duration": 107878,
    "start_time": "2023-06-08T18:43:06.545Z"
   },
   {
    "duration": 23352,
    "start_time": "2023-06-08T18:44:54.428Z"
   },
   {
    "duration": 5180,
    "start_time": "2023-06-08T18:45:17.782Z"
   },
   {
    "duration": 6230,
    "start_time": "2023-06-08T18:45:22.964Z"
   },
   {
    "duration": 4854,
    "start_time": "2023-06-08T18:45:29.196Z"
   },
   {
    "duration": 1680,
    "start_time": "2023-06-09T03:05:15.559Z"
   },
   {
    "duration": 1099,
    "start_time": "2023-06-09T03:05:17.241Z"
   },
   {
    "duration": 60,
    "start_time": "2023-06-09T03:05:18.342Z"
   },
   {
    "duration": 40,
    "start_time": "2023-06-09T03:05:18.404Z"
   },
   {
    "duration": 7,
    "start_time": "2023-06-09T03:05:18.446Z"
   },
   {
    "duration": 52,
    "start_time": "2023-06-09T03:05:18.455Z"
   },
   {
    "duration": 30,
    "start_time": "2023-06-09T03:05:18.508Z"
   },
   {
    "duration": 67,
    "start_time": "2023-06-09T03:05:18.541Z"
   },
   {
    "duration": 2085,
    "start_time": "2023-06-09T03:05:18.610Z"
   },
   {
    "duration": 278,
    "start_time": "2023-06-09T03:05:20.699Z"
   },
   {
    "duration": 83,
    "start_time": "2023-06-09T03:05:20.979Z"
   },
   {
    "duration": 3,
    "start_time": "2023-06-09T03:05:21.064Z"
   },
   {
    "duration": 40,
    "start_time": "2023-06-09T03:05:21.069Z"
   },
   {
    "duration": 28,
    "start_time": "2023-06-09T03:05:21.111Z"
   },
   {
    "duration": 886,
    "start_time": "2023-06-09T03:05:21.142Z"
   },
   {
    "duration": 11,
    "start_time": "2023-06-09T03:05:22.032Z"
   },
   {
    "duration": 12,
    "start_time": "2023-06-09T03:05:22.047Z"
   },
   {
    "duration": 381,
    "start_time": "2023-06-09T03:05:22.061Z"
   },
   {
    "duration": 4,
    "start_time": "2023-06-09T03:05:22.445Z"
   },
   {
    "duration": 8,
    "start_time": "2023-06-09T03:05:22.451Z"
   },
   {
    "duration": 9,
    "start_time": "2023-06-09T03:05:22.461Z"
   },
   {
    "duration": 86,
    "start_time": "2023-06-09T03:05:22.472Z"
   },
   {
    "duration": 31,
    "start_time": "2023-06-09T03:05:22.560Z"
   },
   {
    "duration": 9,
    "start_time": "2023-06-09T03:05:22.594Z"
   },
   {
    "duration": 5992,
    "start_time": "2023-06-09T03:05:22.605Z"
   },
   {
    "duration": 10052,
    "start_time": "2023-06-09T03:05:28.599Z"
   },
   {
    "duration": 123759,
    "start_time": "2023-06-09T03:05:38.653Z"
   },
   {
    "duration": 24642,
    "start_time": "2023-06-09T03:07:42.415Z"
   },
   {
    "duration": 5938,
    "start_time": "2023-06-09T03:08:07.127Z"
   },
   {
    "duration": 7216,
    "start_time": "2023-06-09T03:08:13.068Z"
   },
   {
    "duration": 6033,
    "start_time": "2023-06-09T03:08:20.286Z"
   },
   {
    "duration": 6,
    "start_time": "2023-06-09T03:10:52.904Z"
   },
   {
    "duration": 5937,
    "start_time": "2023-06-09T03:11:09.658Z"
   },
   {
    "duration": 6490,
    "start_time": "2023-06-09T03:11:42.087Z"
   },
   {
    "duration": 7527,
    "start_time": "2023-06-09T03:13:26.420Z"
   },
   {
    "duration": 6832,
    "start_time": "2023-06-09T03:13:59.954Z"
   },
   {
    "duration": 1543,
    "start_time": "2023-06-09T03:37:28.046Z"
   },
   {
    "duration": 472,
    "start_time": "2023-06-09T03:37:29.592Z"
   },
   {
    "duration": 90,
    "start_time": "2023-06-09T03:37:30.070Z"
   },
   {
    "duration": 63,
    "start_time": "2023-06-09T03:37:30.169Z"
   },
   {
    "duration": 19,
    "start_time": "2023-06-09T03:37:30.237Z"
   },
   {
    "duration": 56,
    "start_time": "2023-06-09T03:37:30.259Z"
   },
   {
    "duration": 43,
    "start_time": "2023-06-09T03:37:30.316Z"
   },
   {
    "duration": 33,
    "start_time": "2023-06-09T03:37:30.363Z"
   },
   {
    "duration": 2177,
    "start_time": "2023-06-09T03:37:30.398Z"
   },
   {
    "duration": 201,
    "start_time": "2023-06-09T03:37:32.577Z"
   },
   {
    "duration": 109,
    "start_time": "2023-06-09T03:37:32.780Z"
   },
   {
    "duration": 3,
    "start_time": "2023-06-09T03:37:32.891Z"
   },
   {
    "duration": 30,
    "start_time": "2023-06-09T03:37:32.896Z"
   },
   {
    "duration": 8,
    "start_time": "2023-06-09T03:37:33.039Z"
   },
   {
    "duration": 1011,
    "start_time": "2023-06-09T03:37:33.058Z"
   },
   {
    "duration": 7,
    "start_time": "2023-06-09T03:37:34.072Z"
   },
   {
    "duration": 6,
    "start_time": "2023-06-09T03:37:34.081Z"
   },
   {
    "duration": 24,
    "start_time": "2023-06-09T03:37:34.089Z"
   },
   {
    "duration": 32,
    "start_time": "2023-06-09T03:37:34.116Z"
   },
   {
    "duration": 17,
    "start_time": "2023-06-09T03:37:34.156Z"
   },
   {
    "duration": 13,
    "start_time": "2023-06-09T03:37:34.175Z"
   },
   {
    "duration": 22,
    "start_time": "2023-06-09T03:37:34.190Z"
   },
   {
    "duration": 49,
    "start_time": "2023-06-09T03:37:34.217Z"
   },
   {
    "duration": 7,
    "start_time": "2023-06-09T03:37:34.268Z"
   },
   {
    "duration": 6399,
    "start_time": "2023-06-09T03:37:34.277Z"
   },
   {
    "duration": 7867,
    "start_time": "2023-06-09T03:37:40.678Z"
   },
   {
    "duration": 13,
    "start_time": "2023-06-09T03:37:48.548Z"
   },
   {
    "duration": 19821,
    "start_time": "2023-06-09T03:37:48.563Z"
   },
   {
    "duration": 7547,
    "start_time": "2023-06-09T03:38:08.439Z"
   },
   {
    "duration": 4,
    "start_time": "2023-06-09T03:38:15.989Z"
   },
   {
    "duration": 7291,
    "start_time": "2023-06-09T03:38:15.995Z"
   },
   {
    "duration": 32,
    "start_time": "2023-06-09T03:45:43.598Z"
   },
   {
    "duration": 184,
    "start_time": "2023-06-09T03:46:23.853Z"
   },
   {
    "duration": 120,
    "start_time": "2023-06-09T03:46:28.962Z"
   },
   {
    "duration": 1476,
    "start_time": "2023-06-09T03:46:51.904Z"
   },
   {
    "duration": 2801,
    "start_time": "2023-06-09T03:47:58.394Z"
   },
   {
    "duration": 7,
    "start_time": "2023-06-09T04:02:19.094Z"
   },
   {
    "duration": 5,
    "start_time": "2023-06-09T04:02:38.687Z"
   },
   {
    "duration": 5,
    "start_time": "2023-06-09T04:02:40.608Z"
   },
   {
    "duration": 5,
    "start_time": "2023-06-09T04:02:44.766Z"
   },
   {
    "duration": 6437,
    "start_time": "2023-06-09T04:02:52.857Z"
   },
   {
    "duration": 6296,
    "start_time": "2023-06-09T04:03:34.189Z"
   },
   {
    "duration": 15,
    "start_time": "2023-06-09T04:06:47.324Z"
   },
   {
    "duration": 4,
    "start_time": "2023-06-09T04:06:49.015Z"
   },
   {
    "duration": 7,
    "start_time": "2023-06-09T04:06:51.264Z"
   },
   {
    "duration": 7614,
    "start_time": "2023-06-09T04:06:56.383Z"
   },
   {
    "duration": 1796,
    "start_time": "2023-06-09T04:10:03.907Z"
   },
   {
    "duration": 417,
    "start_time": "2023-06-09T04:10:05.706Z"
   },
   {
    "duration": 64,
    "start_time": "2023-06-09T04:10:06.126Z"
   },
   {
    "duration": 65,
    "start_time": "2023-06-09T04:10:06.192Z"
   },
   {
    "duration": 9,
    "start_time": "2023-06-09T04:10:06.259Z"
   },
   {
    "duration": 20,
    "start_time": "2023-06-09T04:10:06.270Z"
   },
   {
    "duration": 5,
    "start_time": "2023-06-09T04:10:06.292Z"
   },
   {
    "duration": 33,
    "start_time": "2023-06-09T04:10:06.299Z"
   },
   {
    "duration": 2129,
    "start_time": "2023-06-09T04:10:06.334Z"
   },
   {
    "duration": 227,
    "start_time": "2023-06-09T04:10:08.467Z"
   },
   {
    "duration": 117,
    "start_time": "2023-06-09T04:10:08.696Z"
   },
   {
    "duration": 2,
    "start_time": "2023-06-09T04:10:08.815Z"
   },
   {
    "duration": 27,
    "start_time": "2023-06-09T04:10:08.827Z"
   },
   {
    "duration": 7,
    "start_time": "2023-06-09T04:10:08.856Z"
   },
   {
    "duration": 343,
    "start_time": "2023-06-09T04:10:08.865Z"
   },
   {
    "duration": 7,
    "start_time": "2023-06-09T04:10:09.210Z"
   },
   {
    "duration": 11,
    "start_time": "2023-06-09T04:10:09.229Z"
   },
   {
    "duration": 7,
    "start_time": "2023-06-09T04:10:09.246Z"
   },
   {
    "duration": 8,
    "start_time": "2023-06-09T04:10:09.255Z"
   },
   {
    "duration": 7,
    "start_time": "2023-06-09T04:10:09.265Z"
   },
   {
    "duration": 8,
    "start_time": "2023-06-09T04:10:09.274Z"
   },
   {
    "duration": 7,
    "start_time": "2023-06-09T04:10:09.284Z"
   },
   {
    "duration": 5,
    "start_time": "2023-06-09T04:10:09.294Z"
   },
   {
    "duration": 4152,
    "start_time": "2023-06-09T04:10:09.330Z"
   },
   {
    "duration": 2061,
    "start_time": "2023-06-09T04:10:13.484Z"
   },
   {
    "duration": 4017,
    "start_time": "2023-06-09T04:10:15.547Z"
   },
   {
    "duration": 2,
    "start_time": "2023-06-09T04:10:19.566Z"
   },
   {
    "duration": 57483,
    "start_time": "2023-06-09T04:10:19.572Z"
   },
   {
    "duration": 4331,
    "start_time": "2023-06-09T04:11:17.057Z"
   },
   {
    "duration": 3,
    "start_time": "2023-06-09T04:11:21.390Z"
   },
   {
    "duration": 2486,
    "start_time": "2023-06-09T04:11:21.395Z"
   },
   {
    "duration": 68,
    "start_time": "2023-06-09T04:11:56.845Z"
   },
   {
    "duration": 240,
    "start_time": "2023-06-09T04:12:36.513Z"
   },
   {
    "duration": 1884,
    "start_time": "2023-06-09T04:13:00.601Z"
   },
   {
    "duration": 4026,
    "start_time": "2023-06-09T04:13:05.549Z"
   },
   {
    "duration": 1809,
    "start_time": "2023-06-09T04:13:57.884Z"
   },
   {
    "duration": 461,
    "start_time": "2023-06-09T04:13:59.695Z"
   },
   {
    "duration": 84,
    "start_time": "2023-06-09T04:14:00.162Z"
   },
   {
    "duration": 86,
    "start_time": "2023-06-09T04:14:00.254Z"
   },
   {
    "duration": 65,
    "start_time": "2023-06-09T04:14:00.345Z"
   },
   {
    "duration": 60,
    "start_time": "2023-06-09T04:14:00.412Z"
   },
   {
    "duration": 27,
    "start_time": "2023-06-09T04:14:00.474Z"
   },
   {
    "duration": 62,
    "start_time": "2023-06-09T04:14:00.504Z"
   },
   {
    "duration": 2587,
    "start_time": "2023-06-09T04:14:00.572Z"
   },
   {
    "duration": 193,
    "start_time": "2023-06-09T04:14:03.169Z"
   },
   {
    "duration": 136,
    "start_time": "2023-06-09T04:14:03.373Z"
   },
   {
    "duration": 3,
    "start_time": "2023-06-09T04:14:03.512Z"
   },
   {
    "duration": 145,
    "start_time": "2023-06-09T04:14:03.518Z"
   },
   {
    "duration": 10,
    "start_time": "2023-06-09T04:14:03.666Z"
   },
   {
    "duration": 419,
    "start_time": "2023-06-09T04:14:03.678Z"
   },
   {
    "duration": 5,
    "start_time": "2023-06-09T04:14:04.099Z"
   },
   {
    "duration": 31,
    "start_time": "2023-06-09T04:14:04.106Z"
   },
   {
    "duration": 99,
    "start_time": "2023-06-09T04:14:04.138Z"
   },
   {
    "duration": 4,
    "start_time": "2023-06-09T04:14:04.240Z"
   },
   {
    "duration": 7,
    "start_time": "2023-06-09T04:14:04.246Z"
   },
   {
    "duration": 28,
    "start_time": "2023-06-09T04:14:04.255Z"
   },
   {
    "duration": 9,
    "start_time": "2023-06-09T04:14:04.285Z"
   },
   {
    "duration": 6,
    "start_time": "2023-06-09T04:14:04.296Z"
   },
   {
    "duration": 4857,
    "start_time": "2023-06-09T04:14:04.304Z"
   },
   {
    "duration": 3659,
    "start_time": "2023-06-09T04:14:09.169Z"
   },
   {
    "duration": 4539,
    "start_time": "2023-06-09T04:14:12.832Z"
   },
   {
    "duration": 8,
    "start_time": "2023-06-09T04:14:17.377Z"
   },
   {
    "duration": 76034,
    "start_time": "2023-06-09T04:14:17.392Z"
   },
   {
    "duration": 4551,
    "start_time": "2023-06-09T04:15:33.431Z"
   },
   {
    "duration": 3,
    "start_time": "2023-06-09T04:15:37.984Z"
   },
   {
    "duration": 2812,
    "start_time": "2023-06-09T04:15:37.990Z"
   },
   {
    "duration": 77314,
    "start_time": "2023-06-09T04:20:14.071Z"
   },
   {
    "duration": 4839,
    "start_time": "2023-06-09T04:21:41.375Z"
   },
   {
    "duration": 130,
    "start_time": "2023-06-09T04:36:21.761Z"
   },
   {
    "duration": 10,
    "start_time": "2023-06-09T04:38:20.534Z"
   },
   {
    "duration": 5,
    "start_time": "2023-06-09T04:38:38.688Z"
   },
   {
    "duration": 7,
    "start_time": "2023-06-09T04:38:55.349Z"
   },
   {
    "duration": 7,
    "start_time": "2023-06-09T04:39:26.861Z"
   },
   {
    "duration": 32,
    "start_time": "2023-06-09T04:41:28.591Z"
   },
   {
    "duration": 13,
    "start_time": "2023-06-09T04:41:44.559Z"
   },
   {
    "duration": 1577,
    "start_time": "2023-06-09T04:42:18.931Z"
   },
   {
    "duration": 15,
    "start_time": "2023-06-09T04:42:29.289Z"
   },
   {
    "duration": 15,
    "start_time": "2023-06-09T04:42:35.853Z"
   },
   {
    "duration": 15,
    "start_time": "2023-06-09T04:42:43.534Z"
   },
   {
    "duration": 12,
    "start_time": "2023-06-09T04:42:51.885Z"
   },
   {
    "duration": 13,
    "start_time": "2023-06-09T04:43:11.560Z"
   },
   {
    "duration": 14,
    "start_time": "2023-06-09T04:43:27.314Z"
   },
   {
    "duration": 12,
    "start_time": "2023-06-09T04:43:32.598Z"
   },
   {
    "duration": 11,
    "start_time": "2023-06-09T04:43:44.595Z"
   },
   {
    "duration": 12,
    "start_time": "2023-06-09T04:43:51.998Z"
   },
   {
    "duration": 13,
    "start_time": "2023-06-09T04:43:58.451Z"
   },
   {
    "duration": 23,
    "start_time": "2023-06-09T04:44:06.640Z"
   },
   {
    "duration": 12,
    "start_time": "2023-06-09T04:44:14.862Z"
   },
   {
    "duration": 295,
    "start_time": "2023-06-09T04:45:02.317Z"
   },
   {
    "duration": 14,
    "start_time": "2023-06-09T04:45:31.124Z"
   },
   {
    "duration": 14,
    "start_time": "2023-06-09T04:45:36.000Z"
   },
   {
    "duration": 13,
    "start_time": "2023-06-09T04:45:40.391Z"
   },
   {
    "duration": 12,
    "start_time": "2023-06-09T04:45:45.372Z"
   },
   {
    "duration": 29,
    "start_time": "2023-06-09T04:45:49.415Z"
   },
   {
    "duration": 11,
    "start_time": "2023-06-09T04:45:54.768Z"
   },
   {
    "duration": 15,
    "start_time": "2023-06-09T04:46:01.396Z"
   },
   {
    "duration": 11,
    "start_time": "2023-06-09T04:46:07.179Z"
   },
   {
    "duration": 13,
    "start_time": "2023-06-09T04:46:19.410Z"
   },
   {
    "duration": 11,
    "start_time": "2023-06-09T04:46:23.880Z"
   },
   {
    "duration": 11,
    "start_time": "2023-06-09T04:46:34.189Z"
   },
   {
    "duration": 14,
    "start_time": "2023-06-09T04:46:38.693Z"
   },
   {
    "duration": 18,
    "start_time": "2023-06-09T04:46:43.123Z"
   },
   {
    "duration": 1515,
    "start_time": "2023-06-09T04:47:42.125Z"
   },
   {
    "duration": 297,
    "start_time": "2023-06-09T04:47:43.643Z"
   },
   {
    "duration": 50,
    "start_time": "2023-06-09T04:47:43.946Z"
   },
   {
    "duration": 57,
    "start_time": "2023-06-09T04:47:43.998Z"
   },
   {
    "duration": 7,
    "start_time": "2023-06-09T04:47:44.057Z"
   },
   {
    "duration": 24,
    "start_time": "2023-06-09T04:47:44.066Z"
   },
   {
    "duration": 4,
    "start_time": "2023-06-09T04:47:44.093Z"
   },
   {
    "duration": 35,
    "start_time": "2023-06-09T04:47:44.099Z"
   },
   {
    "duration": 27,
    "start_time": "2023-06-09T04:47:44.138Z"
   },
   {
    "duration": 1842,
    "start_time": "2023-06-09T04:47:44.169Z"
   },
   {
    "duration": 185,
    "start_time": "2023-06-09T04:47:46.014Z"
   },
   {
    "duration": 100,
    "start_time": "2023-06-09T04:47:46.201Z"
   },
   {
    "duration": 132,
    "start_time": "2023-06-09T04:47:46.303Z"
   },
   {
    "duration": 0,
    "start_time": "2023-06-09T04:47:46.444Z"
   },
   {
    "duration": 0,
    "start_time": "2023-06-09T04:47:46.445Z"
   },
   {
    "duration": 0,
    "start_time": "2023-06-09T04:47:46.447Z"
   },
   {
    "duration": 0,
    "start_time": "2023-06-09T04:47:46.448Z"
   },
   {
    "duration": 0,
    "start_time": "2023-06-09T04:47:46.450Z"
   },
   {
    "duration": 0,
    "start_time": "2023-06-09T04:47:46.452Z"
   },
   {
    "duration": 0,
    "start_time": "2023-06-09T04:47:46.453Z"
   },
   {
    "duration": 0,
    "start_time": "2023-06-09T04:47:46.455Z"
   },
   {
    "duration": 0,
    "start_time": "2023-06-09T04:47:46.457Z"
   },
   {
    "duration": 0,
    "start_time": "2023-06-09T04:47:46.458Z"
   },
   {
    "duration": 0,
    "start_time": "2023-06-09T04:47:46.460Z"
   },
   {
    "duration": 0,
    "start_time": "2023-06-09T04:47:46.462Z"
   },
   {
    "duration": 0,
    "start_time": "2023-06-09T04:47:46.464Z"
   },
   {
    "duration": 0,
    "start_time": "2023-06-09T04:47:46.465Z"
   },
   {
    "duration": 0,
    "start_time": "2023-06-09T04:47:46.467Z"
   },
   {
    "duration": 0,
    "start_time": "2023-06-09T04:47:46.469Z"
   },
   {
    "duration": 0,
    "start_time": "2023-06-09T04:47:46.470Z"
   },
   {
    "duration": 0,
    "start_time": "2023-06-09T04:47:46.471Z"
   },
   {
    "duration": 0,
    "start_time": "2023-06-09T04:47:46.474Z"
   },
   {
    "duration": 1552,
    "start_time": "2023-06-09T04:50:49.718Z"
   },
   {
    "duration": 290,
    "start_time": "2023-06-09T04:50:51.272Z"
   },
   {
    "duration": 79,
    "start_time": "2023-06-09T04:50:51.564Z"
   },
   {
    "duration": 54,
    "start_time": "2023-06-09T04:50:51.646Z"
   },
   {
    "duration": 6,
    "start_time": "2023-06-09T04:50:51.702Z"
   },
   {
    "duration": 31,
    "start_time": "2023-06-09T04:50:51.727Z"
   },
   {
    "duration": 36,
    "start_time": "2023-06-09T04:50:51.760Z"
   },
   {
    "duration": 43,
    "start_time": "2023-06-09T04:50:51.798Z"
   },
   {
    "duration": 50,
    "start_time": "2023-06-09T04:50:51.843Z"
   },
   {
    "duration": 1866,
    "start_time": "2023-06-09T04:50:51.897Z"
   },
   {
    "duration": 192,
    "start_time": "2023-06-09T04:50:53.765Z"
   },
   {
    "duration": 95,
    "start_time": "2023-06-09T04:50:53.959Z"
   },
   {
    "duration": 12,
    "start_time": "2023-06-09T04:50:54.056Z"
   },
   {
    "duration": 26,
    "start_time": "2023-06-09T04:50:54.070Z"
   },
   {
    "duration": 954,
    "start_time": "2023-06-09T04:50:54.099Z"
   },
   {
    "duration": 368,
    "start_time": "2023-06-09T04:50:55.055Z"
   },
   {
    "duration": 12,
    "start_time": "2023-06-09T04:50:55.431Z"
   },
   {
    "duration": 10,
    "start_time": "2023-06-09T04:50:55.445Z"
   },
   {
    "duration": 384,
    "start_time": "2023-06-09T04:50:55.456Z"
   },
   {
    "duration": 7,
    "start_time": "2023-06-09T04:50:55.844Z"
   },
   {
    "duration": 10,
    "start_time": "2023-06-09T04:50:55.853Z"
   },
   {
    "duration": 16,
    "start_time": "2023-06-09T04:50:55.865Z"
   },
   {
    "duration": 14,
    "start_time": "2023-06-09T04:50:55.883Z"
   },
   {
    "duration": 9,
    "start_time": "2023-06-09T04:50:55.899Z"
   },
   {
    "duration": 6766,
    "start_time": "2023-06-09T04:50:55.910Z"
   },
   {
    "duration": 10267,
    "start_time": "2023-06-09T04:51:02.679Z"
   },
   {
    "duration": 6313,
    "start_time": "2023-06-09T04:51:12.948Z"
   },
   {
    "duration": 3,
    "start_time": "2023-06-09T04:51:19.265Z"
   },
   {
    "duration": 130356,
    "start_time": "2023-06-09T04:51:19.270Z"
   },
   {
    "duration": 6114,
    "start_time": "2023-06-09T04:53:29.629Z"
   },
   {
    "duration": 2,
    "start_time": "2023-06-09T04:53:35.745Z"
   },
   {
    "duration": 2514,
    "start_time": "2023-06-09T04:53:35.749Z"
   },
   {
    "duration": 119,
    "start_time": "2023-06-09T04:57:20.285Z"
   },
   {
    "duration": 12,
    "start_time": "2023-06-09T04:57:37.542Z"
   },
   {
    "duration": 6,
    "start_time": "2023-06-09T04:58:16.050Z"
   },
   {
    "duration": 24,
    "start_time": "2023-06-09T04:58:28.519Z"
   },
   {
    "duration": 1927,
    "start_time": "2023-06-09T04:59:10.348Z"
   },
   {
    "duration": 193,
    "start_time": "2023-06-09T04:59:45.799Z"
   },
   {
    "duration": 1469,
    "start_time": "2023-06-09T05:01:29.950Z"
   },
   {
    "duration": 327,
    "start_time": "2023-06-09T05:01:31.421Z"
   },
   {
    "duration": 54,
    "start_time": "2023-06-09T05:01:31.750Z"
   },
   {
    "duration": 64,
    "start_time": "2023-06-09T05:01:31.806Z"
   },
   {
    "duration": 6,
    "start_time": "2023-06-09T05:01:31.873Z"
   },
   {
    "duration": 64,
    "start_time": "2023-06-09T05:01:31.882Z"
   },
   {
    "duration": 41,
    "start_time": "2023-06-09T05:01:31.948Z"
   },
   {
    "duration": 25,
    "start_time": "2023-06-09T05:01:31.991Z"
   },
   {
    "duration": 50,
    "start_time": "2023-06-09T05:01:32.019Z"
   },
   {
    "duration": 1393,
    "start_time": "2023-06-09T05:01:32.072Z"
   },
   {
    "duration": 147,
    "start_time": "2023-06-09T05:01:33.466Z"
   },
   {
    "duration": 87,
    "start_time": "2023-06-09T05:01:33.615Z"
   },
   {
    "duration": 11,
    "start_time": "2023-06-09T05:01:33.704Z"
   },
   {
    "duration": 23,
    "start_time": "2023-06-09T05:01:33.717Z"
   },
   {
    "duration": 263,
    "start_time": "2023-06-09T05:01:33.744Z"
   },
   {
    "duration": 162,
    "start_time": "2023-06-09T05:01:34.009Z"
   },
   {
    "duration": 0,
    "start_time": "2023-06-09T05:01:34.172Z"
   },
   {
    "duration": 0,
    "start_time": "2023-06-09T05:01:34.175Z"
   },
   {
    "duration": 0,
    "start_time": "2023-06-09T05:01:34.177Z"
   },
   {
    "duration": 0,
    "start_time": "2023-06-09T05:01:34.178Z"
   },
   {
    "duration": 0,
    "start_time": "2023-06-09T05:01:34.179Z"
   },
   {
    "duration": 0,
    "start_time": "2023-06-09T05:01:34.181Z"
   },
   {
    "duration": 0,
    "start_time": "2023-06-09T05:01:34.182Z"
   },
   {
    "duration": 0,
    "start_time": "2023-06-09T05:01:34.183Z"
   },
   {
    "duration": 0,
    "start_time": "2023-06-09T05:01:34.185Z"
   },
   {
    "duration": 0,
    "start_time": "2023-06-09T05:01:34.186Z"
   },
   {
    "duration": 0,
    "start_time": "2023-06-09T05:01:34.187Z"
   },
   {
    "duration": 0,
    "start_time": "2023-06-09T05:01:34.188Z"
   },
   {
    "duration": 0,
    "start_time": "2023-06-09T05:01:34.190Z"
   },
   {
    "duration": 0,
    "start_time": "2023-06-09T05:01:34.192Z"
   },
   {
    "duration": 0,
    "start_time": "2023-06-09T05:01:34.193Z"
   },
   {
    "duration": 0,
    "start_time": "2023-06-09T05:01:34.227Z"
   },
   {
    "duration": 1614,
    "start_time": "2023-06-09T05:02:54.753Z"
   },
   {
    "duration": 308,
    "start_time": "2023-06-09T05:02:56.369Z"
   },
   {
    "duration": 70,
    "start_time": "2023-06-09T05:02:56.679Z"
   },
   {
    "duration": 41,
    "start_time": "2023-06-09T05:02:56.752Z"
   },
   {
    "duration": 5,
    "start_time": "2023-06-09T05:02:56.795Z"
   },
   {
    "duration": 45,
    "start_time": "2023-06-09T05:02:56.801Z"
   },
   {
    "duration": 13,
    "start_time": "2023-06-09T05:02:56.847Z"
   },
   {
    "duration": 12,
    "start_time": "2023-06-09T05:02:56.863Z"
   },
   {
    "duration": 28,
    "start_time": "2023-06-09T05:02:56.877Z"
   },
   {
    "duration": 1463,
    "start_time": "2023-06-09T05:02:56.909Z"
   },
   {
    "duration": 133,
    "start_time": "2023-06-09T05:02:58.374Z"
   },
   {
    "duration": 123,
    "start_time": "2023-06-09T05:02:58.509Z"
   },
   {
    "duration": 17,
    "start_time": "2023-06-09T05:02:58.635Z"
   },
   {
    "duration": 34,
    "start_time": "2023-06-09T05:02:58.654Z"
   },
   {
    "duration": 319,
    "start_time": "2023-06-09T05:02:58.691Z"
   },
   {
    "duration": 198,
    "start_time": "2023-06-09T05:02:59.012Z"
   },
   {
    "duration": 6,
    "start_time": "2023-06-09T05:02:59.212Z"
   },
   {
    "duration": 29,
    "start_time": "2023-06-09T05:02:59.219Z"
   },
   {
    "duration": 104,
    "start_time": "2023-06-09T05:02:59.250Z"
   },
   {
    "duration": 5,
    "start_time": "2023-06-09T05:02:59.356Z"
   },
   {
    "duration": 10,
    "start_time": "2023-06-09T05:02:59.366Z"
   },
   {
    "duration": 14,
    "start_time": "2023-06-09T05:02:59.378Z"
   },
   {
    "duration": 14,
    "start_time": "2023-06-09T05:02:59.394Z"
   },
   {
    "duration": 11,
    "start_time": "2023-06-09T05:02:59.411Z"
   },
   {
    "duration": 2211,
    "start_time": "2023-06-09T05:02:59.430Z"
   },
   {
    "duration": 2262,
    "start_time": "2023-06-09T05:03:01.644Z"
   },
   {
    "duration": 1772,
    "start_time": "2023-06-09T05:03:03.908Z"
   },
   {
    "duration": 3,
    "start_time": "2023-06-09T05:03:05.683Z"
   },
   {
    "duration": 74161,
    "start_time": "2023-06-09T05:03:05.688Z"
   },
   {
    "duration": 2131,
    "start_time": "2023-06-09T05:04:19.859Z"
   },
   {
    "duration": 2,
    "start_time": "2023-06-09T05:04:21.992Z"
   },
   {
    "duration": 2192,
    "start_time": "2023-06-09T05:04:21.995Z"
   },
   {
    "duration": 1606,
    "start_time": "2023-06-09T05:04:40.955Z"
   },
   {
    "duration": 304,
    "start_time": "2023-06-09T05:04:42.569Z"
   },
   {
    "duration": 60,
    "start_time": "2023-06-09T05:04:42.875Z"
   },
   {
    "duration": 59,
    "start_time": "2023-06-09T05:04:42.940Z"
   },
   {
    "duration": 8,
    "start_time": "2023-06-09T05:04:43.001Z"
   },
   {
    "duration": 19,
    "start_time": "2023-06-09T05:04:43.030Z"
   },
   {
    "duration": 5,
    "start_time": "2023-06-09T05:04:43.051Z"
   },
   {
    "duration": 21,
    "start_time": "2023-06-09T05:04:43.059Z"
   },
   {
    "duration": 1908,
    "start_time": "2023-06-09T05:04:43.083Z"
   },
   {
    "duration": 0,
    "start_time": "2023-06-09T05:04:44.994Z"
   },
   {
    "duration": 0,
    "start_time": "2023-06-09T05:04:44.996Z"
   },
   {
    "duration": 0,
    "start_time": "2023-06-09T05:04:44.998Z"
   },
   {
    "duration": 0,
    "start_time": "2023-06-09T05:04:44.999Z"
   },
   {
    "duration": 0,
    "start_time": "2023-06-09T05:04:45.001Z"
   },
   {
    "duration": 0,
    "start_time": "2023-06-09T05:04:45.003Z"
   },
   {
    "duration": 0,
    "start_time": "2023-06-09T05:04:45.005Z"
   },
   {
    "duration": 0,
    "start_time": "2023-06-09T05:04:45.007Z"
   },
   {
    "duration": 0,
    "start_time": "2023-06-09T05:04:45.008Z"
   },
   {
    "duration": 0,
    "start_time": "2023-06-09T05:04:45.009Z"
   },
   {
    "duration": 0,
    "start_time": "2023-06-09T05:04:45.012Z"
   },
   {
    "duration": 0,
    "start_time": "2023-06-09T05:04:45.013Z"
   },
   {
    "duration": 0,
    "start_time": "2023-06-09T05:04:45.015Z"
   },
   {
    "duration": 0,
    "start_time": "2023-06-09T05:04:45.016Z"
   },
   {
    "duration": 0,
    "start_time": "2023-06-09T05:04:45.017Z"
   },
   {
    "duration": 0,
    "start_time": "2023-06-09T05:04:45.019Z"
   },
   {
    "duration": 0,
    "start_time": "2023-06-09T05:04:45.020Z"
   },
   {
    "duration": 0,
    "start_time": "2023-06-09T05:04:45.022Z"
   },
   {
    "duration": 0,
    "start_time": "2023-06-09T05:04:45.025Z"
   },
   {
    "duration": 0,
    "start_time": "2023-06-09T05:04:45.026Z"
   },
   {
    "duration": 0,
    "start_time": "2023-06-09T05:04:45.026Z"
   },
   {
    "duration": 0,
    "start_time": "2023-06-09T05:04:45.028Z"
   },
   {
    "duration": 0,
    "start_time": "2023-06-09T05:04:45.028Z"
   },
   {
    "duration": 1534,
    "start_time": "2023-06-09T05:05:07.846Z"
   },
   {
    "duration": 306,
    "start_time": "2023-06-09T05:05:09.382Z"
   },
   {
    "duration": 70,
    "start_time": "2023-06-09T05:05:09.690Z"
   },
   {
    "duration": 45,
    "start_time": "2023-06-09T05:05:09.764Z"
   },
   {
    "duration": 33,
    "start_time": "2023-06-09T05:05:09.812Z"
   },
   {
    "duration": 21,
    "start_time": "2023-06-09T05:05:09.849Z"
   },
   {
    "duration": 29,
    "start_time": "2023-06-09T05:05:09.874Z"
   },
   {
    "duration": 47,
    "start_time": "2023-06-09T05:05:09.906Z"
   },
   {
    "duration": 22,
    "start_time": "2023-06-09T05:05:09.955Z"
   },
   {
    "duration": 550,
    "start_time": "2023-06-09T05:05:09.982Z"
   },
   {
    "duration": 126,
    "start_time": "2023-06-09T05:05:10.536Z"
   },
   {
    "duration": 96,
    "start_time": "2023-06-09T05:05:10.664Z"
   },
   {
    "duration": 9,
    "start_time": "2023-06-09T05:05:10.762Z"
   },
   {
    "duration": 15,
    "start_time": "2023-06-09T05:05:10.774Z"
   },
   {
    "duration": 325,
    "start_time": "2023-06-09T05:05:10.791Z"
   },
   {
    "duration": 90,
    "start_time": "2023-06-09T05:05:11.118Z"
   },
   {
    "duration": 5,
    "start_time": "2023-06-09T05:05:11.210Z"
   },
   {
    "duration": 43,
    "start_time": "2023-06-09T05:05:11.217Z"
   },
   {
    "duration": 96,
    "start_time": "2023-06-09T05:05:11.262Z"
   },
   {
    "duration": 3,
    "start_time": "2023-06-09T05:05:11.360Z"
   },
   {
    "duration": 8,
    "start_time": "2023-06-09T05:05:11.365Z"
   },
   {
    "duration": 12,
    "start_time": "2023-06-09T05:05:11.375Z"
   },
   {
    "duration": 22,
    "start_time": "2023-06-09T05:05:11.389Z"
   },
   {
    "duration": 5,
    "start_time": "2023-06-09T05:05:11.413Z"
   },
   {
    "duration": 3875,
    "start_time": "2023-06-09T05:05:11.420Z"
   },
   {
    "duration": 2104,
    "start_time": "2023-06-09T05:05:15.297Z"
   },
   {
    "duration": 4024,
    "start_time": "2023-06-09T05:05:17.403Z"
   },
   {
    "duration": 2,
    "start_time": "2023-06-09T05:05:21.428Z"
   },
   {
    "duration": 68836,
    "start_time": "2023-06-09T05:05:21.433Z"
   },
   {
    "duration": 4384,
    "start_time": "2023-06-09T05:06:30.325Z"
   },
   {
    "duration": 3,
    "start_time": "2023-06-09T05:06:34.710Z"
   },
   {
    "duration": 1249,
    "start_time": "2023-06-09T05:06:34.715Z"
   },
   {
    "duration": 1538,
    "start_time": "2023-06-09T05:07:55.771Z"
   },
   {
    "duration": 343,
    "start_time": "2023-06-09T05:07:57.311Z"
   },
   {
    "duration": 60,
    "start_time": "2023-06-09T05:07:57.656Z"
   },
   {
    "duration": 50,
    "start_time": "2023-06-09T05:07:57.729Z"
   },
   {
    "duration": 6,
    "start_time": "2023-06-09T05:07:57.781Z"
   },
   {
    "duration": 30,
    "start_time": "2023-06-09T05:07:57.789Z"
   },
   {
    "duration": 13,
    "start_time": "2023-06-09T05:07:57.820Z"
   },
   {
    "duration": 6,
    "start_time": "2023-06-09T05:07:57.837Z"
   },
   {
    "duration": 11,
    "start_time": "2023-06-09T05:07:57.847Z"
   },
   {
    "duration": 1479,
    "start_time": "2023-06-09T05:07:57.863Z"
   },
   {
    "duration": 138,
    "start_time": "2023-06-09T05:07:59.346Z"
   },
   {
    "duration": 104,
    "start_time": "2023-06-09T05:07:59.486Z"
   },
   {
    "duration": 120,
    "start_time": "2023-06-09T05:07:59.592Z"
   },
   {
    "duration": 25,
    "start_time": "2023-06-09T05:07:59.714Z"
   },
   {
    "duration": 458,
    "start_time": "2023-06-09T05:07:59.745Z"
   },
   {
    "duration": 203,
    "start_time": "2023-06-09T05:08:00.204Z"
   },
   {
    "duration": 6,
    "start_time": "2023-06-09T05:08:00.409Z"
   },
   {
    "duration": 60,
    "start_time": "2023-06-09T05:08:00.416Z"
   },
   {
    "duration": 235,
    "start_time": "2023-06-09T05:08:00.478Z"
   },
   {
    "duration": 3,
    "start_time": "2023-06-09T05:08:00.714Z"
   },
   {
    "duration": 66,
    "start_time": "2023-06-09T05:08:00.718Z"
   },
   {
    "duration": 56,
    "start_time": "2023-06-09T05:08:00.786Z"
   },
   {
    "duration": 36,
    "start_time": "2023-06-09T05:08:00.844Z"
   },
   {
    "duration": 44,
    "start_time": "2023-06-09T05:08:00.882Z"
   },
   {
    "duration": 4367,
    "start_time": "2023-06-09T05:08:00.941Z"
   },
   {
    "duration": 4799,
    "start_time": "2023-06-09T05:08:05.310Z"
   },
   {
    "duration": 4148,
    "start_time": "2023-06-09T05:08:10.110Z"
   },
   {
    "duration": 3,
    "start_time": "2023-06-09T05:08:14.261Z"
   },
   {
    "duration": 82895,
    "start_time": "2023-06-09T05:08:14.266Z"
   },
   {
    "duration": 5209,
    "start_time": "2023-06-09T05:09:37.226Z"
   },
   {
    "duration": 4,
    "start_time": "2023-06-09T05:09:42.442Z"
   },
   {
    "duration": 2462,
    "start_time": "2023-06-09T05:09:42.448Z"
   },
   {
    "duration": 1586,
    "start_time": "2023-06-09T05:10:27.556Z"
   },
   {
    "duration": 316,
    "start_time": "2023-06-09T05:10:29.148Z"
   },
   {
    "duration": 73,
    "start_time": "2023-06-09T05:10:29.466Z"
   },
   {
    "duration": 45,
    "start_time": "2023-06-09T05:10:29.546Z"
   },
   {
    "duration": 6,
    "start_time": "2023-06-09T05:10:29.593Z"
   },
   {
    "duration": 28,
    "start_time": "2023-06-09T05:10:29.601Z"
   },
   {
    "duration": 3,
    "start_time": "2023-06-09T05:10:29.631Z"
   },
   {
    "duration": 5,
    "start_time": "2023-06-09T05:10:29.644Z"
   },
   {
    "duration": 6,
    "start_time": "2023-06-09T05:10:29.661Z"
   },
   {
    "duration": 2246,
    "start_time": "2023-06-09T05:10:29.673Z"
   },
   {
    "duration": 196,
    "start_time": "2023-06-09T05:10:31.921Z"
   },
   {
    "duration": 90,
    "start_time": "2023-06-09T05:10:32.133Z"
   },
   {
    "duration": 22,
    "start_time": "2023-06-09T05:10:32.224Z"
   },
   {
    "duration": 14,
    "start_time": "2023-06-09T05:10:32.255Z"
   },
   {
    "duration": 995,
    "start_time": "2023-06-09T05:10:32.271Z"
   },
   {
    "duration": 407,
    "start_time": "2023-06-09T05:10:33.268Z"
   },
   {
    "duration": 7,
    "start_time": "2023-06-09T05:10:33.677Z"
   },
   {
    "duration": 16,
    "start_time": "2023-06-09T05:10:33.686Z"
   },
   {
    "duration": 376,
    "start_time": "2023-06-09T05:10:33.704Z"
   },
   {
    "duration": 3,
    "start_time": "2023-06-09T05:10:34.082Z"
   },
   {
    "duration": 10,
    "start_time": "2023-06-09T05:10:34.087Z"
   },
   {
    "duration": 7,
    "start_time": "2023-06-09T05:10:34.100Z"
   },
   {
    "duration": 8,
    "start_time": "2023-06-09T05:10:34.129Z"
   },
   {
    "duration": 11,
    "start_time": "2023-06-09T05:10:34.138Z"
   },
   {
    "duration": 6782,
    "start_time": "2023-06-09T05:10:34.151Z"
   },
   {
    "duration": 10494,
    "start_time": "2023-06-09T05:10:40.934Z"
   },
   {
    "duration": 6344,
    "start_time": "2023-06-09T05:10:51.440Z"
   },
   {
    "duration": 3,
    "start_time": "2023-06-09T05:10:57.789Z"
   },
   {
    "duration": 122359,
    "start_time": "2023-06-09T05:10:57.793Z"
   },
   {
    "duration": 6208,
    "start_time": "2023-06-09T05:13:00.156Z"
   },
   {
    "duration": 3,
    "start_time": "2023-06-09T05:13:06.367Z"
   },
   {
    "duration": 2748,
    "start_time": "2023-06-09T05:13:06.372Z"
   },
   {
    "duration": 72,
    "start_time": "2023-06-09T05:16:23.112Z"
   },
   {
    "duration": 10394,
    "start_time": "2023-06-09T05:16:29.579Z"
   },
   {
    "duration": 73,
    "start_time": "2023-06-09T05:16:42.162Z"
   },
   {
    "duration": 6381,
    "start_time": "2023-06-09T05:16:44.465Z"
   },
   {
    "duration": 17841,
    "start_time": "2023-06-09T05:19:51.070Z"
   },
   {
    "duration": 64,
    "start_time": "2023-06-09T05:20:15.128Z"
   },
   {
    "duration": 4,
    "start_time": "2023-06-09T05:21:57.457Z"
   },
   {
    "duration": 7,
    "start_time": "2023-06-09T05:22:09.283Z"
   },
   {
    "duration": 5,
    "start_time": "2023-06-09T05:22:43.597Z"
   },
   {
    "duration": 43,
    "start_time": "2023-06-09T05:23:16.375Z"
   },
   {
    "duration": 26351,
    "start_time": "2023-06-09T05:23:24.062Z"
   },
   {
    "duration": 17,
    "start_time": "2023-06-09T05:23:53.757Z"
   },
   {
    "duration": 79,
    "start_time": "2023-06-09T05:23:58.767Z"
   },
   {
    "duration": 26529,
    "start_time": "2023-06-09T05:24:10.852Z"
   },
   {
    "duration": 6,
    "start_time": "2023-06-09T05:24:39.891Z"
   },
   {
    "duration": 6767,
    "start_time": "2023-06-09T05:24:50.777Z"
   },
   {
    "duration": 75,
    "start_time": "2023-06-09T05:25:00.010Z"
   },
   {
    "duration": 26644,
    "start_time": "2023-06-09T05:25:10.315Z"
   },
   {
    "duration": 6,
    "start_time": "2023-06-09T05:25:39.471Z"
   },
   {
    "duration": 100,
    "start_time": "2023-06-09T05:25:49.556Z"
   },
   {
    "duration": 10750,
    "start_time": "2023-06-09T05:26:56.033Z"
   },
   {
    "duration": 38804,
    "start_time": "2023-06-09T05:27:17.457Z"
   },
   {
    "duration": 6855,
    "start_time": "2023-06-09T05:28:31.762Z"
   },
   {
    "duration": 93,
    "start_time": "2023-06-09T05:29:05.986Z"
   },
   {
    "duration": 89,
    "start_time": "2023-06-09T05:29:10.984Z"
   },
   {
    "duration": 396,
    "start_time": "2023-06-09T05:30:07.471Z"
   },
   {
    "duration": 453340,
    "start_time": "2023-06-09T05:30:52.106Z"
   },
   {
    "duration": 998,
    "start_time": "2023-06-09T05:41:21.830Z"
   },
   {
    "duration": 10373,
    "start_time": "2023-06-09T05:41:45.562Z"
   },
   {
    "duration": 452237,
    "start_time": "2023-06-09T05:42:20.122Z"
   },
   {
    "duration": 830,
    "start_time": "2023-06-09T05:50:06.875Z"
   },
   {
    "duration": 7512,
    "start_time": "2023-06-09T05:50:22.456Z"
   },
   {
    "duration": 308973,
    "start_time": "2023-06-09T05:52:37.538Z"
   },
   {
    "duration": 1398,
    "start_time": "2023-06-09T05:58:17.718Z"
   },
   {
    "duration": 8854,
    "start_time": "2023-06-09T05:58:28.408Z"
   },
   {
    "duration": 36914,
    "start_time": "2023-06-09T06:00:57.459Z"
   },
   {
    "duration": 18,
    "start_time": "2023-06-09T06:01:37.755Z"
   },
   {
    "duration": 110,
    "start_time": "2023-06-09T06:01:46.522Z"
   },
   {
    "duration": 15301,
    "start_time": "2023-06-09T06:01:53.285Z"
   },
   {
    "duration": 28850,
    "start_time": "2023-06-09T06:02:10.917Z"
   },
   {
    "duration": 5,
    "start_time": "2023-06-09T06:02:43.194Z"
   },
   {
    "duration": 35990,
    "start_time": "2023-06-09T06:03:19.799Z"
   },
   {
    "duration": 7,
    "start_time": "2023-06-09T06:03:55.798Z"
   },
   {
    "duration": 18,
    "start_time": "2023-06-09T06:05:05.472Z"
   },
   {
    "duration": 78,
    "start_time": "2023-06-09T06:05:09.246Z"
   },
   {
    "duration": 8438,
    "start_time": "2023-06-09T06:05:11.777Z"
   },
   {
    "duration": 28,
    "start_time": "2023-06-09T06:10:06.857Z"
   },
   {
    "duration": 1939,
    "start_time": "2023-06-09T06:11:36.016Z"
   },
   {
    "duration": 473,
    "start_time": "2023-06-09T06:11:37.969Z"
   },
   {
    "duration": 113,
    "start_time": "2023-06-09T06:11:38.444Z"
   },
   {
    "duration": 52,
    "start_time": "2023-06-09T06:11:38.564Z"
   },
   {
    "duration": 9,
    "start_time": "2023-06-09T06:11:38.618Z"
   },
   {
    "duration": 33,
    "start_time": "2023-06-09T06:11:38.631Z"
   },
   {
    "duration": 11,
    "start_time": "2023-06-09T06:11:38.670Z"
   },
   {
    "duration": 10,
    "start_time": "2023-06-09T06:11:38.687Z"
   },
   {
    "duration": 6,
    "start_time": "2023-06-09T06:11:38.700Z"
   },
   {
    "duration": 2760,
    "start_time": "2023-06-09T06:11:38.710Z"
   },
   {
    "duration": 247,
    "start_time": "2023-06-09T06:11:41.472Z"
   },
   {
    "duration": 148,
    "start_time": "2023-06-09T06:11:41.723Z"
   },
   {
    "duration": 23,
    "start_time": "2023-06-09T06:11:41.877Z"
   },
   {
    "duration": 10,
    "start_time": "2023-06-09T06:11:41.903Z"
   },
   {
    "duration": 1064,
    "start_time": "2023-06-09T06:11:41.918Z"
   },
   {
    "duration": 5,
    "start_time": "2023-06-09T06:11:42.990Z"
   },
   {
    "duration": 56,
    "start_time": "2023-06-09T06:11:42.998Z"
   },
   {
    "duration": 9,
    "start_time": "2023-06-09T06:11:43.056Z"
   },
   {
    "duration": 426,
    "start_time": "2023-06-09T06:11:43.067Z"
   },
   {
    "duration": 5,
    "start_time": "2023-06-09T06:11:43.495Z"
   },
   {
    "duration": 8,
    "start_time": "2023-06-09T06:11:43.502Z"
   },
   {
    "duration": 28,
    "start_time": "2023-06-09T06:11:43.513Z"
   },
   {
    "duration": 5,
    "start_time": "2023-06-09T06:11:43.542Z"
   },
   {
    "duration": 19,
    "start_time": "2023-06-09T06:11:43.549Z"
   },
   {
    "duration": 7983,
    "start_time": "2023-06-09T06:11:43.574Z"
   },
   {
    "duration": 12056,
    "start_time": "2023-06-09T06:11:51.559Z"
   },
   {
    "duration": 5,
    "start_time": "2023-06-09T06:12:03.617Z"
   },
   {
    "duration": 121,
    "start_time": "2023-06-09T06:12:03.627Z"
   },
   {
    "duration": 7312,
    "start_time": "2023-06-09T06:12:03.750Z"
   },
   {
    "duration": 335142,
    "start_time": "2023-06-09T06:12:11.065Z"
   },
   {
    "duration": 1515,
    "start_time": "2023-06-09T06:17:46.209Z"
   },
   {
    "duration": 11738,
    "start_time": "2023-06-09T06:17:47.730Z"
   },
   {
    "duration": 98516,
    "start_time": "2023-06-09T06:17:59.476Z"
   },
   {
    "duration": 9053,
    "start_time": "2023-06-09T06:19:38.041Z"
   },
   {
    "duration": 4145,
    "start_time": "2023-06-09T06:19:47.100Z"
   },
   {
    "duration": 8362,
    "start_time": "2023-06-09T06:19:51.259Z"
   },
   {
    "duration": 138,
    "start_time": "2023-06-09T07:49:57.502Z"
   },
   {
    "duration": 463,
    "start_time": "2023-06-09T07:50:04.744Z"
   },
   {
    "duration": 88,
    "start_time": "2023-06-09T07:50:40.748Z"
   },
   {
    "duration": 283,
    "start_time": "2023-06-09T07:50:43.686Z"
   },
   {
    "duration": 387,
    "start_time": "2023-06-09T07:50:54.049Z"
   },
   {
    "duration": 433,
    "start_time": "2023-06-09T07:51:10.905Z"
   },
   {
    "duration": 504,
    "start_time": "2023-06-09T07:51:33.893Z"
   },
   {
    "duration": 597,
    "start_time": "2023-06-09T07:51:41.023Z"
   },
   {
    "duration": 559,
    "start_time": "2023-06-09T07:53:45.242Z"
   },
   {
    "duration": 555,
    "start_time": "2023-06-09T07:55:02.370Z"
   },
   {
    "duration": 571,
    "start_time": "2023-06-09T07:58:28.822Z"
   },
   {
    "duration": 592,
    "start_time": "2023-06-09T07:58:45.601Z"
   },
   {
    "duration": 604,
    "start_time": "2023-06-09T07:59:09.341Z"
   },
   {
    "duration": 492,
    "start_time": "2023-06-09T08:00:05.709Z"
   },
   {
    "duration": 590,
    "start_time": "2023-06-09T08:00:11.273Z"
   },
   {
    "duration": 7967,
    "start_time": "2023-06-09T08:00:30.580Z"
   },
   {
    "duration": 340,
    "start_time": "2023-06-09T10:28:37.642Z"
   },
   {
    "duration": 102,
    "start_time": "2023-06-09T10:28:39.683Z"
   },
   {
    "duration": 6,
    "start_time": "2023-06-09T10:29:02.795Z"
   },
   {
    "duration": 29,
    "start_time": "2023-06-09T10:29:19.121Z"
   },
   {
    "duration": 77,
    "start_time": "2023-06-09T10:29:58.372Z"
   },
   {
    "duration": 61,
    "start_time": "2023-06-09T10:30:06.425Z"
   },
   {
    "duration": 57,
    "start_time": "2023-06-09T10:30:16.459Z"
   },
   {
    "duration": 25,
    "start_time": "2023-06-09T10:30:37.602Z"
   },
   {
    "duration": 85,
    "start_time": "2023-06-09T10:31:04.570Z"
   },
   {
    "duration": 12,
    "start_time": "2023-06-09T10:31:06.395Z"
   },
   {
    "duration": 2402,
    "start_time": "2023-06-09T10:31:52.672Z"
   },
   {
    "duration": 0,
    "start_time": "2023-06-09T10:31:55.080Z"
   },
   {
    "duration": 98,
    "start_time": "2023-06-09T10:31:57.583Z"
   },
   {
    "duration": 14,
    "start_time": "2023-06-09T10:31:59.131Z"
   },
   {
    "duration": 67,
    "start_time": "2023-06-09T10:32:15.382Z"
   },
   {
    "duration": 11,
    "start_time": "2023-06-09T10:32:17.287Z"
   },
   {
    "duration": 93,
    "start_time": "2023-06-09T10:34:55.048Z"
   },
   {
    "duration": 7,
    "start_time": "2023-06-09T10:37:30.613Z"
   },
   {
    "duration": 15,
    "start_time": "2023-06-09T10:38:13.250Z"
   },
   {
    "duration": 39,
    "start_time": "2023-06-09T10:39:50.162Z"
   },
   {
    "duration": 1873,
    "start_time": "2023-06-09T10:45:36.096Z"
   },
   {
    "duration": 465,
    "start_time": "2023-06-09T10:45:37.972Z"
   },
   {
    "duration": 80,
    "start_time": "2023-06-09T10:45:38.439Z"
   },
   {
    "duration": 82,
    "start_time": "2023-06-09T10:45:38.521Z"
   },
   {
    "duration": 5,
    "start_time": "2023-06-09T10:45:38.606Z"
   },
   {
    "duration": 64,
    "start_time": "2023-06-09T10:45:38.613Z"
   },
   {
    "duration": 4,
    "start_time": "2023-06-09T10:45:38.679Z"
   },
   {
    "duration": 7,
    "start_time": "2023-06-09T10:45:38.689Z"
   },
   {
    "duration": 12,
    "start_time": "2023-06-09T10:45:38.698Z"
   },
   {
    "duration": 2495,
    "start_time": "2023-06-09T10:45:38.712Z"
   },
   {
    "duration": 315,
    "start_time": "2023-06-09T10:45:41.209Z"
   },
   {
    "duration": 118,
    "start_time": "2023-06-09T10:45:41.526Z"
   },
   {
    "duration": 19,
    "start_time": "2023-06-09T10:45:41.646Z"
   },
   {
    "duration": 25,
    "start_time": "2023-06-09T10:45:41.669Z"
   },
   {
    "duration": 1070,
    "start_time": "2023-06-09T10:45:41.697Z"
   },
   {
    "duration": 7,
    "start_time": "2023-06-09T10:45:42.769Z"
   },
   {
    "duration": 38,
    "start_time": "2023-06-09T10:45:42.790Z"
   },
   {
    "duration": 15,
    "start_time": "2023-06-09T10:45:42.838Z"
   },
   {
    "duration": 956,
    "start_time": "2023-06-09T10:45:42.855Z"
   },
   {
    "duration": 4,
    "start_time": "2023-06-09T10:45:43.814Z"
   },
   {
    "duration": 31,
    "start_time": "2023-06-09T10:45:43.820Z"
   },
   {
    "duration": 39,
    "start_time": "2023-06-09T10:45:43.858Z"
   },
   {
    "duration": 42,
    "start_time": "2023-06-09T10:45:43.899Z"
   },
   {
    "duration": 48,
    "start_time": "2023-06-09T10:45:43.943Z"
   },
   {
    "duration": 8994,
    "start_time": "2023-06-09T10:45:43.998Z"
   },
   {
    "duration": 18224,
    "start_time": "2023-06-09T10:45:52.999Z"
   },
   {
    "duration": 14,
    "start_time": "2023-06-09T10:46:11.230Z"
   },
   {
    "duration": 123,
    "start_time": "2023-06-09T10:46:11.254Z"
   },
   {
    "duration": 9173,
    "start_time": "2023-06-09T10:46:11.385Z"
   },
   {
    "duration": 368807,
    "start_time": "2023-06-09T10:46:20.565Z"
   },
   {
    "duration": 1922,
    "start_time": "2023-06-09T10:52:29.382Z"
   },
   {
    "duration": 13286,
    "start_time": "2023-06-09T10:52:31.311Z"
   },
   {
    "duration": 130407,
    "start_time": "2023-06-09T10:52:44.603Z"
   },
   {
    "duration": 11286,
    "start_time": "2023-06-09T10:54:55.050Z"
   },
   {
    "duration": 9503,
    "start_time": "2023-06-09T10:55:06.338Z"
   },
   {
    "duration": 8743,
    "start_time": "2023-06-09T11:00:34.274Z"
   },
   {
    "duration": 2238,
    "start_time": "2023-06-09T11:22:05.735Z"
   },
   {
    "duration": 2469,
    "start_time": "2023-06-09T11:22:07.981Z"
   },
   {
    "duration": 166,
    "start_time": "2023-06-09T11:22:10.467Z"
   },
   {
    "duration": 148,
    "start_time": "2023-06-09T11:22:10.640Z"
   },
   {
    "duration": 23,
    "start_time": "2023-06-09T11:22:10.790Z"
   },
   {
    "duration": 66,
    "start_time": "2023-06-09T11:22:10.815Z"
   },
   {
    "duration": 10,
    "start_time": "2023-06-09T11:22:10.887Z"
   },
   {
    "duration": 28,
    "start_time": "2023-06-09T11:22:10.901Z"
   },
   {
    "duration": 3163,
    "start_time": "2023-06-09T11:22:10.942Z"
   },
   {
    "duration": 356,
    "start_time": "2023-06-09T11:22:14.109Z"
   },
   {
    "duration": 165,
    "start_time": "2023-06-09T11:22:14.468Z"
   },
   {
    "duration": 29,
    "start_time": "2023-06-09T11:22:14.640Z"
   },
   {
    "duration": 17,
    "start_time": "2023-06-09T11:22:14.676Z"
   },
   {
    "duration": 2141,
    "start_time": "2023-06-09T11:22:14.700Z"
   },
   {
    "duration": 1648,
    "start_time": "2023-06-09T11:22:16.848Z"
   },
   {
    "duration": 15,
    "start_time": "2023-06-09T11:22:18.498Z"
   },
   {
    "duration": 29,
    "start_time": "2023-06-09T11:22:18.515Z"
   },
   {
    "duration": 1846,
    "start_time": "2023-06-09T11:22:18.546Z"
   },
   {
    "duration": 30,
    "start_time": "2023-06-09T11:22:20.415Z"
   },
   {
    "duration": 38,
    "start_time": "2023-06-09T11:22:20.468Z"
   },
   {
    "duration": 14,
    "start_time": "2023-06-09T11:22:20.513Z"
   },
   {
    "duration": 24,
    "start_time": "2023-06-09T11:22:20.537Z"
   },
   {
    "duration": 18,
    "start_time": "2023-06-09T11:22:20.567Z"
   },
   {
    "duration": 11955,
    "start_time": "2023-06-09T11:22:20.590Z"
   },
   {
    "duration": 19884,
    "start_time": "2023-06-09T11:22:32.548Z"
   },
   {
    "duration": 23,
    "start_time": "2023-06-09T11:22:52.444Z"
   },
   {
    "duration": 365,
    "start_time": "2023-06-09T11:22:52.470Z"
   },
   {
    "duration": 12529,
    "start_time": "2023-06-09T11:22:52.840Z"
   },
   {
    "duration": 180543,
    "start_time": "2023-06-09T11:23:05.378Z"
   },
   {
    "duration": 1897,
    "start_time": "2023-06-09T11:26:05.933Z"
   },
   {
    "duration": 12346,
    "start_time": "2023-06-09T11:26:07.833Z"
   },
   {
    "duration": 105427,
    "start_time": "2023-06-09T11:26:20.190Z"
   },
   {
    "duration": 9636,
    "start_time": "2023-06-09T11:28:05.626Z"
   },
   {
    "duration": 3,
    "start_time": "2023-06-09T11:47:07.400Z"
   },
   {
    "duration": 2832,
    "start_time": "2023-06-09T11:47:15.790Z"
   },
   {
    "duration": 711,
    "start_time": "2023-06-09T11:47:18.624Z"
   },
   {
    "duration": 113,
    "start_time": "2023-06-09T11:47:19.340Z"
   },
   {
    "duration": 183,
    "start_time": "2023-06-09T11:47:19.470Z"
   },
   {
    "duration": 33,
    "start_time": "2023-06-09T11:47:19.680Z"
   },
   {
    "duration": 63,
    "start_time": "2023-06-09T11:47:19.716Z"
   },
   {
    "duration": 11,
    "start_time": "2023-06-09T11:47:19.782Z"
   },
   {
    "duration": 13,
    "start_time": "2023-06-09T11:47:19.797Z"
   },
   {
    "duration": 2707,
    "start_time": "2023-06-09T11:47:19.813Z"
   },
   {
    "duration": 299,
    "start_time": "2023-06-09T11:47:22.522Z"
   },
   {
    "duration": 175,
    "start_time": "2023-06-09T11:47:22.830Z"
   },
   {
    "duration": 25,
    "start_time": "2023-06-09T11:47:23.008Z"
   },
   {
    "duration": 45,
    "start_time": "2023-06-09T11:47:23.036Z"
   },
   {
    "duration": 1446,
    "start_time": "2023-06-09T11:47:23.085Z"
   },
   {
    "duration": 2,
    "start_time": "2023-06-09T11:47:24.534Z"
   },
   {
    "duration": 8,
    "start_time": "2023-06-09T11:47:24.539Z"
   },
   {
    "duration": 7,
    "start_time": "2023-06-09T11:47:24.549Z"
   },
   {
    "duration": 471,
    "start_time": "2023-06-09T11:47:24.558Z"
   },
   {
    "duration": 12,
    "start_time": "2023-06-09T11:47:25.033Z"
   },
   {
    "duration": 59,
    "start_time": "2023-06-09T11:47:25.047Z"
   },
   {
    "duration": 23,
    "start_time": "2023-06-09T11:47:25.114Z"
   },
   {
    "duration": 22,
    "start_time": "2023-06-09T11:47:25.145Z"
   },
   {
    "duration": 21,
    "start_time": "2023-06-09T11:47:25.181Z"
   },
   {
    "duration": 11131,
    "start_time": "2023-06-09T11:47:25.205Z"
   },
   {
    "duration": 17695,
    "start_time": "2023-06-09T11:47:36.358Z"
   },
   {
    "duration": 12,
    "start_time": "2023-06-09T11:47:54.061Z"
   },
   {
    "duration": 141,
    "start_time": "2023-06-09T11:47:54.080Z"
   },
   {
    "duration": 11213,
    "start_time": "2023-06-09T11:47:54.227Z"
   },
   {
    "duration": 192399,
    "start_time": "2023-06-09T11:48:05.455Z"
   },
   {
    "duration": 1633,
    "start_time": "2023-06-09T11:51:17.860Z"
   },
   {
    "duration": 11357,
    "start_time": "2023-06-09T11:51:19.498Z"
   },
   {
    "duration": 108002,
    "start_time": "2023-06-09T11:51:30.864Z"
   },
   {
    "duration": 10117,
    "start_time": "2023-06-09T11:53:18.872Z"
   },
   {
    "duration": 17,
    "start_time": "2023-06-09T11:59:20.414Z"
   },
   {
    "duration": 12022,
    "start_time": "2023-06-09T11:59:34.051Z"
   },
   {
    "duration": 1880,
    "start_time": "2023-06-09T13:01:09.451Z"
   },
   {
    "duration": 404,
    "start_time": "2023-06-09T13:01:11.333Z"
   },
   {
    "duration": 110,
    "start_time": "2023-06-09T13:01:11.739Z"
   },
   {
    "duration": 58,
    "start_time": "2023-06-09T13:01:11.855Z"
   },
   {
    "duration": 7,
    "start_time": "2023-06-09T13:01:11.917Z"
   },
   {
    "duration": 67,
    "start_time": "2023-06-09T13:01:11.933Z"
   },
   {
    "duration": 54,
    "start_time": "2023-06-09T13:01:12.003Z"
   },
   {
    "duration": 2185,
    "start_time": "2023-06-09T13:01:12.059Z"
   },
   {
    "duration": 250,
    "start_time": "2023-06-09T13:01:14.248Z"
   },
   {
    "duration": 102,
    "start_time": "2023-06-09T13:01:14.500Z"
   },
   {
    "duration": 13,
    "start_time": "2023-06-09T13:01:14.604Z"
   },
   {
    "duration": 21,
    "start_time": "2023-06-09T13:01:14.630Z"
   },
   {
    "duration": 981,
    "start_time": "2023-06-09T13:01:14.654Z"
   },
   {
    "duration": 6,
    "start_time": "2023-06-09T13:01:15.643Z"
   },
   {
    "duration": 26,
    "start_time": "2023-06-09T13:01:15.651Z"
   },
   {
    "duration": 13,
    "start_time": "2023-06-09T13:01:15.680Z"
   },
   {
    "duration": 393,
    "start_time": "2023-06-09T13:01:15.696Z"
   },
   {
    "duration": 3,
    "start_time": "2023-06-09T13:01:16.091Z"
   },
   {
    "duration": 43,
    "start_time": "2023-06-09T13:01:16.096Z"
   },
   {
    "duration": 24,
    "start_time": "2023-06-09T13:01:16.145Z"
   },
   {
    "duration": 22,
    "start_time": "2023-06-09T13:01:16.171Z"
   },
   {
    "duration": 9,
    "start_time": "2023-06-09T13:01:16.194Z"
   },
   {
    "duration": 7136,
    "start_time": "2023-06-09T13:01:16.205Z"
   },
   {
    "duration": 12212,
    "start_time": "2023-06-09T13:01:23.346Z"
   },
   {
    "duration": 6,
    "start_time": "2023-06-09T13:01:35.567Z"
   },
   {
    "duration": 124,
    "start_time": "2023-06-09T13:01:35.575Z"
   },
   {
    "duration": 7246,
    "start_time": "2023-06-09T13:01:35.702Z"
   },
   {
    "duration": 147181,
    "start_time": "2023-06-09T13:01:42.950Z"
   },
   {
    "duration": 1575,
    "start_time": "2023-06-09T13:04:10.133Z"
   },
   {
    "duration": 10503,
    "start_time": "2023-06-09T13:04:11.710Z"
   },
   {
    "duration": 112344,
    "start_time": "2023-06-09T13:04:22.215Z"
   },
   {
    "duration": 7964,
    "start_time": "2023-06-09T13:06:14.562Z"
   },
   {
    "duration": 255,
    "start_time": "2023-06-09T13:08:44.684Z"
   },
   {
    "duration": 8003,
    "start_time": "2023-06-09T13:08:53.003Z"
   },
   {
    "duration": 47894,
    "start_time": "2023-06-09T13:10:37.263Z"
   },
   {
    "duration": 207750,
    "start_time": "2023-06-09T13:11:33.888Z"
   },
   {
    "duration": 4,
    "start_time": "2023-06-09T13:17:26.197Z"
   },
   {
    "duration": 416,
    "start_time": "2023-06-09T13:17:26.204Z"
   },
   {
    "duration": 76,
    "start_time": "2023-06-09T13:17:26.623Z"
   },
   {
    "duration": 71,
    "start_time": "2023-06-09T13:17:26.702Z"
   },
   {
    "duration": 13,
    "start_time": "2023-06-09T13:17:26.776Z"
   },
   {
    "duration": 20,
    "start_time": "2023-06-09T13:17:26.792Z"
   },
   {
    "duration": 13,
    "start_time": "2023-06-09T13:17:26.815Z"
   },
   {
    "duration": 2690,
    "start_time": "2023-06-09T13:17:26.841Z"
   },
   {
    "duration": 249,
    "start_time": "2023-06-09T13:17:29.533Z"
   },
   {
    "duration": 119,
    "start_time": "2023-06-09T13:17:29.785Z"
   },
   {
    "duration": 28,
    "start_time": "2023-06-09T13:17:29.910Z"
   },
   {
    "duration": 15,
    "start_time": "2023-06-09T13:17:29.940Z"
   },
   {
    "duration": 1110,
    "start_time": "2023-06-09T13:17:29.961Z"
   },
   {
    "duration": 502,
    "start_time": "2023-06-09T13:17:57.800Z"
   },
   {
    "duration": 18,
    "start_time": "2023-06-09T13:18:18.382Z"
   },
   {
    "duration": 161,
    "start_time": "2023-06-09T13:19:28.075Z"
   },
   {
    "duration": 4,
    "start_time": "2023-06-09T13:20:48.412Z"
   },
   {
    "duration": 470,
    "start_time": "2023-06-09T13:20:48.420Z"
   },
   {
    "duration": 95,
    "start_time": "2023-06-09T13:20:48.895Z"
   },
   {
    "duration": 69,
    "start_time": "2023-06-09T13:20:48.996Z"
   },
   {
    "duration": 9,
    "start_time": "2023-06-09T13:20:49.072Z"
   },
   {
    "duration": 25,
    "start_time": "2023-06-09T13:20:49.092Z"
   },
   {
    "duration": 11,
    "start_time": "2023-06-09T13:20:49.128Z"
   },
   {
    "duration": 2328,
    "start_time": "2023-06-09T13:20:49.142Z"
   },
   {
    "duration": 241,
    "start_time": "2023-06-09T13:20:51.476Z"
   },
   {
    "duration": 111,
    "start_time": "2023-06-09T13:20:51.719Z"
   },
   {
    "duration": 18,
    "start_time": "2023-06-09T13:20:51.836Z"
   },
   {
    "duration": 20,
    "start_time": "2023-06-09T13:20:51.857Z"
   },
   {
    "duration": 1025,
    "start_time": "2023-06-09T13:20:51.879Z"
   },
   {
    "duration": 447,
    "start_time": "2023-06-09T13:20:52.907Z"
   },
   {
    "duration": 148,
    "start_time": "2023-06-09T13:20:53.365Z"
   },
   {
    "duration": 10,
    "start_time": "2023-06-09T13:20:53.516Z"
   },
   {
    "duration": 20,
    "start_time": "2023-06-09T13:20:53.529Z"
   },
   {
    "duration": 366,
    "start_time": "2023-06-09T13:20:53.551Z"
   },
   {
    "duration": 20,
    "start_time": "2023-06-09T13:20:53.919Z"
   },
   {
    "duration": 38,
    "start_time": "2023-06-09T13:20:53.947Z"
   },
   {
    "duration": 43,
    "start_time": "2023-06-09T13:20:53.990Z"
   },
   {
    "duration": 30,
    "start_time": "2023-06-09T13:20:54.040Z"
   },
   {
    "duration": 31,
    "start_time": "2023-06-09T13:20:54.076Z"
   },
   {
    "duration": 295,
    "start_time": "2023-06-09T13:20:54.112Z"
   },
   {
    "duration": 12381,
    "start_time": "2023-06-09T13:21:21.118Z"
   },
   {
    "duration": 90,
    "start_time": "2023-06-09T13:21:45.841Z"
   },
   {
    "duration": 273,
    "start_time": "2023-06-09T13:21:49.039Z"
   },
   {
    "duration": 29,
    "start_time": "2023-06-09T13:39:35.169Z"
   },
   {
    "duration": 30,
    "start_time": "2023-06-09T13:39:45.290Z"
   },
   {
    "duration": 12,
    "start_time": "2023-06-09T13:40:11.082Z"
   },
   {
    "duration": 27,
    "start_time": "2023-06-09T13:40:21.386Z"
   },
   {
    "duration": 15,
    "start_time": "2023-06-09T13:40:35.035Z"
   },
   {
    "duration": 7,
    "start_time": "2023-06-09T13:40:58.460Z"
   },
   {
    "duration": 40,
    "start_time": "2023-06-09T13:41:01.309Z"
   },
   {
    "duration": 18,
    "start_time": "2023-06-09T13:42:22.886Z"
   },
   {
    "duration": 11,
    "start_time": "2023-06-09T13:42:50.653Z"
   },
   {
    "duration": 15,
    "start_time": "2023-06-09T13:42:52.554Z"
   },
   {
    "duration": 6,
    "start_time": "2023-06-09T13:43:16.690Z"
   },
   {
    "duration": 14,
    "start_time": "2023-06-09T13:43:26.195Z"
   },
   {
    "duration": 19,
    "start_time": "2023-06-09T13:43:34.257Z"
   },
   {
    "duration": 18,
    "start_time": "2023-06-09T13:43:39.058Z"
   },
   {
    "duration": 7,
    "start_time": "2023-06-09T13:44:32.285Z"
   },
   {
    "duration": 9,
    "start_time": "2023-06-09T13:47:40.343Z"
   },
   {
    "duration": 9,
    "start_time": "2023-06-09T13:47:59.513Z"
   },
   {
    "duration": 7,
    "start_time": "2023-06-09T13:49:07.600Z"
   },
   {
    "duration": 7273,
    "start_time": "2023-06-09T13:49:13.005Z"
   },
   {
    "duration": 1783,
    "start_time": "2023-06-09T14:04:19.349Z"
   },
   {
    "duration": 321,
    "start_time": "2023-06-09T14:04:21.135Z"
   },
   {
    "duration": 87,
    "start_time": "2023-06-09T14:04:21.458Z"
   },
   {
    "duration": 110,
    "start_time": "2023-06-09T14:04:21.553Z"
   },
   {
    "duration": 8,
    "start_time": "2023-06-09T14:04:21.665Z"
   },
   {
    "duration": 30,
    "start_time": "2023-06-09T14:04:21.675Z"
   },
   {
    "duration": 16,
    "start_time": "2023-06-09T14:04:21.707Z"
   },
   {
    "duration": 1991,
    "start_time": "2023-06-09T14:04:21.728Z"
   },
   {
    "duration": 143,
    "start_time": "2023-06-09T14:04:23.722Z"
   },
   {
    "duration": 125,
    "start_time": "2023-06-09T14:04:23.869Z"
   },
   {
    "duration": 14,
    "start_time": "2023-06-09T14:04:23.996Z"
   },
   {
    "duration": 41,
    "start_time": "2023-06-09T14:04:24.012Z"
   },
   {
    "duration": 350,
    "start_time": "2023-06-09T14:04:24.055Z"
   },
   {
    "duration": 247,
    "start_time": "2023-06-09T14:04:24.407Z"
   },
   {
    "duration": 7,
    "start_time": "2023-06-09T14:04:24.656Z"
   },
   {
    "duration": 8,
    "start_time": "2023-06-09T14:04:24.666Z"
   },
   {
    "duration": 111,
    "start_time": "2023-06-09T14:04:24.676Z"
   },
   {
    "duration": 7,
    "start_time": "2023-06-09T14:04:24.790Z"
   },
   {
    "duration": 19,
    "start_time": "2023-06-09T14:04:24.799Z"
   },
   {
    "duration": 9,
    "start_time": "2023-06-09T14:04:24.826Z"
   },
   {
    "duration": 22,
    "start_time": "2023-06-09T14:04:24.846Z"
   },
   {
    "duration": 4296,
    "start_time": "2023-06-09T14:04:24.870Z"
   },
   {
    "duration": 3335,
    "start_time": "2023-06-09T14:04:29.167Z"
   },
   {
    "duration": 6,
    "start_time": "2023-06-09T14:04:32.505Z"
   },
   {
    "duration": 154,
    "start_time": "2023-06-09T14:04:32.534Z"
   },
   {
    "duration": 5093,
    "start_time": "2023-06-09T14:04:32.691Z"
   },
   {
    "duration": 55362,
    "start_time": "2023-06-09T14:04:37.787Z"
   },
   {
    "duration": 923,
    "start_time": "2023-06-09T14:05:33.153Z"
   },
   {
    "duration": 4875,
    "start_time": "2023-06-09T14:05:34.078Z"
   },
   {
    "duration": 73690,
    "start_time": "2023-06-09T14:05:38.955Z"
   },
   {
    "duration": 206,
    "start_time": "2023-06-09T14:06:52.647Z"
   },
   {
    "duration": 4398,
    "start_time": "2023-06-09T14:06:52.862Z"
   },
   {
    "duration": 1509,
    "start_time": "2023-06-09T14:08:06.444Z"
   },
   {
    "duration": 350,
    "start_time": "2023-06-09T14:08:07.955Z"
   },
   {
    "duration": 54,
    "start_time": "2023-06-09T14:08:08.307Z"
   },
   {
    "duration": 65,
    "start_time": "2023-06-09T14:08:08.363Z"
   },
   {
    "duration": 13,
    "start_time": "2023-06-09T14:08:08.435Z"
   },
   {
    "duration": 30,
    "start_time": "2023-06-09T14:08:08.450Z"
   },
   {
    "duration": 8,
    "start_time": "2023-06-09T14:08:08.482Z"
   },
   {
    "duration": 2052,
    "start_time": "2023-06-09T14:08:08.492Z"
   },
   {
    "duration": 169,
    "start_time": "2023-06-09T14:08:10.546Z"
   },
   {
    "duration": 89,
    "start_time": "2023-06-09T14:08:10.717Z"
   },
   {
    "duration": 12,
    "start_time": "2023-06-09T14:08:10.808Z"
   },
   {
    "duration": 7,
    "start_time": "2023-06-09T14:08:10.825Z"
   },
   {
    "duration": 994,
    "start_time": "2023-06-09T14:08:10.834Z"
   },
   {
    "duration": 384,
    "start_time": "2023-06-09T14:08:11.831Z"
   },
   {
    "duration": 13,
    "start_time": "2023-06-09T14:08:12.217Z"
   },
   {
    "duration": 26,
    "start_time": "2023-06-09T14:08:12.232Z"
   },
   {
    "duration": 393,
    "start_time": "2023-06-09T14:08:12.260Z"
   },
   {
    "duration": 5,
    "start_time": "2023-06-09T14:08:12.656Z"
   },
   {
    "duration": 9,
    "start_time": "2023-06-09T14:08:12.663Z"
   },
   {
    "duration": 34,
    "start_time": "2023-06-09T14:08:12.674Z"
   },
   {
    "duration": 21,
    "start_time": "2023-06-09T14:08:12.711Z"
   },
   {
    "duration": 6888,
    "start_time": "2023-06-09T14:08:12.740Z"
   },
   {
    "duration": 10205,
    "start_time": "2023-06-09T14:08:19.631Z"
   },
   {
    "duration": 11,
    "start_time": "2023-06-09T14:08:29.838Z"
   },
   {
    "duration": 104,
    "start_time": "2023-06-09T14:08:29.851Z"
   },
   {
    "duration": 6646,
    "start_time": "2023-06-09T14:08:29.959Z"
   },
   {
    "duration": 130290,
    "start_time": "2023-06-09T14:08:36.607Z"
   },
   {
    "duration": 1332,
    "start_time": "2023-06-09T14:10:46.899Z"
   },
   {
    "duration": 7656,
    "start_time": "2023-06-09T14:10:48.234Z"
   },
   {
    "duration": 132965,
    "start_time": "2023-06-09T14:10:55.892Z"
   },
   {
    "duration": 304,
    "start_time": "2023-06-09T14:13:08.861Z"
   },
   {
    "duration": 7412,
    "start_time": "2023-06-09T14:13:09.167Z"
   },
   {
    "duration": 6,
    "start_time": "2023-06-09T14:22:31.182Z"
   },
   {
    "duration": 6,
    "start_time": "2023-06-09T14:22:42.242Z"
   },
   {
    "duration": 5,
    "start_time": "2023-06-09T14:22:44.748Z"
   },
   {
    "duration": 6,
    "start_time": "2023-06-09T14:22:57.174Z"
   },
   {
    "duration": 6,
    "start_time": "2023-06-09T14:23:13.445Z"
   },
   {
    "duration": 5,
    "start_time": "2023-06-09T14:23:17.007Z"
   },
   {
    "duration": 9,
    "start_time": "2023-06-09T14:23:22.826Z"
   },
   {
    "duration": 8,
    "start_time": "2023-06-09T14:23:27.872Z"
   },
   {
    "duration": 4,
    "start_time": "2023-06-09T14:24:05.400Z"
   },
   {
    "duration": 5,
    "start_time": "2023-06-09T14:24:48.095Z"
   },
   {
    "duration": 6,
    "start_time": "2023-06-09T14:24:51.607Z"
   },
   {
    "duration": 5,
    "start_time": "2023-06-09T14:24:54.258Z"
   },
   {
    "duration": 6,
    "start_time": "2023-06-09T15:51:12.191Z"
   },
   {
    "duration": 15,
    "start_time": "2023-06-09T15:51:16.023Z"
   },
   {
    "duration": 4,
    "start_time": "2023-06-09T15:51:17.358Z"
   },
   {
    "duration": 8,
    "start_time": "2023-06-09T15:51:22.144Z"
   },
   {
    "duration": 6445,
    "start_time": "2023-06-09T15:51:24.521Z"
   },
   {
    "duration": 6532,
    "start_time": "2023-06-09T15:54:18.952Z"
   },
   {
    "duration": 6,
    "start_time": "2023-06-09T15:57:41.457Z"
   },
   {
    "duration": 7710,
    "start_time": "2023-06-09T15:57:43.410Z"
   },
   {
    "duration": 395,
    "start_time": "2023-06-09T15:58:39.009Z"
   },
   {
    "duration": 20,
    "start_time": "2023-06-09T15:58:51.847Z"
   },
   {
    "duration": 210,
    "start_time": "2023-06-09T15:58:54.037Z"
   },
   {
    "duration": 8,
    "start_time": "2023-06-09T15:59:05.851Z"
   },
   {
    "duration": 210,
    "start_time": "2023-06-09T15:59:07.952Z"
   },
   {
    "duration": 9,
    "start_time": "2023-06-09T15:59:24.868Z"
   },
   {
    "duration": 108,
    "start_time": "2023-06-09T15:59:27.111Z"
   },
   {
    "duration": 9,
    "start_time": "2023-06-09T15:59:48.867Z"
   },
   {
    "duration": 203,
    "start_time": "2023-06-09T15:59:50.102Z"
   },
   {
    "duration": 9,
    "start_time": "2023-06-09T16:01:47.915Z"
   },
   {
    "duration": 8,
    "start_time": "2023-06-09T16:01:48.972Z"
   },
   {
    "duration": 237,
    "start_time": "2023-06-09T16:01:50.473Z"
   },
   {
    "duration": 10,
    "start_time": "2023-06-09T16:02:32.291Z"
   },
   {
    "duration": 573,
    "start_time": "2023-06-09T16:02:34.999Z"
   },
   {
    "duration": 9,
    "start_time": "2023-06-09T16:07:56.462Z"
   },
   {
    "duration": 78,
    "start_time": "2023-06-09T16:08:07.041Z"
   },
   {
    "duration": 17,
    "start_time": "2023-06-09T16:08:12.480Z"
   },
   {
    "duration": 111,
    "start_time": "2023-06-09T16:11:02.743Z"
   },
   {
    "duration": 7,
    "start_time": "2023-06-09T16:11:19.482Z"
   },
   {
    "duration": 157,
    "start_time": "2023-06-09T16:11:23.987Z"
   },
   {
    "duration": 11,
    "start_time": "2023-06-09T16:11:41.690Z"
   },
   {
    "duration": 93,
    "start_time": "2023-06-09T16:11:44.092Z"
   },
   {
    "duration": 23,
    "start_time": "2023-06-09T16:11:48.010Z"
   },
   {
    "duration": 7,
    "start_time": "2023-06-09T16:12:04.754Z"
   },
   {
    "duration": 100,
    "start_time": "2023-06-09T16:12:08.944Z"
   },
   {
    "duration": 13,
    "start_time": "2023-06-09T16:12:11.045Z"
   },
   {
    "duration": 6,
    "start_time": "2023-06-09T16:13:36.881Z"
   },
   {
    "duration": 6,
    "start_time": "2023-06-09T16:13:46.091Z"
   },
   {
    "duration": 105,
    "start_time": "2023-06-09T16:13:52.725Z"
   },
   {
    "duration": 13,
    "start_time": "2023-06-09T16:13:54.547Z"
   },
   {
    "duration": 6488,
    "start_time": "2023-06-09T16:14:07.554Z"
   },
   {
    "duration": 21,
    "start_time": "2023-06-09T16:14:15.193Z"
   },
   {
    "duration": 7003,
    "start_time": "2023-06-09T16:16:24.051Z"
   },
   {
    "duration": 62,
    "start_time": "2023-06-09T16:28:21.743Z"
   },
   {
    "duration": 142,
    "start_time": "2023-06-09T16:32:17.964Z"
   },
   {
    "duration": 149,
    "start_time": "2023-06-09T16:33:05.683Z"
   },
   {
    "duration": 2494,
    "start_time": "2023-06-09T16:33:27.574Z"
   },
   {
    "duration": 2390,
    "start_time": "2023-06-09T16:33:34.615Z"
   },
   {
    "duration": 2439,
    "start_time": "2023-06-09T16:39:53.623Z"
   },
   {
    "duration": 15,
    "start_time": "2023-06-09T16:45:02.722Z"
   },
   {
    "duration": 7734,
    "start_time": "2023-06-09T16:45:25.862Z"
   },
   {
    "duration": 10,
    "start_time": "2023-06-09T16:45:52.819Z"
   },
   {
    "duration": 8,
    "start_time": "2023-06-09T16:45:59.555Z"
   },
   {
    "duration": 12,
    "start_time": "2023-06-09T16:46:10.834Z"
   },
   {
    "duration": 11,
    "start_time": "2023-06-09T16:46:13.453Z"
   },
   {
    "duration": 7245,
    "start_time": "2023-06-09T16:46:15.962Z"
   },
   {
    "duration": 9612,
    "start_time": "2023-06-09T16:46:45.089Z"
   },
   {
    "duration": 8686,
    "start_time": "2023-06-09T16:47:25.912Z"
   },
   {
    "duration": 6,
    "start_time": "2023-06-09T16:49:50.120Z"
   },
   {
    "duration": 6,
    "start_time": "2023-06-09T16:50:16.600Z"
   },
   {
    "duration": 8311,
    "start_time": "2023-06-09T16:50:19.692Z"
   },
   {
    "duration": 11042,
    "start_time": "2023-06-09T16:50:31.959Z"
   },
   {
    "duration": 7735,
    "start_time": "2023-06-09T16:50:51.056Z"
   },
   {
    "duration": 13,
    "start_time": "2023-06-09T16:56:01.820Z"
   },
   {
    "duration": 8961,
    "start_time": "2023-06-09T16:56:04.600Z"
   },
   {
    "duration": 12,
    "start_time": "2023-06-09T16:56:18.445Z"
   },
   {
    "duration": 7958,
    "start_time": "2023-06-09T16:56:23.168Z"
   },
   {
    "duration": 12,
    "start_time": "2023-06-09T16:59:03.922Z"
   },
   {
    "duration": 7786,
    "start_time": "2023-06-09T16:59:06.887Z"
   },
   {
    "duration": 7,
    "start_time": "2023-06-09T16:59:26.963Z"
   },
   {
    "duration": 11902,
    "start_time": "2023-06-09T16:59:37.092Z"
   },
   {
    "duration": 12,
    "start_time": "2023-06-09T17:01:04.932Z"
   },
   {
    "duration": 8731,
    "start_time": "2023-06-09T17:01:18.370Z"
   },
   {
    "duration": 14497,
    "start_time": "2023-06-09T17:02:19.884Z"
   },
   {
    "duration": 7741,
    "start_time": "2023-06-09T17:03:23.568Z"
   },
   {
    "duration": 143568,
    "start_time": "2023-06-09T17:04:12.850Z"
   },
   {
    "duration": 11711,
    "start_time": "2023-06-09T17:06:39.282Z"
   },
   {
    "duration": 136429,
    "start_time": "2023-06-09T17:07:05.812Z"
   },
   {
    "duration": 11874,
    "start_time": "2023-06-09T17:09:54.824Z"
   },
   {
    "duration": 150788,
    "start_time": "2023-06-09T17:21:04.661Z"
   },
   {
    "duration": 11695,
    "start_time": "2023-06-09T17:26:29.002Z"
   },
   {
    "duration": 5,
    "start_time": "2023-06-09T17:42:25.072Z"
   },
   {
    "duration": 11,
    "start_time": "2023-06-09T17:42:39.654Z"
   },
   {
    "duration": 6,
    "start_time": "2023-06-09T17:42:47.317Z"
   },
   {
    "duration": 9,
    "start_time": "2023-06-09T17:44:53.696Z"
   },
   {
    "duration": 9,
    "start_time": "2023-06-09T17:58:13.650Z"
   },
   {
    "duration": 6254,
    "start_time": "2023-06-09T17:58:17.813Z"
   },
   {
    "duration": 6,
    "start_time": "2023-06-09T18:01:42.779Z"
   },
   {
    "duration": 105,
    "start_time": "2023-06-09T18:01:44.965Z"
   },
   {
    "duration": 96,
    "start_time": "2023-06-09T18:03:05.568Z"
   },
   {
    "duration": 9,
    "start_time": "2023-06-09T18:03:11.322Z"
   },
   {
    "duration": 12,
    "start_time": "2023-06-09T18:03:33.545Z"
   },
   {
    "duration": 6,
    "start_time": "2023-06-09T18:03:46.343Z"
   },
   {
    "duration": 12,
    "start_time": "2023-06-09T18:03:54.880Z"
   },
   {
    "duration": 4,
    "start_time": "2023-06-09T18:04:50.166Z"
   },
   {
    "duration": 4,
    "start_time": "2023-06-09T18:05:29.147Z"
   },
   {
    "duration": 4,
    "start_time": "2023-06-09T18:06:04.543Z"
   },
   {
    "duration": 7,
    "start_time": "2023-06-09T18:06:35.311Z"
   },
   {
    "duration": 94,
    "start_time": "2023-06-09T18:06:36.801Z"
   },
   {
    "duration": 18,
    "start_time": "2023-06-09T18:06:39.216Z"
   },
   {
    "duration": 6426,
    "start_time": "2023-06-09T18:53:32.081Z"
   },
   {
    "duration": 6,
    "start_time": "2023-06-09T18:54:12.680Z"
   },
   {
    "duration": 6372,
    "start_time": "2023-06-09T18:54:18.268Z"
   },
   {
    "duration": 11,
    "start_time": "2023-06-09T18:55:03.950Z"
   },
   {
    "duration": 6,
    "start_time": "2023-06-09T18:55:08.981Z"
   },
   {
    "duration": 123,
    "start_time": "2023-06-09T18:55:12.050Z"
   },
   {
    "duration": 6,
    "start_time": "2023-06-09T18:55:14.313Z"
   },
   {
    "duration": 6,
    "start_time": "2023-06-09T18:55:32.136Z"
   },
   {
    "duration": 12,
    "start_time": "2023-06-09T18:55:35.671Z"
   },
   {
    "duration": 4,
    "start_time": "2023-06-09T18:55:46.396Z"
   },
   {
    "duration": 11,
    "start_time": "2023-06-09T18:55:48.238Z"
   },
   {
    "duration": 4,
    "start_time": "2023-06-09T18:56:24.519Z"
   },
   {
    "duration": 3,
    "start_time": "2023-06-09T18:57:16.758Z"
   },
   {
    "duration": 10,
    "start_time": "2023-06-09T18:57:18.650Z"
   },
   {
    "duration": 85,
    "start_time": "2023-06-09T18:57:42.939Z"
   },
   {
    "duration": 342,
    "start_time": "2023-06-09T18:57:47.672Z"
   },
   {
    "duration": 6,
    "start_time": "2023-06-09T18:58:00.859Z"
   },
   {
    "duration": 6,
    "start_time": "2023-06-09T18:58:08.840Z"
   },
   {
    "duration": 8,
    "start_time": "2023-06-09T18:58:09.818Z"
   },
   {
    "duration": 438,
    "start_time": "2023-06-09T18:58:14.622Z"
   },
   {
    "duration": 4,
    "start_time": "2023-06-09T18:58:18.357Z"
   },
   {
    "duration": 90,
    "start_time": "2023-06-09T18:58:23.691Z"
   },
   {
    "duration": 4,
    "start_time": "2023-06-09T18:58:25.345Z"
   },
   {
    "duration": 9,
    "start_time": "2023-06-09T18:58:29.278Z"
   },
   {
    "duration": 5,
    "start_time": "2023-06-09T18:59:57.553Z"
   },
   {
    "duration": 9,
    "start_time": "2023-06-09T18:59:59.456Z"
   },
   {
    "duration": 3,
    "start_time": "2023-06-09T19:00:08.218Z"
   },
   {
    "duration": 10,
    "start_time": "2023-06-09T19:00:11.006Z"
   },
   {
    "duration": 4,
    "start_time": "2023-06-09T19:00:36.161Z"
   },
   {
    "duration": 10,
    "start_time": "2023-06-09T19:00:37.802Z"
   },
   {
    "duration": 6,
    "start_time": "2023-06-09T19:00:52.114Z"
   },
   {
    "duration": 3,
    "start_time": "2023-06-09T19:01:04.204Z"
   },
   {
    "duration": 10,
    "start_time": "2023-06-09T19:01:10.315Z"
   },
   {
    "duration": 106,
    "start_time": "2023-06-09T19:01:57.077Z"
   },
   {
    "duration": 6,
    "start_time": "2023-06-09T19:02:10.517Z"
   },
   {
    "duration": 110,
    "start_time": "2023-06-09T19:02:12.400Z"
   },
   {
    "duration": 6,
    "start_time": "2023-06-09T19:02:35.644Z"
   },
   {
    "duration": 106,
    "start_time": "2023-06-09T19:02:37.786Z"
   },
   {
    "duration": 6,
    "start_time": "2023-06-09T19:03:02.712Z"
   },
   {
    "duration": 100,
    "start_time": "2023-06-09T19:03:04.470Z"
   },
   {
    "duration": 5,
    "start_time": "2023-06-09T19:03:56.658Z"
   },
   {
    "duration": 5,
    "start_time": "2023-06-09T19:03:58.561Z"
   },
   {
    "duration": 6,
    "start_time": "2023-06-09T19:04:00.487Z"
   },
   {
    "duration": 92,
    "start_time": "2023-06-09T19:04:04.801Z"
   },
   {
    "duration": 6462,
    "start_time": "2023-06-09T19:04:17.650Z"
   },
   {
    "duration": 10,
    "start_time": "2023-06-09T19:05:06.792Z"
   },
   {
    "duration": 4,
    "start_time": "2023-06-09T19:06:07.517Z"
   },
   {
    "duration": 8,
    "start_time": "2023-06-09T19:06:09.050Z"
   },
   {
    "duration": 7,
    "start_time": "2023-06-09T19:06:11.190Z"
   },
   {
    "duration": 6585,
    "start_time": "2023-06-09T19:06:14.380Z"
   },
   {
    "duration": 6887,
    "start_time": "2023-06-09T19:07:44.040Z"
   },
   {
    "duration": 6,
    "start_time": "2023-06-09T19:07:53.354Z"
   },
   {
    "duration": 97,
    "start_time": "2023-06-09T19:08:01.200Z"
   },
   {
    "duration": 1521,
    "start_time": "2023-06-09T19:08:05.077Z"
   },
   {
    "duration": 8,
    "start_time": "2023-06-09T19:08:19.270Z"
   },
   {
    "duration": 5,
    "start_time": "2023-06-09T19:08:28.561Z"
   },
   {
    "duration": 4,
    "start_time": "2023-06-09T19:08:32.052Z"
   },
   {
    "duration": 14,
    "start_time": "2023-06-09T19:08:37.742Z"
   },
   {
    "duration": 7,
    "start_time": "2023-06-09T19:09:02.208Z"
   },
   {
    "duration": 5,
    "start_time": "2023-06-09T19:09:09.513Z"
   },
   {
    "duration": 6,
    "start_time": "2023-06-09T19:09:13.688Z"
   },
   {
    "duration": 20,
    "start_time": "2023-06-09T19:09:37.544Z"
   },
   {
    "duration": 6,
    "start_time": "2023-06-09T19:09:42.301Z"
   },
   {
    "duration": 1354,
    "start_time": "2023-06-09T19:09:46.040Z"
   },
   {
    "duration": 3,
    "start_time": "2023-06-09T19:11:32.014Z"
   },
   {
    "duration": 20,
    "start_time": "2023-06-09T19:11:34.930Z"
   },
   {
    "duration": 16,
    "start_time": "2023-06-09T19:11:38.842Z"
   },
   {
    "duration": 7,
    "start_time": "2023-06-09T19:12:09.606Z"
   },
   {
    "duration": 6,
    "start_time": "2023-06-09T19:12:14.377Z"
   },
   {
    "duration": 6403,
    "start_time": "2023-06-09T19:12:16.529Z"
   },
   {
    "duration": 13,
    "start_time": "2023-06-09T19:12:29.238Z"
   },
   {
    "duration": 7,
    "start_time": "2023-06-09T19:13:34.643Z"
   },
   {
    "duration": 6193,
    "start_time": "2023-06-09T19:13:38.818Z"
   },
   {
    "duration": 6482,
    "start_time": "2023-06-09T19:13:55.058Z"
   },
   {
    "duration": 9887,
    "start_time": "2023-06-09T19:15:01.858Z"
   },
   {
    "duration": 6989,
    "start_time": "2023-06-09T19:15:49.254Z"
   },
   {
    "duration": 5326,
    "start_time": "2023-06-09T19:16:39.862Z"
   },
   {
    "duration": 11,
    "start_time": "2023-06-09T19:21:08.339Z"
   },
   {
    "duration": 188,
    "start_time": "2023-06-09T19:21:28.189Z"
   },
   {
    "duration": 4,
    "start_time": "2023-06-09T19:21:50.387Z"
   },
   {
    "duration": 188,
    "start_time": "2023-06-09T19:21:51.787Z"
   },
   {
    "duration": 1543,
    "start_time": "2023-06-09T19:22:01.799Z"
   },
   {
    "duration": 697,
    "start_time": "2023-06-09T19:22:03.345Z"
   },
   {
    "duration": 51,
    "start_time": "2023-06-09T19:22:04.044Z"
   },
   {
    "duration": 105,
    "start_time": "2023-06-09T19:22:04.097Z"
   },
   {
    "duration": 5,
    "start_time": "2023-06-09T19:22:04.204Z"
   },
   {
    "duration": 26,
    "start_time": "2023-06-09T19:22:04.212Z"
   },
   {
    "duration": 30,
    "start_time": "2023-06-09T19:22:04.242Z"
   },
   {
    "duration": 1845,
    "start_time": "2023-06-09T19:22:04.274Z"
   },
   {
    "duration": 175,
    "start_time": "2023-06-09T19:22:06.120Z"
   },
   {
    "duration": 85,
    "start_time": "2023-06-09T19:22:06.298Z"
   },
   {
    "duration": 11,
    "start_time": "2023-06-09T19:22:06.385Z"
   },
   {
    "duration": 6,
    "start_time": "2023-06-09T19:22:06.398Z"
   },
   {
    "duration": 929,
    "start_time": "2023-06-09T19:22:06.405Z"
   },
   {
    "duration": 4,
    "start_time": "2023-06-09T19:22:07.336Z"
   },
   {
    "duration": 370,
    "start_time": "2023-06-09T19:22:07.342Z"
   },
   {
    "duration": 6,
    "start_time": "2023-06-09T19:22:07.714Z"
   },
   {
    "duration": 20,
    "start_time": "2023-06-09T19:22:07.725Z"
   },
   {
    "duration": 354,
    "start_time": "2023-06-09T19:22:07.747Z"
   },
   {
    "duration": 5,
    "start_time": "2023-06-09T19:22:08.103Z"
   },
   {
    "duration": 37,
    "start_time": "2023-06-09T19:22:08.110Z"
   },
   {
    "duration": 8,
    "start_time": "2023-06-09T19:22:08.150Z"
   },
   {
    "duration": 29,
    "start_time": "2023-06-09T19:22:08.160Z"
   },
   {
    "duration": 6563,
    "start_time": "2023-06-09T19:22:08.191Z"
   },
   {
    "duration": 14,
    "start_time": "2023-06-09T19:22:14.756Z"
   },
   {
    "duration": 75,
    "start_time": "2023-06-09T19:22:14.772Z"
   },
   {
    "duration": 0,
    "start_time": "2023-06-09T19:22:14.849Z"
   },
   {
    "duration": 0,
    "start_time": "2023-06-09T19:22:14.850Z"
   },
   {
    "duration": 0,
    "start_time": "2023-06-09T19:22:14.852Z"
   },
   {
    "duration": 0,
    "start_time": "2023-06-09T19:22:14.853Z"
   },
   {
    "duration": 0,
    "start_time": "2023-06-09T19:22:14.854Z"
   },
   {
    "duration": 0,
    "start_time": "2023-06-09T19:22:14.856Z"
   },
   {
    "duration": 0,
    "start_time": "2023-06-09T19:22:14.857Z"
   },
   {
    "duration": 68,
    "start_time": "2023-06-09T19:24:37.610Z"
   },
   {
    "duration": 150,
    "start_time": "2023-06-09T19:24:48.973Z"
   },
   {
    "duration": 40,
    "start_time": "2023-06-09T19:25:13.106Z"
   },
   {
    "duration": 24,
    "start_time": "2023-06-09T19:25:21.054Z"
   },
   {
    "duration": 5348,
    "start_time": "2023-06-09T19:26:25.241Z"
   },
   {
    "duration": 6292,
    "start_time": "2023-06-09T19:28:31.443Z"
   },
   {
    "duration": 123,
    "start_time": "2023-06-09T19:35:07.563Z"
   },
   {
    "duration": 119,
    "start_time": "2023-06-09T19:35:23.890Z"
   },
   {
    "duration": 60,
    "start_time": "2023-06-09T19:35:43.960Z"
   },
   {
    "duration": 82,
    "start_time": "2023-06-09T19:35:58.698Z"
   },
   {
    "duration": 76,
    "start_time": "2023-06-09T19:36:57.341Z"
   },
   {
    "duration": 80,
    "start_time": "2023-06-09T19:37:19.707Z"
   },
   {
    "duration": 65,
    "start_time": "2023-06-09T19:37:33.549Z"
   },
   {
    "duration": 6087,
    "start_time": "2023-06-09T19:42:36.383Z"
   },
   {
    "duration": 6101,
    "start_time": "2023-06-09T19:43:26.060Z"
   },
   {
    "duration": 119,
    "start_time": "2023-06-09T19:43:36.229Z"
   },
   {
    "duration": 94,
    "start_time": "2023-06-09T19:43:45.080Z"
   },
   {
    "duration": 251,
    "start_time": "2023-06-09T19:44:04.986Z"
   },
   {
    "duration": 415,
    "start_time": "2023-06-09T19:44:49.560Z"
   },
   {
    "duration": 116,
    "start_time": "2023-06-09T19:45:02.807Z"
   },
   {
    "duration": 87,
    "start_time": "2023-06-09T19:45:40.755Z"
   },
   {
    "duration": 83,
    "start_time": "2023-06-09T19:45:55.521Z"
   },
   {
    "duration": 349,
    "start_time": "2023-06-09T19:46:26.519Z"
   },
   {
    "duration": 464,
    "start_time": "2023-06-09T19:47:35.943Z"
   },
   {
    "duration": 587,
    "start_time": "2023-06-09T19:49:07.152Z"
   },
   {
    "duration": 383,
    "start_time": "2023-06-09T19:49:53.599Z"
   },
   {
    "duration": 540,
    "start_time": "2023-06-09T19:50:18.511Z"
   },
   {
    "duration": 1088,
    "start_time": "2023-06-09T19:58:13.221Z"
   },
   {
    "duration": 892,
    "start_time": "2023-06-09T19:58:41.780Z"
   },
   {
    "duration": 1206,
    "start_time": "2023-06-09T19:58:50.669Z"
   },
   {
    "duration": 1048,
    "start_time": "2023-06-09T19:58:56.314Z"
   },
   {
    "duration": 1282,
    "start_time": "2023-06-09T19:58:59.606Z"
   },
   {
    "duration": 1128,
    "start_time": "2023-06-09T19:59:09.875Z"
   },
   {
    "duration": 1125,
    "start_time": "2023-06-09T19:59:17.971Z"
   },
   {
    "duration": 1047,
    "start_time": "2023-06-09T19:59:22.752Z"
   },
   {
    "duration": 1240,
    "start_time": "2023-06-09T19:59:33.854Z"
   },
   {
    "duration": 993,
    "start_time": "2023-06-09T19:59:42.227Z"
   },
   {
    "duration": 1043,
    "start_time": "2023-06-09T19:59:47.346Z"
   },
   {
    "duration": 4298,
    "start_time": "2023-06-09T20:00:04.182Z"
   },
   {
    "duration": 6336,
    "start_time": "2023-06-09T20:00:17.495Z"
   },
   {
    "duration": 11058,
    "start_time": "2023-06-09T20:55:53.293Z"
   },
   {
    "duration": 7040,
    "start_time": "2023-06-09T20:56:09.680Z"
   },
   {
    "duration": 8127,
    "start_time": "2023-06-09T21:21:17.967Z"
   },
   {
    "duration": 12,
    "start_time": "2023-06-09T21:27:44.471Z"
   },
   {
    "duration": 4,
    "start_time": "2023-06-09T21:27:51.342Z"
   },
   {
    "duration": 4,
    "start_time": "2023-06-09T21:32:50.394Z"
   },
   {
    "duration": 75,
    "start_time": "2023-06-09T21:38:57.885Z"
   },
   {
    "duration": 69,
    "start_time": "2023-06-09T21:39:05.750Z"
   },
   {
    "duration": 81,
    "start_time": "2023-06-09T21:39:17.305Z"
   },
   {
    "duration": 44,
    "start_time": "2023-06-09T21:39:45.512Z"
   },
   {
    "duration": 72,
    "start_time": "2023-06-09T21:40:02.389Z"
   },
   {
    "duration": 75,
    "start_time": "2023-06-09T21:40:06.767Z"
   },
   {
    "duration": 75,
    "start_time": "2023-06-09T21:40:11.680Z"
   },
   {
    "duration": 84,
    "start_time": "2023-06-09T21:41:00.681Z"
   },
   {
    "duration": 74,
    "start_time": "2023-06-09T21:41:40.617Z"
   },
   {
    "duration": 76,
    "start_time": "2023-06-09T21:41:56.562Z"
   },
   {
    "duration": 79,
    "start_time": "2023-06-09T21:42:19.358Z"
   },
   {
    "duration": 84,
    "start_time": "2023-06-09T21:43:49.266Z"
   },
   {
    "duration": 86,
    "start_time": "2023-06-09T21:43:55.755Z"
   },
   {
    "duration": 96,
    "start_time": "2023-06-09T21:44:01.456Z"
   },
   {
    "duration": 99,
    "start_time": "2023-06-09T21:44:55.689Z"
   },
   {
    "duration": 94,
    "start_time": "2023-06-09T21:46:39.664Z"
   },
   {
    "duration": 78,
    "start_time": "2023-06-09T21:46:56.208Z"
   },
   {
    "duration": 96,
    "start_time": "2023-06-09T21:48:01.159Z"
   },
   {
    "duration": 79,
    "start_time": "2023-06-09T21:48:10.700Z"
   },
   {
    "duration": 94,
    "start_time": "2023-06-09T21:49:03.977Z"
   },
   {
    "duration": 83,
    "start_time": "2023-06-09T21:49:50.477Z"
   },
   {
    "duration": 72,
    "start_time": "2023-06-09T21:50:33.058Z"
   },
   {
    "duration": 85,
    "start_time": "2023-06-09T21:50:40.994Z"
   },
   {
    "duration": 104,
    "start_time": "2023-06-09T21:50:53.284Z"
   },
   {
    "duration": 105,
    "start_time": "2023-06-09T21:52:43.556Z"
   },
   {
    "duration": 90,
    "start_time": "2023-06-09T21:52:56.288Z"
   },
   {
    "duration": 94,
    "start_time": "2023-06-09T21:53:38.858Z"
   },
   {
    "duration": 89,
    "start_time": "2023-06-09T21:53:50.972Z"
   },
   {
    "duration": 89,
    "start_time": "2023-06-09T21:54:04.268Z"
   },
   {
    "duration": 91,
    "start_time": "2023-06-09T21:54:17.453Z"
   },
   {
    "duration": 87,
    "start_time": "2023-06-09T21:54:23.931Z"
   },
   {
    "duration": 540,
    "start_time": "2023-06-09T21:54:46.916Z"
   },
   {
    "duration": 403,
    "start_time": "2023-06-09T21:56:54.077Z"
   },
   {
    "duration": 378,
    "start_time": "2023-06-09T21:57:16.317Z"
   },
   {
    "duration": 383,
    "start_time": "2023-06-09T21:57:46.975Z"
   },
   {
    "duration": 497,
    "start_time": "2023-06-09T22:00:29.409Z"
   },
   {
    "duration": 485,
    "start_time": "2023-06-09T22:01:55.092Z"
   },
   {
    "duration": 487,
    "start_time": "2023-06-09T22:01:56.479Z"
   },
   {
    "duration": 358,
    "start_time": "2023-06-09T22:14:39.686Z"
   },
   {
    "duration": 145,
    "start_time": "2023-06-09T22:15:22.079Z"
   },
   {
    "duration": 95,
    "start_time": "2023-06-09T22:16:11.418Z"
   },
   {
    "duration": 187,
    "start_time": "2023-06-09T22:16:14.271Z"
   },
   {
    "duration": 43,
    "start_time": "2023-06-09T22:16:46.910Z"
   },
   {
    "duration": 547,
    "start_time": "2023-06-09T22:22:29.858Z"
   },
   {
    "duration": 22,
    "start_time": "2023-06-09T22:22:42.074Z"
   },
   {
    "duration": 309,
    "start_time": "2023-06-09T22:22:55.888Z"
   },
   {
    "duration": 24,
    "start_time": "2023-06-09T22:23:05.782Z"
   },
   {
    "duration": 24,
    "start_time": "2023-06-09T22:23:27.486Z"
   },
   {
    "duration": 34,
    "start_time": "2023-06-09T22:24:47.872Z"
   },
   {
    "duration": 12,
    "start_time": "2023-06-09T22:26:45.772Z"
   },
   {
    "duration": 3549,
    "start_time": "2023-06-09T22:26:54.802Z"
   },
   {
    "duration": 5827,
    "start_time": "2023-06-09T22:27:16.683Z"
   },
   {
    "duration": 7,
    "start_time": "2023-06-09T22:27:49.498Z"
   },
   {
    "duration": 25,
    "start_time": "2023-06-09T22:28:17.848Z"
   },
   {
    "duration": 17,
    "start_time": "2023-06-09T22:28:31.867Z"
   },
   {
    "duration": 25,
    "start_time": "2023-06-09T22:28:36.047Z"
   },
   {
    "duration": 21,
    "start_time": "2023-06-09T22:28:39.061Z"
   },
   {
    "duration": 24,
    "start_time": "2023-06-09T22:29:00.322Z"
   },
   {
    "duration": 166,
    "start_time": "2023-06-09T22:29:29.213Z"
   },
   {
    "duration": 201,
    "start_time": "2023-06-09T22:29:43.854Z"
   },
   {
    "duration": 171,
    "start_time": "2023-06-09T22:29:50.050Z"
   },
   {
    "duration": 152,
    "start_time": "2023-06-09T22:29:54.353Z"
   },
   {
    "duration": 4,
    "start_time": "2023-06-09T22:30:58.387Z"
   },
   {
    "duration": 353,
    "start_time": "2023-06-09T22:31:14.996Z"
   },
   {
    "duration": 684,
    "start_time": "2023-06-09T22:31:49.223Z"
   },
   {
    "duration": 441,
    "start_time": "2023-06-09T22:32:05.954Z"
   },
   {
    "duration": 447,
    "start_time": "2023-06-09T22:33:26.368Z"
   },
   {
    "duration": 463,
    "start_time": "2023-06-09T22:34:25.129Z"
   },
   {
    "duration": 776,
    "start_time": "2023-06-09T22:34:59.122Z"
   },
   {
    "duration": 450,
    "start_time": "2023-06-09T22:35:05.953Z"
   },
   {
    "duration": 514,
    "start_time": "2023-06-09T22:35:46.258Z"
   },
   {
    "duration": 271,
    "start_time": "2023-06-09T22:36:02.713Z"
   },
   {
    "duration": 228,
    "start_time": "2023-06-09T22:36:44.546Z"
   },
   {
    "duration": 3422,
    "start_time": "2023-06-09T22:36:54.743Z"
   },
   {
    "duration": 465,
    "start_time": "2023-06-09T22:37:04.846Z"
   },
   {
    "duration": 638,
    "start_time": "2023-06-09T22:37:30.953Z"
   },
   {
    "duration": 319,
    "start_time": "2023-06-09T22:37:35.464Z"
   },
   {
    "duration": 345,
    "start_time": "2023-06-09T22:37:38.417Z"
   },
   {
    "duration": 316,
    "start_time": "2023-06-09T22:37:45.474Z"
   },
   {
    "duration": 215,
    "start_time": "2023-06-09T22:37:50.475Z"
   },
   {
    "duration": 184,
    "start_time": "2023-06-09T22:38:03.938Z"
   },
   {
    "duration": 190,
    "start_time": "2023-06-09T22:38:30.118Z"
   },
   {
    "duration": 5,
    "start_time": "2023-06-09T23:10:06.603Z"
   },
   {
    "duration": 6904,
    "start_time": "2023-06-09T23:10:26.700Z"
   },
   {
    "duration": 6915,
    "start_time": "2023-06-09T23:10:55.062Z"
   },
   {
    "duration": 233,
    "start_time": "2023-06-09T23:12:11.303Z"
   },
   {
    "duration": 40,
    "start_time": "2023-06-09T23:12:43.454Z"
   },
   {
    "duration": 224,
    "start_time": "2023-06-09T23:13:34.353Z"
   },
   {
    "duration": 228,
    "start_time": "2023-06-09T23:13:38.880Z"
   },
   {
    "duration": 225,
    "start_time": "2023-06-09T23:17:47.367Z"
   },
   {
    "duration": 257,
    "start_time": "2023-06-09T23:17:55.896Z"
   },
   {
    "duration": 237,
    "start_time": "2023-06-09T23:18:20.148Z"
   },
   {
    "duration": 208,
    "start_time": "2023-06-09T23:25:01.556Z"
   },
   {
    "duration": 170,
    "start_time": "2023-06-09T23:25:28.792Z"
   },
   {
    "duration": 177,
    "start_time": "2023-06-09T23:25:46.311Z"
   },
   {
    "duration": 177,
    "start_time": "2023-06-09T23:25:50.313Z"
   },
   {
    "duration": 254,
    "start_time": "2023-06-09T23:25:59.687Z"
   },
   {
    "duration": 53,
    "start_time": "2023-06-09T23:26:39.618Z"
   },
   {
    "duration": 234,
    "start_time": "2023-06-09T23:26:44.686Z"
   },
   {
    "duration": 201,
    "start_time": "2023-06-09T23:28:00.204Z"
   },
   {
    "duration": 35,
    "start_time": "2023-06-09T23:30:48.152Z"
   },
   {
    "duration": 23,
    "start_time": "2023-06-09T23:51:38.553Z"
   },
   {
    "duration": 21,
    "start_time": "2023-06-09T23:51:50.782Z"
   },
   {
    "duration": 25,
    "start_time": "2023-06-09T23:52:06.003Z"
   },
   {
    "duration": 361,
    "start_time": "2023-06-09T23:52:18.522Z"
   },
   {
    "duration": 20,
    "start_time": "2023-06-09T23:52:37.759Z"
   },
   {
    "duration": 47,
    "start_time": "2023-06-09T23:55:22.108Z"
   },
   {
    "duration": 235,
    "start_time": "2023-06-09T23:55:33.952Z"
   },
   {
    "duration": 185,
    "start_time": "2023-06-09T23:55:41.292Z"
   },
   {
    "duration": 190,
    "start_time": "2023-06-09T23:57:02.373Z"
   },
   {
    "duration": 207,
    "start_time": "2023-06-09T23:57:39.659Z"
   },
   {
    "duration": 161,
    "start_time": "2023-06-09T23:58:12.546Z"
   },
   {
    "duration": 179,
    "start_time": "2023-06-09T23:58:29.250Z"
   },
   {
    "duration": 201,
    "start_time": "2023-06-09T23:58:57.383Z"
   },
   {
    "duration": 186,
    "start_time": "2023-06-09T23:59:30.841Z"
   },
   {
    "duration": 436,
    "start_time": "2023-06-10T00:01:56.243Z"
   },
   {
    "duration": 406,
    "start_time": "2023-06-10T00:02:06.677Z"
   },
   {
    "duration": 247,
    "start_time": "2023-06-10T00:02:39.918Z"
   },
   {
    "duration": 232,
    "start_time": "2023-06-10T00:02:52.323Z"
   },
   {
    "duration": 971,
    "start_time": "2023-06-10T00:04:01.394Z"
   },
   {
    "duration": 418,
    "start_time": "2023-06-10T00:04:32.573Z"
   },
   {
    "duration": 424,
    "start_time": "2023-06-10T00:05:19.241Z"
   },
   {
    "duration": 425,
    "start_time": "2023-06-10T00:05:32.945Z"
   },
   {
    "duration": 438,
    "start_time": "2023-06-10T00:06:11.011Z"
   },
   {
    "duration": 443,
    "start_time": "2023-06-10T00:08:17.375Z"
   },
   {
    "duration": 442,
    "start_time": "2023-06-10T00:10:01.660Z"
   },
   {
    "duration": 415,
    "start_time": "2023-06-10T00:10:11.884Z"
   },
   {
    "duration": 859,
    "start_time": "2023-06-10T00:10:28.331Z"
   },
   {
    "duration": 414,
    "start_time": "2023-06-10T00:12:40.646Z"
   },
   {
    "duration": 510,
    "start_time": "2023-06-10T00:15:06.371Z"
   },
   {
    "duration": 450,
    "start_time": "2023-06-10T00:15:50.614Z"
   },
   {
    "duration": 893,
    "start_time": "2023-06-10T00:15:57.601Z"
   },
   {
    "duration": 523,
    "start_time": "2023-06-10T00:16:10.668Z"
   },
   {
    "duration": 984,
    "start_time": "2023-06-10T00:16:54.188Z"
   },
   {
    "duration": 52,
    "start_time": "2023-06-10T00:18:01.604Z"
   },
   {
    "duration": 22,
    "start_time": "2023-06-10T00:18:45.890Z"
   },
   {
    "duration": 18,
    "start_time": "2023-06-10T00:19:10.060Z"
   },
   {
    "duration": 528,
    "start_time": "2023-06-10T00:19:15.856Z"
   },
   {
    "duration": 19,
    "start_time": "2023-06-10T00:19:24.787Z"
   },
   {
    "duration": 509,
    "start_time": "2023-06-10T00:19:26.331Z"
   },
   {
    "duration": 24,
    "start_time": "2023-06-10T00:19:35.456Z"
   },
   {
    "duration": 492,
    "start_time": "2023-06-10T00:19:43.467Z"
   },
   {
    "duration": 24,
    "start_time": "2023-06-10T00:19:48.554Z"
   },
   {
    "duration": 557,
    "start_time": "2023-06-10T00:20:04.995Z"
   },
   {
    "duration": 195,
    "start_time": "2023-06-10T00:20:14.620Z"
   },
   {
    "duration": 199,
    "start_time": "2023-06-10T00:20:34.838Z"
   },
   {
    "duration": 190,
    "start_time": "2023-06-10T00:20:37.300Z"
   },
   {
    "duration": 34,
    "start_time": "2023-06-10T00:21:40.124Z"
   },
   {
    "duration": 217,
    "start_time": "2023-06-10T00:21:45.470Z"
   },
   {
    "duration": 217,
    "start_time": "2023-06-10T00:21:57.288Z"
   },
   {
    "duration": 32,
    "start_time": "2023-06-10T00:22:26.414Z"
   },
   {
    "duration": 205,
    "start_time": "2023-06-10T00:22:30.947Z"
   },
   {
    "duration": 29,
    "start_time": "2023-06-10T00:22:42.262Z"
   },
   {
    "duration": 197,
    "start_time": "2023-06-10T00:23:21.373Z"
   },
   {
    "duration": 214,
    "start_time": "2023-06-10T00:23:36.173Z"
   },
   {
    "duration": 196,
    "start_time": "2023-06-10T00:23:55.562Z"
   },
   {
    "duration": 10,
    "start_time": "2023-06-10T00:24:58.660Z"
   },
   {
    "duration": 4,
    "start_time": "2023-06-10T00:25:02.185Z"
   },
   {
    "duration": 210,
    "start_time": "2023-06-10T00:25:04.351Z"
   },
   {
    "duration": 213,
    "start_time": "2023-06-10T00:25:20.049Z"
   },
   {
    "duration": 17,
    "start_time": "2023-06-10T00:25:42.647Z"
   },
   {
    "duration": 5,
    "start_time": "2023-06-10T00:25:44.782Z"
   },
   {
    "duration": 512,
    "start_time": "2023-06-10T00:25:46.328Z"
   },
   {
    "duration": 1310,
    "start_time": "2023-06-10T00:25:56.454Z"
   },
   {
    "duration": 333,
    "start_time": "2023-06-10T00:26:01.163Z"
   },
   {
    "duration": 509,
    "start_time": "2023-06-10T00:26:14.589Z"
   },
   {
    "duration": 527,
    "start_time": "2023-06-10T00:26:46.277Z"
   },
   {
    "duration": 361,
    "start_time": "2023-06-10T00:26:50.714Z"
   },
   {
    "duration": 341,
    "start_time": "2023-06-10T00:27:13.550Z"
   },
   {
    "duration": 4,
    "start_time": "2023-06-10T00:33:00.906Z"
   },
   {
    "duration": 46,
    "start_time": "2023-06-10T00:33:05.703Z"
   },
   {
    "duration": 4,
    "start_time": "2023-06-10T00:33:17.071Z"
   },
   {
    "duration": 505,
    "start_time": "2023-06-10T00:33:21.772Z"
   },
   {
    "duration": 11,
    "start_time": "2023-06-10T00:33:29.521Z"
   },
   {
    "duration": 501,
    "start_time": "2023-06-10T00:33:32.086Z"
   },
   {
    "duration": 5,
    "start_time": "2023-06-10T00:34:22.820Z"
   },
   {
    "duration": 4,
    "start_time": "2023-06-10T00:34:30.172Z"
   },
   {
    "duration": 1036,
    "start_time": "2023-06-10T00:34:32.359Z"
   },
   {
    "duration": 5,
    "start_time": "2023-06-10T00:36:29.912Z"
   },
   {
    "duration": 186,
    "start_time": "2023-06-10T00:36:32.542Z"
   },
   {
    "duration": 199,
    "start_time": "2023-06-10T00:37:21.072Z"
   },
   {
    "duration": 4,
    "start_time": "2023-06-10T00:37:37.893Z"
   },
   {
    "duration": 245,
    "start_time": "2023-06-10T00:37:44.851Z"
   },
   {
    "duration": 374,
    "start_time": "2023-06-10T00:38:18.116Z"
   },
   {
    "duration": 31,
    "start_time": "2023-06-10T00:41:18.543Z"
   },
   {
    "duration": 6272,
    "start_time": "2023-06-10T00:41:34.071Z"
   },
   {
    "duration": 5,
    "start_time": "2023-06-10T00:41:45.492Z"
   },
   {
    "duration": 6650,
    "start_time": "2023-06-10T00:41:48.740Z"
   },
   {
    "duration": 13,
    "start_time": "2023-06-10T00:43:46.030Z"
   },
   {
    "duration": 546,
    "start_time": "2023-06-10T00:43:49.556Z"
   },
   {
    "duration": 3016,
    "start_time": "2023-06-10T00:43:57.448Z"
   },
   {
    "duration": 1521,
    "start_time": "2023-06-10T00:54:53.384Z"
   },
   {
    "duration": 1759,
    "start_time": "2023-06-10T00:55:16.125Z"
   },
   {
    "duration": 11,
    "start_time": "2023-06-10T00:57:19.142Z"
   },
   {
    "duration": 413,
    "start_time": "2023-06-10T00:57:20.951Z"
   },
   {
    "duration": 7,
    "start_time": "2023-06-10T00:58:10.162Z"
   },
   {
    "duration": 1836,
    "start_time": "2023-06-10T00:58:12.493Z"
   },
   {
    "duration": 5,
    "start_time": "2023-06-10T01:04:11.697Z"
   },
   {
    "duration": 3849,
    "start_time": "2023-06-10T01:04:15.194Z"
   },
   {
    "duration": 5,
    "start_time": "2023-06-10T01:06:36.454Z"
   },
   {
    "duration": 729,
    "start_time": "2023-06-10T01:06:40.232Z"
   },
   {
    "duration": 10,
    "start_time": "2023-06-10T01:07:19.823Z"
   },
   {
    "duration": 84,
    "start_time": "2023-06-10T01:07:21.731Z"
   },
   {
    "duration": 4,
    "start_time": "2023-06-10T01:09:06.894Z"
   },
   {
    "duration": 1633,
    "start_time": "2023-06-10T01:09:08.683Z"
   },
   {
    "duration": 5,
    "start_time": "2023-06-10T01:09:23.487Z"
   },
   {
    "duration": 841,
    "start_time": "2023-06-10T01:09:26.356Z"
   },
   {
    "duration": 19,
    "start_time": "2023-06-10T01:11:41.387Z"
   },
   {
    "duration": 6,
    "start_time": "2023-06-10T01:11:52.047Z"
   },
   {
    "duration": 21,
    "start_time": "2023-06-10T01:11:53.992Z"
   },
   {
    "duration": 1763,
    "start_time": "2023-06-10T01:12:21.386Z"
   },
   {
    "duration": 272,
    "start_time": "2023-06-10T01:17:31.684Z"
   },
   {
    "duration": 188,
    "start_time": "2023-06-10T01:17:54.804Z"
   },
   {
    "duration": 224,
    "start_time": "2023-06-10T01:18:11.482Z"
   },
   {
    "duration": 244,
    "start_time": "2023-06-10T01:18:27.038Z"
   },
   {
    "duration": 207,
    "start_time": "2023-06-10T01:18:45.211Z"
   },
   {
    "duration": 231,
    "start_time": "2023-06-10T01:18:48.983Z"
   },
   {
    "duration": 225,
    "start_time": "2023-06-10T01:18:56.263Z"
   },
   {
    "duration": 803,
    "start_time": "2023-06-10T01:19:18.906Z"
   },
   {
    "duration": 225,
    "start_time": "2023-06-10T01:19:28.952Z"
   },
   {
    "duration": 240,
    "start_time": "2023-06-10T01:19:37.396Z"
   },
   {
    "duration": 216,
    "start_time": "2023-06-10T01:19:51.077Z"
   },
   {
    "duration": 245,
    "start_time": "2023-06-10T01:20:00.911Z"
   },
   {
    "duration": 6,
    "start_time": "2023-06-10T01:21:08.856Z"
   },
   {
    "duration": 5,
    "start_time": "2023-06-10T01:21:10.062Z"
   },
   {
    "duration": 87,
    "start_time": "2023-06-10T01:21:13.079Z"
   },
   {
    "duration": 6,
    "start_time": "2023-06-10T01:21:38.450Z"
   },
   {
    "duration": 2508,
    "start_time": "2023-06-10T01:21:41.405Z"
   },
   {
    "duration": 242,
    "start_time": "2023-06-10T01:22:06.647Z"
   },
   {
    "duration": 219,
    "start_time": "2023-06-10T01:22:45.355Z"
   },
   {
    "duration": 214,
    "start_time": "2023-06-10T01:22:56.904Z"
   },
   {
    "duration": 5,
    "start_time": "2023-06-10T01:23:15.852Z"
   },
   {
    "duration": 2523,
    "start_time": "2023-06-10T01:23:18.843Z"
   },
   {
    "duration": 213,
    "start_time": "2023-06-10T01:24:11.958Z"
   },
   {
    "duration": 6,
    "start_time": "2023-06-10T01:24:23.595Z"
   },
   {
    "duration": 3052,
    "start_time": "2023-06-10T01:24:27.524Z"
   },
   {
    "duration": 5,
    "start_time": "2023-06-10T01:24:45.683Z"
   },
   {
    "duration": 2604,
    "start_time": "2023-06-10T01:24:49.344Z"
   },
   {
    "duration": 6,
    "start_time": "2023-06-10T01:26:23.439Z"
   },
   {
    "duration": 2522,
    "start_time": "2023-06-10T01:26:26.523Z"
   },
   {
    "duration": 6,
    "start_time": "2023-06-10T01:26:42.251Z"
   },
   {
    "duration": 2565,
    "start_time": "2023-06-10T01:26:44.052Z"
   },
   {
    "duration": 5,
    "start_time": "2023-06-10T01:29:00.500Z"
   },
   {
    "duration": 23253,
    "start_time": "2023-06-10T01:29:04.310Z"
   },
   {
    "duration": 5,
    "start_time": "2023-06-10T01:36:30.400Z"
   },
   {
    "duration": 4220,
    "start_time": "2023-06-10T01:36:32.400Z"
   },
   {
    "duration": 12,
    "start_time": "2023-06-10T01:38:42.298Z"
   },
   {
    "duration": 150,
    "start_time": "2023-06-10T01:38:51.350Z"
   },
   {
    "duration": 192,
    "start_time": "2023-06-10T01:39:03.804Z"
   },
   {
    "duration": 6091,
    "start_time": "2023-06-10T01:39:27.778Z"
   },
   {
    "duration": 247,
    "start_time": "2023-06-10T01:39:41.200Z"
   },
   {
    "duration": 261,
    "start_time": "2023-06-10T01:39:56.521Z"
   },
   {
    "duration": 515,
    "start_time": "2023-06-10T01:42:44.592Z"
   },
   {
    "duration": 29,
    "start_time": "2023-06-10T01:43:52.192Z"
   },
   {
    "duration": 513,
    "start_time": "2023-06-10T01:44:42.340Z"
   },
   {
    "duration": 506,
    "start_time": "2023-06-10T01:44:46.407Z"
   },
   {
    "duration": 100,
    "start_time": "2023-06-10T01:45:57.156Z"
   },
   {
    "duration": 30619,
    "start_time": "2023-06-10T01:47:16.601Z"
   },
   {
    "duration": 1785,
    "start_time": "2023-06-10T01:48:09.102Z"
   },
   {
    "duration": 566,
    "start_time": "2023-06-10T01:48:24.851Z"
   },
   {
    "duration": 592,
    "start_time": "2023-06-10T01:48:32.967Z"
   },
   {
    "duration": 229,
    "start_time": "2023-06-10T01:48:44.528Z"
   },
   {
    "duration": 171,
    "start_time": "2023-06-10T01:48:51.623Z"
   },
   {
    "duration": 349,
    "start_time": "2023-06-10T01:49:04.073Z"
   },
   {
    "duration": 187,
    "start_time": "2023-06-10T01:49:26.406Z"
   },
   {
    "duration": 17,
    "start_time": "2023-06-10T01:49:35.270Z"
   },
   {
    "duration": 228,
    "start_time": "2023-06-10T01:49:43.009Z"
   },
   {
    "duration": 149,
    "start_time": "2023-06-10T01:49:53.455Z"
   },
   {
    "duration": 168,
    "start_time": "2023-06-10T01:50:12.970Z"
   },
   {
    "duration": 1341,
    "start_time": "2023-06-10T01:50:28.532Z"
   },
   {
    "duration": 21,
    "start_time": "2023-06-10T01:50:48.069Z"
   },
   {
    "duration": 161,
    "start_time": "2023-06-10T01:50:54.928Z"
   },
   {
    "duration": 162,
    "start_time": "2023-06-10T01:51:20.298Z"
   },
   {
    "duration": 153,
    "start_time": "2023-06-10T01:51:31.266Z"
   },
   {
    "duration": 178,
    "start_time": "2023-06-10T01:51:35.505Z"
   },
   {
    "duration": 179,
    "start_time": "2023-06-10T01:51:40.368Z"
   },
   {
    "duration": 233,
    "start_time": "2023-06-10T01:51:45.914Z"
   },
   {
    "duration": 16,
    "start_time": "2023-06-10T01:53:04.151Z"
   },
   {
    "duration": 216,
    "start_time": "2023-06-10T01:53:50.683Z"
   },
   {
    "duration": 578,
    "start_time": "2023-06-10T01:54:13.480Z"
   },
   {
    "duration": 33,
    "start_time": "2023-06-10T01:57:47.025Z"
   },
   {
    "duration": 51,
    "start_time": "2023-06-10T01:58:05.104Z"
   },
   {
    "duration": 87,
    "start_time": "2023-06-10T01:58:27.416Z"
   },
   {
    "duration": 20,
    "start_time": "2023-06-10T01:58:44.212Z"
   },
   {
    "duration": 16,
    "start_time": "2023-06-10T01:58:47.801Z"
   },
   {
    "duration": 58,
    "start_time": "2023-06-10T01:59:01.066Z"
   },
   {
    "duration": 37,
    "start_time": "2023-06-10T02:00:34.456Z"
   },
   {
    "duration": 169,
    "start_time": "2023-06-10T02:00:47.894Z"
   },
   {
    "duration": 1381,
    "start_time": "2023-06-10T02:03:49.581Z"
   },
   {
    "duration": 200,
    "start_time": "2023-06-10T02:04:09.076Z"
   },
   {
    "duration": 209,
    "start_time": "2023-06-10T02:04:18.801Z"
   },
   {
    "duration": 229,
    "start_time": "2023-06-10T02:04:33.014Z"
   },
   {
    "duration": 219,
    "start_time": "2023-06-10T02:04:36.418Z"
   },
   {
    "duration": 204,
    "start_time": "2023-06-10T02:04:41.176Z"
   },
   {
    "duration": 5,
    "start_time": "2023-06-10T02:10:41.187Z"
   },
   {
    "duration": 211,
    "start_time": "2023-06-10T02:11:44.954Z"
   },
   {
    "duration": 143,
    "start_time": "2023-06-10T02:11:59.834Z"
   },
   {
    "duration": 189,
    "start_time": "2023-06-10T02:12:25.974Z"
   },
   {
    "duration": 4,
    "start_time": "2023-06-10T02:18:40.819Z"
   },
   {
    "duration": 1900,
    "start_time": "2023-06-10T02:18:42.342Z"
   },
   {
    "duration": 2042,
    "start_time": "2023-06-10T02:19:35.774Z"
   },
   {
    "duration": 6,
    "start_time": "2023-06-10T02:27:43.741Z"
   },
   {
    "duration": 2072,
    "start_time": "2023-06-10T02:28:05.424Z"
   },
   {
    "duration": 386,
    "start_time": "2023-06-10T02:28:22.302Z"
   },
   {
    "duration": 8,
    "start_time": "2023-06-10T02:28:47.433Z"
   },
   {
    "duration": 5,
    "start_time": "2023-06-10T02:28:54.160Z"
   },
   {
    "duration": 6,
    "start_time": "2023-06-10T02:29:29.151Z"
   },
   {
    "duration": 396,
    "start_time": "2023-06-10T02:29:37.298Z"
   },
   {
    "duration": 180,
    "start_time": "2023-06-10T02:29:54.094Z"
   },
   {
    "duration": 995,
    "start_time": "2023-06-10T02:30:15.793Z"
   },
   {
    "duration": 1598,
    "start_time": "2023-06-10T02:30:27.356Z"
   },
   {
    "duration": 203,
    "start_time": "2023-06-10T02:44:11.775Z"
   },
   {
    "duration": 227,
    "start_time": "2023-06-10T02:44:40.837Z"
   },
   {
    "duration": 1795,
    "start_time": "2023-06-10T02:45:05.748Z"
   },
   {
    "duration": 307,
    "start_time": "2023-06-10T02:45:17.889Z"
   },
   {
    "duration": 317,
    "start_time": "2023-06-10T02:45:36.945Z"
   },
   {
    "duration": 324,
    "start_time": "2023-06-10T02:45:46.901Z"
   },
   {
    "duration": 311,
    "start_time": "2023-06-10T02:45:50.466Z"
   },
   {
    "duration": 307,
    "start_time": "2023-06-10T02:46:15.340Z"
   },
   {
    "duration": 40,
    "start_time": "2023-06-10T02:46:43.654Z"
   },
   {
    "duration": 50474,
    "start_time": "2023-06-10T02:46:46.164Z"
   },
   {
    "duration": 4,
    "start_time": "2023-06-10T02:48:05.343Z"
   },
   {
    "duration": 7,
    "start_time": "2023-06-10T02:48:09.903Z"
   },
   {
    "duration": 7,
    "start_time": "2023-06-10T02:48:17.377Z"
   },
   {
    "duration": 81,
    "start_time": "2023-06-10T02:51:24.241Z"
   },
   {
    "duration": 78,
    "start_time": "2023-06-10T02:51:53.513Z"
   },
   {
    "duration": 11,
    "start_time": "2023-06-10T02:51:56.540Z"
   },
   {
    "duration": 18,
    "start_time": "2023-06-10T02:52:01.848Z"
   },
   {
    "duration": 169,
    "start_time": "2023-06-10T02:52:07.839Z"
   },
   {
    "duration": 25,
    "start_time": "2023-06-10T02:53:03.742Z"
   },
   {
    "duration": 14,
    "start_time": "2023-06-10T02:53:27.439Z"
   },
   {
    "duration": 26,
    "start_time": "2023-06-10T02:53:31.920Z"
   },
   {
    "duration": 16,
    "start_time": "2023-06-10T03:12:39.042Z"
   },
   {
    "duration": 21,
    "start_time": "2023-06-10T03:13:14.446Z"
   },
   {
    "duration": 15,
    "start_time": "2023-06-10T03:13:34.586Z"
   },
   {
    "duration": 21,
    "start_time": "2023-06-10T03:14:04.743Z"
   },
   {
    "duration": 139,
    "start_time": "2023-06-10T03:14:08.181Z"
   },
   {
    "duration": 219,
    "start_time": "2023-06-10T03:14:12.160Z"
   },
   {
    "duration": 219,
    "start_time": "2023-06-10T03:16:10.292Z"
   },
   {
    "duration": 73,
    "start_time": "2023-06-10T03:17:56.749Z"
   },
   {
    "duration": 5,
    "start_time": "2023-06-10T03:18:00.638Z"
   },
   {
    "duration": 222,
    "start_time": "2023-06-10T03:18:02.644Z"
   },
   {
    "duration": 9214,
    "start_time": "2023-06-10T03:18:18.263Z"
   },
   {
    "duration": 197,
    "start_time": "2023-06-10T03:18:41.244Z"
   },
   {
    "duration": 5,
    "start_time": "2023-06-10T03:20:11.464Z"
   },
   {
    "duration": 20,
    "start_time": "2023-06-10T03:20:13.614Z"
   },
   {
    "duration": 5,
    "start_time": "2023-06-10T03:20:44.218Z"
   },
   {
    "duration": 14,
    "start_time": "2023-06-10T03:20:46.839Z"
   },
   {
    "duration": 7,
    "start_time": "2023-06-10T03:20:55.724Z"
   },
   {
    "duration": 224,
    "start_time": "2023-06-10T03:20:57.916Z"
   },
   {
    "duration": 214,
    "start_time": "2023-06-10T03:21:05.358Z"
   },
   {
    "duration": 315,
    "start_time": "2023-06-10T03:21:49.304Z"
   },
   {
    "duration": 7,
    "start_time": "2023-06-10T03:22:51.124Z"
   },
   {
    "duration": 301,
    "start_time": "2023-06-10T03:23:53.360Z"
   },
   {
    "duration": 147,
    "start_time": "2023-06-10T03:23:58.404Z"
   },
   {
    "duration": 1992,
    "start_time": "2023-06-10T03:24:21.696Z"
   },
   {
    "duration": 1559,
    "start_time": "2023-06-10T03:25:46.041Z"
   },
   {
    "duration": 2637,
    "start_time": "2023-06-10T03:26:04.154Z"
   },
   {
    "duration": 121,
    "start_time": "2023-06-10T03:28:19.921Z"
   },
   {
    "duration": 5,
    "start_time": "2023-06-10T03:28:31.247Z"
   },
   {
    "duration": 3061,
    "start_time": "2023-06-10T03:28:33.268Z"
   },
   {
    "duration": 6,
    "start_time": "2023-06-10T03:31:22.317Z"
   },
   {
    "duration": 3044,
    "start_time": "2023-06-10T03:31:24.201Z"
   },
   {
    "duration": 31,
    "start_time": "2023-06-10T03:33:43.124Z"
   },
   {
    "duration": 3164,
    "start_time": "2023-06-10T03:34:16.841Z"
   },
   {
    "duration": 221,
    "start_time": "2023-06-10T03:34:53.373Z"
   },
   {
    "duration": 7277,
    "start_time": "2023-06-10T03:35:18.120Z"
   },
   {
    "duration": 7271,
    "start_time": "2023-06-10T03:37:53.223Z"
   },
   {
    "duration": 12015,
    "start_time": "2023-06-10T03:38:00.673Z"
   },
   {
    "duration": 5504,
    "start_time": "2023-06-10T03:38:28.711Z"
   },
   {
    "duration": 4506,
    "start_time": "2023-06-10T03:38:42.339Z"
   },
   {
    "duration": 4880,
    "start_time": "2023-06-10T03:38:52.366Z"
   },
   {
    "duration": 4118,
    "start_time": "2023-06-10T03:39:06.370Z"
   },
   {
    "duration": 9,
    "start_time": "2023-06-10T03:39:27.556Z"
   },
   {
    "duration": 4068,
    "start_time": "2023-06-10T03:39:34.502Z"
   },
   {
    "duration": 4514,
    "start_time": "2023-06-10T03:39:42.647Z"
   },
   {
    "duration": 3705,
    "start_time": "2023-06-10T03:40:34.049Z"
   },
   {
    "duration": 3958,
    "start_time": "2023-06-10T03:41:04.949Z"
   },
   {
    "duration": 3040,
    "start_time": "2023-06-10T03:41:18.171Z"
   },
   {
    "duration": 2796,
    "start_time": "2023-06-10T03:41:31.681Z"
   },
   {
    "duration": 2541,
    "start_time": "2023-06-10T03:41:54.459Z"
   },
   {
    "duration": 3046,
    "start_time": "2023-06-10T03:42:30.007Z"
   },
   {
    "duration": 2059,
    "start_time": "2023-06-10T03:42:55.745Z"
   },
   {
    "duration": 1920,
    "start_time": "2023-06-10T03:43:11.949Z"
   },
   {
    "duration": 1609,
    "start_time": "2023-06-10T03:43:19.056Z"
   },
   {
    "duration": 1405,
    "start_time": "2023-06-10T03:43:32.395Z"
   },
   {
    "duration": 1034,
    "start_time": "2023-06-10T03:43:51.516Z"
   },
   {
    "duration": 1494,
    "start_time": "2023-06-10T03:44:19.601Z"
   },
   {
    "duration": 612,
    "start_time": "2023-06-10T03:44:33.938Z"
   },
   {
    "duration": 198,
    "start_time": "2023-06-10T03:44:55.614Z"
   },
   {
    "duration": 4,
    "start_time": "2023-06-10T03:45:07.063Z"
   },
   {
    "duration": 1776,
    "start_time": "2023-06-10T03:45:17.021Z"
   },
   {
    "duration": 1540,
    "start_time": "2023-06-10T03:45:54.743Z"
   },
   {
    "duration": 1575,
    "start_time": "2023-06-10T03:46:36.615Z"
   },
   {
    "duration": 23,
    "start_time": "2023-06-10T03:46:57.386Z"
   },
   {
    "duration": 958,
    "start_time": "2023-06-10T03:47:38.045Z"
   },
   {
    "duration": 313,
    "start_time": "2023-06-10T03:48:39.821Z"
   },
   {
    "duration": 242,
    "start_time": "2023-06-10T03:50:06.413Z"
   },
   {
    "duration": 203,
    "start_time": "2023-06-10T03:50:59.886Z"
   },
   {
    "duration": 220,
    "start_time": "2023-06-10T03:52:09.053Z"
   },
   {
    "duration": 209,
    "start_time": "2023-06-10T03:52:37.192Z"
   },
   {
    "duration": 212,
    "start_time": "2023-06-10T03:52:48.347Z"
   },
   {
    "duration": 398,
    "start_time": "2023-06-10T03:53:11.307Z"
   },
   {
    "duration": 25,
    "start_time": "2023-06-10T03:59:16.490Z"
   },
   {
    "duration": 836,
    "start_time": "2023-06-10T03:59:39.864Z"
   },
   {
    "duration": 30,
    "start_time": "2023-06-10T04:00:01.318Z"
   },
   {
    "duration": 17,
    "start_time": "2023-06-10T04:00:38.194Z"
   },
   {
    "duration": 7,
    "start_time": "2023-06-10T04:00:44.069Z"
   },
   {
    "duration": 6,
    "start_time": "2023-06-10T04:00:58.743Z"
   },
   {
    "duration": 5,
    "start_time": "2023-06-10T04:01:05.470Z"
   },
   {
    "duration": 1383,
    "start_time": "2023-06-10T04:01:18.313Z"
   },
   {
    "duration": 9,
    "start_time": "2023-06-10T04:01:22.466Z"
   },
   {
    "duration": 5,
    "start_time": "2023-06-10T04:01:27.901Z"
   },
   {
    "duration": 7,
    "start_time": "2023-06-10T04:01:31.162Z"
   },
   {
    "duration": 7,
    "start_time": "2023-06-10T04:01:37.006Z"
   },
   {
    "duration": 6,
    "start_time": "2023-06-10T04:01:40.161Z"
   },
   {
    "duration": 5,
    "start_time": "2023-06-10T04:02:16.878Z"
   },
   {
    "duration": 4,
    "start_time": "2023-06-10T04:02:47.386Z"
   },
   {
    "duration": 6,
    "start_time": "2023-06-10T04:03:49.546Z"
   },
   {
    "duration": 5,
    "start_time": "2023-06-10T04:04:31.201Z"
   },
   {
    "duration": 6,
    "start_time": "2023-06-10T04:05:14.468Z"
   },
   {
    "duration": 5,
    "start_time": "2023-06-10T04:05:23.641Z"
   },
   {
    "duration": 6,
    "start_time": "2023-06-10T04:06:35.800Z"
   },
   {
    "duration": 1425,
    "start_time": "2023-06-10T04:09:11.554Z"
   },
   {
    "duration": 267,
    "start_time": "2023-06-10T04:09:12.982Z"
   },
   {
    "duration": 58,
    "start_time": "2023-06-10T04:09:13.251Z"
   },
   {
    "duration": 59,
    "start_time": "2023-06-10T04:09:13.310Z"
   },
   {
    "duration": 5,
    "start_time": "2023-06-10T04:09:13.372Z"
   },
   {
    "duration": 27,
    "start_time": "2023-06-10T04:09:13.380Z"
   },
   {
    "duration": 34,
    "start_time": "2023-06-10T04:09:13.408Z"
   },
   {
    "duration": 205,
    "start_time": "2023-06-10T04:09:13.444Z"
   },
   {
    "duration": 0,
    "start_time": "2023-06-10T04:09:13.652Z"
   },
   {
    "duration": 0,
    "start_time": "2023-06-10T04:09:13.654Z"
   },
   {
    "duration": 0,
    "start_time": "2023-06-10T04:09:13.655Z"
   },
   {
    "duration": 0,
    "start_time": "2023-06-10T04:09:13.656Z"
   },
   {
    "duration": 0,
    "start_time": "2023-06-10T04:09:13.657Z"
   },
   {
    "duration": 0,
    "start_time": "2023-06-10T04:09:13.658Z"
   },
   {
    "duration": 0,
    "start_time": "2023-06-10T04:09:13.659Z"
   },
   {
    "duration": 0,
    "start_time": "2023-06-10T04:09:13.660Z"
   },
   {
    "duration": 0,
    "start_time": "2023-06-10T04:09:13.661Z"
   },
   {
    "duration": 0,
    "start_time": "2023-06-10T04:09:13.662Z"
   },
   {
    "duration": 0,
    "start_time": "2023-06-10T04:09:13.663Z"
   },
   {
    "duration": 0,
    "start_time": "2023-06-10T04:09:13.664Z"
   },
   {
    "duration": 1,
    "start_time": "2023-06-10T04:09:13.665Z"
   },
   {
    "duration": 0,
    "start_time": "2023-06-10T04:09:13.667Z"
   },
   {
    "duration": 0,
    "start_time": "2023-06-10T04:09:13.668Z"
   },
   {
    "duration": 0,
    "start_time": "2023-06-10T04:09:13.669Z"
   },
   {
    "duration": 0,
    "start_time": "2023-06-10T04:09:13.670Z"
   },
   {
    "duration": 0,
    "start_time": "2023-06-10T04:09:13.671Z"
   },
   {
    "duration": 0,
    "start_time": "2023-06-10T04:09:13.672Z"
   },
   {
    "duration": 0,
    "start_time": "2023-06-10T04:09:13.673Z"
   },
   {
    "duration": 0,
    "start_time": "2023-06-10T04:09:13.674Z"
   },
   {
    "duration": 0,
    "start_time": "2023-06-10T04:09:13.674Z"
   },
   {
    "duration": 0,
    "start_time": "2023-06-10T04:09:13.675Z"
   },
   {
    "duration": 0,
    "start_time": "2023-06-10T04:09:13.677Z"
   },
   {
    "duration": 0,
    "start_time": "2023-06-10T04:09:13.678Z"
   },
   {
    "duration": 0,
    "start_time": "2023-06-10T04:09:13.679Z"
   },
   {
    "duration": 0,
    "start_time": "2023-06-10T04:09:13.725Z"
   },
   {
    "duration": 0,
    "start_time": "2023-06-10T04:09:13.726Z"
   },
   {
    "duration": 0,
    "start_time": "2023-06-10T04:09:13.726Z"
   },
   {
    "duration": 0,
    "start_time": "2023-06-10T04:09:13.727Z"
   },
   {
    "duration": 0,
    "start_time": "2023-06-10T04:09:13.728Z"
   },
   {
    "duration": 0,
    "start_time": "2023-06-10T04:09:13.728Z"
   },
   {
    "duration": 1436,
    "start_time": "2023-06-10T04:09:49.742Z"
   },
   {
    "duration": 270,
    "start_time": "2023-06-10T04:09:51.180Z"
   },
   {
    "duration": 48,
    "start_time": "2023-06-10T04:09:51.452Z"
   },
   {
    "duration": 70,
    "start_time": "2023-06-10T04:09:51.504Z"
   },
   {
    "duration": 6,
    "start_time": "2023-06-10T04:09:51.576Z"
   },
   {
    "duration": 25,
    "start_time": "2023-06-10T04:09:51.584Z"
   },
   {
    "duration": 41,
    "start_time": "2023-06-10T04:09:51.611Z"
   },
   {
    "duration": 1887,
    "start_time": "2023-06-10T04:09:51.654Z"
   },
   {
    "duration": 162,
    "start_time": "2023-06-10T04:09:53.542Z"
   },
   {
    "duration": 77,
    "start_time": "2023-06-10T04:09:53.707Z"
   },
   {
    "duration": 12,
    "start_time": "2023-06-10T04:09:53.785Z"
   },
   {
    "duration": 30,
    "start_time": "2023-06-10T04:09:53.799Z"
   },
   {
    "duration": 948,
    "start_time": "2023-06-10T04:09:53.831Z"
   },
   {
    "duration": 3,
    "start_time": "2023-06-10T04:09:54.781Z"
   },
   {
    "duration": 405,
    "start_time": "2023-06-10T04:09:54.786Z"
   },
   {
    "duration": 6,
    "start_time": "2023-06-10T04:09:55.192Z"
   },
   {
    "duration": 40,
    "start_time": "2023-06-10T04:09:55.199Z"
   },
   {
    "duration": 360,
    "start_time": "2023-06-10T04:09:55.241Z"
   },
   {
    "duration": 5,
    "start_time": "2023-06-10T04:09:55.603Z"
   },
   {
    "duration": 46,
    "start_time": "2023-06-10T04:09:55.609Z"
   },
   {
    "duration": 16,
    "start_time": "2023-06-10T04:09:55.657Z"
   },
   {
    "duration": 20,
    "start_time": "2023-06-10T04:09:55.675Z"
   },
   {
    "duration": 6217,
    "start_time": "2023-06-10T04:09:55.697Z"
   },
   {
    "duration": 26,
    "start_time": "2023-06-10T04:10:01.915Z"
   },
   {
    "duration": 52,
    "start_time": "2023-06-10T04:10:01.943Z"
   },
   {
    "duration": 9392,
    "start_time": "2023-06-10T04:10:01.997Z"
   },
   {
    "duration": 6417,
    "start_time": "2023-06-10T04:10:11.391Z"
   },
   {
    "duration": 117597,
    "start_time": "2023-06-10T04:10:17.811Z"
   },
   {
    "duration": 9898,
    "start_time": "2023-06-10T04:12:15.410Z"
   },
   {
    "duration": 19663,
    "start_time": "2023-06-10T04:12:25.311Z"
   },
   {
    "duration": 6577,
    "start_time": "2023-06-10T04:12:44.976Z"
   },
   {
    "duration": 20,
    "start_time": "2023-06-10T04:12:51.555Z"
   },
   {
    "duration": 89,
    "start_time": "2023-06-10T04:12:51.578Z"
   },
   {
    "duration": 377,
    "start_time": "2023-06-10T04:12:51.669Z"
   },
   {
    "duration": 0,
    "start_time": "2023-06-10T04:12:52.048Z"
   },
   {
    "duration": 0,
    "start_time": "2023-06-10T04:12:52.049Z"
   },
   {
    "duration": 0,
    "start_time": "2023-06-10T04:12:52.050Z"
   },
   {
    "duration": 0,
    "start_time": "2023-06-10T04:12:52.051Z"
   },
   {
    "duration": 0,
    "start_time": "2023-06-10T04:12:52.052Z"
   },
   {
    "duration": 5,
    "start_time": "2023-06-10T04:14:41.080Z"
   },
   {
    "duration": 284,
    "start_time": "2023-06-10T04:14:43.619Z"
   },
   {
    "duration": 3,
    "start_time": "2023-06-10T04:15:13.956Z"
   },
   {
    "duration": 3,
    "start_time": "2023-06-10T04:16:14.141Z"
   },
   {
    "duration": 1519,
    "start_time": "2023-06-10T04:26:56.400Z"
   },
   {
    "duration": 331,
    "start_time": "2023-06-10T04:26:57.922Z"
   },
   {
    "duration": 52,
    "start_time": "2023-06-10T04:26:58.255Z"
   },
   {
    "duration": 62,
    "start_time": "2023-06-10T04:26:58.309Z"
   },
   {
    "duration": 5,
    "start_time": "2023-06-10T04:26:58.374Z"
   },
   {
    "duration": 37,
    "start_time": "2023-06-10T04:26:58.382Z"
   },
   {
    "duration": 17,
    "start_time": "2023-06-10T04:26:58.425Z"
   },
   {
    "duration": 2006,
    "start_time": "2023-06-10T04:26:58.445Z"
   },
   {
    "duration": 181,
    "start_time": "2023-06-10T04:27:00.453Z"
   },
   {
    "duration": 77,
    "start_time": "2023-06-10T04:27:00.639Z"
   },
   {
    "duration": 24,
    "start_time": "2023-06-10T04:27:00.718Z"
   },
   {
    "duration": 18,
    "start_time": "2023-06-10T04:27:00.744Z"
   },
   {
    "duration": 1044,
    "start_time": "2023-06-10T04:27:00.764Z"
   },
   {
    "duration": 3,
    "start_time": "2023-06-10T04:27:01.811Z"
   },
   {
    "duration": 688,
    "start_time": "2023-06-10T04:27:01.816Z"
   },
   {
    "duration": 6,
    "start_time": "2023-06-10T04:27:02.506Z"
   },
   {
    "duration": 70,
    "start_time": "2023-06-10T04:27:02.526Z"
   },
   {
    "duration": 389,
    "start_time": "2023-06-10T04:27:02.598Z"
   },
   {
    "duration": 5,
    "start_time": "2023-06-10T04:27:02.988Z"
   },
   {
    "duration": 25,
    "start_time": "2023-06-10T04:27:02.995Z"
   },
   {
    "duration": 9,
    "start_time": "2023-06-10T04:27:03.022Z"
   },
   {
    "duration": 22,
    "start_time": "2023-06-10T04:27:03.033Z"
   },
   {
    "duration": 6349,
    "start_time": "2023-06-10T04:27:03.057Z"
   },
   {
    "duration": 5,
    "start_time": "2023-06-10T04:27:09.408Z"
   },
   {
    "duration": 5,
    "start_time": "2023-06-10T04:27:09.428Z"
   },
   {
    "duration": 9331,
    "start_time": "2023-06-10T04:27:09.435Z"
   },
   {
    "duration": 6495,
    "start_time": "2023-06-10T04:27:18.768Z"
   },
   {
    "duration": 119487,
    "start_time": "2023-06-10T04:27:25.266Z"
   },
   {
    "duration": 10120,
    "start_time": "2023-06-10T04:29:24.755Z"
   },
   {
    "duration": 22069,
    "start_time": "2023-06-10T04:29:34.877Z"
   },
   {
    "duration": 7135,
    "start_time": "2023-06-10T04:29:56.948Z"
   },
   {
    "duration": 22,
    "start_time": "2023-06-10T04:30:04.085Z"
   },
   {
    "duration": 32,
    "start_time": "2023-06-10T04:30:04.108Z"
   },
   {
    "duration": 443,
    "start_time": "2023-06-10T04:30:04.142Z"
   },
   {
    "duration": 264,
    "start_time": "2023-06-10T04:30:04.587Z"
   },
   {
    "duration": 212,
    "start_time": "2023-06-10T04:30:04.852Z"
   },
   {
    "duration": 232,
    "start_time": "2023-06-10T04:30:05.067Z"
   },
   {
    "duration": 224,
    "start_time": "2023-06-10T04:30:05.301Z"
   },
   {
    "duration": 414,
    "start_time": "2023-06-10T04:30:05.526Z"
   },
   {
    "duration": 697,
    "start_time": "2023-06-10T04:35:10.117Z"
   },
   {
    "duration": 37,
    "start_time": "2023-06-10T04:35:51.970Z"
   },
   {
    "duration": 800,
    "start_time": "2023-06-10T04:36:55.392Z"
   },
   {
    "duration": 1534,
    "start_time": "2023-06-10T04:47:12.178Z"
   },
   {
    "duration": 337,
    "start_time": "2023-06-10T04:47:13.714Z"
   },
   {
    "duration": 51,
    "start_time": "2023-06-10T04:47:14.053Z"
   },
   {
    "duration": 56,
    "start_time": "2023-06-10T04:47:14.106Z"
   },
   {
    "duration": 77,
    "start_time": "2023-06-10T04:47:14.165Z"
   },
   {
    "duration": 46,
    "start_time": "2023-06-10T04:47:14.244Z"
   },
   {
    "duration": 12,
    "start_time": "2023-06-10T04:47:14.292Z"
   },
   {
    "duration": 1977,
    "start_time": "2023-06-10T04:47:14.306Z"
   },
   {
    "duration": 170,
    "start_time": "2023-06-10T04:47:16.285Z"
   },
   {
    "duration": 86,
    "start_time": "2023-06-10T04:47:16.457Z"
   },
   {
    "duration": 13,
    "start_time": "2023-06-10T04:47:16.545Z"
   },
   {
    "duration": 9,
    "start_time": "2023-06-10T04:47:16.559Z"
   },
   {
    "duration": 841,
    "start_time": "2023-06-10T04:47:16.570Z"
   },
   {
    "duration": 12,
    "start_time": "2023-06-10T04:47:17.414Z"
   },
   {
    "duration": 382,
    "start_time": "2023-06-10T04:47:17.432Z"
   },
   {
    "duration": 18,
    "start_time": "2023-06-10T04:47:17.817Z"
   },
   {
    "duration": 9,
    "start_time": "2023-06-10T04:47:17.841Z"
   },
   {
    "duration": 350,
    "start_time": "2023-06-10T04:47:17.851Z"
   },
   {
    "duration": 5,
    "start_time": "2023-06-10T04:47:18.203Z"
   },
   {
    "duration": 58,
    "start_time": "2023-06-10T04:47:18.209Z"
   },
   {
    "duration": 77,
    "start_time": "2023-06-10T04:47:18.269Z"
   },
   {
    "duration": 280,
    "start_time": "2023-06-10T04:47:18.348Z"
   },
   {
    "duration": 6341,
    "start_time": "2023-06-10T04:47:18.635Z"
   },
   {
    "duration": 5,
    "start_time": "2023-06-10T04:47:24.978Z"
   },
   {
    "duration": 20,
    "start_time": "2023-06-10T04:47:24.985Z"
   },
   {
    "duration": 9775,
    "start_time": "2023-06-10T04:47:25.007Z"
   },
   {
    "duration": 6056,
    "start_time": "2023-06-10T04:47:34.784Z"
   },
   {
    "duration": 114728,
    "start_time": "2023-06-10T04:47:40.843Z"
   },
   {
    "duration": 9167,
    "start_time": "2023-06-10T04:49:35.572Z"
   },
   {
    "duration": 20415,
    "start_time": "2023-06-10T04:49:44.741Z"
   },
   {
    "duration": 6348,
    "start_time": "2023-06-10T04:50:05.158Z"
   },
   {
    "duration": 35,
    "start_time": "2023-06-10T04:50:11.508Z"
   },
   {
    "duration": 5,
    "start_time": "2023-06-10T04:50:11.545Z"
   },
   {
    "duration": 389,
    "start_time": "2023-06-10T04:50:11.552Z"
   },
   {
    "duration": 238,
    "start_time": "2023-06-10T04:50:11.943Z"
   },
   {
    "duration": 204,
    "start_time": "2023-06-10T04:50:12.183Z"
   },
   {
    "duration": 225,
    "start_time": "2023-06-10T04:50:12.389Z"
   },
   {
    "duration": 224,
    "start_time": "2023-06-10T04:50:12.616Z"
   },
   {
    "duration": 397,
    "start_time": "2023-06-10T04:50:12.847Z"
   },
   {
    "duration": 90,
    "start_time": "2023-06-10T04:52:30.801Z"
   },
   {
    "duration": 1502,
    "start_time": "2023-06-10T05:06:33.467Z"
   },
   {
    "duration": 269,
    "start_time": "2023-06-10T05:06:34.972Z"
   },
   {
    "duration": 51,
    "start_time": "2023-06-10T05:06:35.243Z"
   },
   {
    "duration": 54,
    "start_time": "2023-06-10T05:06:35.296Z"
   },
   {
    "duration": 5,
    "start_time": "2023-06-10T05:06:35.353Z"
   },
   {
    "duration": 21,
    "start_time": "2023-06-10T05:06:35.360Z"
   },
   {
    "duration": 6,
    "start_time": "2023-06-10T05:06:35.383Z"
   },
   {
    "duration": 1848,
    "start_time": "2023-06-10T05:06:35.391Z"
   },
   {
    "duration": 156,
    "start_time": "2023-06-10T05:06:37.241Z"
   },
   {
    "duration": 73,
    "start_time": "2023-06-10T05:06:37.398Z"
   },
   {
    "duration": 11,
    "start_time": "2023-06-10T05:06:37.473Z"
   },
   {
    "duration": 5,
    "start_time": "2023-06-10T05:06:37.486Z"
   },
   {
    "duration": 819,
    "start_time": "2023-06-10T05:06:37.492Z"
   },
   {
    "duration": 3,
    "start_time": "2023-06-10T05:06:38.314Z"
   },
   {
    "duration": 359,
    "start_time": "2023-06-10T05:06:38.319Z"
   },
   {
    "duration": 5,
    "start_time": "2023-06-10T05:06:38.680Z"
   },
   {
    "duration": 23,
    "start_time": "2023-06-10T05:06:38.687Z"
   },
   {
    "duration": 327,
    "start_time": "2023-06-10T05:06:38.711Z"
   },
   {
    "duration": 5,
    "start_time": "2023-06-10T05:06:39.040Z"
   },
   {
    "duration": 6,
    "start_time": "2023-06-10T05:06:39.048Z"
   },
   {
    "duration": 7,
    "start_time": "2023-06-10T05:06:39.055Z"
   },
   {
    "duration": 29,
    "start_time": "2023-06-10T05:06:39.064Z"
   },
   {
    "duration": 6153,
    "start_time": "2023-06-10T05:06:39.094Z"
   },
   {
    "duration": 5,
    "start_time": "2023-06-10T05:06:45.249Z"
   },
   {
    "duration": 24,
    "start_time": "2023-06-10T05:06:45.256Z"
   },
   {
    "duration": 9238,
    "start_time": "2023-06-10T05:06:45.282Z"
   },
   {
    "duration": 5656,
    "start_time": "2023-06-10T05:06:54.522Z"
   },
   {
    "duration": 110380,
    "start_time": "2023-06-10T05:07:00.181Z"
   },
   {
    "duration": 9015,
    "start_time": "2023-06-10T05:08:50.563Z"
   },
   {
    "duration": 20733,
    "start_time": "2023-06-10T05:08:59.580Z"
   },
   {
    "duration": 6113,
    "start_time": "2023-06-10T05:09:20.315Z"
   },
   {
    "duration": 19,
    "start_time": "2023-06-10T05:09:26.430Z"
   },
   {
    "duration": 5,
    "start_time": "2023-06-10T05:09:26.451Z"
   },
   {
    "duration": 377,
    "start_time": "2023-06-10T05:09:26.458Z"
   },
   {
    "duration": 241,
    "start_time": "2023-06-10T05:09:26.837Z"
   },
   {
    "duration": 192,
    "start_time": "2023-06-10T05:09:27.080Z"
   },
   {
    "duration": 215,
    "start_time": "2023-06-10T05:09:27.274Z"
   },
   {
    "duration": 227,
    "start_time": "2023-06-10T05:09:27.491Z"
   },
   {
    "duration": 397,
    "start_time": "2023-06-10T05:09:27.720Z"
   },
   {
    "duration": 6,
    "start_time": "2023-06-10T05:11:32.017Z"
   },
   {
    "duration": 387,
    "start_time": "2023-06-10T05:11:33.363Z"
   },
   {
    "duration": 6,
    "start_time": "2023-06-10T05:11:47.619Z"
   },
   {
    "duration": 284,
    "start_time": "2023-06-10T05:11:50.723Z"
   },
   {
    "duration": 111,
    "start_time": "2023-06-10T05:12:32.006Z"
   },
   {
    "duration": 285,
    "start_time": "2023-06-10T05:12:34.040Z"
   },
   {
    "duration": 6,
    "start_time": "2023-06-10T05:12:37.954Z"
   },
   {
    "duration": 294,
    "start_time": "2023-06-10T05:12:39.957Z"
   },
   {
    "duration": 6,
    "start_time": "2023-06-10T05:12:53.815Z"
   },
   {
    "duration": 301,
    "start_time": "2023-06-10T05:12:55.622Z"
   },
   {
    "duration": 7,
    "start_time": "2023-06-10T05:13:25.588Z"
   },
   {
    "duration": 287,
    "start_time": "2023-06-10T05:13:27.229Z"
   },
   {
    "duration": 5,
    "start_time": "2023-06-10T05:13:48.757Z"
   },
   {
    "duration": 218,
    "start_time": "2023-06-10T05:13:51.216Z"
   },
   {
    "duration": 6,
    "start_time": "2023-06-10T05:14:30.575Z"
   },
   {
    "duration": 216,
    "start_time": "2023-06-10T05:14:33.548Z"
   },
   {
    "duration": 6,
    "start_time": "2023-06-10T05:15:17.683Z"
   },
   {
    "duration": 390,
    "start_time": "2023-06-10T05:15:19.916Z"
   },
   {
    "duration": 218,
    "start_time": "2023-06-10T05:15:23.035Z"
   },
   {
    "duration": 6,
    "start_time": "2023-06-10T05:17:37.881Z"
   },
   {
    "duration": 297,
    "start_time": "2023-06-10T05:17:40.116Z"
   },
   {
    "duration": 6,
    "start_time": "2023-06-10T05:17:51.578Z"
   },
   {
    "duration": 140,
    "start_time": "2023-06-10T05:17:53.936Z"
   },
   {
    "duration": 6,
    "start_time": "2023-06-10T05:17:58.392Z"
   },
   {
    "duration": 6,
    "start_time": "2023-06-10T05:18:00.452Z"
   },
   {
    "duration": 301,
    "start_time": "2023-06-10T05:18:02.133Z"
   },
   {
    "duration": 6,
    "start_time": "2023-06-10T05:18:12.793Z"
   },
   {
    "duration": 228,
    "start_time": "2023-06-10T05:18:15.686Z"
   },
   {
    "duration": 7,
    "start_time": "2023-06-10T05:20:23.287Z"
   },
   {
    "duration": 235,
    "start_time": "2023-06-10T05:20:26.280Z"
   },
   {
    "duration": 6,
    "start_time": "2023-06-10T05:20:35.589Z"
   },
   {
    "duration": 237,
    "start_time": "2023-06-10T05:20:38.274Z"
   },
   {
    "duration": 6,
    "start_time": "2023-06-10T05:20:48.277Z"
   },
   {
    "duration": 225,
    "start_time": "2023-06-10T05:20:50.472Z"
   },
   {
    "duration": 129,
    "start_time": "2023-06-10T05:22:05.209Z"
   },
   {
    "duration": 228,
    "start_time": "2023-06-10T05:22:08.257Z"
   },
   {
    "duration": 6,
    "start_time": "2023-06-10T05:22:38.161Z"
   },
   {
    "duration": 233,
    "start_time": "2023-06-10T05:22:41.901Z"
   },
   {
    "duration": 7,
    "start_time": "2023-06-10T05:22:47.319Z"
   },
   {
    "duration": 222,
    "start_time": "2023-06-10T05:22:49.981Z"
   },
   {
    "duration": 6,
    "start_time": "2023-06-10T05:23:51.137Z"
   },
   {
    "duration": 6,
    "start_time": "2023-06-10T05:24:04.689Z"
   },
   {
    "duration": 299,
    "start_time": "2023-06-10T05:24:06.573Z"
   },
   {
    "duration": 221,
    "start_time": "2023-06-10T05:24:11.680Z"
   },
   {
    "duration": 20,
    "start_time": "2023-06-10T05:24:23.589Z"
   },
   {
    "duration": 7,
    "start_time": "2023-06-10T05:24:23.611Z"
   },
   {
    "duration": 301,
    "start_time": "2023-06-10T05:24:23.620Z"
   },
   {
    "duration": 249,
    "start_time": "2023-06-10T05:24:23.925Z"
   },
   {
    "duration": 193,
    "start_time": "2023-06-10T05:24:24.176Z"
   },
   {
    "duration": 220,
    "start_time": "2023-06-10T05:24:24.371Z"
   },
   {
    "duration": 333,
    "start_time": "2023-06-10T05:24:24.593Z"
   },
   {
    "duration": 409,
    "start_time": "2023-06-10T05:24:24.927Z"
   },
   {
    "duration": 8,
    "start_time": "2023-06-10T05:24:39.615Z"
   },
   {
    "duration": 6,
    "start_time": "2023-06-10T05:24:44.246Z"
   },
   {
    "duration": 318,
    "start_time": "2023-06-10T05:24:44.254Z"
   },
   {
    "duration": 232,
    "start_time": "2023-06-10T05:24:44.574Z"
   },
   {
    "duration": 203,
    "start_time": "2023-06-10T05:24:44.808Z"
   },
   {
    "duration": 235,
    "start_time": "2023-06-10T05:24:45.013Z"
   },
   {
    "duration": 216,
    "start_time": "2023-06-10T05:24:45.250Z"
   },
   {
    "duration": 427,
    "start_time": "2023-06-10T05:24:45.468Z"
   },
   {
    "duration": 1528,
    "start_time": "2023-06-10T05:25:20.654Z"
   },
   {
    "duration": 303,
    "start_time": "2023-06-10T05:25:22.184Z"
   },
   {
    "duration": 60,
    "start_time": "2023-06-10T05:25:22.489Z"
   },
   {
    "duration": 36,
    "start_time": "2023-06-10T05:25:22.551Z"
   },
   {
    "duration": 5,
    "start_time": "2023-06-10T05:25:22.589Z"
   },
   {
    "duration": 21,
    "start_time": "2023-06-10T05:25:22.624Z"
   },
   {
    "duration": 14,
    "start_time": "2023-06-10T05:25:22.647Z"
   },
   {
    "duration": 1920,
    "start_time": "2023-06-10T05:25:22.663Z"
   },
   {
    "duration": 162,
    "start_time": "2023-06-10T05:25:24.585Z"
   },
   {
    "duration": 78,
    "start_time": "2023-06-10T05:25:24.750Z"
   },
   {
    "duration": 12,
    "start_time": "2023-06-10T05:25:24.830Z"
   },
   {
    "duration": 20,
    "start_time": "2023-06-10T05:25:24.844Z"
   },
   {
    "duration": 856,
    "start_time": "2023-06-10T05:25:24.866Z"
   },
   {
    "duration": 3,
    "start_time": "2023-06-10T05:25:25.724Z"
   },
   {
    "duration": 391,
    "start_time": "2023-06-10T05:25:25.729Z"
   },
   {
    "duration": 5,
    "start_time": "2023-06-10T05:25:26.122Z"
   },
   {
    "duration": 9,
    "start_time": "2023-06-10T05:25:26.129Z"
   },
   {
    "duration": 331,
    "start_time": "2023-06-10T05:25:26.140Z"
   },
   {
    "duration": 4,
    "start_time": "2023-06-10T05:25:26.473Z"
   },
   {
    "duration": 25,
    "start_time": "2023-06-10T05:25:26.479Z"
   },
   {
    "duration": 17,
    "start_time": "2023-06-10T05:25:26.506Z"
   },
   {
    "duration": 9,
    "start_time": "2023-06-10T05:25:26.525Z"
   },
   {
    "duration": 6226,
    "start_time": "2023-06-10T05:25:26.536Z"
   },
   {
    "duration": 5,
    "start_time": "2023-06-10T05:25:32.764Z"
   },
   {
    "duration": 44,
    "start_time": "2023-06-10T05:25:32.770Z"
   },
   {
    "duration": 9456,
    "start_time": "2023-06-10T05:25:32.815Z"
   },
   {
    "duration": 6063,
    "start_time": "2023-06-10T05:25:42.273Z"
   },
   {
    "duration": 112674,
    "start_time": "2023-06-10T05:25:48.339Z"
   },
   {
    "duration": 9072,
    "start_time": "2023-06-10T05:27:41.015Z"
   },
   {
    "duration": 20505,
    "start_time": "2023-06-10T05:27:50.088Z"
   },
   {
    "duration": 7533,
    "start_time": "2023-06-10T05:28:10.595Z"
   },
   {
    "duration": 22,
    "start_time": "2023-06-10T05:28:18.130Z"
   },
   {
    "duration": 13,
    "start_time": "2023-06-10T05:28:18.154Z"
   },
   {
    "duration": 428,
    "start_time": "2023-06-10T05:28:18.169Z"
   },
   {
    "duration": 242,
    "start_time": "2023-06-10T05:28:18.599Z"
   },
   {
    "duration": 204,
    "start_time": "2023-06-10T05:28:18.843Z"
   },
   {
    "duration": 220,
    "start_time": "2023-06-10T05:28:19.049Z"
   },
   {
    "duration": 217,
    "start_time": "2023-06-10T05:28:19.271Z"
   },
   {
    "duration": 430,
    "start_time": "2023-06-10T05:28:19.490Z"
   },
   {
    "duration": 1529,
    "start_time": "2023-06-11T09:15:36.818Z"
   },
   {
    "duration": 444,
    "start_time": "2023-06-11T09:15:41.152Z"
   },
   {
    "duration": 41,
    "start_time": "2023-06-11T09:15:42.929Z"
   },
   {
    "duration": 3,
    "start_time": "2023-06-11T09:49:32.130Z"
   },
   {
    "duration": 216,
    "start_time": "2023-06-11T09:49:36.250Z"
   },
   {
    "duration": 35,
    "start_time": "2023-06-11T09:49:38.057Z"
   },
   {
    "duration": 28,
    "start_time": "2023-06-11T09:49:42.325Z"
   },
   {
    "duration": 4,
    "start_time": "2023-06-11T09:49:45.303Z"
   },
   {
    "duration": 17,
    "start_time": "2023-06-11T09:49:47.379Z"
   },
   {
    "duration": 4,
    "start_time": "2023-06-11T09:49:50.711Z"
   },
   {
    "duration": 1447,
    "start_time": "2023-06-11T09:49:56.412Z"
   },
   {
    "duration": 145,
    "start_time": "2023-06-11T09:50:01.094Z"
   },
   {
    "duration": 63,
    "start_time": "2023-06-11T09:50:05.597Z"
   },
   {
    "duration": 10,
    "start_time": "2023-06-11T09:50:08.343Z"
   },
   {
    "duration": 4,
    "start_time": "2023-06-11T09:50:11.530Z"
   },
   {
    "duration": 611,
    "start_time": "2023-06-11T09:50:13.114Z"
   },
   {
    "duration": 3,
    "start_time": "2023-06-11T09:50:37.780Z"
   },
   {
    "duration": 4,
    "start_time": "2023-06-11T09:50:41.846Z"
   },
   {
    "duration": 3,
    "start_time": "2023-06-11T09:51:06.229Z"
   },
   {
    "duration": 255,
    "start_time": "2023-06-11T09:51:07.816Z"
   },
   {
    "duration": 6,
    "start_time": "2023-06-11T09:51:15.333Z"
   },
   {
    "duration": 2,
    "start_time": "2023-06-11T09:51:25.509Z"
   },
   {
    "duration": 5,
    "start_time": "2023-06-11T09:51:27.756Z"
   },
   {
    "duration": 4,
    "start_time": "2023-06-11T09:51:37.987Z"
   },
   {
    "duration": 5,
    "start_time": "2023-06-11T09:51:40.048Z"
   },
   {
    "duration": 5,
    "start_time": "2023-06-11T09:51:42.528Z"
   },
   {
    "duration": 4,
    "start_time": "2023-06-11T09:51:44.063Z"
   },
   {
    "duration": 4210,
    "start_time": "2023-06-11T09:51:46.322Z"
   },
   {
    "duration": 5,
    "start_time": "2023-06-11T09:52:01.361Z"
   },
   {
    "duration": 3,
    "start_time": "2023-06-11T10:02:32.057Z"
   },
   {
    "duration": 3,
    "start_time": "2023-06-11T10:04:37.109Z"
   },
   {
    "duration": 251,
    "start_time": "2023-06-11T10:04:37.115Z"
   },
   {
    "duration": 52,
    "start_time": "2023-06-11T10:04:37.368Z"
   },
   {
    "duration": 41,
    "start_time": "2023-06-11T10:04:37.422Z"
   },
   {
    "duration": 11,
    "start_time": "2023-06-11T10:04:37.465Z"
   },
   {
    "duration": 92,
    "start_time": "2023-06-11T10:04:37.478Z"
   },
   {
    "duration": 56,
    "start_time": "2023-06-11T10:04:37.571Z"
   },
   {
    "duration": 1409,
    "start_time": "2023-06-11T10:04:37.628Z"
   },
   {
    "duration": 150,
    "start_time": "2023-06-11T10:04:39.039Z"
   },
   {
    "duration": 52,
    "start_time": "2023-06-11T10:04:39.191Z"
   },
   {
    "duration": 12,
    "start_time": "2023-06-11T10:04:39.246Z"
   },
   {
    "duration": 91,
    "start_time": "2023-06-11T10:04:39.260Z"
   },
   {
    "duration": 632,
    "start_time": "2023-06-11T10:04:39.353Z"
   },
   {
    "duration": 4,
    "start_time": "2023-06-11T10:04:39.987Z"
   },
   {
    "duration": 327,
    "start_time": "2023-06-11T10:04:39.993Z"
   },
   {
    "duration": 5,
    "start_time": "2023-06-11T10:04:40.321Z"
   },
   {
    "duration": 10,
    "start_time": "2023-06-11T10:04:40.327Z"
   },
   {
    "duration": 17,
    "start_time": "2023-06-11T10:04:40.339Z"
   },
   {
    "duration": 14,
    "start_time": "2023-06-11T10:04:40.357Z"
   },
   {
    "duration": 29,
    "start_time": "2023-06-11T10:04:40.372Z"
   },
   {
    "duration": 18,
    "start_time": "2023-06-11T10:04:40.402Z"
   },
   {
    "duration": 42,
    "start_time": "2023-06-11T10:04:40.422Z"
   },
   {
    "duration": 4387,
    "start_time": "2023-06-11T10:04:40.466Z"
   },
   {
    "duration": 4,
    "start_time": "2023-06-11T10:04:44.854Z"
   },
   {
    "duration": 37,
    "start_time": "2023-06-11T10:04:44.859Z"
   },
   {
    "duration": 4780,
    "start_time": "2023-06-11T10:06:24.911Z"
   },
   {
    "duration": 2,
    "start_time": "2023-06-11T10:14:17.009Z"
   },
   {
    "duration": 174,
    "start_time": "2023-06-11T10:16:33.745Z"
   },
   {
    "duration": 83,
    "start_time": "2023-06-11T10:16:44.085Z"
   },
   {
    "duration": 4,
    "start_time": "2023-06-11T10:19:08.125Z"
   },
   {
    "duration": 80,
    "start_time": "2023-06-11T10:19:13.203Z"
   },
   {
    "duration": 5,
    "start_time": "2023-06-11T10:19:41.407Z"
   },
   {
    "duration": 135,
    "start_time": "2023-06-11T10:19:46.805Z"
   },
   {
    "duration": 4929,
    "start_time": "2023-06-11T10:36:27.503Z"
   },
   {
    "duration": 11,
    "start_time": "2023-06-11T10:37:16.412Z"
   },
   {
    "duration": 102,
    "start_time": "2023-06-11T10:37:28.777Z"
   },
   {
    "duration": 60,
    "start_time": "2023-06-11T10:37:54.341Z"
   },
   {
    "duration": 4,
    "start_time": "2023-06-11T10:38:20.305Z"
   },
   {
    "duration": 139,
    "start_time": "2023-06-11T10:41:43.478Z"
   },
   {
    "duration": 9,
    "start_time": "2023-06-11T10:41:54.113Z"
   },
   {
    "duration": 69,
    "start_time": "2023-06-11T10:42:25.621Z"
   },
   {
    "duration": 7,
    "start_time": "2023-06-11T10:43:14.182Z"
   },
   {
    "duration": 103,
    "start_time": "2023-06-11T10:43:30.205Z"
   },
   {
    "duration": 6,
    "start_time": "2023-06-11T10:43:38.262Z"
   },
   {
    "duration": 9,
    "start_time": "2023-06-11T10:44:08.053Z"
   },
   {
    "duration": 105,
    "start_time": "2023-06-11T10:44:17.012Z"
   },
   {
    "duration": 12,
    "start_time": "2023-06-11T10:44:28.271Z"
   },
   {
    "duration": 93,
    "start_time": "2023-06-11T10:44:38.107Z"
   },
   {
    "duration": 13,
    "start_time": "2023-06-11T10:44:44.770Z"
   },
   {
    "duration": 11,
    "start_time": "2023-06-11T10:45:06.616Z"
   },
   {
    "duration": 12,
    "start_time": "2023-06-11T10:45:14.765Z"
   },
   {
    "duration": 11,
    "start_time": "2023-06-11T10:46:46.219Z"
   },
   {
    "duration": 8,
    "start_time": "2023-06-11T10:46:54.238Z"
   },
   {
    "duration": 10,
    "start_time": "2023-06-11T10:47:57.581Z"
   },
   {
    "duration": 4,
    "start_time": "2023-06-11T10:48:04.633Z"
   },
   {
    "duration": 6,
    "start_time": "2023-06-11T10:48:12.034Z"
   },
   {
    "duration": 702,
    "start_time": "2023-06-11T10:48:38.434Z"
   },
   {
    "duration": 42,
    "start_time": "2023-06-11T10:49:32.740Z"
   },
   {
    "duration": 37,
    "start_time": "2023-06-11T10:49:36.238Z"
   },
   {
    "duration": 89,
    "start_time": "2023-06-11T10:49:48.234Z"
   },
   {
    "duration": 18502,
    "start_time": "2023-06-11T10:49:51.708Z"
   },
   {
    "duration": 7,
    "start_time": "2023-06-11T10:50:12.156Z"
   },
   {
    "duration": 4,
    "start_time": "2023-06-11T10:53:15.863Z"
   },
   {
    "duration": 4,
    "start_time": "2023-06-11T10:53:19.112Z"
   },
   {
    "duration": 7,
    "start_time": "2023-06-11T10:53:34.840Z"
   },
   {
    "duration": 12,
    "start_time": "2023-06-11T10:53:38.040Z"
   },
   {
    "duration": 4,
    "start_time": "2023-06-11T10:53:44.241Z"
   },
   {
    "duration": 3,
    "start_time": "2023-06-11T10:53:46.671Z"
   },
   {
    "duration": 4,
    "start_time": "2023-06-11T10:55:59.356Z"
   },
   {
    "duration": 9,
    "start_time": "2023-06-11T10:56:09.475Z"
   },
   {
    "duration": 58143,
    "start_time": "2023-06-11T10:56:11.938Z"
   },
   {
    "duration": 18,
    "start_time": "2023-06-11T10:58:50.714Z"
   },
   {
    "duration": 138,
    "start_time": "2023-06-11T10:59:14.326Z"
   },
   {
    "duration": 73512,
    "start_time": "2023-06-11T10:59:22.275Z"
   },
   {
    "duration": 10,
    "start_time": "2023-06-11T11:00:39.886Z"
   },
   {
    "duration": 9760,
    "start_time": "2023-06-11T11:01:41.565Z"
   },
   {
    "duration": 5,
    "start_time": "2023-06-11T11:02:24.456Z"
   },
   {
    "duration": 99,
    "start_time": "2023-06-11T11:04:04.776Z"
   },
   {
    "duration": 105,
    "start_time": "2023-06-11T11:04:09.729Z"
   },
   {
    "duration": 4,
    "start_time": "2023-06-11T11:04:28.105Z"
   },
   {
    "duration": 272,
    "start_time": "2023-06-11T11:04:34.084Z"
   },
   {
    "duration": 7,
    "start_time": "2023-06-11T11:05:00.840Z"
   },
   {
    "duration": 218,
    "start_time": "2023-06-11T11:05:06.462Z"
   },
   {
    "duration": 3,
    "start_time": "2023-06-11T11:05:21.106Z"
   },
   {
    "duration": 144,
    "start_time": "2023-06-11T11:05:24.541Z"
   },
   {
    "duration": 5,
    "start_time": "2023-06-11T11:05:31.835Z"
   },
   {
    "duration": 127,
    "start_time": "2023-06-11T11:05:37.150Z"
   },
   {
    "duration": 4,
    "start_time": "2023-06-11T11:05:52.452Z"
   },
   {
    "duration": 5524,
    "start_time": "2023-06-11T11:05:59.765Z"
   },
   {
    "duration": 1705,
    "start_time": "2023-06-11T13:39:39.893Z"
   },
   {
    "duration": 475,
    "start_time": "2023-06-11T13:39:41.601Z"
   },
   {
    "duration": 48,
    "start_time": "2023-06-11T13:39:42.077Z"
   },
   {
    "duration": 42,
    "start_time": "2023-06-11T13:39:42.127Z"
   },
   {
    "duration": 6,
    "start_time": "2023-06-11T13:39:42.173Z"
   },
   {
    "duration": 21,
    "start_time": "2023-06-11T13:39:42.180Z"
   },
   {
    "duration": 8,
    "start_time": "2023-06-11T13:39:42.203Z"
   },
   {
    "duration": 1880,
    "start_time": "2023-06-11T13:39:42.212Z"
   },
   {
    "duration": 165,
    "start_time": "2023-06-11T13:39:44.094Z"
   },
   {
    "duration": 56,
    "start_time": "2023-06-11T13:39:44.272Z"
   },
   {
    "duration": 16,
    "start_time": "2023-06-11T13:39:44.329Z"
   },
   {
    "duration": 23,
    "start_time": "2023-06-11T13:39:44.347Z"
   },
   {
    "duration": 705,
    "start_time": "2023-06-11T13:39:44.371Z"
   },
   {
    "duration": 3,
    "start_time": "2023-06-11T13:39:45.079Z"
   },
   {
    "duration": 345,
    "start_time": "2023-06-11T13:39:45.084Z"
   },
   {
    "duration": 15,
    "start_time": "2023-06-11T13:39:45.431Z"
   },
   {
    "duration": 27,
    "start_time": "2023-06-11T13:39:45.453Z"
   },
   {
    "duration": 6,
    "start_time": "2023-06-11T13:39:45.481Z"
   },
   {
    "duration": 9,
    "start_time": "2023-06-11T13:39:45.489Z"
   },
   {
    "duration": 7,
    "start_time": "2023-06-11T13:39:45.499Z"
   },
   {
    "duration": 10,
    "start_time": "2023-06-11T13:39:45.507Z"
   },
   {
    "duration": 7,
    "start_time": "2023-06-11T13:39:45.519Z"
   },
   {
    "duration": 5688,
    "start_time": "2023-06-11T13:39:45.528Z"
   },
   {
    "duration": 5,
    "start_time": "2023-06-11T13:39:51.217Z"
   },
   {
    "duration": 53,
    "start_time": "2023-06-11T13:39:51.224Z"
   },
   {
    "duration": 27,
    "start_time": "2023-06-11T13:39:51.278Z"
   },
   {
    "duration": 21898,
    "start_time": "2023-06-11T13:39:51.307Z"
   },
   {
    "duration": 6,
    "start_time": "2023-06-11T13:40:13.206Z"
   },
   {
    "duration": 76427,
    "start_time": "2023-06-11T13:40:13.213Z"
   },
   {
    "duration": 15,
    "start_time": "2023-06-11T13:41:29.644Z"
   },
   {
    "duration": 9040,
    "start_time": "2023-06-11T13:41:29.668Z"
   },
   {
    "duration": 4,
    "start_time": "2023-06-11T13:41:38.710Z"
   },
   {
    "duration": 5910,
    "start_time": "2023-06-11T13:41:38.716Z"
   },
   {
    "duration": 43,
    "start_time": "2023-06-11T13:41:44.628Z"
   },
   {
    "duration": 5,
    "start_time": "2023-06-11T13:41:44.673Z"
   },
   {
    "duration": 306,
    "start_time": "2023-06-11T13:41:44.680Z"
   },
   {
    "duration": 249,
    "start_time": "2023-06-11T13:41:44.987Z"
   },
   {
    "duration": 203,
    "start_time": "2023-06-11T13:41:45.238Z"
   },
   {
    "duration": 220,
    "start_time": "2023-06-11T13:41:45.454Z"
   },
   {
    "duration": 208,
    "start_time": "2023-06-11T13:41:45.676Z"
   },
   {
    "duration": 423,
    "start_time": "2023-06-11T13:41:45.888Z"
   },
   {
    "duration": 4,
    "start_time": "2023-06-11T13:43:17.573Z"
   },
   {
    "duration": 4,
    "start_time": "2023-06-11T13:43:20.877Z"
   },
   {
    "duration": 4,
    "start_time": "2023-06-11T13:43:27.777Z"
   },
   {
    "duration": 4,
    "start_time": "2023-06-11T13:43:31.997Z"
   },
   {
    "duration": 5,
    "start_time": "2023-06-11T13:44:03.128Z"
   },
   {
    "duration": 138,
    "start_time": "2023-06-11T13:45:01.213Z"
   },
   {
    "duration": 66,
    "start_time": "2023-06-11T13:45:20.937Z"
   },
   {
    "duration": 5696,
    "start_time": "2023-06-11T13:45:32.265Z"
   },
   {
    "duration": 81278,
    "start_time": "2023-06-11T13:47:34.778Z"
   },
   {
    "duration": 54691,
    "start_time": "2023-06-11T13:51:27.390Z"
   },
   {
    "duration": 57654,
    "start_time": "2023-06-11T13:52:30.140Z"
   },
   {
    "duration": 4,
    "start_time": "2023-06-11T13:54:21.511Z"
   },
   {
    "duration": 132,
    "start_time": "2023-06-11T13:57:07.350Z"
   },
   {
    "duration": 108272,
    "start_time": "2023-06-11T13:57:57.586Z"
   },
   {
    "duration": 268231,
    "start_time": "2023-06-11T13:59:59.514Z"
   },
   {
    "duration": 231874,
    "start_time": "2023-06-11T14:04:56.086Z"
   },
   {
    "duration": 4,
    "start_time": "2023-06-11T14:09:26.402Z"
   },
   {
    "duration": 4982,
    "start_time": "2023-06-11T14:12:16.155Z"
   },
   {
    "duration": 74562,
    "start_time": "2023-06-11T14:12:32.648Z"
   },
   {
    "duration": 141221,
    "start_time": "2023-06-11T14:15:39.586Z"
   },
   {
    "duration": 57,
    "start_time": "2023-06-11T14:19:14.562Z"
   },
   {
    "duration": 113916,
    "start_time": "2023-06-11T14:19:29.911Z"
   },
   {
    "duration": 5,
    "start_time": "2023-06-11T14:21:53.215Z"
   },
   {
    "duration": 3,
    "start_time": "2023-06-11T14:28:17.154Z"
   },
   {
    "duration": 4,
    "start_time": "2023-06-11T14:28:31.779Z"
   },
   {
    "duration": 4,
    "start_time": "2023-06-11T14:28:38.897Z"
   },
   {
    "duration": 5,
    "start_time": "2023-06-11T14:31:15.800Z"
   },
   {
    "duration": 4,
    "start_time": "2023-06-11T14:31:18.572Z"
   },
   {
    "duration": 305,
    "start_time": "2023-06-11T14:31:21.353Z"
   },
   {
    "duration": 138,
    "start_time": "2023-06-11T14:35:37.722Z"
   },
   {
    "duration": 200,
    "start_time": "2023-06-11T14:35:48.153Z"
   },
   {
    "duration": 479,
    "start_time": "2023-06-11T14:36:23.178Z"
   },
   {
    "duration": 165,
    "start_time": "2023-06-11T14:36:30.494Z"
   },
   {
    "duration": 395,
    "start_time": "2023-06-11T14:36:53.065Z"
   },
   {
    "duration": 4,
    "start_time": "2023-06-11T14:37:23.386Z"
   },
   {
    "duration": 3,
    "start_time": "2023-06-11T14:37:26.261Z"
   },
   {
    "duration": 5768,
    "start_time": "2023-06-11T14:37:40.708Z"
   },
   {
    "duration": 1460,
    "start_time": "2023-06-11T15:01:24.942Z"
   },
   {
    "duration": 233,
    "start_time": "2023-06-11T15:01:26.404Z"
   },
   {
    "duration": 47,
    "start_time": "2023-06-11T15:01:26.638Z"
   },
   {
    "duration": 33,
    "start_time": "2023-06-11T15:01:26.687Z"
   },
   {
    "duration": 22,
    "start_time": "2023-06-11T15:01:26.722Z"
   },
   {
    "duration": 23,
    "start_time": "2023-06-11T15:01:26.746Z"
   },
   {
    "duration": 50,
    "start_time": "2023-06-11T15:01:26.771Z"
   },
   {
    "duration": 1894,
    "start_time": "2023-06-11T15:01:26.823Z"
   },
   {
    "duration": 164,
    "start_time": "2023-06-11T15:01:28.719Z"
   },
   {
    "duration": 73,
    "start_time": "2023-06-11T15:01:28.887Z"
   },
   {
    "duration": 13,
    "start_time": "2023-06-11T15:01:28.962Z"
   },
   {
    "duration": 7,
    "start_time": "2023-06-11T15:01:28.977Z"
   },
   {
    "duration": 765,
    "start_time": "2023-06-11T15:01:28.986Z"
   },
   {
    "duration": 4,
    "start_time": "2023-06-11T15:01:29.753Z"
   },
   {
    "duration": 387,
    "start_time": "2023-06-11T15:01:29.759Z"
   },
   {
    "duration": 6,
    "start_time": "2023-06-11T15:01:30.148Z"
   },
   {
    "duration": 13,
    "start_time": "2023-06-11T15:01:30.156Z"
   },
   {
    "duration": 10,
    "start_time": "2023-06-11T15:01:30.171Z"
   },
   {
    "duration": 39,
    "start_time": "2023-06-11T15:01:30.182Z"
   },
   {
    "duration": 57,
    "start_time": "2023-06-11T15:01:30.223Z"
   },
   {
    "duration": 165,
    "start_time": "2023-06-11T15:01:30.281Z"
   },
   {
    "duration": 46,
    "start_time": "2023-06-11T15:01:30.448Z"
   },
   {
    "duration": 5432,
    "start_time": "2023-06-11T15:01:30.496Z"
   },
   {
    "duration": 6,
    "start_time": "2023-06-11T15:01:35.929Z"
   },
   {
    "duration": 24,
    "start_time": "2023-06-11T15:01:35.941Z"
   },
   {
    "duration": 21,
    "start_time": "2023-06-11T15:01:35.967Z"
   },
   {
    "duration": 11121,
    "start_time": "2023-06-11T15:01:35.990Z"
   },
   {
    "duration": 12,
    "start_time": "2023-06-11T15:01:47.114Z"
   },
   {
    "duration": 0,
    "start_time": "2023-06-11T15:01:47.127Z"
   },
   {
    "duration": 0,
    "start_time": "2023-06-11T15:01:47.128Z"
   },
   {
    "duration": 0,
    "start_time": "2023-06-11T15:01:47.130Z"
   },
   {
    "duration": 0,
    "start_time": "2023-06-11T15:01:47.131Z"
   },
   {
    "duration": 0,
    "start_time": "2023-06-11T15:01:47.132Z"
   },
   {
    "duration": 0,
    "start_time": "2023-06-11T15:01:47.133Z"
   },
   {
    "duration": 0,
    "start_time": "2023-06-11T15:01:47.135Z"
   },
   {
    "duration": 0,
    "start_time": "2023-06-11T15:01:47.136Z"
   },
   {
    "duration": 0,
    "start_time": "2023-06-11T15:01:47.137Z"
   },
   {
    "duration": 0,
    "start_time": "2023-06-11T15:01:47.138Z"
   },
   {
    "duration": 0,
    "start_time": "2023-06-11T15:01:47.139Z"
   },
   {
    "duration": 0,
    "start_time": "2023-06-11T15:01:47.140Z"
   },
   {
    "duration": 0,
    "start_time": "2023-06-11T15:01:47.141Z"
   },
   {
    "duration": 1518,
    "start_time": "2023-06-11T15:02:26.983Z"
   },
   {
    "duration": 257,
    "start_time": "2023-06-11T15:02:28.504Z"
   },
   {
    "duration": 48,
    "start_time": "2023-06-11T15:02:28.763Z"
   },
   {
    "duration": 48,
    "start_time": "2023-06-11T15:02:28.813Z"
   },
   {
    "duration": 4,
    "start_time": "2023-06-11T15:02:28.863Z"
   },
   {
    "duration": 31,
    "start_time": "2023-06-11T15:02:28.869Z"
   },
   {
    "duration": 9,
    "start_time": "2023-06-11T15:02:28.902Z"
   },
   {
    "duration": 1980,
    "start_time": "2023-06-11T15:02:28.913Z"
   },
   {
    "duration": 166,
    "start_time": "2023-06-11T15:02:30.895Z"
   },
   {
    "duration": 57,
    "start_time": "2023-06-11T15:02:31.064Z"
   },
   {
    "duration": 29,
    "start_time": "2023-06-11T15:02:31.123Z"
   },
   {
    "duration": 31,
    "start_time": "2023-06-11T15:02:31.154Z"
   },
   {
    "duration": 834,
    "start_time": "2023-06-11T15:02:31.187Z"
   },
   {
    "duration": 3,
    "start_time": "2023-06-11T15:02:32.024Z"
   },
   {
    "duration": 402,
    "start_time": "2023-06-11T15:02:32.029Z"
   },
   {
    "duration": 5,
    "start_time": "2023-06-11T15:02:32.433Z"
   },
   {
    "duration": 37,
    "start_time": "2023-06-11T15:02:32.440Z"
   },
   {
    "duration": 43,
    "start_time": "2023-06-11T15:02:32.479Z"
   },
   {
    "duration": 32,
    "start_time": "2023-06-11T15:02:32.524Z"
   },
   {
    "duration": 33,
    "start_time": "2023-06-11T15:02:32.558Z"
   },
   {
    "duration": 71,
    "start_time": "2023-06-11T15:02:32.593Z"
   },
   {
    "duration": 25,
    "start_time": "2023-06-11T15:02:32.666Z"
   },
   {
    "duration": 5718,
    "start_time": "2023-06-11T15:02:32.693Z"
   },
   {
    "duration": 7,
    "start_time": "2023-06-11T15:02:38.413Z"
   },
   {
    "duration": 30,
    "start_time": "2023-06-11T15:02:38.422Z"
   },
   {
    "duration": 17,
    "start_time": "2023-06-11T15:02:38.454Z"
   },
   {
    "duration": 59102,
    "start_time": "2023-06-11T15:02:38.473Z"
   },
   {
    "duration": 4,
    "start_time": "2023-06-11T15:03:37.579Z"
   },
   {
    "duration": 236878,
    "start_time": "2023-06-11T15:03:37.584Z"
   },
   {
    "duration": 4,
    "start_time": "2023-06-11T15:07:34.464Z"
   },
   {
    "duration": 150051,
    "start_time": "2023-06-11T15:07:34.470Z"
   },
   {
    "duration": 4,
    "start_time": "2023-06-11T15:10:04.523Z"
   },
   {
    "duration": 6122,
    "start_time": "2023-06-11T15:10:04.528Z"
   },
   {
    "duration": 30,
    "start_time": "2023-06-11T15:10:10.660Z"
   },
   {
    "duration": 5,
    "start_time": "2023-06-11T15:10:10.692Z"
   },
   {
    "duration": 326,
    "start_time": "2023-06-11T15:10:10.698Z"
   },
   {
    "duration": 254,
    "start_time": "2023-06-11T15:10:11.025Z"
   },
   {
    "duration": 197,
    "start_time": "2023-06-11T15:10:11.280Z"
   },
   {
    "duration": 215,
    "start_time": "2023-06-11T15:10:11.479Z"
   },
   {
    "duration": 220,
    "start_time": "2023-06-11T15:10:11.696Z"
   },
   {
    "duration": 391,
    "start_time": "2023-06-11T15:10:11.918Z"
   }
  ],
  "kernelspec": {
   "display_name": "Python 3 (ipykernel)",
   "language": "python",
   "name": "python3"
  },
  "language_info": {
   "codemirror_mode": {
    "name": "ipython",
    "version": 3
   },
   "file_extension": ".py",
   "mimetype": "text/x-python",
   "name": "python",
   "nbconvert_exporter": "python",
   "pygments_lexer": "ipython3",
   "version": "3.9.18"
  },
  "toc": {
   "base_numbering": 1,
   "nav_menu": {},
   "number_sections": true,
   "sideBar": true,
   "skip_h1_title": true,
   "title_cell": "Table of Contents",
   "title_sidebar": "Contents",
   "toc_cell": false,
   "toc_position": {
    "height": "calc(100% - 180px)",
    "left": "10px",
    "top": "150px",
    "width": "512px"
   },
   "toc_section_display": true,
   "toc_window_display": true
  }
 },
 "nbformat": 4,
 "nbformat_minor": 2
}
