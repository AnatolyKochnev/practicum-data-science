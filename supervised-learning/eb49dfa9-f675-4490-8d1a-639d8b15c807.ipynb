{
 "cells": [
  {
   "cell_type": "markdown",
   "metadata": {
    "toc": true
   },
   "source": [
    "<h1>Содержание<span class=\"tocSkip\"></span></h1>\n",
    "<div class=\"toc\"><ul class=\"toc-item\"><li><span><a href=\"#Подготовка-данных\" data-toc-modified-id=\"Подготовка-данных-1\"><span class=\"toc-item-num\">1&nbsp;&nbsp;</span>Подготовка данных</a></span><ul class=\"toc-item\"><li><span><a href=\"#Анализ-данных\" data-toc-modified-id=\"Анализ-данных-1.1\"><span class=\"toc-item-num\">1.1&nbsp;&nbsp;</span>Анализ данных</a></span></li><li><span><a href=\"#Предобработка-данных\" data-toc-modified-id=\"Предобработка-данных-1.2\"><span class=\"toc-item-num\">1.2&nbsp;&nbsp;</span>Предобработка данных</a></span><ul class=\"toc-item\"><li><span><a href=\"#Удаление-лишних-даных\" data-toc-modified-id=\"Удаление-лишних-даных-1.2.1\"><span class=\"toc-item-num\">1.2.1&nbsp;&nbsp;</span>Удаление лишних даных</a></span></li><li><span><a href=\"#Кодирование-признаков\" data-toc-modified-id=\"Кодирование-признаков-1.2.2\"><span class=\"toc-item-num\">1.2.2&nbsp;&nbsp;</span>Кодирование признаков</a></span></li><li><span><a href=\"#Нормализация-заголовков-колонок\" data-toc-modified-id=\"Нормализация-заголовков-колонок-1.2.3\"><span class=\"toc-item-num\">1.2.3&nbsp;&nbsp;</span>Нормализация заголовков колонок</a></span></li><li><span><a href=\"#Удаление-пропусков\" data-toc-modified-id=\"Удаление-пропусков-1.2.4\"><span class=\"toc-item-num\">1.2.4&nbsp;&nbsp;</span>Удаление пропусков</a></span></li><li><span><a href=\"#Обработка-выбросов\" data-toc-modified-id=\"Обработка-выбросов-1.2.5\"><span class=\"toc-item-num\">1.2.5&nbsp;&nbsp;</span>Обработка выбросов</a></span></li><li><span><a href=\"#Масштабирование-признаков\" data-toc-modified-id=\"Масштабирование-признаков-1.2.6\"><span class=\"toc-item-num\">1.2.6&nbsp;&nbsp;</span>Масштабирование признаков</a></span></li><li><span><a href=\"#Итоги-по-предобработке\" data-toc-modified-id=\"Итоги-по-предобработке-1.2.7\"><span class=\"toc-item-num\">1.2.7&nbsp;&nbsp;</span>Итоги по предобработке</a></span></li></ul></li></ul></li><li><span><a href=\"#Исследование-задачи\" data-toc-modified-id=\"Исследование-задачи-2\"><span class=\"toc-item-num\">2&nbsp;&nbsp;</span>Исследование задачи</a></span></li><li><span><a href=\"#Борьба-с-дисбалансом\" data-toc-modified-id=\"Борьба-с-дисбалансом-3\"><span class=\"toc-item-num\">3&nbsp;&nbsp;</span>Борьба с дисбалансом</a></span><ul class=\"toc-item\"><li><span><a href=\"#Модель-со-взвешиванием-классов\" data-toc-modified-id=\"Модель-со-взвешиванием-классов-3.1\"><span class=\"toc-item-num\">3.1&nbsp;&nbsp;</span>Модель со взвешиванием классов</a></span></li><li><span><a href=\"#Увеличение-выборки\" data-toc-modified-id=\"Увеличение-выборки-3.2\"><span class=\"toc-item-num\">3.2&nbsp;&nbsp;</span>Увеличение выборки</a></span></li><li><span><a href=\"#Поиск-оптимальной-модели\" data-toc-modified-id=\"Поиск-оптимальной-модели-3.3\"><span class=\"toc-item-num\">3.3&nbsp;&nbsp;</span>Поиск оптимальной модели</a></span><ul class=\"toc-item\"><li><span><a href=\"#Дерево-решений\" data-toc-modified-id=\"Дерево-решений-3.3.1\"><span class=\"toc-item-num\">3.3.1&nbsp;&nbsp;</span>Дерево решений</a></span></li><li><span><a href=\"#Лес-решений\" data-toc-modified-id=\"Лес-решений-3.3.2\"><span class=\"toc-item-num\">3.3.2&nbsp;&nbsp;</span>Лес решений</a></span></li></ul></li></ul></li><li><span><a href=\"#Тестирование-модели\" data-toc-modified-id=\"Тестирование-модели-4\"><span class=\"toc-item-num\">4&nbsp;&nbsp;</span>Тестирование модели</a></span></li><li><span><a href=\"#Итоги\" data-toc-modified-id=\"Итоги-5\"><span class=\"toc-item-num\">5&nbsp;&nbsp;</span>Итоги</a></span></li></ul></div>"
   ]
  },
  {
   "cell_type": "markdown",
   "metadata": {},
   "source": [
    "Github репозиторий: https://github.com/AnatolyKochnev/practicum-data-science/tree/master/supervised-learning"
   ]
  },
  {
   "cell_type": "markdown",
   "metadata": {},
   "source": [
    "# Отток клиентов"
   ]
  },
  {
   "cell_type": "markdown",
   "metadata": {},
   "source": [
    "Из «Бета-Банка» стали уходить клиенты. Каждый месяц. Немного, но заметно. Банковские маркетологи посчитали: сохранять текущих клиентов дешевле, чем привлекать новых.\n",
    "\n",
    "Нужно спрогнозировать, уйдёт клиент из банка в ближайшее время или нет. Вам предоставлены исторические данные о поведении клиентов и расторжении договоров с банком. \n",
    "\n",
    "Постройте модель с предельно большим значением *F1*-меры. Чтобы сдать проект успешно, нужно довести метрику до 0.59. Проверьте *F1*-меру на тестовой выборке самостоятельно.\n",
    "\n",
    "Дополнительно измеряйте *AUC-ROC*, сравнивайте её значение с *F1*-мерой.\n",
    "\n",
    "Источник данных: [https://www.kaggle.com/barelydedicated/bank-customer-churn-modeling](https://www.kaggle.com/barelydedicated/bank-customer-churn-modeling)"
   ]
  },
  {
   "cell_type": "markdown",
   "metadata": {},
   "source": [
    "## Подготовка данных"
   ]
  },
  {
   "cell_type": "markdown",
   "metadata": {},
   "source": [
    "### Анализ данных"
   ]
  },
  {
   "cell_type": "code",
   "execution_count": 1,
   "metadata": {
    "scrolled": false
   },
   "outputs": [],
   "source": [
    "from sklearn.tree import DecisionTreeClassifier\n",
    "from sklearn.ensemble import RandomForestClassifier\n",
    "from sklearn.linear_model import LogisticRegression\n",
    "from sklearn.metrics import f1_score\n",
    "from sklearn.metrics import roc_auc_score\n",
    "from sklearn.metrics import roc_curve\n",
    "from sklearn.metrics import confusion_matrix\n",
    "from sklearn.model_selection import train_test_split\n",
    "from sklearn.model_selection import GridSearchCV\n",
    "from sklearn.model_selection import PredefinedSplit\n",
    "from sklearn.preprocessing import StandardScaler\n",
    "from sklearn.utils import shuffle\n",
    "import matplotlib.pyplot as plt\n",
    "import pandas as pd\n",
    "import numpy as np"
   ]
  },
  {
   "cell_type": "code",
   "execution_count": 2,
   "metadata": {},
   "outputs": [
    {
     "name": "stdout",
     "output_type": "stream",
     "text": [
      "<class 'pandas.core.frame.DataFrame'>\n",
      "RangeIndex: 10000 entries, 0 to 9999\n",
      "Data columns (total 14 columns):\n",
      " #   Column           Non-Null Count  Dtype  \n",
      "---  ------           --------------  -----  \n",
      " 0   RowNumber        10000 non-null  int64  \n",
      " 1   CustomerId       10000 non-null  int64  \n",
      " 2   Surname          10000 non-null  object \n",
      " 3   CreditScore      10000 non-null  int64  \n",
      " 4   Geography        10000 non-null  object \n",
      " 5   Gender           10000 non-null  object \n",
      " 6   Age              10000 non-null  int64  \n",
      " 7   Tenure           9091 non-null   float64\n",
      " 8   Balance          10000 non-null  float64\n",
      " 9   NumOfProducts    10000 non-null  int64  \n",
      " 10  HasCrCard        10000 non-null  int64  \n",
      " 11  IsActiveMember   10000 non-null  int64  \n",
      " 12  EstimatedSalary  10000 non-null  float64\n",
      " 13  Exited           10000 non-null  int64  \n",
      "dtypes: float64(3), int64(8), object(3)\n",
      "memory usage: 1.1+ MB\n"
     ]
    },
    {
     "data": {
      "text/html": [
       "<div>\n",
       "<style scoped>\n",
       "    .dataframe tbody tr th:only-of-type {\n",
       "        vertical-align: middle;\n",
       "    }\n",
       "\n",
       "    .dataframe tbody tr th {\n",
       "        vertical-align: top;\n",
       "    }\n",
       "\n",
       "    .dataframe thead th {\n",
       "        text-align: right;\n",
       "    }\n",
       "</style>\n",
       "<table border=\"1\" class=\"dataframe\">\n",
       "  <thead>\n",
       "    <tr style=\"text-align: right;\">\n",
       "      <th></th>\n",
       "      <th>RowNumber</th>\n",
       "      <th>CustomerId</th>\n",
       "      <th>Surname</th>\n",
       "      <th>CreditScore</th>\n",
       "      <th>Geography</th>\n",
       "      <th>Gender</th>\n",
       "      <th>Age</th>\n",
       "      <th>Tenure</th>\n",
       "      <th>Balance</th>\n",
       "      <th>NumOfProducts</th>\n",
       "      <th>HasCrCard</th>\n",
       "      <th>IsActiveMember</th>\n",
       "      <th>EstimatedSalary</th>\n",
       "      <th>Exited</th>\n",
       "    </tr>\n",
       "  </thead>\n",
       "  <tbody>\n",
       "    <tr>\n",
       "      <th>0</th>\n",
       "      <td>1</td>\n",
       "      <td>15634602</td>\n",
       "      <td>Hargrave</td>\n",
       "      <td>619</td>\n",
       "      <td>France</td>\n",
       "      <td>Female</td>\n",
       "      <td>42</td>\n",
       "      <td>2.0</td>\n",
       "      <td>0.00</td>\n",
       "      <td>1</td>\n",
       "      <td>1</td>\n",
       "      <td>1</td>\n",
       "      <td>101348.88</td>\n",
       "      <td>1</td>\n",
       "    </tr>\n",
       "    <tr>\n",
       "      <th>1</th>\n",
       "      <td>2</td>\n",
       "      <td>15647311</td>\n",
       "      <td>Hill</td>\n",
       "      <td>608</td>\n",
       "      <td>Spain</td>\n",
       "      <td>Female</td>\n",
       "      <td>41</td>\n",
       "      <td>1.0</td>\n",
       "      <td>83807.86</td>\n",
       "      <td>1</td>\n",
       "      <td>0</td>\n",
       "      <td>1</td>\n",
       "      <td>112542.58</td>\n",
       "      <td>0</td>\n",
       "    </tr>\n",
       "    <tr>\n",
       "      <th>2</th>\n",
       "      <td>3</td>\n",
       "      <td>15619304</td>\n",
       "      <td>Onio</td>\n",
       "      <td>502</td>\n",
       "      <td>France</td>\n",
       "      <td>Female</td>\n",
       "      <td>42</td>\n",
       "      <td>8.0</td>\n",
       "      <td>159660.80</td>\n",
       "      <td>3</td>\n",
       "      <td>1</td>\n",
       "      <td>0</td>\n",
       "      <td>113931.57</td>\n",
       "      <td>1</td>\n",
       "    </tr>\n",
       "    <tr>\n",
       "      <th>3</th>\n",
       "      <td>4</td>\n",
       "      <td>15701354</td>\n",
       "      <td>Boni</td>\n",
       "      <td>699</td>\n",
       "      <td>France</td>\n",
       "      <td>Female</td>\n",
       "      <td>39</td>\n",
       "      <td>1.0</td>\n",
       "      <td>0.00</td>\n",
       "      <td>2</td>\n",
       "      <td>0</td>\n",
       "      <td>0</td>\n",
       "      <td>93826.63</td>\n",
       "      <td>0</td>\n",
       "    </tr>\n",
       "    <tr>\n",
       "      <th>4</th>\n",
       "      <td>5</td>\n",
       "      <td>15737888</td>\n",
       "      <td>Mitchell</td>\n",
       "      <td>850</td>\n",
       "      <td>Spain</td>\n",
       "      <td>Female</td>\n",
       "      <td>43</td>\n",
       "      <td>2.0</td>\n",
       "      <td>125510.82</td>\n",
       "      <td>1</td>\n",
       "      <td>1</td>\n",
       "      <td>1</td>\n",
       "      <td>79084.10</td>\n",
       "      <td>0</td>\n",
       "    </tr>\n",
       "  </tbody>\n",
       "</table>\n",
       "</div>"
      ],
      "text/plain": [
       "   RowNumber  CustomerId   Surname  CreditScore Geography  Gender  Age  \\\n",
       "0          1    15634602  Hargrave          619    France  Female   42   \n",
       "1          2    15647311      Hill          608     Spain  Female   41   \n",
       "2          3    15619304      Onio          502    France  Female   42   \n",
       "3          4    15701354      Boni          699    France  Female   39   \n",
       "4          5    15737888  Mitchell          850     Spain  Female   43   \n",
       "\n",
       "   Tenure    Balance  NumOfProducts  HasCrCard  IsActiveMember  \\\n",
       "0     2.0       0.00              1          1               1   \n",
       "1     1.0   83807.86              1          0               1   \n",
       "2     8.0  159660.80              3          1               0   \n",
       "3     1.0       0.00              2          0               0   \n",
       "4     2.0  125510.82              1          1               1   \n",
       "\n",
       "   EstimatedSalary  Exited  \n",
       "0        101348.88       1  \n",
       "1        112542.58       0  \n",
       "2        113931.57       1  \n",
       "3         93826.63       0  \n",
       "4         79084.10       0  "
      ]
     },
     "execution_count": 2,
     "metadata": {},
     "output_type": "execute_result"
    }
   ],
   "source": [
    "df = pd.read_csv('/datasets/Churn.csv')\n",
    "df.info()\n",
    "df.head()"
   ]
  },
  {
   "cell_type": "markdown",
   "metadata": {},
   "source": [
    "* **RowNumber, Surname, CustomerId** - эти данные интересны только в контексте системы, из которой они были получены. Для обучения они не имеют смысла и должны быть удалены.\n",
    "* Наименования колонок требуют нормализации (нижний регистр, земля между словами).\n",
    "* Есть пустые значения в колонке **Tenure**."
   ]
  },
  {
   "cell_type": "code",
   "execution_count": 3,
   "metadata": {},
   "outputs": [
    {
     "data": {
      "text/plain": [
       "array([1, 0])"
      ]
     },
     "execution_count": 3,
     "metadata": {},
     "output_type": "execute_result"
    }
   ],
   "source": [
    "df['Exited'].unique()"
   ]
  },
  {
   "cell_type": "markdown",
   "metadata": {},
   "source": [
    "* В целевой колонке (**Exited**) нет посторонних данных. Предобработка не требуется"
   ]
  },
  {
   "cell_type": "markdown",
   "metadata": {},
   "source": [
    "\n"
   ]
  },
  {
   "cell_type": "code",
   "execution_count": 4,
   "metadata": {
    "scrolled": false
   },
   "outputs": [
    {
     "name": "stdout",
     "output_type": "stream",
     "text": [
      "Geography ['France' 'Spain' 'Germany']\n",
      "Gender ['Female' 'Male']\n",
      "HasCrCard [1 0]\n",
      "IsActiveMember [1 0]\n"
     ]
    }
   ],
   "source": [
    "categorial_columns = [\n",
    "    'Geography', \n",
    "    'Gender',\n",
    "    'HasCrCard', \n",
    "    'IsActiveMember'\n",
    "]\n",
    "\n",
    "for column in df.columns:    \n",
    "    if column in categorial_columns:\n",
    "        print(column, df[column].unique()[:10])"
   ]
  },
  {
   "cell_type": "markdown",
   "metadata": {},
   "source": [
    "* **Geography, Gender** - категориальные данные - требуют кодирования.\n",
    "* **HasCrCard** и **IsActiveMemeber** - тоже категориальные, но уже закодированы и не требуют предобработки."
   ]
  },
  {
   "cell_type": "markdown",
   "metadata": {},
   "source": [
    "* Дубликаты искать нет смысла - позже потребуется дублировать часть данных для выравнивания баланса классов"
   ]
  },
  {
   "cell_type": "markdown",
   "metadata": {},
   "source": [
    "### Предобработка данных"
   ]
  },
  {
   "cell_type": "markdown",
   "metadata": {},
   "source": [
    "#### Удаление лишних даных"
   ]
  },
  {
   "cell_type": "code",
   "execution_count": 5,
   "metadata": {},
   "outputs": [],
   "source": [
    "useless_columns = ['CustomerId', 'Surname', 'RowNumber']\n",
    "df = df.loc[:, ~df.columns.isin(useless_columns)]"
   ]
  },
  {
   "cell_type": "markdown",
   "metadata": {},
   "source": [
    "#### Кодирование признаков"
   ]
  },
  {
   "cell_type": "code",
   "execution_count": 6,
   "metadata": {},
   "outputs": [],
   "source": [
    "def replace_with_dummy(data_frame, column):\n",
    "    if(column not in data_frame.columns):\n",
    "        return data_frame\n",
    "    \n",
    "    dummy = pd.get_dummies(data_frame[column], drop_first=True, prefix=column)\n",
    "    data_frame = data_frame.join(dummy)\n",
    "    return data_frame.loc[:, ~data_frame.columns.isin([column])]    "
   ]
  },
  {
   "cell_type": "code",
   "execution_count": 7,
   "metadata": {
    "scrolled": false
   },
   "outputs": [
    {
     "data": {
      "text/html": [
       "<div>\n",
       "<style scoped>\n",
       "    .dataframe tbody tr th:only-of-type {\n",
       "        vertical-align: middle;\n",
       "    }\n",
       "\n",
       "    .dataframe tbody tr th {\n",
       "        vertical-align: top;\n",
       "    }\n",
       "\n",
       "    .dataframe thead th {\n",
       "        text-align: right;\n",
       "    }\n",
       "</style>\n",
       "<table border=\"1\" class=\"dataframe\">\n",
       "  <thead>\n",
       "    <tr style=\"text-align: right;\">\n",
       "      <th></th>\n",
       "      <th>CreditScore</th>\n",
       "      <th>Age</th>\n",
       "      <th>Tenure</th>\n",
       "      <th>Balance</th>\n",
       "      <th>NumOfProducts</th>\n",
       "      <th>HasCrCard</th>\n",
       "      <th>IsActiveMember</th>\n",
       "      <th>EstimatedSalary</th>\n",
       "      <th>Exited</th>\n",
       "      <th>Gender_Male</th>\n",
       "      <th>Geography_Germany</th>\n",
       "      <th>Geography_Spain</th>\n",
       "    </tr>\n",
       "  </thead>\n",
       "  <tbody>\n",
       "    <tr>\n",
       "      <th>0</th>\n",
       "      <td>619</td>\n",
       "      <td>42</td>\n",
       "      <td>2.0</td>\n",
       "      <td>0.00</td>\n",
       "      <td>1</td>\n",
       "      <td>1</td>\n",
       "      <td>1</td>\n",
       "      <td>101348.88</td>\n",
       "      <td>1</td>\n",
       "      <td>0</td>\n",
       "      <td>0</td>\n",
       "      <td>0</td>\n",
       "    </tr>\n",
       "    <tr>\n",
       "      <th>1</th>\n",
       "      <td>608</td>\n",
       "      <td>41</td>\n",
       "      <td>1.0</td>\n",
       "      <td>83807.86</td>\n",
       "      <td>1</td>\n",
       "      <td>0</td>\n",
       "      <td>1</td>\n",
       "      <td>112542.58</td>\n",
       "      <td>0</td>\n",
       "      <td>0</td>\n",
       "      <td>0</td>\n",
       "      <td>1</td>\n",
       "    </tr>\n",
       "    <tr>\n",
       "      <th>2</th>\n",
       "      <td>502</td>\n",
       "      <td>42</td>\n",
       "      <td>8.0</td>\n",
       "      <td>159660.80</td>\n",
       "      <td>3</td>\n",
       "      <td>1</td>\n",
       "      <td>0</td>\n",
       "      <td>113931.57</td>\n",
       "      <td>1</td>\n",
       "      <td>0</td>\n",
       "      <td>0</td>\n",
       "      <td>0</td>\n",
       "    </tr>\n",
       "    <tr>\n",
       "      <th>3</th>\n",
       "      <td>699</td>\n",
       "      <td>39</td>\n",
       "      <td>1.0</td>\n",
       "      <td>0.00</td>\n",
       "      <td>2</td>\n",
       "      <td>0</td>\n",
       "      <td>0</td>\n",
       "      <td>93826.63</td>\n",
       "      <td>0</td>\n",
       "      <td>0</td>\n",
       "      <td>0</td>\n",
       "      <td>0</td>\n",
       "    </tr>\n",
       "    <tr>\n",
       "      <th>4</th>\n",
       "      <td>850</td>\n",
       "      <td>43</td>\n",
       "      <td>2.0</td>\n",
       "      <td>125510.82</td>\n",
       "      <td>1</td>\n",
       "      <td>1</td>\n",
       "      <td>1</td>\n",
       "      <td>79084.10</td>\n",
       "      <td>0</td>\n",
       "      <td>0</td>\n",
       "      <td>0</td>\n",
       "      <td>1</td>\n",
       "    </tr>\n",
       "  </tbody>\n",
       "</table>\n",
       "</div>"
      ],
      "text/plain": [
       "   CreditScore  Age  Tenure    Balance  NumOfProducts  HasCrCard  \\\n",
       "0          619   42     2.0       0.00              1          1   \n",
       "1          608   41     1.0   83807.86              1          0   \n",
       "2          502   42     8.0  159660.80              3          1   \n",
       "3          699   39     1.0       0.00              2          0   \n",
       "4          850   43     2.0  125510.82              1          1   \n",
       "\n",
       "   IsActiveMember  EstimatedSalary  Exited  Gender_Male  Geography_Germany  \\\n",
       "0               1        101348.88       1            0                  0   \n",
       "1               1        112542.58       0            0                  0   \n",
       "2               0        113931.57       1            0                  0   \n",
       "3               0         93826.63       0            0                  0   \n",
       "4               1         79084.10       0            0                  0   \n",
       "\n",
       "   Geography_Spain  \n",
       "0                0  \n",
       "1                1  \n",
       "2                0  \n",
       "3                0  \n",
       "4                1  "
      ]
     },
     "execution_count": 7,
     "metadata": {},
     "output_type": "execute_result"
    }
   ],
   "source": [
    "df = replace_with_dummy(df, 'Gender')\n",
    "df = replace_with_dummy(df, 'Geography')\n",
    "df.head()"
   ]
  },
  {
   "cell_type": "markdown",
   "metadata": {},
   "source": [
    "#### Нормализация заголовков колонок"
   ]
  },
  {
   "cell_type": "code",
   "execution_count": 8,
   "metadata": {},
   "outputs": [],
   "source": [
    "columns_renamings = {\n",
    "    'CreditScore': 'Credit_Score',\n",
    "    'NumOfProducts': 'Num_Of_Products',\n",
    "    'HasCrCard': 'Has_Cr_Card',\n",
    "    'IsActiveMember': 'Is_Active_Member',\n",
    "    'EstimatedSalary': 'Estimated_Salary'\n",
    "}\n",
    "\n",
    "df = df.rename(columns=columns_renamings)\n",
    "df.columns = df.columns.str.lower()"
   ]
  },
  {
   "cell_type": "markdown",
   "metadata": {},
   "source": [
    "#### Удаление пропусков"
   ]
  },
  {
   "cell_type": "code",
   "execution_count": 9,
   "metadata": {},
   "outputs": [
    {
     "name": "stdout",
     "output_type": "stream",
     "text": [
      "[ 2.  1.  8.  7.  4.  6.  3. 10.  5.  9.  0. nan]\n"
     ]
    }
   ],
   "source": [
    "print(df['tenure'].unique())"
   ]
  },
  {
   "cell_type": "markdown",
   "metadata": {},
   "source": [
    "Не похоже, что nan = 0 - нули идут отдельно. Возможно, ошибка в выборке.\n",
    "\n",
    "Замена на среднее или медиану создаст большой всплеск. Так что, безопаснее такие строки удалить."
   ]
  },
  {
   "cell_type": "code",
   "execution_count": 10,
   "metadata": {
    "scrolled": false
   },
   "outputs": [
    {
     "name": "stdout",
     "output_type": "stream",
     "text": [
      "<class 'pandas.core.frame.DataFrame'>\n",
      "Int64Index: 9091 entries, 0 to 9998\n",
      "Data columns (total 12 columns):\n",
      " #   Column             Non-Null Count  Dtype  \n",
      "---  ------             --------------  -----  \n",
      " 0   credit_score       9091 non-null   int64  \n",
      " 1   age                9091 non-null   int64  \n",
      " 2   tenure             9091 non-null   float64\n",
      " 3   balance            9091 non-null   float64\n",
      " 4   num_of_products    9091 non-null   int64  \n",
      " 5   has_cr_card        9091 non-null   int64  \n",
      " 6   is_active_member   9091 non-null   int64  \n",
      " 7   estimated_salary   9091 non-null   float64\n",
      " 8   exited             9091 non-null   int64  \n",
      " 9   gender_male        9091 non-null   uint8  \n",
      " 10  geography_germany  9091 non-null   uint8  \n",
      " 11  geography_spain    9091 non-null   uint8  \n",
      "dtypes: float64(3), int64(6), uint8(3)\n",
      "memory usage: 736.9 KB\n"
     ]
    }
   ],
   "source": [
    "df = df.dropna()\n",
    "df.info()"
   ]
  },
  {
   "cell_type": "markdown",
   "metadata": {},
   "source": [
    "#### Обработка выбросов"
   ]
  },
  {
   "cell_type": "code",
   "execution_count": 11,
   "metadata": {
    "scrolled": false
   },
   "outputs": [
    {
     "name": "stdout",
     "output_type": "stream",
     "text": [
      "       credit_score          age       tenure        balance  num_of_products  \\\n",
      "count   9091.000000  9091.000000  9091.000000    9091.000000      9091.000000   \n",
      "mean     650.736553    38.949181     4.997690   76522.740015         1.530195   \n",
      "std       96.410471    10.555581     2.894723   62329.528576         0.581003   \n",
      "min      350.000000    18.000000     0.000000       0.000000         1.000000   \n",
      "25%      584.000000    32.000000     2.000000       0.000000         1.000000   \n",
      "50%      652.000000    37.000000     5.000000   97318.250000         1.000000   \n",
      "75%      717.000000    44.000000     7.000000  127561.890000         2.000000   \n",
      "max      850.000000    92.000000    10.000000  250898.090000         4.000000   \n",
      "\n",
      "       estimated_salary  \n",
      "count       9091.000000  \n",
      "mean      100181.214924  \n",
      "std        57624.755647  \n",
      "min           11.580000  \n",
      "25%        51227.745000  \n",
      "50%       100240.200000  \n",
      "75%       149567.210000  \n",
      "max       199992.480000  \n"
     ]
    },
    {
     "data": {
      "image/png": "[encoded data removed]",
      "text/plain": [
       "<Figure size 1080x720 with 6 Axes>"
      ]
     },
     "metadata": {
      "needs_background": "light"
     },
     "output_type": "display_data"
    }
   ],
   "source": [
    "numeric_columns = [\n",
    "    'credit_score', \n",
    "    'age', \n",
    "    'tenure', \n",
    "    'balance', \n",
    "    'num_of_products',\n",
    "    'estimated_salary'\n",
    "]\n",
    "\n",
    "print(df[numeric_columns].describe())\n",
    "df[numeric_columns].hist(figsize=(15,10));"
   ]
  },
  {
   "cell_type": "markdown",
   "metadata": {},
   "source": [
    "Для всех значений медианы близки к среднему, а распределение либо нормальное, либо равномерное.\n",
    "\n",
    "Единственный выброс наблюдается в балансе на счёте. Выброс представлен большим количеством нулевых значений. Но это легко объясняется тем, что многие люди просто не держат деньги на счете. Если убрать выброс нулей, то и баланс будет выглядеть как нормальное распеределение.\n",
    "\n",
    "Данные не требуют устранения выбросов."
   ]
  },
  {
   "cell_type": "markdown",
   "metadata": {},
   "source": [
    "#### Масштабирование признаков"
   ]
  },
  {
   "cell_type": "markdown",
   "metadata": {},
   "source": [
    "В данных есть значения, представленные в единицах (количество продуктов), а есть представленные в десятках тысяч (баланс). Поэтому, требуется масштабирование признаков, которое будет проведено после разбивки данных на выборки."
   ]
  },
  {
   "cell_type": "markdown",
   "metadata": {},
   "source": [
    "#### Итоги по предобработке"
   ]
  },
  {
   "cell_type": "markdown",
   "metadata": {},
   "source": [
    "* Из данных были исключены идентификаторы строк и людей.\n",
    "* Проведена нормализация заголовков колонок.\n",
    "* Были удалены строки с пустым значением **Tenure**.\n",
    "* Не было обнаружено выбросов данных.\n",
    "* Часть категориальных данных (**Geography, Gender**) потребовала кодирования, часть (**HasCrCard**, **IsActiveMemeber**) - не потребовала.\n",
    "* Проведено масштабирование признаков."
   ]
  },
  {
   "cell_type": "markdown",
   "metadata": {},
   "source": [
    "## Исследование задачи"
   ]
  },
  {
   "cell_type": "code",
   "execution_count": 12,
   "metadata": {},
   "outputs": [],
   "source": [
    "random_state = 12345"
   ]
  },
  {
   "cell_type": "code",
   "execution_count": 13,
   "metadata": {},
   "outputs": [
    {
     "name": "stdout",
     "output_type": "stream",
     "text": [
      "Баланс классов:\n"
     ]
    },
    {
     "data": {
      "text/plain": [
       "0    7237\n",
       "1    1854\n",
       "Name: exited, dtype: int64"
      ]
     },
     "execution_count": 13,
     "metadata": {},
     "output_type": "execute_result"
    }
   ],
   "source": [
    "target = df['exited']\n",
    "features = df.drop('exited', axis=1)\n",
    "\n",
    "#train/test/valid:60%/20%/20%\n",
    "features_train_valid, features_test, target_train_valid, target_test = train_test_split(\n",
    "    features,\n",
    "    target,\n",
    "    test_size=0.20,\n",
    "    random_state=random_state,\n",
    "    stratify=target\n",
    ")\n",
    "features_train, features_valid, target_train, target_valid = train_test_split(\n",
    "    features_train_valid,\n",
    "    target_train_valid,\n",
    "    test_size=0.25,\n",
    "    random_state=random_state,\n",
    "    stratify=target_train_valid\n",
    ")\n",
    "\n",
    "print('Баланс классов:')\n",
    "target.value_counts()"
   ]
  },
  {
   "cell_type": "markdown",
   "metadata": {},
   "source": [
    "Наблюдается существенный перекос в сторону отрицательного класса."
   ]
  },
  {
   "cell_type": "code",
   "execution_count": 14,
   "metadata": {},
   "outputs": [],
   "source": [
    "#Масштабирование признаков\n",
    "pd.options.mode.chained_assignment = None\n",
    "scaler = StandardScaler()\n",
    "scaler.fit(features_train[numeric_columns])\n",
    "features_train[numeric_columns] = scaler.transform(features_train[numeric_columns])\n",
    "features_valid[numeric_columns] = scaler.transform(features_valid[numeric_columns])\n",
    "features_test[numeric_columns] = scaler.transform(features_test[numeric_columns])\n",
    "\n",
    "features_train_valid = pd.concat([features_train, features_valid])\n",
    "target_train_valid = pd.concat([target_train, target_valid])\n",
    "\n",
    "#PredefinedSplit необходим для GridSearchCV\n",
    "#Так в GridSearchCV можно использовать заранее созданные выборки features/target, \n",
    "#а не внутренний механизм разбивки самого GridSearchCV\n",
    "split_index = [-1 if x in features_train.index else 0 for x in features_train_valid.index]\n",
    "pds = PredefinedSplit(test_fold = split_index)"
   ]
  },
  {
   "cell_type": "code",
   "execution_count": 15,
   "metadata": {},
   "outputs": [],
   "source": [
    "def test_model(search_model):\n",
    "    print('Лучшая модель:', search_model.best_estimator_)\n",
    "    results = search_model.cv_results_\n",
    "    best_index = search_model.best_index_\n",
    "    f1 = search_model.best_score_\n",
    "    roc_auc = results[\"mean_test_roc_auc\"][best_index]    \n",
    "    \n",
    "    size = 10000\n",
    "    confusion_matrix_encoded = results[\"mean_test_confusion_matrix\"][best_index]\n",
    "    tp = int(confusion_matrix_encoded % size)\n",
    "    fn = int(confusion_matrix_encoded / size) % size\n",
    "    fp = int(confusion_matrix_encoded / (size**2)) % size\n",
    "    tn = int(confusion_matrix_encoded / (size**3))\n",
    "    confusion_matrix_decoded =np.array([\n",
    "        [tn, fp],\n",
    "        [fn, tp]\n",
    "    ])\n",
    "    \n",
    "    print('F1:', f1) \n",
    "    print('ROC AUC:', roc_auc)\n",
    "    print('Матрица ошибок:')\n",
    "    print(confusion_matrix_decoded)"
   ]
  },
  {
   "cell_type": "code",
   "execution_count": 16,
   "metadata": {},
   "outputs": [],
   "source": [
    "def confusion_matrix_scorer(clf, X, y):\n",
    "    y_pred = clf.predict(X)\n",
    "    cm = confusion_matrix(y, y_pred)\n",
    "    size = 10000\n",
    "    tn = cm[0,0]\n",
    "    fp = cm[0,1]\n",
    "    fn = cm[1,0]\n",
    "    tp = cm[1,1]\n",
    "    result = (size**3)*tn + (size**2)*fp + size*fn + tp\n",
    "    return result\n",
    "\n",
    "grid_search_scoring = {\n",
    "    'f1':'f1',\n",
    "    'roc_auc':'roc_auc',\n",
    "    'confusion_matrix': confusion_matrix_scorer\n",
    "}"
   ]
  },
  {
   "cell_type": "code",
   "execution_count": 17,
   "metadata": {
    "scrolled": true
   },
   "outputs": [
    {
     "name": "stdout",
     "output_type": "stream",
     "text": [
      "CPU times: user 2.14 s, sys: 0 ns, total: 2.14 s\n",
      "Wall time: 2.14 s\n"
     ]
    }
   ],
   "source": [
    "%%time\n",
    "best_decision_tree_search = GridSearchCV(\n",
    "    DecisionTreeClassifier(random_state=random_state),\n",
    "    {\n",
    "        'criterion': ['gini', 'entropy'],\n",
    "        'max_features': ['auto', 'sqrt', 'log2', None],\n",
    "        'max_leaf_nodes': range(10, 50, 10),\n",
    "        'max_depth': range(10, 50, 10),\n",
    "    },\n",
    "    cv=pds,\n",
    "    refit='f1',\n",
    "    scoring = grid_search_scoring\n",
    ")\n",
    "_ = best_decision_tree_search.fit(features_train_valid, target_train_valid)"
   ]
  },
  {
   "cell_type": "code",
   "execution_count": 18,
   "metadata": {
    "scrolled": false
   },
   "outputs": [
    {
     "name": "stdout",
     "output_type": "stream",
     "text": [
      "Лучшая модель: DecisionTreeClassifier(max_depth=10, max_leaf_nodes=40, random_state=12345)\n",
      "F1: 0.5811688311688312\n",
      "ROC AUC: 0.8345447500824273\n",
      "Матрица ошибок:\n",
      "[[1381   66]\n",
      " [ 192  179]]\n"
     ]
    }
   ],
   "source": [
    "test_model(best_decision_tree_search)"
   ]
  },
  {
   "cell_type": "markdown",
   "metadata": {},
   "source": [
    "Судя по ROC AUC, получившаяся модель далека от случайной. Но этого недостаточно: F1 не дотягивает до целевого значения. Модель слишком редко дает положительные ответы (это было предсказуемо из-за дисбаланса)."
   ]
  },
  {
   "cell_type": "markdown",
   "metadata": {},
   "source": [
    "## Борьба с дисбалансом"
   ]
  },
  {
   "cell_type": "markdown",
   "metadata": {},
   "source": [
    "### Модель со взвешиванием классов"
   ]
  },
  {
   "cell_type": "code",
   "execution_count": 19,
   "metadata": {},
   "outputs": [],
   "source": [
    "best_decision_tree_search = GridSearchCV(\n",
    "    DecisionTreeClassifier(random_state=random_state, class_weight='balanced'),\n",
    "    {\n",
    "        'criterion': ['gini', 'entropy'],\n",
    "        'max_features': ['auto', 'sqrt', 'log2', None],\n",
    "        'max_leaf_nodes': range(10, 50, 10),\n",
    "        'max_depth': range(10, 50, 10),\n",
    "    },\n",
    "    cv=pds,\n",
    "    refit='f1',\n",
    "    scoring=grid_search_scoring\n",
    ")\n",
    "_ = best_decision_tree_search.fit(features_train_valid, target_train_valid)"
   ]
  },
  {
   "cell_type": "code",
   "execution_count": 20,
   "metadata": {
    "scrolled": false
   },
   "outputs": [
    {
     "name": "stdout",
     "output_type": "stream",
     "text": [
      "Лучшая модель: DecisionTreeClassifier(class_weight='balanced', criterion='entropy',\n",
      "                       max_depth=10, max_leaf_nodes=30, random_state=12345)\n",
      "F1: 0.5711382113821138\n",
      "ROC AUC: 0.8431143904015559\n",
      "Матрица ошибок:\n",
      "[[1115  332]\n",
      " [  90  281]]\n"
     ]
    }
   ],
   "source": [
    "test_model(best_decision_tree_search)"
   ]
  },
  {
   "cell_type": "code",
   "execution_count": 21,
   "metadata": {},
   "outputs": [
    {
     "data": {
      "text/plain": [
       "0    1447\n",
       "1     371\n",
       "Name: exited, dtype: int64"
      ]
     },
     "execution_count": 21,
     "metadata": {},
     "output_type": "execute_result"
    }
   ],
   "source": [
    "target_valid.value_counts()"
   ]
  },
  {
   "cell_type": "markdown",
   "metadata": {},
   "source": [
    "Взвешивание классов не позволило существенно улучшить качество прогнозирования модели. Теперь модель чаще дает положительные ответы, но в половине случаев - ошибочно."
   ]
  },
  {
   "cell_type": "markdown",
   "metadata": {},
   "source": [
    "### Увеличение выборки"
   ]
  },
  {
   "cell_type": "markdown",
   "metadata": {},
   "source": [
    "Исходных данных мало (всего 10000 записей) - поэтому, для исправления дисбаланса можно дополнить данные (а downsampling может только ухудшить результат)."
   ]
  },
  {
   "cell_type": "code",
   "execution_count": 22,
   "metadata": {},
   "outputs": [],
   "source": [
    "def upsample(features, target, target_filter, repeat):\n",
    "    features_filtered = features[target_filter]\n",
    "    features_unfiltered = features[~target_filter]\n",
    "    target_filtered = target[target_filter]\n",
    "    target_unfiltered = target[~target_filter]\n",
    "    \n",
    "    features_upsampled = pd.concat([features_unfiltered] + [features_filtered] * repeat)\n",
    "    target_upsampled = pd.concat([target_unfiltered] + [target_filtered] * repeat)\n",
    "    \n",
    "    return shuffle(features_upsampled, target_upsampled, random_state=random_state)"
   ]
  },
  {
   "cell_type": "code",
   "execution_count": 23,
   "metadata": {
    "scrolled": false
   },
   "outputs": [
    {
     "name": "stdout",
     "output_type": "stream",
     "text": [
      "Баланс классов:\n",
      "0    4342\n",
      "1    3336\n",
      "Name: exited, dtype: int64\n"
     ]
    }
   ],
   "source": [
    "features_upsampled, target_upsampled = upsample(features_train, target_train, target_train == 1, 3)\n",
    "print('Баланс классов:')\n",
    "print(target_upsampled.value_counts())"
   ]
  },
  {
   "cell_type": "code",
   "execution_count": 24,
   "metadata": {},
   "outputs": [],
   "source": [
    "features_upsampled_valid = pd.concat([features_upsampled, features_valid]) \n",
    "target_upsampled_valid = pd.concat([target_upsampled, target_valid]) \n",
    "\n",
    "split_index = [-1 if x in features_upsampled.index else 0 for x in features_upsampled_valid.index]\n",
    "pds = PredefinedSplit(test_fold = split_index)"
   ]
  },
  {
   "cell_type": "code",
   "execution_count": 25,
   "metadata": {
    "scrolled": true
   },
   "outputs": [
    {
     "name": "stdout",
     "output_type": "stream",
     "text": [
      "CPU times: user 2.34 s, sys: 11.2 ms, total: 2.35 s\n",
      "Wall time: 2.36 s\n"
     ]
    }
   ],
   "source": [
    "%%time\n",
    "best_decision_tree_search = GridSearchCV(\n",
    "    DecisionTreeClassifier(random_state=random_state),\n",
    "    {\n",
    "        'criterion': ['gini', 'entropy'],\n",
    "        'max_features': ['auto', 'sqrt', 'log2', None],\n",
    "        'max_leaf_nodes': range(10, 50, 10),\n",
    "        'max_depth': range(10, 50, 10),\n",
    "    },\n",
    "    cv=pds,\n",
    "    refit='f1',\n",
    "    scoring=grid_search_scoring\n",
    ")\n",
    "_ = best_decision_tree_search.fit(features_upsampled_valid, target_upsampled_valid)"
   ]
  },
  {
   "cell_type": "code",
   "execution_count": 26,
   "metadata": {
    "scrolled": false
   },
   "outputs": [
    {
     "name": "stdout",
     "output_type": "stream",
     "text": [
      "Лучшая модель: DecisionTreeClassifier(max_depth=10, max_leaf_nodes=30, random_state=12345)\n",
      "F1: 0.5928411633109619\n",
      "ROC AUC: 0.8416660923147995\n",
      "Матрица ошибок:\n",
      "[[1189  258]\n",
      " [ 106  265]]\n"
     ]
    }
   ],
   "source": [
    "test_model(best_decision_tree_search)"
   ]
  },
  {
   "cell_type": "markdown",
   "metadata": {},
   "source": [
    "Увеличение выборки помогло достигнуть целевого показателя F1. Хотя матрица ошибок по-прежнему показывает много ошибок при прогнозировании положительных ответов."
   ]
  },
  {
   "cell_type": "markdown",
   "metadata": {},
   "source": [
    "### Поиск оптимальной модели"
   ]
  },
  {
   "cell_type": "markdown",
   "metadata": {},
   "source": [
    "#### Дерево решений"
   ]
  },
  {
   "cell_type": "code",
   "execution_count": 27,
   "metadata": {},
   "outputs": [
    {
     "name": "stdout",
     "output_type": "stream",
     "text": [
      "Лучшая модель: DecisionTreeClassifier(max_depth=10, max_leaf_nodes=30, random_state=12345)\n",
      "F1: 0.5928411633109619\n",
      "ROC AUC: 0.8416660923147995\n",
      "Матрица ошибок:\n",
      "[[1189  258]\n",
      " [ 106  265]]\n"
     ]
    }
   ],
   "source": [
    "test_model(best_decision_tree_search)"
   ]
  },
  {
   "cell_type": "markdown",
   "metadata": {},
   "source": [
    "#### Лес решений"
   ]
  },
  {
   "cell_type": "code",
   "execution_count": 28,
   "metadata": {},
   "outputs": [
    {
     "name": "stdout",
     "output_type": "stream",
     "text": [
      "CPU times: user 15.2 s, sys: 26.1 ms, total: 15.2 s\n",
      "Wall time: 15.2 s\n"
     ]
    }
   ],
   "source": [
    "%%time\n",
    "\n",
    "best_random_forest_search = GridSearchCV(\n",
    "    RandomForestClassifier(random_state=random_state),\n",
    "    {\n",
    "        'criterion': ['gini', 'entropy'],\n",
    "        'max_features': ['auto', 'sqrt', 'log2', None],\n",
    "        'max_leaf_nodes': range(20, 40, 10),\n",
    "        'max_depth': range(20, 70, 10),\n",
    "        'n_estimators': range(10, 70, 10)\n",
    "    },\n",
    "    cv=pds,\n",
    "    refit='f1',\n",
    "    scoring=grid_search_scoring\n",
    ")\n",
    "_ = best_random_forest_search.fit(features_upsampled_valid, target_upsampled_valid)"
   ]
  },
  {
   "cell_type": "code",
   "execution_count": 29,
   "metadata": {
    "scrolled": true
   },
   "outputs": [
    {
     "name": "stdout",
     "output_type": "stream",
     "text": [
      "Лучшая модель: RandomForestClassifier(max_depth=20, max_leaf_nodes=20, n_estimators=10,\n",
      "                       random_state=12345)\n",
      "F1: 0.6118251928020565\n",
      "ROC AUC: 0.8550071995782706\n",
      "Матрица ошибок:\n",
      "[[1278  169]\n",
      " [ 133  238]]\n"
     ]
    }
   ],
   "source": [
    "test_model(best_random_forest_search)"
   ]
  },
  {
   "cell_type": "markdown",
   "metadata": {},
   "source": [
    "Лес выдал немного лучший результат, чем дерево"
   ]
  },
  {
   "cell_type": "markdown",
   "metadata": {},
   "source": [
    "## Тестирование модели"
   ]
  },
  {
   "cell_type": "code",
   "execution_count": 32,
   "metadata": {
    "scrolled": true
   },
   "outputs": [
    {
     "name": "stdout",
     "output_type": "stream",
     "text": [
      "F1: 0.6165605095541402\n",
      "AUC ROC: 0.8430831260889637\n",
      "Матрица ошибок:\n",
      "[[1276  172]\n",
      " [ 129  242]]\n"
     ]
    }
   ],
   "source": [
    "best_model = best_decision_tree_search\n",
    "prediction_test = best_model.predict(features_test)\n",
    "probabilites = best_model.predict_proba(features_test)\n",
    "\n",
    "print('F1:', f1_score(target_test, prediction_test))\n",
    "print('AUC ROC:', roc_auc_score(target_test, probabilites[:, 1]))\n",
    "print('Матрица ошибок:')\n",
    "print(confusion_matrix(target_test, prediction_test))"
   ]
  },
  {
   "cell_type": "markdown",
   "metadata": {},
   "source": [
    "## Итоги"
   ]
  },
  {
   "cell_type": "markdown",
   "metadata": {},
   "source": [
    "* Исходные данные оказались высокого качества. \n",
    "* Единственная проблема была в пустых значениях колонки **Tenure** (возможно, ошибка в выборке). Такие строки были удалены. \n",
    "* В ходе исследования моделей выявлен большой дисбаланс в сторону отрицательного класса, приводивший к недостаточному значению F1 метрики.\n",
    "* С дисбалансом помогло справиться увеличение выборки (однако, для модели логистической регрессии этого оказалось недостаточно).\n",
    "* Лучшей моделью стал лес решений, показавший на тестовой выборке метрику **F1 = 0.61**."
   ]
  }
 ],
 "metadata": {
  "ExecuteTimeLog": [
   {
    "duration": 539,
    "start_time": "2023-05-25T09:20:34.423Z"
   },
   {
    "duration": 51,
    "start_time": "2023-05-25T09:22:21.470Z"
   },
   {
    "duration": 13,
    "start_time": "2023-05-25T09:23:11.662Z"
   },
   {
    "duration": 18,
    "start_time": "2023-05-25T09:27:34.951Z"
   },
   {
    "duration": 24,
    "start_time": "2023-05-25T09:27:43.637Z"
   },
   {
    "duration": 21,
    "start_time": "2023-05-25T09:29:38.603Z"
   },
   {
    "duration": 485,
    "start_time": "2023-05-25T14:10:22.975Z"
   },
   {
    "duration": 27,
    "start_time": "2023-05-25T14:10:29.920Z"
   },
   {
    "duration": 24,
    "start_time": "2023-05-25T14:11:40.581Z"
   },
   {
    "duration": 59,
    "start_time": "2023-05-25T14:11:52.072Z"
   },
   {
    "duration": 67,
    "start_time": "2023-05-25T14:11:55.404Z"
   },
   {
    "duration": 59,
    "start_time": "2023-05-25T14:11:59.890Z"
   },
   {
    "duration": 10,
    "start_time": "2023-05-25T14:12:06.203Z"
   },
   {
    "duration": 9,
    "start_time": "2023-05-25T14:12:12.304Z"
   },
   {
    "duration": 5,
    "start_time": "2023-05-25T14:12:52.648Z"
   },
   {
    "duration": 19,
    "start_time": "2023-05-25T14:12:55.799Z"
   },
   {
    "duration": 15,
    "start_time": "2023-05-25T14:15:01.196Z"
   },
   {
    "duration": 55,
    "start_time": "2023-05-25T14:15:17.214Z"
   },
   {
    "duration": 14,
    "start_time": "2023-05-25T14:15:20.099Z"
   },
   {
    "duration": 5,
    "start_time": "2023-05-25T14:16:08.129Z"
   },
   {
    "duration": 12,
    "start_time": "2023-05-25T14:43:21.141Z"
   },
   {
    "duration": 18,
    "start_time": "2023-05-25T14:52:53.728Z"
   },
   {
    "duration": 7,
    "start_time": "2023-05-25T14:53:14.707Z"
   },
   {
    "duration": 5,
    "start_time": "2023-05-25T14:54:07.407Z"
   },
   {
    "duration": 11,
    "start_time": "2023-05-25T14:54:11.625Z"
   },
   {
    "duration": 4,
    "start_time": "2023-05-25T14:55:13.336Z"
   },
   {
    "duration": 15,
    "start_time": "2023-05-25T14:55:17.762Z"
   },
   {
    "duration": 589,
    "start_time": "2023-05-27T14:21:47.868Z"
   },
   {
    "duration": 22,
    "start_time": "2023-05-27T14:21:50.703Z"
   },
   {
    "duration": 7,
    "start_time": "2023-05-27T14:21:56.192Z"
   },
   {
    "duration": 8,
    "start_time": "2023-05-27T14:21:56.713Z"
   },
   {
    "duration": 5,
    "start_time": "2023-05-27T14:21:59.735Z"
   },
   {
    "duration": 4,
    "start_time": "2023-05-27T14:22:34.688Z"
   },
   {
    "duration": 5,
    "start_time": "2023-05-27T14:22:41.776Z"
   },
   {
    "duration": 73,
    "start_time": "2023-05-27T14:25:32.861Z"
   },
   {
    "duration": 17,
    "start_time": "2023-05-27T14:26:20.401Z"
   },
   {
    "duration": 12,
    "start_time": "2023-05-27T14:26:30.219Z"
   },
   {
    "duration": 14,
    "start_time": "2023-05-27T14:26:33.846Z"
   },
   {
    "duration": 1282,
    "start_time": "2023-05-27T14:26:39.744Z"
   },
   {
    "duration": 16,
    "start_time": "2023-05-27T14:26:59.225Z"
   },
   {
    "duration": 17,
    "start_time": "2023-05-27T14:27:10.942Z"
   },
   {
    "duration": 16,
    "start_time": "2023-05-27T14:29:25.422Z"
   },
   {
    "duration": 14,
    "start_time": "2023-05-27T14:29:31.449Z"
   },
   {
    "duration": 15,
    "start_time": "2023-05-27T14:29:38.440Z"
   },
   {
    "duration": 1588,
    "start_time": "2023-05-27T14:30:03.024Z"
   },
   {
    "duration": 14,
    "start_time": "2023-05-27T14:44:25.735Z"
   },
   {
    "duration": 5,
    "start_time": "2023-05-27T14:45:16.947Z"
   },
   {
    "duration": 11,
    "start_time": "2023-05-27T14:45:23.757Z"
   },
   {
    "duration": 45,
    "start_time": "2023-05-27T14:45:33.430Z"
   },
   {
    "duration": 12,
    "start_time": "2023-05-27T14:45:36.143Z"
   },
   {
    "duration": 9,
    "start_time": "2023-05-27T14:45:38.254Z"
   },
   {
    "duration": 18,
    "start_time": "2023-05-27T14:45:42.230Z"
   },
   {
    "duration": 9,
    "start_time": "2023-05-27T14:45:53.691Z"
   },
   {
    "duration": 27,
    "start_time": "2023-05-27T14:46:04.915Z"
   },
   {
    "duration": 28,
    "start_time": "2023-05-27T14:46:43.273Z"
   },
   {
    "duration": 7,
    "start_time": "2023-05-27T14:46:48.781Z"
   },
   {
    "duration": 13,
    "start_time": "2023-05-27T14:46:55.835Z"
   },
   {
    "duration": 21,
    "start_time": "2023-05-27T14:49:12.803Z"
   },
   {
    "duration": 7,
    "start_time": "2023-05-27T15:26:49.409Z"
   },
   {
    "duration": 4,
    "start_time": "2023-05-27T15:26:56.471Z"
   },
   {
    "duration": 4,
    "start_time": "2023-05-27T15:27:04.541Z"
   },
   {
    "duration": 6,
    "start_time": "2023-05-27T15:49:39.182Z"
   },
   {
    "duration": 5,
    "start_time": "2023-05-27T15:56:47.043Z"
   },
   {
    "duration": 14,
    "start_time": "2023-05-27T15:58:53.640Z"
   },
   {
    "duration": 18,
    "start_time": "2023-05-27T15:59:02.430Z"
   },
   {
    "duration": 7,
    "start_time": "2023-05-27T15:59:31.188Z"
   },
   {
    "duration": 13,
    "start_time": "2023-05-27T15:59:40.992Z"
   },
   {
    "duration": 46,
    "start_time": "2023-05-27T16:00:06.222Z"
   },
   {
    "duration": 7,
    "start_time": "2023-05-27T16:00:10.984Z"
   },
   {
    "duration": 14,
    "start_time": "2023-05-27T16:00:15.853Z"
   },
   {
    "duration": 5,
    "start_time": "2023-05-27T16:00:41.056Z"
   },
   {
    "duration": 8,
    "start_time": "2023-05-27T16:00:46.185Z"
   },
   {
    "duration": 10,
    "start_time": "2023-05-27T16:01:10.217Z"
   },
   {
    "duration": 24,
    "start_time": "2023-05-27T16:02:03.642Z"
   },
   {
    "duration": 12,
    "start_time": "2023-05-27T16:02:09.975Z"
   },
   {
    "duration": 16,
    "start_time": "2023-05-27T16:02:20.713Z"
   },
   {
    "duration": 12,
    "start_time": "2023-05-27T16:02:28.791Z"
   },
   {
    "duration": 19,
    "start_time": "2023-05-27T16:02:32.446Z"
   },
   {
    "duration": 60,
    "start_time": "2023-05-28T03:28:37.842Z"
   },
   {
    "duration": 546,
    "start_time": "2023-05-28T03:28:43.871Z"
   },
   {
    "duration": 26,
    "start_time": "2023-05-28T03:28:47.139Z"
   },
   {
    "duration": 7,
    "start_time": "2023-05-28T03:28:49.896Z"
   },
   {
    "duration": 20,
    "start_time": "2023-05-28T03:28:56.761Z"
   },
   {
    "duration": 7,
    "start_time": "2023-05-28T03:28:59.033Z"
   },
   {
    "duration": 23,
    "start_time": "2023-05-28T03:29:00.873Z"
   },
   {
    "duration": 16,
    "start_time": "2023-05-28T03:29:09.374Z"
   },
   {
    "duration": 7,
    "start_time": "2023-05-28T03:29:46.871Z"
   },
   {
    "duration": 397,
    "start_time": "2023-05-28T03:31:40.887Z"
   },
   {
    "duration": 19,
    "start_time": "2023-05-28T03:31:41.286Z"
   },
   {
    "duration": 6,
    "start_time": "2023-05-28T03:31:41.307Z"
   },
   {
    "duration": 16,
    "start_time": "2023-05-28T03:31:41.315Z"
   },
   {
    "duration": 20,
    "start_time": "2023-05-28T03:31:41.333Z"
   },
   {
    "duration": 7,
    "start_time": "2023-05-28T03:31:41.355Z"
   },
   {
    "duration": 8,
    "start_time": "2023-05-28T03:31:41.363Z"
   },
   {
    "duration": 6,
    "start_time": "2023-05-28T03:31:41.372Z"
   },
   {
    "duration": 65,
    "start_time": "2023-05-28T03:31:49.841Z"
   },
   {
    "duration": 14,
    "start_time": "2023-05-28T03:32:06.106Z"
   },
   {
    "duration": 2,
    "start_time": "2023-05-28T03:32:54.860Z"
   },
   {
    "duration": 14,
    "start_time": "2023-05-28T03:33:12.923Z"
   },
   {
    "duration": 13,
    "start_time": "2023-05-28T03:34:30.251Z"
   },
   {
    "duration": 17,
    "start_time": "2023-05-28T03:34:50.031Z"
   },
   {
    "duration": 437,
    "start_time": "2023-05-28T03:35:01.189Z"
   },
   {
    "duration": 25,
    "start_time": "2023-05-28T03:35:01.628Z"
   },
   {
    "duration": 34,
    "start_time": "2023-05-28T03:35:01.655Z"
   },
   {
    "duration": 32,
    "start_time": "2023-05-28T03:35:01.692Z"
   },
   {
    "duration": 57,
    "start_time": "2023-05-28T03:35:01.726Z"
   },
   {
    "duration": 55,
    "start_time": "2023-05-28T03:35:01.784Z"
   },
   {
    "duration": 46,
    "start_time": "2023-05-28T03:35:01.842Z"
   },
   {
    "duration": 48,
    "start_time": "2023-05-28T03:35:01.890Z"
   },
   {
    "duration": 2384,
    "start_time": "2023-05-28T03:35:01.940Z"
   },
   {
    "duration": 791,
    "start_time": "2023-05-28T03:41:23.210Z"
   },
   {
    "duration": 20,
    "start_time": "2023-05-28T03:42:34.648Z"
   },
   {
    "duration": 18,
    "start_time": "2023-05-28T03:42:44.273Z"
   },
   {
    "duration": 11,
    "start_time": "2023-05-28T03:42:51.269Z"
   },
   {
    "duration": 14,
    "start_time": "2023-05-28T05:02:17.096Z"
   },
   {
    "duration": 27,
    "start_time": "2023-05-28T05:02:28.075Z"
   },
   {
    "duration": 41,
    "start_time": "2023-05-28T05:02:33.189Z"
   },
   {
    "duration": 19,
    "start_time": "2023-05-28T05:03:06.070Z"
   },
   {
    "duration": 22,
    "start_time": "2023-05-28T05:19:44.096Z"
   },
   {
    "duration": 9,
    "start_time": "2023-05-28T05:20:02.475Z"
   },
   {
    "duration": 8,
    "start_time": "2023-05-28T05:24:45.125Z"
   },
   {
    "duration": 8,
    "start_time": "2023-05-28T05:25:41.190Z"
   },
   {
    "duration": 36,
    "start_time": "2023-05-28T05:44:52.664Z"
   },
   {
    "duration": 613,
    "start_time": "2023-05-28T05:45:06.450Z"
   },
   {
    "duration": 396,
    "start_time": "2023-05-28T05:45:29.361Z"
   },
   {
    "duration": 4,
    "start_time": "2023-05-28T05:45:46.494Z"
   },
   {
    "duration": 14,
    "start_time": "2023-05-28T05:45:59.238Z"
   },
   {
    "duration": 10,
    "start_time": "2023-05-28T05:46:06.861Z"
   },
   {
    "duration": 5,
    "start_time": "2023-05-28T05:46:13.309Z"
   },
   {
    "duration": 13,
    "start_time": "2023-05-28T05:46:50.121Z"
   },
   {
    "duration": 5,
    "start_time": "2023-05-28T05:47:20.765Z"
   },
   {
    "duration": 9,
    "start_time": "2023-05-28T06:05:27.139Z"
   },
   {
    "duration": 635,
    "start_time": "2023-05-28T06:23:45.536Z"
   },
   {
    "duration": 138,
    "start_time": "2023-05-28T06:26:04.774Z"
   },
   {
    "duration": 140,
    "start_time": "2023-05-28T06:26:18.621Z"
   },
   {
    "duration": 176,
    "start_time": "2023-05-28T06:26:27.234Z"
   },
   {
    "duration": 319,
    "start_time": "2023-05-28T07:03:20.298Z"
   },
   {
    "duration": 280,
    "start_time": "2023-05-28T07:06:00.486Z"
   },
   {
    "duration": 18,
    "start_time": "2023-05-28T07:06:18.373Z"
   },
   {
    "duration": 11,
    "start_time": "2023-05-28T07:22:18.782Z"
   },
   {
    "duration": 460,
    "start_time": "2023-05-28T07:22:21.510Z"
   },
   {
    "duration": 8,
    "start_time": "2023-05-28T07:22:23.884Z"
   },
   {
    "duration": 18,
    "start_time": "2023-05-28T07:22:27.377Z"
   },
   {
    "duration": 456,
    "start_time": "2023-05-28T07:23:32.691Z"
   },
   {
    "duration": 178,
    "start_time": "2023-05-28T08:51:02.986Z"
   },
   {
    "duration": 261,
    "start_time": "2023-05-28T08:51:05.410Z"
   },
   {
    "duration": 6,
    "start_time": "2023-05-28T08:51:07.098Z"
   },
   {
    "duration": 484,
    "start_time": "2023-05-29T03:26:26.799Z"
   },
   {
    "duration": 18,
    "start_time": "2023-05-29T03:26:27.285Z"
   },
   {
    "duration": 7,
    "start_time": "2023-05-29T03:26:27.304Z"
   },
   {
    "duration": 18,
    "start_time": "2023-05-29T03:26:27.313Z"
   },
   {
    "duration": 22,
    "start_time": "2023-05-29T03:26:27.332Z"
   },
   {
    "duration": 5,
    "start_time": "2023-05-29T03:26:27.355Z"
   },
   {
    "duration": 29,
    "start_time": "2023-05-29T03:26:27.362Z"
   },
   {
    "duration": 14,
    "start_time": "2023-05-29T03:26:27.392Z"
   },
   {
    "duration": 656,
    "start_time": "2023-05-29T03:26:27.407Z"
   },
   {
    "duration": 20,
    "start_time": "2023-05-29T03:26:28.065Z"
   },
   {
    "duration": 101,
    "start_time": "2023-05-29T03:26:28.087Z"
   },
   {
    "duration": 5,
    "start_time": "2023-05-29T03:26:28.190Z"
   },
   {
    "duration": 192,
    "start_time": "2023-05-29T03:26:28.196Z"
   },
   {
    "duration": 295,
    "start_time": "2023-05-29T03:26:28.390Z"
   },
   {
    "duration": 102,
    "start_time": "2023-05-29T03:26:28.687Z"
   },
   {
    "duration": 102,
    "start_time": "2023-05-29T03:29:05.221Z"
   },
   {
    "duration": 4,
    "start_time": "2023-05-29T03:30:46.853Z"
   },
   {
    "duration": 11,
    "start_time": "2023-05-29T03:31:20.413Z"
   },
   {
    "duration": 7,
    "start_time": "2023-05-29T03:31:59.553Z"
   },
   {
    "duration": 10,
    "start_time": "2023-05-29T03:32:05.476Z"
   },
   {
    "duration": 4,
    "start_time": "2023-05-29T03:32:09.456Z"
   },
   {
    "duration": 7,
    "start_time": "2023-05-29T03:32:29.476Z"
   },
   {
    "duration": 11,
    "start_time": "2023-05-29T03:32:40.082Z"
   },
   {
    "duration": 6,
    "start_time": "2023-05-29T03:34:06.758Z"
   },
   {
    "duration": 6,
    "start_time": "2023-05-29T03:34:10.707Z"
   },
   {
    "duration": 7,
    "start_time": "2023-05-29T03:34:40.176Z"
   },
   {
    "duration": 8,
    "start_time": "2023-05-29T03:47:26.039Z"
   },
   {
    "duration": 7,
    "start_time": "2023-05-29T03:47:41.312Z"
   },
   {
    "duration": 5,
    "start_time": "2023-05-29T03:49:58.498Z"
   },
   {
    "duration": 5,
    "start_time": "2023-05-29T03:50:39.561Z"
   },
   {
    "duration": 10,
    "start_time": "2023-05-29T03:54:50.149Z"
   },
   {
    "duration": 3,
    "start_time": "2023-05-29T03:54:56.902Z"
   },
   {
    "duration": 7,
    "start_time": "2023-05-29T03:55:01.249Z"
   },
   {
    "duration": 3,
    "start_time": "2023-05-29T03:55:13.405Z"
   },
   {
    "duration": 7,
    "start_time": "2023-05-29T03:55:15.329Z"
   },
   {
    "duration": 9,
    "start_time": "2023-05-29T03:55:30.444Z"
   },
   {
    "duration": 3,
    "start_time": "2023-05-29T03:55:55.193Z"
   },
   {
    "duration": 14,
    "start_time": "2023-05-29T03:55:57.848Z"
   },
   {
    "duration": 3,
    "start_time": "2023-05-29T03:56:08.148Z"
   },
   {
    "duration": 8,
    "start_time": "2023-05-29T03:56:14.816Z"
   },
   {
    "duration": 4,
    "start_time": "2023-05-29T03:57:03.083Z"
   },
   {
    "duration": 8,
    "start_time": "2023-05-29T03:57:05.286Z"
   },
   {
    "duration": 3,
    "start_time": "2023-05-29T03:57:11.857Z"
   },
   {
    "duration": 7,
    "start_time": "2023-05-29T03:57:15.239Z"
   },
   {
    "duration": 7,
    "start_time": "2023-05-29T03:57:23.870Z"
   },
   {
    "duration": 4,
    "start_time": "2023-05-29T03:59:11.792Z"
   },
   {
    "duration": 17,
    "start_time": "2023-05-29T03:59:14.545Z"
   },
   {
    "duration": 4,
    "start_time": "2023-05-29T03:59:52.894Z"
   },
   {
    "duration": 18,
    "start_time": "2023-05-29T03:59:55.737Z"
   },
   {
    "duration": 4,
    "start_time": "2023-05-29T04:01:28.462Z"
   },
   {
    "duration": 21,
    "start_time": "2023-05-29T04:01:31.870Z"
   },
   {
    "duration": 13,
    "start_time": "2023-05-29T04:02:25.648Z"
   },
   {
    "duration": 4,
    "start_time": "2023-05-29T04:02:41.069Z"
   },
   {
    "duration": 6,
    "start_time": "2023-05-29T04:02:46.758Z"
   },
   {
    "duration": 11,
    "start_time": "2023-05-29T04:02:48.769Z"
   },
   {
    "duration": 459,
    "start_time": "2023-05-29T04:02:54.255Z"
   },
   {
    "duration": 17,
    "start_time": "2023-05-29T04:02:54.716Z"
   },
   {
    "duration": 6,
    "start_time": "2023-05-29T04:02:54.734Z"
   },
   {
    "duration": 4,
    "start_time": "2023-05-29T04:02:54.741Z"
   },
   {
    "duration": 17,
    "start_time": "2023-05-29T04:02:54.746Z"
   },
   {
    "duration": 21,
    "start_time": "2023-05-29T04:02:54.765Z"
   },
   {
    "duration": 9,
    "start_time": "2023-05-29T04:02:54.787Z"
   },
   {
    "duration": 19,
    "start_time": "2023-05-29T04:02:54.797Z"
   },
   {
    "duration": 631,
    "start_time": "2023-05-29T04:02:54.818Z"
   },
   {
    "duration": 21,
    "start_time": "2023-05-29T04:02:55.452Z"
   },
   {
    "duration": 111,
    "start_time": "2023-05-29T04:02:55.474Z"
   },
   {
    "duration": 96,
    "start_time": "2023-05-29T04:02:55.591Z"
   },
   {
    "duration": 11,
    "start_time": "2023-05-29T04:02:55.689Z"
   },
   {
    "duration": 299,
    "start_time": "2023-05-29T04:02:55.786Z"
   },
   {
    "duration": 100,
    "start_time": "2023-05-29T04:02:56.087Z"
   },
   {
    "duration": 24,
    "start_time": "2023-05-29T04:02:56.188Z"
   },
   {
    "duration": 38,
    "start_time": "2023-05-29T04:03:18.450Z"
   },
   {
    "duration": 7,
    "start_time": "2023-05-29T04:03:40.866Z"
   },
   {
    "duration": 95,
    "start_time": "2023-05-29T04:03:44.397Z"
   },
   {
    "duration": 10,
    "start_time": "2023-05-29T04:03:57.945Z"
   },
   {
    "duration": 6,
    "start_time": "2023-05-29T04:04:04.547Z"
   },
   {
    "duration": 77,
    "start_time": "2023-05-29T04:06:54.914Z"
   },
   {
    "duration": 6,
    "start_time": "2023-05-29T04:06:56.966Z"
   },
   {
    "duration": 11,
    "start_time": "2023-05-29T04:06:58.750Z"
   },
   {
    "duration": 73,
    "start_time": "2023-05-29T04:07:03.719Z"
   },
   {
    "duration": 10,
    "start_time": "2023-05-29T04:07:54.565Z"
   },
   {
    "duration": 8,
    "start_time": "2023-05-29T04:14:44.945Z"
   },
   {
    "duration": 10,
    "start_time": "2023-05-29T04:14:59.646Z"
   },
   {
    "duration": 394,
    "start_time": "2023-05-29T04:15:06.417Z"
   },
   {
    "duration": 16,
    "start_time": "2023-05-29T04:15:06.812Z"
   },
   {
    "duration": 6,
    "start_time": "2023-05-29T04:15:06.830Z"
   },
   {
    "duration": 2,
    "start_time": "2023-05-29T04:15:06.837Z"
   },
   {
    "duration": 18,
    "start_time": "2023-05-29T04:15:06.840Z"
   },
   {
    "duration": 5,
    "start_time": "2023-05-29T04:15:06.859Z"
   },
   {
    "duration": 20,
    "start_time": "2023-05-29T04:15:06.865Z"
   },
   {
    "duration": 12,
    "start_time": "2023-05-29T04:15:06.887Z"
   },
   {
    "duration": 633,
    "start_time": "2023-05-29T04:15:06.901Z"
   },
   {
    "duration": 17,
    "start_time": "2023-05-29T04:15:07.537Z"
   },
   {
    "duration": 130,
    "start_time": "2023-05-29T04:15:07.555Z"
   },
   {
    "duration": 5,
    "start_time": "2023-05-29T04:15:07.687Z"
   },
   {
    "duration": 103,
    "start_time": "2023-05-29T04:15:07.693Z"
   },
   {
    "duration": 289,
    "start_time": "2023-05-29T04:15:07.798Z"
   },
   {
    "duration": 99,
    "start_time": "2023-05-29T04:15:08.091Z"
   },
   {
    "duration": 13,
    "start_time": "2023-05-29T04:15:08.191Z"
   },
   {
    "duration": 10,
    "start_time": "2023-05-29T04:15:08.205Z"
   },
   {
    "duration": 33,
    "start_time": "2023-05-29T04:17:39.460Z"
   },
   {
    "duration": 9,
    "start_time": "2023-05-29T04:17:41.469Z"
   },
   {
    "duration": 6,
    "start_time": "2023-05-29T04:37:40.394Z"
   },
   {
    "duration": 5,
    "start_time": "2023-05-29T04:38:25.307Z"
   },
   {
    "duration": 809,
    "start_time": "2023-05-29T04:39:14.593Z"
   },
   {
    "duration": 47,
    "start_time": "2023-05-29T04:39:23.503Z"
   },
   {
    "duration": 14,
    "start_time": "2023-05-29T04:39:25.960Z"
   },
   {
    "duration": 4,
    "start_time": "2023-05-29T04:39:33.886Z"
   },
   {
    "duration": 52,
    "start_time": "2023-05-29T04:53:03.175Z"
   },
   {
    "duration": 10,
    "start_time": "2023-05-29T04:55:28.155Z"
   },
   {
    "duration": 12,
    "start_time": "2023-05-29T04:55:34.655Z"
   },
   {
    "duration": 10,
    "start_time": "2023-05-29T04:55:41.993Z"
   },
   {
    "duration": 5,
    "start_time": "2023-05-29T05:22:52.913Z"
   },
   {
    "duration": 10,
    "start_time": "2023-05-29T05:27:02.874Z"
   },
   {
    "duration": 10,
    "start_time": "2023-05-29T05:27:48.556Z"
   },
   {
    "duration": 21,
    "start_time": "2023-05-29T05:27:58.457Z"
   },
   {
    "duration": 1293,
    "start_time": "2023-05-29T05:30:00.776Z"
   },
   {
    "duration": 454,
    "start_time": "2023-05-29T05:30:13.160Z"
   },
   {
    "duration": 418,
    "start_time": "2023-05-29T05:30:20.793Z"
   },
   {
    "duration": 480,
    "start_time": "2023-05-29T05:56:46.930Z"
   },
   {
    "duration": 623,
    "start_time": "2023-05-29T05:57:29.885Z"
   },
   {
    "duration": 55,
    "start_time": "2023-05-29T06:56:48.237Z"
   },
   {
    "duration": 3,
    "start_time": "2023-05-29T06:56:57.119Z"
   },
   {
    "duration": 33,
    "start_time": "2023-05-29T06:56:59.024Z"
   },
   {
    "duration": 3,
    "start_time": "2023-05-29T06:57:16.785Z"
   },
   {
    "duration": 24,
    "start_time": "2023-05-29T06:57:19.985Z"
   },
   {
    "duration": 54,
    "start_time": "2023-05-29T06:57:32.316Z"
   },
   {
    "duration": 6,
    "start_time": "2023-05-29T06:57:36.616Z"
   },
   {
    "duration": 22,
    "start_time": "2023-05-29T06:57:38.513Z"
   },
   {
    "duration": 26,
    "start_time": "2023-05-29T06:58:08.433Z"
   },
   {
    "duration": 4,
    "start_time": "2023-05-29T06:58:17.423Z"
   },
   {
    "duration": 13,
    "start_time": "2023-05-29T06:58:19.324Z"
   },
   {
    "duration": 12,
    "start_time": "2023-05-29T06:58:37.709Z"
   },
   {
    "duration": 3,
    "start_time": "2023-05-29T06:58:47.823Z"
   },
   {
    "duration": 12,
    "start_time": "2023-05-29T06:58:49.844Z"
   },
   {
    "duration": 68,
    "start_time": "2023-05-29T06:58:55.464Z"
   },
   {
    "duration": 4,
    "start_time": "2023-05-29T06:58:59.343Z"
   },
   {
    "duration": 16,
    "start_time": "2023-05-29T06:59:02.345Z"
   },
   {
    "duration": 3,
    "start_time": "2023-05-29T06:59:11.534Z"
   },
   {
    "duration": 22,
    "start_time": "2023-05-29T06:59:13.280Z"
   },
   {
    "duration": 767,
    "start_time": "2023-05-29T06:59:47.710Z"
   },
   {
    "duration": 4,
    "start_time": "2023-05-29T07:00:29.864Z"
   },
   {
    "duration": 16,
    "start_time": "2023-05-29T07:00:31.918Z"
   },
   {
    "duration": 4,
    "start_time": "2023-05-29T07:01:15.013Z"
   },
   {
    "duration": 13,
    "start_time": "2023-05-29T07:01:16.932Z"
   },
   {
    "duration": 51,
    "start_time": "2023-05-29T07:01:40.903Z"
   },
   {
    "duration": 3,
    "start_time": "2023-05-29T07:01:45.313Z"
   },
   {
    "duration": 713,
    "start_time": "2023-05-29T07:01:47.144Z"
   },
   {
    "duration": 4,
    "start_time": "2023-05-29T07:02:21.887Z"
   },
   {
    "duration": 3,
    "start_time": "2023-05-29T07:02:34.176Z"
   },
   {
    "duration": 67,
    "start_time": "2023-05-29T07:03:24.950Z"
   },
   {
    "duration": 52,
    "start_time": "2023-05-29T07:03:38.845Z"
   },
   {
    "duration": 2,
    "start_time": "2023-05-29T07:03:42.113Z"
   },
   {
    "duration": 4,
    "start_time": "2023-05-29T07:03:59.128Z"
   },
   {
    "duration": 17,
    "start_time": "2023-05-29T07:04:02.507Z"
   },
   {
    "duration": 4,
    "start_time": "2023-05-29T07:05:23.225Z"
   },
   {
    "duration": 4,
    "start_time": "2023-05-29T07:05:34.199Z"
   },
   {
    "duration": 64,
    "start_time": "2023-05-29T07:05:56.119Z"
   },
   {
    "duration": 4,
    "start_time": "2023-05-29T07:05:56.187Z"
   },
   {
    "duration": 23,
    "start_time": "2023-05-29T07:05:56.193Z"
   },
   {
    "duration": 21,
    "start_time": "2023-05-29T07:05:56.218Z"
   },
   {
    "duration": 9,
    "start_time": "2023-05-29T07:05:56.241Z"
   },
   {
    "duration": 27,
    "start_time": "2023-05-29T07:05:56.251Z"
   },
   {
    "duration": 14,
    "start_time": "2023-05-29T07:06:51.686Z"
   },
   {
    "duration": 11,
    "start_time": "2023-05-29T07:07:09.921Z"
   },
   {
    "duration": 4,
    "start_time": "2023-05-29T07:07:19.478Z"
   },
   {
    "duration": 57,
    "start_time": "2023-05-29T07:58:32.037Z"
   },
   {
    "duration": 4,
    "start_time": "2023-05-29T07:58:32.096Z"
   },
   {
    "duration": 44,
    "start_time": "2023-05-29T07:58:32.101Z"
   },
   {
    "duration": 24,
    "start_time": "2023-05-29T07:58:32.147Z"
   },
   {
    "duration": 51,
    "start_time": "2023-05-29T07:58:32.173Z"
   },
   {
    "duration": 53,
    "start_time": "2023-05-29T07:58:32.225Z"
   },
   {
    "duration": 51,
    "start_time": "2023-05-29T07:58:32.280Z"
   },
   {
    "duration": 56,
    "start_time": "2023-05-29T07:58:32.333Z"
   },
   {
    "duration": 70,
    "start_time": "2023-05-29T07:58:32.390Z"
   },
   {
    "duration": 487,
    "start_time": "2023-05-29T07:59:51.836Z"
   },
   {
    "duration": 2265,
    "start_time": "2023-05-29T08:00:42.440Z"
   },
   {
    "duration": 2172,
    "start_time": "2023-05-29T08:00:45.214Z"
   },
   {
    "duration": 4,
    "start_time": "2023-05-29T08:00:59.736Z"
   },
   {
    "duration": 27,
    "start_time": "2023-05-29T08:08:44.221Z"
   },
   {
    "duration": 8,
    "start_time": "2023-05-29T08:22:57.127Z"
   },
   {
    "duration": 174,
    "start_time": "2023-05-29T08:23:25.113Z"
   },
   {
    "duration": 10,
    "start_time": "2023-05-29T08:23:32.820Z"
   },
   {
    "duration": 170,
    "start_time": "2023-05-29T08:23:58.815Z"
   },
   {
    "duration": 115,
    "start_time": "2023-05-29T08:24:20.269Z"
   },
   {
    "duration": 70,
    "start_time": "2023-05-29T08:24:30.620Z"
   },
   {
    "duration": 72,
    "start_time": "2023-05-29T08:25:09.015Z"
   },
   {
    "duration": 74,
    "start_time": "2023-05-29T08:25:18.816Z"
   },
   {
    "duration": 4,
    "start_time": "2023-05-29T08:26:29.761Z"
   },
   {
    "duration": 8,
    "start_time": "2023-05-29T08:26:32.165Z"
   },
   {
    "duration": 9,
    "start_time": "2023-05-29T08:27:16.328Z"
   },
   {
    "duration": 26,
    "start_time": "2023-05-29T08:27:18.964Z"
   },
   {
    "duration": 26,
    "start_time": "2023-05-29T08:27:51.968Z"
   },
   {
    "duration": 8,
    "start_time": "2023-05-29T08:27:54.195Z"
   },
   {
    "duration": 4,
    "start_time": "2023-05-29T08:36:50.191Z"
   },
   {
    "duration": 160,
    "start_time": "2023-05-29T08:37:08.631Z"
   },
   {
    "duration": 66,
    "start_time": "2023-05-29T08:37:22.226Z"
   },
   {
    "duration": 68,
    "start_time": "2023-05-29T08:37:36.434Z"
   },
   {
    "duration": 5,
    "start_time": "2023-05-29T08:37:36.504Z"
   },
   {
    "duration": 34,
    "start_time": "2023-05-29T08:37:36.510Z"
   },
   {
    "duration": 5,
    "start_time": "2023-05-29T08:37:36.592Z"
   },
   {
    "duration": 19,
    "start_time": "2023-05-29T08:37:36.599Z"
   },
   {
    "duration": 33,
    "start_time": "2023-05-29T08:37:36.619Z"
   },
   {
    "duration": 6,
    "start_time": "2023-05-29T08:37:36.653Z"
   },
   {
    "duration": 31,
    "start_time": "2023-05-29T08:37:36.661Z"
   },
   {
    "duration": 36,
    "start_time": "2023-05-29T08:37:36.694Z"
   },
   {
    "duration": 450,
    "start_time": "2023-05-29T08:37:36.732Z"
   },
   {
    "duration": 14,
    "start_time": "2023-05-29T08:37:37.184Z"
   },
   {
    "duration": 11,
    "start_time": "2023-05-29T08:37:37.200Z"
   },
   {
    "duration": 176,
    "start_time": "2023-05-29T08:37:37.212Z"
   },
   {
    "duration": 99,
    "start_time": "2023-05-29T08:37:37.390Z"
   },
   {
    "duration": 81,
    "start_time": "2023-05-29T08:37:41.207Z"
   },
   {
    "duration": 4,
    "start_time": "2023-05-29T08:37:46.426Z"
   },
   {
    "duration": 8,
    "start_time": "2023-05-29T08:37:49.123Z"
   },
   {
    "duration": 10,
    "start_time": "2023-05-29T08:37:52.391Z"
   },
   {
    "duration": 158,
    "start_time": "2023-05-29T08:37:54.628Z"
   },
   {
    "duration": 170,
    "start_time": "2023-05-29T08:38:13.016Z"
   },
   {
    "duration": 186,
    "start_time": "2023-05-29T08:38:24.399Z"
   },
   {
    "duration": 52,
    "start_time": "2023-05-29T08:43:16.719Z"
   },
   {
    "duration": 3,
    "start_time": "2023-05-29T08:43:16.772Z"
   },
   {
    "duration": 35,
    "start_time": "2023-05-29T08:43:16.776Z"
   },
   {
    "duration": 19,
    "start_time": "2023-05-29T08:43:16.812Z"
   },
   {
    "duration": 6,
    "start_time": "2023-05-29T08:43:16.833Z"
   },
   {
    "duration": 37,
    "start_time": "2023-05-29T08:43:16.841Z"
   },
   {
    "duration": 3,
    "start_time": "2023-05-29T08:43:16.880Z"
   },
   {
    "duration": 10,
    "start_time": "2023-05-29T08:43:16.885Z"
   },
   {
    "duration": 16,
    "start_time": "2023-05-29T08:43:16.896Z"
   },
   {
    "duration": 440,
    "start_time": "2023-05-29T08:43:16.914Z"
   },
   {
    "duration": 14,
    "start_time": "2023-05-29T08:43:17.355Z"
   },
   {
    "duration": 5,
    "start_time": "2023-05-29T08:43:17.371Z"
   },
   {
    "duration": 64,
    "start_time": "2023-05-29T08:43:20.524Z"
   },
   {
    "duration": 194,
    "start_time": "2023-05-29T08:43:26.791Z"
   },
   {
    "duration": 56,
    "start_time": "2023-05-29T09:00:18.859Z"
   },
   {
    "duration": 5,
    "start_time": "2023-05-29T09:00:18.917Z"
   },
   {
    "duration": 27,
    "start_time": "2023-05-29T09:00:18.923Z"
   },
   {
    "duration": 7,
    "start_time": "2023-05-29T09:00:18.952Z"
   },
   {
    "duration": 23,
    "start_time": "2023-05-29T09:00:18.961Z"
   },
   {
    "duration": 42,
    "start_time": "2023-05-29T09:00:18.985Z"
   },
   {
    "duration": 5,
    "start_time": "2023-05-29T09:00:19.028Z"
   },
   {
    "duration": 14,
    "start_time": "2023-05-29T09:00:19.035Z"
   },
   {
    "duration": 127,
    "start_time": "2023-05-29T09:00:19.051Z"
   },
   {
    "duration": 506,
    "start_time": "2023-05-29T09:00:19.180Z"
   },
   {
    "duration": 17,
    "start_time": "2023-05-29T09:00:19.688Z"
   },
   {
    "duration": 20,
    "start_time": "2023-05-29T09:00:27.099Z"
   },
   {
    "duration": 973,
    "start_time": "2023-05-29T09:00:38.318Z"
   },
   {
    "duration": 301,
    "start_time": "2023-05-29T09:01:20.086Z"
   },
   {
    "duration": 1073,
    "start_time": "2023-05-29T09:01:25.718Z"
   },
   {
    "duration": 228,
    "start_time": "2023-05-29T09:05:21.257Z"
   },
   {
    "duration": 702,
    "start_time": "2023-05-29T09:14:11.283Z"
   },
   {
    "duration": 600,
    "start_time": "2023-05-29T09:29:50.008Z"
   },
   {
    "duration": 441,
    "start_time": "2023-05-29T09:30:03.360Z"
   },
   {
    "duration": 202,
    "start_time": "2023-05-29T09:33:17.519Z"
   },
   {
    "duration": 5,
    "start_time": "2023-05-29T09:33:22.499Z"
   },
   {
    "duration": 188,
    "start_time": "2023-05-29T09:33:24.310Z"
   },
   {
    "duration": 373,
    "start_time": "2023-05-29T09:33:36.527Z"
   },
   {
    "duration": 255,
    "start_time": "2023-05-29T09:45:50.299Z"
   },
   {
    "duration": 325,
    "start_time": "2023-05-29T09:46:52.162Z"
   },
   {
    "duration": 336,
    "start_time": "2023-05-29T09:54:35.298Z"
   },
   {
    "duration": 20,
    "start_time": "2023-05-29T09:55:02.575Z"
   },
   {
    "duration": 347,
    "start_time": "2023-05-29T09:55:10.415Z"
   },
   {
    "duration": 25,
    "start_time": "2023-05-29T09:55:13.603Z"
   },
   {
    "duration": 12,
    "start_time": "2023-05-29T09:55:26.810Z"
   },
   {
    "duration": 490,
    "start_time": "2023-05-29T10:13:14.301Z"
   },
   {
    "duration": 283,
    "start_time": "2023-05-29T10:15:05.114Z"
   },
   {
    "duration": 390,
    "start_time": "2023-05-29T10:15:25.639Z"
   },
   {
    "duration": 16,
    "start_time": "2023-05-29T10:40:34.513Z"
   },
   {
    "duration": 5,
    "start_time": "2023-05-29T10:40:38.952Z"
   },
   {
    "duration": 15,
    "start_time": "2023-05-29T10:40:41.102Z"
   },
   {
    "duration": 6,
    "start_time": "2023-05-29T10:41:06.511Z"
   },
   {
    "duration": 10,
    "start_time": "2023-05-29T10:41:08.894Z"
   },
   {
    "duration": 282,
    "start_time": "2023-05-29T10:41:54.406Z"
   },
   {
    "duration": 339,
    "start_time": "2023-05-29T10:42:08.551Z"
   },
   {
    "duration": 10,
    "start_time": "2023-05-29T10:42:29.555Z"
   },
   {
    "duration": 298,
    "start_time": "2023-05-29T10:42:53.690Z"
   },
   {
    "duration": 265,
    "start_time": "2023-05-29T10:43:34.723Z"
   },
   {
    "duration": 9,
    "start_time": "2023-05-29T10:44:24.422Z"
   },
   {
    "duration": 5,
    "start_time": "2023-05-29T10:44:25.890Z"
   },
   {
    "duration": 13,
    "start_time": "2023-05-29T10:44:27.294Z"
   },
   {
    "duration": 4,
    "start_time": "2023-05-29T10:44:33.682Z"
   },
   {
    "duration": 10,
    "start_time": "2023-05-29T10:44:35.614Z"
   },
   {
    "duration": 10,
    "start_time": "2023-05-29T10:44:54.215Z"
   },
   {
    "duration": 9,
    "start_time": "2023-05-29T10:45:00.727Z"
   },
   {
    "duration": 5,
    "start_time": "2023-05-29T10:45:31.853Z"
   },
   {
    "duration": 5,
    "start_time": "2023-05-29T10:45:42.306Z"
   },
   {
    "duration": 5,
    "start_time": "2023-05-29T10:45:52.354Z"
   },
   {
    "duration": 4,
    "start_time": "2023-05-29T10:49:32.661Z"
   },
   {
    "duration": 331,
    "start_time": "2023-05-29T10:51:18.055Z"
   },
   {
    "duration": 8,
    "start_time": "2023-05-29T11:13:04.800Z"
   },
   {
    "duration": 28,
    "start_time": "2023-05-29T11:14:08.002Z"
   },
   {
    "duration": 150,
    "start_time": "2023-05-29T11:14:15.382Z"
   },
   {
    "duration": 199,
    "start_time": "2023-05-29T11:14:36.192Z"
   },
   {
    "duration": 150,
    "start_time": "2023-05-29T11:14:52.124Z"
   },
   {
    "duration": 175,
    "start_time": "2023-05-29T11:15:01.717Z"
   },
   {
    "duration": 7,
    "start_time": "2023-05-29T11:15:16.892Z"
   },
   {
    "duration": 60,
    "start_time": "2023-05-29T11:15:52.699Z"
   },
   {
    "duration": 118,
    "start_time": "2023-05-29T11:16:54.860Z"
   },
   {
    "duration": 119,
    "start_time": "2023-05-29T11:17:13.602Z"
   },
   {
    "duration": 114,
    "start_time": "2023-05-29T11:18:12.846Z"
   },
   {
    "duration": 209,
    "start_time": "2023-05-29T11:18:40.548Z"
   },
   {
    "duration": 176,
    "start_time": "2023-05-29T11:18:45.933Z"
   },
   {
    "duration": 132,
    "start_time": "2023-05-29T11:19:09.016Z"
   },
   {
    "duration": 113,
    "start_time": "2023-05-29T11:19:14.752Z"
   },
   {
    "duration": 118,
    "start_time": "2023-05-29T11:19:19.896Z"
   },
   {
    "duration": 116,
    "start_time": "2023-05-29T11:19:40.223Z"
   },
   {
    "duration": 105,
    "start_time": "2023-05-29T11:19:54.916Z"
   },
   {
    "duration": 5,
    "start_time": "2023-05-29T11:29:24.316Z"
   },
   {
    "duration": 10,
    "start_time": "2023-05-29T11:29:34.130Z"
   },
   {
    "duration": 8,
    "start_time": "2023-05-29T11:29:37.672Z"
   },
   {
    "duration": 55,
    "start_time": "2023-05-29T11:31:48.101Z"
   },
   {
    "duration": 395,
    "start_time": "2023-05-29T11:32:22.927Z"
   },
   {
    "duration": 204,
    "start_time": "2023-05-29T11:32:27.149Z"
   },
   {
    "duration": 11,
    "start_time": "2023-05-29T11:33:41.187Z"
   },
   {
    "duration": 150,
    "start_time": "2023-05-29T11:33:45.780Z"
   },
   {
    "duration": 192,
    "start_time": "2023-05-29T11:34:06.029Z"
   },
   {
    "duration": 11,
    "start_time": "2023-05-29T11:34:24.801Z"
   },
   {
    "duration": 8,
    "start_time": "2023-05-29T11:34:26.716Z"
   },
   {
    "duration": 75,
    "start_time": "2023-05-29T11:34:41.107Z"
   },
   {
    "duration": 209,
    "start_time": "2023-05-29T11:34:55.592Z"
   },
   {
    "duration": 3,
    "start_time": "2023-05-29T11:38:05.650Z"
   },
   {
    "duration": 9,
    "start_time": "2023-05-29T11:38:07.185Z"
   },
   {
    "duration": 10,
    "start_time": "2023-05-29T11:38:15.809Z"
   },
   {
    "duration": 3,
    "start_time": "2023-05-29T11:38:22.505Z"
   },
   {
    "duration": 118,
    "start_time": "2023-05-29T11:38:24.116Z"
   },
   {
    "duration": 133,
    "start_time": "2023-05-29T11:38:49.326Z"
   },
   {
    "duration": 261,
    "start_time": "2023-05-29T11:39:06.707Z"
   },
   {
    "duration": 135,
    "start_time": "2023-05-29T11:39:18.796Z"
   },
   {
    "duration": 9,
    "start_time": "2023-05-29T11:39:54.984Z"
   },
   {
    "duration": 174,
    "start_time": "2023-05-29T11:40:02.093Z"
   },
   {
    "duration": 7,
    "start_time": "2023-05-29T11:40:35.342Z"
   },
   {
    "duration": 52,
    "start_time": "2023-05-29T11:40:48.227Z"
   },
   {
    "duration": 177,
    "start_time": "2023-05-29T11:41:26.509Z"
   },
   {
    "duration": 12,
    "start_time": "2023-05-29T11:42:29.424Z"
   },
   {
    "duration": 2062,
    "start_time": "2023-05-29T11:42:36.209Z"
   },
   {
    "duration": 60,
    "start_time": "2023-05-29T11:43:15.409Z"
   },
   {
    "duration": 60,
    "start_time": "2023-05-29T11:43:17.645Z"
   },
   {
    "duration": 3,
    "start_time": "2023-05-29T11:44:44.305Z"
   },
   {
    "duration": 1951,
    "start_time": "2023-05-29T11:44:50.701Z"
   },
   {
    "duration": 4,
    "start_time": "2023-05-29T11:44:59.934Z"
   },
   {
    "duration": 1946,
    "start_time": "2023-05-29T11:45:03.785Z"
   },
   {
    "duration": 4,
    "start_time": "2023-05-29T11:45:58.789Z"
   },
   {
    "duration": 1774,
    "start_time": "2023-05-29T11:46:02.997Z"
   },
   {
    "duration": 1517,
    "start_time": "2023-05-29T11:47:19.371Z"
   },
   {
    "duration": 1485,
    "start_time": "2023-05-29T11:47:31.040Z"
   },
   {
    "duration": 1642,
    "start_time": "2023-05-29T11:47:46.513Z"
   },
   {
    "duration": 1943,
    "start_time": "2023-05-29T11:48:15.801Z"
   },
   {
    "duration": 1693,
    "start_time": "2023-05-29T11:48:22.711Z"
   },
   {
    "duration": 10413,
    "start_time": "2023-05-29T11:48:52.346Z"
   },
   {
    "duration": 1772,
    "start_time": "2023-05-29T11:49:46.081Z"
   },
   {
    "duration": 1674,
    "start_time": "2023-05-29T11:49:57.247Z"
   },
   {
    "duration": 129,
    "start_time": "2023-05-29T11:53:48.757Z"
   },
   {
    "duration": 157,
    "start_time": "2023-05-29T11:53:57.059Z"
   },
   {
    "duration": 33941,
    "start_time": "2023-05-29T11:54:02.610Z"
   },
   {
    "duration": 74470,
    "start_time": "2023-05-29T11:55:05.243Z"
   },
   {
    "duration": 129,
    "start_time": "2023-05-29T11:56:53.844Z"
   },
   {
    "duration": 35875,
    "start_time": "2023-05-29T11:57:07.504Z"
   },
   {
    "duration": 228,
    "start_time": "2023-05-29T11:58:30.011Z"
   },
   {
    "duration": 18732,
    "start_time": "2023-05-29T11:58:36.562Z"
   },
   {
    "duration": 23849,
    "start_time": "2023-05-29T11:59:04.661Z"
   },
   {
    "duration": 119,
    "start_time": "2023-05-29T11:59:42.395Z"
   },
   {
    "duration": 26279,
    "start_time": "2023-05-29T12:00:01.916Z"
   },
   {
    "duration": 9,
    "start_time": "2023-05-29T12:11:25.505Z"
   },
   {
    "duration": 63,
    "start_time": "2023-05-29T12:15:23.600Z"
   },
   {
    "duration": 4,
    "start_time": "2023-05-29T12:15:30.700Z"
   },
   {
    "duration": 4,
    "start_time": "2023-05-29T12:15:41.714Z"
   },
   {
    "duration": 81,
    "start_time": "2023-05-29T12:16:39.971Z"
   },
   {
    "duration": 6100,
    "start_time": "2023-05-29T12:17:00.000Z"
   },
   {
    "duration": 6033,
    "start_time": "2023-05-29T12:20:11.374Z"
   },
   {
    "duration": 28,
    "start_time": "2023-05-29T12:20:28.109Z"
   },
   {
    "duration": 6067,
    "start_time": "2023-05-29T12:20:30.935Z"
   },
   {
    "duration": 6121,
    "start_time": "2023-05-29T12:23:26.202Z"
   },
   {
    "duration": 6965,
    "start_time": "2023-05-29T12:23:46.269Z"
   },
   {
    "duration": 41625,
    "start_time": "2023-05-29T12:24:27.101Z"
   },
   {
    "duration": 7925,
    "start_time": "2023-05-29T12:26:05.107Z"
   },
   {
    "duration": 7386,
    "start_time": "2023-05-29T12:27:14.153Z"
   },
   {
    "duration": 7688,
    "start_time": "2023-05-29T12:27:59.469Z"
   },
   {
    "duration": 999,
    "start_time": "2023-05-29T13:00:41.544Z"
   },
   {
    "duration": 9684,
    "start_time": "2023-05-29T13:01:20.148Z"
   },
   {
    "duration": 10350,
    "start_time": "2023-05-29T13:03:47.714Z"
   },
   {
    "duration": 9484,
    "start_time": "2023-05-29T13:04:24.105Z"
   },
   {
    "duration": 8,
    "start_time": "2023-05-29T13:04:36.838Z"
   },
   {
    "duration": 10,
    "start_time": "2023-05-29T13:07:44.638Z"
   },
   {
    "duration": 11,
    "start_time": "2023-05-29T13:08:09.217Z"
   },
   {
    "duration": 7,
    "start_time": "2023-05-29T13:09:23.566Z"
   },
   {
    "duration": 47,
    "start_time": "2023-05-29T13:16:31.716Z"
   },
   {
    "duration": 50,
    "start_time": "2023-05-29T13:16:44.227Z"
   },
   {
    "duration": 4,
    "start_time": "2023-05-29T13:17:18.114Z"
   },
   {
    "duration": 3,
    "start_time": "2023-05-29T13:17:19.326Z"
   },
   {
    "duration": 47,
    "start_time": "2023-05-29T13:17:21.727Z"
   },
   {
    "duration": 3,
    "start_time": "2023-05-29T13:17:29.700Z"
   },
   {
    "duration": 45,
    "start_time": "2023-05-29T13:17:31.467Z"
   },
   {
    "duration": 54,
    "start_time": "2023-05-29T13:17:36.189Z"
   },
   {
    "duration": 11,
    "start_time": "2023-05-29T13:20:24.120Z"
   },
   {
    "duration": 6,
    "start_time": "2023-05-29T13:20:30.236Z"
   },
   {
    "duration": 9819,
    "start_time": "2023-05-29T13:24:25.692Z"
   },
   {
    "duration": 7,
    "start_time": "2023-05-29T13:24:59.097Z"
   },
   {
    "duration": 8,
    "start_time": "2023-05-29T13:25:06.657Z"
   },
   {
    "duration": 2,
    "start_time": "2023-05-29T13:26:17.087Z"
   },
   {
    "duration": 10199,
    "start_time": "2023-05-29T13:26:40.621Z"
   },
   {
    "duration": 7,
    "start_time": "2023-05-29T13:26:54.082Z"
   },
   {
    "duration": 67,
    "start_time": "2023-05-29T13:28:58.180Z"
   },
   {
    "duration": 87,
    "start_time": "2023-05-29T13:29:31.592Z"
   },
   {
    "duration": 70,
    "start_time": "2023-05-29T13:29:55.354Z"
   },
   {
    "duration": 75,
    "start_time": "2023-05-29T13:30:18.149Z"
   },
   {
    "duration": 5,
    "start_time": "2023-05-29T13:30:47.308Z"
   },
   {
    "duration": 6,
    "start_time": "2023-05-29T13:31:21.196Z"
   },
   {
    "duration": 17455,
    "start_time": "2023-05-29T13:36:55.210Z"
   },
   {
    "duration": 11,
    "start_time": "2023-05-29T13:37:12.679Z"
   },
   {
    "duration": 163613,
    "start_time": "2023-05-29T13:37:42.049Z"
   },
   {
    "duration": 11,
    "start_time": "2023-05-29T13:41:48.926Z"
   },
   {
    "duration": 3059,
    "start_time": "2023-05-29T13:44:25.126Z"
   },
   {
    "duration": 8,
    "start_time": "2023-05-29T13:44:46.655Z"
   },
   {
    "duration": 16992,
    "start_time": "2023-05-29T13:45:06.201Z"
   },
   {
    "duration": 11,
    "start_time": "2023-05-29T13:45:25.893Z"
   },
   {
    "duration": 32,
    "start_time": "2023-05-29T13:45:52.505Z"
   },
   {
    "duration": 6479,
    "start_time": "2023-05-29T13:46:01.444Z"
   },
   {
    "duration": 78180,
    "start_time": "2023-05-29T13:47:01.906Z"
   },
   {
    "duration": 13,
    "start_time": "2023-05-29T13:48:47.512Z"
   },
   {
    "duration": 7334,
    "start_time": "2023-05-29T13:49:20.007Z"
   },
   {
    "duration": 3279,
    "start_time": "2023-05-29T13:49:35.123Z"
   },
   {
    "duration": 9,
    "start_time": "2023-05-29T13:49:41.916Z"
   },
   {
    "duration": 34,
    "start_time": "2023-05-29T13:55:28.359Z"
   },
   {
    "duration": 19,
    "start_time": "2023-05-29T13:55:57.696Z"
   },
   {
    "duration": 25,
    "start_time": "2023-05-29T13:56:04.391Z"
   },
   {
    "duration": 5,
    "start_time": "2023-05-29T14:10:36.330Z"
   },
   {
    "duration": 8,
    "start_time": "2023-05-29T14:11:27.678Z"
   },
   {
    "duration": 8268,
    "start_time": "2023-05-29T14:11:57.499Z"
   },
   {
    "duration": 7,
    "start_time": "2023-05-29T14:12:12.963Z"
   },
   {
    "duration": 114,
    "start_time": "2023-05-29T14:14:25.880Z"
   },
   {
    "duration": 5,
    "start_time": "2023-05-29T14:15:16.374Z"
   },
   {
    "duration": 9,
    "start_time": "2023-05-29T14:15:20.586Z"
   },
   {
    "duration": 86,
    "start_time": "2023-05-29T14:15:24.704Z"
   },
   {
    "duration": 12,
    "start_time": "2023-05-29T14:15:31.294Z"
   },
   {
    "duration": 95,
    "start_time": "2023-05-29T14:15:33.898Z"
   },
   {
    "duration": 10,
    "start_time": "2023-05-29T14:15:38.707Z"
   },
   {
    "duration": 400,
    "start_time": "2023-05-29T14:15:41.396Z"
   },
   {
    "duration": 9,
    "start_time": "2023-05-29T14:15:46.869Z"
   },
   {
    "duration": 71,
    "start_time": "2023-05-29T14:15:49.223Z"
   },
   {
    "duration": 9,
    "start_time": "2023-05-29T14:15:52.654Z"
   },
   {
    "duration": 20,
    "start_time": "2023-05-29T14:15:54.902Z"
   },
   {
    "duration": 6366,
    "start_time": "2023-05-29T14:15:58.145Z"
   },
   {
    "duration": 8,
    "start_time": "2023-05-29T14:16:07.723Z"
   },
   {
    "duration": 7,
    "start_time": "2023-05-29T14:16:49.113Z"
   },
   {
    "duration": 12,
    "start_time": "2023-05-29T14:17:30.380Z"
   },
   {
    "duration": 133,
    "start_time": "2023-05-29T14:17:34.352Z"
   },
   {
    "duration": 9108,
    "start_time": "2023-05-29T14:17:36.789Z"
   },
   {
    "duration": 7,
    "start_time": "2023-05-29T14:17:48.244Z"
   },
   {
    "duration": 10624,
    "start_time": "2023-05-29T14:18:33.522Z"
   },
   {
    "duration": 9,
    "start_time": "2023-05-29T14:18:47.243Z"
   },
   {
    "duration": 9637,
    "start_time": "2023-05-29T14:18:55.780Z"
   },
   {
    "duration": 7,
    "start_time": "2023-05-29T14:19:08.891Z"
   },
   {
    "duration": 11,
    "start_time": "2023-05-29T14:30:55.851Z"
   },
   {
    "duration": 4,
    "start_time": "2023-05-29T14:30:58.725Z"
   },
   {
    "duration": 13,
    "start_time": "2023-05-29T14:31:00.603Z"
   },
   {
    "duration": 5,
    "start_time": "2023-05-29T14:31:23.142Z"
   },
   {
    "duration": 8,
    "start_time": "2023-05-29T14:31:25.081Z"
   },
   {
    "duration": 5,
    "start_time": "2023-05-29T14:31:27.594Z"
   },
   {
    "duration": 7,
    "start_time": "2023-05-29T14:32:38.505Z"
   },
   {
    "duration": 9776,
    "start_time": "2023-05-29T14:53:14.258Z"
   },
   {
    "duration": 8,
    "start_time": "2023-05-29T14:53:27.675Z"
   },
   {
    "duration": 837,
    "start_time": "2023-05-30T02:28:00.064Z"
   },
   {
    "duration": 86,
    "start_time": "2023-05-30T02:28:02.277Z"
   },
   {
    "duration": 262,
    "start_time": "2023-05-30T02:28:14.398Z"
   },
   {
    "duration": 4,
    "start_time": "2023-05-30T02:28:14.662Z"
   },
   {
    "duration": 10,
    "start_time": "2023-05-30T02:28:14.668Z"
   },
   {
    "duration": 15,
    "start_time": "2023-05-30T02:28:14.681Z"
   },
   {
    "duration": 12,
    "start_time": "2023-05-30T02:28:14.698Z"
   },
   {
    "duration": 41,
    "start_time": "2023-05-30T02:28:14.711Z"
   },
   {
    "duration": 5,
    "start_time": "2023-05-30T02:28:14.753Z"
   },
   {
    "duration": 21,
    "start_time": "2023-05-30T02:28:14.759Z"
   },
   {
    "duration": 18,
    "start_time": "2023-05-30T02:28:14.782Z"
   },
   {
    "duration": 976,
    "start_time": "2023-05-30T02:28:14.802Z"
   },
   {
    "duration": 36,
    "start_time": "2023-05-30T02:28:15.781Z"
   },
   {
    "duration": 40,
    "start_time": "2023-05-30T02:28:15.819Z"
   },
   {
    "duration": 6,
    "start_time": "2023-05-30T02:28:15.861Z"
   },
   {
    "duration": 127,
    "start_time": "2023-05-30T02:28:15.869Z"
   },
   {
    "duration": 0,
    "start_time": "2023-05-30T02:28:15.998Z"
   },
   {
    "duration": 5,
    "start_time": "2023-05-30T02:28:53.410Z"
   },
   {
    "duration": 39,
    "start_time": "2023-05-30T02:28:55.357Z"
   },
   {
    "duration": 42,
    "start_time": "2023-05-30T02:28:58.195Z"
   },
   {
    "duration": 6,
    "start_time": "2023-05-30T02:29:15.705Z"
   },
   {
    "duration": 18,
    "start_time": "2023-05-30T02:29:17.897Z"
   },
   {
    "duration": 10,
    "start_time": "2023-05-30T02:29:21.457Z"
   },
   {
    "duration": 1147,
    "start_time": "2023-05-30T02:29:39.962Z"
   },
   {
    "duration": 10,
    "start_time": "2023-05-30T02:29:44.112Z"
   },
   {
    "duration": 6,
    "start_time": "2023-05-30T02:29:54.048Z"
   },
   {
    "duration": 16,
    "start_time": "2023-05-30T02:29:56.380Z"
   },
   {
    "duration": 9,
    "start_time": "2023-05-30T02:29:59.170Z"
   },
   {
    "duration": 1314,
    "start_time": "2023-05-30T02:30:03.897Z"
   },
   {
    "duration": 9,
    "start_time": "2023-05-30T02:30:07.996Z"
   },
   {
    "duration": 8,
    "start_time": "2023-05-30T02:30:22.639Z"
   },
   {
    "duration": 9,
    "start_time": "2023-05-30T02:30:31.909Z"
   },
   {
    "duration": 11,
    "start_time": "2023-05-30T02:30:58.387Z"
   },
   {
    "duration": 2362,
    "start_time": "2023-05-30T02:31:26.899Z"
   },
   {
    "duration": 10,
    "start_time": "2023-05-30T02:31:30.871Z"
   },
   {
    "duration": 7,
    "start_time": "2023-05-30T02:31:42.630Z"
   },
   {
    "duration": 9,
    "start_time": "2023-05-30T02:31:45.363Z"
   },
   {
    "duration": 13,
    "start_time": "2023-05-30T02:31:55.612Z"
   },
   {
    "duration": 2017,
    "start_time": "2023-05-30T02:31:59.918Z"
   },
   {
    "duration": 9,
    "start_time": "2023-05-30T02:32:03.723Z"
   },
   {
    "duration": 2755,
    "start_time": "2023-05-30T02:32:17.039Z"
   },
   {
    "duration": 9344,
    "start_time": "2023-05-30T02:32:32.078Z"
   },
   {
    "duration": 10,
    "start_time": "2023-05-30T02:32:44.085Z"
   },
   {
    "duration": 2380,
    "start_time": "2023-05-30T02:33:03.004Z"
   },
   {
    "duration": 9,
    "start_time": "2023-05-30T02:33:07.293Z"
   },
   {
    "duration": 59,
    "start_time": "2023-05-30T02:33:59.565Z"
   },
   {
    "duration": 14,
    "start_time": "2023-05-30T02:34:23.826Z"
   },
   {
    "duration": 14,
    "start_time": "2023-05-30T02:34:29.142Z"
   },
   {
    "duration": 12,
    "start_time": "2023-05-30T02:34:46.603Z"
   },
   {
    "duration": 58,
    "start_time": "2023-05-30T02:34:51.810Z"
   },
   {
    "duration": 3220,
    "start_time": "2023-05-30T02:35:00.627Z"
   },
   {
    "duration": 31,
    "start_time": "2023-05-30T02:35:05.598Z"
   },
   {
    "duration": 68700,
    "start_time": "2023-05-30T02:35:19.526Z"
   },
   {
    "duration": 24,
    "start_time": "2023-05-30T02:39:36.529Z"
   },
   {
    "duration": 44,
    "start_time": "2023-05-30T02:44:59.378Z"
   },
   {
    "duration": 44,
    "start_time": "2023-05-30T02:45:27.789Z"
   },
   {
    "duration": 84,
    "start_time": "2023-05-30T02:46:52.165Z"
   },
   {
    "duration": 5,
    "start_time": "2023-05-30T02:46:55.461Z"
   },
   {
    "duration": 8,
    "start_time": "2023-05-30T02:46:58.222Z"
   },
   {
    "duration": 6,
    "start_time": "2023-05-30T02:47:04.364Z"
   },
   {
    "duration": 7,
    "start_time": "2023-05-30T02:47:06.609Z"
   },
   {
    "duration": 7,
    "start_time": "2023-05-30T02:47:09.199Z"
   },
   {
    "duration": 23,
    "start_time": "2023-05-30T02:48:14.306Z"
   },
   {
    "duration": 59,
    "start_time": "2023-05-30T02:48:25.501Z"
   },
   {
    "duration": 135,
    "start_time": "2023-05-30T02:48:25.562Z"
   },
   {
    "duration": 15,
    "start_time": "2023-05-30T02:48:25.699Z"
   },
   {
    "duration": 15,
    "start_time": "2023-05-30T02:48:25.716Z"
   },
   {
    "duration": 15,
    "start_time": "2023-05-30T02:48:25.734Z"
   },
   {
    "duration": 38,
    "start_time": "2023-05-30T02:48:25.757Z"
   },
   {
    "duration": 6,
    "start_time": "2023-05-30T02:48:25.797Z"
   },
   {
    "duration": 7,
    "start_time": "2023-05-30T02:48:25.804Z"
   },
   {
    "duration": 18,
    "start_time": "2023-05-30T02:48:28.070Z"
   },
   {
    "duration": 14,
    "start_time": "2023-05-30T02:48:39.766Z"
   },
   {
    "duration": 616,
    "start_time": "2023-05-30T02:48:48.816Z"
   },
   {
    "duration": 20,
    "start_time": "2023-05-30T02:49:01.696Z"
   },
   {
    "duration": 53,
    "start_time": "2023-05-30T02:49:09.158Z"
   },
   {
    "duration": 41,
    "start_time": "2023-05-30T02:49:12.162Z"
   },
   {
    "duration": 16,
    "start_time": "2023-05-30T02:49:18.678Z"
   },
   {
    "duration": 9,
    "start_time": "2023-05-30T02:49:33.985Z"
   },
   {
    "duration": 46,
    "start_time": "2023-05-30T02:49:37.212Z"
   },
   {
    "duration": 46,
    "start_time": "2023-05-30T02:49:39.277Z"
   },
   {
    "duration": 13,
    "start_time": "2023-05-30T02:49:44.985Z"
   },
   {
    "duration": 38,
    "start_time": "2023-05-30T02:49:52.562Z"
   },
   {
    "duration": 37,
    "start_time": "2023-05-30T02:50:21.475Z"
   },
   {
    "duration": 43,
    "start_time": "2023-05-30T02:50:35.523Z"
   },
   {
    "duration": 16,
    "start_time": "2023-05-30T02:50:43.371Z"
   },
   {
    "duration": 2788,
    "start_time": "2023-05-30T02:50:47.026Z"
   },
   {
    "duration": 12,
    "start_time": "2023-05-30T02:50:51.435Z"
   },
   {
    "duration": 4,
    "start_time": "2023-05-30T03:17:33.433Z"
   },
   {
    "duration": 42,
    "start_time": "2023-05-30T03:18:33.530Z"
   },
   {
    "duration": 31,
    "start_time": "2023-05-30T03:18:51.706Z"
   },
   {
    "duration": 36,
    "start_time": "2023-05-30T03:19:15.647Z"
   },
   {
    "duration": 39,
    "start_time": "2023-05-30T03:19:28.534Z"
   },
   {
    "duration": 36,
    "start_time": "2023-05-30T03:19:45.455Z"
   },
   {
    "duration": 46,
    "start_time": "2023-05-30T03:20:02.515Z"
   },
   {
    "duration": 30,
    "start_time": "2023-05-30T03:20:10.396Z"
   },
   {
    "duration": 37,
    "start_time": "2023-05-30T03:20:16.961Z"
   },
   {
    "duration": 90,
    "start_time": "2023-05-30T03:20:50.264Z"
   },
   {
    "duration": 5373,
    "start_time": "2023-05-30T03:21:01.655Z"
   },
   {
    "duration": 11,
    "start_time": "2023-05-30T03:21:09.393Z"
   },
   {
    "duration": 4,
    "start_time": "2023-05-30T03:21:56.668Z"
   },
   {
    "duration": 18,
    "start_time": "2023-05-30T03:22:01.230Z"
   },
   {
    "duration": 174,
    "start_time": "2023-05-30T03:22:34.646Z"
   },
   {
    "duration": 764,
    "start_time": "2023-05-30T03:22:43.527Z"
   },
   {
    "duration": 43531,
    "start_time": "2023-05-30T03:23:00.340Z"
   },
   {
    "duration": 11,
    "start_time": "2023-05-30T03:24:17.490Z"
   },
   {
    "duration": 37,
    "start_time": "2023-05-30T03:25:53.677Z"
   },
   {
    "duration": 12,
    "start_time": "2023-05-30T03:25:57.462Z"
   },
   {
    "duration": 91,
    "start_time": "2023-05-30T03:26:10.053Z"
   },
   {
    "duration": 45,
    "start_time": "2023-05-30T03:30:38.552Z"
   },
   {
    "duration": 91,
    "start_time": "2023-05-30T03:30:50.694Z"
   },
   {
    "duration": 39,
    "start_time": "2023-05-30T03:31:23.393Z"
   },
   {
    "duration": 5138,
    "start_time": "2023-05-30T03:33:30.584Z"
   },
   {
    "duration": 14,
    "start_time": "2023-05-30T03:33:37.670Z"
   },
   {
    "duration": 15,
    "start_time": "2023-05-30T03:38:22.112Z"
   },
   {
    "duration": 19883,
    "start_time": "2023-05-30T03:38:54.362Z"
   },
   {
    "duration": 15,
    "start_time": "2023-05-30T03:39:17.352Z"
   },
   {
    "duration": 11,
    "start_time": "2023-05-30T03:39:48.521Z"
   },
   {
    "duration": 4442,
    "start_time": "2023-05-30T03:42:23.739Z"
   },
   {
    "duration": 286,
    "start_time": "2023-05-30T03:42:55.456Z"
   },
   {
    "duration": 18,
    "start_time": "2023-05-30T03:43:06.794Z"
   },
   {
    "duration": 9,
    "start_time": "2023-05-30T04:08:21.728Z"
   },
   {
    "duration": 13,
    "start_time": "2023-05-30T04:21:45.966Z"
   },
   {
    "duration": 21892,
    "start_time": "2023-05-30T04:24:10.277Z"
   },
   {
    "duration": 15,
    "start_time": "2023-05-30T04:24:34.625Z"
   },
   {
    "duration": 31,
    "start_time": "2023-05-30T04:32:11.862Z"
   },
   {
    "duration": 65,
    "start_time": "2023-05-30T04:32:39.733Z"
   },
   {
    "duration": 4116,
    "start_time": "2023-05-30T04:32:57.757Z"
   },
   {
    "duration": 17,
    "start_time": "2023-05-30T04:33:07.957Z"
   },
   {
    "duration": 3901,
    "start_time": "2023-05-30T04:33:30.469Z"
   },
   {
    "duration": 15,
    "start_time": "2023-05-30T04:33:59.912Z"
   },
   {
    "duration": 12,
    "start_time": "2023-05-30T04:34:16.088Z"
   },
   {
    "duration": 18350,
    "start_time": "2023-05-30T04:36:00.781Z"
   },
   {
    "duration": 15,
    "start_time": "2023-05-30T04:36:21.258Z"
   },
   {
    "duration": 9,
    "start_time": "2023-05-30T04:36:32.977Z"
   },
   {
    "duration": 13,
    "start_time": "2023-05-30T04:42:48.920Z"
   },
   {
    "duration": 13,
    "start_time": "2023-05-30T04:42:55.146Z"
   },
   {
    "duration": 9229,
    "start_time": "2023-05-30T04:43:19.281Z"
   },
   {
    "duration": 13,
    "start_time": "2023-05-30T04:43:30.901Z"
   },
   {
    "duration": 9,
    "start_time": "2023-05-30T04:43:38.826Z"
   },
   {
    "duration": 3637,
    "start_time": "2023-05-30T04:44:47.285Z"
   },
   {
    "duration": 19,
    "start_time": "2023-05-30T04:45:09.896Z"
   },
   {
    "duration": 10,
    "start_time": "2023-05-30T04:45:21.616Z"
   },
   {
    "duration": 20,
    "start_time": "2023-05-30T04:46:07.100Z"
   },
   {
    "duration": 36643,
    "start_time": "2023-05-30T04:46:09.281Z"
   },
   {
    "duration": 12,
    "start_time": "2023-05-30T04:51:28.557Z"
   },
   {
    "duration": 63,
    "start_time": "2023-05-30T04:51:53.279Z"
   },
   {
    "duration": 27,
    "start_time": "2023-05-30T04:52:13.563Z"
   },
   {
    "duration": 20,
    "start_time": "2023-05-30T04:52:23.816Z"
   },
   {
    "duration": 864,
    "start_time": "2023-05-30T04:53:08.918Z"
   },
   {
    "duration": 20,
    "start_time": "2023-05-30T04:53:12.105Z"
   },
   {
    "duration": 259,
    "start_time": "2023-05-30T04:53:31.496Z"
   },
   {
    "duration": 12,
    "start_time": "2023-05-30T04:53:36.527Z"
   },
   {
    "duration": 148,
    "start_time": "2023-05-30T04:59:47.131Z"
   },
   {
    "duration": 11,
    "start_time": "2023-05-30T05:00:14.606Z"
   },
   {
    "duration": 16,
    "start_time": "2023-05-30T05:00:18.536Z"
   },
   {
    "duration": 164,
    "start_time": "2023-05-30T05:00:51.983Z"
   },
   {
    "duration": 155,
    "start_time": "2023-05-30T05:00:57.057Z"
   },
   {
    "duration": 144,
    "start_time": "2023-05-30T05:01:26.459Z"
   },
   {
    "duration": 18,
    "start_time": "2023-05-30T05:02:01.287Z"
   },
   {
    "duration": 12,
    "start_time": "2023-05-30T05:02:13.311Z"
   },
   {
    "duration": 18,
    "start_time": "2023-05-30T05:02:38.397Z"
   },
   {
    "duration": 16,
    "start_time": "2023-05-30T05:02:42.536Z"
   },
   {
    "duration": 263,
    "start_time": "2023-05-30T05:03:10.441Z"
   },
   {
    "duration": 241,
    "start_time": "2023-05-30T05:08:08.342Z"
   },
   {
    "duration": 220,
    "start_time": "2023-05-30T05:08:12.785Z"
   },
   {
    "duration": 16,
    "start_time": "2023-05-30T05:08:22.695Z"
   },
   {
    "duration": 20,
    "start_time": "2023-05-30T05:08:43.263Z"
   },
   {
    "duration": 20,
    "start_time": "2023-05-30T05:08:56.044Z"
   },
   {
    "duration": 33,
    "start_time": "2023-05-30T05:09:09.930Z"
   },
   {
    "duration": 21,
    "start_time": "2023-05-30T05:09:16.437Z"
   },
   {
    "duration": 206,
    "start_time": "2023-05-30T05:09:20.974Z"
   },
   {
    "duration": 31,
    "start_time": "2023-05-30T05:09:33.773Z"
   },
   {
    "duration": 24,
    "start_time": "2023-05-30T05:09:39.254Z"
   },
   {
    "duration": 5,
    "start_time": "2023-05-30T05:09:59.776Z"
   },
   {
    "duration": 12,
    "start_time": "2023-05-30T05:10:27.281Z"
   },
   {
    "duration": 12,
    "start_time": "2023-05-30T05:10:32.173Z"
   },
   {
    "duration": 5,
    "start_time": "2023-05-30T05:13:19.393Z"
   },
   {
    "duration": 18,
    "start_time": "2023-05-30T05:13:24.478Z"
   },
   {
    "duration": 53,
    "start_time": "2023-05-30T05:13:53.681Z"
   },
   {
    "duration": 14,
    "start_time": "2023-05-30T06:08:41.456Z"
   },
   {
    "duration": 55,
    "start_time": "2023-05-30T06:08:50.958Z"
   },
   {
    "duration": 5,
    "start_time": "2023-05-30T06:08:51.015Z"
   },
   {
    "duration": 10,
    "start_time": "2023-05-30T06:08:51.022Z"
   },
   {
    "duration": 12,
    "start_time": "2023-05-30T06:08:51.034Z"
   },
   {
    "duration": 21,
    "start_time": "2023-05-30T06:08:51.050Z"
   },
   {
    "duration": 29,
    "start_time": "2023-05-30T06:08:51.073Z"
   },
   {
    "duration": 5,
    "start_time": "2023-05-30T06:08:51.103Z"
   },
   {
    "duration": 11,
    "start_time": "2023-05-30T06:08:51.109Z"
   },
   {
    "duration": 14,
    "start_time": "2023-05-30T06:08:53.558Z"
   },
   {
    "duration": 15,
    "start_time": "2023-05-30T06:09:06.462Z"
   },
   {
    "duration": 722,
    "start_time": "2023-05-30T06:09:09.723Z"
   },
   {
    "duration": 21,
    "start_time": "2023-05-30T06:09:13.269Z"
   },
   {
    "duration": 11,
    "start_time": "2023-05-30T06:11:28.037Z"
   },
   {
    "duration": 53,
    "start_time": "2023-05-30T06:11:32.168Z"
   },
   {
    "duration": 5,
    "start_time": "2023-05-30T06:12:30.624Z"
   },
   {
    "duration": 42,
    "start_time": "2023-05-30T06:12:32.261Z"
   },
   {
    "duration": 4,
    "start_time": "2023-05-30T06:12:35.516Z"
   },
   {
    "duration": 6,
    "start_time": "2023-05-30T06:12:41.862Z"
   },
   {
    "duration": 36,
    "start_time": "2023-05-30T06:12:43.790Z"
   },
   {
    "duration": 15,
    "start_time": "2023-05-30T06:12:52.162Z"
   },
   {
    "duration": 28,
    "start_time": "2023-05-30T06:12:59.433Z"
   },
   {
    "duration": 13,
    "start_time": "2023-05-30T06:13:02.169Z"
   },
   {
    "duration": 32,
    "start_time": "2023-05-30T06:13:24.892Z"
   },
   {
    "duration": 46,
    "start_time": "2023-05-30T06:13:28.285Z"
   },
   {
    "duration": 74,
    "start_time": "2023-05-30T06:13:33.317Z"
   },
   {
    "duration": 3731,
    "start_time": "2023-05-30T06:13:41.902Z"
   },
   {
    "duration": 12,
    "start_time": "2023-05-30T06:13:52.163Z"
   },
   {
    "duration": 8,
    "start_time": "2023-05-30T06:14:05.504Z"
   },
   {
    "duration": 11,
    "start_time": "2023-05-30T06:14:10.483Z"
   },
   {
    "duration": 60,
    "start_time": "2023-05-30T06:14:37.898Z"
   },
   {
    "duration": 6,
    "start_time": "2023-05-30T06:14:37.959Z"
   },
   {
    "duration": 17,
    "start_time": "2023-05-30T06:14:37.968Z"
   },
   {
    "duration": 19,
    "start_time": "2023-05-30T06:14:37.988Z"
   },
   {
    "duration": 24,
    "start_time": "2023-05-30T06:14:38.009Z"
   },
   {
    "duration": 46,
    "start_time": "2023-05-30T06:14:38.034Z"
   },
   {
    "duration": 5,
    "start_time": "2023-05-30T06:14:38.081Z"
   },
   {
    "duration": 5,
    "start_time": "2023-05-30T06:14:38.088Z"
   },
   {
    "duration": 19,
    "start_time": "2023-05-30T06:14:38.095Z"
   },
   {
    "duration": 673,
    "start_time": "2023-05-30T06:14:38.117Z"
   },
   {
    "duration": 23,
    "start_time": "2023-05-30T06:14:40.154Z"
   },
   {
    "duration": 16,
    "start_time": "2023-05-30T06:14:51.138Z"
   },
   {
    "duration": 40,
    "start_time": "2023-05-30T06:15:00.769Z"
   },
   {
    "duration": 17,
    "start_time": "2023-05-30T06:15:17.001Z"
   },
   {
    "duration": 1969,
    "start_time": "2023-05-30T06:15:28.960Z"
   },
   {
    "duration": 14,
    "start_time": "2023-05-30T06:15:32.417Z"
   },
   {
    "duration": 8,
    "start_time": "2023-05-30T06:16:00.308Z"
   },
   {
    "duration": 20,
    "start_time": "2023-05-30T06:16:49.176Z"
   },
   {
    "duration": 56,
    "start_time": "2023-05-30T06:39:17.965Z"
   },
   {
    "duration": 6,
    "start_time": "2023-05-30T06:39:22.864Z"
   },
   {
    "duration": 6,
    "start_time": "2023-05-30T06:39:24.595Z"
   },
   {
    "duration": 5,
    "start_time": "2023-05-30T06:39:27.658Z"
   },
   {
    "duration": 4,
    "start_time": "2023-05-30T06:39:29.661Z"
   },
   {
    "duration": 24,
    "start_time": "2023-05-30T06:39:32.113Z"
   },
   {
    "duration": 6,
    "start_time": "2023-05-30T06:39:51.031Z"
   },
   {
    "duration": 5,
    "start_time": "2023-05-30T06:40:08.626Z"
   },
   {
    "duration": 23,
    "start_time": "2023-05-30T06:41:54.823Z"
   },
   {
    "duration": 28,
    "start_time": "2023-05-30T06:42:46.059Z"
   },
   {
    "duration": 3,
    "start_time": "2023-05-30T06:47:12.274Z"
   },
   {
    "duration": 6,
    "start_time": "2023-05-30T06:50:25.297Z"
   },
   {
    "duration": 24,
    "start_time": "2023-05-30T06:50:38.229Z"
   },
   {
    "duration": 18,
    "start_time": "2023-05-30T06:50:52.532Z"
   },
   {
    "duration": 1567,
    "start_time": "2023-05-30T06:53:54.871Z"
   },
   {
    "duration": 20,
    "start_time": "2023-05-30T06:54:31.671Z"
   },
   {
    "duration": 7,
    "start_time": "2023-05-30T06:55:00.276Z"
   },
   {
    "duration": 9,
    "start_time": "2023-05-30T06:55:04.683Z"
   },
   {
    "duration": 81,
    "start_time": "2023-05-30T06:56:59.807Z"
   },
   {
    "duration": 106,
    "start_time": "2023-05-30T06:57:21.465Z"
   },
   {
    "duration": 101,
    "start_time": "2023-05-30T06:57:32.659Z"
   },
   {
    "duration": 15,
    "start_time": "2023-05-30T06:57:38.512Z"
   },
   {
    "duration": 1757,
    "start_time": "2023-05-30T06:57:40.261Z"
   },
   {
    "duration": 18,
    "start_time": "2023-05-30T06:57:43.792Z"
   },
   {
    "duration": 19,
    "start_time": "2023-05-30T06:59:33.585Z"
   },
   {
    "duration": 222,
    "start_time": "2023-05-30T07:00:16.002Z"
   },
   {
    "duration": 176,
    "start_time": "2023-05-30T07:00:22.030Z"
   },
   {
    "duration": 2111,
    "start_time": "2023-05-30T07:00:26.706Z"
   },
   {
    "duration": 15,
    "start_time": "2023-05-30T07:00:30.768Z"
   },
   {
    "duration": 18,
    "start_time": "2023-05-30T07:01:20.842Z"
   },
   {
    "duration": 13,
    "start_time": "2023-05-30T07:01:25.321Z"
   },
   {
    "duration": 14,
    "start_time": "2023-05-30T07:01:31.068Z"
   },
   {
    "duration": 15,
    "start_time": "2023-05-30T07:05:06.203Z"
   },
   {
    "duration": 1907,
    "start_time": "2023-05-30T07:05:28.146Z"
   },
   {
    "duration": 24,
    "start_time": "2023-05-30T07:05:31.436Z"
   },
   {
    "duration": 15,
    "start_time": "2023-05-30T07:05:58.553Z"
   },
   {
    "duration": 36,
    "start_time": "2023-05-30T07:06:49.396Z"
   },
   {
    "duration": 22,
    "start_time": "2023-05-30T07:08:02.276Z"
   },
   {
    "duration": 14,
    "start_time": "2023-05-30T07:10:13.664Z"
   },
   {
    "duration": 17,
    "start_time": "2023-05-30T07:10:22.359Z"
   },
   {
    "duration": 38,
    "start_time": "2023-05-30T07:10:48.321Z"
   },
   {
    "duration": 24,
    "start_time": "2023-05-30T07:10:55.029Z"
   },
   {
    "duration": 24,
    "start_time": "2023-05-30T07:11:08.627Z"
   },
   {
    "duration": 28,
    "start_time": "2023-05-30T07:46:09.628Z"
   },
   {
    "duration": 19,
    "start_time": "2023-05-30T07:46:39.868Z"
   },
   {
    "duration": 8,
    "start_time": "2023-05-30T07:50:46.472Z"
   },
   {
    "duration": 4,
    "start_time": "2023-05-30T07:50:54.770Z"
   },
   {
    "duration": 13,
    "start_time": "2023-05-30T07:51:06.484Z"
   },
   {
    "duration": 4,
    "start_time": "2023-05-30T07:54:14.997Z"
   },
   {
    "duration": 19,
    "start_time": "2023-05-30T07:54:18.770Z"
   },
   {
    "duration": 5,
    "start_time": "2023-05-30T07:54:40.421Z"
   },
   {
    "duration": 23,
    "start_time": "2023-05-30T07:54:42.577Z"
   },
   {
    "duration": 13,
    "start_time": "2023-05-30T07:54:58.649Z"
   },
   {
    "duration": 23,
    "start_time": "2023-05-30T07:55:01.014Z"
   },
   {
    "duration": 26,
    "start_time": "2023-05-30T08:01:59.528Z"
   },
   {
    "duration": 2500,
    "start_time": "2023-05-30T08:02:04.904Z"
   },
   {
    "duration": 39,
    "start_time": "2023-05-30T08:02:22.576Z"
   },
   {
    "duration": 16,
    "start_time": "2023-05-30T08:04:18.096Z"
   },
   {
    "duration": 18,
    "start_time": "2023-05-30T08:04:53.795Z"
   },
   {
    "duration": 3077,
    "start_time": "2023-05-30T08:05:22.925Z"
   },
   {
    "duration": 24,
    "start_time": "2023-05-30T08:05:35.715Z"
   },
   {
    "duration": 17,
    "start_time": "2023-05-30T08:07:25.887Z"
   },
   {
    "duration": 3373,
    "start_time": "2023-05-30T08:07:37.198Z"
   },
   {
    "duration": 3195,
    "start_time": "2023-05-30T08:07:49.092Z"
   },
   {
    "duration": 26,
    "start_time": "2023-05-30T08:07:53.585Z"
   },
   {
    "duration": 2586,
    "start_time": "2023-05-30T08:08:02.123Z"
   },
   {
    "duration": 34,
    "start_time": "2023-05-30T08:08:07.342Z"
   },
   {
    "duration": 29,
    "start_time": "2023-05-30T08:11:31.590Z"
   },
   {
    "duration": 17943,
    "start_time": "2023-05-30T08:12:40.876Z"
   },
   {
    "duration": 595,
    "start_time": "2023-05-30T08:13:25.441Z"
   },
   {
    "duration": 105,
    "start_time": "2023-05-30T08:13:37.928Z"
   },
   {
    "duration": 43,
    "start_time": "2023-05-30T08:13:38.036Z"
   },
   {
    "duration": 121,
    "start_time": "2023-05-30T08:13:38.082Z"
   },
   {
    "duration": 176,
    "start_time": "2023-05-30T08:13:38.206Z"
   },
   {
    "duration": 225,
    "start_time": "2023-05-30T08:13:38.384Z"
   },
   {
    "duration": 162,
    "start_time": "2023-05-30T08:13:38.611Z"
   },
   {
    "duration": 104,
    "start_time": "2023-05-30T08:13:38.779Z"
   },
   {
    "duration": 83,
    "start_time": "2023-05-30T08:13:38.886Z"
   },
   {
    "duration": 52,
    "start_time": "2023-05-30T08:13:38.975Z"
   },
   {
    "duration": 733,
    "start_time": "2023-05-30T08:13:39.031Z"
   },
   {
    "duration": 28,
    "start_time": "2023-05-30T08:13:39.766Z"
   },
   {
    "duration": 5,
    "start_time": "2023-05-30T08:13:39.796Z"
   },
   {
    "duration": 23,
    "start_time": "2023-05-30T08:13:43.895Z"
   },
   {
    "duration": 2642,
    "start_time": "2023-05-30T08:13:46.884Z"
   },
   {
    "duration": 4,
    "start_time": "2023-05-30T08:13:51.612Z"
   },
   {
    "duration": 28,
    "start_time": "2023-05-30T08:13:53.825Z"
   },
   {
    "duration": 2664,
    "start_time": "2023-05-30T08:14:06.279Z"
   },
   {
    "duration": 25,
    "start_time": "2023-05-30T08:14:11.458Z"
   },
   {
    "duration": 8,
    "start_time": "2023-05-30T08:15:55.138Z"
   },
   {
    "duration": 15,
    "start_time": "2023-05-30T08:15:57.070Z"
   },
   {
    "duration": 12,
    "start_time": "2023-05-30T08:15:59.072Z"
   },
   {
    "duration": 2884,
    "start_time": "2023-05-30T08:16:01.315Z"
   },
   {
    "duration": 32,
    "start_time": "2023-05-30T08:16:05.933Z"
   },
   {
    "duration": 17,
    "start_time": "2023-05-30T08:16:28.771Z"
   },
   {
    "duration": 16966,
    "start_time": "2023-05-30T08:16:38.516Z"
   },
   {
    "duration": 60,
    "start_time": "2023-05-30T08:16:59.032Z"
   },
   {
    "duration": 788,
    "start_time": "2023-05-30T08:18:24.670Z"
   },
   {
    "duration": 17108,
    "start_time": "2023-05-30T08:18:57.644Z"
   },
   {
    "duration": 21,
    "start_time": "2023-05-30T08:19:18.841Z"
   },
   {
    "duration": 15,
    "start_time": "2023-05-30T08:19:58.207Z"
   },
   {
    "duration": 24,
    "start_time": "2023-05-30T08:20:02.557Z"
   },
   {
    "duration": 6,
    "start_time": "2023-05-30T08:20:57.475Z"
   },
   {
    "duration": 13,
    "start_time": "2023-05-30T08:21:22.796Z"
   },
   {
    "duration": 7305,
    "start_time": "2023-05-30T08:21:33.410Z"
   },
   {
    "duration": 790,
    "start_time": "2023-05-30T08:21:58.190Z"
   },
   {
    "duration": 79,
    "start_time": "2023-05-30T08:22:01.367Z"
   },
   {
    "duration": 6,
    "start_time": "2023-05-30T08:24:01.419Z"
   },
   {
    "duration": 450,
    "start_time": "2023-05-30T08:24:08.009Z"
   },
   {
    "duration": 64,
    "start_time": "2023-05-30T08:24:10.381Z"
   },
   {
    "duration": 10,
    "start_time": "2023-05-30T08:25:27.316Z"
   },
   {
    "duration": 25,
    "start_time": "2023-05-30T08:25:56.773Z"
   },
   {
    "duration": 32,
    "start_time": "2023-05-30T08:36:56.680Z"
   },
   {
    "duration": 23,
    "start_time": "2023-05-30T08:37:05.632Z"
   },
   {
    "duration": 1790,
    "start_time": "2023-05-30T08:48:23.060Z"
   },
   {
    "duration": 31,
    "start_time": "2023-05-30T08:48:27.339Z"
   },
   {
    "duration": 3357,
    "start_time": "2023-05-30T08:48:49.002Z"
   },
   {
    "duration": 38,
    "start_time": "2023-05-30T08:48:53.927Z"
   },
   {
    "duration": 4,
    "start_time": "2023-05-30T08:50:09.980Z"
   },
   {
    "duration": 58,
    "start_time": "2023-05-30T08:51:20.861Z"
   },
   {
    "duration": 4,
    "start_time": "2023-05-30T08:51:20.922Z"
   },
   {
    "duration": 152,
    "start_time": "2023-05-30T08:51:20.928Z"
   },
   {
    "duration": 15,
    "start_time": "2023-05-30T08:51:21.082Z"
   },
   {
    "duration": 19,
    "start_time": "2023-05-30T08:51:21.099Z"
   },
   {
    "duration": 41,
    "start_time": "2023-05-30T08:51:21.120Z"
   },
   {
    "duration": 15,
    "start_time": "2023-05-30T08:51:21.163Z"
   },
   {
    "duration": 12,
    "start_time": "2023-05-30T08:51:21.180Z"
   },
   {
    "duration": 36,
    "start_time": "2023-05-30T08:51:21.194Z"
   },
   {
    "duration": 627,
    "start_time": "2023-05-30T08:51:21.233Z"
   },
   {
    "duration": 27,
    "start_time": "2023-05-30T08:51:21.862Z"
   },
   {
    "duration": 6,
    "start_time": "2023-05-30T08:51:21.891Z"
   },
   {
    "duration": 56,
    "start_time": "2023-05-30T08:51:21.899Z"
   },
   {
    "duration": 6,
    "start_time": "2023-05-30T08:51:21.957Z"
   },
   {
    "duration": 7,
    "start_time": "2023-05-30T08:51:27.083Z"
   },
   {
    "duration": 13548,
    "start_time": "2023-05-30T08:51:42.772Z"
   },
   {
    "duration": 17,
    "start_time": "2023-05-30T08:52:05.883Z"
   },
   {
    "duration": 40,
    "start_time": "2023-05-30T08:52:38.722Z"
   },
   {
    "duration": 70,
    "start_time": "2023-05-30T08:53:29.281Z"
   },
   {
    "duration": 31,
    "start_time": "2023-05-30T08:53:34.022Z"
   },
   {
    "duration": 645,
    "start_time": "2023-05-30T08:58:07.050Z"
   },
   {
    "duration": 772,
    "start_time": "2023-05-30T08:58:14.978Z"
   },
   {
    "duration": 793,
    "start_time": "2023-05-30T08:58:23.260Z"
   },
   {
    "duration": 58,
    "start_time": "2023-05-30T08:58:53.661Z"
   },
   {
    "duration": 5,
    "start_time": "2023-05-30T08:58:53.721Z"
   },
   {
    "duration": 20,
    "start_time": "2023-05-30T08:58:53.728Z"
   },
   {
    "duration": 21,
    "start_time": "2023-05-30T08:58:53.751Z"
   },
   {
    "duration": 9,
    "start_time": "2023-05-30T08:58:53.775Z"
   },
   {
    "duration": 36,
    "start_time": "2023-05-30T08:58:53.786Z"
   },
   {
    "duration": 7,
    "start_time": "2023-05-30T08:58:53.824Z"
   },
   {
    "duration": 20,
    "start_time": "2023-05-30T08:58:53.833Z"
   },
   {
    "duration": 33,
    "start_time": "2023-05-30T08:58:53.858Z"
   },
   {
    "duration": 1050,
    "start_time": "2023-05-30T08:58:57.559Z"
   },
   {
    "duration": 24,
    "start_time": "2023-05-30T09:05:26.625Z"
   },
   {
    "duration": 532,
    "start_time": "2023-05-30T10:34:11.658Z"
   },
   {
    "duration": 4,
    "start_time": "2023-05-30T10:34:12.193Z"
   },
   {
    "duration": 19,
    "start_time": "2023-05-30T10:34:12.199Z"
   },
   {
    "duration": 9,
    "start_time": "2023-05-30T10:34:12.221Z"
   },
   {
    "duration": 18,
    "start_time": "2023-05-30T10:34:12.232Z"
   },
   {
    "duration": 28,
    "start_time": "2023-05-30T10:34:12.261Z"
   },
   {
    "duration": 5,
    "start_time": "2023-05-30T10:34:12.291Z"
   },
   {
    "duration": 11,
    "start_time": "2023-05-30T10:34:12.297Z"
   },
   {
    "duration": 27,
    "start_time": "2023-05-30T10:34:12.310Z"
   },
   {
    "duration": 1284,
    "start_time": "2023-05-30T10:34:12.341Z"
   },
   {
    "duration": 2321,
    "start_time": "2023-05-30T10:34:13.627Z"
   },
   {
    "duration": 70,
    "start_time": "2023-05-30T10:34:15.960Z"
   },
   {
    "duration": 28,
    "start_time": "2023-05-30T10:34:16.032Z"
   },
   {
    "duration": 11,
    "start_time": "2023-05-30T10:34:16.062Z"
   },
   {
    "duration": 1908,
    "start_time": "2023-05-30T10:34:16.075Z"
   },
   {
    "duration": 160,
    "start_time": "2023-05-30T10:34:17.985Z"
   },
   {
    "duration": 0,
    "start_time": "2023-05-30T10:34:18.149Z"
   },
   {
    "duration": 1,
    "start_time": "2023-05-30T10:34:18.151Z"
   },
   {
    "duration": 0,
    "start_time": "2023-05-30T10:34:18.154Z"
   },
   {
    "duration": 0,
    "start_time": "2023-05-30T10:34:18.155Z"
   },
   {
    "duration": 0,
    "start_time": "2023-05-30T10:34:18.156Z"
   },
   {
    "duration": 0,
    "start_time": "2023-05-30T10:34:18.157Z"
   },
   {
    "duration": 0,
    "start_time": "2023-05-30T10:34:18.158Z"
   },
   {
    "duration": 0,
    "start_time": "2023-05-30T10:34:18.160Z"
   },
   {
    "duration": 0,
    "start_time": "2023-05-30T10:34:18.161Z"
   },
   {
    "duration": 0,
    "start_time": "2023-05-30T10:34:18.162Z"
   },
   {
    "duration": 0,
    "start_time": "2023-05-30T10:34:18.163Z"
   },
   {
    "duration": 0,
    "start_time": "2023-05-30T10:34:18.165Z"
   },
   {
    "duration": 0,
    "start_time": "2023-05-30T10:34:18.166Z"
   },
   {
    "duration": 1322,
    "start_time": "2023-05-30T13:11:26.832Z"
   },
   {
    "duration": 167,
    "start_time": "2023-05-30T13:11:29.651Z"
   },
   {
    "duration": 4,
    "start_time": "2023-05-30T13:17:49.971Z"
   },
   {
    "duration": 3,
    "start_time": "2023-05-30T13:25:38.991Z"
   },
   {
    "duration": 1206,
    "start_time": "2023-05-30T13:25:50.862Z"
   },
   {
    "duration": 61,
    "start_time": "2023-05-30T13:25:52.070Z"
   },
   {
    "duration": 4,
    "start_time": "2023-05-30T13:25:52.132Z"
   },
   {
    "duration": 21,
    "start_time": "2023-05-30T13:25:52.138Z"
   },
   {
    "duration": 13,
    "start_time": "2023-05-30T13:25:52.161Z"
   },
   {
    "duration": 12,
    "start_time": "2023-05-30T13:25:52.176Z"
   },
   {
    "duration": 23,
    "start_time": "2023-05-30T13:25:52.189Z"
   },
   {
    "duration": 3,
    "start_time": "2023-05-30T13:25:52.213Z"
   },
   {
    "duration": 8,
    "start_time": "2023-05-30T13:25:52.218Z"
   },
   {
    "duration": 15,
    "start_time": "2023-05-30T13:25:52.227Z"
   },
   {
    "duration": 738,
    "start_time": "2023-05-30T13:25:52.243Z"
   },
   {
    "duration": 2,
    "start_time": "2023-05-30T13:25:52.983Z"
   },
   {
    "duration": 7,
    "start_time": "2023-05-30T13:25:52.986Z"
   },
   {
    "duration": 22,
    "start_time": "2023-05-30T13:25:52.996Z"
   },
   {
    "duration": 3,
    "start_time": "2023-05-30T13:25:53.020Z"
   },
   {
    "duration": 1644,
    "start_time": "2023-05-30T13:25:53.024Z"
   },
   {
    "duration": 12,
    "start_time": "2023-05-30T13:25:54.669Z"
   },
   {
    "duration": 1746,
    "start_time": "2023-05-30T13:25:54.683Z"
   },
   {
    "duration": 11,
    "start_time": "2023-05-30T13:25:56.431Z"
   },
   {
    "duration": 3,
    "start_time": "2023-05-30T13:25:56.444Z"
   },
   {
    "duration": 11,
    "start_time": "2023-05-30T13:25:56.448Z"
   },
   {
    "duration": 9,
    "start_time": "2023-05-30T13:25:56.460Z"
   },
   {
    "duration": 1888,
    "start_time": "2023-05-30T13:25:56.471Z"
   },
   {
    "duration": 13,
    "start_time": "2023-05-30T13:25:58.360Z"
   },
   {
    "duration": 29,
    "start_time": "2023-05-30T13:25:58.374Z"
   },
   {
    "duration": 14063,
    "start_time": "2023-05-30T13:25:58.405Z"
   },
   {
    "duration": 52,
    "start_time": "2023-05-30T13:26:12.472Z"
   },
   {
    "duration": 4100,
    "start_time": "2023-05-30T13:26:12.526Z"
   },
   {
    "duration": 25,
    "start_time": "2023-05-30T13:26:16.628Z"
   },
   {
    "duration": 163,
    "start_time": "2023-05-30T13:26:16.655Z"
   },
   {
    "duration": 3654,
    "start_time": "2023-05-30T13:26:41.762Z"
   },
   {
    "duration": 16,
    "start_time": "2023-05-30T13:26:51.996Z"
   },
   {
    "duration": 1222,
    "start_time": "2023-05-30T13:27:36.517Z"
   },
   {
    "duration": 57,
    "start_time": "2023-05-30T13:27:37.741Z"
   },
   {
    "duration": 4,
    "start_time": "2023-05-30T13:27:37.800Z"
   },
   {
    "duration": 11,
    "start_time": "2023-05-30T13:27:37.806Z"
   },
   {
    "duration": 6,
    "start_time": "2023-05-30T13:27:37.818Z"
   },
   {
    "duration": 12,
    "start_time": "2023-05-30T13:27:37.825Z"
   },
   {
    "duration": 23,
    "start_time": "2023-05-30T13:27:37.838Z"
   },
   {
    "duration": 4,
    "start_time": "2023-05-30T13:27:37.862Z"
   },
   {
    "duration": 13,
    "start_time": "2023-05-30T13:27:37.867Z"
   },
   {
    "duration": 17,
    "start_time": "2023-05-30T13:27:37.882Z"
   },
   {
    "duration": 666,
    "start_time": "2023-05-30T13:27:37.900Z"
   },
   {
    "duration": 2,
    "start_time": "2023-05-30T13:27:38.568Z"
   },
   {
    "duration": 16,
    "start_time": "2023-05-30T13:27:38.572Z"
   },
   {
    "duration": 26,
    "start_time": "2023-05-30T13:27:38.589Z"
   },
   {
    "duration": 3,
    "start_time": "2023-05-30T13:27:38.617Z"
   },
   {
    "duration": 1614,
    "start_time": "2023-05-30T13:27:38.621Z"
   },
   {
    "duration": 13,
    "start_time": "2023-05-30T13:27:40.236Z"
   },
   {
    "duration": 1712,
    "start_time": "2023-05-30T13:27:40.250Z"
   },
   {
    "duration": 13,
    "start_time": "2023-05-30T13:27:41.963Z"
   },
   {
    "duration": 3,
    "start_time": "2023-05-30T13:27:41.977Z"
   },
   {
    "duration": 24,
    "start_time": "2023-05-30T13:27:41.982Z"
   },
   {
    "duration": 9,
    "start_time": "2023-05-30T13:27:42.007Z"
   },
   {
    "duration": 1976,
    "start_time": "2023-05-30T13:27:42.018Z"
   },
   {
    "duration": 16,
    "start_time": "2023-05-30T13:27:43.996Z"
   },
   {
    "duration": 13,
    "start_time": "2023-05-30T13:27:44.013Z"
   },
   {
    "duration": 13546,
    "start_time": "2023-05-30T13:27:44.027Z"
   },
   {
    "duration": 38,
    "start_time": "2023-05-30T13:27:57.575Z"
   },
   {
    "duration": 3197,
    "start_time": "2023-05-30T13:27:57.616Z"
   },
   {
    "duration": 92,
    "start_time": "2023-05-30T13:28:00.815Z"
   },
   {
    "duration": 132,
    "start_time": "2023-05-30T13:28:00.910Z"
   },
   {
    "duration": 99,
    "start_time": "2023-05-30T13:29:16.111Z"
   },
   {
    "duration": 101,
    "start_time": "2023-05-30T13:29:21.380Z"
   },
   {
    "duration": 104,
    "start_time": "2023-05-30T13:34:41.583Z"
   },
   {
    "duration": 30,
    "start_time": "2023-05-30T13:35:16.660Z"
   },
   {
    "duration": 34,
    "start_time": "2023-05-30T13:35:31.703Z"
   },
   {
    "duration": 33,
    "start_time": "2023-05-30T13:36:17.256Z"
   },
   {
    "duration": 1160,
    "start_time": "2023-05-30T13:36:28.556Z"
   },
   {
    "duration": 59,
    "start_time": "2023-05-30T13:36:29.718Z"
   },
   {
    "duration": 4,
    "start_time": "2023-05-30T13:36:29.778Z"
   },
   {
    "duration": 19,
    "start_time": "2023-05-30T13:36:29.784Z"
   },
   {
    "duration": 5,
    "start_time": "2023-05-30T13:36:29.804Z"
   },
   {
    "duration": 22,
    "start_time": "2023-05-30T13:36:29.811Z"
   },
   {
    "duration": 25,
    "start_time": "2023-05-30T13:36:29.834Z"
   },
   {
    "duration": 5,
    "start_time": "2023-05-30T13:36:29.860Z"
   },
   {
    "duration": 10,
    "start_time": "2023-05-30T13:36:29.866Z"
   },
   {
    "duration": 13,
    "start_time": "2023-05-30T13:36:29.879Z"
   },
   {
    "duration": 689,
    "start_time": "2023-05-30T13:36:29.894Z"
   },
   {
    "duration": 2,
    "start_time": "2023-05-30T13:36:30.585Z"
   },
   {
    "duration": 98,
    "start_time": "2023-05-30T13:36:30.589Z"
   },
   {
    "duration": 91,
    "start_time": "2023-05-30T13:36:30.688Z"
   },
   {
    "duration": 24,
    "start_time": "2023-05-30T13:36:30.781Z"
   },
   {
    "duration": 1818,
    "start_time": "2023-05-30T13:36:30.807Z"
   },
   {
    "duration": 12,
    "start_time": "2023-05-30T13:36:32.626Z"
   },
   {
    "duration": 1726,
    "start_time": "2023-05-30T13:36:32.639Z"
   },
   {
    "duration": 12,
    "start_time": "2023-05-30T13:36:34.366Z"
   },
   {
    "duration": 4,
    "start_time": "2023-05-30T13:36:34.379Z"
   },
   {
    "duration": 25,
    "start_time": "2023-05-30T13:36:34.384Z"
   },
   {
    "duration": 18,
    "start_time": "2023-05-30T13:36:34.410Z"
   },
   {
    "duration": 1783,
    "start_time": "2023-05-30T13:36:34.430Z"
   },
   {
    "duration": 13,
    "start_time": "2023-05-30T13:36:36.214Z"
   },
   {
    "duration": 13,
    "start_time": "2023-05-30T13:36:36.228Z"
   },
   {
    "duration": 13455,
    "start_time": "2023-05-30T13:36:36.243Z"
   },
   {
    "duration": 34,
    "start_time": "2023-05-30T13:36:49.700Z"
   },
   {
    "duration": 2369,
    "start_time": "2023-05-30T13:36:49.738Z"
   },
   {
    "duration": 14,
    "start_time": "2023-05-30T13:36:52.109Z"
   },
   {
    "duration": 100,
    "start_time": "2023-05-30T13:36:52.207Z"
   },
   {
    "duration": 37,
    "start_time": "2023-05-30T13:37:54.792Z"
   },
   {
    "duration": 1325,
    "start_time": "2023-05-30T13:38:14.913Z"
   },
   {
    "duration": 59,
    "start_time": "2023-05-30T13:38:16.240Z"
   },
   {
    "duration": 4,
    "start_time": "2023-05-30T13:38:16.301Z"
   },
   {
    "duration": 7,
    "start_time": "2023-05-30T13:38:16.307Z"
   },
   {
    "duration": 26,
    "start_time": "2023-05-30T13:38:16.315Z"
   },
   {
    "duration": 4,
    "start_time": "2023-05-30T13:38:16.342Z"
   },
   {
    "duration": 24,
    "start_time": "2023-05-30T13:38:16.348Z"
   },
   {
    "duration": 3,
    "start_time": "2023-05-30T13:38:16.374Z"
   },
   {
    "duration": 7,
    "start_time": "2023-05-30T13:38:16.378Z"
   },
   {
    "duration": 24,
    "start_time": "2023-05-30T13:38:16.386Z"
   },
   {
    "duration": 698,
    "start_time": "2023-05-30T13:38:16.412Z"
   },
   {
    "duration": 2,
    "start_time": "2023-05-30T13:38:17.112Z"
   },
   {
    "duration": 36,
    "start_time": "2023-05-30T13:38:17.116Z"
   },
   {
    "duration": 76,
    "start_time": "2023-05-30T13:38:17.154Z"
   },
   {
    "duration": 4,
    "start_time": "2023-05-30T13:38:17.231Z"
   },
   {
    "duration": 1479,
    "start_time": "2023-05-30T13:38:17.236Z"
   },
   {
    "duration": 18,
    "start_time": "2023-05-30T13:38:18.716Z"
   },
   {
    "duration": 1722,
    "start_time": "2023-05-30T13:38:18.735Z"
   },
   {
    "duration": 15,
    "start_time": "2023-05-30T13:38:20.459Z"
   },
   {
    "duration": 4,
    "start_time": "2023-05-30T13:38:20.476Z"
   },
   {
    "duration": 27,
    "start_time": "2023-05-30T13:38:20.481Z"
   },
   {
    "duration": 10,
    "start_time": "2023-05-30T13:38:20.510Z"
   },
   {
    "duration": 1856,
    "start_time": "2023-05-30T13:38:20.522Z"
   },
   {
    "duration": 14,
    "start_time": "2023-05-30T13:38:22.380Z"
   },
   {
    "duration": 23,
    "start_time": "2023-05-30T13:38:22.396Z"
   },
   {
    "duration": 13806,
    "start_time": "2023-05-30T13:38:22.421Z"
   },
   {
    "duration": 33,
    "start_time": "2023-05-30T13:38:36.229Z"
   },
   {
    "duration": 2446,
    "start_time": "2023-05-30T13:38:36.265Z"
   },
   {
    "duration": 102,
    "start_time": "2023-05-30T13:38:38.713Z"
   },
   {
    "duration": 101,
    "start_time": "2023-05-30T13:38:38.906Z"
   },
   {
    "duration": 1826,
    "start_time": "2023-05-30T16:29:00.546Z"
   },
   {
    "duration": 152,
    "start_time": "2023-05-30T16:29:02.374Z"
   },
   {
    "duration": 6,
    "start_time": "2023-05-30T16:29:02.527Z"
   },
   {
    "duration": 23,
    "start_time": "2023-05-30T16:29:02.535Z"
   },
   {
    "duration": 10,
    "start_time": "2023-05-30T16:29:02.560Z"
   },
   {
    "duration": 8,
    "start_time": "2023-05-30T16:29:02.571Z"
   },
   {
    "duration": 41,
    "start_time": "2023-05-30T16:29:02.580Z"
   },
   {
    "duration": 34,
    "start_time": "2023-05-30T16:29:02.624Z"
   },
   {
    "duration": 21,
    "start_time": "2023-05-30T16:29:02.660Z"
   },
   {
    "duration": 20,
    "start_time": "2023-05-30T16:29:02.682Z"
   },
   {
    "duration": 907,
    "start_time": "2023-05-30T16:29:02.715Z"
   },
   {
    "duration": 6,
    "start_time": "2023-05-30T16:29:03.624Z"
   },
   {
    "duration": 4,
    "start_time": "2023-05-30T16:29:03.631Z"
   },
   {
    "duration": 73,
    "start_time": "2023-05-30T16:29:03.648Z"
   },
   {
    "duration": 19,
    "start_time": "2023-05-30T16:29:03.723Z"
   },
   {
    "duration": 1864,
    "start_time": "2023-05-30T16:29:03.743Z"
   },
   {
    "duration": 21,
    "start_time": "2023-05-30T16:29:05.614Z"
   },
   {
    "duration": 2370,
    "start_time": "2023-05-30T16:29:05.637Z"
   },
   {
    "duration": 28,
    "start_time": "2023-05-30T16:29:08.009Z"
   },
   {
    "duration": 15,
    "start_time": "2023-05-30T16:29:08.043Z"
   },
   {
    "duration": 53,
    "start_time": "2023-05-30T16:29:08.060Z"
   },
   {
    "duration": 44,
    "start_time": "2023-05-30T16:29:08.115Z"
   },
   {
    "duration": 2425,
    "start_time": "2023-05-30T16:29:08.161Z"
   },
   {
    "duration": 25,
    "start_time": "2023-05-30T16:29:10.588Z"
   },
   {
    "duration": 44,
    "start_time": "2023-05-30T16:29:10.619Z"
   },
   {
    "duration": 18257,
    "start_time": "2023-05-30T16:29:10.664Z"
   },
   {
    "duration": 47,
    "start_time": "2023-05-30T16:29:28.923Z"
   },
   {
    "duration": 2336,
    "start_time": "2023-05-30T16:29:28.972Z"
   },
   {
    "duration": 112,
    "start_time": "2023-05-30T16:29:31.313Z"
   },
   {
    "duration": 123,
    "start_time": "2023-05-30T16:29:31.429Z"
   },
   {
    "duration": 1371,
    "start_time": "2023-05-30T16:47:20.624Z"
   },
   {
    "duration": 68,
    "start_time": "2023-05-30T16:47:21.997Z"
   },
   {
    "duration": 4,
    "start_time": "2023-05-30T16:47:22.067Z"
   },
   {
    "duration": 16,
    "start_time": "2023-05-30T16:47:22.072Z"
   },
   {
    "duration": 41,
    "start_time": "2023-05-30T16:47:22.090Z"
   },
   {
    "duration": 36,
    "start_time": "2023-05-30T16:47:22.133Z"
   },
   {
    "duration": 50,
    "start_time": "2023-05-30T16:47:22.171Z"
   },
   {
    "duration": 10,
    "start_time": "2023-05-30T16:47:22.224Z"
   },
   {
    "duration": 13,
    "start_time": "2023-05-30T16:47:22.235Z"
   },
   {
    "duration": 43,
    "start_time": "2023-05-30T16:47:22.250Z"
   },
   {
    "duration": 786,
    "start_time": "2023-05-30T16:47:22.294Z"
   },
   {
    "duration": 2,
    "start_time": "2023-05-30T16:47:23.082Z"
   },
   {
    "duration": 21,
    "start_time": "2023-05-30T16:47:23.085Z"
   },
   {
    "duration": 33,
    "start_time": "2023-05-30T16:47:23.109Z"
   },
   {
    "duration": 11,
    "start_time": "2023-05-30T16:47:23.143Z"
   },
   {
    "duration": 38,
    "start_time": "2023-05-30T16:47:23.156Z"
   },
   {
    "duration": 1681,
    "start_time": "2023-05-30T16:47:23.196Z"
   },
   {
    "duration": 27,
    "start_time": "2023-05-30T16:47:24.879Z"
   },
   {
    "duration": 2045,
    "start_time": "2023-05-30T16:47:24.913Z"
   },
   {
    "duration": 19,
    "start_time": "2023-05-30T16:47:26.960Z"
   },
   {
    "duration": 22,
    "start_time": "2023-05-30T16:47:26.981Z"
   },
   {
    "duration": 47,
    "start_time": "2023-05-30T16:47:27.005Z"
   },
   {
    "duration": 14,
    "start_time": "2023-05-30T16:47:27.054Z"
   },
   {
    "duration": 3165,
    "start_time": "2023-05-30T16:47:27.070Z"
   },
   {
    "duration": 75,
    "start_time": "2023-05-30T16:47:30.237Z"
   },
   {
    "duration": 26,
    "start_time": "2023-05-30T16:47:30.313Z"
   },
   {
    "duration": 16067,
    "start_time": "2023-05-30T16:47:30.341Z"
   },
   {
    "duration": 39,
    "start_time": "2023-05-30T16:47:46.415Z"
   },
   {
    "duration": 2654,
    "start_time": "2023-05-30T16:47:46.456Z"
   },
   {
    "duration": 187,
    "start_time": "2023-05-30T16:47:49.115Z"
   },
   {
    "duration": 126,
    "start_time": "2023-05-30T16:47:49.303Z"
   },
   {
    "duration": 1381,
    "start_time": "2023-05-30T16:48:50.688Z"
   },
   {
    "duration": 66,
    "start_time": "2023-05-30T16:48:52.071Z"
   },
   {
    "duration": 4,
    "start_time": "2023-05-30T16:48:52.139Z"
   },
   {
    "duration": 14,
    "start_time": "2023-05-30T16:48:52.145Z"
   },
   {
    "duration": 14,
    "start_time": "2023-05-30T16:48:52.161Z"
   },
   {
    "duration": 11,
    "start_time": "2023-05-30T16:48:52.176Z"
   },
   {
    "duration": 40,
    "start_time": "2023-05-30T16:48:52.189Z"
   },
   {
    "duration": 4,
    "start_time": "2023-05-30T16:48:52.231Z"
   },
   {
    "duration": 7,
    "start_time": "2023-05-30T16:48:52.236Z"
   },
   {
    "duration": 19,
    "start_time": "2023-05-30T16:48:52.245Z"
   },
   {
    "duration": 768,
    "start_time": "2023-05-30T16:48:52.265Z"
   },
   {
    "duration": 2,
    "start_time": "2023-05-30T16:48:53.035Z"
   },
   {
    "duration": 15,
    "start_time": "2023-05-30T16:48:53.039Z"
   },
   {
    "duration": 13,
    "start_time": "2023-05-30T16:48:53.055Z"
   },
   {
    "duration": 4,
    "start_time": "2023-05-30T16:48:53.070Z"
   },
   {
    "duration": 47,
    "start_time": "2023-05-30T16:48:53.076Z"
   },
   {
    "duration": 1938,
    "start_time": "2023-05-30T16:48:53.125Z"
   },
   {
    "duration": 16,
    "start_time": "2023-05-30T16:48:55.065Z"
   },
   {
    "duration": 2243,
    "start_time": "2023-05-30T16:48:55.082Z"
   },
   {
    "duration": 14,
    "start_time": "2023-05-30T16:48:57.327Z"
   },
   {
    "duration": 4,
    "start_time": "2023-05-30T16:48:57.342Z"
   },
   {
    "duration": 14,
    "start_time": "2023-05-30T16:48:57.347Z"
   },
   {
    "duration": 11,
    "start_time": "2023-05-30T16:48:57.362Z"
   },
   {
    "duration": 2237,
    "start_time": "2023-05-30T16:48:57.374Z"
   },
   {
    "duration": 15,
    "start_time": "2023-05-30T16:48:59.612Z"
   },
   {
    "duration": 17,
    "start_time": "2023-05-30T16:48:59.628Z"
   },
   {
    "duration": 15512,
    "start_time": "2023-05-30T16:48:59.647Z"
   },
   {
    "duration": 44,
    "start_time": "2023-05-30T16:49:15.162Z"
   },
   {
    "duration": 977,
    "start_time": "2023-05-30T16:49:15.208Z"
   },
   {
    "duration": 26,
    "start_time": "2023-05-30T16:49:16.187Z"
   },
   {
    "duration": 0,
    "start_time": "2023-05-30T16:49:16.215Z"
   },
   {
    "duration": 1517,
    "start_time": "2023-05-30T16:49:22.796Z"
   },
   {
    "duration": 67,
    "start_time": "2023-05-30T16:49:24.315Z"
   },
   {
    "duration": 5,
    "start_time": "2023-05-30T16:49:24.384Z"
   },
   {
    "duration": 17,
    "start_time": "2023-05-30T16:49:24.392Z"
   },
   {
    "duration": 14,
    "start_time": "2023-05-30T16:49:24.415Z"
   },
   {
    "duration": 9,
    "start_time": "2023-05-30T16:49:24.432Z"
   },
   {
    "duration": 43,
    "start_time": "2023-05-30T16:49:24.443Z"
   },
   {
    "duration": 5,
    "start_time": "2023-05-30T16:49:24.488Z"
   },
   {
    "duration": 24,
    "start_time": "2023-05-30T16:49:24.494Z"
   },
   {
    "duration": 19,
    "start_time": "2023-05-30T16:49:24.521Z"
   },
   {
    "duration": 878,
    "start_time": "2023-05-30T16:49:24.543Z"
   },
   {
    "duration": 3,
    "start_time": "2023-05-30T16:49:25.423Z"
   },
   {
    "duration": 16,
    "start_time": "2023-05-30T16:49:25.428Z"
   },
   {
    "duration": 22,
    "start_time": "2023-05-30T16:49:25.446Z"
   },
   {
    "duration": 17,
    "start_time": "2023-05-30T16:49:25.470Z"
   },
   {
    "duration": 45,
    "start_time": "2023-05-30T16:49:25.489Z"
   },
   {
    "duration": 1895,
    "start_time": "2023-05-30T16:49:25.536Z"
   },
   {
    "duration": 17,
    "start_time": "2023-05-30T16:49:27.433Z"
   },
   {
    "duration": 1979,
    "start_time": "2023-05-30T16:49:27.452Z"
   },
   {
    "duration": 13,
    "start_time": "2023-05-30T16:49:29.433Z"
   },
   {
    "duration": 11,
    "start_time": "2023-05-30T16:49:29.448Z"
   },
   {
    "duration": 18,
    "start_time": "2023-05-30T16:49:29.461Z"
   },
   {
    "duration": 24,
    "start_time": "2023-05-30T16:49:29.480Z"
   },
   {
    "duration": 2232,
    "start_time": "2023-05-30T16:49:29.510Z"
   },
   {
    "duration": 17,
    "start_time": "2023-05-30T16:49:31.745Z"
   },
   {
    "duration": 44,
    "start_time": "2023-05-30T16:49:31.764Z"
   },
   {
    "duration": 15025,
    "start_time": "2023-05-30T16:49:31.811Z"
   },
   {
    "duration": 38,
    "start_time": "2023-05-30T16:49:46.839Z"
   },
   {
    "duration": 2629,
    "start_time": "2023-05-30T16:49:46.879Z"
   },
   {
    "duration": 89,
    "start_time": "2023-05-30T16:49:49.510Z"
   },
   {
    "duration": 102,
    "start_time": "2023-05-30T16:49:49.606Z"
   },
   {
    "duration": 17,
    "start_time": "2023-05-30T16:52:00.724Z"
   },
   {
    "duration": 10,
    "start_time": "2023-05-30T16:52:10.692Z"
   },
   {
    "duration": 15,
    "start_time": "2023-05-30T16:52:18.186Z"
   },
   {
    "duration": 10,
    "start_time": "2023-05-30T16:52:41.987Z"
   },
   {
    "duration": 65,
    "start_time": "2023-05-31T03:09:29.996Z"
   },
   {
    "duration": 1919,
    "start_time": "2023-05-31T03:09:38.237Z"
   },
   {
    "duration": 158,
    "start_time": "2023-05-31T03:09:40.158Z"
   },
   {
    "duration": 6,
    "start_time": "2023-05-31T03:09:40.317Z"
   },
   {
    "duration": 13,
    "start_time": "2023-05-31T03:09:40.326Z"
   },
   {
    "duration": 6,
    "start_time": "2023-05-31T03:09:40.341Z"
   },
   {
    "duration": 83,
    "start_time": "2023-05-31T03:09:40.350Z"
   },
   {
    "duration": 83,
    "start_time": "2023-05-31T03:09:40.435Z"
   },
   {
    "duration": 9,
    "start_time": "2023-05-31T03:09:40.520Z"
   },
   {
    "duration": 8,
    "start_time": "2023-05-31T03:09:40.531Z"
   },
   {
    "duration": 98,
    "start_time": "2023-05-31T03:09:40.543Z"
   },
   {
    "duration": 1216,
    "start_time": "2023-05-31T03:09:40.648Z"
   },
   {
    "duration": 3,
    "start_time": "2023-05-31T03:09:41.866Z"
   },
   {
    "duration": 65,
    "start_time": "2023-05-31T03:09:41.871Z"
   },
   {
    "duration": 4,
    "start_time": "2023-05-31T03:09:41.938Z"
   },
   {
    "duration": 95,
    "start_time": "2023-05-31T03:09:41.944Z"
   },
   {
    "duration": 2769,
    "start_time": "2023-05-31T03:09:42.041Z"
   },
   {
    "duration": 22,
    "start_time": "2023-05-31T03:09:44.821Z"
   },
   {
    "duration": 2796,
    "start_time": "2023-05-31T03:09:44.845Z"
   },
   {
    "duration": 21,
    "start_time": "2023-05-31T03:09:47.643Z"
   },
   {
    "duration": 56,
    "start_time": "2023-05-31T03:09:47.667Z"
   },
   {
    "duration": 19,
    "start_time": "2023-05-31T03:09:47.725Z"
   },
   {
    "duration": 29,
    "start_time": "2023-05-31T03:09:47.746Z"
   },
   {
    "duration": 3043,
    "start_time": "2023-05-31T03:09:47.779Z"
   },
   {
    "duration": 16,
    "start_time": "2023-05-31T03:09:50.824Z"
   },
   {
    "duration": 81,
    "start_time": "2023-05-31T03:09:50.841Z"
   },
   {
    "duration": 11014,
    "start_time": "2023-05-31T03:09:50.924Z"
   },
   {
    "duration": 21,
    "start_time": "2023-05-31T03:10:01.940Z"
   },
   {
    "duration": 0,
    "start_time": "2023-05-31T03:10:01.964Z"
   },
   {
    "duration": 0,
    "start_time": "2023-05-31T03:10:01.967Z"
   },
   {
    "duration": 0,
    "start_time": "2023-05-31T03:10:01.969Z"
   },
   {
    "duration": 26,
    "start_time": "2023-05-31T03:15:10.935Z"
   },
   {
    "duration": 21,
    "start_time": "2023-05-31T03:16:52.000Z"
   },
   {
    "duration": 17,
    "start_time": "2023-05-31T03:17:15.887Z"
   },
   {
    "duration": 8,
    "start_time": "2023-05-31T03:17:25.928Z"
   },
   {
    "duration": 1712,
    "start_time": "2023-05-31T03:17:36.732Z"
   },
   {
    "duration": 92,
    "start_time": "2023-05-31T03:17:38.450Z"
   },
   {
    "duration": 15,
    "start_time": "2023-05-31T03:17:38.544Z"
   },
   {
    "duration": 55,
    "start_time": "2023-05-31T03:17:38.565Z"
   },
   {
    "duration": 8,
    "start_time": "2023-05-31T03:17:38.622Z"
   },
   {
    "duration": 30,
    "start_time": "2023-05-31T03:17:38.632Z"
   },
   {
    "duration": 78,
    "start_time": "2023-05-31T03:17:38.666Z"
   },
   {
    "duration": 19,
    "start_time": "2023-05-31T03:17:38.745Z"
   },
   {
    "duration": 38,
    "start_time": "2023-05-31T03:17:38.773Z"
   },
   {
    "duration": 17,
    "start_time": "2023-05-31T03:17:38.814Z"
   },
   {
    "duration": 1061,
    "start_time": "2023-05-31T03:17:38.832Z"
   },
   {
    "duration": 7,
    "start_time": "2023-05-31T03:17:39.895Z"
   },
   {
    "duration": 66,
    "start_time": "2023-05-31T03:17:39.904Z"
   },
   {
    "duration": 43,
    "start_time": "2023-05-31T03:17:39.973Z"
   },
   {
    "duration": 59,
    "start_time": "2023-05-31T03:17:40.021Z"
   },
   {
    "duration": 2625,
    "start_time": "2023-05-31T03:17:40.081Z"
   },
   {
    "duration": 22,
    "start_time": "2023-05-31T03:17:42.710Z"
   },
   {
    "duration": 3145,
    "start_time": "2023-05-31T03:17:42.734Z"
   },
   {
    "duration": 22,
    "start_time": "2023-05-31T03:17:45.883Z"
   },
   {
    "duration": 21,
    "start_time": "2023-05-31T03:17:45.907Z"
   },
   {
    "duration": 22,
    "start_time": "2023-05-31T03:17:45.930Z"
   },
   {
    "duration": 71,
    "start_time": "2023-05-31T03:17:45.954Z"
   },
   {
    "duration": 2876,
    "start_time": "2023-05-31T03:17:46.027Z"
   },
   {
    "duration": 29,
    "start_time": "2023-05-31T03:17:48.905Z"
   },
   {
    "duration": 29,
    "start_time": "2023-05-31T03:17:48.936Z"
   },
   {
    "duration": 22581,
    "start_time": "2023-05-31T03:17:48.968Z"
   },
   {
    "duration": 39,
    "start_time": "2023-05-31T03:18:11.555Z"
   },
   {
    "duration": 2961,
    "start_time": "2023-05-31T03:18:11.603Z"
   },
   {
    "duration": 115,
    "start_time": "2023-05-31T03:18:14.571Z"
   },
   {
    "duration": 123,
    "start_time": "2023-05-31T03:18:14.693Z"
   },
   {
    "duration": 22,
    "start_time": "2023-05-31T03:22:02.872Z"
   },
   {
    "duration": 1621,
    "start_time": "2023-05-31T03:22:11.048Z"
   },
   {
    "duration": 112,
    "start_time": "2023-05-31T03:22:12.671Z"
   },
   {
    "duration": 12,
    "start_time": "2023-05-31T03:22:12.789Z"
   },
   {
    "duration": 19,
    "start_time": "2023-05-31T03:22:12.804Z"
   },
   {
    "duration": 23,
    "start_time": "2023-05-31T03:22:12.825Z"
   },
   {
    "duration": 62,
    "start_time": "2023-05-31T03:22:12.850Z"
   },
   {
    "duration": 108,
    "start_time": "2023-05-31T03:22:12.915Z"
   },
   {
    "duration": 19,
    "start_time": "2023-05-31T03:22:13.026Z"
   },
   {
    "duration": 62,
    "start_time": "2023-05-31T03:22:13.051Z"
   },
   {
    "duration": 39,
    "start_time": "2023-05-31T03:22:13.116Z"
   },
   {
    "duration": 1046,
    "start_time": "2023-05-31T03:22:13.158Z"
   },
   {
    "duration": 3,
    "start_time": "2023-05-31T03:22:14.206Z"
   },
   {
    "duration": 21,
    "start_time": "2023-05-31T03:22:14.211Z"
   },
   {
    "duration": 6,
    "start_time": "2023-05-31T03:22:14.245Z"
   },
   {
    "duration": 118,
    "start_time": "2023-05-31T03:22:14.253Z"
   },
   {
    "duration": 2044,
    "start_time": "2023-05-31T03:22:14.376Z"
   },
   {
    "duration": 30,
    "start_time": "2023-05-31T03:22:16.422Z"
   },
   {
    "duration": 2449,
    "start_time": "2023-05-31T03:22:16.454Z"
   },
   {
    "duration": 16,
    "start_time": "2023-05-31T03:22:18.905Z"
   },
   {
    "duration": 5,
    "start_time": "2023-05-31T03:22:18.923Z"
   },
   {
    "duration": 44,
    "start_time": "2023-05-31T03:22:18.948Z"
   },
   {
    "duration": 30,
    "start_time": "2023-05-31T03:22:18.994Z"
   },
   {
    "duration": 2689,
    "start_time": "2023-05-31T03:22:19.026Z"
   },
   {
    "duration": 18,
    "start_time": "2023-05-31T03:22:21.718Z"
   },
   {
    "duration": 19,
    "start_time": "2023-05-31T03:22:21.747Z"
   },
   {
    "duration": 19987,
    "start_time": "2023-05-31T03:22:21.779Z"
   },
   {
    "duration": 35,
    "start_time": "2023-05-31T03:22:41.767Z"
   },
   {
    "duration": 2881,
    "start_time": "2023-05-31T03:22:41.806Z"
   },
   {
    "duration": 190,
    "start_time": "2023-05-31T03:22:44.688Z"
   },
   {
    "duration": 80,
    "start_time": "2023-05-31T03:22:44.888Z"
   },
   {
    "duration": 1538,
    "start_time": "2023-05-31T03:23:33.495Z"
   },
   {
    "duration": 139,
    "start_time": "2023-05-31T03:23:35.036Z"
   },
   {
    "duration": 8,
    "start_time": "2023-05-31T03:23:35.178Z"
   },
   {
    "duration": 35,
    "start_time": "2023-05-31T03:23:35.188Z"
   },
   {
    "duration": 52,
    "start_time": "2023-05-31T03:23:35.225Z"
   },
   {
    "duration": 21,
    "start_time": "2023-05-31T03:23:35.285Z"
   },
   {
    "duration": 44,
    "start_time": "2023-05-31T03:23:35.308Z"
   },
   {
    "duration": 10,
    "start_time": "2023-05-31T03:23:35.358Z"
   },
   {
    "duration": 61,
    "start_time": "2023-05-31T03:23:35.369Z"
   },
   {
    "duration": 25,
    "start_time": "2023-05-31T03:23:35.432Z"
   },
   {
    "duration": 1032,
    "start_time": "2023-05-31T03:23:35.460Z"
   },
   {
    "duration": 2,
    "start_time": "2023-05-31T03:23:36.494Z"
   },
   {
    "duration": 26,
    "start_time": "2023-05-31T03:23:36.498Z"
   },
   {
    "duration": 20,
    "start_time": "2023-05-31T03:23:36.527Z"
   },
   {
    "duration": 50,
    "start_time": "2023-05-31T03:23:36.549Z"
   },
   {
    "duration": 2277,
    "start_time": "2023-05-31T03:23:36.601Z"
   },
   {
    "duration": 22,
    "start_time": "2023-05-31T03:23:38.888Z"
   },
   {
    "duration": 2358,
    "start_time": "2023-05-31T03:23:38.913Z"
   },
   {
    "duration": 25,
    "start_time": "2023-05-31T03:23:41.272Z"
   },
   {
    "duration": 28,
    "start_time": "2023-05-31T03:23:41.299Z"
   },
   {
    "duration": 66,
    "start_time": "2023-05-31T03:23:41.329Z"
   },
   {
    "duration": 20,
    "start_time": "2023-05-31T03:23:41.397Z"
   },
   {
    "duration": 2799,
    "start_time": "2023-05-31T03:23:41.418Z"
   },
   {
    "duration": 14,
    "start_time": "2023-05-31T03:23:44.219Z"
   },
   {
    "duration": 28,
    "start_time": "2023-05-31T03:23:44.248Z"
   },
   {
    "duration": 18966,
    "start_time": "2023-05-31T03:23:44.278Z"
   },
   {
    "duration": 28,
    "start_time": "2023-05-31T03:24:03.248Z"
   },
   {
    "duration": 2830,
    "start_time": "2023-05-31T03:24:03.277Z"
   },
   {
    "duration": 295,
    "start_time": "2023-05-31T03:24:06.168Z"
   },
   {
    "duration": 27,
    "start_time": "2023-05-31T03:24:06.476Z"
   },
   {
    "duration": 17361,
    "start_time": "2023-05-31T03:43:53.763Z"
   },
   {
    "duration": 24,
    "start_time": "2023-05-31T03:44:13.517Z"
   },
   {
    "duration": 20558,
    "start_time": "2023-05-31T03:44:27.369Z"
   },
   {
    "duration": 28,
    "start_time": "2023-05-31T03:44:50.596Z"
   },
   {
    "duration": 25,
    "start_time": "2023-05-31T03:44:59.688Z"
   },
   {
    "duration": 19455,
    "start_time": "2023-05-31T03:46:23.600Z"
   },
   {
    "duration": 7,
    "start_time": "2023-05-31T04:04:46.560Z"
   },
   {
    "duration": 151,
    "start_time": "2023-05-31T04:06:15.846Z"
   },
   {
    "duration": 101,
    "start_time": "2023-05-31T04:06:23.001Z"
   },
   {
    "duration": 24,
    "start_time": "2023-05-31T04:06:28.818Z"
   },
   {
    "duration": 36,
    "start_time": "2023-05-31T04:07:03.970Z"
   },
   {
    "duration": 22,
    "start_time": "2023-05-31T04:07:39.868Z"
   },
   {
    "duration": 19,
    "start_time": "2023-05-31T04:08:00.673Z"
   },
   {
    "duration": 28,
    "start_time": "2023-05-31T04:08:44.984Z"
   },
   {
    "duration": 1588,
    "start_time": "2023-05-31T04:09:22.065Z"
   },
   {
    "duration": 88,
    "start_time": "2023-05-31T04:09:23.654Z"
   },
   {
    "duration": 16,
    "start_time": "2023-05-31T04:09:23.744Z"
   },
   {
    "duration": 74,
    "start_time": "2023-05-31T04:09:23.764Z"
   },
   {
    "duration": 60,
    "start_time": "2023-05-31T04:09:23.840Z"
   },
   {
    "duration": 23,
    "start_time": "2023-05-31T04:09:23.901Z"
   },
   {
    "duration": 52,
    "start_time": "2023-05-31T04:09:23.925Z"
   },
   {
    "duration": 19,
    "start_time": "2023-05-31T04:09:23.981Z"
   },
   {
    "duration": 15,
    "start_time": "2023-05-31T04:09:24.002Z"
   },
   {
    "duration": 24,
    "start_time": "2023-05-31T04:09:24.021Z"
   },
   {
    "duration": 942,
    "start_time": "2023-05-31T04:09:24.049Z"
   },
   {
    "duration": 7,
    "start_time": "2023-05-31T04:09:24.993Z"
   },
   {
    "duration": 23,
    "start_time": "2023-05-31T04:09:25.002Z"
   },
   {
    "duration": 4,
    "start_time": "2023-05-31T04:09:25.027Z"
   },
   {
    "duration": 65,
    "start_time": "2023-05-31T04:09:25.032Z"
   },
   {
    "duration": 2876,
    "start_time": "2023-05-31T04:09:25.099Z"
   },
   {
    "duration": 87,
    "start_time": "2023-05-31T04:09:27.977Z"
   },
   {
    "duration": 2855,
    "start_time": "2023-05-31T04:09:28.076Z"
   },
   {
    "duration": 26,
    "start_time": "2023-05-31T04:09:30.933Z"
   },
   {
    "duration": 37,
    "start_time": "2023-05-31T04:09:30.966Z"
   },
   {
    "duration": 34,
    "start_time": "2023-05-31T04:09:31.005Z"
   },
   {
    "duration": 51,
    "start_time": "2023-05-31T04:09:31.040Z"
   },
   {
    "duration": 2636,
    "start_time": "2023-05-31T04:09:31.093Z"
   },
   {
    "duration": 34,
    "start_time": "2023-05-31T04:09:33.731Z"
   },
   {
    "duration": 118,
    "start_time": "2023-05-31T04:09:33.768Z"
   },
   {
    "duration": 17898,
    "start_time": "2023-05-31T04:09:33.888Z"
   },
   {
    "duration": 24,
    "start_time": "2023-05-31T04:09:51.788Z"
   },
   {
    "duration": 3154,
    "start_time": "2023-05-31T04:09:51.815Z"
   },
   {
    "duration": 190,
    "start_time": "2023-05-31T04:09:54.971Z"
   },
   {
    "duration": 35,
    "start_time": "2023-05-31T04:09:55.163Z"
   },
   {
    "duration": 35,
    "start_time": "2023-05-31T04:14:22.314Z"
   },
   {
    "duration": 1641,
    "start_time": "2023-05-31T04:18:42.948Z"
   },
   {
    "duration": 77,
    "start_time": "2023-05-31T04:18:44.597Z"
   },
   {
    "duration": 7,
    "start_time": "2023-05-31T04:18:44.675Z"
   },
   {
    "duration": 16,
    "start_time": "2023-05-31T04:18:44.700Z"
   },
   {
    "duration": 18,
    "start_time": "2023-05-31T04:18:44.717Z"
   },
   {
    "duration": 7,
    "start_time": "2023-05-31T04:18:44.737Z"
   },
   {
    "duration": 82,
    "start_time": "2023-05-31T04:18:44.745Z"
   },
   {
    "duration": 4,
    "start_time": "2023-05-31T04:18:44.828Z"
   },
   {
    "duration": 9,
    "start_time": "2023-05-31T04:18:44.834Z"
   },
   {
    "duration": 62,
    "start_time": "2023-05-31T04:18:44.851Z"
   },
   {
    "duration": 954,
    "start_time": "2023-05-31T04:18:44.915Z"
   },
   {
    "duration": 3,
    "start_time": "2023-05-31T04:18:45.870Z"
   },
   {
    "duration": 29,
    "start_time": "2023-05-31T04:18:45.874Z"
   },
   {
    "duration": 10,
    "start_time": "2023-05-31T04:18:45.905Z"
   },
   {
    "duration": 73,
    "start_time": "2023-05-31T04:18:45.917Z"
   },
   {
    "duration": 2246,
    "start_time": "2023-05-31T04:18:45.993Z"
   },
   {
    "duration": 26,
    "start_time": "2023-05-31T04:18:48.241Z"
   },
   {
    "duration": 2495,
    "start_time": "2023-05-31T04:18:48.269Z"
   },
   {
    "duration": 25,
    "start_time": "2023-05-31T04:18:50.766Z"
   },
   {
    "duration": 12,
    "start_time": "2023-05-31T04:18:50.796Z"
   },
   {
    "duration": 12,
    "start_time": "2023-05-31T04:18:50.810Z"
   },
   {
    "duration": 10,
    "start_time": "2023-05-31T04:18:50.824Z"
   },
   {
    "duration": 2646,
    "start_time": "2023-05-31T04:18:50.836Z"
   },
   {
    "duration": 21,
    "start_time": "2023-05-31T04:18:53.484Z"
   },
   {
    "duration": 33,
    "start_time": "2023-05-31T04:18:53.506Z"
   },
   {
    "duration": 18275,
    "start_time": "2023-05-31T04:18:53.540Z"
   },
   {
    "duration": 32,
    "start_time": "2023-05-31T04:19:11.817Z"
   },
   {
    "duration": 3324,
    "start_time": "2023-05-31T04:19:11.853Z"
   },
   {
    "duration": 184,
    "start_time": "2023-05-31T04:19:15.181Z"
   },
   {
    "duration": 118,
    "start_time": "2023-05-31T04:19:15.382Z"
   },
   {
    "duration": 1695,
    "start_time": "2023-05-31T04:27:33.616Z"
   },
   {
    "duration": 93,
    "start_time": "2023-05-31T04:27:35.318Z"
   },
   {
    "duration": 4,
    "start_time": "2023-05-31T04:27:35.418Z"
   },
   {
    "duration": 17,
    "start_time": "2023-05-31T04:27:35.424Z"
   },
   {
    "duration": 167,
    "start_time": "2023-05-31T04:27:35.443Z"
   },
   {
    "duration": 88,
    "start_time": "2023-05-31T04:27:35.613Z"
   },
   {
    "duration": 109,
    "start_time": "2023-05-31T04:27:35.703Z"
   },
   {
    "duration": 4,
    "start_time": "2023-05-31T04:27:35.815Z"
   },
   {
    "duration": 18,
    "start_time": "2023-05-31T04:27:35.820Z"
   },
   {
    "duration": 34,
    "start_time": "2023-05-31T04:27:35.840Z"
   },
   {
    "duration": 1081,
    "start_time": "2023-05-31T04:27:35.876Z"
   },
   {
    "duration": 6,
    "start_time": "2023-05-31T04:27:36.959Z"
   },
   {
    "duration": 32,
    "start_time": "2023-05-31T04:27:36.967Z"
   },
   {
    "duration": 24,
    "start_time": "2023-05-31T04:27:37.004Z"
   },
   {
    "duration": 85,
    "start_time": "2023-05-31T04:27:37.030Z"
   },
   {
    "duration": 2247,
    "start_time": "2023-05-31T04:27:37.119Z"
   },
   {
    "duration": 22,
    "start_time": "2023-05-31T04:27:39.368Z"
   },
   {
    "duration": 2615,
    "start_time": "2023-05-31T04:27:39.391Z"
   },
   {
    "duration": 20,
    "start_time": "2023-05-31T04:27:42.008Z"
   },
   {
    "duration": 4,
    "start_time": "2023-05-31T04:27:42.030Z"
   },
   {
    "duration": 31,
    "start_time": "2023-05-31T04:27:42.036Z"
   },
   {
    "duration": 50,
    "start_time": "2023-05-31T04:27:42.074Z"
   },
   {
    "duration": 3078,
    "start_time": "2023-05-31T04:27:42.126Z"
   },
   {
    "duration": 25,
    "start_time": "2023-05-31T04:27:45.206Z"
   },
   {
    "duration": 23,
    "start_time": "2023-05-31T04:27:45.233Z"
   },
   {
    "duration": 21579,
    "start_time": "2023-05-31T04:27:45.259Z"
   },
   {
    "duration": 44,
    "start_time": "2023-05-31T04:28:06.840Z"
   },
   {
    "duration": 3132,
    "start_time": "2023-05-31T04:28:06.888Z"
   },
   {
    "duration": 133,
    "start_time": "2023-05-31T04:28:10.022Z"
   },
   {
    "duration": 98,
    "start_time": "2023-05-31T04:28:10.157Z"
   },
   {
    "duration": 40,
    "start_time": "2023-05-31T04:33:44.477Z"
   },
   {
    "duration": 45,
    "start_time": "2023-05-31T04:33:50.985Z"
   },
   {
    "duration": 1516,
    "start_time": "2023-05-31T04:33:55.983Z"
   },
   {
    "duration": 75,
    "start_time": "2023-05-31T04:33:57.502Z"
   },
   {
    "duration": 6,
    "start_time": "2023-05-31T04:33:57.579Z"
   },
   {
    "duration": 20,
    "start_time": "2023-05-31T04:33:57.587Z"
   },
   {
    "duration": 5,
    "start_time": "2023-05-31T04:33:57.610Z"
   },
   {
    "duration": 10,
    "start_time": "2023-05-31T04:33:57.616Z"
   },
   {
    "duration": 55,
    "start_time": "2023-05-31T04:33:57.627Z"
   },
   {
    "duration": 10,
    "start_time": "2023-05-31T04:33:57.684Z"
   },
   {
    "duration": 10,
    "start_time": "2023-05-31T04:33:57.696Z"
   },
   {
    "duration": 20,
    "start_time": "2023-05-31T04:33:57.707Z"
   },
   {
    "duration": 958,
    "start_time": "2023-05-31T04:33:57.728Z"
   },
   {
    "duration": 5,
    "start_time": "2023-05-31T04:33:58.687Z"
   },
   {
    "duration": 31,
    "start_time": "2023-05-31T04:33:58.696Z"
   },
   {
    "duration": 57,
    "start_time": "2023-05-31T04:33:58.730Z"
   },
   {
    "duration": 10,
    "start_time": "2023-05-31T04:33:58.795Z"
   },
   {
    "duration": 2050,
    "start_time": "2023-05-31T04:33:58.806Z"
   },
   {
    "duration": 26,
    "start_time": "2023-05-31T04:34:00.860Z"
   },
   {
    "duration": 2721,
    "start_time": "2023-05-31T04:34:00.888Z"
   },
   {
    "duration": 18,
    "start_time": "2023-05-31T04:34:03.610Z"
   },
   {
    "duration": 24,
    "start_time": "2023-05-31T04:34:03.630Z"
   },
   {
    "duration": 18,
    "start_time": "2023-05-31T04:34:03.659Z"
   },
   {
    "duration": 25,
    "start_time": "2023-05-31T04:34:03.679Z"
   },
   {
    "duration": 2400,
    "start_time": "2023-05-31T04:34:03.706Z"
   },
   {
    "duration": 15,
    "start_time": "2023-05-31T04:34:06.107Z"
   },
   {
    "duration": 35,
    "start_time": "2023-05-31T04:34:06.124Z"
   },
   {
    "duration": 17578,
    "start_time": "2023-05-31T04:34:06.164Z"
   },
   {
    "duration": 42,
    "start_time": "2023-05-31T04:34:23.745Z"
   },
   {
    "duration": 2783,
    "start_time": "2023-05-31T04:34:23.789Z"
   },
   {
    "duration": 113,
    "start_time": "2023-05-31T04:34:26.574Z"
   },
   {
    "duration": 134,
    "start_time": "2023-05-31T04:34:26.773Z"
   },
   {
    "duration": 2584,
    "start_time": "2023-05-31T06:00:23.877Z"
   },
   {
    "duration": 78,
    "start_time": "2023-05-31T06:00:26.464Z"
   },
   {
    "duration": 4,
    "start_time": "2023-05-31T06:00:26.544Z"
   },
   {
    "duration": 15,
    "start_time": "2023-05-31T06:00:26.550Z"
   },
   {
    "duration": 14,
    "start_time": "2023-05-31T06:00:26.567Z"
   },
   {
    "duration": 16,
    "start_time": "2023-05-31T06:00:26.582Z"
   },
   {
    "duration": 31,
    "start_time": "2023-05-31T06:00:26.600Z"
   },
   {
    "duration": 4,
    "start_time": "2023-05-31T06:00:26.632Z"
   },
   {
    "duration": 13,
    "start_time": "2023-05-31T06:00:26.637Z"
   },
   {
    "duration": 29,
    "start_time": "2023-05-31T06:00:26.651Z"
   },
   {
    "duration": 773,
    "start_time": "2023-05-31T06:00:26.682Z"
   },
   {
    "duration": 2,
    "start_time": "2023-05-31T06:00:27.457Z"
   },
   {
    "duration": 27,
    "start_time": "2023-05-31T06:00:27.461Z"
   },
   {
    "duration": 31,
    "start_time": "2023-05-31T06:00:27.490Z"
   },
   {
    "duration": 5,
    "start_time": "2023-05-31T06:00:27.522Z"
   },
   {
    "duration": 1672,
    "start_time": "2023-05-31T06:00:27.528Z"
   },
   {
    "duration": 14,
    "start_time": "2023-05-31T06:00:29.201Z"
   },
   {
    "duration": 1953,
    "start_time": "2023-05-31T06:00:29.217Z"
   },
   {
    "duration": 14,
    "start_time": "2023-05-31T06:00:31.172Z"
   },
   {
    "duration": 46,
    "start_time": "2023-05-31T06:00:31.188Z"
   },
   {
    "duration": 39,
    "start_time": "2023-05-31T06:00:31.236Z"
   },
   {
    "duration": 39,
    "start_time": "2023-05-31T06:00:31.277Z"
   },
   {
    "duration": 2070,
    "start_time": "2023-05-31T06:00:31.318Z"
   },
   {
    "duration": 14,
    "start_time": "2023-05-31T06:00:33.390Z"
   },
   {
    "duration": 31,
    "start_time": "2023-05-31T06:00:33.405Z"
   },
   {
    "duration": 14613,
    "start_time": "2023-05-31T06:00:33.438Z"
   },
   {
    "duration": 24,
    "start_time": "2023-05-31T06:00:48.053Z"
   },
   {
    "duration": 3177,
    "start_time": "2023-05-31T06:00:48.079Z"
   },
   {
    "duration": 95,
    "start_time": "2023-05-31T06:00:51.257Z"
   },
   {
    "duration": 111,
    "start_time": "2023-05-31T06:00:51.356Z"
   },
   {
    "duration": 1541,
    "start_time": "2023-05-31T06:43:20.669Z"
   },
   {
    "duration": 190,
    "start_time": "2023-05-31T06:43:22.213Z"
   },
   {
    "duration": 4,
    "start_time": "2023-05-31T06:43:22.405Z"
   },
   {
    "duration": 7,
    "start_time": "2023-05-31T06:43:22.411Z"
   },
   {
    "duration": 5,
    "start_time": "2023-05-31T06:43:22.420Z"
   },
   {
    "duration": 4,
    "start_time": "2023-05-31T06:43:22.427Z"
   },
   {
    "duration": 30,
    "start_time": "2023-05-31T06:43:22.433Z"
   },
   {
    "duration": 5,
    "start_time": "2023-05-31T06:43:22.465Z"
   },
   {
    "duration": 5,
    "start_time": "2023-05-31T06:43:22.472Z"
   },
   {
    "duration": 45,
    "start_time": "2023-05-31T06:43:22.480Z"
   },
   {
    "duration": 821,
    "start_time": "2023-05-31T06:43:22.527Z"
   },
   {
    "duration": 2,
    "start_time": "2023-05-31T06:43:23.350Z"
   },
   {
    "duration": 24,
    "start_time": "2023-05-31T06:43:23.353Z"
   },
   {
    "duration": 31,
    "start_time": "2023-05-31T06:43:23.378Z"
   },
   {
    "duration": 4,
    "start_time": "2023-05-31T06:43:23.425Z"
   },
   {
    "duration": 1705,
    "start_time": "2023-05-31T06:43:23.431Z"
   },
   {
    "duration": 14,
    "start_time": "2023-05-31T06:43:25.137Z"
   },
   {
    "duration": 1883,
    "start_time": "2023-05-31T06:43:25.153Z"
   },
   {
    "duration": 12,
    "start_time": "2023-05-31T06:43:27.037Z"
   },
   {
    "duration": 3,
    "start_time": "2023-05-31T06:43:27.050Z"
   },
   {
    "duration": 12,
    "start_time": "2023-05-31T06:43:27.054Z"
   },
   {
    "duration": 9,
    "start_time": "2023-05-31T06:43:27.067Z"
   },
   {
    "duration": 1802,
    "start_time": "2023-05-31T06:43:27.077Z"
   },
   {
    "duration": 13,
    "start_time": "2023-05-31T06:43:28.881Z"
   },
   {
    "duration": 12,
    "start_time": "2023-05-31T06:43:28.895Z"
   },
   {
    "duration": 13671,
    "start_time": "2023-05-31T06:43:28.924Z"
   },
   {
    "duration": 31,
    "start_time": "2023-05-31T06:43:42.597Z"
   },
   {
    "duration": 3498,
    "start_time": "2023-05-31T06:43:42.630Z"
   },
   {
    "duration": 97,
    "start_time": "2023-05-31T06:43:46.130Z"
   },
   {
    "duration": 115,
    "start_time": "2023-05-31T06:43:46.230Z"
   },
   {
    "duration": 20,
    "start_time": "2023-05-31T06:45:10.420Z"
   },
   {
    "duration": 4,
    "start_time": "2023-05-31T06:47:15.692Z"
   },
   {
    "duration": 62,
    "start_time": "2023-05-31T06:47:15.697Z"
   },
   {
    "duration": 3,
    "start_time": "2023-05-31T06:47:15.761Z"
   },
   {
    "duration": 10,
    "start_time": "2023-05-31T06:47:15.765Z"
   },
   {
    "duration": 12,
    "start_time": "2023-05-31T06:47:15.777Z"
   },
   {
    "duration": 11,
    "start_time": "2023-05-31T06:47:15.790Z"
   },
   {
    "duration": 25,
    "start_time": "2023-05-31T06:47:15.802Z"
   },
   {
    "duration": 13,
    "start_time": "2023-05-31T06:47:15.828Z"
   },
   {
    "duration": 35,
    "start_time": "2023-05-31T06:47:15.842Z"
   },
   {
    "duration": 36,
    "start_time": "2023-05-31T06:47:15.878Z"
   },
   {
    "duration": 675,
    "start_time": "2023-05-31T06:47:15.916Z"
   },
   {
    "duration": 3,
    "start_time": "2023-05-31T06:47:16.593Z"
   },
   {
    "duration": 28,
    "start_time": "2023-05-31T06:47:16.597Z"
   },
   {
    "duration": 28,
    "start_time": "2023-05-31T06:47:16.627Z"
   },
   {
    "duration": 3,
    "start_time": "2023-05-31T06:47:16.657Z"
   },
   {
    "duration": 1587,
    "start_time": "2023-05-31T06:47:16.661Z"
   },
   {
    "duration": 20,
    "start_time": "2023-05-31T06:47:20.894Z"
   },
   {
    "duration": 13,
    "start_time": "2023-05-31T06:47:23.580Z"
   },
   {
    "duration": 22,
    "start_time": "2023-05-31T06:47:47.335Z"
   },
   {
    "duration": 20,
    "start_time": "2023-05-31T06:47:50.924Z"
   },
   {
    "duration": 1612,
    "start_time": "2023-05-31T06:48:55.827Z"
   },
   {
    "duration": 98,
    "start_time": "2023-05-31T06:49:09.379Z"
   },
   {
    "duration": 3,
    "start_time": "2023-05-31T06:49:15.310Z"
   },
   {
    "duration": 1737,
    "start_time": "2023-05-31T06:52:59.331Z"
   },
   {
    "duration": 4,
    "start_time": "2023-05-31T06:53:02.615Z"
   },
   {
    "duration": 4,
    "start_time": "2023-05-31T06:53:11.377Z"
   },
   {
    "duration": 62,
    "start_time": "2023-05-31T06:53:11.382Z"
   },
   {
    "duration": 5,
    "start_time": "2023-05-31T06:53:11.446Z"
   },
   {
    "duration": 10,
    "start_time": "2023-05-31T06:53:11.452Z"
   },
   {
    "duration": 7,
    "start_time": "2023-05-31T06:53:11.464Z"
   },
   {
    "duration": 14,
    "start_time": "2023-05-31T06:53:11.472Z"
   },
   {
    "duration": 23,
    "start_time": "2023-05-31T06:53:11.487Z"
   },
   {
    "duration": 13,
    "start_time": "2023-05-31T06:53:11.512Z"
   },
   {
    "duration": 6,
    "start_time": "2023-05-31T06:53:11.526Z"
   },
   {
    "duration": 17,
    "start_time": "2023-05-31T06:53:11.533Z"
   },
   {
    "duration": 709,
    "start_time": "2023-05-31T06:53:11.552Z"
   },
   {
    "duration": 3,
    "start_time": "2023-05-31T06:53:12.262Z"
   },
   {
    "duration": 18,
    "start_time": "2023-05-31T06:53:12.266Z"
   },
   {
    "duration": 7,
    "start_time": "2023-05-31T06:53:12.286Z"
   },
   {
    "duration": 9,
    "start_time": "2023-05-31T06:53:12.294Z"
   },
   {
    "duration": 1710,
    "start_time": "2023-05-31T06:53:14.526Z"
   },
   {
    "duration": 3,
    "start_time": "2023-05-31T06:53:18.310Z"
   },
   {
    "duration": 25,
    "start_time": "2023-05-31T06:53:20.007Z"
   },
   {
    "duration": 29,
    "start_time": "2023-05-31T06:54:05.136Z"
   },
   {
    "duration": 1795,
    "start_time": "2023-05-31T06:54:17.545Z"
   },
   {
    "duration": 4,
    "start_time": "2023-05-31T06:54:21.828Z"
   },
   {
    "duration": 23,
    "start_time": "2023-05-31T06:54:23.867Z"
   },
   {
    "duration": 11,
    "start_time": "2023-05-31T06:54:36.012Z"
   },
   {
    "duration": 8,
    "start_time": "2023-05-31T06:54:45.262Z"
   },
   {
    "duration": 8,
    "start_time": "2023-05-31T06:54:48.570Z"
   },
   {
    "duration": 10,
    "start_time": "2023-05-31T06:54:57.373Z"
   },
   {
    "duration": 9,
    "start_time": "2023-05-31T06:55:04.708Z"
   },
   {
    "duration": 9,
    "start_time": "2023-05-31T06:55:11.192Z"
   },
   {
    "duration": 27,
    "start_time": "2023-05-31T06:55:51.185Z"
   },
   {
    "duration": 10,
    "start_time": "2023-05-31T06:56:06.552Z"
   },
   {
    "duration": 1572,
    "start_time": "2023-05-31T06:56:11.366Z"
   },
   {
    "duration": 4,
    "start_time": "2023-05-31T06:56:19.266Z"
   },
   {
    "duration": 23,
    "start_time": "2023-05-31T06:59:58.102Z"
   },
   {
    "duration": 25,
    "start_time": "2023-05-31T07:01:31.892Z"
   },
   {
    "duration": 3,
    "start_time": "2023-05-31T07:02:15.184Z"
   },
   {
    "duration": 1347,
    "start_time": "2023-05-31T07:02:30.551Z"
   },
   {
    "duration": 62,
    "start_time": "2023-05-31T07:02:31.899Z"
   },
   {
    "duration": 4,
    "start_time": "2023-05-31T07:02:31.963Z"
   },
   {
    "duration": 13,
    "start_time": "2023-05-31T07:02:31.970Z"
   },
   {
    "duration": 6,
    "start_time": "2023-05-31T07:02:31.985Z"
   },
   {
    "duration": 5,
    "start_time": "2023-05-31T07:02:31.993Z"
   },
   {
    "duration": 36,
    "start_time": "2023-05-31T07:02:31.999Z"
   },
   {
    "duration": 4,
    "start_time": "2023-05-31T07:02:32.036Z"
   },
   {
    "duration": 9,
    "start_time": "2023-05-31T07:02:32.041Z"
   },
   {
    "duration": 17,
    "start_time": "2023-05-31T07:02:32.053Z"
   },
   {
    "duration": 711,
    "start_time": "2023-05-31T07:02:32.071Z"
   },
   {
    "duration": 3,
    "start_time": "2023-05-31T07:02:32.783Z"
   },
   {
    "duration": 22,
    "start_time": "2023-05-31T07:02:32.787Z"
   },
   {
    "duration": 47,
    "start_time": "2023-05-31T07:02:32.811Z"
   },
   {
    "duration": 3,
    "start_time": "2023-05-31T07:02:32.859Z"
   },
   {
    "duration": 1588,
    "start_time": "2023-05-31T07:02:32.863Z"
   },
   {
    "duration": 4,
    "start_time": "2023-05-31T07:02:34.452Z"
   },
   {
    "duration": 20,
    "start_time": "2023-05-31T07:02:34.458Z"
   },
   {
    "duration": 4,
    "start_time": "2023-05-31T07:02:34.479Z"
   },
   {
    "duration": 1814,
    "start_time": "2023-05-31T07:02:34.484Z"
   },
   {
    "duration": 5,
    "start_time": "2023-05-31T07:02:36.300Z"
   },
   {
    "duration": 6,
    "start_time": "2023-05-31T07:02:36.307Z"
   },
   {
    "duration": 10,
    "start_time": "2023-05-31T07:02:36.325Z"
   },
   {
    "duration": 10,
    "start_time": "2023-05-31T07:02:36.336Z"
   },
   {
    "duration": 2399,
    "start_time": "2023-05-31T07:02:36.347Z"
   },
   {
    "duration": 4,
    "start_time": "2023-05-31T07:02:38.747Z"
   },
   {
    "duration": 75,
    "start_time": "2023-05-31T07:02:38.752Z"
   },
   {
    "duration": 4,
    "start_time": "2023-05-31T07:02:38.830Z"
   },
   {
    "duration": 6,
    "start_time": "2023-05-31T07:02:38.836Z"
   },
   {
    "duration": 16431,
    "start_time": "2023-05-31T07:02:38.844Z"
   },
   {
    "duration": 3,
    "start_time": "2023-05-31T07:02:55.277Z"
   },
   {
    "duration": 3645,
    "start_time": "2023-05-31T07:02:55.281Z"
   },
   {
    "duration": 4,
    "start_time": "2023-05-31T07:02:58.928Z"
   },
   {
    "duration": 14,
    "start_time": "2023-05-31T07:02:58.933Z"
   },
   {
    "duration": 1318,
    "start_time": "2023-05-31T07:03:32.405Z"
   },
   {
    "duration": 60,
    "start_time": "2023-05-31T07:03:33.726Z"
   },
   {
    "duration": 4,
    "start_time": "2023-05-31T07:03:33.787Z"
   },
   {
    "duration": 8,
    "start_time": "2023-05-31T07:03:33.792Z"
   },
   {
    "duration": 7,
    "start_time": "2023-05-31T07:03:33.801Z"
   },
   {
    "duration": 4,
    "start_time": "2023-05-31T07:03:33.809Z"
   },
   {
    "duration": 22,
    "start_time": "2023-05-31T07:03:33.814Z"
   },
   {
    "duration": 3,
    "start_time": "2023-05-31T07:03:33.838Z"
   },
   {
    "duration": 27,
    "start_time": "2023-05-31T07:03:33.842Z"
   },
   {
    "duration": 12,
    "start_time": "2023-05-31T07:03:33.871Z"
   },
   {
    "duration": 771,
    "start_time": "2023-05-31T07:03:33.884Z"
   },
   {
    "duration": 2,
    "start_time": "2023-05-31T07:03:34.657Z"
   },
   {
    "duration": 21,
    "start_time": "2023-05-31T07:03:34.660Z"
   },
   {
    "duration": 42,
    "start_time": "2023-05-31T07:03:34.683Z"
   },
   {
    "duration": 4,
    "start_time": "2023-05-31T07:03:34.726Z"
   },
   {
    "duration": 1568,
    "start_time": "2023-05-31T07:03:34.731Z"
   },
   {
    "duration": 4,
    "start_time": "2023-05-31T07:03:36.300Z"
   },
   {
    "duration": 30,
    "start_time": "2023-05-31T07:03:36.305Z"
   },
   {
    "duration": 19,
    "start_time": "2023-05-31T07:03:36.336Z"
   },
   {
    "duration": 1790,
    "start_time": "2023-05-31T07:03:36.357Z"
   },
   {
    "duration": 13,
    "start_time": "2023-05-31T07:03:38.148Z"
   },
   {
    "duration": 3,
    "start_time": "2023-05-31T07:03:38.163Z"
   },
   {
    "duration": 14,
    "start_time": "2023-05-31T07:03:38.167Z"
   },
   {
    "duration": 10,
    "start_time": "2023-05-31T07:03:38.182Z"
   },
   {
    "duration": 1921,
    "start_time": "2023-05-31T07:03:38.193Z"
   },
   {
    "duration": 3,
    "start_time": "2023-05-31T07:03:40.115Z"
   },
   {
    "duration": 29,
    "start_time": "2023-05-31T07:03:40.124Z"
   },
   {
    "duration": 13,
    "start_time": "2023-05-31T07:03:40.155Z"
   },
   {
    "duration": 21,
    "start_time": "2023-05-31T07:03:40.169Z"
   },
   {
    "duration": 14474,
    "start_time": "2023-05-31T07:03:40.192Z"
   },
   {
    "duration": 21,
    "start_time": "2023-05-31T07:03:54.668Z"
   },
   {
    "duration": 3636,
    "start_time": "2023-05-31T07:03:54.690Z"
   },
   {
    "duration": 197,
    "start_time": "2023-05-31T07:03:58.328Z"
   },
   {
    "duration": 112,
    "start_time": "2023-05-31T07:03:58.528Z"
   },
   {
    "duration": 260,
    "start_time": "2023-05-31T07:11:43.406Z"
   },
   {
    "duration": 1354,
    "start_time": "2023-05-31T07:11:58.873Z"
   },
   {
    "duration": 64,
    "start_time": "2023-05-31T07:12:00.229Z"
   },
   {
    "duration": 4,
    "start_time": "2023-05-31T07:12:00.295Z"
   },
   {
    "duration": 48,
    "start_time": "2023-05-31T07:12:00.301Z"
   },
   {
    "duration": 105,
    "start_time": "2023-05-31T07:12:00.351Z"
   },
   {
    "duration": 54,
    "start_time": "2023-05-31T07:12:00.458Z"
   },
   {
    "duration": 47,
    "start_time": "2023-05-31T07:12:00.514Z"
   },
   {
    "duration": 76,
    "start_time": "2023-05-31T07:12:00.563Z"
   },
   {
    "duration": 55,
    "start_time": "2023-05-31T07:12:00.640Z"
   },
   {
    "duration": 74,
    "start_time": "2023-05-31T07:12:00.698Z"
   },
   {
    "duration": 823,
    "start_time": "2023-05-31T07:12:00.774Z"
   },
   {
    "duration": 2,
    "start_time": "2023-05-31T07:12:01.599Z"
   },
   {
    "duration": 144,
    "start_time": "2023-05-31T07:12:01.604Z"
   },
   {
    "duration": 96,
    "start_time": "2023-05-31T07:12:01.750Z"
   },
   {
    "duration": 18,
    "start_time": "2023-05-31T07:12:01.848Z"
   },
   {
    "duration": 1737,
    "start_time": "2023-05-31T07:12:01.868Z"
   },
   {
    "duration": 3,
    "start_time": "2023-05-31T07:12:03.607Z"
   },
   {
    "duration": 27,
    "start_time": "2023-05-31T07:12:03.612Z"
   },
   {
    "duration": 14,
    "start_time": "2023-05-31T07:12:03.641Z"
   },
   {
    "duration": 2169,
    "start_time": "2023-05-31T07:12:03.656Z"
   },
   {
    "duration": 18,
    "start_time": "2023-05-31T07:12:05.827Z"
   },
   {
    "duration": 5,
    "start_time": "2023-05-31T07:12:05.847Z"
   },
   {
    "duration": 76,
    "start_time": "2023-05-31T07:12:05.853Z"
   },
   {
    "duration": 10,
    "start_time": "2023-05-31T07:12:05.930Z"
   },
   {
    "duration": 1709,
    "start_time": "2023-05-31T07:12:05.941Z"
   },
   {
    "duration": 9,
    "start_time": "2023-05-31T07:12:07.652Z"
   },
   {
    "duration": 0,
    "start_time": "2023-05-31T07:12:07.663Z"
   },
   {
    "duration": 0,
    "start_time": "2023-05-31T07:12:07.664Z"
   },
   {
    "duration": 0,
    "start_time": "2023-05-31T07:12:07.665Z"
   },
   {
    "duration": 0,
    "start_time": "2023-05-31T07:12:07.666Z"
   },
   {
    "duration": 0,
    "start_time": "2023-05-31T07:12:07.667Z"
   },
   {
    "duration": 0,
    "start_time": "2023-05-31T07:12:07.669Z"
   },
   {
    "duration": 0,
    "start_time": "2023-05-31T07:12:07.669Z"
   },
   {
    "duration": 1,
    "start_time": "2023-05-31T07:12:07.670Z"
   },
   {
    "duration": 4,
    "start_time": "2023-05-31T07:14:52.005Z"
   },
   {
    "duration": 66,
    "start_time": "2023-05-31T07:14:52.010Z"
   },
   {
    "duration": 4,
    "start_time": "2023-05-31T07:14:52.078Z"
   },
   {
    "duration": 8,
    "start_time": "2023-05-31T07:14:52.083Z"
   },
   {
    "duration": 9,
    "start_time": "2023-05-31T07:14:52.093Z"
   },
   {
    "duration": 8,
    "start_time": "2023-05-31T07:14:52.103Z"
   },
   {
    "duration": 23,
    "start_time": "2023-05-31T07:14:52.112Z"
   },
   {
    "duration": 27,
    "start_time": "2023-05-31T07:14:52.137Z"
   },
   {
    "duration": 14,
    "start_time": "2023-05-31T07:14:52.166Z"
   },
   {
    "duration": 21,
    "start_time": "2023-05-31T07:14:52.181Z"
   },
   {
    "duration": 777,
    "start_time": "2023-05-31T07:14:52.204Z"
   },
   {
    "duration": 2,
    "start_time": "2023-05-31T07:14:52.983Z"
   },
   {
    "duration": 30,
    "start_time": "2023-05-31T07:14:52.987Z"
   },
   {
    "duration": 14,
    "start_time": "2023-05-31T07:14:53.019Z"
   },
   {
    "duration": 6,
    "start_time": "2023-05-31T07:14:53.034Z"
   },
   {
    "duration": 1809,
    "start_time": "2023-05-31T07:14:57.491Z"
   },
   {
    "duration": 4,
    "start_time": "2023-05-31T07:15:01.269Z"
   },
   {
    "duration": 22,
    "start_time": "2023-05-31T07:15:03.547Z"
   },
   {
    "duration": 13,
    "start_time": "2023-05-31T07:15:07.742Z"
   },
   {
    "duration": 9,
    "start_time": "2023-05-31T07:17:38.151Z"
   },
   {
    "duration": 9,
    "start_time": "2023-05-31T07:17:46.529Z"
   },
   {
    "duration": 3,
    "start_time": "2023-05-31T07:17:50.225Z"
   },
   {
    "duration": 25,
    "start_time": "2023-05-31T07:23:22.402Z"
   },
   {
    "duration": 4,
    "start_time": "2023-05-31T07:23:26.999Z"
   },
   {
    "duration": 25,
    "start_time": "2023-05-31T07:23:35.350Z"
   },
   {
    "duration": 10,
    "start_time": "2023-05-31T07:56:31.171Z"
   },
   {
    "duration": 4,
    "start_time": "2023-05-31T07:56:54.004Z"
   },
   {
    "duration": 5,
    "start_time": "2023-05-31T07:57:15.202Z"
   },
   {
    "duration": 4,
    "start_time": "2023-05-31T07:57:57.303Z"
   },
   {
    "duration": 5,
    "start_time": "2023-05-31T07:58:37.980Z"
   },
   {
    "duration": 25,
    "start_time": "2023-05-31T07:59:53.603Z"
   },
   {
    "duration": 24,
    "start_time": "2023-05-31T08:00:05.183Z"
   },
   {
    "duration": 100,
    "start_time": "2023-05-31T08:02:09.442Z"
   },
   {
    "duration": 96,
    "start_time": "2023-05-31T08:02:19.820Z"
   },
   {
    "duration": 125,
    "start_time": "2023-05-31T08:02:25.618Z"
   },
   {
    "duration": 33,
    "start_time": "2023-05-31T08:02:41.103Z"
   },
   {
    "duration": 13,
    "start_time": "2023-05-31T08:09:48.703Z"
   },
   {
    "duration": 11,
    "start_time": "2023-05-31T08:10:00.845Z"
   },
   {
    "duration": 7,
    "start_time": "2023-05-31T08:10:11.119Z"
   },
   {
    "duration": 6,
    "start_time": "2023-05-31T08:10:17.795Z"
   },
   {
    "duration": 27,
    "start_time": "2023-05-31T08:22:37.520Z"
   },
   {
    "duration": 1951,
    "start_time": "2023-05-31T08:28:32.683Z"
   },
   {
    "duration": 6,
    "start_time": "2023-05-31T08:28:36.278Z"
   },
   {
    "duration": 25,
    "start_time": "2023-05-31T08:28:43.259Z"
   },
   {
    "duration": 15,
    "start_time": "2023-05-31T08:28:47.513Z"
   },
   {
    "duration": 3,
    "start_time": "2023-05-31T08:32:28.853Z"
   },
   {
    "duration": 5,
    "start_time": "2023-05-31T08:32:45.961Z"
   },
   {
    "duration": 13,
    "start_time": "2023-05-31T08:32:49.986Z"
   },
   {
    "duration": 5,
    "start_time": "2023-05-31T08:33:00.408Z"
   },
   {
    "duration": 90,
    "start_time": "2023-05-31T08:33:00.414Z"
   },
   {
    "duration": 4,
    "start_time": "2023-05-31T08:33:00.506Z"
   },
   {
    "duration": 82,
    "start_time": "2023-05-31T08:33:00.512Z"
   },
   {
    "duration": 39,
    "start_time": "2023-05-31T08:33:00.596Z"
   },
   {
    "duration": 36,
    "start_time": "2023-05-31T08:33:00.637Z"
   },
   {
    "duration": 64,
    "start_time": "2023-05-31T08:33:00.675Z"
   },
   {
    "duration": 17,
    "start_time": "2023-05-31T08:33:00.741Z"
   },
   {
    "duration": 64,
    "start_time": "2023-05-31T08:33:00.759Z"
   },
   {
    "duration": 29,
    "start_time": "2023-05-31T08:33:00.825Z"
   },
   {
    "duration": 847,
    "start_time": "2023-05-31T08:33:00.858Z"
   },
   {
    "duration": 2,
    "start_time": "2023-05-31T08:33:01.707Z"
   },
   {
    "duration": 80,
    "start_time": "2023-05-31T08:33:01.711Z"
   },
   {
    "duration": 43,
    "start_time": "2023-05-31T08:33:01.793Z"
   },
   {
    "duration": 82,
    "start_time": "2023-05-31T08:33:01.838Z"
   },
   {
    "duration": 1872,
    "start_time": "2023-05-31T08:33:01.922Z"
   },
   {
    "duration": 5,
    "start_time": "2023-05-31T08:33:03.796Z"
   },
   {
    "duration": 41,
    "start_time": "2023-05-31T08:33:03.803Z"
   },
   {
    "duration": 13,
    "start_time": "2023-05-31T08:33:10.917Z"
   },
   {
    "duration": 4,
    "start_time": "2023-05-31T08:33:43.720Z"
   },
   {
    "duration": 13,
    "start_time": "2023-05-31T08:34:01.601Z"
   },
   {
    "duration": 6,
    "start_time": "2023-05-31T08:35:07.461Z"
   },
   {
    "duration": 10,
    "start_time": "2023-05-31T08:35:13.150Z"
   },
   {
    "duration": 4,
    "start_time": "2023-05-31T08:35:16.176Z"
   },
   {
    "duration": 26,
    "start_time": "2023-05-31T08:36:32.785Z"
   },
   {
    "duration": 6,
    "start_time": "2023-05-31T08:36:56.744Z"
   },
   {
    "duration": 4,
    "start_time": "2023-05-31T08:37:04.686Z"
   },
   {
    "duration": 15,
    "start_time": "2023-05-31T08:37:22.666Z"
   },
   {
    "duration": 5,
    "start_time": "2023-05-31T08:40:09.784Z"
   },
   {
    "duration": 12,
    "start_time": "2023-05-31T08:41:49.279Z"
   },
   {
    "duration": 27,
    "start_time": "2023-05-31T08:41:58.384Z"
   },
   {
    "duration": 25,
    "start_time": "2023-05-31T08:42:56.033Z"
   },
   {
    "duration": 12,
    "start_time": "2023-05-31T08:42:57.850Z"
   },
   {
    "duration": 12,
    "start_time": "2023-05-31T08:43:11.220Z"
   },
   {
    "duration": 14,
    "start_time": "2023-05-31T08:43:14.177Z"
   },
   {
    "duration": 4,
    "start_time": "2023-05-31T08:45:30.211Z"
   },
   {
    "duration": 111,
    "start_time": "2023-05-31T08:45:30.217Z"
   },
   {
    "duration": 37,
    "start_time": "2023-05-31T08:45:30.331Z"
   },
   {
    "duration": 38,
    "start_time": "2023-05-31T08:45:30.370Z"
   },
   {
    "duration": 30,
    "start_time": "2023-05-31T08:45:30.411Z"
   },
   {
    "duration": 50,
    "start_time": "2023-05-31T08:45:30.443Z"
   },
   {
    "duration": 54,
    "start_time": "2023-05-31T08:45:30.495Z"
   },
   {
    "duration": 11,
    "start_time": "2023-05-31T08:45:30.551Z"
   },
   {
    "duration": 47,
    "start_time": "2023-05-31T08:45:30.564Z"
   },
   {
    "duration": 42,
    "start_time": "2023-05-31T08:45:30.613Z"
   },
   {
    "duration": 767,
    "start_time": "2023-05-31T08:45:30.658Z"
   },
   {
    "duration": 3,
    "start_time": "2023-05-31T08:45:31.426Z"
   },
   {
    "duration": 40,
    "start_time": "2023-05-31T08:45:31.430Z"
   },
   {
    "duration": 29,
    "start_time": "2023-05-31T08:45:31.472Z"
   },
   {
    "duration": 48,
    "start_time": "2023-05-31T08:45:31.503Z"
   },
   {
    "duration": 2043,
    "start_time": "2023-05-31T08:45:31.552Z"
   },
   {
    "duration": 6,
    "start_time": "2023-05-31T08:45:33.596Z"
   },
   {
    "duration": 28,
    "start_time": "2023-05-31T08:45:33.603Z"
   },
   {
    "duration": 10,
    "start_time": "2023-05-31T08:45:33.633Z"
   },
   {
    "duration": 12,
    "start_time": "2023-05-31T08:45:37.071Z"
   },
   {
    "duration": 33,
    "start_time": "2023-05-31T08:54:28.747Z"
   },
   {
    "duration": 1685,
    "start_time": "2023-05-31T08:54:35.608Z"
   },
   {
    "duration": 6,
    "start_time": "2023-05-31T08:54:39.083Z"
   },
   {
    "duration": 26,
    "start_time": "2023-05-31T08:54:47.210Z"
   },
   {
    "duration": 11,
    "start_time": "2023-05-31T08:55:02.480Z"
   },
   {
    "duration": 25,
    "start_time": "2023-05-31T08:55:23.694Z"
   },
   {
    "duration": 4,
    "start_time": "2023-05-31T09:11:51.398Z"
   },
   {
    "duration": 9,
    "start_time": "2023-05-31T09:11:56.569Z"
   },
   {
    "duration": 5,
    "start_time": "2023-05-31T09:12:03.818Z"
   },
   {
    "duration": 9,
    "start_time": "2023-05-31T09:12:32.603Z"
   },
   {
    "duration": 4,
    "start_time": "2023-05-31T09:12:49.158Z"
   },
   {
    "duration": 6,
    "start_time": "2023-05-31T09:13:05.558Z"
   },
   {
    "duration": 11,
    "start_time": "2023-05-31T09:26:25.122Z"
   },
   {
    "duration": 1615,
    "start_time": "2023-05-31T09:26:36.820Z"
   },
   {
    "duration": 6,
    "start_time": "2023-05-31T09:26:41.010Z"
   },
   {
    "duration": 13,
    "start_time": "2023-05-31T09:27:42.047Z"
   },
   {
    "duration": 1903,
    "start_time": "2023-05-31T09:27:48.391Z"
   },
   {
    "duration": 6,
    "start_time": "2023-05-31T09:27:51.898Z"
   },
   {
    "duration": 24,
    "start_time": "2023-05-31T09:28:48.014Z"
   },
   {
    "duration": 10,
    "start_time": "2023-05-31T09:28:50.788Z"
   },
   {
    "duration": 14,
    "start_time": "2023-05-31T09:28:57.714Z"
   },
   {
    "duration": 6,
    "start_time": "2023-05-31T09:39:13.520Z"
   },
   {
    "duration": 5,
    "start_time": "2023-05-31T09:39:13.610Z"
   },
   {
    "duration": 6,
    "start_time": "2023-05-31T09:41:06.886Z"
   },
   {
    "duration": 6,
    "start_time": "2023-05-31T09:41:56.873Z"
   },
   {
    "duration": 4,
    "start_time": "2023-05-31T09:42:12.280Z"
   },
   {
    "duration": 4,
    "start_time": "2023-05-31T09:42:17.984Z"
   },
   {
    "duration": 6,
    "start_time": "2023-05-31T09:42:22.684Z"
   },
   {
    "duration": 5,
    "start_time": "2023-05-31T09:42:29.540Z"
   },
   {
    "duration": 15,
    "start_time": "2023-05-31T09:42:59.015Z"
   },
   {
    "duration": 13,
    "start_time": "2023-05-31T09:43:54.347Z"
   },
   {
    "duration": 1756,
    "start_time": "2023-05-31T09:44:01.187Z"
   },
   {
    "duration": 5,
    "start_time": "2023-05-31T09:44:07.408Z"
   },
   {
    "duration": 29,
    "start_time": "2023-05-31T09:44:35.757Z"
   },
   {
    "duration": 1688,
    "start_time": "2023-05-31T09:44:40.846Z"
   },
   {
    "duration": 5,
    "start_time": "2023-05-31T09:44:44.887Z"
   },
   {
    "duration": 5,
    "start_time": "2023-05-31T09:44:55.333Z"
   },
   {
    "duration": 24,
    "start_time": "2023-05-31T09:44:58.789Z"
   },
   {
    "duration": 11,
    "start_time": "2023-05-31T09:45:00.886Z"
   },
   {
    "duration": 29,
    "start_time": "2023-05-31T09:45:47.790Z"
   },
   {
    "duration": 10,
    "start_time": "2023-05-31T09:46:09.194Z"
   },
   {
    "duration": 5,
    "start_time": "2023-05-31T09:46:20.615Z"
   },
   {
    "duration": 13,
    "start_time": "2023-05-31T09:48:03.204Z"
   },
   {
    "duration": 1633,
    "start_time": "2023-05-31T09:52:20.515Z"
   },
   {
    "duration": 11,
    "start_time": "2023-05-31T09:52:29.500Z"
   },
   {
    "duration": 1815,
    "start_time": "2023-05-31T09:53:03.339Z"
   },
   {
    "duration": 12,
    "start_time": "2023-05-31T09:53:06.297Z"
   },
   {
    "duration": 14,
    "start_time": "2023-05-31T10:11:02.856Z"
   },
   {
    "duration": 11,
    "start_time": "2023-05-31T10:11:05.704Z"
   },
   {
    "duration": 24,
    "start_time": "2023-05-31T10:11:15.355Z"
   },
   {
    "duration": 4,
    "start_time": "2023-05-31T10:21:58.949Z"
   },
   {
    "duration": 18,
    "start_time": "2023-05-31T10:22:09.342Z"
   },
   {
    "duration": 16,
    "start_time": "2023-05-31T10:22:23.444Z"
   },
   {
    "duration": 3,
    "start_time": "2023-05-31T10:22:31.631Z"
   },
   {
    "duration": 4,
    "start_time": "2023-05-31T10:22:46.681Z"
   },
   {
    "duration": 10,
    "start_time": "2023-05-31T10:22:54.867Z"
   },
   {
    "duration": 24,
    "start_time": "2023-05-31T10:23:03.542Z"
   },
   {
    "duration": 5,
    "start_time": "2023-05-31T10:23:05.922Z"
   },
   {
    "duration": 1970,
    "start_time": "2023-05-31T10:23:23.088Z"
   },
   {
    "duration": 8,
    "start_time": "2023-05-31T10:23:28.104Z"
   },
   {
    "duration": 12,
    "start_time": "2023-05-31T10:23:36.070Z"
   },
   {
    "duration": 29,
    "start_time": "2023-05-31T10:23:47.075Z"
   },
   {
    "duration": 6,
    "start_time": "2023-05-31T10:23:52.741Z"
   },
   {
    "duration": 9,
    "start_time": "2023-05-31T10:30:59.107Z"
   },
   {
    "duration": 6,
    "start_time": "2023-05-31T10:31:02.956Z"
   },
   {
    "duration": 4,
    "start_time": "2023-05-31T10:31:18.280Z"
   },
   {
    "duration": 6,
    "start_time": "2023-05-31T10:31:29.060Z"
   },
   {
    "duration": 3,
    "start_time": "2023-05-31T10:31:53.084Z"
   },
   {
    "duration": 6,
    "start_time": "2023-05-31T10:32:05.210Z"
   },
   {
    "duration": 9,
    "start_time": "2023-05-31T10:33:37.384Z"
   },
   {
    "duration": 5,
    "start_time": "2023-05-31T10:33:44.342Z"
   },
   {
    "duration": 3,
    "start_time": "2023-05-31T10:33:55.994Z"
   },
   {
    "duration": 4,
    "start_time": "2023-05-31T10:40:09.958Z"
   },
   {
    "duration": 10,
    "start_time": "2023-05-31T10:45:01.898Z"
   },
   {
    "duration": 3,
    "start_time": "2023-05-31T10:45:28.454Z"
   },
   {
    "duration": 3,
    "start_time": "2023-05-31T10:45:56.119Z"
   },
   {
    "duration": 137,
    "start_time": "2023-05-31T10:46:51.065Z"
   },
   {
    "duration": 3,
    "start_time": "2023-05-31T10:51:56.471Z"
   },
   {
    "duration": 2193,
    "start_time": "2023-05-31T10:51:59.489Z"
   },
   {
    "duration": 4,
    "start_time": "2023-05-31T10:52:39.159Z"
   },
   {
    "duration": 2038,
    "start_time": "2023-05-31T10:52:41.429Z"
   },
   {
    "duration": 4,
    "start_time": "2023-05-31T10:53:01.498Z"
   },
   {
    "duration": 2116,
    "start_time": "2023-05-31T10:53:03.373Z"
   },
   {
    "duration": 4,
    "start_time": "2023-05-31T10:54:46.477Z"
   },
   {
    "duration": 124,
    "start_time": "2023-05-31T10:54:48.622Z"
   },
   {
    "duration": 99,
    "start_time": "2023-05-31T11:10:21.476Z"
   },
   {
    "duration": 78,
    "start_time": "2023-05-31T11:10:43.632Z"
   },
   {
    "duration": 84,
    "start_time": "2023-05-31T11:10:48.403Z"
   },
   {
    "duration": 5,
    "start_time": "2023-05-31T11:11:17.240Z"
   },
   {
    "duration": 2276,
    "start_time": "2023-05-31T11:11:20.697Z"
   },
   {
    "duration": 3,
    "start_time": "2023-05-31T11:11:48.794Z"
   },
   {
    "duration": 3,
    "start_time": "2023-05-31T11:13:55.087Z"
   },
   {
    "duration": 2,
    "start_time": "2023-05-31T11:15:11.942Z"
   },
   {
    "duration": 2091,
    "start_time": "2023-05-31T11:15:13.372Z"
   },
   {
    "duration": 6,
    "start_time": "2023-05-31T11:19:29.752Z"
   },
   {
    "duration": 10,
    "start_time": "2023-05-31T11:19:50.823Z"
   },
   {
    "duration": 5,
    "start_time": "2023-05-31T11:20:18.871Z"
   },
   {
    "duration": 14,
    "start_time": "2023-05-31T11:20:26.097Z"
   },
   {
    "duration": 5,
    "start_time": "2023-05-31T11:20:41.076Z"
   },
   {
    "duration": 5,
    "start_time": "2023-05-31T11:20:48.862Z"
   },
   {
    "duration": 4,
    "start_time": "2023-05-31T11:21:42.348Z"
   },
   {
    "duration": 2428,
    "start_time": "2023-05-31T11:21:44.595Z"
   },
   {
    "duration": 5,
    "start_time": "2023-05-31T11:21:57.465Z"
   },
   {
    "duration": 3,
    "start_time": "2023-05-31T11:24:06.754Z"
   },
   {
    "duration": 2227,
    "start_time": "2023-05-31T11:24:09.912Z"
   },
   {
    "duration": 4,
    "start_time": "2023-05-31T11:24:13.404Z"
   },
   {
    "duration": 3,
    "start_time": "2023-05-31T11:24:18.151Z"
   },
   {
    "duration": 4,
    "start_time": "2023-05-31T11:24:47.403Z"
   },
   {
    "duration": 2307,
    "start_time": "2023-05-31T11:24:49.480Z"
   },
   {
    "duration": 4,
    "start_time": "2023-05-31T11:24:56.678Z"
   },
   {
    "duration": 8,
    "start_time": "2023-05-31T11:25:12.423Z"
   },
   {
    "duration": 4,
    "start_time": "2023-05-31T11:25:40.046Z"
   },
   {
    "duration": 2361,
    "start_time": "2023-05-31T11:25:43.978Z"
   },
   {
    "duration": 4,
    "start_time": "2023-05-31T11:25:47.647Z"
   },
   {
    "duration": 3,
    "start_time": "2023-05-31T11:25:56.279Z"
   },
   {
    "duration": 2477,
    "start_time": "2023-05-31T11:25:58.582Z"
   },
   {
    "duration": 5,
    "start_time": "2023-05-31T11:26:03.117Z"
   },
   {
    "duration": 3,
    "start_time": "2023-05-31T11:26:20.400Z"
   },
   {
    "duration": 3,
    "start_time": "2023-05-31T11:26:21.939Z"
   },
   {
    "duration": 1846,
    "start_time": "2023-05-31T11:26:23.722Z"
   },
   {
    "duration": 6,
    "start_time": "2023-05-31T11:26:27.316Z"
   },
   {
    "duration": 3,
    "start_time": "2023-05-31T11:26:33.637Z"
   },
   {
    "duration": 1946,
    "start_time": "2023-05-31T11:26:37.101Z"
   },
   {
    "duration": 4,
    "start_time": "2023-05-31T11:26:40.963Z"
   },
   {
    "duration": 2,
    "start_time": "2023-05-31T11:26:45.279Z"
   },
   {
    "duration": 1957,
    "start_time": "2023-05-31T11:26:47.117Z"
   },
   {
    "duration": 3,
    "start_time": "2023-05-31T11:26:52.276Z"
   },
   {
    "duration": 3,
    "start_time": "2023-05-31T11:26:53.883Z"
   },
   {
    "duration": 1953,
    "start_time": "2023-05-31T11:27:05.214Z"
   },
   {
    "duration": 4,
    "start_time": "2023-05-31T11:27:08.716Z"
   },
   {
    "duration": 2025,
    "start_time": "2023-05-31T11:27:10.351Z"
   },
   {
    "duration": 4,
    "start_time": "2023-05-31T11:27:39.146Z"
   },
   {
    "duration": 2212,
    "start_time": "2023-05-31T11:27:40.975Z"
   },
   {
    "duration": 8,
    "start_time": "2023-05-31T11:27:44.624Z"
   },
   {
    "duration": 5,
    "start_time": "2023-05-31T11:27:52.280Z"
   },
   {
    "duration": 4,
    "start_time": "2023-05-31T11:30:01.274Z"
   },
   {
    "duration": 2292,
    "start_time": "2023-05-31T11:30:03.183Z"
   },
   {
    "duration": 4,
    "start_time": "2023-05-31T11:30:44.688Z"
   },
   {
    "duration": 2203,
    "start_time": "2023-05-31T11:30:46.617Z"
   },
   {
    "duration": 4,
    "start_time": "2023-05-31T11:31:17.272Z"
   },
   {
    "duration": 2354,
    "start_time": "2023-05-31T11:31:19.105Z"
   },
   {
    "duration": 4,
    "start_time": "2023-05-31T11:31:38.860Z"
   },
   {
    "duration": 2154,
    "start_time": "2023-05-31T11:31:41.086Z"
   },
   {
    "duration": 4,
    "start_time": "2023-05-31T11:32:01.327Z"
   },
   {
    "duration": 2063,
    "start_time": "2023-05-31T11:32:03.109Z"
   },
   {
    "duration": 4,
    "start_time": "2023-05-31T11:32:07.133Z"
   },
   {
    "duration": 5,
    "start_time": "2023-05-31T11:32:23.072Z"
   },
   {
    "duration": 4,
    "start_time": "2023-05-31T11:32:39.336Z"
   },
   {
    "duration": 5,
    "start_time": "2023-05-31T11:33:07.322Z"
   },
   {
    "duration": 7,
    "start_time": "2023-05-31T11:33:09.756Z"
   },
   {
    "duration": 5,
    "start_time": "2023-05-31T11:33:17.244Z"
   },
   {
    "duration": 5,
    "start_time": "2023-05-31T11:33:23.027Z"
   },
   {
    "duration": 4,
    "start_time": "2023-05-31T11:39:11.184Z"
   },
   {
    "duration": 4,
    "start_time": "2023-05-31T11:39:15.093Z"
   },
   {
    "duration": 4,
    "start_time": "2023-05-31T11:40:31.281Z"
   },
   {
    "duration": 2,
    "start_time": "2023-05-31T11:40:49.094Z"
   },
   {
    "duration": 4,
    "start_time": "2023-05-31T11:40:52.612Z"
   },
   {
    "duration": 3,
    "start_time": "2023-05-31T11:41:08.737Z"
   },
   {
    "duration": 3,
    "start_time": "2023-05-31T11:41:23.682Z"
   },
   {
    "duration": 4,
    "start_time": "2023-05-31T11:42:00.953Z"
   },
   {
    "duration": 4,
    "start_time": "2023-05-31T11:42:11.391Z"
   },
   {
    "duration": 4,
    "start_time": "2023-05-31T11:42:19.324Z"
   },
   {
    "duration": 5,
    "start_time": "2023-05-31T11:42:54.775Z"
   },
   {
    "duration": 5,
    "start_time": "2023-05-31T11:42:59.067Z"
   },
   {
    "duration": 74,
    "start_time": "2023-05-31T11:43:32.182Z"
   },
   {
    "duration": 5,
    "start_time": "2023-05-31T11:43:41.558Z"
   },
   {
    "duration": 5,
    "start_time": "2023-05-31T11:43:46.290Z"
   },
   {
    "duration": 4,
    "start_time": "2023-05-31T11:43:52.714Z"
   },
   {
    "duration": 4,
    "start_time": "2023-05-31T11:44:33.398Z"
   },
   {
    "duration": 4,
    "start_time": "2023-05-31T11:44:50.288Z"
   },
   {
    "duration": 5,
    "start_time": "2023-05-31T11:45:10.384Z"
   },
   {
    "duration": 4,
    "start_time": "2023-05-31T11:45:15.723Z"
   },
   {
    "duration": 10,
    "start_time": "2023-05-31T11:45:29.452Z"
   },
   {
    "duration": 8,
    "start_time": "2023-05-31T12:05:33.688Z"
   },
   {
    "duration": 4,
    "start_time": "2023-05-31T12:05:44.522Z"
   },
   {
    "duration": 4,
    "start_time": "2023-05-31T12:05:50.057Z"
   },
   {
    "duration": 5,
    "start_time": "2023-05-31T12:06:42.043Z"
   },
   {
    "duration": 1362,
    "start_time": "2023-05-31T12:07:38.744Z"
   },
   {
    "duration": 60,
    "start_time": "2023-05-31T12:07:40.108Z"
   },
   {
    "duration": 5,
    "start_time": "2023-05-31T12:07:40.169Z"
   },
   {
    "duration": 13,
    "start_time": "2023-05-31T12:07:40.175Z"
   },
   {
    "duration": 10,
    "start_time": "2023-05-31T12:07:40.190Z"
   },
   {
    "duration": 7,
    "start_time": "2023-05-31T12:07:40.201Z"
   },
   {
    "duration": 25,
    "start_time": "2023-05-31T12:07:40.210Z"
   },
   {
    "duration": 4,
    "start_time": "2023-05-31T12:07:40.236Z"
   },
   {
    "duration": 6,
    "start_time": "2023-05-31T12:07:40.242Z"
   },
   {
    "duration": 13,
    "start_time": "2023-05-31T12:07:40.250Z"
   },
   {
    "duration": 716,
    "start_time": "2023-05-31T12:07:40.264Z"
   },
   {
    "duration": 3,
    "start_time": "2023-05-31T12:07:40.981Z"
   },
   {
    "duration": 19,
    "start_time": "2023-05-31T12:07:40.985Z"
   },
   {
    "duration": 41,
    "start_time": "2023-05-31T12:07:41.006Z"
   },
   {
    "duration": 4,
    "start_time": "2023-05-31T12:07:41.049Z"
   },
   {
    "duration": 39,
    "start_time": "2023-05-31T12:07:41.054Z"
   },
   {
    "duration": 1979,
    "start_time": "2023-05-31T12:07:41.095Z"
   },
   {
    "duration": 4,
    "start_time": "2023-05-31T12:07:43.076Z"
   },
   {
    "duration": 2090,
    "start_time": "2023-05-31T12:07:43.081Z"
   },
   {
    "duration": 4,
    "start_time": "2023-05-31T12:07:45.173Z"
   },
   {
    "duration": 7,
    "start_time": "2023-05-31T12:07:45.178Z"
   },
   {
    "duration": 15,
    "start_time": "2023-05-31T12:07:45.186Z"
   },
   {
    "duration": 25,
    "start_time": "2023-05-31T12:07:45.203Z"
   },
   {
    "duration": 2100,
    "start_time": "2023-05-31T12:07:45.230Z"
   },
   {
    "duration": 6,
    "start_time": "2023-05-31T12:07:47.332Z"
   },
   {
    "duration": 6,
    "start_time": "2023-05-31T12:07:47.339Z"
   },
   {
    "duration": 14478,
    "start_time": "2023-05-31T12:07:47.347Z"
   },
   {
    "duration": 5,
    "start_time": "2023-05-31T12:08:01.828Z"
   },
   {
    "duration": 3797,
    "start_time": "2023-05-31T12:08:01.834Z"
   },
   {
    "duration": 5,
    "start_time": "2023-05-31T12:08:05.632Z"
   },
   {
    "duration": 122,
    "start_time": "2023-05-31T12:08:05.638Z"
   },
   {
    "duration": 4,
    "start_time": "2023-05-31T12:11:05.865Z"
   },
   {
    "duration": 4,
    "start_time": "2023-05-31T12:11:09.532Z"
   },
   {
    "duration": 5,
    "start_time": "2023-05-31T12:11:13.059Z"
   },
   {
    "duration": 4,
    "start_time": "2023-05-31T12:11:34.728Z"
   },
   {
    "duration": 4,
    "start_time": "2023-05-31T12:11:49.360Z"
   },
   {
    "duration": 1372,
    "start_time": "2023-05-31T12:11:57.443Z"
   },
   {
    "duration": 75,
    "start_time": "2023-05-31T12:11:58.817Z"
   },
   {
    "duration": 9,
    "start_time": "2023-05-31T12:11:58.894Z"
   },
   {
    "duration": 8,
    "start_time": "2023-05-31T12:11:58.906Z"
   },
   {
    "duration": 6,
    "start_time": "2023-05-31T12:11:58.916Z"
   },
   {
    "duration": 6,
    "start_time": "2023-05-31T12:11:58.924Z"
   },
   {
    "duration": 27,
    "start_time": "2023-05-31T12:11:58.932Z"
   },
   {
    "duration": 5,
    "start_time": "2023-05-31T12:11:58.961Z"
   },
   {
    "duration": 7,
    "start_time": "2023-05-31T12:11:58.968Z"
   },
   {
    "duration": 16,
    "start_time": "2023-05-31T12:11:58.979Z"
   },
   {
    "duration": 914,
    "start_time": "2023-05-31T12:11:58.997Z"
   },
   {
    "duration": 12,
    "start_time": "2023-05-31T12:11:59.913Z"
   },
   {
    "duration": 22,
    "start_time": "2023-05-31T12:11:59.929Z"
   },
   {
    "duration": 35,
    "start_time": "2023-05-31T12:11:59.953Z"
   },
   {
    "duration": 5,
    "start_time": "2023-05-31T12:11:59.990Z"
   },
   {
    "duration": 28,
    "start_time": "2023-05-31T12:11:59.997Z"
   },
   {
    "duration": 2182,
    "start_time": "2023-05-31T12:12:00.028Z"
   },
   {
    "duration": 5,
    "start_time": "2023-05-31T12:12:02.211Z"
   },
   {
    "duration": 2178,
    "start_time": "2023-05-31T12:12:02.227Z"
   },
   {
    "duration": 4,
    "start_time": "2023-05-31T12:12:04.407Z"
   },
   {
    "duration": 16,
    "start_time": "2023-05-31T12:12:04.413Z"
   },
   {
    "duration": 22,
    "start_time": "2023-05-31T12:12:04.431Z"
   },
   {
    "duration": 15,
    "start_time": "2023-05-31T12:12:04.455Z"
   },
   {
    "duration": 2313,
    "start_time": "2023-05-31T12:12:04.472Z"
   },
   {
    "duration": 4,
    "start_time": "2023-05-31T12:12:06.787Z"
   },
   {
    "duration": 14,
    "start_time": "2023-05-31T12:12:06.792Z"
   },
   {
    "duration": 14536,
    "start_time": "2023-05-31T12:12:06.808Z"
   },
   {
    "duration": 6,
    "start_time": "2023-05-31T12:12:21.347Z"
   },
   {
    "duration": 3685,
    "start_time": "2023-05-31T12:12:21.354Z"
   },
   {
    "duration": 5,
    "start_time": "2023-05-31T12:12:25.041Z"
   },
   {
    "duration": 151,
    "start_time": "2023-05-31T12:12:25.048Z"
   },
   {
    "duration": 12,
    "start_time": "2023-05-31T12:21:56.126Z"
   },
   {
    "duration": 9,
    "start_time": "2023-05-31T12:21:59.287Z"
   },
   {
    "duration": 17,
    "start_time": "2023-05-31T12:34:01.601Z"
   },
   {
    "duration": 13,
    "start_time": "2023-05-31T12:34:10.083Z"
   },
   {
    "duration": 12,
    "start_time": "2023-05-31T12:34:22.354Z"
   },
   {
    "duration": 1275,
    "start_time": "2023-05-31T13:01:37.464Z"
   },
   {
    "duration": 62,
    "start_time": "2023-05-31T13:01:38.741Z"
   },
   {
    "duration": 4,
    "start_time": "2023-05-31T13:01:38.805Z"
   },
   {
    "duration": 6,
    "start_time": "2023-05-31T13:01:38.811Z"
   },
   {
    "duration": 6,
    "start_time": "2023-05-31T13:01:38.819Z"
   },
   {
    "duration": 7,
    "start_time": "2023-05-31T13:01:38.827Z"
   },
   {
    "duration": 30,
    "start_time": "2023-05-31T13:01:38.836Z"
   },
   {
    "duration": 5,
    "start_time": "2023-05-31T13:01:38.868Z"
   },
   {
    "duration": 7,
    "start_time": "2023-05-31T13:01:38.875Z"
   },
   {
    "duration": 15,
    "start_time": "2023-05-31T13:01:38.884Z"
   },
   {
    "duration": 830,
    "start_time": "2023-05-31T13:01:38.925Z"
   },
   {
    "duration": 2,
    "start_time": "2023-05-31T13:01:39.757Z"
   },
   {
    "duration": 35,
    "start_time": "2023-05-31T13:01:39.761Z"
   },
   {
    "duration": 53,
    "start_time": "2023-05-31T13:01:39.798Z"
   },
   {
    "duration": 8,
    "start_time": "2023-05-31T13:01:39.853Z"
   },
   {
    "duration": 6,
    "start_time": "2023-05-31T13:01:39.863Z"
   },
   {
    "duration": 2133,
    "start_time": "2023-05-31T13:01:39.871Z"
   },
   {
    "duration": 5,
    "start_time": "2023-05-31T13:01:42.006Z"
   },
   {
    "duration": 3009,
    "start_time": "2023-05-31T13:01:42.012Z"
   },
   {
    "duration": 5,
    "start_time": "2023-05-31T13:01:45.025Z"
   },
   {
    "duration": 22,
    "start_time": "2023-05-31T13:01:45.032Z"
   },
   {
    "duration": 37,
    "start_time": "2023-05-31T13:01:45.056Z"
   },
   {
    "duration": 13,
    "start_time": "2023-05-31T13:01:45.095Z"
   },
   {
    "duration": 2279,
    "start_time": "2023-05-31T13:01:45.109Z"
   },
   {
    "duration": 5,
    "start_time": "2023-05-31T13:01:47.390Z"
   },
   {
    "duration": 13,
    "start_time": "2023-05-31T13:01:47.396Z"
   },
   {
    "duration": 15119,
    "start_time": "2023-05-31T13:01:47.410Z"
   },
   {
    "duration": 4,
    "start_time": "2023-05-31T13:02:02.532Z"
   },
   {
    "duration": 4188,
    "start_time": "2023-05-31T13:02:02.538Z"
   },
   {
    "duration": 4,
    "start_time": "2023-05-31T13:02:06.728Z"
   },
   {
    "duration": 16,
    "start_time": "2023-05-31T13:02:06.734Z"
   },
   {
    "duration": 1306,
    "start_time": "2023-05-31T13:05:01.858Z"
   },
   {
    "duration": 62,
    "start_time": "2023-05-31T13:05:03.165Z"
   },
   {
    "duration": 4,
    "start_time": "2023-05-31T13:05:03.228Z"
   },
   {
    "duration": 8,
    "start_time": "2023-05-31T13:05:03.234Z"
   },
   {
    "duration": 7,
    "start_time": "2023-05-31T13:05:03.243Z"
   },
   {
    "duration": 5,
    "start_time": "2023-05-31T13:05:03.252Z"
   },
   {
    "duration": 27,
    "start_time": "2023-05-31T13:05:03.258Z"
   },
   {
    "duration": 5,
    "start_time": "2023-05-31T13:05:03.286Z"
   },
   {
    "duration": 10,
    "start_time": "2023-05-31T13:05:03.292Z"
   },
   {
    "duration": 15,
    "start_time": "2023-05-31T13:05:03.324Z"
   },
   {
    "duration": 780,
    "start_time": "2023-05-31T13:05:03.341Z"
   },
   {
    "duration": 3,
    "start_time": "2023-05-31T13:05:04.123Z"
   },
   {
    "duration": 35,
    "start_time": "2023-05-31T13:05:04.127Z"
   },
   {
    "duration": 30,
    "start_time": "2023-05-31T13:05:04.164Z"
   },
   {
    "duration": 12,
    "start_time": "2023-05-31T13:05:04.196Z"
   },
   {
    "duration": 12,
    "start_time": "2023-05-31T13:05:04.209Z"
   },
   {
    "duration": 2140,
    "start_time": "2023-05-31T13:05:04.222Z"
   },
   {
    "duration": 5,
    "start_time": "2023-05-31T13:05:06.364Z"
   },
   {
    "duration": 2139,
    "start_time": "2023-05-31T13:05:06.370Z"
   },
   {
    "duration": 5,
    "start_time": "2023-05-31T13:05:08.510Z"
   },
   {
    "duration": 3,
    "start_time": "2023-05-31T13:05:08.525Z"
   },
   {
    "duration": 12,
    "start_time": "2023-05-31T13:05:08.530Z"
   },
   {
    "duration": 14,
    "start_time": "2023-05-31T13:05:08.544Z"
   },
   {
    "duration": 2354,
    "start_time": "2023-05-31T13:05:08.559Z"
   },
   {
    "duration": 12,
    "start_time": "2023-05-31T13:05:10.915Z"
   },
   {
    "duration": 20,
    "start_time": "2023-05-31T13:05:10.929Z"
   },
   {
    "duration": 16298,
    "start_time": "2023-05-31T13:05:10.950Z"
   },
   {
    "duration": 4,
    "start_time": "2023-05-31T13:05:27.251Z"
   },
   {
    "duration": 4276,
    "start_time": "2023-05-31T13:05:27.257Z"
   },
   {
    "duration": 6,
    "start_time": "2023-05-31T13:05:31.535Z"
   },
   {
    "duration": 82,
    "start_time": "2023-05-31T13:05:31.543Z"
   },
   {
    "duration": 97,
    "start_time": "2023-05-31T13:10:48.651Z"
   },
   {
    "duration": 22,
    "start_time": "2023-05-31T13:11:02.575Z"
   },
   {
    "duration": 22,
    "start_time": "2023-05-31T13:11:29.267Z"
   },
   {
    "duration": 28,
    "start_time": "2023-05-31T13:11:52.839Z"
   },
   {
    "duration": 20,
    "start_time": "2023-05-31T13:12:14.967Z"
   },
   {
    "duration": 10,
    "start_time": "2023-05-31T13:12:33.286Z"
   },
   {
    "duration": 24,
    "start_time": "2023-05-31T13:12:43.710Z"
   },
   {
    "duration": 12,
    "start_time": "2023-05-31T13:28:28.663Z"
   },
   {
    "duration": 1386,
    "start_time": "2023-05-31T13:28:39.182Z"
   },
   {
    "duration": 63,
    "start_time": "2023-05-31T13:28:40.570Z"
   },
   {
    "duration": 5,
    "start_time": "2023-05-31T13:28:40.635Z"
   },
   {
    "duration": 15,
    "start_time": "2023-05-31T13:28:40.643Z"
   },
   {
    "duration": 5,
    "start_time": "2023-05-31T13:28:40.660Z"
   },
   {
    "duration": 9,
    "start_time": "2023-05-31T13:28:40.666Z"
   },
   {
    "duration": 34,
    "start_time": "2023-05-31T13:28:40.676Z"
   },
   {
    "duration": 4,
    "start_time": "2023-05-31T13:28:40.711Z"
   },
   {
    "duration": 9,
    "start_time": "2023-05-31T13:28:40.725Z"
   },
   {
    "duration": 15,
    "start_time": "2023-05-31T13:28:40.736Z"
   },
   {
    "duration": 784,
    "start_time": "2023-05-31T13:28:40.752Z"
   },
   {
    "duration": 2,
    "start_time": "2023-05-31T13:28:41.538Z"
   },
   {
    "duration": 23,
    "start_time": "2023-05-31T13:28:41.542Z"
   },
   {
    "duration": 30,
    "start_time": "2023-05-31T13:28:41.567Z"
   },
   {
    "duration": 5,
    "start_time": "2023-05-31T13:28:41.598Z"
   },
   {
    "duration": 22,
    "start_time": "2023-05-31T13:28:41.604Z"
   },
   {
    "duration": 2067,
    "start_time": "2023-05-31T13:28:41.627Z"
   },
   {
    "duration": 5,
    "start_time": "2023-05-31T13:28:43.695Z"
   },
   {
    "duration": 2173,
    "start_time": "2023-05-31T13:28:43.701Z"
   },
   {
    "duration": 7,
    "start_time": "2023-05-31T13:28:45.877Z"
   },
   {
    "duration": 8,
    "start_time": "2023-05-31T13:28:45.886Z"
   },
   {
    "duration": 35,
    "start_time": "2023-05-31T13:28:45.895Z"
   },
   {
    "duration": 10,
    "start_time": "2023-05-31T13:28:45.931Z"
   },
   {
    "duration": 2205,
    "start_time": "2023-05-31T13:28:45.942Z"
   },
   {
    "duration": 5,
    "start_time": "2023-05-31T13:28:48.149Z"
   },
   {
    "duration": 10,
    "start_time": "2023-05-31T13:28:48.156Z"
   },
   {
    "duration": 15649,
    "start_time": "2023-05-31T13:28:48.168Z"
   },
   {
    "duration": 5,
    "start_time": "2023-05-31T13:29:03.825Z"
   },
   {
    "duration": 4295,
    "start_time": "2023-05-31T13:29:03.831Z"
   },
   {
    "duration": 5,
    "start_time": "2023-05-31T13:29:08.128Z"
   },
   {
    "duration": 89,
    "start_time": "2023-05-31T13:29:08.134Z"
   },
   {
    "duration": 5,
    "start_time": "2023-05-31T13:40:46.989Z"
   },
   {
    "duration": 1365,
    "start_time": "2023-05-31T13:47:39.791Z"
   },
   {
    "duration": 62,
    "start_time": "2023-05-31T13:47:41.158Z"
   },
   {
    "duration": 13,
    "start_time": "2023-05-31T13:47:41.222Z"
   },
   {
    "duration": 21,
    "start_time": "2023-05-31T13:47:41.237Z"
   },
   {
    "duration": 10,
    "start_time": "2023-05-31T13:47:41.260Z"
   },
   {
    "duration": 7,
    "start_time": "2023-05-31T13:47:41.271Z"
   },
   {
    "duration": 31,
    "start_time": "2023-05-31T13:47:41.279Z"
   },
   {
    "duration": 3,
    "start_time": "2023-05-31T13:47:41.312Z"
   },
   {
    "duration": 21,
    "start_time": "2023-05-31T13:47:41.317Z"
   },
   {
    "duration": 38,
    "start_time": "2023-05-31T13:47:41.341Z"
   },
   {
    "duration": 799,
    "start_time": "2023-05-31T13:47:41.380Z"
   },
   {
    "duration": 2,
    "start_time": "2023-05-31T13:47:42.181Z"
   },
   {
    "duration": 25,
    "start_time": "2023-05-31T13:47:42.185Z"
   },
   {
    "duration": 46,
    "start_time": "2023-05-31T13:47:42.211Z"
   },
   {
    "duration": 5,
    "start_time": "2023-05-31T13:47:42.258Z"
   },
   {
    "duration": 18,
    "start_time": "2023-05-31T13:47:42.264Z"
   },
   {
    "duration": 2166,
    "start_time": "2023-05-31T13:47:42.284Z"
   },
   {
    "duration": 5,
    "start_time": "2023-05-31T13:47:44.452Z"
   },
   {
    "duration": 2292,
    "start_time": "2023-05-31T13:47:44.459Z"
   },
   {
    "duration": 4,
    "start_time": "2023-05-31T13:47:46.753Z"
   },
   {
    "duration": 8,
    "start_time": "2023-05-31T13:47:46.759Z"
   },
   {
    "duration": 9,
    "start_time": "2023-05-31T13:47:46.769Z"
   },
   {
    "duration": 13,
    "start_time": "2023-05-31T13:47:46.779Z"
   },
   {
    "duration": 23,
    "start_time": "2023-05-31T13:47:46.794Z"
   },
   {
    "duration": 2375,
    "start_time": "2023-05-31T13:47:46.818Z"
   },
   {
    "duration": 5,
    "start_time": "2023-05-31T13:47:49.194Z"
   },
   {
    "duration": 13,
    "start_time": "2023-05-31T13:47:49.201Z"
   },
   {
    "duration": 15247,
    "start_time": "2023-05-31T13:47:49.233Z"
   },
   {
    "duration": 5,
    "start_time": "2023-05-31T13:48:04.482Z"
   },
   {
    "duration": 3251,
    "start_time": "2023-05-31T13:48:04.489Z"
   },
   {
    "duration": 92,
    "start_time": "2023-05-31T13:48:07.741Z"
   },
   {
    "duration": 15,
    "start_time": "2023-05-31T13:48:07.835Z"
   }
  ],
  "kernelspec": {
   "display_name": "Python 3 (ipykernel)",
   "language": "python",
   "name": "python3"
  },
  "language_info": {
   "codemirror_mode": {
    "name": "ipython",
    "version": 3
   },
   "file_extension": ".py",
   "mimetype": "text/x-python",
   "name": "python",
   "nbconvert_exporter": "python",
   "pygments_lexer": "ipython3",
   "version": "3.9.18"
  },
  "toc": {
   "base_numbering": 1,
   "nav_menu": {},
   "number_sections": true,
   "sideBar": true,
   "skip_h1_title": true,
   "title_cell": "Содержание",
   "title_sidebar": "Contents",
   "toc_cell": true,
   "toc_position": {
    "height": "calc(100% - 180px)",
    "left": "10px",
    "top": "150px",
    "width": "370px"
   },
   "toc_section_display": true,
   "toc_window_display": true
  }
 },
 "nbformat": 4,
 "nbformat_minor": 2
}
