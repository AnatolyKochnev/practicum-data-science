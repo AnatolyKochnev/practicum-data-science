{
 "cells": [
  {
   "cell_type": "markdown",
   "metadata": {},
   "source": [
    "# Исследование объявлений о продаже квартир\n",
    "\n",
    "В вашем распоряжении данные сервиса Яндекс.Недвижимость — архив объявлений о продаже квартир в Санкт-Петербурге и соседних населённых пунктов за несколько лет. Нужно научиться определять рыночную стоимость объектов недвижимости. Ваша задача — установить параметры. Это позволит построить автоматизированную систему: она отследит аномалии и мошенническую деятельность. \n",
    "\n",
    "По каждой квартире на продажу доступны два вида данных. Первые вписаны пользователем, вторые — получены автоматически на основе картографических данных. Например, расстояние до центра, аэропорта, ближайшего парка и водоёма. "
   ]
  },
  {
   "cell_type": "markdown",
   "metadata": {},
   "source": []
  },
  {
   "cell_type": "markdown",
   "metadata": {},
   "source": [
    "### Откройте файл с данными и изучите общую информацию. "
   ]
  },
  {
   "cell_type": "code",
   "execution_count": 1,
   "metadata": {
    "scrolled": false
   },
   "outputs": [],
   "source": [
    "import pandas as pd\n",
    "data = pd.read_csv('/datasets/real_estate_data.csv', sep='\\t')"
   ]
  },
  {
   "cell_type": "code",
   "execution_count": 2,
   "metadata": {
    "scrolled": false
   },
   "outputs": [
    {
     "name": "stdout",
     "output_type": "stream",
     "text": [
      "<class 'pandas.core.frame.DataFrame'>\n",
      "RangeIndex: 23699 entries, 0 to 23698\n",
      "Data columns (total 22 columns):\n",
      " #   Column                Non-Null Count  Dtype  \n",
      "---  ------                --------------  -----  \n",
      " 0   total_images          23699 non-null  int64  \n",
      " 1   last_price            23699 non-null  float64\n",
      " 2   total_area            23699 non-null  float64\n",
      " 3   first_day_exposition  23699 non-null  object \n",
      " 4   rooms                 23699 non-null  int64  \n",
      " 5   ceiling_height        14504 non-null  float64\n",
      " 6   floors_total          23613 non-null  float64\n",
      " 7   living_area           21796 non-null  float64\n",
      " 8   floor                 23699 non-null  int64  \n",
      " 9   is_apartment          2775 non-null   object \n",
      " 10  studio                23699 non-null  bool   \n",
      " 11  open_plan             23699 non-null  bool   \n",
      " 12  kitchen_area          21421 non-null  float64\n",
      " 13  balcony               12180 non-null  float64\n",
      " 14  locality_name         23650 non-null  object \n",
      " 15  airports_nearest      18157 non-null  float64\n",
      " 16  cityCenters_nearest   18180 non-null  float64\n",
      " 17  parks_around3000      18181 non-null  float64\n",
      " 18  parks_nearest         8079 non-null   float64\n",
      " 19  ponds_around3000      18181 non-null  float64\n",
      " 20  ponds_nearest         9110 non-null   float64\n",
      " 21  days_exposition       20518 non-null  float64\n",
      "dtypes: bool(2), float64(14), int64(3), object(3)\n",
      "memory usage: 3.7+ MB\n"
     ]
    },
    {
     "data": {
      "text/html": [
       "<div>\n",
       "<style scoped>\n",
       "    .dataframe tbody tr th:only-of-type {\n",
       "        vertical-align: middle;\n",
       "    }\n",
       "\n",
       "    .dataframe tbody tr th {\n",
       "        vertical-align: top;\n",
       "    }\n",
       "\n",
       "    .dataframe thead th {\n",
       "        text-align: right;\n",
       "    }\n",
       "</style>\n",
       "<table border=\"1\" class=\"dataframe\">\n",
       "  <thead>\n",
       "    <tr style=\"text-align: right;\">\n",
       "      <th></th>\n",
       "      <th>total_images</th>\n",
       "      <th>last_price</th>\n",
       "      <th>total_area</th>\n",
       "      <th>first_day_exposition</th>\n",
       "      <th>rooms</th>\n",
       "      <th>ceiling_height</th>\n",
       "      <th>floors_total</th>\n",
       "      <th>living_area</th>\n",
       "      <th>floor</th>\n",
       "      <th>is_apartment</th>\n",
       "      <th>...</th>\n",
       "      <th>kitchen_area</th>\n",
       "      <th>balcony</th>\n",
       "      <th>locality_name</th>\n",
       "      <th>airports_nearest</th>\n",
       "      <th>cityCenters_nearest</th>\n",
       "      <th>parks_around3000</th>\n",
       "      <th>parks_nearest</th>\n",
       "      <th>ponds_around3000</th>\n",
       "      <th>ponds_nearest</th>\n",
       "      <th>days_exposition</th>\n",
       "    </tr>\n",
       "  </thead>\n",
       "  <tbody>\n",
       "    <tr>\n",
       "      <th>0</th>\n",
       "      <td>20</td>\n",
       "      <td>13000000.0</td>\n",
       "      <td>108.0</td>\n",
       "      <td>2019-03-07T00:00:00</td>\n",
       "      <td>3</td>\n",
       "      <td>2.70</td>\n",
       "      <td>16.0</td>\n",
       "      <td>51.0</td>\n",
       "      <td>8</td>\n",
       "      <td>NaN</td>\n",
       "      <td>...</td>\n",
       "      <td>25.0</td>\n",
       "      <td>NaN</td>\n",
       "      <td>Санкт-Петербург</td>\n",
       "      <td>18863.0</td>\n",
       "      <td>16028.0</td>\n",
       "      <td>1.0</td>\n",
       "      <td>482.0</td>\n",
       "      <td>2.0</td>\n",
       "      <td>755.0</td>\n",
       "      <td>NaN</td>\n",
       "    </tr>\n",
       "    <tr>\n",
       "      <th>1</th>\n",
       "      <td>7</td>\n",
       "      <td>3350000.0</td>\n",
       "      <td>40.4</td>\n",
       "      <td>2018-12-04T00:00:00</td>\n",
       "      <td>1</td>\n",
       "      <td>NaN</td>\n",
       "      <td>11.0</td>\n",
       "      <td>18.6</td>\n",
       "      <td>1</td>\n",
       "      <td>NaN</td>\n",
       "      <td>...</td>\n",
       "      <td>11.0</td>\n",
       "      <td>2.0</td>\n",
       "      <td>посёлок Шушары</td>\n",
       "      <td>12817.0</td>\n",
       "      <td>18603.0</td>\n",
       "      <td>0.0</td>\n",
       "      <td>NaN</td>\n",
       "      <td>0.0</td>\n",
       "      <td>NaN</td>\n",
       "      <td>81.0</td>\n",
       "    </tr>\n",
       "    <tr>\n",
       "      <th>2</th>\n",
       "      <td>10</td>\n",
       "      <td>5196000.0</td>\n",
       "      <td>56.0</td>\n",
       "      <td>2015-08-20T00:00:00</td>\n",
       "      <td>2</td>\n",
       "      <td>NaN</td>\n",
       "      <td>5.0</td>\n",
       "      <td>34.3</td>\n",
       "      <td>4</td>\n",
       "      <td>NaN</td>\n",
       "      <td>...</td>\n",
       "      <td>8.3</td>\n",
       "      <td>0.0</td>\n",
       "      <td>Санкт-Петербург</td>\n",
       "      <td>21741.0</td>\n",
       "      <td>13933.0</td>\n",
       "      <td>1.0</td>\n",
       "      <td>90.0</td>\n",
       "      <td>2.0</td>\n",
       "      <td>574.0</td>\n",
       "      <td>558.0</td>\n",
       "    </tr>\n",
       "    <tr>\n",
       "      <th>3</th>\n",
       "      <td>0</td>\n",
       "      <td>64900000.0</td>\n",
       "      <td>159.0</td>\n",
       "      <td>2015-07-24T00:00:00</td>\n",
       "      <td>3</td>\n",
       "      <td>NaN</td>\n",
       "      <td>14.0</td>\n",
       "      <td>NaN</td>\n",
       "      <td>9</td>\n",
       "      <td>NaN</td>\n",
       "      <td>...</td>\n",
       "      <td>NaN</td>\n",
       "      <td>0.0</td>\n",
       "      <td>Санкт-Петербург</td>\n",
       "      <td>28098.0</td>\n",
       "      <td>6800.0</td>\n",
       "      <td>2.0</td>\n",
       "      <td>84.0</td>\n",
       "      <td>3.0</td>\n",
       "      <td>234.0</td>\n",
       "      <td>424.0</td>\n",
       "    </tr>\n",
       "    <tr>\n",
       "      <th>4</th>\n",
       "      <td>2</td>\n",
       "      <td>10000000.0</td>\n",
       "      <td>100.0</td>\n",
       "      <td>2018-06-19T00:00:00</td>\n",
       "      <td>2</td>\n",
       "      <td>3.03</td>\n",
       "      <td>14.0</td>\n",
       "      <td>32.0</td>\n",
       "      <td>13</td>\n",
       "      <td>NaN</td>\n",
       "      <td>...</td>\n",
       "      <td>41.0</td>\n",
       "      <td>NaN</td>\n",
       "      <td>Санкт-Петербург</td>\n",
       "      <td>31856.0</td>\n",
       "      <td>8098.0</td>\n",
       "      <td>2.0</td>\n",
       "      <td>112.0</td>\n",
       "      <td>1.0</td>\n",
       "      <td>48.0</td>\n",
       "      <td>121.0</td>\n",
       "    </tr>\n",
       "  </tbody>\n",
       "</table>\n",
       "<p>5 rows × 22 columns</p>\n",
       "</div>"
      ],
      "text/plain": [
       "   total_images  last_price  total_area first_day_exposition  rooms  \\\n",
       "0            20  13000000.0       108.0  2019-03-07T00:00:00      3   \n",
       "1             7   3350000.0        40.4  2018-12-04T00:00:00      1   \n",
       "2            10   5196000.0        56.0  2015-08-20T00:00:00      2   \n",
       "3             0  64900000.0       159.0  2015-07-24T00:00:00      3   \n",
       "4             2  10000000.0       100.0  2018-06-19T00:00:00      2   \n",
       "\n",
       "   ceiling_height  floors_total  living_area  floor is_apartment  ...  \\\n",
       "0            2.70          16.0         51.0      8          NaN  ...   \n",
       "1             NaN          11.0         18.6      1          NaN  ...   \n",
       "2             NaN           5.0         34.3      4          NaN  ...   \n",
       "3             NaN          14.0          NaN      9          NaN  ...   \n",
       "4            3.03          14.0         32.0     13          NaN  ...   \n",
       "\n",
       "   kitchen_area  balcony    locality_name  airports_nearest  \\\n",
       "0          25.0      NaN  Санкт-Петербург           18863.0   \n",
       "1          11.0      2.0   посёлок Шушары           12817.0   \n",
       "2           8.3      0.0  Санкт-Петербург           21741.0   \n",
       "3           NaN      0.0  Санкт-Петербург           28098.0   \n",
       "4          41.0      NaN  Санкт-Петербург           31856.0   \n",
       "\n",
       "  cityCenters_nearest  parks_around3000  parks_nearest  ponds_around3000  \\\n",
       "0             16028.0               1.0          482.0               2.0   \n",
       "1             18603.0               0.0            NaN               0.0   \n",
       "2             13933.0               1.0           90.0               2.0   \n",
       "3              6800.0               2.0           84.0               3.0   \n",
       "4              8098.0               2.0          112.0               1.0   \n",
       "\n",
       "   ponds_nearest  days_exposition  \n",
       "0          755.0              NaN  \n",
       "1            NaN             81.0  \n",
       "2          574.0            558.0  \n",
       "3          234.0            424.0  \n",
       "4           48.0            121.0  \n",
       "\n",
       "[5 rows x 22 columns]"
      ]
     },
     "metadata": {},
     "output_type": "display_data"
    },
    {
     "data": {
      "image/png": "[encoded data removed]",
      "text/plain": [
       "<Figure size 1080x1440 with 20 Axes>"
      ]
     },
     "metadata": {
      "needs_background": "light"
     },
     "output_type": "display_data"
    }
   ],
   "source": [
    "data.info()\n",
    "display(data.head())\n",
    "data.hist(figsize=(15, 20));"
   ]
  },
  {
   "cell_type": "markdown",
   "metadata": {},
   "source": [
    "### Предобработка данных"
   ]
  },
  {
   "cell_type": "code",
   "execution_count": 3,
   "metadata": {},
   "outputs": [],
   "source": [
    "#Название колонки cityCenters_nearest не соответствует хорошему стилю:\n",
    "data = data.rename(columns={ 'cityCenters_nearest': 'city_centers_nearest' })"
   ]
  },
  {
   "cell_type": "markdown",
   "metadata": {},
   "source": [
    "#### Явные дубликаты"
   ]
  },
  {
   "cell_type": "code",
   "execution_count": 4,
   "metadata": {},
   "outputs": [
    {
     "name": "stdout",
     "output_type": "stream",
     "text": [
      "Количество явных дубликатов: 0\n"
     ]
    }
   ],
   "source": [
    "print('Количество явных дубликатов:', data.duplicated().sum())\n",
    "data = data.drop_duplicates()"
   ]
  },
  {
   "cell_type": "markdown",
   "metadata": {},
   "source": [
    "#### Пропуски"
   ]
  },
  {
   "cell_type": "markdown",
   "metadata": {},
   "source": [
    "Наблюдается множество пропущенных значений в разных колонках:\n",
    "* **ceiling_height** - можно заменить на медиану.  По гистограмме видно, что есть потолки до 100 метров. Поэтому, для начала, нужно разобраться с экстремумами.\n",
    "* **floors_total** - таких записей всего 86. Можно проигнорировать - тогда они просто не попадут в анализ по последнему этажу.\n",
    "* **living_area** - можно проигнорировать эти строки. В теории, можно было бы посчитать что-нибудь в духе медианы процента жилой площади в квартире. Но это может исказить результат.\n",
    "* **kitchen_area** - тоже игнорируем.\n",
    "* **is_apartment** - конвертировать в False.\n",
    "* **balcony** - конвертировать в 0.\n",
    "* **days_exposition** - тут не понятно. Пустота в этом поле может означать разное: квартира еще не продана, объявление сразу сняли (публикация по ошибке), квартиру сразу выкупили. Из-за неоднозначности, эти строки стоит убрать из анализа\n",
    "* **locality_name** - конвертировать в \"Другое\". Локация для анализа не критична.\n",
    "* **parks_around3000, ponds_around3000** - можно предположить, что null означает просто, что поблизости нет соответствующих объектов - тогда можно заменить на 0.\n",
    "* Также, среди картографических данных геолокации много пустых значний. Похоже, между ними есть связь."
   ]
  },
  {
   "cell_type": "markdown",
   "metadata": {},
   "source": [
    "##### Пропуски в картографических данных"
   ]
  },
  {
   "cell_type": "code",
   "execution_count": 5,
   "metadata": {
    "scrolled": true
   },
   "outputs": [
    {
     "name": "stdout",
     "output_type": "stream",
     "text": [
      "empty parks: 5518\n",
      "empty ponds: 5518\n",
      "ponds_around3000        0\n",
      "parks_around3000        0\n",
      "airports_nearest        0\n",
      "city_centers_nearest    0\n",
      "parks_nearest           0\n",
      "ponds_nearest           0\n",
      "dtype: int64\n",
      "[ 0. nan]\n",
      "[ 0. nan]\n"
     ]
    }
   ],
   "source": [
    "geo_nearest_columns = ['airports_nearest', 'city_centers_nearest', 'parks_nearest', 'ponds_nearest']\n",
    "\n",
    "#Анализ пустот в данных геолокации:\n",
    "empty_parks = data['parks_around3000'].isna()\n",
    "empty_ponds = data['ponds_around3000'].isna()\n",
    "\n",
    "#эти запросы покажут, что количество пропущенных parks_around3000 равно ponds_around3000:\n",
    "print('empty parks:', data[empty_parks]['total_images'].count())\n",
    "print('empty ponds:', data[empty_ponds]['total_images'].count())\n",
    "\n",
    "#этот запрос покажет, что parks_around3000 и ponds_around3000 пусты в одних и тех же строках.\n",
    "#также в этих строках пусты все данные геолокации\n",
    "print(data[empty_parks][[\n",
    "    'ponds_around3000', \n",
    "    'parks_around3000',\n",
    "    'airports_nearest',\n",
    "    'city_centers_nearest',\n",
    "    'parks_nearest',\n",
    "    'ponds_nearest'\n",
    "]].count())\n",
    "\n",
    "#этот запрос покажет, что колонки *nearest пусты только когда нет данных геолокации,\n",
    "#либо когда поблизости нет соответствующих объектов\n",
    "print(data[data['ponds_nearest'].isna()]['ponds_around3000'].unique())\n",
    "print(data[data['parks_nearest'].isna()]['parks_around3000'].unique())"
   ]
  },
  {
   "cell_type": "markdown",
   "metadata": {},
   "source": [
    "Несколько выводов по колонкам, полученным из картографических данных:\n",
    "* Для некоторых объявлений не были получены данные геолокации. Могут быть разные причины, почему это произошло (некорректный адрес, ошибка в запросе на выборку, ошибка ПО). Такие строки, в теории, можно заполнить медианами в разрезе названия локации. Но безопасней вообще не заполнять - тогда они никак не повлияют на графики.\n",
    "* \"nearest\" поля пустые в двух случаях: если нет данных геолокации (и тогда их следуют оставить пустыми) и если поблизости нет соответствующих объектов (и тогда их можно заполнить максимальным значением своей колонки)"
   ]
  },
  {
   "cell_type": "code",
   "execution_count": 6,
   "metadata": {},
   "outputs": [],
   "source": [
    "for column in geo_nearest_columns:\n",
    "    data.loc[(data[column].isna()) & (data['ponds_around3000'].notnull()), column] = data[column].max()"
   ]
  },
  {
   "cell_type": "markdown",
   "metadata": {},
   "source": [
    "##### Корректировка высоких потолков"
   ]
  },
  {
   "cell_type": "code",
   "execution_count": 7,
   "metadata": {},
   "outputs": [
    {
     "data": {
      "text/html": [
       "<div>\n",
       "<style scoped>\n",
       "    .dataframe tbody tr th:only-of-type {\n",
       "        vertical-align: middle;\n",
       "    }\n",
       "\n",
       "    .dataframe tbody tr th {\n",
       "        vertical-align: top;\n",
       "    }\n",
       "\n",
       "    .dataframe thead th {\n",
       "        text-align: right;\n",
       "    }\n",
       "</style>\n",
       "<table border=\"1\" class=\"dataframe\">\n",
       "  <thead>\n",
       "    <tr style=\"text-align: right;\">\n",
       "      <th></th>\n",
       "      <th>total_images</th>\n",
       "      <th>last_price</th>\n",
       "      <th>total_area</th>\n",
       "      <th>first_day_exposition</th>\n",
       "      <th>rooms</th>\n",
       "      <th>ceiling_height</th>\n",
       "      <th>floors_total</th>\n",
       "      <th>living_area</th>\n",
       "      <th>floor</th>\n",
       "      <th>is_apartment</th>\n",
       "      <th>...</th>\n",
       "      <th>kitchen_area</th>\n",
       "      <th>balcony</th>\n",
       "      <th>locality_name</th>\n",
       "      <th>airports_nearest</th>\n",
       "      <th>city_centers_nearest</th>\n",
       "      <th>parks_around3000</th>\n",
       "      <th>parks_nearest</th>\n",
       "      <th>ponds_around3000</th>\n",
       "      <th>ponds_nearest</th>\n",
       "      <th>days_exposition</th>\n",
       "    </tr>\n",
       "  </thead>\n",
       "  <tbody>\n",
       "    <tr>\n",
       "      <th>22869</th>\n",
       "      <td>0</td>\n",
       "      <td>15000000.0</td>\n",
       "      <td>25.0</td>\n",
       "      <td>2018-07-25T00:00:00</td>\n",
       "      <td>1</td>\n",
       "      <td>100.0</td>\n",
       "      <td>5.0</td>\n",
       "      <td>14.0</td>\n",
       "      <td>5</td>\n",
       "      <td>True</td>\n",
       "      <td>...</td>\n",
       "      <td>11.0</td>\n",
       "      <td>5.0</td>\n",
       "      <td>Санкт-Петербург</td>\n",
       "      <td>34963.0</td>\n",
       "      <td>8283.0</td>\n",
       "      <td>1.0</td>\n",
       "      <td>223.0</td>\n",
       "      <td>3.0</td>\n",
       "      <td>30.0</td>\n",
       "      <td>19.0</td>\n",
       "    </tr>\n",
       "    <tr>\n",
       "      <th>22336</th>\n",
       "      <td>19</td>\n",
       "      <td>9999000.0</td>\n",
       "      <td>92.4</td>\n",
       "      <td>2019-04-05T00:00:00</td>\n",
       "      <td>2</td>\n",
       "      <td>32.0</td>\n",
       "      <td>6.0</td>\n",
       "      <td>55.5</td>\n",
       "      <td>5</td>\n",
       "      <td>False</td>\n",
       "      <td>...</td>\n",
       "      <td>16.5</td>\n",
       "      <td>4.0</td>\n",
       "      <td>Санкт-Петербург</td>\n",
       "      <td>18838.0</td>\n",
       "      <td>3506.0</td>\n",
       "      <td>0.0</td>\n",
       "      <td>3190.0</td>\n",
       "      <td>3.0</td>\n",
       "      <td>511.0</td>\n",
       "      <td>NaN</td>\n",
       "    </tr>\n",
       "    <tr>\n",
       "      <th>3148</th>\n",
       "      <td>14</td>\n",
       "      <td>2900000.0</td>\n",
       "      <td>75.0</td>\n",
       "      <td>2018-11-12T00:00:00</td>\n",
       "      <td>3</td>\n",
       "      <td>32.0</td>\n",
       "      <td>3.0</td>\n",
       "      <td>53.0</td>\n",
       "      <td>2</td>\n",
       "      <td>NaN</td>\n",
       "      <td>...</td>\n",
       "      <td>8.0</td>\n",
       "      <td>NaN</td>\n",
       "      <td>Волхов</td>\n",
       "      <td>NaN</td>\n",
       "      <td>NaN</td>\n",
       "      <td>NaN</td>\n",
       "      <td>NaN</td>\n",
       "      <td>NaN</td>\n",
       "      <td>NaN</td>\n",
       "      <td>NaN</td>\n",
       "    </tr>\n",
       "    <tr>\n",
       "      <th>21377</th>\n",
       "      <td>19</td>\n",
       "      <td>4900000.0</td>\n",
       "      <td>42.0</td>\n",
       "      <td>2017-04-18T00:00:00</td>\n",
       "      <td>1</td>\n",
       "      <td>27.5</td>\n",
       "      <td>24.0</td>\n",
       "      <td>37.7</td>\n",
       "      <td>19</td>\n",
       "      <td>False</td>\n",
       "      <td>...</td>\n",
       "      <td>11.0</td>\n",
       "      <td>2.0</td>\n",
       "      <td>Санкт-Петербург</td>\n",
       "      <td>42742.0</td>\n",
       "      <td>9760.0</td>\n",
       "      <td>0.0</td>\n",
       "      <td>3190.0</td>\n",
       "      <td>0.0</td>\n",
       "      <td>1344.0</td>\n",
       "      <td>61.0</td>\n",
       "    </tr>\n",
       "    <tr>\n",
       "      <th>22938</th>\n",
       "      <td>14</td>\n",
       "      <td>4000000.0</td>\n",
       "      <td>98.0</td>\n",
       "      <td>2018-03-15T00:00:00</td>\n",
       "      <td>4</td>\n",
       "      <td>27.0</td>\n",
       "      <td>2.0</td>\n",
       "      <td>73.0</td>\n",
       "      <td>2</td>\n",
       "      <td>True</td>\n",
       "      <td>...</td>\n",
       "      <td>9.0</td>\n",
       "      <td>1.0</td>\n",
       "      <td>деревня Нижняя</td>\n",
       "      <td>NaN</td>\n",
       "      <td>NaN</td>\n",
       "      <td>NaN</td>\n",
       "      <td>NaN</td>\n",
       "      <td>NaN</td>\n",
       "      <td>NaN</td>\n",
       "      <td>27.0</td>\n",
       "    </tr>\n",
       "  </tbody>\n",
       "</table>\n",
       "<p>5 rows × 22 columns</p>\n",
       "</div>"
      ],
      "text/plain": [
       "       total_images  last_price  total_area first_day_exposition  rooms  \\\n",
       "22869             0  15000000.0        25.0  2018-07-25T00:00:00      1   \n",
       "22336            19   9999000.0        92.4  2019-04-05T00:00:00      2   \n",
       "3148             14   2900000.0        75.0  2018-11-12T00:00:00      3   \n",
       "21377            19   4900000.0        42.0  2017-04-18T00:00:00      1   \n",
       "22938            14   4000000.0        98.0  2018-03-15T00:00:00      4   \n",
       "\n",
       "       ceiling_height  floors_total  living_area  floor is_apartment  ...  \\\n",
       "22869           100.0           5.0         14.0      5         True  ...   \n",
       "22336            32.0           6.0         55.5      5        False  ...   \n",
       "3148             32.0           3.0         53.0      2          NaN  ...   \n",
       "21377            27.5          24.0         37.7     19        False  ...   \n",
       "22938            27.0           2.0         73.0      2         True  ...   \n",
       "\n",
       "       kitchen_area  balcony    locality_name  airports_nearest  \\\n",
       "22869          11.0      5.0  Санкт-Петербург           34963.0   \n",
       "22336          16.5      4.0  Санкт-Петербург           18838.0   \n",
       "3148            8.0      NaN           Волхов               NaN   \n",
       "21377          11.0      2.0  Санкт-Петербург           42742.0   \n",
       "22938           9.0      1.0   деревня Нижняя               NaN   \n",
       "\n",
       "      city_centers_nearest  parks_around3000  parks_nearest  ponds_around3000  \\\n",
       "22869               8283.0               1.0          223.0               3.0   \n",
       "22336               3506.0               0.0         3190.0               3.0   \n",
       "3148                   NaN               NaN            NaN               NaN   \n",
       "21377               9760.0               0.0         3190.0               0.0   \n",
       "22938                  NaN               NaN            NaN               NaN   \n",
       "\n",
       "       ponds_nearest  days_exposition  \n",
       "22869           30.0             19.0  \n",
       "22336          511.0              NaN  \n",
       "3148             NaN              NaN  \n",
       "21377         1344.0             61.0  \n",
       "22938            NaN             27.0  \n",
       "\n",
       "[5 rows x 22 columns]"
      ]
     },
     "execution_count": 7,
     "metadata": {},
     "output_type": "execute_result"
    }
   ],
   "source": [
    "data.query('ceiling_height > 20').sort_values('ceiling_height', ascending=False).head()"
   ]
  },
  {
   "cell_type": "markdown",
   "metadata": {},
   "source": [
    "* Объявление со 100-метровым потолком подозрительно нереалистичное. Без фото, 25 квадратов и целых 5 балконов. Стоит его вообще убрать из выборки. \n",
    "* Остальные высоты потолков гораздо меньше. А в двухзначных значениях, возможно, пропущен десятичный разделитель. Исправить это можно просто поделив такие высоты на 10."
   ]
  },
  {
   "cell_type": "code",
   "execution_count": 8,
   "metadata": {},
   "outputs": [],
   "source": [
    "data = data.query('ceiling_height != 100')\n",
    "def fix_ceiling_height(value):\n",
    "    if value >= 20:\n",
    "        return value / 10\n",
    "    return value\n",
    "\n",
    "data['ceiling_height'] = data['ceiling_height'].apply(fix_ceiling_height)"
   ]
  },
  {
   "cell_type": "markdown",
   "metadata": {},
   "source": [
    "##### Пропуски и конвертация"
   ]
  },
  {
   "cell_type": "code",
   "execution_count": 9,
   "metadata": {},
   "outputs": [],
   "source": [
    "data = data.fillna({\n",
    "    'balcony': 0,\n",
    "    'is_apartment': False,\n",
    "    'locality_name': 'Другое',\n",
    "    'ceiling_height': data['ceiling_height'].median()    \n",
    "})"
   ]
  },
  {
   "cell_type": "markdown",
   "metadata": {},
   "source": [
    "Необходимо конвертировать часть колонок в более подходящие типы:\n",
    "* **first_day_exposition** в формат даты (во-первых, в колонке реально дата, во-вторых - с форматом даты будет проще вести дальнейшие вычисления и анализ).\n",
    "* **balcony** должны быть целыми числами. "
   ]
  },
  {
   "cell_type": "code",
   "execution_count": 10,
   "metadata": {},
   "outputs": [],
   "source": [
    "data['balcony'] = data['balcony'].astype(int)\n",
    "data['first_day_exposition'] = pd.to_datetime(data['first_day_exposition'], format='%Y-%m-%dT%H:%M:%S')"
   ]
  },
  {
   "cell_type": "markdown",
   "metadata": {},
   "source": [
    "##### Неявные дубликаты в locality_name"
   ]
  },
  {
   "cell_type": "code",
   "execution_count": 11,
   "metadata": {
    "scrolled": false
   },
   "outputs": [
    {
     "name": "stdout",
     "output_type": "stream",
     "text": [
      "365\n",
      "['Санкт-Петербург' 'посёлок Шушары' 'городской посёлок Янино-1'\n",
      " 'посёлок Парголово' 'посёлок Мурино' 'Ломоносов' 'Сертолово' 'Петергоф'\n",
      " 'Пушкин' 'деревня Кудрово' 'Коммунар' 'Колпино'\n",
      " 'поселок городского типа Красный Бор' 'Гатчина' 'поселок Мурино'\n",
      " 'деревня Фёдоровское' 'Выборг' 'Кронштадт' 'Кировск'\n",
      " 'деревня Новое Девяткино']\n"
     ]
    }
   ],
   "source": [
    "print(len(data['locality_name'].unique()))\n",
    "print(data['locality_name'].unique()[:20])"
   ]
  },
  {
   "cell_type": "code",
   "execution_count": 12,
   "metadata": {},
   "outputs": [
    {
     "data": {
      "text/plain": [
       "306"
      ]
     },
     "execution_count": 12,
     "metadata": {},
     "output_type": "execute_result"
    }
   ],
   "source": [
    "#Много названий. Можно убрать приставки - тогда наименований должно стать меньше.\n",
    "prefixes = [\n",
    "    'садоводческое некоммерческое товарищество', \n",
    "    'деревня',\n",
    "    'городской',\n",
    "    'коттеджный',\n",
    "    'посёлок',\n",
    "    'поселок',\n",
    "    'садовое товарищество',\n",
    "    'городского типа',\n",
    "    'при железнодорожной станции',\n",
    "    'село',\n",
    "    'станции',\n",
    "    'имени'\n",
    "]\n",
    "def simplify_localities(locality_name):\n",
    "    for prefix in prefixes:\n",
    "        locality_name = locality_name.replace(prefix, '').strip()\n",
    "    return locality_name\n",
    "\n",
    "data['short_locality_name'] = data['locality_name'].apply(simplify_localities)\n",
    "len(data['short_locality_name'].unique())"
   ]
  },
  {
   "cell_type": "markdown",
   "metadata": {},
   "source": [
    "##### Аномалии"
   ]
  },
  {
   "cell_type": "code",
   "execution_count": 13,
   "metadata": {
    "scrolled": false
   },
   "outputs": [
    {
     "data": {
      "image/png": "[encoded data removed]",
      "text/plain": [
       "<Figure size 1080x1440 with 20 Axes>"
      ]
     },
     "metadata": {
      "needs_background": "light"
     },
     "output_type": "display_data"
    }
   ],
   "source": [
    "data.hist(figsize=(15, 20));"
   ]
  },
  {
   "cell_type": "markdown",
   "metadata": {},
   "source": [
    "После предобратки по гистограммам видно, что есть выбивающиеся значения для last_price, total_area,rooms, ceiling_height, living_area, kitchen_area. Также есть всплески в parks_nearest и ponds_nearest - это пропущенные заначения, которые ранее были заполненны максимумаи. По сути они позволяют сказать, что большинство объектов находится далеко от парков и прудов. "
   ]
  },
  {
   "cell_type": "code",
   "execution_count": 14,
   "metadata": {
    "scrolled": false
   },
   "outputs": [
    {
     "data": {
      "text/html": [
       "<div>\n",
       "<style scoped>\n",
       "    .dataframe tbody tr th:only-of-type {\n",
       "        vertical-align: middle;\n",
       "    }\n",
       "\n",
       "    .dataframe tbody tr th {\n",
       "        vertical-align: top;\n",
       "    }\n",
       "\n",
       "    .dataframe thead th {\n",
       "        text-align: right;\n",
       "    }\n",
       "</style>\n",
       "<table border=\"1\" class=\"dataframe\">\n",
       "  <thead>\n",
       "    <tr style=\"text-align: right;\">\n",
       "      <th></th>\n",
       "      <th>last_price</th>\n",
       "      <th>total_area</th>\n",
       "      <th>rooms</th>\n",
       "      <th>ceiling_height</th>\n",
       "      <th>living_area</th>\n",
       "      <th>kitchen_area</th>\n",
       "    </tr>\n",
       "  </thead>\n",
       "  <tbody>\n",
       "    <tr>\n",
       "      <th>count</th>\n",
       "      <td>2.369800e+04</td>\n",
       "      <td>23698.000000</td>\n",
       "      <td>23698.000000</td>\n",
       "      <td>23698.000000</td>\n",
       "      <td>21795.000000</td>\n",
       "      <td>21420.000000</td>\n",
       "    </tr>\n",
       "    <tr>\n",
       "      <th>mean</th>\n",
       "      <td>6.541192e+06</td>\n",
       "      <td>60.350143</td>\n",
       "      <td>2.070681</td>\n",
       "      <td>2.698413</td>\n",
       "      <td>34.458791</td>\n",
       "      <td>10.569787</td>\n",
       "    </tr>\n",
       "    <tr>\n",
       "      <th>std</th>\n",
       "      <td>1.088710e+07</td>\n",
       "      <td>35.654096</td>\n",
       "      <td>1.078405</td>\n",
       "      <td>0.248731</td>\n",
       "      <td>22.030515</td>\n",
       "      <td>5.905575</td>\n",
       "    </tr>\n",
       "    <tr>\n",
       "      <th>min</th>\n",
       "      <td>1.219000e+04</td>\n",
       "      <td>12.000000</td>\n",
       "      <td>0.000000</td>\n",
       "      <td>1.000000</td>\n",
       "      <td>2.000000</td>\n",
       "      <td>1.300000</td>\n",
       "    </tr>\n",
       "    <tr>\n",
       "      <th>25%</th>\n",
       "      <td>3.400000e+06</td>\n",
       "      <td>40.000000</td>\n",
       "      <td>1.000000</td>\n",
       "      <td>2.600000</td>\n",
       "      <td>18.600000</td>\n",
       "      <td>7.000000</td>\n",
       "    </tr>\n",
       "    <tr>\n",
       "      <th>50%</th>\n",
       "      <td>4.650000e+06</td>\n",
       "      <td>52.000000</td>\n",
       "      <td>2.000000</td>\n",
       "      <td>2.650000</td>\n",
       "      <td>30.000000</td>\n",
       "      <td>9.100000</td>\n",
       "    </tr>\n",
       "    <tr>\n",
       "      <th>75%</th>\n",
       "      <td>6.799750e+06</td>\n",
       "      <td>69.900000</td>\n",
       "      <td>3.000000</td>\n",
       "      <td>2.700000</td>\n",
       "      <td>42.300000</td>\n",
       "      <td>12.000000</td>\n",
       "    </tr>\n",
       "    <tr>\n",
       "      <th>max</th>\n",
       "      <td>7.630000e+08</td>\n",
       "      <td>900.000000</td>\n",
       "      <td>19.000000</td>\n",
       "      <td>14.000000</td>\n",
       "      <td>409.700000</td>\n",
       "      <td>112.000000</td>\n",
       "    </tr>\n",
       "  </tbody>\n",
       "</table>\n",
       "</div>"
      ],
      "text/plain": [
       "         last_price    total_area         rooms  ceiling_height   living_area  \\\n",
       "count  2.369800e+04  23698.000000  23698.000000    23698.000000  21795.000000   \n",
       "mean   6.541192e+06     60.350143      2.070681        2.698413     34.458791   \n",
       "std    1.088710e+07     35.654096      1.078405        0.248731     22.030515   \n",
       "min    1.219000e+04     12.000000      0.000000        1.000000      2.000000   \n",
       "25%    3.400000e+06     40.000000      1.000000        2.600000     18.600000   \n",
       "50%    4.650000e+06     52.000000      2.000000        2.650000     30.000000   \n",
       "75%    6.799750e+06     69.900000      3.000000        2.700000     42.300000   \n",
       "max    7.630000e+08    900.000000     19.000000       14.000000    409.700000   \n",
       "\n",
       "       kitchen_area  \n",
       "count  21420.000000  \n",
       "mean      10.569787  \n",
       "std        5.905575  \n",
       "min        1.300000  \n",
       "25%        7.000000  \n",
       "50%        9.100000  \n",
       "75%       12.000000  \n",
       "max      112.000000  "
      ]
     },
     "execution_count": 14,
     "metadata": {},
     "output_type": "execute_result"
    }
   ],
   "source": [
    "import matplotlib.pyplot as plt\n",
    "data[['last_price', 'total_area', 'rooms', 'ceiling_height', 'living_area', 'kitchen_area']].describe()"
   ]
  },
  {
   "cell_type": "markdown",
   "metadata": {},
   "source": [
    "Похоже, из общего ряда выбивается элитная недвижимость. Возможно, даже, нежилая. На это указывают и цены > 100 млн., и площади под тысячу кв.м. Такая недвижимость существует по своим законам и не имеет смысла использовать ее при анализе влияния на цену среднюю:"
   ]
  },
  {
   "cell_type": "code",
   "execution_count": 15,
   "metadata": {
    "scrolled": false
   },
   "outputs": [
    {
     "data": {
      "image/png": "[encoded data removed]",
      "text/plain": [
       "<Figure size 1080x1440 with 20 Axes>"
      ]
     },
     "metadata": {
      "needs_background": "light"
     },
     "output_type": "display_data"
    }
   ],
   "source": [
    "data = data.query(\n",
    "    '(last_price <= 20000000) and (total_area < 200) and (living_area < 150) and (kitchen_area < 40)'\n",
    ")\n",
    "\n",
    "data.hist(figsize=(15, 20));"
   ]
  },
  {
   "cell_type": "markdown",
   "metadata": {},
   "source": [
    "#### Вывод по предобработке\n",
    "\n",
    "* Существует явная проблема с привязкой картографических данных.\n",
    "* Не ясно, что понимается под 'nearest' в колонках airports_nearest, city_centers_nearest, parks_nearest, ponds_nearest. Из-за этого их предобработка могла быть выполнена некорректно.\n",
    "* Определенные сложности создает остутсвие контроля вводимых значений.\n",
    "* Неконсистентный справочник населенных пунктов."
   ]
  },
  {
   "cell_type": "markdown",
   "metadata": {},
   "source": [
    "### Посчитайте и добавьте в таблицу новые столбцы"
   ]
  },
  {
   "cell_type": "code",
   "execution_count": 16,
   "metadata": {},
   "outputs": [],
   "source": [
    "import numpy\n",
    "def get_floor_kind(row):\n",
    "    floor = row['floor']\n",
    "    if floor == 1:\n",
    "        return 'первый'\n",
    "    elif floor == row['floors_total']:\n",
    "        return 'последний'\n",
    "    return 'другой'\n",
    "\n",
    "data['price_per_meter'] = data['last_price'] / data['total_area']\n",
    "data['publication_week_day'] = data['first_day_exposition'].dt.dayofweek\n",
    "data['publication_month'] = data['first_day_exposition'].dt.month\n",
    "data['publication_year'] = data['first_day_exposition'].dt.year\n",
    "data['floor_kind'] = data.apply(get_floor_kind, axis=1)\n",
    "data['km_to_center'] = numpy.floor(data['city_centers_nearest'] / 1000)"
   ]
  },
  {
   "cell_type": "markdown",
   "metadata": {},
   "source": [
    "### Проведите исследовательский анализ данных"
   ]
  },
  {
   "cell_type": "markdown",
   "metadata": {},
   "source": [
    "##### Цена объектов"
   ]
  },
  {
   "cell_type": "code",
   "execution_count": 17,
   "metadata": {
    "scrolled": false
   },
   "outputs": [
    {
     "name": "stdout",
     "output_type": "stream",
     "text": [
      "count    2.029200e+04\n",
      "mean     5.426563e+06\n",
      "std      3.121956e+06\n",
      "min      4.300000e+05\n",
      "25%      3.450000e+06\n",
      "50%      4.600000e+06\n",
      "75%      6.500000e+06\n",
      "max      2.000000e+07\n",
      "Name: last_price, dtype: float64\n"
     ]
    },
    {
     "data": {
      "image/png": "[encoded data removed]",
      "text/plain": [
       "<Figure size 720x360 with 1 Axes>"
      ]
     },
     "metadata": {
      "needs_background": "light"
     },
     "output_type": "display_data"
    }
   ],
   "source": [
    "print(data['last_price'].describe())\n",
    "data['last_price'].hist(figsize=(10,5), bins=50);"
   ]
  },
  {
   "cell_type": "markdown",
   "metadata": {},
   "source": [
    "Похоже на нормальное распределение. Цены, обычно, не превышают 10 млн. Есть выбросы до 20 млн., но они не кажутся фантастическими."
   ]
  },
  {
   "cell_type": "markdown",
   "metadata": {},
   "source": [
    "##### Площади"
   ]
  },
  {
   "cell_type": "code",
   "execution_count": 18,
   "metadata": {
    "scrolled": false
   },
   "outputs": [
    {
     "data": {
      "text/html": [
       "<div>\n",
       "<style scoped>\n",
       "    .dataframe tbody tr th:only-of-type {\n",
       "        vertical-align: middle;\n",
       "    }\n",
       "\n",
       "    .dataframe tbody tr th {\n",
       "        vertical-align: top;\n",
       "    }\n",
       "\n",
       "    .dataframe thead th {\n",
       "        text-align: right;\n",
       "    }\n",
       "</style>\n",
       "<table border=\"1\" class=\"dataframe\">\n",
       "  <thead>\n",
       "    <tr style=\"text-align: right;\">\n",
       "      <th></th>\n",
       "      <th>total_area</th>\n",
       "      <th>living_area</th>\n",
       "      <th>kitchen_area</th>\n",
       "    </tr>\n",
       "  </thead>\n",
       "  <tbody>\n",
       "    <tr>\n",
       "      <th>count</th>\n",
       "      <td>20292.000000</td>\n",
       "      <td>20292.000000</td>\n",
       "      <td>20292.000000</td>\n",
       "    </tr>\n",
       "    <tr>\n",
       "      <th>mean</th>\n",
       "      <td>56.693005</td>\n",
       "      <td>32.508623</td>\n",
       "      <td>9.962765</td>\n",
       "    </tr>\n",
       "    <tr>\n",
       "      <th>std</th>\n",
       "      <td>23.073263</td>\n",
       "      <td>15.901442</td>\n",
       "      <td>4.246277</td>\n",
       "    </tr>\n",
       "    <tr>\n",
       "      <th>min</th>\n",
       "      <td>14.000000</td>\n",
       "      <td>2.000000</td>\n",
       "      <td>1.300000</td>\n",
       "    </tr>\n",
       "    <tr>\n",
       "      <th>25%</th>\n",
       "      <td>40.000000</td>\n",
       "      <td>18.600000</td>\n",
       "      <td>7.000000</td>\n",
       "    </tr>\n",
       "    <tr>\n",
       "      <th>50%</th>\n",
       "      <td>51.200000</td>\n",
       "      <td>30.000000</td>\n",
       "      <td>9.000000</td>\n",
       "    </tr>\n",
       "    <tr>\n",
       "      <th>75%</th>\n",
       "      <td>67.200000</td>\n",
       "      <td>41.500000</td>\n",
       "      <td>11.470000</td>\n",
       "    </tr>\n",
       "    <tr>\n",
       "      <th>max</th>\n",
       "      <td>198.100000</td>\n",
       "      <td>145.400000</td>\n",
       "      <td>39.900000</td>\n",
       "    </tr>\n",
       "  </tbody>\n",
       "</table>\n",
       "</div>"
      ],
      "text/plain": [
       "         total_area   living_area  kitchen_area\n",
       "count  20292.000000  20292.000000  20292.000000\n",
       "mean      56.693005     32.508623      9.962765\n",
       "std       23.073263     15.901442      4.246277\n",
       "min       14.000000      2.000000      1.300000\n",
       "25%       40.000000     18.600000      7.000000\n",
       "50%       51.200000     30.000000      9.000000\n",
       "75%       67.200000     41.500000     11.470000\n",
       "max      198.100000    145.400000     39.900000"
      ]
     },
     "metadata": {},
     "output_type": "display_data"
    },
    {
     "data": {
      "image/png": "[encoded data removed]",
      "text/plain": [
       "<Figure size 720x432 with 4 Axes>"
      ]
     },
     "metadata": {
      "needs_background": "light"
     },
     "output_type": "display_data"
    }
   ],
   "source": [
    "display(data[['total_area', 'living_area', 'kitchen_area']].describe())\n",
    "data.hist(figsize=(10,6), column=[\n",
    "    'total_area',\n",
    "    'living_area',\n",
    "    'kitchen_area'\n",
    "], bins=20);"
   ]
  },
  {
   "cell_type": "markdown",
   "metadata": {},
   "source": [
    "Половина продаваемой недвижимости не превышает 51 кв.м. Люди часто берут маленькие квартиры для сдачи и в качестве инвестиций. \n",
    "\n",
    "По данным выходит, что площадь обычно не превышает 100 кв.м., хотя есть и выбросы до 200 квадратов. Но такие цифры тоже кажутся реальными. "
   ]
  },
  {
   "cell_type": "markdown",
   "metadata": {},
   "source": [
    "##### Комнаты"
   ]
  },
  {
   "cell_type": "code",
   "execution_count": 19,
   "metadata": {
    "scrolled": false
   },
   "outputs": [
    {
     "name": "stdout",
     "output_type": "stream",
     "text": [
      "count    20292.000000\n",
      "mean         2.028583\n",
      "std          0.954575\n",
      "min          1.000000\n",
      "25%          1.000000\n",
      "50%          2.000000\n",
      "75%          3.000000\n",
      "max         11.000000\n",
      "Name: rooms, dtype: float64\n"
     ]
    },
    {
     "data": {
      "text/html": [
       "<div>\n",
       "<style scoped>\n",
       "    .dataframe tbody tr th:only-of-type {\n",
       "        vertical-align: middle;\n",
       "    }\n",
       "\n",
       "    .dataframe tbody tr th {\n",
       "        vertical-align: top;\n",
       "    }\n",
       "\n",
       "    .dataframe thead th {\n",
       "        text-align: right;\n",
       "    }\n",
       "</style>\n",
       "<table border=\"1\" class=\"dataframe\">\n",
       "  <thead>\n",
       "    <tr style=\"text-align: right;\">\n",
       "      <th></th>\n",
       "      <th>total_images</th>\n",
       "      <th>last_price</th>\n",
       "      <th>total_area</th>\n",
       "      <th>first_day_exposition</th>\n",
       "      <th>rooms</th>\n",
       "      <th>ceiling_height</th>\n",
       "      <th>floors_total</th>\n",
       "      <th>living_area</th>\n",
       "      <th>floor</th>\n",
       "      <th>is_apartment</th>\n",
       "      <th>...</th>\n",
       "      <th>ponds_around3000</th>\n",
       "      <th>ponds_nearest</th>\n",
       "      <th>days_exposition</th>\n",
       "      <th>short_locality_name</th>\n",
       "      <th>price_per_meter</th>\n",
       "      <th>publication_week_day</th>\n",
       "      <th>publication_month</th>\n",
       "      <th>publication_year</th>\n",
       "      <th>floor_kind</th>\n",
       "      <th>km_to_center</th>\n",
       "    </tr>\n",
       "  </thead>\n",
       "  <tbody>\n",
       "    <tr>\n",
       "      <th>648</th>\n",
       "      <td>3</td>\n",
       "      <td>17500000.0</td>\n",
       "      <td>183.7</td>\n",
       "      <td>2018-07-01</td>\n",
       "      <td>11</td>\n",
       "      <td>3.40</td>\n",
       "      <td>7.0</td>\n",
       "      <td>138.8</td>\n",
       "      <td>7</td>\n",
       "      <td>False</td>\n",
       "      <td>...</td>\n",
       "      <td>0.0</td>\n",
       "      <td>1344.0</td>\n",
       "      <td>NaN</td>\n",
       "      <td>Санкт-Петербург</td>\n",
       "      <td>95264.017420</td>\n",
       "      <td>6</td>\n",
       "      <td>7</td>\n",
       "      <td>2018</td>\n",
       "      <td>последний</td>\n",
       "      <td>3.0</td>\n",
       "    </tr>\n",
       "    <tr>\n",
       "      <th>8758</th>\n",
       "      <td>5</td>\n",
       "      <td>16100000.0</td>\n",
       "      <td>150.0</td>\n",
       "      <td>2018-07-10</td>\n",
       "      <td>8</td>\n",
       "      <td>2.92</td>\n",
       "      <td>5.0</td>\n",
       "      <td>107.0</td>\n",
       "      <td>1</td>\n",
       "      <td>False</td>\n",
       "      <td>...</td>\n",
       "      <td>0.0</td>\n",
       "      <td>1344.0</td>\n",
       "      <td>NaN</td>\n",
       "      <td>Санкт-Петербург</td>\n",
       "      <td>107333.333333</td>\n",
       "      <td>1</td>\n",
       "      <td>7</td>\n",
       "      <td>2018</td>\n",
       "      <td>первый</td>\n",
       "      <td>4.0</td>\n",
       "    </tr>\n",
       "    <tr>\n",
       "      <th>855</th>\n",
       "      <td>18</td>\n",
       "      <td>15000000.0</td>\n",
       "      <td>134.0</td>\n",
       "      <td>2017-10-27</td>\n",
       "      <td>7</td>\n",
       "      <td>2.65</td>\n",
       "      <td>4.0</td>\n",
       "      <td>88.0</td>\n",
       "      <td>3</td>\n",
       "      <td>False</td>\n",
       "      <td>...</td>\n",
       "      <td>1.0</td>\n",
       "      <td>387.0</td>\n",
       "      <td>150.0</td>\n",
       "      <td>Санкт-Петербург</td>\n",
       "      <td>111940.298507</td>\n",
       "      <td>4</td>\n",
       "      <td>10</td>\n",
       "      <td>2017</td>\n",
       "      <td>другой</td>\n",
       "      <td>3.0</td>\n",
       "    </tr>\n",
       "    <tr>\n",
       "      <th>1813</th>\n",
       "      <td>0</td>\n",
       "      <td>15000000.0</td>\n",
       "      <td>179.0</td>\n",
       "      <td>2017-04-09</td>\n",
       "      <td>7</td>\n",
       "      <td>2.65</td>\n",
       "      <td>5.0</td>\n",
       "      <td>126.4</td>\n",
       "      <td>5</td>\n",
       "      <td>False</td>\n",
       "      <td>...</td>\n",
       "      <td>1.0</td>\n",
       "      <td>803.0</td>\n",
       "      <td>15.0</td>\n",
       "      <td>Санкт-Петербург</td>\n",
       "      <td>83798.882682</td>\n",
       "      <td>6</td>\n",
       "      <td>4</td>\n",
       "      <td>2017</td>\n",
       "      <td>последний</td>\n",
       "      <td>3.0</td>\n",
       "    </tr>\n",
       "    <tr>\n",
       "      <th>1943</th>\n",
       "      <td>20</td>\n",
       "      <td>16000000.0</td>\n",
       "      <td>184.4</td>\n",
       "      <td>2018-10-21</td>\n",
       "      <td>7</td>\n",
       "      <td>2.65</td>\n",
       "      <td>6.0</td>\n",
       "      <td>125.7</td>\n",
       "      <td>5</td>\n",
       "      <td>False</td>\n",
       "      <td>...</td>\n",
       "      <td>1.0</td>\n",
       "      <td>791.0</td>\n",
       "      <td>109.0</td>\n",
       "      <td>Санкт-Петербург</td>\n",
       "      <td>86767.895879</td>\n",
       "      <td>6</td>\n",
       "      <td>10</td>\n",
       "      <td>2018</td>\n",
       "      <td>другой</td>\n",
       "      <td>2.0</td>\n",
       "    </tr>\n",
       "  </tbody>\n",
       "</table>\n",
       "<p>5 rows × 29 columns</p>\n",
       "</div>"
      ],
      "text/plain": [
       "      total_images  last_price  total_area first_day_exposition  rooms  \\\n",
       "648              3  17500000.0       183.7           2018-07-01     11   \n",
       "8758             5  16100000.0       150.0           2018-07-10      8   \n",
       "855             18  15000000.0       134.0           2017-10-27      7   \n",
       "1813             0  15000000.0       179.0           2017-04-09      7   \n",
       "1943            20  16000000.0       184.4           2018-10-21      7   \n",
       "\n",
       "      ceiling_height  floors_total  living_area  floor  is_apartment  ...  \\\n",
       "648             3.40           7.0        138.8      7         False  ...   \n",
       "8758            2.92           5.0        107.0      1         False  ...   \n",
       "855             2.65           4.0         88.0      3         False  ...   \n",
       "1813            2.65           5.0        126.4      5         False  ...   \n",
       "1943            2.65           6.0        125.7      5         False  ...   \n",
       "\n",
       "      ponds_around3000  ponds_nearest  days_exposition  short_locality_name  \\\n",
       "648                0.0         1344.0              NaN      Санкт-Петербург   \n",
       "8758               0.0         1344.0              NaN      Санкт-Петербург   \n",
       "855                1.0          387.0            150.0      Санкт-Петербург   \n",
       "1813               1.0          803.0             15.0      Санкт-Петербург   \n",
       "1943               1.0          791.0            109.0      Санкт-Петербург   \n",
       "\n",
       "     price_per_meter  publication_week_day  publication_month  \\\n",
       "648     95264.017420                     6                  7   \n",
       "8758   107333.333333                     1                  7   \n",
       "855    111940.298507                     4                 10   \n",
       "1813    83798.882682                     6                  4   \n",
       "1943    86767.895879                     6                 10   \n",
       "\n",
       "      publication_year  floor_kind  km_to_center  \n",
       "648               2018   последний           3.0  \n",
       "8758              2018      первый           4.0  \n",
       "855               2017      другой           3.0  \n",
       "1813              2017   последний           3.0  \n",
       "1943              2018      другой           2.0  \n",
       "\n",
       "[5 rows x 29 columns]"
      ]
     },
     "metadata": {},
     "output_type": "display_data"
    },
    {
     "data": {
      "image/png": "[encoded data removed]",
      "text/plain": [
       "<Figure size 720x216 with 1 Axes>"
      ]
     },
     "metadata": {
      "needs_background": "light"
     },
     "output_type": "display_data"
    }
   ],
   "source": [
    "print(data['rooms'].describe())\n",
    "display(data.query('rooms > 6').sort_values('rooms', ascending=False).head())\n",
    "data['rooms'].hist(figsize=(10,3), bins=20).minorticks_on();"
   ]
  },
  {
   "cell_type": "markdown",
   "metadata": {},
   "source": [
    "В основном, продаются 1-3 комнатные квартиры. Причем, количество однокомнатных и двухкомнатных равно. Похоже, это те самые квартиры до 50 кв.м. \n",
    "\n",
    "Есть несколько аномалий с количеством комнат больше 6. Но, если посмотреть на данные этих аномалий, то можно увидеть, например, 11 комнат на 180 кв.м. Это похоже на ошибки, допущенные при вводе данных."
   ]
  },
  {
   "cell_type": "markdown",
   "metadata": {},
   "source": [
    "##### Потолки"
   ]
  },
  {
   "cell_type": "code",
   "execution_count": 20,
   "metadata": {},
   "outputs": [
    {
     "name": "stdout",
     "output_type": "stream",
     "text": [
      "count    20292.000000\n",
      "mean         2.687089\n",
      "std          0.228040\n",
      "min          1.000000\n",
      "25%          2.600000\n",
      "50%          2.650000\n",
      "75%          2.700000\n",
      "max         14.000000\n",
      "Name: ceiling_height, dtype: float64\n"
     ]
    },
    {
     "data": {
      "text/html": [
       "<div>\n",
       "<style scoped>\n",
       "    .dataframe tbody tr th:only-of-type {\n",
       "        vertical-align: middle;\n",
       "    }\n",
       "\n",
       "    .dataframe tbody tr th {\n",
       "        vertical-align: top;\n",
       "    }\n",
       "\n",
       "    .dataframe thead th {\n",
       "        text-align: right;\n",
       "    }\n",
       "</style>\n",
       "<table border=\"1\" class=\"dataframe\">\n",
       "  <thead>\n",
       "    <tr style=\"text-align: right;\">\n",
       "      <th></th>\n",
       "      <th>total_images</th>\n",
       "      <th>last_price</th>\n",
       "      <th>total_area</th>\n",
       "      <th>first_day_exposition</th>\n",
       "      <th>rooms</th>\n",
       "      <th>ceiling_height</th>\n",
       "      <th>floors_total</th>\n",
       "      <th>living_area</th>\n",
       "      <th>floor</th>\n",
       "      <th>is_apartment</th>\n",
       "      <th>...</th>\n",
       "      <th>ponds_around3000</th>\n",
       "      <th>ponds_nearest</th>\n",
       "      <th>days_exposition</th>\n",
       "      <th>short_locality_name</th>\n",
       "      <th>price_per_meter</th>\n",
       "      <th>publication_week_day</th>\n",
       "      <th>publication_month</th>\n",
       "      <th>publication_year</th>\n",
       "      <th>floor_kind</th>\n",
       "      <th>km_to_center</th>\n",
       "    </tr>\n",
       "  </thead>\n",
       "  <tbody>\n",
       "    <tr>\n",
       "      <th>22590</th>\n",
       "      <td>16</td>\n",
       "      <td>6000000.0</td>\n",
       "      <td>55.0</td>\n",
       "      <td>2018-10-31</td>\n",
       "      <td>2</td>\n",
       "      <td>1.00</td>\n",
       "      <td>12.0</td>\n",
       "      <td>32.4</td>\n",
       "      <td>7</td>\n",
       "      <td>False</td>\n",
       "      <td>...</td>\n",
       "      <td>2.0</td>\n",
       "      <td>289.0</td>\n",
       "      <td>13.0</td>\n",
       "      <td>Санкт-Петербург</td>\n",
       "      <td>109090.909091</td>\n",
       "      <td>2</td>\n",
       "      <td>10</td>\n",
       "      <td>2018</td>\n",
       "      <td>другой</td>\n",
       "      <td>14.0</td>\n",
       "    </tr>\n",
       "    <tr>\n",
       "      <th>5712</th>\n",
       "      <td>5</td>\n",
       "      <td>1500000.0</td>\n",
       "      <td>42.8</td>\n",
       "      <td>2017-08-14</td>\n",
       "      <td>2</td>\n",
       "      <td>1.20</td>\n",
       "      <td>2.0</td>\n",
       "      <td>27.5</td>\n",
       "      <td>1</td>\n",
       "      <td>False</td>\n",
       "      <td>...</td>\n",
       "      <td>NaN</td>\n",
       "      <td>NaN</td>\n",
       "      <td>248.0</td>\n",
       "      <td>Мга</td>\n",
       "      <td>35046.728972</td>\n",
       "      <td>0</td>\n",
       "      <td>8</td>\n",
       "      <td>2017</td>\n",
       "      <td>первый</td>\n",
       "      <td>NaN</td>\n",
       "    </tr>\n",
       "    <tr>\n",
       "      <th>16934</th>\n",
       "      <td>5</td>\n",
       "      <td>4100000.0</td>\n",
       "      <td>40.0</td>\n",
       "      <td>2017-10-17</td>\n",
       "      <td>1</td>\n",
       "      <td>1.75</td>\n",
       "      <td>37.0</td>\n",
       "      <td>17.4</td>\n",
       "      <td>5</td>\n",
       "      <td>False</td>\n",
       "      <td>...</td>\n",
       "      <td>3.0</td>\n",
       "      <td>80.0</td>\n",
       "      <td>71.0</td>\n",
       "      <td>Санкт-Петербург</td>\n",
       "      <td>102500.000000</td>\n",
       "      <td>1</td>\n",
       "      <td>10</td>\n",
       "      <td>2017</td>\n",
       "      <td>другой</td>\n",
       "      <td>20.0</td>\n",
       "    </tr>\n",
       "    <tr>\n",
       "      <th>3474</th>\n",
       "      <td>3</td>\n",
       "      <td>1400000.0</td>\n",
       "      <td>30.0</td>\n",
       "      <td>2018-03-16</td>\n",
       "      <td>1</td>\n",
       "      <td>8.00</td>\n",
       "      <td>5.0</td>\n",
       "      <td>15.3</td>\n",
       "      <td>2</td>\n",
       "      <td>False</td>\n",
       "      <td>...</td>\n",
       "      <td>NaN</td>\n",
       "      <td>NaN</td>\n",
       "      <td>125.0</td>\n",
       "      <td>Нурма</td>\n",
       "      <td>46666.666667</td>\n",
       "      <td>4</td>\n",
       "      <td>3</td>\n",
       "      <td>2018</td>\n",
       "      <td>другой</td>\n",
       "      <td>NaN</td>\n",
       "    </tr>\n",
       "    <tr>\n",
       "      <th>15743</th>\n",
       "      <td>14</td>\n",
       "      <td>5600000.0</td>\n",
       "      <td>67.0</td>\n",
       "      <td>2016-11-11</td>\n",
       "      <td>3</td>\n",
       "      <td>8.00</td>\n",
       "      <td>16.0</td>\n",
       "      <td>41.0</td>\n",
       "      <td>1</td>\n",
       "      <td>False</td>\n",
       "      <td>...</td>\n",
       "      <td>0.0</td>\n",
       "      <td>1344.0</td>\n",
       "      <td>474.0</td>\n",
       "      <td>Санкт-Петербург</td>\n",
       "      <td>83582.089552</td>\n",
       "      <td>4</td>\n",
       "      <td>11</td>\n",
       "      <td>2016</td>\n",
       "      <td>первый</td>\n",
       "      <td>11.0</td>\n",
       "    </tr>\n",
       "    <tr>\n",
       "      <th>5863</th>\n",
       "      <td>20</td>\n",
       "      <td>5650000.0</td>\n",
       "      <td>45.0</td>\n",
       "      <td>2018-08-15</td>\n",
       "      <td>1</td>\n",
       "      <td>8.30</td>\n",
       "      <td>16.0</td>\n",
       "      <td>19.3</td>\n",
       "      <td>14</td>\n",
       "      <td>False</td>\n",
       "      <td>...</td>\n",
       "      <td>1.0</td>\n",
       "      <td>613.0</td>\n",
       "      <td>14.0</td>\n",
       "      <td>Санкт-Петербург</td>\n",
       "      <td>125555.555556</td>\n",
       "      <td>2</td>\n",
       "      <td>8</td>\n",
       "      <td>2018</td>\n",
       "      <td>другой</td>\n",
       "      <td>10.0</td>\n",
       "    </tr>\n",
       "    <tr>\n",
       "      <th>15061</th>\n",
       "      <td>19</td>\n",
       "      <td>5600000.0</td>\n",
       "      <td>56.4</td>\n",
       "      <td>2018-05-11</td>\n",
       "      <td>2</td>\n",
       "      <td>14.00</td>\n",
       "      <td>14.0</td>\n",
       "      <td>32.4</td>\n",
       "      <td>5</td>\n",
       "      <td>False</td>\n",
       "      <td>...</td>\n",
       "      <td>0.0</td>\n",
       "      <td>1344.0</td>\n",
       "      <td>315.0</td>\n",
       "      <td>Санкт-Петербург</td>\n",
       "      <td>99290.780142</td>\n",
       "      <td>4</td>\n",
       "      <td>5</td>\n",
       "      <td>2018</td>\n",
       "      <td>другой</td>\n",
       "      <td>13.0</td>\n",
       "    </tr>\n",
       "  </tbody>\n",
       "</table>\n",
       "<p>7 rows × 29 columns</p>\n",
       "</div>"
      ],
      "text/plain": [
       "       total_images  last_price  total_area first_day_exposition  rooms  \\\n",
       "22590            16   6000000.0        55.0           2018-10-31      2   \n",
       "5712              5   1500000.0        42.8           2017-08-14      2   \n",
       "16934             5   4100000.0        40.0           2017-10-17      1   \n",
       "3474              3   1400000.0        30.0           2018-03-16      1   \n",
       "15743            14   5600000.0        67.0           2016-11-11      3   \n",
       "5863             20   5650000.0        45.0           2018-08-15      1   \n",
       "15061            19   5600000.0        56.4           2018-05-11      2   \n",
       "\n",
       "       ceiling_height  floors_total  living_area  floor  is_apartment  ...  \\\n",
       "22590            1.00          12.0         32.4      7         False  ...   \n",
       "5712             1.20           2.0         27.5      1         False  ...   \n",
       "16934            1.75          37.0         17.4      5         False  ...   \n",
       "3474             8.00           5.0         15.3      2         False  ...   \n",
       "15743            8.00          16.0         41.0      1         False  ...   \n",
       "5863             8.30          16.0         19.3     14         False  ...   \n",
       "15061           14.00          14.0         32.4      5         False  ...   \n",
       "\n",
       "       ponds_around3000  ponds_nearest  days_exposition  short_locality_name  \\\n",
       "22590               2.0          289.0             13.0      Санкт-Петербург   \n",
       "5712                NaN            NaN            248.0                  Мга   \n",
       "16934               3.0           80.0             71.0      Санкт-Петербург   \n",
       "3474                NaN            NaN            125.0                Нурма   \n",
       "15743               0.0         1344.0            474.0      Санкт-Петербург   \n",
       "5863                1.0          613.0             14.0      Санкт-Петербург   \n",
       "15061               0.0         1344.0            315.0      Санкт-Петербург   \n",
       "\n",
       "      price_per_meter  publication_week_day  publication_month  \\\n",
       "22590   109090.909091                     2                 10   \n",
       "5712     35046.728972                     0                  8   \n",
       "16934   102500.000000                     1                 10   \n",
       "3474     46666.666667                     4                  3   \n",
       "15743    83582.089552                     4                 11   \n",
       "5863    125555.555556                     2                  8   \n",
       "15061    99290.780142                     4                  5   \n",
       "\n",
       "       publication_year  floor_kind  km_to_center  \n",
       "22590              2018      другой          14.0  \n",
       "5712               2017      первый           NaN  \n",
       "16934              2017      другой          20.0  \n",
       "3474               2018      другой           NaN  \n",
       "15743              2016      первый          11.0  \n",
       "5863               2018      другой          10.0  \n",
       "15061              2018      другой          13.0  \n",
       "\n",
       "[7 rows x 29 columns]"
      ]
     },
     "metadata": {},
     "output_type": "display_data"
    },
    {
     "data": {
      "image/png": "[encoded data removed]",
      "text/plain": [
       "<Figure size 720x216 with 1 Axes>"
      ]
     },
     "metadata": {
      "needs_background": "light"
     },
     "output_type": "display_data"
    }
   ],
   "source": [
    "print(data['ceiling_height'].describe())\n",
    "display(data.query('ceiling_height >= 5 or ceiling_height < 2').sort_values('ceiling_height'))\n",
    "data['ceiling_height'].hist(figsize=(10,3), bins=100);"
   ]
  },
  {
   "cell_type": "markdown",
   "metadata": {},
   "source": [
    "Высота потолков почти константа в районе 2.6-4 метров. Есть потолки и выше, но это можно списать на ошибки ввода или нежилую недвижимость.\n",
    "\n",
    "14-метровый потолок только один. Судя по данным, он совпадает с номером этажа. Похоже, ввод одного значения в поле для другого значения является одним из источников некорректных данных.\n",
    "\n",
    "Есть несколько выбросов и меньше 2м - тоже ошибка ввода."
   ]
  },
  {
   "cell_type": "markdown",
   "metadata": {},
   "source": [
    "##### Этажи"
   ]
  },
  {
   "cell_type": "code",
   "execution_count": 21,
   "metadata": {
    "scrolled": false
   },
   "outputs": [
    {
     "data": {
      "text/html": [
       "<div>\n",
       "<style scoped>\n",
       "    .dataframe tbody tr th:only-of-type {\n",
       "        vertical-align: middle;\n",
       "    }\n",
       "\n",
       "    .dataframe tbody tr th {\n",
       "        vertical-align: top;\n",
       "    }\n",
       "\n",
       "    .dataframe thead th {\n",
       "        text-align: right;\n",
       "    }\n",
       "</style>\n",
       "<table border=\"1\" class=\"dataframe\">\n",
       "  <thead>\n",
       "    <tr style=\"text-align: right;\">\n",
       "      <th></th>\n",
       "      <th>floor</th>\n",
       "      <th>floors_total</th>\n",
       "    </tr>\n",
       "  </thead>\n",
       "  <tbody>\n",
       "    <tr>\n",
       "      <th>count</th>\n",
       "      <td>20292.000000</td>\n",
       "      <td>20256.000000</td>\n",
       "    </tr>\n",
       "    <tr>\n",
       "      <th>mean</th>\n",
       "      <td>5.851025</td>\n",
       "      <td>10.626728</td>\n",
       "    </tr>\n",
       "    <tr>\n",
       "      <th>std</th>\n",
       "      <td>4.839001</td>\n",
       "      <td>6.553355</td>\n",
       "    </tr>\n",
       "    <tr>\n",
       "      <th>min</th>\n",
       "      <td>1.000000</td>\n",
       "      <td>1.000000</td>\n",
       "    </tr>\n",
       "    <tr>\n",
       "      <th>25%</th>\n",
       "      <td>2.000000</td>\n",
       "      <td>5.000000</td>\n",
       "    </tr>\n",
       "    <tr>\n",
       "      <th>50%</th>\n",
       "      <td>4.000000</td>\n",
       "      <td>9.000000</td>\n",
       "    </tr>\n",
       "    <tr>\n",
       "      <th>75%</th>\n",
       "      <td>8.000000</td>\n",
       "      <td>15.000000</td>\n",
       "    </tr>\n",
       "    <tr>\n",
       "      <th>max</th>\n",
       "      <td>33.000000</td>\n",
       "      <td>60.000000</td>\n",
       "    </tr>\n",
       "  </tbody>\n",
       "</table>\n",
       "</div>"
      ],
      "text/plain": [
       "              floor  floors_total\n",
       "count  20292.000000  20256.000000\n",
       "mean       5.851025     10.626728\n",
       "std        4.839001      6.553355\n",
       "min        1.000000      1.000000\n",
       "25%        2.000000      5.000000\n",
       "50%        4.000000      9.000000\n",
       "75%        8.000000     15.000000\n",
       "max       33.000000     60.000000"
      ]
     },
     "metadata": {},
     "output_type": "display_data"
    },
    {
     "data": {
      "text/html": [
       "<div>\n",
       "<style scoped>\n",
       "    .dataframe tbody tr th:only-of-type {\n",
       "        vertical-align: middle;\n",
       "    }\n",
       "\n",
       "    .dataframe tbody tr th {\n",
       "        vertical-align: top;\n",
       "    }\n",
       "\n",
       "    .dataframe thead th {\n",
       "        text-align: right;\n",
       "    }\n",
       "</style>\n",
       "<table border=\"1\" class=\"dataframe\">\n",
       "  <thead>\n",
       "    <tr style=\"text-align: right;\">\n",
       "      <th></th>\n",
       "      <th>total_images</th>\n",
       "      <th>last_price</th>\n",
       "      <th>total_area</th>\n",
       "      <th>first_day_exposition</th>\n",
       "      <th>rooms</th>\n",
       "      <th>ceiling_height</th>\n",
       "      <th>floors_total</th>\n",
       "      <th>living_area</th>\n",
       "      <th>floor</th>\n",
       "      <th>is_apartment</th>\n",
       "      <th>...</th>\n",
       "      <th>ponds_around3000</th>\n",
       "      <th>ponds_nearest</th>\n",
       "      <th>days_exposition</th>\n",
       "      <th>short_locality_name</th>\n",
       "      <th>price_per_meter</th>\n",
       "      <th>publication_week_day</th>\n",
       "      <th>publication_month</th>\n",
       "      <th>publication_year</th>\n",
       "      <th>floor_kind</th>\n",
       "      <th>km_to_center</th>\n",
       "    </tr>\n",
       "  </thead>\n",
       "  <tbody>\n",
       "    <tr>\n",
       "      <th>2253</th>\n",
       "      <td>12</td>\n",
       "      <td>3800000.0</td>\n",
       "      <td>45.5</td>\n",
       "      <td>2018-06-28</td>\n",
       "      <td>2</td>\n",
       "      <td>2.88</td>\n",
       "      <td>60.0</td>\n",
       "      <td>27.4</td>\n",
       "      <td>4</td>\n",
       "      <td>False</td>\n",
       "      <td>...</td>\n",
       "      <td>3.0</td>\n",
       "      <td>614.0</td>\n",
       "      <td>166.0</td>\n",
       "      <td>Кронштадт</td>\n",
       "      <td>83516.483516</td>\n",
       "      <td>3</td>\n",
       "      <td>6</td>\n",
       "      <td>2018</td>\n",
       "      <td>другой</td>\n",
       "      <td>49.0</td>\n",
       "    </tr>\n",
       "    <tr>\n",
       "      <th>16731</th>\n",
       "      <td>9</td>\n",
       "      <td>3978000.0</td>\n",
       "      <td>40.0</td>\n",
       "      <td>2018-09-24</td>\n",
       "      <td>1</td>\n",
       "      <td>2.65</td>\n",
       "      <td>52.0</td>\n",
       "      <td>10.5</td>\n",
       "      <td>18</td>\n",
       "      <td>False</td>\n",
       "      <td>...</td>\n",
       "      <td>0.0</td>\n",
       "      <td>1344.0</td>\n",
       "      <td>45.0</td>\n",
       "      <td>Санкт-Петербург</td>\n",
       "      <td>99450.000000</td>\n",
       "      <td>0</td>\n",
       "      <td>9</td>\n",
       "      <td>2018</td>\n",
       "      <td>другой</td>\n",
       "      <td>12.0</td>\n",
       "    </tr>\n",
       "  </tbody>\n",
       "</table>\n",
       "<p>2 rows × 29 columns</p>\n",
       "</div>"
      ],
      "text/plain": [
       "       total_images  last_price  total_area first_day_exposition  rooms  \\\n",
       "2253             12   3800000.0        45.5           2018-06-28      2   \n",
       "16731             9   3978000.0        40.0           2018-09-24      1   \n",
       "\n",
       "       ceiling_height  floors_total  living_area  floor  is_apartment  ...  \\\n",
       "2253             2.88          60.0         27.4      4         False  ...   \n",
       "16731            2.65          52.0         10.5     18         False  ...   \n",
       "\n",
       "       ponds_around3000  ponds_nearest  days_exposition  short_locality_name  \\\n",
       "2253                3.0          614.0            166.0            Кронштадт   \n",
       "16731               0.0         1344.0             45.0      Санкт-Петербург   \n",
       "\n",
       "      price_per_meter  publication_week_day  publication_month  \\\n",
       "2253     83516.483516                     3                  6   \n",
       "16731    99450.000000                     0                  9   \n",
       "\n",
       "       publication_year  floor_kind  km_to_center  \n",
       "2253               2018      другой          49.0  \n",
       "16731              2018      другой          12.0  \n",
       "\n",
       "[2 rows x 29 columns]"
      ]
     },
     "metadata": {},
     "output_type": "display_data"
    },
    {
     "data": {
      "image/png": "[encoded data removed]",
      "text/plain": [
       "<Figure size 864x216 with 2 Axes>"
      ]
     },
     "metadata": {
      "needs_background": "light"
     },
     "output_type": "display_data"
    }
   ],
   "source": [
    "display(data[['floor', 'floors_total']].describe())\n",
    "display(data.query('floors_total > 40'))\n",
    "data.hist(figsize=(12, 3), column=[\n",
    "    'floor',\n",
    "    'floors_total'\n",
    "], bins=20);"
   ]
  },
  {
   "cell_type": "markdown",
   "metadata": {},
   "source": [
    "* Объекты, в основном, продаются на первых восьми этажах. Это объясняется просто: в Санкт-Петербурге не много высоток. Это коррелирует и с этажностью зданий, где видно, что половина не превышает 9 этажей\n",
    "* По общему количеству этажей есть пара объектов с 52 и 60 этажами. Скорее всего, ошибка - в Санкт-Петербурге нет зданий с такой этажностью. "
   ]
  },
  {
   "cell_type": "markdown",
   "metadata": {},
   "source": [
    "##### Расстояние до центра"
   ]
  },
  {
   "cell_type": "code",
   "execution_count": 22,
   "metadata": {
    "scrolled": false
   },
   "outputs": [
    {
     "name": "stdout",
     "output_type": "stream",
     "text": [
      "count    15651.000000\n",
      "mean     14547.964283\n",
      "std       8640.027604\n",
      "min        208.000000\n",
      "25%       9888.000000\n",
      "50%      13282.000000\n",
      "75%      16431.500000\n",
      "max      65968.000000\n",
      "Name: city_centers_nearest, dtype: float64\n"
     ]
    },
    {
     "data": {
      "image/png": "[encoded data removed]",
      "text/plain": [
       "<Figure size 432x288 with 1 Axes>"
      ]
     },
     "metadata": {
      "needs_background": "light"
     },
     "output_type": "display_data"
    }
   ],
   "source": [
    "print(data['city_centers_nearest'].describe())\n",
    "data['city_centers_nearest'].hist(bins=30);"
   ]
  },
  {
   "cell_type": "markdown",
   "metadata": {},
   "source": [
    "Большая часть объектов продается в пределах между 10 и 16 км от центра. Есть всплески в районе 30 и 50 км - похоже на крупные населенные пункты."
   ]
  },
  {
   "cell_type": "markdown",
   "metadata": {},
   "source": [
    "##### Расстояние до аэропорта"
   ]
  },
  {
   "cell_type": "code",
   "execution_count": 23,
   "metadata": {
    "scrolled": false
   },
   "outputs": [
    {
     "name": "stdout",
     "output_type": "stream",
     "text": [
      "count    15651.000000\n",
      "mean     28884.863395\n",
      "std      12933.089734\n",
      "min          0.000000\n",
      "25%      18373.000000\n",
      "50%      26803.000000\n",
      "75%      37434.000000\n",
      "max      84869.000000\n",
      "Name: airports_nearest, dtype: float64\n"
     ]
    },
    {
     "data": {
      "image/png": "[encoded data removed]",
      "text/plain": [
       "<Figure size 432x288 with 1 Axes>"
      ]
     },
     "metadata": {
      "needs_background": "light"
     },
     "output_type": "display_data"
    },
    {
     "data": {
      "image/png": "[encoded data removed]",
      "text/plain": [
       "<Figure size 432x288 with 1 Axes>"
      ]
     },
     "metadata": {
      "needs_background": "light"
     },
     "output_type": "display_data"
    }
   ],
   "source": [
    "print(data['airports_nearest'].describe())\n",
    "data.boxplot('airports_nearest');\n",
    "plt.figure();\n",
    "data['airports_nearest'].hist();"
   ]
  },
  {
   "cell_type": "markdown",
   "metadata": {},
   "source": [
    "Небольшое количество аномальных выбросов, начинающихся с 60км от аэропорта. Ничего необычного"
   ]
  },
  {
   "cell_type": "markdown",
   "metadata": {},
   "source": [
    "##### Расстояние до парков"
   ]
  },
  {
   "cell_type": "code",
   "execution_count": 24,
   "metadata": {},
   "outputs": [
    {
     "name": "stdout",
     "output_type": "stream",
     "text": [
      "count    15651.000000\n",
      "mean      2019.861734\n",
      "std       1355.748717\n",
      "min          1.000000\n",
      "25%        500.500000\n",
      "50%       3190.000000\n",
      "75%       3190.000000\n",
      "max       3190.000000\n",
      "Name: parks_nearest, dtype: float64\n"
     ]
    },
    {
     "data": {
      "image/png": "[encoded data removed]",
      "text/plain": [
       "<Figure size 432x288 with 1 Axes>"
      ]
     },
     "metadata": {
      "needs_background": "light"
     },
     "output_type": "display_data"
    }
   ],
   "source": [
    "print(data['parks_nearest'].describe())\n",
    "data['parks_nearest'].hist(bins=20);"
   ]
  },
  {
   "cell_type": "markdown",
   "metadata": {},
   "source": [
    "Большинство объектов находятся за пределами 3км от парков. В остальном - обычное нормальное распределение. Возможно, здесь была допущена ошибка при предобработке данных - когда было принято решение часть пустых parks_nearest заменить на их максимальное значение. Но без выяснения логики вычисления \"nearest\" это не возможно сказать наверняка."
   ]
  },
  {
   "cell_type": "markdown",
   "metadata": {},
   "source": [
    "##### Дата публикации объявления"
   ]
  },
  {
   "cell_type": "code",
   "execution_count": 25,
   "metadata": {
    "scrolled": false
   },
   "outputs": [
    {
     "data": {
      "image/png": "[encoded data removed]",
      "text/plain": [
       "<Figure size 864x288 with 2 Axes>"
      ]
     },
     "metadata": {
      "needs_background": "light"
     },
     "output_type": "display_data"
    }
   ],
   "source": [
    "data.hist(figsize=(12, 4), column=[\n",
    "    'publication_week_day',\n",
    "    'publication_month'\n",
    "], bins=30);"
   ]
  },
  {
   "cell_type": "markdown",
   "metadata": {},
   "source": [
    "* В выходные объявления публикуют реже.\n",
    "* Весной и осенью объявления публикуют чаще."
   ]
  },
  {
   "cell_type": "markdown",
   "metadata": {},
   "source": [
    "##### Типы этажей"
   ]
  },
  {
   "cell_type": "code",
   "execution_count": 26,
   "metadata": {},
   "outputs": [
    {
     "data": {
      "image/png": "[encoded data removed]",
      "text/plain": [
       "<Figure size 432x288 with 1 Axes>"
      ]
     },
     "metadata": {
      "needs_background": "light"
     },
     "output_type": "display_data"
    }
   ],
   "source": [
    "data['floor_kind'].hist();"
   ]
  },
  {
   "cell_type": "markdown",
   "metadata": {},
   "source": [
    "##### Скорость продажи объектов"
   ]
  },
  {
   "cell_type": "code",
   "execution_count": 27,
   "metadata": {
    "scrolled": false
   },
   "outputs": [
    {
     "name": "stdout",
     "output_type": "stream",
     "text": [
      "count    17584.000000\n",
      "mean       182.419245\n",
      "std        218.374044\n",
      "min          1.000000\n",
      "25%         44.000000\n",
      "50%        100.000000\n",
      "75%        235.000000\n",
      "max       1580.000000\n",
      "Name: days_exposition, dtype: float64\n"
     ]
    },
    {
     "data": {
      "image/png": "[encoded data removed]",
      "text/plain": [
       "<Figure size 432x288 with 1 Axes>"
      ]
     },
     "metadata": {
      "needs_background": "light"
     },
     "output_type": "display_data"
    }
   ],
   "source": [
    "print(data['days_exposition'].describe());\n",
    "\n",
    "from matplotlib import pyplot as plt\n",
    "data.boxplot('days_exposition');\n",
    "plt.ylim(-10, 600);"
   ]
  },
  {
   "cell_type": "code",
   "execution_count": 28,
   "metadata": {
    "scrolled": true
   },
   "outputs": [
    {
     "data": {
      "image/png": "[encoded data removed]",
      "text/plain": [
       "<Figure size 432x288 with 1 Axes>"
      ]
     },
     "metadata": {
      "needs_background": "light"
     },
     "output_type": "display_data"
    }
   ],
   "source": [
    "data['days_exposition'].hist();"
   ]
  },
  {
   "cell_type": "markdown",
   "metadata": {},
   "source": [
    "* Нормой является продажа за 100 дней. \n",
    "* К быстрым продажам можно отнести продажи, проходящие за 44 дня, а к долгим - уходящие за 235 дней.\n",
    "* Кроме того, в наборе данных присутствуют и аномально долгие продажи, занимавшие от 500 дней. Возможно, владельцы объявлений иногда их просто не закрывают. "
   ]
  },
  {
   "cell_type": "markdown",
   "metadata": {},
   "source": [
    "#### Факторы, влияющие на полную стоимость объекта"
   ]
  },
  {
   "cell_type": "markdown",
   "metadata": {},
   "source": [
    "##### Площади"
   ]
  },
  {
   "cell_type": "code",
   "execution_count": 29,
   "metadata": {
    "scrolled": false
   },
   "outputs": [
    {
     "data": {
      "image/png": "[encoded data removed]",
      "text/plain": [
       "<Figure size 864x360 with 1 Axes>"
      ]
     },
     "metadata": {
      "needs_background": "light"
     },
     "output_type": "display_data"
    },
    {
     "data": {
      "image/png": "[encoded data removed]",
      "text/plain": [
       "<Figure size 864x360 with 1 Axes>"
      ]
     },
     "metadata": {
      "needs_background": "light"
     },
     "output_type": "display_data"
    },
    {
     "data": {
      "image/png": "[encoded data removed]",
      "text/plain": [
       "<Figure size 864x360 with 1 Axes>"
      ]
     },
     "metadata": {
      "needs_background": "light"
     },
     "output_type": "display_data"
    }
   ],
   "source": [
    "area_columns = ['total_area', 'living_area', 'kitchen_area']\n",
    "for column in area_columns:\n",
    "    (data\n",
    "        .pivot_table(index=column, values='last_price', aggfunc='median')\n",
    "        .plot(grid=True, figsize=(12, 5), style='o', alpha=0.3)\n",
    "    );"
   ]
  },
  {
   "cell_type": "markdown",
   "metadata": {},
   "source": [
    "До определнного значения пощадей цена зависит линейно. Но после этого значения начинается большой разброс - как в сторону удорожания, так и в сторону удешевления. \n",
    "\n",
    "Для общей площади эта граница - 100 кв.м., для жилой - 70, а для кухни разброс начинается уже после 15 квадратов."
   ]
  },
  {
   "cell_type": "code",
   "execution_count": 30,
   "metadata": {
    "scrolled": true
   },
   "outputs": [
    {
     "name": "stdout",
     "output_type": "stream",
     "text": [
      "total_area: 0.7713676887475011\n",
      "living_area: 0.6589233570893217\n",
      "kitchen_area: 0.5689490986267737\n"
     ]
    }
   ],
   "source": [
    "#подтверждение вывода корелляцией Пирсона:\n",
    "for column in area_columns:\n",
    "    print(column + ':', data[column].corr(data['last_price']))"
   ]
  },
  {
   "cell_type": "markdown",
   "metadata": {},
   "source": [
    "Линейная зависимость позволит использовать данные по площадям для определения рыночной стоимости недвижимости. Но, в любом случае, потребуется учитывать непредсказуемость, начинающуюся с определенных значений площадей."
   ]
  },
  {
   "cell_type": "markdown",
   "metadata": {},
   "source": [
    "##### Прочее"
   ]
  },
  {
   "cell_type": "code",
   "execution_count": 31,
   "metadata": {
    "scrolled": false
   },
   "outputs": [
    {
     "data": {
      "image/png": "[encoded data removed]",
      "text/plain": [
       "<Figure size 864x720 with 4 Axes>"
      ]
     },
     "metadata": {
      "needs_background": "light"
     },
     "output_type": "display_data"
    },
    {
     "data": {
      "image/png": "[encoded data removed]",
      "text/plain": [
       "<Figure size 432x288 with 1 Axes>"
      ]
     },
     "metadata": {
      "needs_background": "light"
     },
     "output_type": "display_data"
    }
   ],
   "source": [
    "#По этажам, комнатам и датам нагляднее будут столбчатые диаграммы.\n",
    "#Потому что эти данные разбиваются на четкие категории\n",
    "fig, axs = plt.subplots(2, 2, figsize=(12, 10))\n",
    "\n",
    "(data\n",
    "   .pivot_table(index='floor_kind', values='last_price', aggfunc='median')\n",
    "   .plot(ax=axs[0,0], grid=True, kind='bar', rot=0)\n",
    ");\n",
    "(data\n",
    "   .pivot_table(index='rooms', values='last_price', aggfunc='median')\n",
    "   .plot(ax=axs[0,1], grid=True, kind='bar', rot=0)\n",
    ");\n",
    "(data\n",
    "   .pivot_table(index='publication_week_day', values='last_price', aggfunc='median')\n",
    "   .plot(ax=axs[1,0], grid=True, kind='bar', rot=0)\n",
    ");\n",
    "(data\n",
    "   .pivot_table(index='publication_month', values='last_price', aggfunc='median')\n",
    "   .plot(ax=axs[1,1], grid=True, kind='bar', rot=0)\n",
    ");\n",
    "(data\n",
    "   .pivot_table(index='publication_year', values='last_price', aggfunc='median')\n",
    "   .plot(grid=True, kind='bar', rot=0)\n",
    ");"
   ]
  },
  {
   "cell_type": "markdown",
   "metadata": {},
   "source": [
    "* Наблюдается небольшая зависимость от этажа. Так, первый этаж - самый дешевый, а самый дорогой - не последний. Но разница между самым дешевым и дорогим - не более 1 млн.\n",
    "* Есть незначительная зависимость от года публикации - так, объявления от 2014 на 1 млн. дороже объявлений от 2019. Но, скорее всего, это из-за малого количества данных за 2014.\n",
    "* Самая существенная зависимость цены - от количества комнат. Эта зависимость линейная и вполне логична."
   ]
  },
  {
   "cell_type": "markdown",
   "metadata": {},
   "source": [
    "#### Средняя цена квадрата в разрезе населенного пункта"
   ]
  },
  {
   "cell_type": "code",
   "execution_count": 32,
   "metadata": {},
   "outputs": [
    {
     "data": {
      "text/html": [
       "<div>\n",
       "<style scoped>\n",
       "    .dataframe tbody tr th:only-of-type {\n",
       "        vertical-align: middle;\n",
       "    }\n",
       "\n",
       "    .dataframe tbody tr th {\n",
       "        vertical-align: top;\n",
       "    }\n",
       "\n",
       "    .dataframe thead th {\n",
       "        text-align: right;\n",
       "    }\n",
       "</style>\n",
       "<table border=\"1\" class=\"dataframe\">\n",
       "  <thead>\n",
       "    <tr style=\"text-align: right;\">\n",
       "      <th></th>\n",
       "      <th>count</th>\n",
       "      <th>mean</th>\n",
       "    </tr>\n",
       "    <tr>\n",
       "      <th>short_locality_name</th>\n",
       "      <th></th>\n",
       "      <th></th>\n",
       "    </tr>\n",
       "  </thead>\n",
       "  <tbody>\n",
       "    <tr>\n",
       "      <th>Выборг</th>\n",
       "      <td>190</td>\n",
       "      <td>58319.351675</td>\n",
       "    </tr>\n",
       "    <tr>\n",
       "      <th>Всеволожск</th>\n",
       "      <td>356</td>\n",
       "      <td>67424.113019</td>\n",
       "    </tr>\n",
       "    <tr>\n",
       "      <th>Гатчина</th>\n",
       "      <td>290</td>\n",
       "      <td>68635.620745</td>\n",
       "    </tr>\n",
       "    <tr>\n",
       "      <th>Колпино</th>\n",
       "      <td>321</td>\n",
       "      <td>75129.845412</td>\n",
       "    </tr>\n",
       "    <tr>\n",
       "      <th>Шушары</th>\n",
       "      <td>392</td>\n",
       "      <td>78563.835605</td>\n",
       "    </tr>\n",
       "    <tr>\n",
       "      <th>Мурино</th>\n",
       "      <td>458</td>\n",
       "      <td>85750.545681</td>\n",
       "    </tr>\n",
       "    <tr>\n",
       "      <th>Парголово</th>\n",
       "      <td>288</td>\n",
       "      <td>90756.003417</td>\n",
       "    </tr>\n",
       "    <tr>\n",
       "      <th>Кудрово</th>\n",
       "      <td>378</td>\n",
       "      <td>95349.585996</td>\n",
       "    </tr>\n",
       "    <tr>\n",
       "      <th>Пушкин</th>\n",
       "      <td>324</td>\n",
       "      <td>102095.265164</td>\n",
       "    </tr>\n",
       "    <tr>\n",
       "      <th>Санкт-Петербург</th>\n",
       "      <td>13411</td>\n",
       "      <td>108096.927715</td>\n",
       "    </tr>\n",
       "  </tbody>\n",
       "</table>\n",
       "</div>"
      ],
      "text/plain": [
       "                     count           mean\n",
       "short_locality_name                      \n",
       "Выборг                 190   58319.351675\n",
       "Всеволожск             356   67424.113019\n",
       "Гатчина                290   68635.620745\n",
       "Колпино                321   75129.845412\n",
       "Шушары                 392   78563.835605\n",
       "Мурино                 458   85750.545681\n",
       "Парголово              288   90756.003417\n",
       "Кудрово                378   95349.585996\n",
       "Пушкин                 324  102095.265164\n",
       "Санкт-Петербург      13411  108096.927715"
      ]
     },
     "execution_count": 32,
     "metadata": {},
     "output_type": "execute_result"
    }
   ],
   "source": [
    "mean_price_per_locality = data.pivot_table(\n",
    "    index='short_locality_name', \n",
    "    values='price_per_meter',\n",
    "    aggfunc=['count', 'mean']\n",
    ")\n",
    "mean_price_per_locality.columns = mean_price_per_locality.columns.droplevel(level = [1])\n",
    "mean_price_per_locality.sort_values('count', ascending=False).head(10).sort_values('mean')\n"
   ]
  },
  {
   "cell_type": "markdown",
   "metadata": {},
   "source": [
    "Самое дешевое жильё - в Выборге, а самое дорогое(ожидаемо) - в Санкт-Петербурге. Самое дорогое от самого дешевого отличаются в два раза."
   ]
  },
  {
   "cell_type": "markdown",
   "metadata": {},
   "source": [
    "#### Средняя цена километра в Санкт-Петербурге"
   ]
  },
  {
   "cell_type": "code",
   "execution_count": 33,
   "metadata": {},
   "outputs": [
    {
     "data": {
      "image/png": "[encoded data removed]",
      "text/plain": [
       "<Figure size 432x288 with 1 Axes>"
      ]
     },
     "metadata": {
      "needs_background": "light"
     },
     "output_type": "display_data"
    }
   ],
   "source": [
    "(\n",
    "    data\n",
    "    .query('short_locality_name == \"Санкт-Петербург\"')\n",
    "    .pivot_table(index='km_to_center', values='price_per_meter', aggfunc='mean')\n",
    "    .plot(style='o', title = 'Цена кв.м. за километр в Санкт-Петербурге')\n",
    ");"
   ]
  },
  {
   "cell_type": "markdown",
   "metadata": {},
   "source": [
    "Тоже вполне ожидаемая линейная зависимость цены от расстояния до центра: от 130000 в центре Санкт-Петербурга до 60000 на окраинах."
   ]
  },
  {
   "cell_type": "markdown",
   "metadata": {},
   "source": [
    "### Общий вывод"
   ]
  },
  {
   "cell_type": "markdown",
   "metadata": {},
   "source": [
    "Перед анализом потребовалось провести большую работу по предобработке. Стоит обратить внимание на возникшие проблемы:\n",
    "* days_exposition - пустые значения имеют неясный физический смысл. Учитывая, что это поле в системе заполняется автоматически, странно что оно бывает пустым.\n",
    "* locality_name - в выборке присутствовали неявные дубликаты. Это говорит о том, что в системе либо нет справочника населенных пунктов, либо дубликаты есть в самом справочнике. Кроме того, встречались пустые значения этого поля (возможно, не хватает проверки вводимых данных в ПО)\n",
    "* картографические данные - значительный объем этой информации оказался не заполнен - похоже на баг в ПО или на ошибку при создании выборки."
   ]
  },
  {
   "cell_type": "markdown",
   "metadata": {},
   "source": [
    "Общие выводы:\n",
    "* Анализ выявил линейную зависимость стоимости недвижимости от площадей недвижимости, от количества комнат и удаленности от центра. \n",
    "* Половина продаваемых объектов - небольшие (до 50 кв.м.).\n",
    "* Большинство объектов продаются в пределах 20км от центра.\n",
    "* Большая часть недвижимости продается не более чем за 7 млн.\n",
    "* Потолки, обычно не превышают трех метров.\n",
    "* Рядом с объектами редко есть парки.\n",
    "* Объекты, обычно продаются в пределах 200 дней.\n",
    "* Самое дорогое жильё из выборки - в Санкт-Петербурге."
   ]
  },
  {
   "cell_type": "markdown",
   "metadata": {},
   "source": [
    "Для оценки рыночной стоимости больше всего подойдут:\n",
    "* Общая площадь - по сравнению с жилой и площадью кухни она более предсказуема. Но при площади более 100 кв.м. цена теряет свою предсказуемость.\n",
    "* Количество комнат - простая линейная зависимость.\n",
    "* Удаленность от центра (если это Санкт-Петербург) - тоже простая линейная зависимость.\n",
    "* Населенный пункт."
   ]
  }
 ],
 "metadata": {
  "ExecuteTimeLog": [
   {
    "duration": 766,
    "start_time": "2023-01-29T05:53:46.603Z"
   },
   {
    "duration": 90,
    "start_time": "2023-01-29T05:53:58.663Z"
   },
   {
    "duration": 93,
    "start_time": "2023-01-29T05:54:39.924Z"
   },
   {
    "duration": 117,
    "start_time": "2023-01-29T05:59:56.407Z"
   },
   {
    "duration": 137,
    "start_time": "2023-01-29T06:00:16.083Z"
   },
   {
    "duration": 78,
    "start_time": "2023-01-29T06:14:32.426Z"
   },
   {
    "duration": 41,
    "start_time": "2023-01-29T06:14:42.236Z"
   },
   {
    "duration": 40,
    "start_time": "2023-01-29T06:14:48.007Z"
   },
   {
    "duration": 2371,
    "start_time": "2023-01-29T06:25:31.538Z"
   },
   {
    "duration": 133,
    "start_time": "2023-01-29T06:25:45.170Z"
   },
   {
    "duration": 118,
    "start_time": "2023-01-29T06:25:51.093Z"
   },
   {
    "duration": 39,
    "start_time": "2023-01-29T06:26:00.042Z"
   },
   {
    "duration": 48,
    "start_time": "2023-01-29T06:26:03.191Z"
   },
   {
    "duration": 739,
    "start_time": "2023-01-31T14:49:32.961Z"
   },
   {
    "duration": 29,
    "start_time": "2023-01-31T14:49:33.702Z"
   },
   {
    "duration": 2363,
    "start_time": "2023-01-31T14:49:33.733Z"
   },
   {
    "duration": 5,
    "start_time": "2023-01-31T15:04:39.618Z"
   },
   {
    "duration": 5,
    "start_time": "2023-01-31T15:05:51.644Z"
   },
   {
    "duration": 25,
    "start_time": "2023-01-31T15:09:12.596Z"
   },
   {
    "duration": 19,
    "start_time": "2023-01-31T15:10:10.983Z"
   },
   {
    "duration": 9,
    "start_time": "2023-01-31T15:10:45.407Z"
   },
   {
    "duration": 44,
    "start_time": "2023-01-31T15:24:30.670Z"
   },
   {
    "duration": 9,
    "start_time": "2023-01-31T15:24:34.984Z"
   },
   {
    "duration": 5,
    "start_time": "2023-01-31T15:27:58.181Z"
   },
   {
    "duration": 81,
    "start_time": "2023-01-31T15:28:14.753Z"
   },
   {
    "duration": 13,
    "start_time": "2023-01-31T15:28:18.310Z"
   },
   {
    "duration": 19,
    "start_time": "2023-01-31T15:30:12.598Z"
   },
   {
    "duration": 22,
    "start_time": "2023-01-31T15:30:55.770Z"
   },
   {
    "duration": 12,
    "start_time": "2023-01-31T15:31:38.520Z"
   },
   {
    "duration": 7,
    "start_time": "2023-01-31T15:32:41.113Z"
   },
   {
    "duration": 12,
    "start_time": "2023-01-31T15:34:59.676Z"
   },
   {
    "duration": 8,
    "start_time": "2023-01-31T15:35:15.341Z"
   },
   {
    "duration": 8,
    "start_time": "2023-01-31T15:40:50.253Z"
   },
   {
    "duration": 6,
    "start_time": "2023-01-31T15:45:33.522Z"
   },
   {
    "duration": 33,
    "start_time": "2023-01-31T15:45:41.448Z"
   },
   {
    "duration": 606,
    "start_time": "2023-01-31T15:50:30.400Z"
   },
   {
    "duration": 8,
    "start_time": "2023-01-31T15:50:46.207Z"
   },
   {
    "duration": 609,
    "start_time": "2023-01-31T15:51:15.143Z"
   },
   {
    "duration": 96,
    "start_time": "2023-01-31T15:51:56.889Z"
   },
   {
    "duration": 103,
    "start_time": "2023-01-31T15:53:13.168Z"
   },
   {
    "duration": 136,
    "start_time": "2023-01-31T15:53:26.796Z"
   },
   {
    "duration": 103,
    "start_time": "2023-01-31T15:53:32.608Z"
   },
   {
    "duration": 108,
    "start_time": "2023-01-31T15:53:39.700Z"
   },
   {
    "duration": 132,
    "start_time": "2023-01-31T15:54:18.895Z"
   },
   {
    "duration": 107,
    "start_time": "2023-01-31T15:54:58.847Z"
   },
   {
    "duration": 98,
    "start_time": "2023-01-31T15:55:05.345Z"
   },
   {
    "duration": 88,
    "start_time": "2023-01-31T15:55:16.483Z"
   },
   {
    "duration": 90,
    "start_time": "2023-01-31T15:55:27.599Z"
   },
   {
    "duration": 107,
    "start_time": "2023-01-31T15:55:37.147Z"
   },
   {
    "duration": 106,
    "start_time": "2023-01-31T15:55:58.949Z"
   },
   {
    "duration": 189,
    "start_time": "2023-01-31T15:56:22.191Z"
   },
   {
    "duration": 106,
    "start_time": "2023-01-31T15:56:28.140Z"
   },
   {
    "duration": 42,
    "start_time": "2023-01-31T15:57:18.691Z"
   },
   {
    "duration": 937,
    "start_time": "2023-02-01T14:43:51.997Z"
   },
   {
    "duration": 39,
    "start_time": "2023-02-01T14:43:52.936Z"
   },
   {
    "duration": 2875,
    "start_time": "2023-02-01T14:43:52.977Z"
   },
   {
    "duration": 21,
    "start_time": "2023-02-01T14:43:55.854Z"
   },
   {
    "duration": 31,
    "start_time": "2023-02-01T14:43:55.883Z"
   },
   {
    "duration": 16,
    "start_time": "2023-02-01T14:43:55.916Z"
   },
   {
    "duration": 24,
    "start_time": "2023-02-01T14:43:55.934Z"
   },
   {
    "duration": 91,
    "start_time": "2023-02-01T14:43:55.959Z"
   },
   {
    "duration": 76,
    "start_time": "2023-02-01T14:43:56.052Z"
   },
   {
    "duration": 220,
    "start_time": "2023-02-01T14:44:42.964Z"
   },
   {
    "duration": 216,
    "start_time": "2023-02-01T14:44:53.503Z"
   },
   {
    "duration": 180,
    "start_time": "2023-02-01T14:45:17.026Z"
   },
   {
    "duration": 96,
    "start_time": "2023-02-01T14:46:45.757Z"
   },
   {
    "duration": 74,
    "start_time": "2023-02-01T14:46:56.629Z"
   },
   {
    "duration": 17,
    "start_time": "2023-02-01T14:47:27.488Z"
   },
   {
    "duration": 6,
    "start_time": "2023-02-01T14:47:50.529Z"
   },
   {
    "duration": 7,
    "start_time": "2023-02-01T14:47:55.606Z"
   },
   {
    "duration": 164,
    "start_time": "2023-02-01T14:48:42.862Z"
   },
   {
    "duration": 170,
    "start_time": "2023-02-01T14:49:12.248Z"
   },
   {
    "duration": 27,
    "start_time": "2023-02-01T14:50:21.910Z"
   },
   {
    "duration": 305,
    "start_time": "2023-02-01T14:50:37.701Z"
   },
   {
    "duration": 130,
    "start_time": "2023-02-01T15:00:33.506Z"
   },
   {
    "duration": 126,
    "start_time": "2023-02-01T15:00:42.823Z"
   },
   {
    "duration": 134,
    "start_time": "2023-02-01T15:01:03.022Z"
   },
   {
    "duration": 115,
    "start_time": "2023-02-01T15:01:09.995Z"
   },
   {
    "duration": 122,
    "start_time": "2023-02-01T15:01:18.996Z"
   },
   {
    "duration": 147,
    "start_time": "2023-02-01T15:01:28.752Z"
   },
   {
    "duration": 115,
    "start_time": "2023-02-01T15:01:32.809Z"
   },
   {
    "duration": 34,
    "start_time": "2023-02-01T15:03:41.335Z"
   },
   {
    "duration": 39,
    "start_time": "2023-02-01T15:03:56.357Z"
   },
   {
    "duration": 655,
    "start_time": "2023-02-05T09:40:54.482Z"
   },
   {
    "duration": 38,
    "start_time": "2023-02-05T09:40:55.139Z"
   },
   {
    "duration": 2374,
    "start_time": "2023-02-05T09:40:55.179Z"
   },
   {
    "duration": 11,
    "start_time": "2023-02-05T09:40:57.555Z"
   },
   {
    "duration": 12,
    "start_time": "2023-02-05T09:40:57.568Z"
   },
   {
    "duration": 6,
    "start_time": "2023-02-05T09:40:57.582Z"
   },
   {
    "duration": 18,
    "start_time": "2023-02-05T09:40:57.589Z"
   },
   {
    "duration": 45,
    "start_time": "2023-02-05T09:40:57.608Z"
   },
   {
    "duration": 50,
    "start_time": "2023-02-05T09:40:57.654Z"
   },
   {
    "duration": 8,
    "start_time": "2023-02-05T09:50:58.977Z"
   },
   {
    "duration": 64,
    "start_time": "2023-02-05T09:51:52.470Z"
   },
   {
    "duration": 5,
    "start_time": "2023-02-05T09:52:17.014Z"
   },
   {
    "duration": 9,
    "start_time": "2023-02-05T09:57:19.048Z"
   },
   {
    "duration": 205,
    "start_time": "2023-02-05T09:57:26.054Z"
   },
   {
    "duration": 27,
    "start_time": "2023-02-05T09:57:53.991Z"
   },
   {
    "duration": 483,
    "start_time": "2023-02-05T09:58:15.439Z"
   },
   {
    "duration": 32,
    "start_time": "2023-02-05T09:58:15.923Z"
   },
   {
    "duration": 2153,
    "start_time": "2023-02-05T09:58:15.956Z"
   },
   {
    "duration": 11,
    "start_time": "2023-02-05T09:58:18.110Z"
   },
   {
    "duration": 17,
    "start_time": "2023-02-05T09:58:18.123Z"
   },
   {
    "duration": 9,
    "start_time": "2023-02-05T09:58:18.142Z"
   },
   {
    "duration": 7,
    "start_time": "2023-02-05T09:58:18.152Z"
   },
   {
    "duration": 15,
    "start_time": "2023-02-05T09:58:18.161Z"
   },
   {
    "duration": 27,
    "start_time": "2023-02-05T09:58:18.177Z"
   },
   {
    "duration": 54,
    "start_time": "2023-02-05T09:58:18.206Z"
   },
   {
    "duration": 36,
    "start_time": "2023-02-05T09:58:37.118Z"
   },
   {
    "duration": 32,
    "start_time": "2023-02-05T10:00:21.559Z"
   },
   {
    "duration": 94,
    "start_time": "2023-02-05T10:00:27.715Z"
   },
   {
    "duration": 31,
    "start_time": "2023-02-05T10:00:32.174Z"
   },
   {
    "duration": 41,
    "start_time": "2023-02-05T10:01:17.510Z"
   },
   {
    "duration": 6,
    "start_time": "2023-02-05T10:02:17.372Z"
   },
   {
    "duration": 8,
    "start_time": "2023-02-05T10:08:43.481Z"
   },
   {
    "duration": 6,
    "start_time": "2023-02-05T10:10:32.148Z"
   },
   {
    "duration": 9,
    "start_time": "2023-02-05T10:10:36.166Z"
   },
   {
    "duration": 9,
    "start_time": "2023-02-05T10:11:06.239Z"
   },
   {
    "duration": 13,
    "start_time": "2023-02-05T10:12:12.554Z"
   },
   {
    "duration": 15,
    "start_time": "2023-02-05T10:12:35.457Z"
   },
   {
    "duration": 23,
    "start_time": "2023-02-05T10:15:40.729Z"
   },
   {
    "duration": 21,
    "start_time": "2023-02-05T10:16:43.950Z"
   },
   {
    "duration": 17,
    "start_time": "2023-02-05T10:18:11.986Z"
   },
   {
    "duration": 14,
    "start_time": "2023-02-05T10:18:31.260Z"
   },
   {
    "duration": 21,
    "start_time": "2023-02-05T10:18:47.385Z"
   },
   {
    "duration": 12,
    "start_time": "2023-02-05T10:18:54.879Z"
   },
   {
    "duration": 14,
    "start_time": "2023-02-05T10:19:01.036Z"
   },
   {
    "duration": 23,
    "start_time": "2023-02-05T10:20:02.607Z"
   },
   {
    "duration": 17,
    "start_time": "2023-02-05T10:20:31.457Z"
   },
   {
    "duration": 16,
    "start_time": "2023-02-05T10:20:41.523Z"
   },
   {
    "duration": 20,
    "start_time": "2023-02-05T10:25:10.505Z"
   },
   {
    "duration": 17,
    "start_time": "2023-02-05T10:26:00.713Z"
   },
   {
    "duration": 14,
    "start_time": "2023-02-05T10:26:09.169Z"
   },
   {
    "duration": 14,
    "start_time": "2023-02-05T10:26:14.860Z"
   },
   {
    "duration": 27,
    "start_time": "2023-02-05T10:28:09.956Z"
   },
   {
    "duration": 23,
    "start_time": "2023-02-05T10:28:26.842Z"
   },
   {
    "duration": 25,
    "start_time": "2023-02-05T10:29:50.534Z"
   },
   {
    "duration": 270,
    "start_time": "2023-02-05T10:32:49.669Z"
   },
   {
    "duration": 303,
    "start_time": "2023-02-05T10:34:47.377Z"
   },
   {
    "duration": 327,
    "start_time": "2023-02-05T10:46:05.581Z"
   },
   {
    "duration": 279,
    "start_time": "2023-02-05T10:46:49.197Z"
   },
   {
    "duration": 256,
    "start_time": "2023-02-05T10:47:21.765Z"
   },
   {
    "duration": 36,
    "start_time": "2023-02-05T10:58:12.887Z"
   },
   {
    "duration": 8,
    "start_time": "2023-02-05T10:59:04.938Z"
   },
   {
    "duration": 64,
    "start_time": "2023-02-06T15:34:50.882Z"
   },
   {
    "duration": 796,
    "start_time": "2023-02-06T15:34:59.880Z"
   },
   {
    "duration": 37,
    "start_time": "2023-02-06T15:35:00.679Z"
   },
   {
    "duration": 2555,
    "start_time": "2023-02-06T15:35:00.718Z"
   },
   {
    "duration": 11,
    "start_time": "2023-02-06T15:35:03.275Z"
   },
   {
    "duration": 13,
    "start_time": "2023-02-06T15:35:03.287Z"
   },
   {
    "duration": 26,
    "start_time": "2023-02-06T15:35:03.302Z"
   },
   {
    "duration": 36,
    "start_time": "2023-02-06T15:35:03.330Z"
   },
   {
    "duration": 13,
    "start_time": "2023-02-06T15:35:03.367Z"
   },
   {
    "duration": 32,
    "start_time": "2023-02-06T15:35:03.392Z"
   },
   {
    "duration": 650,
    "start_time": "2023-02-06T15:35:03.426Z"
   },
   {
    "duration": 0,
    "start_time": "2023-02-06T15:35:04.077Z"
   },
   {
    "duration": 375,
    "start_time": "2023-02-06T15:36:11.705Z"
   },
   {
    "duration": 574,
    "start_time": "2023-02-06T15:36:18.010Z"
   },
   {
    "duration": 505,
    "start_time": "2023-02-06T15:36:29.981Z"
   },
   {
    "duration": 332,
    "start_time": "2023-02-06T15:36:37.869Z"
   },
   {
    "duration": 368,
    "start_time": "2023-02-06T15:36:51.627Z"
   },
   {
    "duration": 734,
    "start_time": "2023-02-06T15:37:27.856Z"
   },
   {
    "duration": 34,
    "start_time": "2023-02-06T15:37:28.592Z"
   },
   {
    "duration": 2330,
    "start_time": "2023-02-06T15:37:28.627Z"
   },
   {
    "duration": 11,
    "start_time": "2023-02-06T15:37:30.959Z"
   },
   {
    "duration": 37,
    "start_time": "2023-02-06T15:37:30.972Z"
   },
   {
    "duration": 35,
    "start_time": "2023-02-06T15:37:31.011Z"
   },
   {
    "duration": 64,
    "start_time": "2023-02-06T15:37:31.048Z"
   },
   {
    "duration": 29,
    "start_time": "2023-02-06T15:37:31.114Z"
   },
   {
    "duration": 61,
    "start_time": "2023-02-06T15:37:31.144Z"
   },
   {
    "duration": 761,
    "start_time": "2023-02-06T15:38:03.438Z"
   },
   {
    "duration": 32,
    "start_time": "2023-02-06T15:38:04.201Z"
   },
   {
    "duration": 2334,
    "start_time": "2023-02-06T15:38:04.235Z"
   },
   {
    "duration": 11,
    "start_time": "2023-02-06T15:38:06.571Z"
   },
   {
    "duration": 13,
    "start_time": "2023-02-06T15:38:06.584Z"
   },
   {
    "duration": 8,
    "start_time": "2023-02-06T15:38:06.599Z"
   },
   {
    "duration": 37,
    "start_time": "2023-02-06T15:38:06.608Z"
   },
   {
    "duration": 16,
    "start_time": "2023-02-06T15:38:06.647Z"
   },
   {
    "duration": 62,
    "start_time": "2023-02-06T15:38:06.664Z"
   },
   {
    "duration": 295,
    "start_time": "2023-02-06T15:38:06.728Z"
   },
   {
    "duration": 9,
    "start_time": "2023-02-06T15:38:07.024Z"
   },
   {
    "duration": 284,
    "start_time": "2023-02-06T15:38:26.684Z"
   },
   {
    "duration": 416,
    "start_time": "2023-02-06T15:38:36.809Z"
   },
   {
    "duration": 283,
    "start_time": "2023-02-06T15:39:09.017Z"
   },
   {
    "duration": 274,
    "start_time": "2023-02-06T15:39:41.749Z"
   },
   {
    "duration": 378,
    "start_time": "2023-02-06T15:39:59.634Z"
   },
   {
    "duration": 286,
    "start_time": "2023-02-06T15:40:11.849Z"
   },
   {
    "duration": 292,
    "start_time": "2023-02-06T15:40:44.468Z"
   },
   {
    "duration": 316,
    "start_time": "2023-02-06T15:41:52.609Z"
   },
   {
    "duration": 347,
    "start_time": "2023-02-06T15:55:51.970Z"
   },
   {
    "duration": 313,
    "start_time": "2023-02-06T15:56:31.351Z"
   },
   {
    "duration": 350,
    "start_time": "2023-02-06T15:56:52.488Z"
   },
   {
    "duration": 298,
    "start_time": "2023-02-06T15:59:45.485Z"
   },
   {
    "duration": 388,
    "start_time": "2023-02-06T16:00:14.582Z"
   },
   {
    "duration": 288,
    "start_time": "2023-02-06T16:01:44.614Z"
   },
   {
    "duration": 272,
    "start_time": "2023-02-06T16:03:10.628Z"
   },
   {
    "duration": 14,
    "start_time": "2023-02-06T16:05:20.441Z"
   },
   {
    "duration": 239,
    "start_time": "2023-02-06T16:06:04.134Z"
   },
   {
    "duration": 1697,
    "start_time": "2023-02-06T16:11:46.166Z"
   },
   {
    "duration": 153,
    "start_time": "2023-02-06T16:16:36.901Z"
   },
   {
    "duration": 152,
    "start_time": "2023-02-06T16:17:18.798Z"
   },
   {
    "duration": 228,
    "start_time": "2023-02-06T16:18:13.326Z"
   },
   {
    "duration": 171,
    "start_time": "2023-02-06T16:22:25.685Z"
   },
   {
    "duration": 156,
    "start_time": "2023-02-06T16:23:00.749Z"
   },
   {
    "duration": 189,
    "start_time": "2023-02-06T16:26:32.123Z"
   },
   {
    "duration": 146,
    "start_time": "2023-02-06T16:26:37.741Z"
   },
   {
    "duration": 6,
    "start_time": "2023-02-06T16:29:23.058Z"
   },
   {
    "duration": 47,
    "start_time": "2023-02-06T16:29:35.422Z"
   },
   {
    "duration": 46,
    "start_time": "2023-02-06T16:29:41.223Z"
   },
   {
    "duration": 572,
    "start_time": "2023-02-07T14:17:08.207Z"
   },
   {
    "duration": 36,
    "start_time": "2023-02-07T14:17:08.780Z"
   },
   {
    "duration": 2361,
    "start_time": "2023-02-07T14:17:08.820Z"
   },
   {
    "duration": 11,
    "start_time": "2023-02-07T14:17:11.183Z"
   },
   {
    "duration": 19,
    "start_time": "2023-02-07T14:17:11.196Z"
   },
   {
    "duration": 8,
    "start_time": "2023-02-07T14:17:11.218Z"
   },
   {
    "duration": 34,
    "start_time": "2023-02-07T14:17:11.227Z"
   },
   {
    "duration": 32,
    "start_time": "2023-02-07T14:17:11.262Z"
   },
   {
    "duration": 33,
    "start_time": "2023-02-07T14:17:11.297Z"
   },
   {
    "duration": 303,
    "start_time": "2023-02-07T14:17:11.332Z"
   },
   {
    "duration": 1750,
    "start_time": "2023-02-07T14:17:11.637Z"
   },
   {
    "duration": 196,
    "start_time": "2023-02-07T14:17:13.389Z"
   },
   {
    "duration": 175,
    "start_time": "2023-02-07T14:17:13.587Z"
   },
   {
    "duration": 55,
    "start_time": "2023-02-07T14:17:13.763Z"
   },
   {
    "duration": 37,
    "start_time": "2023-02-07T14:19:13.622Z"
   },
   {
    "duration": 8,
    "start_time": "2023-02-07T14:19:35.773Z"
   },
   {
    "duration": 16,
    "start_time": "2023-02-07T14:20:09.314Z"
   },
   {
    "duration": 46,
    "start_time": "2023-02-07T14:20:20.800Z"
   },
   {
    "duration": 9,
    "start_time": "2023-02-07T14:21:57.941Z"
   },
   {
    "duration": 39,
    "start_time": "2023-02-07T14:22:06.735Z"
   },
   {
    "duration": 12,
    "start_time": "2023-02-07T14:22:11.396Z"
   },
   {
    "duration": 56,
    "start_time": "2023-02-07T14:22:42.689Z"
   },
   {
    "duration": 14,
    "start_time": "2023-02-07T14:23:35.662Z"
   },
   {
    "duration": 100,
    "start_time": "2023-02-07T14:23:42.712Z"
   },
   {
    "duration": 42,
    "start_time": "2023-02-07T14:23:54.015Z"
   },
   {
    "duration": 80,
    "start_time": "2023-02-07T14:29:50.164Z"
   },
   {
    "duration": 46,
    "start_time": "2023-02-07T14:29:58.752Z"
   },
   {
    "duration": 21,
    "start_time": "2023-02-07T14:31:19.359Z"
   },
   {
    "duration": 43,
    "start_time": "2023-02-07T14:32:15.344Z"
   },
   {
    "duration": 8,
    "start_time": "2023-02-07T14:40:24.059Z"
   },
   {
    "duration": 6,
    "start_time": "2023-02-07T14:41:07.348Z"
   },
   {
    "duration": 43,
    "start_time": "2023-02-07T14:41:15.166Z"
   },
   {
    "duration": 8,
    "start_time": "2023-02-07T14:49:20.792Z"
   },
   {
    "duration": 6,
    "start_time": "2023-02-07T14:56:34.982Z"
   },
   {
    "duration": 16,
    "start_time": "2023-02-07T14:58:38.156Z"
   },
   {
    "duration": 104,
    "start_time": "2023-02-07T14:58:49.264Z"
   },
   {
    "duration": 114,
    "start_time": "2023-02-07T14:59:18.097Z"
   },
   {
    "duration": 140,
    "start_time": "2023-02-07T14:59:47.003Z"
   },
   {
    "duration": 231,
    "start_time": "2023-02-07T15:01:03.678Z"
   },
   {
    "duration": 123,
    "start_time": "2023-02-07T15:02:28.425Z"
   },
   {
    "duration": 29,
    "start_time": "2023-02-07T15:02:33.464Z"
   },
   {
    "duration": 8,
    "start_time": "2023-02-07T15:07:30.491Z"
   },
   {
    "duration": 17,
    "start_time": "2023-02-07T15:07:50.797Z"
   },
   {
    "duration": 23,
    "start_time": "2023-02-07T15:08:09.108Z"
   },
   {
    "duration": 110,
    "start_time": "2023-02-07T15:08:13.876Z"
   },
   {
    "duration": 41,
    "start_time": "2023-02-07T15:10:28.810Z"
   },
   {
    "duration": 39,
    "start_time": "2023-02-07T15:10:59.519Z"
   },
   {
    "duration": 37,
    "start_time": "2023-02-07T15:11:09.664Z"
   },
   {
    "duration": 38,
    "start_time": "2023-02-07T15:11:26.449Z"
   },
   {
    "duration": 53,
    "start_time": "2023-02-07T15:11:33.793Z"
   },
   {
    "duration": 29,
    "start_time": "2023-02-07T15:11:48.011Z"
   },
   {
    "duration": 19,
    "start_time": "2023-02-07T15:11:58.778Z"
   },
   {
    "duration": 28,
    "start_time": "2023-02-07T15:12:03.569Z"
   },
   {
    "duration": 44,
    "start_time": "2023-02-07T15:28:34.970Z"
   },
   {
    "duration": 43,
    "start_time": "2023-02-07T15:29:34.547Z"
   },
   {
    "duration": 12,
    "start_time": "2023-02-07T15:30:49.229Z"
   },
   {
    "duration": 27,
    "start_time": "2023-02-07T15:30:59.000Z"
   },
   {
    "duration": 19,
    "start_time": "2023-02-07T15:31:10.827Z"
   },
   {
    "duration": 33,
    "start_time": "2023-02-07T15:31:14.305Z"
   },
   {
    "duration": 49,
    "start_time": "2023-02-07T15:33:08.542Z"
   },
   {
    "duration": 35,
    "start_time": "2023-02-07T15:33:43.236Z"
   },
   {
    "duration": 5,
    "start_time": "2023-02-07T15:45:05.506Z"
   },
   {
    "duration": 6,
    "start_time": "2023-02-07T15:45:14.700Z"
   },
   {
    "duration": 12,
    "start_time": "2023-02-07T15:47:00.359Z"
   },
   {
    "duration": 10,
    "start_time": "2023-02-07T15:47:55.988Z"
   },
   {
    "duration": 604,
    "start_time": "2023-02-09T15:13:20.412Z"
   },
   {
    "duration": 12,
    "start_time": "2023-02-09T15:14:19.149Z"
   },
   {
    "duration": 50,
    "start_time": "2023-02-09T15:18:14.195Z"
   },
   {
    "duration": 41,
    "start_time": "2023-02-09T15:19:23.670Z"
   },
   {
    "duration": 43,
    "start_time": "2023-02-09T15:28:23.824Z"
   },
   {
    "duration": 367,
    "start_time": "2023-02-09T15:28:58.555Z"
   },
   {
    "duration": 16,
    "start_time": "2023-02-09T15:29:38.159Z"
   },
   {
    "duration": 8,
    "start_time": "2023-02-09T15:30:26.161Z"
   },
   {
    "duration": 13,
    "start_time": "2023-02-09T15:30:29.020Z"
   },
   {
    "duration": 355,
    "start_time": "2023-02-09T15:30:39.325Z"
   },
   {
    "duration": 546,
    "start_time": "2023-02-09T15:31:22.084Z"
   },
   {
    "duration": 30,
    "start_time": "2023-02-09T15:31:22.632Z"
   },
   {
    "duration": 2324,
    "start_time": "2023-02-09T15:31:22.663Z"
   },
   {
    "duration": 31,
    "start_time": "2023-02-09T15:31:24.989Z"
   },
   {
    "duration": 16,
    "start_time": "2023-02-09T15:31:25.021Z"
   },
   {
    "duration": 94,
    "start_time": "2023-02-09T15:31:25.039Z"
   },
   {
    "duration": 0,
    "start_time": "2023-02-09T15:31:25.136Z"
   },
   {
    "duration": 0,
    "start_time": "2023-02-09T15:31:25.139Z"
   },
   {
    "duration": 0,
    "start_time": "2023-02-09T15:31:25.140Z"
   },
   {
    "duration": 0,
    "start_time": "2023-02-09T15:31:25.142Z"
   },
   {
    "duration": 0,
    "start_time": "2023-02-09T15:31:25.143Z"
   },
   {
    "duration": 0,
    "start_time": "2023-02-09T15:31:25.145Z"
   },
   {
    "duration": 0,
    "start_time": "2023-02-09T15:31:25.146Z"
   },
   {
    "duration": 0,
    "start_time": "2023-02-09T15:31:25.148Z"
   },
   {
    "duration": 0,
    "start_time": "2023-02-09T15:31:25.149Z"
   },
   {
    "duration": 0,
    "start_time": "2023-02-09T15:31:25.150Z"
   },
   {
    "duration": 15,
    "start_time": "2023-02-09T15:31:52.894Z"
   },
   {
    "duration": 13,
    "start_time": "2023-02-09T15:31:58.858Z"
   },
   {
    "duration": 8,
    "start_time": "2023-02-09T15:32:01.626Z"
   },
   {
    "duration": 36,
    "start_time": "2023-02-09T15:32:05.625Z"
   },
   {
    "duration": 14,
    "start_time": "2023-02-09T15:32:29.114Z"
   },
   {
    "duration": 31,
    "start_time": "2023-02-09T15:32:58.289Z"
   },
   {
    "duration": 44,
    "start_time": "2023-02-09T15:33:04.323Z"
   },
   {
    "duration": 10,
    "start_time": "2023-02-09T15:33:56.718Z"
   },
   {
    "duration": 9,
    "start_time": "2023-02-09T15:34:29.620Z"
   },
   {
    "duration": 44,
    "start_time": "2023-02-09T15:35:01.258Z"
   },
   {
    "duration": 2114,
    "start_time": "2023-02-09T15:41:07.173Z"
   },
   {
    "duration": 715,
    "start_time": "2023-02-11T03:14:52.261Z"
   },
   {
    "duration": 53,
    "start_time": "2023-02-11T03:15:18.490Z"
   },
   {
    "duration": 104,
    "start_time": "2023-02-11T03:17:02.994Z"
   },
   {
    "duration": 91,
    "start_time": "2023-02-11T03:17:22.584Z"
   },
   {
    "duration": 50,
    "start_time": "2023-02-11T03:17:31.965Z"
   },
   {
    "duration": 45,
    "start_time": "2023-02-11T03:17:54.682Z"
   },
   {
    "duration": 7,
    "start_time": "2023-02-11T03:18:37.409Z"
   },
   {
    "duration": 9,
    "start_time": "2023-02-11T03:19:36.800Z"
   },
   {
    "duration": 5,
    "start_time": "2023-02-11T03:21:15.648Z"
   },
   {
    "duration": 7,
    "start_time": "2023-02-11T03:21:30.685Z"
   },
   {
    "duration": 5,
    "start_time": "2023-02-11T03:21:44.882Z"
   },
   {
    "duration": 37,
    "start_time": "2023-02-11T03:24:17.014Z"
   },
   {
    "duration": 9,
    "start_time": "2023-02-11T03:24:58.261Z"
   },
   {
    "duration": 8,
    "start_time": "2023-02-11T03:25:07.405Z"
   },
   {
    "duration": 8,
    "start_time": "2023-02-11T03:25:12.906Z"
   },
   {
    "duration": 7,
    "start_time": "2023-02-11T03:25:25.818Z"
   },
   {
    "duration": 8,
    "start_time": "2023-02-11T03:25:37.549Z"
   },
   {
    "duration": 42,
    "start_time": "2023-02-11T03:26:09.166Z"
   },
   {
    "duration": 15,
    "start_time": "2023-02-11T03:26:21.693Z"
   },
   {
    "duration": 44,
    "start_time": "2023-02-11T03:26:39.432Z"
   },
   {
    "duration": 40,
    "start_time": "2023-02-11T03:26:45.234Z"
   },
   {
    "duration": 8,
    "start_time": "2023-02-11T03:31:19.526Z"
   },
   {
    "duration": 7,
    "start_time": "2023-02-11T03:31:35.287Z"
   },
   {
    "duration": 11,
    "start_time": "2023-02-11T03:31:52.642Z"
   },
   {
    "duration": 12,
    "start_time": "2023-02-11T03:31:56.563Z"
   },
   {
    "duration": 84,
    "start_time": "2023-02-11T03:32:28.226Z"
   },
   {
    "duration": 10,
    "start_time": "2023-02-11T03:32:33.384Z"
   },
   {
    "duration": 25,
    "start_time": "2023-02-11T03:33:04.267Z"
   },
   {
    "duration": 25,
    "start_time": "2023-02-11T03:39:43.957Z"
   },
   {
    "duration": 5,
    "start_time": "2023-02-11T03:39:47.147Z"
   },
   {
    "duration": 46,
    "start_time": "2023-02-11T03:41:32.400Z"
   },
   {
    "duration": 56,
    "start_time": "2023-02-11T03:41:45.600Z"
   },
   {
    "duration": 68,
    "start_time": "2023-02-11T03:41:48.302Z"
   },
   {
    "duration": 8,
    "start_time": "2023-02-11T03:42:02.856Z"
   },
   {
    "duration": 15,
    "start_time": "2023-02-11T03:42:23.348Z"
   },
   {
    "duration": 40,
    "start_time": "2023-02-11T03:42:27.552Z"
   },
   {
    "duration": 13,
    "start_time": "2023-02-11T03:46:11.317Z"
   },
   {
    "duration": 8,
    "start_time": "2023-02-11T03:46:33.366Z"
   },
   {
    "duration": 11,
    "start_time": "2023-02-11T03:46:57.715Z"
   },
   {
    "duration": 12,
    "start_time": "2023-02-11T03:47:19.505Z"
   },
   {
    "duration": 25,
    "start_time": "2023-02-11T03:47:53.545Z"
   },
   {
    "duration": 11,
    "start_time": "2023-02-11T03:48:04.059Z"
   },
   {
    "duration": 13,
    "start_time": "2023-02-11T03:48:39.062Z"
   },
   {
    "duration": 767,
    "start_time": "2023-02-11T03:50:12.572Z"
   },
   {
    "duration": 56,
    "start_time": "2023-02-11T03:50:31.624Z"
   },
   {
    "duration": 15,
    "start_time": "2023-02-11T03:51:04.503Z"
   },
   {
    "duration": 12,
    "start_time": "2023-02-11T03:51:28.833Z"
   },
   {
    "duration": 10,
    "start_time": "2023-02-11T03:51:49.405Z"
   },
   {
    "duration": 14,
    "start_time": "2023-02-11T03:51:59.443Z"
   },
   {
    "duration": 9,
    "start_time": "2023-02-11T03:52:14.753Z"
   },
   {
    "duration": 10,
    "start_time": "2023-02-11T03:52:57.332Z"
   },
   {
    "duration": 12,
    "start_time": "2023-02-11T03:53:03.771Z"
   },
   {
    "duration": 13,
    "start_time": "2023-02-11T03:53:33.392Z"
   },
   {
    "duration": 57,
    "start_time": "2023-02-11T03:54:31.495Z"
   },
   {
    "duration": 22,
    "start_time": "2023-02-11T03:55:16.393Z"
   },
   {
    "duration": 4,
    "start_time": "2023-02-11T04:07:02.767Z"
   },
   {
    "duration": 5,
    "start_time": "2023-02-11T04:07:14.681Z"
   },
   {
    "duration": 5,
    "start_time": "2023-02-11T04:07:27.148Z"
   },
   {
    "duration": 11,
    "start_time": "2023-02-11T04:09:53.560Z"
   },
   {
    "duration": 11,
    "start_time": "2023-02-11T04:10:01.097Z"
   },
   {
    "duration": 47,
    "start_time": "2023-02-11T04:10:11.076Z"
   },
   {
    "duration": 50,
    "start_time": "2023-02-11T04:10:16.935Z"
   },
   {
    "duration": 45,
    "start_time": "2023-02-11T04:11:19.657Z"
   },
   {
    "duration": 11,
    "start_time": "2023-02-11T04:11:29.967Z"
   },
   {
    "duration": 44,
    "start_time": "2023-02-11T04:11:54.761Z"
   },
   {
    "duration": 14,
    "start_time": "2023-02-11T04:12:19.079Z"
   },
   {
    "duration": 24,
    "start_time": "2023-02-11T04:12:35.419Z"
   },
   {
    "duration": 37,
    "start_time": "2023-02-11T04:12:42.763Z"
   },
   {
    "duration": 18,
    "start_time": "2023-02-11T04:16:02.095Z"
   },
   {
    "duration": 66,
    "start_time": "2023-02-11T04:16:05.130Z"
   },
   {
    "duration": 29,
    "start_time": "2023-02-11T04:16:14.031Z"
   },
   {
    "duration": 34,
    "start_time": "2023-02-11T04:16:36.091Z"
   },
   {
    "duration": 18,
    "start_time": "2023-02-11T04:16:48.601Z"
   },
   {
    "duration": 19,
    "start_time": "2023-02-11T04:17:06.954Z"
   },
   {
    "duration": 19,
    "start_time": "2023-02-11T04:17:29.998Z"
   },
   {
    "duration": 14,
    "start_time": "2023-02-11T04:17:32.720Z"
   },
   {
    "duration": 18,
    "start_time": "2023-02-11T04:17:37.519Z"
   },
   {
    "duration": 529,
    "start_time": "2023-02-11T04:17:56.004Z"
   },
   {
    "duration": 31,
    "start_time": "2023-02-11T04:17:56.535Z"
   },
   {
    "duration": 2391,
    "start_time": "2023-02-11T04:17:56.568Z"
   },
   {
    "duration": 20,
    "start_time": "2023-02-11T04:17:58.962Z"
   },
   {
    "duration": 31,
    "start_time": "2023-02-11T04:17:58.984Z"
   },
   {
    "duration": 39,
    "start_time": "2023-02-11T04:17:59.016Z"
   },
   {
    "duration": 19,
    "start_time": "2023-02-11T04:17:59.057Z"
   },
   {
    "duration": 14,
    "start_time": "2023-02-11T04:17:59.078Z"
   },
   {
    "duration": 104,
    "start_time": "2023-02-11T04:17:59.093Z"
   },
   {
    "duration": 0,
    "start_time": "2023-02-11T04:17:59.200Z"
   },
   {
    "duration": 0,
    "start_time": "2023-02-11T04:17:59.201Z"
   },
   {
    "duration": 0,
    "start_time": "2023-02-11T04:17:59.203Z"
   },
   {
    "duration": 1,
    "start_time": "2023-02-11T04:17:59.204Z"
   },
   {
    "duration": 0,
    "start_time": "2023-02-11T04:17:59.207Z"
   },
   {
    "duration": 0,
    "start_time": "2023-02-11T04:17:59.208Z"
   },
   {
    "duration": 0,
    "start_time": "2023-02-11T04:17:59.209Z"
   },
   {
    "duration": 0,
    "start_time": "2023-02-11T04:17:59.212Z"
   },
   {
    "duration": 0,
    "start_time": "2023-02-11T04:17:59.213Z"
   },
   {
    "duration": 4,
    "start_time": "2023-02-11T04:18:29.291Z"
   },
   {
    "duration": 4,
    "start_time": "2023-02-11T04:18:33.906Z"
   },
   {
    "duration": 6,
    "start_time": "2023-02-11T04:18:37.575Z"
   },
   {
    "duration": 15,
    "start_time": "2023-02-11T04:18:40.488Z"
   },
   {
    "duration": 12,
    "start_time": "2023-02-11T04:18:49.389Z"
   },
   {
    "duration": 102,
    "start_time": "2023-02-11T04:18:57.619Z"
   },
   {
    "duration": 491,
    "start_time": "2023-02-11T04:19:24.652Z"
   },
   {
    "duration": 30,
    "start_time": "2023-02-11T04:19:25.146Z"
   },
   {
    "duration": 2217,
    "start_time": "2023-02-11T04:19:25.178Z"
   },
   {
    "duration": 22,
    "start_time": "2023-02-11T04:19:27.398Z"
   },
   {
    "duration": 64,
    "start_time": "2023-02-11T04:19:27.422Z"
   },
   {
    "duration": 44,
    "start_time": "2023-02-11T04:19:27.488Z"
   },
   {
    "duration": 20,
    "start_time": "2023-02-11T04:19:27.533Z"
   },
   {
    "duration": 25,
    "start_time": "2023-02-11T04:19:27.555Z"
   },
   {
    "duration": 87,
    "start_time": "2023-02-11T04:19:27.582Z"
   },
   {
    "duration": 0,
    "start_time": "2023-02-11T04:19:27.671Z"
   },
   {
    "duration": 0,
    "start_time": "2023-02-11T04:19:27.673Z"
   },
   {
    "duration": 1,
    "start_time": "2023-02-11T04:19:27.673Z"
   },
   {
    "duration": 0,
    "start_time": "2023-02-11T04:19:27.674Z"
   },
   {
    "duration": 0,
    "start_time": "2023-02-11T04:19:27.675Z"
   },
   {
    "duration": 0,
    "start_time": "2023-02-11T04:19:27.676Z"
   },
   {
    "duration": 0,
    "start_time": "2023-02-11T04:19:27.678Z"
   },
   {
    "duration": 0,
    "start_time": "2023-02-11T04:19:27.679Z"
   },
   {
    "duration": 0,
    "start_time": "2023-02-11T04:19:27.680Z"
   },
   {
    "duration": 17,
    "start_time": "2023-02-11T04:19:41.787Z"
   },
   {
    "duration": 17,
    "start_time": "2023-02-11T04:20:29.780Z"
   },
   {
    "duration": 474,
    "start_time": "2023-02-11T04:20:36.583Z"
   },
   {
    "duration": 32,
    "start_time": "2023-02-11T04:20:37.058Z"
   },
   {
    "duration": 2273,
    "start_time": "2023-02-11T04:20:37.091Z"
   },
   {
    "duration": 24,
    "start_time": "2023-02-11T04:20:39.366Z"
   },
   {
    "duration": 34,
    "start_time": "2023-02-11T04:20:39.392Z"
   },
   {
    "duration": 38,
    "start_time": "2023-02-11T04:20:39.428Z"
   },
   {
    "duration": 18,
    "start_time": "2023-02-11T04:20:39.468Z"
   },
   {
    "duration": 12,
    "start_time": "2023-02-11T04:20:39.488Z"
   },
   {
    "duration": 96,
    "start_time": "2023-02-11T04:20:39.502Z"
   },
   {
    "duration": 0,
    "start_time": "2023-02-11T04:20:39.599Z"
   },
   {
    "duration": 0,
    "start_time": "2023-02-11T04:20:39.600Z"
   },
   {
    "duration": 0,
    "start_time": "2023-02-11T04:20:39.602Z"
   },
   {
    "duration": 0,
    "start_time": "2023-02-11T04:20:39.603Z"
   },
   {
    "duration": 0,
    "start_time": "2023-02-11T04:20:39.604Z"
   },
   {
    "duration": 0,
    "start_time": "2023-02-11T04:20:39.604Z"
   },
   {
    "duration": 0,
    "start_time": "2023-02-11T04:20:39.605Z"
   },
   {
    "duration": 0,
    "start_time": "2023-02-11T04:20:39.606Z"
   },
   {
    "duration": 0,
    "start_time": "2023-02-11T04:20:39.607Z"
   },
   {
    "duration": 14,
    "start_time": "2023-02-11T04:20:46.580Z"
   },
   {
    "duration": 23,
    "start_time": "2023-02-11T04:20:51.580Z"
   },
   {
    "duration": 22,
    "start_time": "2023-02-11T04:21:39.895Z"
   },
   {
    "duration": 44,
    "start_time": "2023-02-11T04:21:47.317Z"
   },
   {
    "duration": 743,
    "start_time": "2023-02-11T10:40:37.398Z"
   },
   {
    "duration": 31,
    "start_time": "2023-02-11T10:40:41.031Z"
   },
   {
    "duration": 2540,
    "start_time": "2023-02-11T10:40:45.536Z"
   },
   {
    "duration": 21,
    "start_time": "2023-02-11T10:40:54.559Z"
   },
   {
    "duration": 35,
    "start_time": "2023-02-11T10:41:01.220Z"
   },
   {
    "duration": 39,
    "start_time": "2023-02-11T10:41:03.689Z"
   },
   {
    "duration": 29,
    "start_time": "2023-02-11T10:41:21.463Z"
   },
   {
    "duration": 75,
    "start_time": "2023-02-11T10:41:58.671Z"
   },
   {
    "duration": 111,
    "start_time": "2023-02-11T10:42:03.883Z"
   },
   {
    "duration": 28,
    "start_time": "2023-02-11T10:42:09.237Z"
   },
   {
    "duration": 46,
    "start_time": "2023-02-11T10:42:30.903Z"
   },
   {
    "duration": 42,
    "start_time": "2023-02-11T10:42:47.436Z"
   },
   {
    "duration": 7,
    "start_time": "2023-02-11T10:43:39.540Z"
   },
   {
    "duration": 12,
    "start_time": "2023-02-11T10:44:32.350Z"
   },
   {
    "duration": 12,
    "start_time": "2023-02-11T10:44:49.906Z"
   },
   {
    "duration": 27,
    "start_time": "2023-02-11T10:44:58.871Z"
   },
   {
    "duration": 45,
    "start_time": "2023-02-11T10:45:18.283Z"
   },
   {
    "duration": 34,
    "start_time": "2023-02-11T10:46:14.997Z"
   },
   {
    "duration": 18,
    "start_time": "2023-02-11T10:46:16.892Z"
   },
   {
    "duration": 29,
    "start_time": "2023-02-11T10:46:23.879Z"
   },
   {
    "duration": 11,
    "start_time": "2023-02-11T10:46:33.167Z"
   },
   {
    "duration": 8,
    "start_time": "2023-02-11T10:46:37.225Z"
   },
   {
    "duration": 105,
    "start_time": "2023-02-11T10:46:41.494Z"
   },
   {
    "duration": 12,
    "start_time": "2023-02-11T10:46:47.089Z"
   },
   {
    "duration": 10,
    "start_time": "2023-02-11T10:47:24.336Z"
   },
   {
    "duration": 26,
    "start_time": "2023-02-11T10:47:29.275Z"
   },
   {
    "duration": 19,
    "start_time": "2023-02-11T10:47:50.989Z"
   },
   {
    "duration": 17,
    "start_time": "2023-02-11T10:48:24.431Z"
   },
   {
    "duration": 11,
    "start_time": "2023-02-11T10:48:27.794Z"
   },
   {
    "duration": 42,
    "start_time": "2023-02-11T10:48:45.439Z"
   },
   {
    "duration": 42,
    "start_time": "2023-02-11T10:49:04.581Z"
   },
   {
    "duration": 25,
    "start_time": "2023-02-11T10:49:25.508Z"
   },
   {
    "duration": 16,
    "start_time": "2023-02-11T10:50:22.581Z"
   },
   {
    "duration": 116,
    "start_time": "2023-02-11T10:50:28.309Z"
   },
   {
    "duration": 16,
    "start_time": "2023-02-11T10:50:50.393Z"
   },
   {
    "duration": 13,
    "start_time": "2023-02-11T10:50:52.143Z"
   },
   {
    "duration": 112,
    "start_time": "2023-02-11T10:51:05.226Z"
   },
   {
    "duration": 2127,
    "start_time": "2023-02-11T10:51:12.940Z"
   },
   {
    "duration": 25,
    "start_time": "2023-02-11T10:51:20.310Z"
   },
   {
    "duration": 11,
    "start_time": "2023-02-11T10:51:23.297Z"
   },
   {
    "duration": 17,
    "start_time": "2023-02-11T10:51:25.166Z"
   },
   {
    "duration": 12,
    "start_time": "2023-02-11T10:51:26.969Z"
   },
   {
    "duration": 10,
    "start_time": "2023-02-11T10:51:28.952Z"
   },
   {
    "duration": 8,
    "start_time": "2023-02-11T10:51:31.645Z"
   },
   {
    "duration": 41,
    "start_time": "2023-02-11T10:51:36.807Z"
   },
   {
    "duration": 16,
    "start_time": "2023-02-11T10:51:42.994Z"
   },
   {
    "duration": 1610,
    "start_time": "2023-02-11T10:53:04.185Z"
   },
   {
    "duration": 2418,
    "start_time": "2023-02-11T10:53:21.933Z"
   },
   {
    "duration": 54,
    "start_time": "2023-02-11T10:59:45.328Z"
   },
   {
    "duration": 51,
    "start_time": "2023-02-11T10:59:49.312Z"
   },
   {
    "duration": 377,
    "start_time": "2023-02-11T11:00:40.437Z"
   },
   {
    "duration": 14,
    "start_time": "2023-02-11T11:01:19.985Z"
   },
   {
    "duration": 52,
    "start_time": "2023-02-11T11:08:28.301Z"
   },
   {
    "duration": 24,
    "start_time": "2023-02-11T11:08:35.403Z"
   },
   {
    "duration": 622,
    "start_time": "2023-02-11T12:01:51.478Z"
   },
   {
    "duration": 122,
    "start_time": "2023-02-11T12:02:03.433Z"
   },
   {
    "duration": 125,
    "start_time": "2023-02-11T12:02:57.706Z"
   },
   {
    "duration": 132,
    "start_time": "2023-02-11T12:03:02.650Z"
   },
   {
    "duration": 127,
    "start_time": "2023-02-11T12:03:14.764Z"
   },
   {
    "duration": 139,
    "start_time": "2023-02-11T12:03:18.079Z"
   },
   {
    "duration": 121,
    "start_time": "2023-02-11T12:03:37.228Z"
   },
   {
    "duration": 135,
    "start_time": "2023-02-11T12:03:42.747Z"
   },
   {
    "duration": 216,
    "start_time": "2023-02-11T12:04:13.238Z"
   },
   {
    "duration": 35,
    "start_time": "2023-02-11T12:04:37.797Z"
   },
   {
    "duration": 41,
    "start_time": "2023-02-11T12:05:57.193Z"
   },
   {
    "duration": 40,
    "start_time": "2023-02-11T12:06:10.848Z"
   },
   {
    "duration": 47,
    "start_time": "2023-02-11T12:06:18.940Z"
   },
   {
    "duration": 37,
    "start_time": "2023-02-11T12:06:51.556Z"
   },
   {
    "duration": 37,
    "start_time": "2023-02-11T12:06:55.061Z"
   },
   {
    "duration": 40,
    "start_time": "2023-02-11T12:07:00.380Z"
   },
   {
    "duration": 40,
    "start_time": "2023-02-11T12:07:14.560Z"
   },
   {
    "duration": 51,
    "start_time": "2023-02-11T12:07:31.610Z"
   },
   {
    "duration": 52,
    "start_time": "2023-02-11T12:07:40.312Z"
   },
   {
    "duration": 53,
    "start_time": "2023-02-11T12:07:56.198Z"
   },
   {
    "duration": 127,
    "start_time": "2023-02-11T12:08:17.180Z"
   },
   {
    "duration": 162,
    "start_time": "2023-02-11T12:08:37.000Z"
   },
   {
    "duration": 235,
    "start_time": "2023-02-11T12:08:44.383Z"
   },
   {
    "duration": 160,
    "start_time": "2023-02-11T12:08:51.162Z"
   },
   {
    "duration": 184,
    "start_time": "2023-02-11T12:08:55.981Z"
   },
   {
    "duration": 166,
    "start_time": "2023-02-11T12:08:59.525Z"
   },
   {
    "duration": 160,
    "start_time": "2023-02-11T12:09:06.386Z"
   },
   {
    "duration": 328,
    "start_time": "2023-02-11T12:09:10.220Z"
   },
   {
    "duration": 56,
    "start_time": "2023-02-11T12:09:59.056Z"
   },
   {
    "duration": 56,
    "start_time": "2023-02-11T12:10:11.956Z"
   },
   {
    "duration": 60,
    "start_time": "2023-02-11T12:10:25.840Z"
   },
   {
    "duration": 62,
    "start_time": "2023-02-11T12:10:42.193Z"
   },
   {
    "duration": 39,
    "start_time": "2023-02-11T12:14:26.253Z"
   },
   {
    "duration": 35,
    "start_time": "2023-02-11T12:16:24.363Z"
   },
   {
    "duration": 35,
    "start_time": "2023-02-11T12:16:29.463Z"
   },
   {
    "duration": 217,
    "start_time": "2023-02-11T12:22:28.091Z"
   },
   {
    "duration": 119,
    "start_time": "2023-02-11T12:22:34.243Z"
   },
   {
    "duration": 27,
    "start_time": "2023-02-11T12:22:48.603Z"
   },
   {
    "duration": 24,
    "start_time": "2023-02-11T12:23:07.482Z"
   },
   {
    "duration": 24,
    "start_time": "2023-02-11T12:23:18.680Z"
   },
   {
    "duration": 28,
    "start_time": "2023-02-11T12:23:32.048Z"
   },
   {
    "duration": 26,
    "start_time": "2023-02-11T12:29:12.166Z"
   },
   {
    "duration": 28,
    "start_time": "2023-02-11T12:29:26.719Z"
   },
   {
    "duration": 27,
    "start_time": "2023-02-11T12:29:30.132Z"
   },
   {
    "duration": 28,
    "start_time": "2023-02-11T12:29:34.896Z"
   },
   {
    "duration": 28,
    "start_time": "2023-02-11T12:29:39.529Z"
   },
   {
    "duration": 28,
    "start_time": "2023-02-11T12:29:44.668Z"
   },
   {
    "duration": 27,
    "start_time": "2023-02-11T12:29:59.483Z"
   },
   {
    "duration": 28,
    "start_time": "2023-02-11T12:30:06.549Z"
   },
   {
    "duration": 28,
    "start_time": "2023-02-11T12:30:10.438Z"
   },
   {
    "duration": 29,
    "start_time": "2023-02-11T12:30:13.690Z"
   },
   {
    "duration": 38,
    "start_time": "2023-02-11T12:30:22.848Z"
   },
   {
    "duration": 512,
    "start_time": "2023-02-11T12:30:52.977Z"
   },
   {
    "duration": 505,
    "start_time": "2023-02-11T12:31:06.461Z"
   },
   {
    "duration": 477,
    "start_time": "2023-02-11T12:31:11.259Z"
   },
   {
    "duration": 506,
    "start_time": "2023-02-11T12:31:57.759Z"
   },
   {
    "duration": 1097,
    "start_time": "2023-02-11T12:32:27.869Z"
   },
   {
    "duration": 901,
    "start_time": "2023-02-11T12:32:47.827Z"
   },
   {
    "duration": 899,
    "start_time": "2023-02-11T12:34:18.530Z"
   },
   {
    "duration": 952,
    "start_time": "2023-02-11T12:34:40.192Z"
   },
   {
    "duration": 930,
    "start_time": "2023-02-11T12:34:43.975Z"
   },
   {
    "duration": 1164,
    "start_time": "2023-02-11T12:35:01.256Z"
   },
   {
    "duration": 984,
    "start_time": "2023-02-11T12:35:25.939Z"
   },
   {
    "duration": 902,
    "start_time": "2023-02-11T12:35:59.938Z"
   },
   {
    "duration": 880,
    "start_time": "2023-02-11T12:36:09.864Z"
   },
   {
    "duration": 884,
    "start_time": "2023-02-11T13:01:39.636Z"
   },
   {
    "duration": 1134,
    "start_time": "2023-02-11T13:01:46.185Z"
   },
   {
    "duration": 872,
    "start_time": "2023-02-11T13:01:58.369Z"
   },
   {
    "duration": 925,
    "start_time": "2023-02-11T13:02:07.412Z"
   },
   {
    "duration": 937,
    "start_time": "2023-02-11T13:02:23.652Z"
   },
   {
    "duration": 1125,
    "start_time": "2023-02-11T13:02:31.832Z"
   },
   {
    "duration": 1250,
    "start_time": "2023-02-11T13:02:50.753Z"
   },
   {
    "duration": 956,
    "start_time": "2023-02-11T13:03:19.761Z"
   },
   {
    "duration": 1980,
    "start_time": "2023-02-11T13:06:45.947Z"
   },
   {
    "duration": 502,
    "start_time": "2023-02-11T13:08:48.449Z"
   },
   {
    "duration": 805,
    "start_time": "2023-02-12T03:03:00.316Z"
   },
   {
    "duration": 33,
    "start_time": "2023-02-12T03:03:01.123Z"
   },
   {
    "duration": 2498,
    "start_time": "2023-02-12T03:03:01.158Z"
   },
   {
    "duration": 23,
    "start_time": "2023-02-12T03:03:03.659Z"
   },
   {
    "duration": 10,
    "start_time": "2023-02-12T03:03:03.684Z"
   },
   {
    "duration": 18,
    "start_time": "2023-02-12T03:03:03.696Z"
   },
   {
    "duration": 24,
    "start_time": "2023-02-12T03:03:03.716Z"
   },
   {
    "duration": 9,
    "start_time": "2023-02-12T03:03:03.742Z"
   },
   {
    "duration": 7,
    "start_time": "2023-02-12T03:03:03.753Z"
   },
   {
    "duration": 38,
    "start_time": "2023-02-12T03:03:03.763Z"
   },
   {
    "duration": 42,
    "start_time": "2023-02-12T03:03:03.802Z"
   },
   {
    "duration": 31,
    "start_time": "2023-02-12T03:03:03.846Z"
   },
   {
    "duration": 2340,
    "start_time": "2023-02-12T03:03:03.879Z"
   },
   {
    "duration": 41,
    "start_time": "2023-02-12T03:03:06.220Z"
   },
   {
    "duration": 2259,
    "start_time": "2023-02-12T03:03:06.263Z"
   },
   {
    "duration": 263,
    "start_time": "2023-02-12T03:03:08.524Z"
   },
   {
    "duration": 1843,
    "start_time": "2023-02-12T03:03:08.788Z"
   },
   {
    "duration": 163,
    "start_time": "2023-02-12T03:03:10.633Z"
   },
   {
    "duration": 179,
    "start_time": "2023-02-12T03:03:10.798Z"
   },
   {
    "duration": 19,
    "start_time": "2023-02-12T03:03:10.979Z"
   },
   {
    "duration": 253,
    "start_time": "2023-02-12T03:04:36.279Z"
   },
   {
    "duration": 289,
    "start_time": "2023-02-12T03:04:40.067Z"
   },
   {
    "duration": 15,
    "start_time": "2023-02-12T03:05:54.990Z"
   },
   {
    "duration": 1823,
    "start_time": "2023-02-12T03:06:50.451Z"
   },
   {
    "duration": 1816,
    "start_time": "2023-02-12T03:07:10.363Z"
   },
   {
    "duration": 14,
    "start_time": "2023-02-12T03:12:25.715Z"
   },
   {
    "duration": 146,
    "start_time": "2023-02-12T03:12:45.764Z"
   },
   {
    "duration": 152,
    "start_time": "2023-02-12T03:13:02.933Z"
   },
   {
    "duration": 158,
    "start_time": "2023-02-12T03:13:09.196Z"
   },
   {
    "duration": 359,
    "start_time": "2023-02-12T03:13:17.307Z"
   },
   {
    "duration": 83,
    "start_time": "2023-02-12T03:13:37.240Z"
   },
   {
    "duration": 141,
    "start_time": "2023-02-12T03:13:43.690Z"
   },
   {
    "duration": 1686,
    "start_time": "2023-02-12T03:15:47.082Z"
   },
   {
    "duration": 99,
    "start_time": "2023-02-12T03:16:02.009Z"
   },
   {
    "duration": 102,
    "start_time": "2023-02-12T03:16:09.033Z"
   },
   {
    "duration": 2100,
    "start_time": "2023-02-12T03:16:14.641Z"
   },
   {
    "duration": 1863,
    "start_time": "2023-02-12T03:16:56.114Z"
   },
   {
    "duration": 2161,
    "start_time": "2023-02-12T03:17:05.129Z"
   },
   {
    "duration": 15,
    "start_time": "2023-02-12T03:46:24.038Z"
   },
   {
    "duration": 16,
    "start_time": "2023-02-12T03:46:28.596Z"
   },
   {
    "duration": 16,
    "start_time": "2023-02-12T03:47:11.765Z"
   },
   {
    "duration": 544,
    "start_time": "2023-02-12T03:47:42.606Z"
   },
   {
    "duration": 31,
    "start_time": "2023-02-12T03:47:43.152Z"
   },
   {
    "duration": 2318,
    "start_time": "2023-02-12T03:47:43.185Z"
   },
   {
    "duration": 21,
    "start_time": "2023-02-12T03:47:45.506Z"
   },
   {
    "duration": 25,
    "start_time": "2023-02-12T03:47:45.529Z"
   },
   {
    "duration": 31,
    "start_time": "2023-02-12T03:47:45.556Z"
   },
   {
    "duration": 13,
    "start_time": "2023-02-12T03:47:45.589Z"
   },
   {
    "duration": 22,
    "start_time": "2023-02-12T03:47:45.604Z"
   },
   {
    "duration": 14,
    "start_time": "2023-02-12T03:47:45.628Z"
   },
   {
    "duration": 60,
    "start_time": "2023-02-12T03:47:45.644Z"
   },
   {
    "duration": 14,
    "start_time": "2023-02-12T03:47:45.706Z"
   },
   {
    "duration": 31,
    "start_time": "2023-02-12T03:47:45.721Z"
   },
   {
    "duration": 2138,
    "start_time": "2023-02-12T03:47:45.754Z"
   },
   {
    "duration": 42,
    "start_time": "2023-02-12T03:47:47.894Z"
   },
   {
    "duration": 2081,
    "start_time": "2023-02-12T03:47:47.938Z"
   },
   {
    "duration": 250,
    "start_time": "2023-02-12T03:47:50.021Z"
   },
   {
    "duration": 1758,
    "start_time": "2023-02-12T03:47:50.273Z"
   },
   {
    "duration": 155,
    "start_time": "2023-02-12T03:47:52.033Z"
   },
   {
    "duration": 153,
    "start_time": "2023-02-12T03:47:52.190Z"
   },
   {
    "duration": 17,
    "start_time": "2023-02-12T03:47:52.344Z"
   },
   {
    "duration": 1572,
    "start_time": "2023-02-12T03:48:02.742Z"
   },
   {
    "duration": 1733,
    "start_time": "2023-02-12T03:48:19.248Z"
   },
   {
    "duration": 137,
    "start_time": "2023-02-12T04:05:10.269Z"
   },
   {
    "duration": 143,
    "start_time": "2023-02-12T04:05:31.416Z"
   },
   {
    "duration": 54,
    "start_time": "2023-02-12T04:05:35.931Z"
   },
   {
    "duration": 136,
    "start_time": "2023-02-12T04:05:41.438Z"
   },
   {
    "duration": 614,
    "start_time": "2023-02-13T13:35:49.410Z"
   },
   {
    "duration": 36,
    "start_time": "2023-02-13T13:35:50.026Z"
   },
   {
    "duration": 2496,
    "start_time": "2023-02-13T13:35:50.065Z"
   },
   {
    "duration": 21,
    "start_time": "2023-02-13T13:35:52.563Z"
   },
   {
    "duration": 11,
    "start_time": "2023-02-13T13:35:52.586Z"
   },
   {
    "duration": 17,
    "start_time": "2023-02-13T13:35:52.599Z"
   },
   {
    "duration": 22,
    "start_time": "2023-02-13T13:35:52.618Z"
   },
   {
    "duration": 11,
    "start_time": "2023-02-13T13:35:52.642Z"
   },
   {
    "duration": 12,
    "start_time": "2023-02-13T13:35:52.655Z"
   },
   {
    "duration": 40,
    "start_time": "2023-02-13T13:35:52.671Z"
   },
   {
    "duration": 37,
    "start_time": "2023-02-13T13:35:52.713Z"
   },
   {
    "duration": 36,
    "start_time": "2023-02-13T13:35:52.752Z"
   },
   {
    "duration": 2271,
    "start_time": "2023-02-13T13:35:52.790Z"
   },
   {
    "duration": 42,
    "start_time": "2023-02-13T13:35:55.064Z"
   },
   {
    "duration": 2259,
    "start_time": "2023-02-13T13:35:55.108Z"
   },
   {
    "duration": 312,
    "start_time": "2023-02-13T13:35:57.370Z"
   },
   {
    "duration": 1885,
    "start_time": "2023-02-13T13:35:57.684Z"
   },
   {
    "duration": 154,
    "start_time": "2023-02-13T13:35:59.571Z"
   },
   {
    "duration": 45,
    "start_time": "2023-02-13T13:39:35.994Z"
   },
   {
    "duration": 105,
    "start_time": "2023-02-13T14:02:40.951Z"
   },
   {
    "duration": 456,
    "start_time": "2023-02-13T14:04:28.693Z"
   },
   {
    "duration": 209,
    "start_time": "2023-02-13T14:04:38.257Z"
   },
   {
    "duration": 183,
    "start_time": "2023-02-13T14:05:44.780Z"
   },
   {
    "duration": 77,
    "start_time": "2023-02-13T14:06:14.145Z"
   },
   {
    "duration": 65,
    "start_time": "2023-02-13T14:06:17.495Z"
   },
   {
    "duration": 195,
    "start_time": "2023-02-13T14:06:22.924Z"
   },
   {
    "duration": 202,
    "start_time": "2023-02-13T14:07:27.639Z"
   },
   {
    "duration": 176,
    "start_time": "2023-02-13T14:07:47.232Z"
   },
   {
    "duration": 283,
    "start_time": "2023-02-13T14:08:09.252Z"
   },
   {
    "duration": 227,
    "start_time": "2023-02-13T14:08:27.051Z"
   },
   {
    "duration": 219,
    "start_time": "2023-02-13T14:09:25.947Z"
   },
   {
    "duration": 228,
    "start_time": "2023-02-13T14:09:38.302Z"
   },
   {
    "duration": 416,
    "start_time": "2023-02-13T14:10:42.316Z"
   },
   {
    "duration": 181,
    "start_time": "2023-02-13T14:11:48.304Z"
   },
   {
    "duration": 160,
    "start_time": "2023-02-13T14:11:51.662Z"
   },
   {
    "duration": 173,
    "start_time": "2023-02-13T14:14:38.088Z"
   },
   {
    "duration": 190,
    "start_time": "2023-02-13T14:18:33.423Z"
   },
   {
    "duration": 217,
    "start_time": "2023-02-13T14:18:47.023Z"
   },
   {
    "duration": 229,
    "start_time": "2023-02-13T14:23:03.482Z"
   },
   {
    "duration": 300,
    "start_time": "2023-02-13T14:24:10.474Z"
   },
   {
    "duration": 296,
    "start_time": "2023-02-13T14:24:18.212Z"
   },
   {
    "duration": 285,
    "start_time": "2023-02-13T14:24:22.009Z"
   },
   {
    "duration": 186,
    "start_time": "2023-02-13T14:24:36.323Z"
   },
   {
    "duration": 197,
    "start_time": "2023-02-13T14:25:04.746Z"
   },
   {
    "duration": 362,
    "start_time": "2023-02-13T14:25:23.218Z"
   },
   {
    "duration": 195,
    "start_time": "2023-02-13T14:25:31.209Z"
   },
   {
    "duration": 214,
    "start_time": "2023-02-13T14:25:43.563Z"
   },
   {
    "duration": 161,
    "start_time": "2023-02-13T14:26:36.911Z"
   },
   {
    "duration": 69,
    "start_time": "2023-02-13T14:27:30.795Z"
   },
   {
    "duration": 286,
    "start_time": "2023-02-13T14:27:55.298Z"
   },
   {
    "duration": 155,
    "start_time": "2023-02-13T14:28:19.327Z"
   },
   {
    "duration": 526,
    "start_time": "2023-02-13T15:16:51.135Z"
   },
   {
    "duration": 494,
    "start_time": "2023-02-13T15:17:31.109Z"
   },
   {
    "duration": 480,
    "start_time": "2023-02-13T15:17:34.020Z"
   },
   {
    "duration": 496,
    "start_time": "2023-02-13T15:17:52.066Z"
   },
   {
    "duration": 676,
    "start_time": "2023-02-13T15:17:59.060Z"
   },
   {
    "duration": 1171,
    "start_time": "2023-02-13T15:18:37.869Z"
   },
   {
    "duration": 7,
    "start_time": "2023-02-13T15:18:58.548Z"
   },
   {
    "duration": 15,
    "start_time": "2023-02-13T15:19:06.935Z"
   },
   {
    "duration": 29,
    "start_time": "2023-02-13T15:19:55.932Z"
   },
   {
    "duration": 29,
    "start_time": "2023-02-13T15:20:07.472Z"
   },
   {
    "duration": 619,
    "start_time": "2023-02-13T15:20:55.441Z"
   },
   {
    "duration": 636,
    "start_time": "2023-02-13T15:21:21.816Z"
   },
   {
    "duration": 539,
    "start_time": "2023-02-13T15:21:53.936Z"
   },
   {
    "duration": 534,
    "start_time": "2023-02-13T15:22:32.497Z"
   },
   {
    "duration": 474,
    "start_time": "2023-02-13T15:23:35.332Z"
   },
   {
    "duration": 560,
    "start_time": "2023-02-13T15:23:45.810Z"
   },
   {
    "duration": 13,
    "start_time": "2023-02-13T15:24:41.992Z"
   },
   {
    "duration": 14,
    "start_time": "2023-02-13T15:24:47.615Z"
   },
   {
    "duration": 13,
    "start_time": "2023-02-13T15:24:51.914Z"
   },
   {
    "duration": 10,
    "start_time": "2023-02-13T15:24:55.275Z"
   },
   {
    "duration": 11,
    "start_time": "2023-02-13T15:25:08.422Z"
   },
   {
    "duration": 15,
    "start_time": "2023-02-13T15:25:16.841Z"
   },
   {
    "duration": 71,
    "start_time": "2023-02-13T15:25:41.126Z"
   },
   {
    "duration": 72,
    "start_time": "2023-02-13T15:25:45.237Z"
   },
   {
    "duration": 22,
    "start_time": "2023-02-13T15:25:50.329Z"
   },
   {
    "duration": 24,
    "start_time": "2023-02-13T15:25:58.227Z"
   },
   {
    "duration": 685,
    "start_time": "2023-02-14T13:32:29.533Z"
   },
   {
    "duration": 30,
    "start_time": "2023-02-14T13:32:30.220Z"
   },
   {
    "duration": 2244,
    "start_time": "2023-02-14T13:32:30.252Z"
   },
   {
    "duration": 20,
    "start_time": "2023-02-14T13:32:32.499Z"
   },
   {
    "duration": 9,
    "start_time": "2023-02-14T13:32:32.521Z"
   },
   {
    "duration": 16,
    "start_time": "2023-02-14T13:32:32.532Z"
   },
   {
    "duration": 13,
    "start_time": "2023-02-14T13:32:32.550Z"
   },
   {
    "duration": 12,
    "start_time": "2023-02-14T13:32:32.592Z"
   },
   {
    "duration": 14,
    "start_time": "2023-02-14T13:32:32.606Z"
   },
   {
    "duration": 40,
    "start_time": "2023-02-14T13:32:32.624Z"
   },
   {
    "duration": 26,
    "start_time": "2023-02-14T13:32:32.666Z"
   },
   {
    "duration": 30,
    "start_time": "2023-02-14T13:32:32.693Z"
   },
   {
    "duration": 2036,
    "start_time": "2023-02-14T13:32:32.725Z"
   },
   {
    "duration": 39,
    "start_time": "2023-02-14T13:32:34.763Z"
   },
   {
    "duration": 1992,
    "start_time": "2023-02-14T13:32:34.803Z"
   },
   {
    "duration": 243,
    "start_time": "2023-02-14T13:32:36.797Z"
   },
   {
    "duration": 1705,
    "start_time": "2023-02-14T13:32:37.041Z"
   },
   {
    "duration": 141,
    "start_time": "2023-02-14T13:32:38.748Z"
   },
   {
    "duration": 183,
    "start_time": "2023-02-14T13:32:38.892Z"
   },
   {
    "duration": 187,
    "start_time": "2023-02-14T13:32:39.077Z"
   },
   {
    "duration": 171,
    "start_time": "2023-02-14T13:32:39.266Z"
   },
   {
    "duration": 149,
    "start_time": "2023-02-14T13:32:39.439Z"
   },
   {
    "duration": 400,
    "start_time": "2023-02-14T13:32:39.591Z"
   },
   {
    "duration": 27,
    "start_time": "2023-02-14T13:32:39.993Z"
   },
   {
    "duration": 139,
    "start_time": "2023-02-14T13:33:34.343Z"
   },
   {
    "duration": 511,
    "start_time": "2023-02-14T13:33:49.410Z"
   },
   {
    "duration": 299,
    "start_time": "2023-02-14T13:35:00.693Z"
   },
   {
    "duration": 359,
    "start_time": "2023-02-14T13:37:39.637Z"
   },
   {
    "duration": 519,
    "start_time": "2023-02-14T13:37:56.538Z"
   },
   {
    "duration": 561,
    "start_time": "2023-02-14T13:38:52.118Z"
   },
   {
    "duration": 676,
    "start_time": "2023-02-14T13:39:06.353Z"
   },
   {
    "duration": 694,
    "start_time": "2023-02-14T13:39:31.076Z"
   },
   {
    "duration": 470,
    "start_time": "2023-02-14T13:41:15.609Z"
   },
   {
    "duration": 380,
    "start_time": "2023-02-14T13:43:00.092Z"
   },
   {
    "duration": 437,
    "start_time": "2023-02-14T13:43:15.675Z"
   },
   {
    "duration": 466,
    "start_time": "2023-02-14T13:43:21.955Z"
   },
   {
    "duration": 563,
    "start_time": "2023-02-14T13:43:29.542Z"
   },
   {
    "duration": 700,
    "start_time": "2023-02-14T13:43:36.394Z"
   },
   {
    "duration": 505,
    "start_time": "2023-02-14T13:44:38.901Z"
   },
   {
    "duration": 464,
    "start_time": "2023-02-14T13:51:17.123Z"
   },
   {
    "duration": 556,
    "start_time": "2023-02-14T13:51:27.630Z"
   },
   {
    "duration": 90,
    "start_time": "2023-02-14T13:53:50.389Z"
   },
   {
    "duration": 12,
    "start_time": "2023-02-14T13:53:54.075Z"
   },
   {
    "duration": 7,
    "start_time": "2023-02-14T13:54:24.613Z"
   },
   {
    "duration": 47,
    "start_time": "2023-02-14T13:54:46.677Z"
   },
   {
    "duration": 43,
    "start_time": "2023-02-14T13:54:54.333Z"
   },
   {
    "duration": 7,
    "start_time": "2023-02-14T13:54:58.122Z"
   },
   {
    "duration": 676,
    "start_time": "2023-02-14T14:01:53.820Z"
   },
   {
    "duration": 719,
    "start_time": "2023-02-14T14:02:01.364Z"
   },
   {
    "duration": 569,
    "start_time": "2023-02-14T15:24:43.403Z"
   },
   {
    "duration": 51,
    "start_time": "2023-02-14T15:24:43.975Z"
   },
   {
    "duration": 2344,
    "start_time": "2023-02-14T15:24:44.028Z"
   },
   {
    "duration": 20,
    "start_time": "2023-02-14T15:24:46.375Z"
   },
   {
    "duration": 9,
    "start_time": "2023-02-14T15:24:46.397Z"
   },
   {
    "duration": 18,
    "start_time": "2023-02-14T15:24:46.408Z"
   },
   {
    "duration": 13,
    "start_time": "2023-02-14T15:24:46.428Z"
   },
   {
    "duration": 9,
    "start_time": "2023-02-14T15:24:46.442Z"
   },
   {
    "duration": 40,
    "start_time": "2023-02-14T15:24:46.453Z"
   },
   {
    "duration": 43,
    "start_time": "2023-02-14T15:24:46.496Z"
   },
   {
    "duration": 35,
    "start_time": "2023-02-14T15:24:46.541Z"
   },
   {
    "duration": 2300,
    "start_time": "2023-02-14T15:24:46.577Z"
   },
   {
    "duration": 42,
    "start_time": "2023-02-14T15:24:48.879Z"
   },
   {
    "duration": 2130,
    "start_time": "2023-02-14T15:24:48.923Z"
   },
   {
    "duration": 259,
    "start_time": "2023-02-14T15:24:51.055Z"
   },
   {
    "duration": 1713,
    "start_time": "2023-02-14T15:24:51.316Z"
   },
   {
    "duration": 140,
    "start_time": "2023-02-14T15:24:53.030Z"
   },
   {
    "duration": 543,
    "start_time": "2023-02-14T15:24:53.171Z"
   },
   {
    "duration": 688,
    "start_time": "2023-02-14T15:24:53.716Z"
   },
   {
    "duration": 26,
    "start_time": "2023-02-14T15:24:54.406Z"
   },
   {
    "duration": 584,
    "start_time": "2023-02-15T13:40:02.164Z"
   },
   {
    "duration": 29,
    "start_time": "2023-02-15T13:40:02.749Z"
   },
   {
    "duration": 2237,
    "start_time": "2023-02-15T13:40:02.779Z"
   },
   {
    "duration": 19,
    "start_time": "2023-02-15T13:40:05.018Z"
   },
   {
    "duration": 9,
    "start_time": "2023-02-15T13:40:05.039Z"
   },
   {
    "duration": 16,
    "start_time": "2023-02-15T13:40:05.050Z"
   },
   {
    "duration": 12,
    "start_time": "2023-02-15T13:40:05.068Z"
   },
   {
    "duration": 9,
    "start_time": "2023-02-15T13:40:05.082Z"
   },
   {
    "duration": 7,
    "start_time": "2023-02-15T13:40:05.093Z"
   },
   {
    "duration": 34,
    "start_time": "2023-02-15T13:40:05.136Z"
   },
   {
    "duration": 29,
    "start_time": "2023-02-15T13:40:05.171Z"
   },
   {
    "duration": 2056,
    "start_time": "2023-02-15T13:40:05.202Z"
   },
   {
    "duration": 32,
    "start_time": "2023-02-15T13:40:07.260Z"
   },
   {
    "duration": 1905,
    "start_time": "2023-02-15T13:40:07.294Z"
   },
   {
    "duration": 240,
    "start_time": "2023-02-15T13:40:09.201Z"
   },
   {
    "duration": 1747,
    "start_time": "2023-02-15T13:40:09.443Z"
   },
   {
    "duration": 155,
    "start_time": "2023-02-15T13:40:11.193Z"
   },
   {
    "duration": 587,
    "start_time": "2023-02-15T13:40:11.350Z"
   },
   {
    "duration": 754,
    "start_time": "2023-02-15T13:40:11.939Z"
   },
   {
    "duration": 25,
    "start_time": "2023-02-15T13:40:12.694Z"
   },
   {
    "duration": 743,
    "start_time": "2023-02-15T13:45:17.450Z"
   },
   {
    "duration": 844,
    "start_time": "2023-02-15T13:45:42.906Z"
   },
   {
    "duration": 745,
    "start_time": "2023-02-15T13:46:04.309Z"
   },
   {
    "duration": 762,
    "start_time": "2023-02-15T14:11:53.229Z"
   },
   {
    "duration": 826,
    "start_time": "2023-02-15T14:12:52.340Z"
   },
   {
    "duration": 918,
    "start_time": "2023-02-15T14:13:43.968Z"
   },
   {
    "duration": 726,
    "start_time": "2023-02-15T14:14:09.989Z"
   },
   {
    "duration": 767,
    "start_time": "2023-02-15T14:15:24.196Z"
   },
   {
    "duration": 970,
    "start_time": "2023-02-15T14:15:41.387Z"
   },
   {
    "duration": 616,
    "start_time": "2023-02-15T14:16:33.311Z"
   },
   {
    "duration": 676,
    "start_time": "2023-02-15T14:17:31.822Z"
   },
   {
    "duration": 813,
    "start_time": "2023-02-15T14:17:51.998Z"
   },
   {
    "duration": 941,
    "start_time": "2023-02-15T14:18:18.933Z"
   },
   {
    "duration": 661,
    "start_time": "2023-02-15T14:18:37.116Z"
   },
   {
    "duration": 671,
    "start_time": "2023-02-15T14:18:46.196Z"
   },
   {
    "duration": 783,
    "start_time": "2023-02-15T14:19:32.295Z"
   },
   {
    "duration": 588,
    "start_time": "2023-02-15T14:20:21.952Z"
   },
   {
    "duration": 473,
    "start_time": "2023-02-15T14:20:29.371Z"
   },
   {
    "duration": 555,
    "start_time": "2023-02-15T14:20:35.585Z"
   },
   {
    "duration": 574,
    "start_time": "2023-02-15T14:20:54.871Z"
   },
   {
    "duration": 75,
    "start_time": "2023-02-15T14:21:44.232Z"
   },
   {
    "duration": 656,
    "start_time": "2023-02-15T14:21:58.487Z"
   },
   {
    "duration": 615,
    "start_time": "2023-02-15T14:22:08.794Z"
   },
   {
    "duration": 649,
    "start_time": "2023-02-15T14:22:16.416Z"
   },
   {
    "duration": 4,
    "start_time": "2023-02-15T14:44:43.313Z"
   },
   {
    "duration": 4,
    "start_time": "2023-02-15T14:44:51.097Z"
   },
   {
    "duration": 5,
    "start_time": "2023-02-15T14:45:07.578Z"
   },
   {
    "duration": 8,
    "start_time": "2023-02-15T14:47:29.781Z"
   },
   {
    "duration": 18,
    "start_time": "2023-02-15T14:47:50.116Z"
   },
   {
    "duration": 14,
    "start_time": "2023-02-15T14:48:19.768Z"
   },
   {
    "duration": 17,
    "start_time": "2023-02-15T14:48:40.283Z"
   },
   {
    "duration": 15,
    "start_time": "2023-02-15T14:54:35.919Z"
   },
   {
    "duration": 11,
    "start_time": "2023-02-15T14:54:48.847Z"
   },
   {
    "duration": 15,
    "start_time": "2023-02-15T14:54:52.029Z"
   },
   {
    "duration": 27,
    "start_time": "2023-02-15T14:55:55.455Z"
   },
   {
    "duration": 26,
    "start_time": "2023-02-15T14:56:09.349Z"
   },
   {
    "duration": 34,
    "start_time": "2023-02-15T14:57:16.756Z"
   },
   {
    "duration": 24,
    "start_time": "2023-02-15T14:57:23.734Z"
   },
   {
    "duration": 23,
    "start_time": "2023-02-15T14:58:35.468Z"
   },
   {
    "duration": 4,
    "start_time": "2023-02-15T15:00:44.244Z"
   },
   {
    "duration": 24,
    "start_time": "2023-02-15T15:03:59.734Z"
   },
   {
    "duration": 17,
    "start_time": "2023-02-15T15:06:53.341Z"
   },
   {
    "duration": 15,
    "start_time": "2023-02-15T15:06:58.432Z"
   },
   {
    "duration": 24,
    "start_time": "2023-02-15T15:07:12.098Z"
   },
   {
    "duration": 38,
    "start_time": "2023-02-15T15:26:38.008Z"
   },
   {
    "duration": 22,
    "start_time": "2023-02-15T15:28:33.374Z"
   },
   {
    "duration": 21,
    "start_time": "2023-02-15T15:28:41.599Z"
   },
   {
    "duration": 17,
    "start_time": "2023-02-15T15:29:27.518Z"
   },
   {
    "duration": 22,
    "start_time": "2023-02-15T15:29:34.560Z"
   },
   {
    "duration": 22,
    "start_time": "2023-02-15T15:29:41.148Z"
   },
   {
    "duration": 22,
    "start_time": "2023-02-15T15:29:45.650Z"
   },
   {
    "duration": 22,
    "start_time": "2023-02-15T15:29:59.274Z"
   },
   {
    "duration": 23,
    "start_time": "2023-02-15T15:30:10.820Z"
   },
   {
    "duration": 21,
    "start_time": "2023-02-15T15:30:23.780Z"
   },
   {
    "duration": 1219,
    "start_time": "2023-02-15T15:31:14.344Z"
   },
   {
    "duration": 23,
    "start_time": "2023-02-15T15:33:06.421Z"
   },
   {
    "duration": 23,
    "start_time": "2023-02-15T15:33:17.596Z"
   },
   {
    "duration": 23,
    "start_time": "2023-02-15T15:33:21.990Z"
   },
   {
    "duration": 21,
    "start_time": "2023-02-15T15:34:01.587Z"
   },
   {
    "duration": 41,
    "start_time": "2023-02-15T15:36:45.250Z"
   },
   {
    "duration": 297,
    "start_time": "2023-02-15T15:39:41.903Z"
   },
   {
    "duration": 176,
    "start_time": "2023-02-15T15:40:09.259Z"
   },
   {
    "duration": 14,
    "start_time": "2023-02-15T15:41:28.659Z"
   },
   {
    "duration": 891,
    "start_time": "2023-02-16T13:51:07.577Z"
   },
   {
    "duration": 38,
    "start_time": "2023-02-16T13:51:08.475Z"
   },
   {
    "duration": 2679,
    "start_time": "2023-02-16T13:51:08.518Z"
   },
   {
    "duration": 26,
    "start_time": "2023-02-16T13:51:11.199Z"
   },
   {
    "duration": 13,
    "start_time": "2023-02-16T13:51:11.227Z"
   },
   {
    "duration": 33,
    "start_time": "2023-02-16T13:51:11.242Z"
   },
   {
    "duration": 29,
    "start_time": "2023-02-16T13:51:11.276Z"
   },
   {
    "duration": 13,
    "start_time": "2023-02-16T13:51:11.307Z"
   },
   {
    "duration": 10,
    "start_time": "2023-02-16T13:51:11.323Z"
   },
   {
    "duration": 68,
    "start_time": "2023-02-16T13:51:11.335Z"
   },
   {
    "duration": 35,
    "start_time": "2023-02-16T13:51:11.407Z"
   },
   {
    "duration": 2483,
    "start_time": "2023-02-16T13:51:11.449Z"
   },
   {
    "duration": 55,
    "start_time": "2023-02-16T13:51:13.934Z"
   },
   {
    "duration": 2320,
    "start_time": "2023-02-16T13:51:13.991Z"
   },
   {
    "duration": 308,
    "start_time": "2023-02-16T13:51:16.312Z"
   },
   {
    "duration": 1968,
    "start_time": "2023-02-16T13:51:16.622Z"
   },
   {
    "duration": 165,
    "start_time": "2023-02-16T13:51:18.593Z"
   },
   {
    "duration": 640,
    "start_time": "2023-02-16T13:51:18.759Z"
   },
   {
    "duration": 840,
    "start_time": "2023-02-16T13:51:19.400Z"
   },
   {
    "duration": 36,
    "start_time": "2023-02-16T13:51:20.242Z"
   },
   {
    "duration": 109,
    "start_time": "2023-02-16T13:51:20.282Z"
   },
   {
    "duration": 179,
    "start_time": "2023-02-16T14:36:56.801Z"
   },
   {
    "duration": 110,
    "start_time": "2023-02-16T14:37:43.464Z"
   },
   {
    "duration": 186,
    "start_time": "2023-02-16T15:07:46.443Z"
   },
   {
    "duration": 89,
    "start_time": "2023-02-16T15:16:06.291Z"
   },
   {
    "duration": 16,
    "start_time": "2023-02-16T15:16:12.468Z"
   },
   {
    "duration": 23,
    "start_time": "2023-02-16T15:16:26.668Z"
   },
   {
    "duration": 5,
    "start_time": "2023-02-16T15:16:38.259Z"
   },
   {
    "duration": 87,
    "start_time": "2023-02-16T15:25:02.916Z"
   },
   {
    "duration": 276,
    "start_time": "2023-02-16T15:25:05.465Z"
   },
   {
    "duration": 110,
    "start_time": "2023-02-16T15:25:09.984Z"
   },
   {
    "duration": 28,
    "start_time": "2023-02-16T15:25:17.792Z"
   },
   {
    "duration": 106,
    "start_time": "2023-02-16T15:25:52.886Z"
   },
   {
    "duration": 2168,
    "start_time": "2023-02-16T15:26:04.016Z"
   },
   {
    "duration": 1988,
    "start_time": "2023-02-16T15:26:18.872Z"
   },
   {
    "duration": 40,
    "start_time": "2023-02-16T15:28:43.596Z"
   },
   {
    "duration": 28,
    "start_time": "2023-02-16T15:29:00.971Z"
   },
   {
    "duration": 27,
    "start_time": "2023-02-16T15:29:10.298Z"
   },
   {
    "duration": 525,
    "start_time": "2023-02-18T11:14:28.475Z"
   },
   {
    "duration": 2405,
    "start_time": "2023-02-18T11:14:29.002Z"
   },
   {
    "duration": 6,
    "start_time": "2023-02-18T11:14:31.410Z"
   },
   {
    "duration": 23,
    "start_time": "2023-02-18T11:14:31.418Z"
   },
   {
    "duration": 12,
    "start_time": "2023-02-18T11:14:31.443Z"
   },
   {
    "duration": 20,
    "start_time": "2023-02-18T11:14:31.456Z"
   },
   {
    "duration": 9,
    "start_time": "2023-02-18T11:14:31.478Z"
   },
   {
    "duration": 9,
    "start_time": "2023-02-18T11:14:31.489Z"
   },
   {
    "duration": 8,
    "start_time": "2023-02-18T11:14:31.500Z"
   },
   {
    "duration": 40,
    "start_time": "2023-02-18T11:14:31.527Z"
   },
   {
    "duration": 33,
    "start_time": "2023-02-18T11:14:31.570Z"
   },
   {
    "duration": 2237,
    "start_time": "2023-02-18T11:14:31.604Z"
   },
   {
    "duration": 33,
    "start_time": "2023-02-18T11:14:33.843Z"
   },
   {
    "duration": 2059,
    "start_time": "2023-02-18T11:14:33.877Z"
   },
   {
    "duration": 233,
    "start_time": "2023-02-18T11:14:35.937Z"
   },
   {
    "duration": 1714,
    "start_time": "2023-02-18T11:14:36.172Z"
   },
   {
    "duration": 145,
    "start_time": "2023-02-18T11:14:37.888Z"
   },
   {
    "duration": 557,
    "start_time": "2023-02-18T11:14:38.034Z"
   },
   {
    "duration": 680,
    "start_time": "2023-02-18T11:14:38.593Z"
   },
   {
    "duration": 23,
    "start_time": "2023-02-18T11:14:39.275Z"
   },
   {
    "duration": 162,
    "start_time": "2023-02-18T11:14:39.299Z"
   },
   {
    "duration": 543,
    "start_time": "2023-02-18T11:28:01.564Z"
   },
   {
    "duration": 864,
    "start_time": "2023-02-18T11:28:49.610Z"
   },
   {
    "duration": 563,
    "start_time": "2023-02-20T15:22:37.296Z"
   },
   {
    "duration": 2572,
    "start_time": "2023-02-20T15:22:37.861Z"
   },
   {
    "duration": 7,
    "start_time": "2023-02-20T15:22:40.435Z"
   },
   {
    "duration": 23,
    "start_time": "2023-02-20T15:22:40.444Z"
   },
   {
    "duration": 10,
    "start_time": "2023-02-20T15:22:40.469Z"
   },
   {
    "duration": 16,
    "start_time": "2023-02-20T15:22:40.481Z"
   },
   {
    "duration": 44,
    "start_time": "2023-02-20T15:22:40.499Z"
   },
   {
    "duration": 9,
    "start_time": "2023-02-20T15:22:40.545Z"
   },
   {
    "duration": 11,
    "start_time": "2023-02-20T15:22:40.555Z"
   },
   {
    "duration": 44,
    "start_time": "2023-02-20T15:22:40.569Z"
   },
   {
    "duration": 2215,
    "start_time": "2023-02-20T15:22:40.615Z"
   },
   {
    "duration": 34,
    "start_time": "2023-02-20T15:22:42.840Z"
   },
   {
    "duration": 2134,
    "start_time": "2023-02-20T15:22:42.876Z"
   },
   {
    "duration": 262,
    "start_time": "2023-02-20T15:22:45.012Z"
   },
   {
    "duration": 1698,
    "start_time": "2023-02-20T15:22:45.276Z"
   },
   {
    "duration": 169,
    "start_time": "2023-02-20T15:22:46.975Z"
   },
   {
    "duration": 601,
    "start_time": "2023-02-20T15:22:47.146Z"
   },
   {
    "duration": 754,
    "start_time": "2023-02-20T15:22:47.750Z"
   },
   {
    "duration": 38,
    "start_time": "2023-02-20T15:22:48.506Z"
   },
   {
    "duration": 163,
    "start_time": "2023-02-20T15:22:48.546Z"
   },
   {
    "duration": 167,
    "start_time": "2023-02-20T15:30:12.557Z"
   },
   {
    "duration": 481,
    "start_time": "2023-02-20T15:34:32.292Z"
   },
   {
    "duration": 2366,
    "start_time": "2023-02-20T15:34:32.775Z"
   },
   {
    "duration": 7,
    "start_time": "2023-02-20T15:34:35.146Z"
   },
   {
    "duration": 25,
    "start_time": "2023-02-20T15:34:35.156Z"
   },
   {
    "duration": 12,
    "start_time": "2023-02-20T15:34:35.183Z"
   },
   {
    "duration": 41,
    "start_time": "2023-02-20T15:34:35.197Z"
   },
   {
    "duration": 11,
    "start_time": "2023-02-20T15:34:35.240Z"
   },
   {
    "duration": 10,
    "start_time": "2023-02-20T15:34:35.253Z"
   },
   {
    "duration": 6,
    "start_time": "2023-02-20T15:34:35.265Z"
   },
   {
    "duration": 51,
    "start_time": "2023-02-20T15:34:35.273Z"
   },
   {
    "duration": 2312,
    "start_time": "2023-02-20T15:34:35.340Z"
   },
   {
    "duration": 36,
    "start_time": "2023-02-20T15:34:37.655Z"
   },
   {
    "duration": 2315,
    "start_time": "2023-02-20T15:34:37.693Z"
   },
   {
    "duration": 273,
    "start_time": "2023-02-20T15:34:40.011Z"
   },
   {
    "duration": 1819,
    "start_time": "2023-02-20T15:34:40.286Z"
   },
   {
    "duration": 149,
    "start_time": "2023-02-20T15:34:42.107Z"
   },
   {
    "duration": 574,
    "start_time": "2023-02-20T15:34:42.258Z"
   },
   {
    "duration": 727,
    "start_time": "2023-02-20T15:34:42.834Z"
   },
   {
    "duration": 26,
    "start_time": "2023-02-20T15:34:43.563Z"
   },
   {
    "duration": 168,
    "start_time": "2023-02-20T15:34:43.590Z"
   },
   {
    "duration": 10,
    "start_time": "2023-02-20T15:42:32.764Z"
   },
   {
    "duration": 2566,
    "start_time": "2023-02-20T15:42:40.101Z"
   },
   {
    "duration": 19,
    "start_time": "2023-02-20T15:47:11.419Z"
   },
   {
    "duration": 90,
    "start_time": "2023-02-20T15:47:18.508Z"
   },
   {
    "duration": 2071,
    "start_time": "2023-02-20T15:47:19.975Z"
   },
   {
    "duration": 5,
    "start_time": "2023-02-20T15:47:26.137Z"
   },
   {
    "duration": 21,
    "start_time": "2023-02-20T15:47:29.682Z"
   },
   {
    "duration": 10,
    "start_time": "2023-02-20T15:47:32.369Z"
   },
   {
    "duration": 51,
    "start_time": "2023-02-20T15:47:35.872Z"
   },
   {
    "duration": 44,
    "start_time": "2023-02-20T15:48:05.049Z"
   },
   {
    "duration": 29,
    "start_time": "2023-02-20T15:48:19.430Z"
   },
   {
    "duration": 14,
    "start_time": "2023-02-20T15:49:04.267Z"
   },
   {
    "duration": 11,
    "start_time": "2023-02-20T15:49:45.529Z"
   },
   {
    "duration": 20,
    "start_time": "2023-02-20T15:54:36.792Z"
   },
   {
    "duration": 8,
    "start_time": "2023-02-20T15:55:13.762Z"
   },
   {
    "duration": 2051,
    "start_time": "2023-02-20T15:59:56.469Z"
   },
   {
    "duration": 90,
    "start_time": "2023-02-20T16:03:43.096Z"
   },
   {
    "duration": 2147,
    "start_time": "2023-02-20T16:03:44.633Z"
   },
   {
    "duration": 5,
    "start_time": "2023-02-20T16:03:50.471Z"
   },
   {
    "duration": 20,
    "start_time": "2023-02-20T16:03:55.818Z"
   },
   {
    "duration": 41,
    "start_time": "2023-02-20T16:04:14.705Z"
   },
   {
    "duration": 10,
    "start_time": "2023-02-20T16:04:25.876Z"
   },
   {
    "duration": 10,
    "start_time": "2023-02-20T16:05:23.548Z"
   },
   {
    "duration": 29,
    "start_time": "2023-02-20T16:05:26.675Z"
   },
   {
    "duration": 18,
    "start_time": "2023-02-20T16:05:29.077Z"
   },
   {
    "duration": 15,
    "start_time": "2023-02-20T16:05:30.762Z"
   },
   {
    "duration": 14,
    "start_time": "2023-02-20T16:05:32.853Z"
   },
   {
    "duration": 10,
    "start_time": "2023-02-20T16:05:34.613Z"
   },
   {
    "duration": 57,
    "start_time": "2023-02-20T16:05:36.591Z"
   },
   {
    "duration": 2126,
    "start_time": "2023-02-20T16:05:39.271Z"
   },
   {
    "duration": 35,
    "start_time": "2023-02-20T16:07:02.203Z"
   },
   {
    "duration": 34,
    "start_time": "2023-02-20T16:07:39.956Z"
   },
   {
    "duration": 96,
    "start_time": "2023-02-20T16:09:04.750Z"
   },
   {
    "duration": 2218,
    "start_time": "2023-02-20T16:09:06.241Z"
   },
   {
    "duration": 4,
    "start_time": "2023-02-20T16:09:15.286Z"
   },
   {
    "duration": 18,
    "start_time": "2023-02-20T16:09:17.435Z"
   },
   {
    "duration": 11,
    "start_time": "2023-02-20T16:09:20.577Z"
   },
   {
    "duration": 34,
    "start_time": "2023-02-20T16:09:22.075Z"
   },
   {
    "duration": 14,
    "start_time": "2023-02-20T16:09:24.450Z"
   },
   {
    "duration": 10,
    "start_time": "2023-02-20T16:09:26.124Z"
   },
   {
    "duration": 11,
    "start_time": "2023-02-20T16:09:28.680Z"
   },
   {
    "duration": 12,
    "start_time": "2023-02-20T16:09:32.766Z"
   },
   {
    "duration": 46,
    "start_time": "2023-02-20T16:09:36.476Z"
   },
   {
    "duration": 2199,
    "start_time": "2023-02-20T16:09:39.368Z"
   },
   {
    "duration": 35,
    "start_time": "2023-02-20T16:09:46.696Z"
   },
   {
    "duration": 2216,
    "start_time": "2023-02-20T16:12:00.469Z"
   },
   {
    "duration": 48,
    "start_time": "2023-02-20T16:13:47.308Z"
   },
   {
    "duration": 39,
    "start_time": "2023-02-20T16:13:56.343Z"
   },
   {
    "duration": 79,
    "start_time": "2023-02-20T16:14:34.896Z"
   },
   {
    "duration": 15,
    "start_time": "2023-02-20T16:14:38.345Z"
   },
   {
    "duration": 16,
    "start_time": "2023-02-20T16:14:44.763Z"
   },
   {
    "duration": 17,
    "start_time": "2023-02-20T16:20:42.399Z"
   },
   {
    "duration": 14,
    "start_time": "2023-02-20T16:20:53.782Z"
   },
   {
    "duration": 246,
    "start_time": "2023-02-20T16:21:02.868Z"
   },
   {
    "duration": 1753,
    "start_time": "2023-02-20T16:21:04.926Z"
   },
   {
    "duration": 1742,
    "start_time": "2023-02-20T16:21:14.213Z"
   },
   {
    "duration": 134,
    "start_time": "2023-02-20T16:22:25.792Z"
   },
   {
    "duration": 1628,
    "start_time": "2023-02-20T16:22:50.374Z"
   },
   {
    "duration": 13,
    "start_time": "2023-02-20T16:23:04.352Z"
   },
   {
    "duration": 14,
    "start_time": "2023-02-20T16:23:07.432Z"
   },
   {
    "duration": 1867,
    "start_time": "2023-02-20T16:23:25.314Z"
   },
   {
    "duration": 128,
    "start_time": "2023-02-20T16:23:39.266Z"
   },
   {
    "duration": 130,
    "start_time": "2023-02-20T16:23:45.037Z"
   },
   {
    "duration": 202,
    "start_time": "2023-02-20T16:24:01.101Z"
   },
   {
    "duration": 240,
    "start_time": "2023-02-20T16:24:05.834Z"
   },
   {
    "duration": 503,
    "start_time": "2023-02-21T15:32:29.382Z"
   },
   {
    "duration": 2492,
    "start_time": "2023-02-21T15:32:29.887Z"
   },
   {
    "duration": 6,
    "start_time": "2023-02-21T15:32:32.381Z"
   },
   {
    "duration": 19,
    "start_time": "2023-02-21T15:32:32.389Z"
   },
   {
    "duration": 9,
    "start_time": "2023-02-21T15:32:32.409Z"
   },
   {
    "duration": 33,
    "start_time": "2023-02-21T15:32:32.419Z"
   },
   {
    "duration": 14,
    "start_time": "2023-02-21T15:32:32.454Z"
   },
   {
    "duration": 15,
    "start_time": "2023-02-21T15:32:32.470Z"
   },
   {
    "duration": 9,
    "start_time": "2023-02-21T15:32:32.486Z"
   },
   {
    "duration": 6,
    "start_time": "2023-02-21T15:32:32.497Z"
   },
   {
    "duration": 61,
    "start_time": "2023-02-21T15:32:32.505Z"
   },
   {
    "duration": 2146,
    "start_time": "2023-02-21T15:32:32.567Z"
   },
   {
    "duration": 39,
    "start_time": "2023-02-21T15:32:34.715Z"
   },
   {
    "duration": 2019,
    "start_time": "2023-02-21T15:32:34.755Z"
   },
   {
    "duration": 253,
    "start_time": "2023-02-21T15:32:36.775Z"
   },
   {
    "duration": 1741,
    "start_time": "2023-02-21T15:32:37.031Z"
   },
   {
    "duration": 125,
    "start_time": "2023-02-21T15:32:38.773Z"
   },
   {
    "duration": 149,
    "start_time": "2023-02-21T15:32:38.900Z"
   },
   {
    "duration": 553,
    "start_time": "2023-02-21T15:32:39.050Z"
   },
   {
    "duration": 686,
    "start_time": "2023-02-21T15:32:39.605Z"
   },
   {
    "duration": 40,
    "start_time": "2023-02-21T15:32:40.293Z"
   },
   {
    "duration": 199,
    "start_time": "2023-02-21T15:32:40.335Z"
   },
   {
    "duration": 771,
    "start_time": "2023-02-21T16:34:08.312Z"
   },
   {
    "duration": 662,
    "start_time": "2023-02-21T16:34:33.666Z"
   },
   {
    "duration": 705,
    "start_time": "2023-02-21T16:35:02.050Z"
   },
   {
    "duration": 705,
    "start_time": "2023-02-21T16:35:50.692Z"
   },
   {
    "duration": 520,
    "start_time": "2023-02-21T18:11:30.353Z"
   },
   {
    "duration": 2629,
    "start_time": "2023-02-21T18:11:30.874Z"
   },
   {
    "duration": 8,
    "start_time": "2023-02-21T18:11:33.505Z"
   },
   {
    "duration": 39,
    "start_time": "2023-02-21T18:11:33.515Z"
   },
   {
    "duration": 9,
    "start_time": "2023-02-21T18:11:33.556Z"
   },
   {
    "duration": 38,
    "start_time": "2023-02-21T18:11:33.567Z"
   },
   {
    "duration": 22,
    "start_time": "2023-02-21T18:11:33.607Z"
   },
   {
    "duration": 10,
    "start_time": "2023-02-21T18:11:33.631Z"
   },
   {
    "duration": 15,
    "start_time": "2023-02-21T18:11:33.642Z"
   },
   {
    "duration": 9,
    "start_time": "2023-02-21T18:11:33.663Z"
   },
   {
    "duration": 64,
    "start_time": "2023-02-21T18:11:33.674Z"
   },
   {
    "duration": 2649,
    "start_time": "2023-02-21T18:11:33.741Z"
   },
   {
    "duration": 53,
    "start_time": "2023-02-21T18:11:36.392Z"
   },
   {
    "duration": 2441,
    "start_time": "2023-02-21T18:11:36.447Z"
   },
   {
    "duration": 289,
    "start_time": "2023-02-21T18:11:38.890Z"
   },
   {
    "duration": 2025,
    "start_time": "2023-02-21T18:11:39.180Z"
   },
   {
    "duration": 160,
    "start_time": "2023-02-21T18:11:41.207Z"
   },
   {
    "duration": 184,
    "start_time": "2023-02-21T18:11:41.369Z"
   },
   {
    "duration": 654,
    "start_time": "2023-02-21T18:11:41.555Z"
   },
   {
    "duration": 826,
    "start_time": "2023-02-21T18:11:42.211Z"
   },
   {
    "duration": 29,
    "start_time": "2023-02-21T18:11:43.038Z"
   },
   {
    "duration": 178,
    "start_time": "2023-02-21T18:11:43.069Z"
   },
   {
    "duration": 565,
    "start_time": "2023-02-21T21:16:30.387Z"
   },
   {
    "duration": 2166,
    "start_time": "2023-02-21T21:16:30.954Z"
   },
   {
    "duration": 7,
    "start_time": "2023-02-21T21:16:33.122Z"
   },
   {
    "duration": 25,
    "start_time": "2023-02-21T21:16:33.130Z"
   },
   {
    "duration": 10,
    "start_time": "2023-02-21T21:16:33.157Z"
   },
   {
    "duration": 58,
    "start_time": "2023-02-21T21:16:33.168Z"
   },
   {
    "duration": 17,
    "start_time": "2023-02-21T21:16:33.228Z"
   },
   {
    "duration": 12,
    "start_time": "2023-02-21T21:16:33.246Z"
   },
   {
    "duration": 9,
    "start_time": "2023-02-21T21:16:33.260Z"
   },
   {
    "duration": 32,
    "start_time": "2023-02-21T21:16:33.271Z"
   },
   {
    "duration": 38,
    "start_time": "2023-02-21T21:16:33.305Z"
   },
   {
    "duration": 2171,
    "start_time": "2023-02-21T21:16:33.345Z"
   },
   {
    "duration": 34,
    "start_time": "2023-02-21T21:16:35.517Z"
   },
   {
    "duration": 2024,
    "start_time": "2023-02-21T21:16:35.554Z"
   },
   {
    "duration": 238,
    "start_time": "2023-02-21T21:16:37.580Z"
   },
   {
    "duration": 1633,
    "start_time": "2023-02-21T21:16:37.819Z"
   },
   {
    "duration": 133,
    "start_time": "2023-02-21T21:16:39.453Z"
   },
   {
    "duration": 144,
    "start_time": "2023-02-21T21:16:39.587Z"
   },
   {
    "duration": 531,
    "start_time": "2023-02-21T21:16:39.733Z"
   },
   {
    "duration": 685,
    "start_time": "2023-02-21T21:16:40.266Z"
   },
   {
    "duration": 22,
    "start_time": "2023-02-21T21:16:40.953Z"
   },
   {
    "duration": 151,
    "start_time": "2023-02-21T21:16:40.976Z"
   },
   {
    "duration": 22,
    "start_time": "2023-02-21T21:17:34.699Z"
   },
   {
    "duration": 145,
    "start_time": "2023-02-21T21:20:04.510Z"
   },
   {
    "duration": 679,
    "start_time": "2023-02-23T03:26:25.906Z"
   },
   {
    "duration": 2282,
    "start_time": "2023-02-23T03:26:27.639Z"
   },
   {
    "duration": 7,
    "start_time": "2023-02-23T03:26:45.468Z"
   },
   {
    "duration": 82,
    "start_time": "2023-02-23T03:26:52.112Z"
   },
   {
    "duration": 27,
    "start_time": "2023-02-23T03:26:55.943Z"
   },
   {
    "duration": 8,
    "start_time": "2023-02-23T03:27:50.972Z"
   },
   {
    "duration": 9,
    "start_time": "2023-02-23T03:27:57.001Z"
   },
   {
    "duration": 22,
    "start_time": "2023-02-23T03:27:59.854Z"
   },
   {
    "duration": 22,
    "start_time": "2023-02-23T03:28:04.198Z"
   },
   {
    "duration": 26,
    "start_time": "2023-02-23T03:28:13.563Z"
   },
   {
    "duration": 81,
    "start_time": "2023-02-23T03:28:31.074Z"
   },
   {
    "duration": 45,
    "start_time": "2023-02-23T03:28:46.285Z"
   },
   {
    "duration": 50,
    "start_time": "2023-02-23T03:37:58.996Z"
   },
   {
    "duration": 143,
    "start_time": "2023-02-23T03:38:05.062Z"
   },
   {
    "duration": 10,
    "start_time": "2023-02-23T03:45:31.740Z"
   },
   {
    "duration": 120,
    "start_time": "2023-02-23T03:45:46.707Z"
   },
   {
    "duration": 123,
    "start_time": "2023-02-23T03:46:06.490Z"
   },
   {
    "duration": 121,
    "start_time": "2023-02-23T03:47:56.565Z"
   },
   {
    "duration": 106,
    "start_time": "2023-02-23T03:48:16.607Z"
   },
   {
    "duration": 195,
    "start_time": "2023-02-23T03:48:23.985Z"
   },
   {
    "duration": 6,
    "start_time": "2023-02-23T03:56:23.164Z"
   },
   {
    "duration": 10,
    "start_time": "2023-02-23T03:56:51.829Z"
   },
   {
    "duration": 5,
    "start_time": "2023-02-23T03:57:09.635Z"
   },
   {
    "duration": 13,
    "start_time": "2023-02-23T03:57:35.497Z"
   },
   {
    "duration": 7,
    "start_time": "2023-02-23T03:57:48.696Z"
   },
   {
    "duration": 7,
    "start_time": "2023-02-23T03:57:58.441Z"
   },
   {
    "duration": 7,
    "start_time": "2023-02-23T03:58:15.867Z"
   },
   {
    "duration": 448,
    "start_time": "2023-02-23T03:59:59.321Z"
   },
   {
    "duration": 977,
    "start_time": "2023-02-23T04:00:17.709Z"
   },
   {
    "duration": 6,
    "start_time": "2023-02-23T04:01:41.781Z"
   },
   {
    "duration": 8,
    "start_time": "2023-02-23T04:01:55.530Z"
   },
   {
    "duration": 7,
    "start_time": "2023-02-23T04:02:05.463Z"
   },
   {
    "duration": 521,
    "start_time": "2023-02-23T04:02:17.042Z"
   },
   {
    "duration": 2280,
    "start_time": "2023-02-23T04:02:17.565Z"
   },
   {
    "duration": 7,
    "start_time": "2023-02-23T04:02:19.846Z"
   },
   {
    "duration": 47,
    "start_time": "2023-02-23T04:02:19.854Z"
   },
   {
    "duration": 18,
    "start_time": "2023-02-23T04:02:19.903Z"
   },
   {
    "duration": 26,
    "start_time": "2023-02-23T04:02:19.923Z"
   },
   {
    "duration": 28,
    "start_time": "2023-02-23T04:02:19.951Z"
   },
   {
    "duration": 13,
    "start_time": "2023-02-23T04:02:19.981Z"
   },
   {
    "duration": 10,
    "start_time": "2023-02-23T04:02:19.997Z"
   },
   {
    "duration": 9,
    "start_time": "2023-02-23T04:02:20.009Z"
   },
   {
    "duration": 33,
    "start_time": "2023-02-23T04:02:20.021Z"
   },
   {
    "duration": 49,
    "start_time": "2023-02-23T04:02:20.056Z"
   },
   {
    "duration": 2189,
    "start_time": "2023-02-23T04:02:20.106Z"
   },
   {
    "duration": 31,
    "start_time": "2023-02-23T04:02:22.298Z"
   },
   {
    "duration": 2086,
    "start_time": "2023-02-23T04:02:22.331Z"
   },
   {
    "duration": 248,
    "start_time": "2023-02-23T04:02:24.418Z"
   },
   {
    "duration": 1635,
    "start_time": "2023-02-23T04:02:24.668Z"
   },
   {
    "duration": 180,
    "start_time": "2023-02-23T04:02:26.305Z"
   },
   {
    "duration": 188,
    "start_time": "2023-02-23T04:02:26.487Z"
   },
   {
    "duration": 160,
    "start_time": "2023-02-23T04:02:26.677Z"
   },
   {
    "duration": 551,
    "start_time": "2023-02-23T04:02:26.839Z"
   },
   {
    "duration": 7,
    "start_time": "2023-02-23T04:02:27.392Z"
   },
   {
    "duration": 698,
    "start_time": "2023-02-23T04:02:27.401Z"
   },
   {
    "duration": 27,
    "start_time": "2023-02-23T04:02:28.101Z"
   },
   {
    "duration": 178,
    "start_time": "2023-02-23T04:02:28.130Z"
   },
   {
    "duration": 120,
    "start_time": "2023-02-23T04:15:56.757Z"
   },
   {
    "duration": 239,
    "start_time": "2023-02-23T04:16:05.509Z"
   },
   {
    "duration": 110,
    "start_time": "2023-02-23T04:16:13.106Z"
   },
   {
    "duration": 48,
    "start_time": "2023-02-23T04:16:18.618Z"
   },
   {
    "duration": 112,
    "start_time": "2023-02-23T04:16:21.373Z"
   },
   {
    "duration": 106,
    "start_time": "2023-02-23T04:16:49.887Z"
   },
   {
    "duration": 148,
    "start_time": "2023-02-23T04:16:56.381Z"
   },
   {
    "duration": 111,
    "start_time": "2023-02-23T04:17:07.548Z"
   },
   {
    "duration": 112,
    "start_time": "2023-02-23T04:17:57.565Z"
   },
   {
    "duration": 116,
    "start_time": "2023-02-23T04:18:16.420Z"
   },
   {
    "duration": 123,
    "start_time": "2023-02-23T04:18:24.356Z"
   },
   {
    "duration": 194,
    "start_time": "2023-02-23T04:19:06.290Z"
   },
   {
    "duration": 160,
    "start_time": "2023-02-23T04:19:19.183Z"
   },
   {
    "duration": 216,
    "start_time": "2023-02-23T04:19:22.448Z"
   },
   {
    "duration": 675,
    "start_time": "2023-02-23T07:58:06.174Z"
   },
   {
    "duration": 2165,
    "start_time": "2023-02-23T07:58:06.850Z"
   },
   {
    "duration": 7,
    "start_time": "2023-02-23T07:58:09.017Z"
   },
   {
    "duration": 46,
    "start_time": "2023-02-23T07:58:09.027Z"
   },
   {
    "duration": 17,
    "start_time": "2023-02-23T07:58:09.075Z"
   },
   {
    "duration": 9,
    "start_time": "2023-02-23T07:58:09.094Z"
   },
   {
    "duration": 51,
    "start_time": "2023-02-23T07:58:09.105Z"
   },
   {
    "duration": 12,
    "start_time": "2023-02-23T07:58:09.157Z"
   },
   {
    "duration": 9,
    "start_time": "2023-02-23T07:58:09.171Z"
   },
   {
    "duration": 10,
    "start_time": "2023-02-23T07:58:09.182Z"
   },
   {
    "duration": 6,
    "start_time": "2023-02-23T07:58:09.194Z"
   },
   {
    "duration": 69,
    "start_time": "2023-02-23T07:58:09.201Z"
   },
   {
    "duration": 1976,
    "start_time": "2023-02-23T07:58:09.272Z"
   },
   {
    "duration": 29,
    "start_time": "2023-02-23T07:58:11.250Z"
   },
   {
    "duration": 2027,
    "start_time": "2023-02-23T07:58:11.281Z"
   },
   {
    "duration": 255,
    "start_time": "2023-02-23T07:58:13.309Z"
   },
   {
    "duration": 1758,
    "start_time": "2023-02-23T07:58:13.567Z"
   },
   {
    "duration": 157,
    "start_time": "2023-02-23T07:58:15.327Z"
   },
   {
    "duration": 116,
    "start_time": "2023-02-23T07:58:15.486Z"
   },
   {
    "duration": 129,
    "start_time": "2023-02-23T07:58:15.604Z"
   },
   {
    "duration": 524,
    "start_time": "2023-02-23T07:58:15.735Z"
   },
   {
    "duration": 6,
    "start_time": "2023-02-23T07:58:16.261Z"
   },
   {
    "duration": 649,
    "start_time": "2023-02-23T07:58:16.269Z"
   },
   {
    "duration": 57,
    "start_time": "2023-02-23T07:58:16.920Z"
   },
   {
    "duration": 177,
    "start_time": "2023-02-23T07:58:16.979Z"
   },
   {
    "duration": 510,
    "start_time": "2023-02-23T08:03:45.403Z"
   },
   {
    "duration": 462,
    "start_time": "2023-02-23T08:03:50.334Z"
   },
   {
    "duration": 507,
    "start_time": "2023-02-23T08:04:48.014Z"
   },
   {
    "duration": 413,
    "start_time": "2023-02-23T08:04:53.670Z"
   },
   {
    "duration": 97,
    "start_time": "2023-02-23T08:06:45.743Z"
   },
   {
    "duration": 47,
    "start_time": "2023-02-23T08:06:50.475Z"
   },
   {
    "duration": 295,
    "start_time": "2023-02-23T08:06:53.621Z"
   },
   {
    "duration": 201,
    "start_time": "2023-02-23T08:07:09.781Z"
   },
   {
    "duration": 399,
    "start_time": "2023-02-23T08:31:11.618Z"
   },
   {
    "duration": 246,
    "start_time": "2023-02-23T08:31:16.759Z"
   },
   {
    "duration": 306,
    "start_time": "2023-02-23T08:31:25.057Z"
   },
   {
    "duration": 262,
    "start_time": "2023-02-23T08:31:30.127Z"
   },
   {
    "duration": 348,
    "start_time": "2023-02-23T08:31:52.015Z"
   },
   {
    "duration": 458,
    "start_time": "2023-02-23T08:32:02.699Z"
   },
   {
    "duration": 373,
    "start_time": "2023-02-23T08:32:39.016Z"
   },
   {
    "duration": 402,
    "start_time": "2023-02-23T08:32:57.183Z"
   },
   {
    "duration": 304,
    "start_time": "2023-02-23T08:33:01.180Z"
   },
   {
    "duration": 369,
    "start_time": "2023-02-23T08:33:04.405Z"
   },
   {
    "duration": 368,
    "start_time": "2023-02-23T08:33:52.875Z"
   },
   {
    "duration": 466,
    "start_time": "2023-02-23T08:33:59.245Z"
   },
   {
    "duration": 306,
    "start_time": "2023-02-23T08:34:10.171Z"
   },
   {
    "duration": 155,
    "start_time": "2023-02-23T08:40:42.451Z"
   },
   {
    "duration": 234,
    "start_time": "2023-02-23T08:40:58.625Z"
   },
   {
    "duration": 158,
    "start_time": "2023-02-23T08:41:07.984Z"
   },
   {
    "duration": 138,
    "start_time": "2023-02-23T08:41:13.215Z"
   },
   {
    "duration": 161,
    "start_time": "2023-02-23T08:41:18.147Z"
   },
   {
    "duration": 125,
    "start_time": "2023-02-23T08:41:23.738Z"
   },
   {
    "duration": 141,
    "start_time": "2023-02-23T08:41:28.493Z"
   },
   {
    "duration": 173,
    "start_time": "2023-02-23T08:41:35.039Z"
   },
   {
    "duration": 243,
    "start_time": "2023-02-23T08:41:52.618Z"
   },
   {
    "duration": 154,
    "start_time": "2023-02-23T08:41:58.196Z"
   },
   {
    "duration": 151,
    "start_time": "2023-02-23T08:42:04.547Z"
   },
   {
    "duration": 155,
    "start_time": "2023-02-23T08:43:30.375Z"
   },
   {
    "duration": 135,
    "start_time": "2023-02-23T08:43:39.442Z"
   },
   {
    "duration": 269,
    "start_time": "2023-02-23T08:44:07.294Z"
   },
   {
    "duration": 142,
    "start_time": "2023-02-23T08:44:14.911Z"
   },
   {
    "duration": 134,
    "start_time": "2023-02-23T08:44:18.005Z"
   },
   {
    "duration": 152,
    "start_time": "2023-02-23T08:44:24.049Z"
   },
   {
    "duration": 377,
    "start_time": "2023-02-23T08:44:27.083Z"
   },
   {
    "duration": 241,
    "start_time": "2023-02-23T08:44:33.746Z"
   },
   {
    "duration": 325,
    "start_time": "2023-02-23T08:46:24.945Z"
   },
   {
    "duration": 286,
    "start_time": "2023-02-23T08:46:38.882Z"
   },
   {
    "duration": 330,
    "start_time": "2023-02-23T08:46:41.538Z"
   },
   {
    "duration": 207,
    "start_time": "2023-02-23T08:46:49.670Z"
   },
   {
    "duration": 344,
    "start_time": "2023-02-23T08:46:54.043Z"
   },
   {
    "duration": 298,
    "start_time": "2023-02-23T08:46:57.192Z"
   },
   {
    "duration": 210,
    "start_time": "2023-02-23T08:48:44.923Z"
   },
   {
    "duration": 363,
    "start_time": "2023-02-23T08:49:03.130Z"
   },
   {
    "duration": 290,
    "start_time": "2023-02-23T08:49:09.971Z"
   },
   {
    "duration": 307,
    "start_time": "2023-02-23T08:49:21.285Z"
   },
   {
    "duration": 45,
    "start_time": "2023-02-23T08:52:45.998Z"
   },
   {
    "duration": 44,
    "start_time": "2023-02-23T08:53:09.035Z"
   },
   {
    "duration": 2100,
    "start_time": "2023-02-23T08:53:19.576Z"
   },
   {
    "duration": 147,
    "start_time": "2023-02-23T08:53:29.972Z"
   },
   {
    "duration": 74,
    "start_time": "2023-02-23T08:53:47.979Z"
   },
   {
    "duration": 49,
    "start_time": "2023-02-23T08:53:56.121Z"
   },
   {
    "duration": 175,
    "start_time": "2023-02-23T08:54:09.805Z"
   },
   {
    "duration": 471,
    "start_time": "2023-02-23T08:54:20.599Z"
   },
   {
    "duration": 439,
    "start_time": "2023-02-23T08:54:37.524Z"
   },
   {
    "duration": 339,
    "start_time": "2023-02-23T08:55:10.303Z"
   },
   {
    "duration": 239,
    "start_time": "2023-02-23T08:56:04.311Z"
   },
   {
    "duration": 456,
    "start_time": "2023-02-23T08:56:07.820Z"
   },
   {
    "duration": 332,
    "start_time": "2023-02-23T08:56:11.574Z"
   },
   {
    "duration": 340,
    "start_time": "2023-02-23T08:56:51.760Z"
   },
   {
    "duration": 327,
    "start_time": "2023-02-23T08:57:06.141Z"
   },
   {
    "duration": 477,
    "start_time": "2023-02-23T09:01:19.422Z"
   },
   {
    "duration": 367,
    "start_time": "2023-02-23T09:01:32.090Z"
   },
   {
    "duration": 425,
    "start_time": "2023-02-23T09:01:39.547Z"
   },
   {
    "duration": 355,
    "start_time": "2023-02-23T09:01:44.879Z"
   },
   {
    "duration": 756,
    "start_time": "2023-02-23T09:01:48.320Z"
   },
   {
    "duration": 463,
    "start_time": "2023-02-23T09:02:00.133Z"
   },
   {
    "duration": 403,
    "start_time": "2023-02-23T09:02:18.178Z"
   },
   {
    "duration": 443,
    "start_time": "2023-02-23T09:04:21.558Z"
   },
   {
    "duration": 316,
    "start_time": "2023-02-23T09:06:37.083Z"
   },
   {
    "duration": 251,
    "start_time": "2023-02-23T09:06:51.051Z"
   },
   {
    "duration": 223,
    "start_time": "2023-02-23T09:06:55.175Z"
   },
   {
    "duration": 312,
    "start_time": "2023-02-23T09:07:30.209Z"
   },
   {
    "duration": 406,
    "start_time": "2023-02-23T09:07:38.534Z"
   },
   {
    "duration": 54,
    "start_time": "2023-02-23T09:07:50.387Z"
   },
   {
    "duration": 281,
    "start_time": "2023-02-23T09:07:52.802Z"
   },
   {
    "duration": 268,
    "start_time": "2023-02-23T09:08:01.581Z"
   },
   {
    "duration": 263,
    "start_time": "2023-02-23T09:08:04.890Z"
   },
   {
    "duration": 278,
    "start_time": "2023-02-23T09:08:17.661Z"
   },
   {
    "duration": 425,
    "start_time": "2023-02-23T09:08:24.657Z"
   },
   {
    "duration": 440,
    "start_time": "2023-02-23T09:08:29.120Z"
   },
   {
    "duration": 312,
    "start_time": "2023-02-23T09:08:32.127Z"
   },
   {
    "duration": 295,
    "start_time": "2023-02-23T09:08:34.724Z"
   },
   {
    "duration": 302,
    "start_time": "2023-02-23T09:08:38.009Z"
   },
   {
    "duration": 10,
    "start_time": "2023-02-23T09:10:31.635Z"
   },
   {
    "duration": 116,
    "start_time": "2023-02-23T09:10:40.447Z"
   },
   {
    "duration": 110,
    "start_time": "2023-02-23T09:11:12.449Z"
   },
   {
    "duration": 121,
    "start_time": "2023-02-23T09:11:20.783Z"
   },
   {
    "duration": 473,
    "start_time": "2023-02-23T09:19:00.726Z"
   },
   {
    "duration": 210,
    "start_time": "2023-02-23T09:19:11.104Z"
   },
   {
    "duration": 266,
    "start_time": "2023-02-23T09:19:18.825Z"
   },
   {
    "duration": 233,
    "start_time": "2023-02-23T09:20:52.635Z"
   },
   {
    "duration": 233,
    "start_time": "2023-02-23T09:21:02.353Z"
   },
   {
    "duration": 253,
    "start_time": "2023-02-23T09:23:43.497Z"
   },
   {
    "duration": 394,
    "start_time": "2023-02-23T09:23:59.829Z"
   },
   {
    "duration": 270,
    "start_time": "2023-02-23T09:24:06.059Z"
   },
   {
    "duration": 236,
    "start_time": "2023-02-23T09:25:12.919Z"
   },
   {
    "duration": 256,
    "start_time": "2023-02-23T09:25:39.270Z"
   },
   {
    "duration": 242,
    "start_time": "2023-02-23T09:30:27.324Z"
   },
   {
    "duration": 246,
    "start_time": "2023-02-23T09:31:30.975Z"
   },
   {
    "duration": 260,
    "start_time": "2023-02-23T09:31:38.096Z"
   },
   {
    "duration": 279,
    "start_time": "2023-02-23T09:31:47.388Z"
   },
   {
    "duration": 415,
    "start_time": "2023-02-23T09:31:54.177Z"
   },
   {
    "duration": 269,
    "start_time": "2023-02-23T09:36:15.997Z"
   },
   {
    "duration": 262,
    "start_time": "2023-02-23T09:36:19.445Z"
   },
   {
    "duration": 329,
    "start_time": "2023-02-23T09:37:02.900Z"
   },
   {
    "duration": 310,
    "start_time": "2023-02-23T09:37:09.893Z"
   },
   {
    "duration": 268,
    "start_time": "2023-02-23T09:37:13.239Z"
   },
   {
    "duration": 259,
    "start_time": "2023-02-23T09:37:16.234Z"
   },
   {
    "duration": 264,
    "start_time": "2023-02-23T09:37:19.715Z"
   },
   {
    "duration": 401,
    "start_time": "2023-02-23T09:37:39.146Z"
   },
   {
    "duration": 269,
    "start_time": "2023-02-23T09:38:49.212Z"
   },
   {
    "duration": 257,
    "start_time": "2023-02-23T09:38:59.250Z"
   },
   {
    "duration": 274,
    "start_time": "2023-02-23T09:39:04.896Z"
   },
   {
    "duration": 289,
    "start_time": "2023-02-23T09:39:21.039Z"
   },
   {
    "duration": 252,
    "start_time": "2023-02-23T09:41:29.461Z"
   },
   {
    "duration": 304,
    "start_time": "2023-02-23T09:42:12.245Z"
   },
   {
    "duration": 429,
    "start_time": "2023-02-23T09:42:25.896Z"
   },
   {
    "duration": 286,
    "start_time": "2023-02-23T09:43:09.448Z"
   },
   {
    "duration": 290,
    "start_time": "2023-02-23T09:43:16.574Z"
   },
   {
    "duration": 288,
    "start_time": "2023-02-23T09:43:39.933Z"
   },
   {
    "duration": 437,
    "start_time": "2023-02-23T09:48:34.075Z"
   },
   {
    "duration": 334,
    "start_time": "2023-02-23T09:48:44.116Z"
   },
   {
    "duration": 493,
    "start_time": "2023-02-23T09:48:49.576Z"
   },
   {
    "duration": 472,
    "start_time": "2023-02-23T09:49:01.753Z"
   },
   {
    "duration": 359,
    "start_time": "2023-02-23T11:10:09.290Z"
   },
   {
    "duration": 334,
    "start_time": "2023-02-23T11:27:48.159Z"
   },
   {
    "duration": 344,
    "start_time": "2023-02-23T11:27:55.502Z"
   },
   {
    "duration": 240,
    "start_time": "2023-02-23T11:28:28.957Z"
   },
   {
    "duration": 423,
    "start_time": "2023-02-23T11:28:35.048Z"
   },
   {
    "duration": 233,
    "start_time": "2023-02-23T11:28:40.761Z"
   },
   {
    "duration": 291,
    "start_time": "2023-02-23T11:29:01.701Z"
   },
   {
    "duration": 241,
    "start_time": "2023-02-23T11:29:08.106Z"
   },
   {
    "duration": 239,
    "start_time": "2023-02-23T11:29:12.434Z"
   },
   {
    "duration": 282,
    "start_time": "2023-02-23T11:29:18.748Z"
   },
   {
    "duration": 286,
    "start_time": "2023-02-23T11:41:42.334Z"
   },
   {
    "duration": 401,
    "start_time": "2023-02-23T11:42:45.485Z"
   },
   {
    "duration": 334,
    "start_time": "2023-02-23T11:48:48.531Z"
   },
   {
    "duration": 6,
    "start_time": "2023-02-23T11:49:58.470Z"
   },
   {
    "duration": 150,
    "start_time": "2023-02-23T11:50:02.525Z"
   },
   {
    "duration": 162,
    "start_time": "2023-02-23T11:50:24.237Z"
   },
   {
    "duration": 364,
    "start_time": "2023-02-23T11:50:41.777Z"
   },
   {
    "duration": 384,
    "start_time": "2023-02-23T11:52:49.444Z"
   },
   {
    "duration": 591,
    "start_time": "2023-02-23T11:53:13.428Z"
   },
   {
    "duration": 458,
    "start_time": "2023-02-23T11:58:41.792Z"
   },
   {
    "duration": 824,
    "start_time": "2023-02-23T11:58:54.449Z"
   },
   {
    "duration": 675,
    "start_time": "2023-02-23T11:59:45.951Z"
   },
   {
    "duration": 656,
    "start_time": "2023-02-23T12:00:06.109Z"
   },
   {
    "duration": 753,
    "start_time": "2023-02-23T12:00:20.702Z"
   },
   {
    "duration": 460,
    "start_time": "2023-02-23T12:00:56.179Z"
   },
   {
    "duration": 254,
    "start_time": "2023-02-23T12:02:30.366Z"
   },
   {
    "duration": 269,
    "start_time": "2023-02-23T12:03:06.344Z"
   },
   {
    "duration": 154,
    "start_time": "2023-02-23T12:03:23.150Z"
   },
   {
    "duration": 128,
    "start_time": "2023-02-23T12:03:30.562Z"
   },
   {
    "duration": 242,
    "start_time": "2023-02-23T12:04:07.255Z"
   },
   {
    "duration": 159,
    "start_time": "2023-02-23T12:04:12.479Z"
   },
   {
    "duration": 498,
    "start_time": "2023-02-23T12:04:30.725Z"
   },
   {
    "duration": 265,
    "start_time": "2023-02-23T12:04:41.341Z"
   },
   {
    "duration": 526,
    "start_time": "2023-02-23T12:06:54.054Z"
   },
   {
    "duration": 499,
    "start_time": "2023-02-23T12:07:41.962Z"
   },
   {
    "duration": 939,
    "start_time": "2023-02-23T12:11:42.357Z"
   },
   {
    "duration": 731,
    "start_time": "2023-02-23T12:14:17.036Z"
   },
   {
    "duration": 986,
    "start_time": "2023-02-23T12:14:30.955Z"
   },
   {
    "duration": 700,
    "start_time": "2023-02-23T12:15:10.108Z"
   },
   {
    "duration": 128,
    "start_time": "2023-02-23T12:16:32.610Z"
   },
   {
    "duration": 235,
    "start_time": "2023-02-23T12:16:41.519Z"
   },
   {
    "duration": 420,
    "start_time": "2023-02-23T12:16:49.498Z"
   },
   {
    "duration": 247,
    "start_time": "2023-02-23T12:17:04.780Z"
   },
   {
    "duration": 996,
    "start_time": "2023-02-23T12:17:38.367Z"
   },
   {
    "duration": 261,
    "start_time": "2023-02-23T12:17:43.358Z"
   },
   {
    "duration": 231,
    "start_time": "2023-02-23T12:17:51.369Z"
   },
   {
    "duration": 397,
    "start_time": "2023-02-23T12:18:00.188Z"
   },
   {
    "duration": 1483,
    "start_time": "2023-02-23T12:18:10.667Z"
   },
   {
    "duration": 835,
    "start_time": "2023-02-23T12:18:19.213Z"
   },
   {
    "duration": 243,
    "start_time": "2023-02-23T12:18:24.385Z"
   },
   {
    "duration": 735,
    "start_time": "2023-02-23T12:18:32.033Z"
   },
   {
    "duration": 394,
    "start_time": "2023-02-23T12:18:37.060Z"
   },
   {
    "duration": 355,
    "start_time": "2023-02-23T12:24:37.191Z"
   },
   {
    "duration": 546,
    "start_time": "2023-02-23T12:26:51.505Z"
   },
   {
    "duration": 512,
    "start_time": "2023-02-23T12:27:31.082Z"
   },
   {
    "duration": 559,
    "start_time": "2023-02-23T12:27:40.361Z"
   },
   {
    "duration": 553,
    "start_time": "2023-02-23T12:27:51.995Z"
   },
   {
    "duration": 265,
    "start_time": "2023-02-23T12:27:56.283Z"
   },
   {
    "duration": 270,
    "start_time": "2023-02-23T12:28:02.860Z"
   },
   {
    "duration": 408,
    "start_time": "2023-02-23T12:28:12.606Z"
   },
   {
    "duration": 301,
    "start_time": "2023-02-23T12:28:30.617Z"
   },
   {
    "duration": 138,
    "start_time": "2023-02-23T12:31:00.434Z"
   },
   {
    "duration": 245,
    "start_time": "2023-02-23T12:31:07.859Z"
   },
   {
    "duration": 189,
    "start_time": "2023-02-23T12:31:14.262Z"
   },
   {
    "duration": 217,
    "start_time": "2023-02-23T12:32:36.117Z"
   },
   {
    "duration": 239,
    "start_time": "2023-02-23T12:33:43.655Z"
   },
   {
    "duration": 181,
    "start_time": "2023-02-23T12:33:54.270Z"
   },
   {
    "duration": 186,
    "start_time": "2023-02-23T12:36:03.943Z"
   },
   {
    "duration": 429,
    "start_time": "2023-02-23T12:36:40.995Z"
   },
   {
    "duration": 149,
    "start_time": "2023-02-23T12:36:45.462Z"
   },
   {
    "duration": 157,
    "start_time": "2023-02-23T12:36:50.715Z"
   },
   {
    "duration": 138,
    "start_time": "2023-02-23T12:36:58.746Z"
   },
   {
    "duration": 128,
    "start_time": "2023-02-23T12:37:53.730Z"
   },
   {
    "duration": 272,
    "start_time": "2023-02-23T12:38:35.331Z"
   },
   {
    "duration": 136,
    "start_time": "2023-02-23T12:38:41.601Z"
   },
   {
    "duration": 42,
    "start_time": "2023-02-23T12:39:31.536Z"
   },
   {
    "duration": 723,
    "start_time": "2023-02-23T12:40:11.063Z"
   },
   {
    "duration": 813,
    "start_time": "2023-02-23T12:40:19.633Z"
   },
   {
    "duration": 16,
    "start_time": "2023-02-23T12:40:32.479Z"
   },
   {
    "duration": 47,
    "start_time": "2023-02-23T12:40:39.181Z"
   },
   {
    "duration": 20,
    "start_time": "2023-02-23T12:42:37.822Z"
   },
   {
    "duration": 262,
    "start_time": "2023-02-23T12:52:29.010Z"
   },
   {
    "duration": 440,
    "start_time": "2023-02-23T12:53:08.280Z"
   },
   {
    "duration": 343,
    "start_time": "2023-02-23T12:53:33.956Z"
   },
   {
    "duration": 198,
    "start_time": "2023-02-23T12:57:14.039Z"
   },
   {
    "duration": 172,
    "start_time": "2023-02-23T12:57:18.179Z"
   },
   {
    "duration": 132,
    "start_time": "2023-02-23T12:57:26.025Z"
   },
   {
    "duration": 166,
    "start_time": "2023-02-23T12:57:30.242Z"
   },
   {
    "duration": 168,
    "start_time": "2023-02-23T12:57:53.365Z"
   },
   {
    "duration": 128,
    "start_time": "2023-02-23T12:59:33.101Z"
   },
   {
    "duration": 147,
    "start_time": "2023-02-23T13:13:25.673Z"
   },
   {
    "duration": 128,
    "start_time": "2023-02-23T13:13:44.876Z"
   },
   {
    "duration": 342,
    "start_time": "2023-02-23T13:14:47.507Z"
   },
   {
    "duration": 120,
    "start_time": "2023-02-23T13:15:37.947Z"
   },
   {
    "duration": 100,
    "start_time": "2023-02-23T13:34:31.098Z"
   },
   {
    "duration": 134,
    "start_time": "2023-02-23T13:37:19.970Z"
   },
   {
    "duration": 178,
    "start_time": "2023-02-23T13:42:12.069Z"
   },
   {
    "duration": 161,
    "start_time": "2023-02-23T13:47:27.171Z"
   },
   {
    "duration": 147,
    "start_time": "2023-02-23T13:47:38.805Z"
   },
   {
    "duration": 199,
    "start_time": "2023-02-23T14:07:58.468Z"
   },
   {
    "duration": 140,
    "start_time": "2023-02-23T14:08:08.107Z"
   },
   {
    "duration": 144,
    "start_time": "2023-02-23T14:08:25.085Z"
   },
   {
    "duration": 139,
    "start_time": "2023-02-23T14:10:25.842Z"
   },
   {
    "duration": 254,
    "start_time": "2023-02-23T14:10:30.928Z"
   },
   {
    "duration": 283,
    "start_time": "2023-02-23T14:11:06.809Z"
   },
   {
    "duration": 250,
    "start_time": "2023-02-23T14:11:29.522Z"
   },
   {
    "duration": 230,
    "start_time": "2023-02-23T14:11:37.791Z"
   },
   {
    "duration": 241,
    "start_time": "2023-02-23T14:11:40.717Z"
   },
   {
    "duration": 497,
    "start_time": "2023-02-23T16:39:10.098Z"
   },
   {
    "duration": 1955,
    "start_time": "2023-02-23T16:39:10.597Z"
   },
   {
    "duration": 5,
    "start_time": "2023-02-23T16:39:12.554Z"
   },
   {
    "duration": 42,
    "start_time": "2023-02-23T16:39:12.560Z"
   },
   {
    "duration": 18,
    "start_time": "2023-02-23T16:39:12.605Z"
   },
   {
    "duration": 10,
    "start_time": "2023-02-23T16:39:12.624Z"
   },
   {
    "duration": 28,
    "start_time": "2023-02-23T16:39:12.636Z"
   },
   {
    "duration": 29,
    "start_time": "2023-02-23T16:39:12.666Z"
   },
   {
    "duration": 9,
    "start_time": "2023-02-23T16:39:12.697Z"
   },
   {
    "duration": 8,
    "start_time": "2023-02-23T16:39:12.708Z"
   },
   {
    "duration": 7,
    "start_time": "2023-02-23T16:39:12.718Z"
   },
   {
    "duration": 70,
    "start_time": "2023-02-23T16:39:12.727Z"
   },
   {
    "duration": 1939,
    "start_time": "2023-02-23T16:39:12.798Z"
   },
   {
    "duration": 30,
    "start_time": "2023-02-23T16:39:14.739Z"
   },
   {
    "duration": 1886,
    "start_time": "2023-02-23T16:39:14.770Z"
   },
   {
    "duration": 227,
    "start_time": "2023-02-23T16:39:16.658Z"
   },
   {
    "duration": 191,
    "start_time": "2023-02-23T16:39:16.887Z"
   },
   {
    "duration": 396,
    "start_time": "2023-02-23T16:39:17.080Z"
   },
   {
    "duration": 247,
    "start_time": "2023-02-23T16:39:17.477Z"
   },
   {
    "duration": 329,
    "start_time": "2023-02-23T16:39:17.726Z"
   },
   {
    "duration": 268,
    "start_time": "2023-02-23T16:39:18.056Z"
   },
   {
    "duration": 141,
    "start_time": "2023-02-23T16:39:18.325Z"
   },
   {
    "duration": 232,
    "start_time": "2023-02-23T16:39:18.467Z"
   },
   {
    "duration": 131,
    "start_time": "2023-02-23T16:39:18.701Z"
   },
   {
    "duration": 273,
    "start_time": "2023-02-23T16:39:18.833Z"
   },
   {
    "duration": 116,
    "start_time": "2023-02-23T16:39:19.107Z"
   },
   {
    "duration": 102,
    "start_time": "2023-02-23T16:39:19.224Z"
   },
   {
    "duration": 192,
    "start_time": "2023-02-23T16:39:19.328Z"
   },
   {
    "duration": 524,
    "start_time": "2023-02-23T16:39:19.521Z"
   },
   {
    "duration": 6,
    "start_time": "2023-02-23T16:39:20.047Z"
   },
   {
    "duration": 615,
    "start_time": "2023-02-23T16:39:20.054Z"
   },
   {
    "duration": 33,
    "start_time": "2023-02-23T16:39:20.671Z"
   },
   {
    "duration": 141,
    "start_time": "2023-02-23T16:39:20.705Z"
   }
  ],
  "kernelspec": {
   "display_name": "Python 3 (ipykernel)",
   "language": "python",
   "name": "python3"
  },
  "language_info": {
   "codemirror_mode": {
    "name": "ipython",
    "version": 3
   },
   "file_extension": ".py",
   "mimetype": "text/x-python",
   "name": "python",
   "nbconvert_exporter": "python",
   "pygments_lexer": "ipython3",
   "version": "3.9.18"
  },
  "toc": {
   "base_numbering": 1,
   "nav_menu": {},
   "number_sections": true,
   "sideBar": true,
   "skip_h1_title": true,
   "title_cell": "Table of Contents",
   "title_sidebar": "Contents",
   "toc_cell": false,
   "toc_position": {
    "height": "calc(100% - 180px)",
    "left": "10px",
    "top": "150px",
    "width": "199.782px"
   },
   "toc_section_display": true,
   "toc_window_display": true
  }
 },
 "nbformat": 4,
 "nbformat_minor": 2
}
